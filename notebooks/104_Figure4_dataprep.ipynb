{
 "cells": [
  {
   "cell_type": "code",
   "execution_count": 1,
   "id": "b1f1c1ea",
   "metadata": {},
   "outputs": [
    {
     "data": {
      "application/javascript": [
       "\n",
       "            setTimeout(function() {\n",
       "                var nbb_cell_id = 1;\n",
       "                var nbb_unformatted_code = \"%load_ext nb_black\";\n",
       "                var nbb_formatted_code = \"%load_ext nb_black\";\n",
       "                var nbb_cells = Jupyter.notebook.get_cells();\n",
       "                for (var i = 0; i < nbb_cells.length; ++i) {\n",
       "                    if (nbb_cells[i].input_prompt_number == nbb_cell_id) {\n",
       "                        if (nbb_cells[i].get_text() == nbb_unformatted_code) {\n",
       "                             nbb_cells[i].set_text(nbb_formatted_code);\n",
       "                        }\n",
       "                        break;\n",
       "                    }\n",
       "                }\n",
       "            }, 500);\n",
       "            "
      ],
      "text/plain": [
       "<IPython.core.display.Javascript object>"
      ]
     },
     "metadata": {},
     "output_type": "display_data"
    }
   ],
   "source": [
    "%load_ext nb_black"
   ]
  },
  {
   "cell_type": "code",
   "execution_count": 2,
   "id": "899e90a1",
   "metadata": {},
   "outputs": [
    {
     "data": {
      "application/javascript": [
       "if (typeof IPython !== 'undefined') { IPython.OutputArea.prototype._should_scroll = function(lines){ return false; }}"
      ],
      "text/plain": [
       "<IPython.core.display.Javascript object>"
      ]
     },
     "metadata": {},
     "output_type": "display_data"
    },
    {
     "data": {
      "application/javascript": [
       "\n",
       "            setTimeout(function() {\n",
       "                var nbb_cell_id = 2;\n",
       "                var nbb_unformatted_code = \"import os.path\\nfrom pathlib import Path\\n\\nimport scmdata\\nimport json\\nimport pyam\\nimport pandas as pd\\nimport numpy as np\\nimport matplotlib.pyplot as plt\\n\\nimport utils\\nimport warnings\\n\\nwarnings.simplefilter(action=\\\"ignore\\\", category=FutureWarning)\";\n",
       "                var nbb_formatted_code = \"import os.path\\nfrom pathlib import Path\\n\\nimport scmdata\\nimport json\\nimport pyam\\nimport pandas as pd\\nimport numpy as np\\nimport matplotlib.pyplot as plt\\n\\nimport utils\\nimport warnings\\n\\nwarnings.simplefilter(action=\\\"ignore\\\", category=FutureWarning)\";\n",
       "                var nbb_cells = Jupyter.notebook.get_cells();\n",
       "                for (var i = 0; i < nbb_cells.length; ++i) {\n",
       "                    if (nbb_cells[i].input_prompt_number == nbb_cell_id) {\n",
       "                        if (nbb_cells[i].get_text() == nbb_unformatted_code) {\n",
       "                             nbb_cells[i].set_text(nbb_formatted_code);\n",
       "                        }\n",
       "                        break;\n",
       "                    }\n",
       "                }\n",
       "            }, 500);\n",
       "            "
      ],
      "text/plain": [
       "<IPython.core.display.Javascript object>"
      ]
     },
     "metadata": {},
     "output_type": "display_data"
    }
   ],
   "source": [
    "import os.path\n",
    "from pathlib import Path\n",
    "\n",
    "import scmdata\n",
    "import json\n",
    "import pyam\n",
    "import pandas as pd\n",
    "import numpy as np\n",
    "import matplotlib.pyplot as plt\n",
    "\n",
    "import utils\n",
    "import warnings\n",
    "\n",
    "warnings.simplefilter(action=\"ignore\", category=FutureWarning)"
   ]
  },
  {
   "cell_type": "code",
   "execution_count": 5,
   "id": "16fe67ba",
   "metadata": {},
   "outputs": [
    {
     "data": {
      "application/javascript": [
       "\n",
       "            setTimeout(function() {\n",
       "                var nbb_cell_id = 5;\n",
       "                var nbb_unformatted_code = \"ID = \\\"sb_noSRM_inclu\\\"\";\n",
       "                var nbb_formatted_code = \"ID = \\\"sb_noSRM_inclu\\\"\";\n",
       "                var nbb_cells = Jupyter.notebook.get_cells();\n",
       "                for (var i = 0; i < nbb_cells.length; ++i) {\n",
       "                    if (nbb_cells[i].input_prompt_number == nbb_cell_id) {\n",
       "                        if (nbb_cells[i].get_text() == nbb_unformatted_code) {\n",
       "                             nbb_cells[i].set_text(nbb_formatted_code);\n",
       "                        }\n",
       "                        break;\n",
       "                    }\n",
       "                }\n",
       "            }, 500);\n",
       "            "
      ],
      "text/plain": [
       "<IPython.core.display.Javascript object>"
      ]
     },
     "metadata": {},
     "output_type": "display_data"
    }
   ],
   "source": [
    "ID = \"sb_noSRM_inclu\""
   ]
  },
  {
   "cell_type": "code",
   "execution_count": 6,
   "id": "10e17a04",
   "metadata": {},
   "outputs": [
    {
     "data": {
      "application/javascript": [
       "\n",
       "            setTimeout(function() {\n",
       "                var nbb_cell_id = 6;\n",
       "                var nbb_unformatted_code = \"data = pd.read_csv(\\n    str(Path(utils.DATA_DIR / \\\"interim\\\" / \\\"delta_rf\\\" / f\\\"{ID}_delta-erf_meta.csv\\\"))\\n)\\nOUTPUT_FILE = Path(utils.DATA_DIR / \\\"plotting_data\\\" / \\\"figure4\\\" / f\\\"{ID}.csv\\\")\";\n",
       "                var nbb_formatted_code = \"data = pd.read_csv(\\n    str(Path(utils.DATA_DIR / \\\"interim\\\" / \\\"delta_rf\\\" / f\\\"{ID}_delta-erf_meta.csv\\\"))\\n)\\nOUTPUT_FILE = Path(utils.DATA_DIR / \\\"plotting_data\\\" / \\\"figure4\\\" / f\\\"{ID}.csv\\\")\";\n",
       "                var nbb_cells = Jupyter.notebook.get_cells();\n",
       "                for (var i = 0; i < nbb_cells.length; ++i) {\n",
       "                    if (nbb_cells[i].input_prompt_number == nbb_cell_id) {\n",
       "                        if (nbb_cells[i].get_text() == nbb_unformatted_code) {\n",
       "                             nbb_cells[i].set_text(nbb_formatted_code);\n",
       "                        }\n",
       "                        break;\n",
       "                    }\n",
       "                }\n",
       "            }, 500);\n",
       "            "
      ],
      "text/plain": [
       "<IPython.core.display.Javascript object>"
      ]
     },
     "metadata": {},
     "output_type": "display_data"
    }
   ],
   "source": [
    "data = pd.read_csv(\n",
    "    str(Path(utils.DATA_DIR / \"interim\" / \"delta_rf\" / f\"{ID}_delta-erf_meta.csv\"))\n",
    ")\n",
    "OUTPUT_FILE = Path(utils.DATA_DIR / \"plotting_data\" / \"figure4\" / f\"{ID}.csv\")"
   ]
  },
  {
   "cell_type": "markdown",
   "id": "2182b702",
   "metadata": {},
   "source": [
    "Filter out one of the variables (doesn't matter which)"
   ]
  },
  {
   "cell_type": "code",
   "execution_count": 8,
   "id": "9bf11371",
   "metadata": {},
   "outputs": [
    {
     "data": {
      "application/javascript": [
       "\n",
       "            setTimeout(function() {\n",
       "                var nbb_cell_id = 8;\n",
       "                var nbb_unformatted_code = \"data = data[data[\\\"variable\\\"] == \\\"Surface Air Temperature Change\\\"]\";\n",
       "                var nbb_formatted_code = \"data = data[data[\\\"variable\\\"] == \\\"Surface Air Temperature Change\\\"]\";\n",
       "                var nbb_cells = Jupyter.notebook.get_cells();\n",
       "                for (var i = 0; i < nbb_cells.length; ++i) {\n",
       "                    if (nbb_cells[i].input_prompt_number == nbb_cell_id) {\n",
       "                        if (nbb_cells[i].get_text() == nbb_unformatted_code) {\n",
       "                             nbb_cells[i].set_text(nbb_formatted_code);\n",
       "                        }\n",
       "                        break;\n",
       "                    }\n",
       "                }\n",
       "            }, 500);\n",
       "            "
      ],
      "text/plain": [
       "<IPython.core.display.Javascript object>"
      ]
     },
     "metadata": {},
     "output_type": "display_data"
    }
   ],
   "source": [
    "data = data[data[\"variable\"] == \"Surface Air Temperature Change\"]"
   ]
  },
  {
   "cell_type": "markdown",
   "id": "cb835905",
   "metadata": {},
   "source": [
    "Filter out pathways with SRM deployment"
   ]
  },
  {
   "cell_type": "code",
   "execution_count": 9,
   "id": "e9e2893e",
   "metadata": {},
   "outputs": [
    {
     "data": {
      "application/javascript": [
       "\n",
       "            setTimeout(function() {\n",
       "                var nbb_cell_id = 9;\n",
       "                var nbb_unformatted_code = \"data = data[\\n    (data[\\\"year_return_back_below_15_temp\\\"] < 2501)\\n    & (data[\\\"year_return_back_below_15_temp\\\"] > 2029)\\n]\";\n",
       "                var nbb_formatted_code = \"data = data[\\n    (data[\\\"year_return_back_below_15_temp\\\"] < 2501)\\n    & (data[\\\"year_return_back_below_15_temp\\\"] > 2029)\\n]\";\n",
       "                var nbb_cells = Jupyter.notebook.get_cells();\n",
       "                for (var i = 0; i < nbb_cells.length; ++i) {\n",
       "                    if (nbb_cells[i].input_prompt_number == nbb_cell_id) {\n",
       "                        if (nbb_cells[i].get_text() == nbb_unformatted_code) {\n",
       "                             nbb_cells[i].set_text(nbb_formatted_code);\n",
       "                        }\n",
       "                        break;\n",
       "                    }\n",
       "                }\n",
       "            }, 500);\n",
       "            "
      ],
      "text/plain": [
       "<IPython.core.display.Javascript object>"
      ]
     },
     "metadata": {},
     "output_type": "display_data"
    }
   ],
   "source": [
    "data = data[\n",
    "    (data[\"year_return_back_below_15_temp\"] < 2501)\n",
    "    & (data[\"year_return_back_below_15_temp\"] > 2029)\n",
    "]"
   ]
  },
  {
   "cell_type": "markdown",
   "id": "e7ac7b4c",
   "metadata": {},
   "source": [
    "Select relevant columns"
   ]
  },
  {
   "cell_type": "code",
   "execution_count": 10,
   "id": "383b1c25",
   "metadata": {},
   "outputs": [
    {
     "data": {
      "application/javascript": [
       "\n",
       "            setTimeout(function() {\n",
       "                var nbb_cell_id = 10;\n",
       "                var nbb_unformatted_code = \"data_sel = data.filter(\\n    [\\n        \\\"ms\\\",\\n        \\\"ensemble_member\\\",\\n        \\\"max_CDR\\\",\\n        \\\"SRM_years\\\",\\n        \\\"average_cdr_between_peak_and_15_temp\\\",\\n    ],\\n    axis=1,  # add TCRE\\n).reset_index(drop=True)\";\n",
       "                var nbb_formatted_code = \"data_sel = data.filter(\\n    [\\n        \\\"ms\\\",\\n        \\\"ensemble_member\\\",\\n        \\\"max_CDR\\\",\\n        \\\"SRM_years\\\",\\n        \\\"average_cdr_between_peak_and_15_temp\\\",\\n    ],\\n    axis=1,  # add TCRE\\n).reset_index(drop=True)\";\n",
       "                var nbb_cells = Jupyter.notebook.get_cells();\n",
       "                for (var i = 0; i < nbb_cells.length; ++i) {\n",
       "                    if (nbb_cells[i].input_prompt_number == nbb_cell_id) {\n",
       "                        if (nbb_cells[i].get_text() == nbb_unformatted_code) {\n",
       "                             nbb_cells[i].set_text(nbb_formatted_code);\n",
       "                        }\n",
       "                        break;\n",
       "                    }\n",
       "                }\n",
       "            }, 500);\n",
       "            "
      ],
      "text/plain": [
       "<IPython.core.display.Javascript object>"
      ]
     },
     "metadata": {},
     "output_type": "display_data"
    }
   ],
   "source": [
    "data_sel = data.filter(\n",
    "    [\n",
    "        \"ms\",\n",
    "        \"ensemble_member\",\n",
    "        \"max_CDR\",\n",
    "        \"SRM_years\",\n",
    "        \"average_cdr_between_peak_and_15_temp\",\n",
    "    ],\n",
    "    axis=1,  # add TCRE\n",
    ").reset_index(drop=True)"
   ]
  },
  {
   "cell_type": "markdown",
   "id": "9dab53b2",
   "metadata": {},
   "source": [
    "Save"
   ]
  },
  {
   "cell_type": "code",
   "execution_count": 11,
   "id": "a77e3982",
   "metadata": {},
   "outputs": [
    {
     "data": {
      "application/javascript": [
       "\n",
       "            setTimeout(function() {\n",
       "                var nbb_cell_id = 11;\n",
       "                var nbb_unformatted_code = \"data_sel.to_csv(OUTPUT_FILE)\";\n",
       "                var nbb_formatted_code = \"data_sel.to_csv(OUTPUT_FILE)\";\n",
       "                var nbb_cells = Jupyter.notebook.get_cells();\n",
       "                for (var i = 0; i < nbb_cells.length; ++i) {\n",
       "                    if (nbb_cells[i].input_prompt_number == nbb_cell_id) {\n",
       "                        if (nbb_cells[i].get_text() == nbb_unformatted_code) {\n",
       "                             nbb_cells[i].set_text(nbb_formatted_code);\n",
       "                        }\n",
       "                        break;\n",
       "                    }\n",
       "                }\n",
       "            }, 500);\n",
       "            "
      ],
      "text/plain": [
       "<IPython.core.display.Javascript object>"
      ]
     },
     "metadata": {},
     "output_type": "display_data"
    }
   ],
   "source": [
    "data_sel.to_csv(OUTPUT_FILE)"
   ]
  },
  {
   "cell_type": "code",
   "execution_count": null,
   "id": "a77f9195",
   "metadata": {},
   "outputs": [],
   "source": []
  }
 ],
 "metadata": {
  "kernelspec": {
   "display_name": "Python 3 (ipykernel)",
   "language": "python",
   "name": "python3"
  },
  "language_info": {
   "codemirror_mode": {
    "name": "ipython",
    "version": 3
   },
   "file_extension": ".py",
   "mimetype": "text/x-python",
   "name": "python",
   "nbconvert_exporter": "python",
   "pygments_lexer": "ipython3",
   "version": "3.9.13"
  }
 },
 "nbformat": 4,
 "nbformat_minor": 5
}
