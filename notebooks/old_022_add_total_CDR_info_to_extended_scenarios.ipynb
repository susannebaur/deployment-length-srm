{
 "cells": [
  {
   "cell_type": "code",
   "execution_count": 4,
   "id": "4b1f5839",
   "metadata": {},
   "outputs": [
    {
     "name": "stdout",
     "output_type": "stream",
     "text": [
      "The nb_black extension is already loaded. To reload it, use:\n",
      "  %reload_ext nb_black\n"
     ]
    },
    {
     "data": {
      "application/javascript": [
       "\n",
       "            setTimeout(function() {\n",
       "                var nbb_cell_id = 4;\n",
       "                var nbb_unformatted_code = \"%load_ext nb_black\";\n",
       "                var nbb_formatted_code = \"%load_ext nb_black\";\n",
       "                var nbb_cells = Jupyter.notebook.get_cells();\n",
       "                for (var i = 0; i < nbb_cells.length; ++i) {\n",
       "                    if (nbb_cells[i].input_prompt_number == nbb_cell_id) {\n",
       "                        if (nbb_cells[i].get_text() == nbb_unformatted_code) {\n",
       "                             nbb_cells[i].set_text(nbb_formatted_code);\n",
       "                        }\n",
       "                        break;\n",
       "                    }\n",
       "                }\n",
       "            }, 500);\n",
       "            "
      ],
      "text/plain": [
       "<IPython.core.display.Javascript object>"
      ]
     },
     "metadata": {},
     "output_type": "display_data"
    }
   ],
   "source": [
    "%load_ext nb_black"
   ]
  },
  {
   "cell_type": "code",
   "execution_count": 11,
   "id": "afaba94c",
   "metadata": {},
   "outputs": [
    {
     "data": {
      "application/javascript": [
       "\n",
       "            setTimeout(function() {\n",
       "                var nbb_cell_id = 11;\n",
       "                var nbb_unformatted_code = \"import os.path\\nfrom pathlib import Path\\n\\nimport json\\nimport pyam\\nimport scmdata\\nimport pandas as pd\\nimport numpy as np\\nimport tqdm.autonotebook as tqdman\\nfrom pymagicc.io import MAGICCData\\n\\nimport utils\\n\\n## plotting packages\\nimport seaborn as sns\\nimport matplotlib.pyplot as plt\\n\\nimport warnings\\n\\nwarnings.simplefilter(action=\\\"ignore\\\", category=FutureWarning)\\npd.options.mode.chained_assignment = None  # default='warn'\";\n",
       "                var nbb_formatted_code = \"import os.path\\nfrom pathlib import Path\\n\\nimport json\\nimport pyam\\nimport scmdata\\nimport pandas as pd\\nimport numpy as np\\nimport tqdm.autonotebook as tqdman\\nfrom pymagicc.io import MAGICCData\\n\\nimport utils\\n\\n## plotting packages\\nimport seaborn as sns\\nimport matplotlib.pyplot as plt\\n\\nimport warnings\\n\\nwarnings.simplefilter(action=\\\"ignore\\\", category=FutureWarning)\\npd.options.mode.chained_assignment = None  # default='warn'\";\n",
       "                var nbb_cells = Jupyter.notebook.get_cells();\n",
       "                for (var i = 0; i < nbb_cells.length; ++i) {\n",
       "                    if (nbb_cells[i].input_prompt_number == nbb_cell_id) {\n",
       "                        if (nbb_cells[i].get_text() == nbb_unformatted_code) {\n",
       "                             nbb_cells[i].set_text(nbb_formatted_code);\n",
       "                        }\n",
       "                        break;\n",
       "                    }\n",
       "                }\n",
       "            }, 500);\n",
       "            "
      ],
      "text/plain": [
       "<IPython.core.display.Javascript object>"
      ]
     },
     "metadata": {},
     "output_type": "display_data"
    }
   ],
   "source": [
    "import os.path\n",
    "from pathlib import Path\n",
    "\n",
    "import json\n",
    "import pyam\n",
    "import scmdata\n",
    "import pandas as pd\n",
    "import numpy as np\n",
    "import tqdm.autonotebook as tqdman\n",
    "from pymagicc.io import MAGICCData\n",
    "\n",
    "import utils\n",
    "\n",
    "## plotting packages\n",
    "import seaborn as sns\n",
    "import matplotlib.pyplot as plt\n",
    "\n",
    "import warnings\n",
    "\n",
    "warnings.simplefilter(action=\"ignore\", category=FutureWarning)\n",
    "pd.options.mode.chained_assignment = None  # default='warn'"
   ]
  },
  {
   "cell_type": "code",
   "execution_count": 12,
   "id": "3a7209f9",
   "metadata": {},
   "outputs": [
    {
     "data": {
      "application/javascript": [
       "\n",
       "            setTimeout(function() {\n",
       "                var nbb_cell_id = 12;\n",
       "                var nbb_unformatted_code = \"# number of scenarios\\nNR_SCEN = 200\";\n",
       "                var nbb_formatted_code = \"# number of scenarios\\nNR_SCEN = 200\";\n",
       "                var nbb_cells = Jupyter.notebook.get_cells();\n",
       "                for (var i = 0; i < nbb_cells.length; ++i) {\n",
       "                    if (nbb_cells[i].input_prompt_number == nbb_cell_id) {\n",
       "                        if (nbb_cells[i].get_text() == nbb_unformatted_code) {\n",
       "                             nbb_cells[i].set_text(nbb_formatted_code);\n",
       "                        }\n",
       "                        break;\n",
       "                    }\n",
       "                }\n",
       "            }, 500);\n",
       "            "
      ],
      "text/plain": [
       "<IPython.core.display.Javascript object>"
      ]
     },
     "metadata": {},
     "output_type": "display_data"
    }
   ],
   "source": [
    "# number of scenarios\n",
    "NR_SCEN = 200"
   ]
  },
  {
   "cell_type": "code",
   "execution_count": 34,
   "id": "10e780b8",
   "metadata": {},
   "outputs": [
    {
     "data": {
      "application/javascript": [
       "\n",
       "            setTimeout(function() {\n",
       "                var nbb_cell_id = 34;\n",
       "                var nbb_unformatted_code = \"SRM_START_YEAR = 2030\\nENSEMBLE = list(range(0, 600 + 1))\\nYEARS = range(2030, 2500 + 1)\\nID = \\\"small_selection\\\"\\n\\nSCENARIOS_min = [0, 100, 200, 300]\\nSCENARIOS_max = [99, 199, 299, 355]\\n\\nSCENARIOS_min = [0, 10, 51, 101, 151]\\nSCENARIOS_max = [9, 50, 100, 150, 200]\";\n",
       "                var nbb_formatted_code = \"SRM_START_YEAR = 2030\\nENSEMBLE = list(range(0, 600 + 1))\\nYEARS = range(2030, 2500 + 1)\\nID = \\\"small_selection\\\"\\n\\nSCENARIOS_min = [0, 100, 200, 300]\\nSCENARIOS_max = [99, 199, 299, 355]\\n\\nSCENARIOS_min = [0, 10, 51, 101, 151]\\nSCENARIOS_max = [9, 50, 100, 150, 200]\";\n",
       "                var nbb_cells = Jupyter.notebook.get_cells();\n",
       "                for (var i = 0; i < nbb_cells.length; ++i) {\n",
       "                    if (nbb_cells[i].input_prompt_number == nbb_cell_id) {\n",
       "                        if (nbb_cells[i].get_text() == nbb_unformatted_code) {\n",
       "                             nbb_cells[i].set_text(nbb_formatted_code);\n",
       "                        }\n",
       "                        break;\n",
       "                    }\n",
       "                }\n",
       "            }, 500);\n",
       "            "
      ],
      "text/plain": [
       "<IPython.core.display.Javascript object>"
      ]
     },
     "metadata": {},
     "output_type": "display_data"
    }
   ],
   "source": [
    "SRM_START_YEAR = 2030\n",
    "ENSEMBLE = list(range(0, 600 + 1))\n",
    "YEARS = range(2030, 2500 + 1)\n",
    "ID = \"small_selection\"\n",
    "\n",
    "SCENARIOS_min = [0, 100, 200, 300]\n",
    "SCENARIOS_max = [99, 199, 299, 355]\n",
    "\n",
    "SCENARIOS_min = [0, 10, 51, 101, 151]\n",
    "SCENARIOS_max = [9, 50, 100, 150, 200]"
   ]
  },
  {
   "cell_type": "code",
   "execution_count": 35,
   "id": "29d22a47",
   "metadata": {},
   "outputs": [
    {
     "data": {
      "application/javascript": [
       "\n",
       "            setTimeout(function() {\n",
       "                var nbb_cell_id = 35;\n",
       "                var nbb_unformatted_code = \"OUTPUT_FILE = (\\n    utils.DATA_DIR\\n    / \\\"interim\\\"\\n    / \\\"magicc-output\\\"\\n    / f\\\"magicc-output_{ID}_{SCENARIOS_min[0]}_{SCENARIOS_max[0]}_totalCDR.csv\\\"\\n)\\nOUTPUT_FILE.parent.parent.mkdir(exist_ok=True)\\nOUTPUT_FILE.parent.mkdir(exist_ok=True)\";\n",
       "                var nbb_formatted_code = \"OUTPUT_FILE = (\\n    utils.DATA_DIR\\n    / \\\"interim\\\"\\n    / \\\"magicc-output\\\"\\n    / f\\\"magicc-output_{ID}_{SCENARIOS_min[0]}_{SCENARIOS_max[0]}_totalCDR.csv\\\"\\n)\\nOUTPUT_FILE.parent.parent.mkdir(exist_ok=True)\\nOUTPUT_FILE.parent.mkdir(exist_ok=True)\";\n",
       "                var nbb_cells = Jupyter.notebook.get_cells();\n",
       "                for (var i = 0; i < nbb_cells.length; ++i) {\n",
       "                    if (nbb_cells[i].input_prompt_number == nbb_cell_id) {\n",
       "                        if (nbb_cells[i].get_text() == nbb_unformatted_code) {\n",
       "                             nbb_cells[i].set_text(nbb_formatted_code);\n",
       "                        }\n",
       "                        break;\n",
       "                    }\n",
       "                }\n",
       "            }, 500);\n",
       "            "
      ],
      "text/plain": [
       "<IPython.core.display.Javascript object>"
      ]
     },
     "metadata": {},
     "output_type": "display_data"
    }
   ],
   "source": [
    "OUTPUT_FILE = (\n",
    "    utils.DATA_DIR\n",
    "    / \"interim\"\n",
    "    / \"magicc-output\"\n",
    "    / f\"magicc-output_{ID}_{SCENARIOS_min[0]}_{SCENARIOS_max[0]}_totalCDR.csv\"\n",
    ")\n",
    "OUTPUT_FILE.parent.parent.mkdir(exist_ok=True)\n",
    "OUTPUT_FILE.parent.mkdir(exist_ok=True)"
   ]
  },
  {
   "cell_type": "markdown",
   "id": "8b898679",
   "metadata": {},
   "source": [
    "#### Extended scenario temperature data from 021"
   ]
  },
  {
   "cell_type": "code",
   "execution_count": 36,
   "id": "31b20486",
   "metadata": {},
   "outputs": [
    {
     "data": {
      "application/vnd.jupyter.widget-view+json": {
       "model_id": "bf94a733c1e643b5a68fe972384eb27e",
       "version_major": 2,
       "version_minor": 0
      },
      "text/plain": [
       "0it [00:00, ?it/s]"
      ]
     },
     "metadata": {},
     "output_type": "display_data"
    },
    {
     "data": {
      "text/plain": [
       "196"
      ]
     },
     "execution_count": 36,
     "metadata": {},
     "output_type": "execute_result"
    },
    {
     "data": {
      "application/javascript": [
       "\n",
       "            setTimeout(function() {\n",
       "                var nbb_cell_id = 36;\n",
       "                var nbb_unformatted_code = \"datasets = []\\n\\nfor min_, max_ in tqdman.tqdm(zip(SCENARIOS_min, SCENARIOS_max)):\\n    DATA_FILE = Path(\\n        utils.DATA_DIR\\n        / \\\"interim\\\"\\n        / \\\"magicc-output\\\"\\n        / f\\\"magicc-output_{ID}_{min_}_{max_}.csv\\\"\\n    )\\n    datasets.append(scmdata.ScmRun(str(DATA_FILE)))\\n# data_scen = datasets[0].append(datasets[1])\\n# data_scen = data_scen.append(datasets[2])\\ndata_scen = scmdata.run_append(datasets)\\n# data_scen = datasets[0]\\ndata_scen[\\\"ms\\\"] = data_scen[\\\"model\\\"] + data_scen[\\\"scenario\\\"]\\nms_list = data_scen.get_unique_meta(\\\"ms\\\")\\nlen(ms_list)\";\n",
       "                var nbb_formatted_code = \"datasets = []\\n\\nfor min_, max_ in tqdman.tqdm(zip(SCENARIOS_min, SCENARIOS_max)):\\n    DATA_FILE = Path(\\n        utils.DATA_DIR\\n        / \\\"interim\\\"\\n        / \\\"magicc-output\\\"\\n        / f\\\"magicc-output_{ID}_{min_}_{max_}.csv\\\"\\n    )\\n    datasets.append(scmdata.ScmRun(str(DATA_FILE)))\\n# data_scen = datasets[0].append(datasets[1])\\n# data_scen = data_scen.append(datasets[2])\\ndata_scen = scmdata.run_append(datasets)\\n# data_scen = datasets[0]\\ndata_scen[\\\"ms\\\"] = data_scen[\\\"model\\\"] + data_scen[\\\"scenario\\\"]\\nms_list = data_scen.get_unique_meta(\\\"ms\\\")\\nlen(ms_list)\";\n",
       "                var nbb_cells = Jupyter.notebook.get_cells();\n",
       "                for (var i = 0; i < nbb_cells.length; ++i) {\n",
       "                    if (nbb_cells[i].input_prompt_number == nbb_cell_id) {\n",
       "                        if (nbb_cells[i].get_text() == nbb_unformatted_code) {\n",
       "                             nbb_cells[i].set_text(nbb_formatted_code);\n",
       "                        }\n",
       "                        break;\n",
       "                    }\n",
       "                }\n",
       "            }, 500);\n",
       "            "
      ],
      "text/plain": [
       "<IPython.core.display.Javascript object>"
      ]
     },
     "metadata": {},
     "output_type": "display_data"
    }
   ],
   "source": [
    "datasets = []\n",
    "\n",
    "for min_, max_ in tqdman.tqdm(zip(SCENARIOS_min, SCENARIOS_max)):\n",
    "    DATA_FILE = Path(\n",
    "        utils.DATA_DIR\n",
    "        / \"interim\"\n",
    "        / \"magicc-output\"\n",
    "        / f\"magicc-output_{ID}_{min_}_{max_}.csv\"\n",
    "    )\n",
    "    datasets.append(scmdata.ScmRun(str(DATA_FILE)))\n",
    "# data_scen = datasets[0].append(datasets[1])\n",
    "# data_scen = data_scen.append(datasets[2])\n",
    "data_scen = scmdata.run_append(datasets)\n",
    "# data_scen = datasets[0]\n",
    "data_scen[\"ms\"] = data_scen[\"model\"] + data_scen[\"scenario\"]\n",
    "ms_list = data_scen.get_unique_meta(\"ms\")\n",
    "len(ms_list)"
   ]
  },
  {
   "cell_type": "code",
   "execution_count": 37,
   "id": "08b8af13",
   "metadata": {
    "scrolled": true
   },
   "outputs": [
    {
     "data": {
      "text/plain": [
       "196"
      ]
     },
     "execution_count": 37,
     "metadata": {},
     "output_type": "execute_result"
    },
    {
     "data": {
      "application/javascript": [
       "\n",
       "            setTimeout(function() {\n",
       "                var nbb_cell_id = 37;\n",
       "                var nbb_unformatted_code = \"len(ms_list)\";\n",
       "                var nbb_formatted_code = \"len(ms_list)\";\n",
       "                var nbb_cells = Jupyter.notebook.get_cells();\n",
       "                for (var i = 0; i < nbb_cells.length; ++i) {\n",
       "                    if (nbb_cells[i].input_prompt_number == nbb_cell_id) {\n",
       "                        if (nbb_cells[i].get_text() == nbb_unformatted_code) {\n",
       "                             nbb_cells[i].set_text(nbb_formatted_code);\n",
       "                        }\n",
       "                        break;\n",
       "                    }\n",
       "                }\n",
       "            }, 500);\n",
       "            "
      ],
      "text/plain": [
       "<IPython.core.display.Javascript object>"
      ]
     },
     "metadata": {},
     "output_type": "display_data"
    }
   ],
   "source": [
    "len(ms_list)"
   ]
  },
  {
   "cell_type": "code",
   "execution_count": 38,
   "id": "cb8a0c90",
   "metadata": {},
   "outputs": [
    {
     "name": "stderr",
     "output_type": "stream",
     "text": [
      "/data/ubuntu-znicholls/miniconda3/envs/baur-et-al-srm-commitment/lib/python3.9/site-packages/scmdata/run.py:2246: UserWarning: There are small values which may be truncated during rounding. Either increase the numberof decimals or convert the units of the timeseries so that the quantities are larger.\n",
      "  warnings.warn(\n"
     ]
    },
    {
     "data": {
      "application/javascript": [
       "\n",
       "            setTimeout(function() {\n",
       "                var nbb_cell_id = 38;\n",
       "                var nbb_unformatted_code = \"# use only a few scenarios and ensemble_members\\ndata_scen_sel = data_scen.filter(ms=ms_list[:NR_SCEN], ensemble_member=ENSEMBLE)\\n\\n# round to 3 decimals\\ndata_scen_sel = data_scen_sel.round(3)\\n\\n### export and import as pandas\\ndata_scen_sel.filter(variable=\\\"*Temperature*\\\").to_csv(\\n    str(Path(utils.DATA_DIR / \\\"interim\\\" / \\\"layover\\\" / f\\\"{ID}_T_filtered.csv\\\"))\\n)\\ndata_scen_sel.to_csv(\\n    str(Path(utils.DATA_DIR / \\\"interim\\\" / \\\"layover\\\" / f\\\"{ID}_filtered.csv\\\"))\\n)\";\n",
       "                var nbb_formatted_code = \"# use only a few scenarios and ensemble_members\\ndata_scen_sel = data_scen.filter(ms=ms_list[:NR_SCEN], ensemble_member=ENSEMBLE)\\n\\n# round to 3 decimals\\ndata_scen_sel = data_scen_sel.round(3)\\n\\n### export and import as pandas\\ndata_scen_sel.filter(variable=\\\"*Temperature*\\\").to_csv(\\n    str(Path(utils.DATA_DIR / \\\"interim\\\" / \\\"layover\\\" / f\\\"{ID}_T_filtered.csv\\\"))\\n)\\ndata_scen_sel.to_csv(\\n    str(Path(utils.DATA_DIR / \\\"interim\\\" / \\\"layover\\\" / f\\\"{ID}_filtered.csv\\\"))\\n)\";\n",
       "                var nbb_cells = Jupyter.notebook.get_cells();\n",
       "                for (var i = 0; i < nbb_cells.length; ++i) {\n",
       "                    if (nbb_cells[i].input_prompt_number == nbb_cell_id) {\n",
       "                        if (nbb_cells[i].get_text() == nbb_unformatted_code) {\n",
       "                             nbb_cells[i].set_text(nbb_formatted_code);\n",
       "                        }\n",
       "                        break;\n",
       "                    }\n",
       "                }\n",
       "            }, 500);\n",
       "            "
      ],
      "text/plain": [
       "<IPython.core.display.Javascript object>"
      ]
     },
     "metadata": {},
     "output_type": "display_data"
    }
   ],
   "source": [
    "# use only a few scenarios and ensemble_members\n",
    "data_scen_sel = data_scen.filter(ms=ms_list[:NR_SCEN], ensemble_member=ENSEMBLE)\n",
    "\n",
    "# round to 3 decimals\n",
    "data_scen_sel = data_scen_sel.round(3)\n",
    "\n",
    "### export and import as pandas\n",
    "data_scen_sel.filter(variable=\"*Temperature*\").to_csv(\n",
    "    str(Path(utils.DATA_DIR / \"interim\" / \"layover\" / f\"{ID}_T_filtered.csv\"))\n",
    ")\n",
    "data_scen_sel.to_csv(\n",
    "    str(Path(utils.DATA_DIR / \"interim\" / \"layover\" / f\"{ID}_filtered.csv\"))\n",
    ")"
   ]
  },
  {
   "cell_type": "code",
   "execution_count": 39,
   "id": "70cd9824",
   "metadata": {},
   "outputs": [
    {
     "data": {
      "application/javascript": [
       "\n",
       "            setTimeout(function() {\n",
       "                var nbb_cell_id = 39;\n",
       "                var nbb_unformatted_code = \"data_scen_T_pd = scmdata.ScmRun(\\n    str(Path(utils.DATA_DIR / \\\"interim\\\" / \\\"layover\\\" / f\\\"{ID}_T_filtered.csv\\\"))\\n).timeseries(time_axis=\\\"year\\\").reset_index()\\ndata_scen_pd = pd.read_csv(\\n    str(Path(utils.DATA_DIR / \\\"interim\\\" / \\\"layover\\\" / f\\\"{ID}_filtered.csv\\\"))\\n)\";\n",
       "                var nbb_formatted_code = \"data_scen_T_pd = (\\n    scmdata.ScmRun(\\n        str(Path(utils.DATA_DIR / \\\"interim\\\" / \\\"layover\\\" / f\\\"{ID}_T_filtered.csv\\\"))\\n    )\\n    .timeseries(time_axis=\\\"year\\\")\\n    .reset_index()\\n)\\ndata_scen_pd = pd.read_csv(\\n    str(Path(utils.DATA_DIR / \\\"interim\\\" / \\\"layover\\\" / f\\\"{ID}_filtered.csv\\\"))\\n)\";\n",
       "                var nbb_cells = Jupyter.notebook.get_cells();\n",
       "                for (var i = 0; i < nbb_cells.length; ++i) {\n",
       "                    if (nbb_cells[i].input_prompt_number == nbb_cell_id) {\n",
       "                        if (nbb_cells[i].get_text() == nbb_unformatted_code) {\n",
       "                             nbb_cells[i].set_text(nbb_formatted_code);\n",
       "                        }\n",
       "                        break;\n",
       "                    }\n",
       "                }\n",
       "            }, 500);\n",
       "            "
      ],
      "text/plain": [
       "<IPython.core.display.Javascript object>"
      ]
     },
     "metadata": {},
     "output_type": "display_data"
    }
   ],
   "source": [
    "data_scen_T_pd = (\n",
    "    scmdata.ScmRun(\n",
    "        str(Path(utils.DATA_DIR / \"interim\" / \"layover\" / f\"{ID}_T_filtered.csv\"))\n",
    "    )\n",
    "    .timeseries(time_axis=\"year\")\n",
    "    .reset_index()\n",
    ")\n",
    "data_scen_pd = pd.read_csv(\n",
    "    str(Path(utils.DATA_DIR / \"interim\" / \"layover\" / f\"{ID}_filtered.csv\"))\n",
    ")"
   ]
  },
  {
   "cell_type": "markdown",
   "id": "f72af0df",
   "metadata": {},
   "source": [
    "#### Extended scenario emissions data from 012"
   ]
  },
  {
   "cell_type": "code",
   "execution_count": 40,
   "id": "999b34ab",
   "metadata": {},
   "outputs": [
    {
     "data": {
      "application/javascript": [
       "\n",
       "            setTimeout(function() {\n",
       "                var nbb_cell_id = 40;\n",
       "                var nbb_unformatted_code = \"# load in as SCM to easily combine fossil and AFOLU\\nSOURCE_DATA = Path(\\n    utils.DATA_DIR\\n    / \\\"interim\\\"\\n    / \\\"ar6-wg3-extended\\\"\\n    / f\\\"wg3-timeseries-extended_{ID}.csv\\\"\\n)\\n\\nour_set = scmdata.ScmRun(str(SOURCE_DATA)).filter(\\n    variable=[\\\"*AFOLU*\\\", \\\"*Energy*\\\"], ms=ms_list[:NR_SCEN]\\n)\\n\\n# Add total CO2\\nour_set_co2_total = our_set.filter(variable=\\\"*CO2*\\\").process_over(\\n    \\\"variable\\\",\\n    \\\"sum\\\",\\n    op_cols={\\\"variable\\\": \\\"AR6 climate diagnostics|Infilled|Emissions|CO2\\\"},\\n    as_run=True,\\n)\\nour_set_co2_total.to_csv(\\n    Path(\\n        utils.DATA_DIR\\n        / \\\"interim\\\"\\n        / \\\"ar6-wg3-extended\\\"\\n        / f\\\"wg3-timeseries-extended_{ID}_CO2.csv\\\"\\n    )\\n)\\n\\n# load in processed data as pandas to do the rest of the calculations\\nemissions_data = pd.read_csv(\\n    Path(\\n        utils.DATA_DIR\\n        / \\\"interim\\\"\\n        / \\\"ar6-wg3-extended\\\"\\n        / f\\\"wg3-timeseries-extended_{ID}_CO2.csv\\\"\\n    )\\n)\";\n",
       "                var nbb_formatted_code = \"# load in as SCM to easily combine fossil and AFOLU\\nSOURCE_DATA = Path(\\n    utils.DATA_DIR\\n    / \\\"interim\\\"\\n    / \\\"ar6-wg3-extended\\\"\\n    / f\\\"wg3-timeseries-extended_{ID}.csv\\\"\\n)\\n\\nour_set = scmdata.ScmRun(str(SOURCE_DATA)).filter(\\n    variable=[\\\"*AFOLU*\\\", \\\"*Energy*\\\"], ms=ms_list[:NR_SCEN]\\n)\\n\\n# Add total CO2\\nour_set_co2_total = our_set.filter(variable=\\\"*CO2*\\\").process_over(\\n    \\\"variable\\\",\\n    \\\"sum\\\",\\n    op_cols={\\\"variable\\\": \\\"AR6 climate diagnostics|Infilled|Emissions|CO2\\\"},\\n    as_run=True,\\n)\\nour_set_co2_total.to_csv(\\n    Path(\\n        utils.DATA_DIR\\n        / \\\"interim\\\"\\n        / \\\"ar6-wg3-extended\\\"\\n        / f\\\"wg3-timeseries-extended_{ID}_CO2.csv\\\"\\n    )\\n)\\n\\n# load in processed data as pandas to do the rest of the calculations\\nemissions_data = pd.read_csv(\\n    Path(\\n        utils.DATA_DIR\\n        / \\\"interim\\\"\\n        / \\\"ar6-wg3-extended\\\"\\n        / f\\\"wg3-timeseries-extended_{ID}_CO2.csv\\\"\\n    )\\n)\";\n",
       "                var nbb_cells = Jupyter.notebook.get_cells();\n",
       "                for (var i = 0; i < nbb_cells.length; ++i) {\n",
       "                    if (nbb_cells[i].input_prompt_number == nbb_cell_id) {\n",
       "                        if (nbb_cells[i].get_text() == nbb_unformatted_code) {\n",
       "                             nbb_cells[i].set_text(nbb_formatted_code);\n",
       "                        }\n",
       "                        break;\n",
       "                    }\n",
       "                }\n",
       "            }, 500);\n",
       "            "
      ],
      "text/plain": [
       "<IPython.core.display.Javascript object>"
      ]
     },
     "metadata": {},
     "output_type": "display_data"
    }
   ],
   "source": [
    "# load in as SCM to easily combine fossil and AFOLU\n",
    "SOURCE_DATA = Path(\n",
    "    utils.DATA_DIR\n",
    "    / \"interim\"\n",
    "    / \"ar6-wg3-extended\"\n",
    "    / f\"wg3-timeseries-extended_{ID}.csv\"\n",
    ")"
   ]
  },
  {
   "cell_type": "markdown",
   "id": "f5568cb4",
   "metadata": {},
   "source": [
    "# Add total CO2"
   ]
  },
  {
   "cell_type": "code",
   "execution_count": null,
   "id": "084c1ca1",
   "metadata": {},
   "outputs": [],
   "source": [
    "our_set = scmdata.ScmRun(str(SOURCE_DATA)).filter(\n",
    "    variable=[\"*AFOLU*\", \"*Energy*\"], ms=ms_list[:NR_SCEN]\n",
    ")\n",
    "\n",
    "our_set_co2_total = our_set.filter(variable=\"*CO2*\").process_over(\n",
    "    \"variable\",\n",
    "    \"sum\",\n",
    "    op_cols={\"variable\": \"AR6 climate diagnostics|Infilled|Emissions|CO2\"},\n",
    "    as_run=True,\n",
    ")"
   ]
  },
  {
   "cell_type": "code",
   "execution_count": 41,
   "id": "c8e107cb",
   "metadata": {},
   "outputs": [
    {
     "data": {
      "text/html": [
       "<div>\n",
       "<style scoped>\n",
       "    .dataframe tbody tr th:only-of-type {\n",
       "        vertical-align: middle;\n",
       "    }\n",
       "\n",
       "    .dataframe tbody tr th {\n",
       "        vertical-align: top;\n",
       "    }\n",
       "\n",
       "    .dataframe thead th {\n",
       "        text-align: right;\n",
       "    }\n",
       "</style>\n",
       "<table border=\"1\" class=\"dataframe\">\n",
       "  <thead>\n",
       "    <tr style=\"text-align: right;\">\n",
       "      <th>time</th>\n",
       "      <th>max_CDR</th>\n",
       "      <th>model</th>\n",
       "      <th>ms</th>\n",
       "      <th>region</th>\n",
       "      <th>scenario</th>\n",
       "      <th>total_CDR</th>\n",
       "      <th>total_emissions</th>\n",
       "      <th>unit</th>\n",
       "      <th>variable</th>\n",
       "      <th>2015</th>\n",
       "      <th>...</th>\n",
       "      <th>2491</th>\n",
       "      <th>2492</th>\n",
       "      <th>2493</th>\n",
       "      <th>2494</th>\n",
       "      <th>2495</th>\n",
       "      <th>2496</th>\n",
       "      <th>2497</th>\n",
       "      <th>2498</th>\n",
       "      <th>2499</th>\n",
       "      <th>2500</th>\n",
       "    </tr>\n",
       "  </thead>\n",
       "  <tbody>\n",
       "    <tr>\n",
       "      <th>0</th>\n",
       "      <td>-8534.394684</td>\n",
       "      <td>COFFEE 1.1</td>\n",
       "      <td>COFFEE 1.1EN_INDCi2030_500</td>\n",
       "      <td>World</td>\n",
       "      <td>EN_INDCi2030_500</td>\n",
       "      <td>-2.744009e+06</td>\n",
       "      <td>224839.900719</td>\n",
       "      <td>Mt CO2/yr</td>\n",
       "      <td>AR6 climate diagnostics|Infilled|Emissions|CO2</td>\n",
       "      <td>39152.7263</td>\n",
       "      <td>...</td>\n",
       "      <td>-8534.394684</td>\n",
       "      <td>-8534.394684</td>\n",
       "      <td>-8534.394684</td>\n",
       "      <td>-8534.394684</td>\n",
       "      <td>-8534.394684</td>\n",
       "      <td>-8534.394684</td>\n",
       "      <td>-8534.394684</td>\n",
       "      <td>-8534.394684</td>\n",
       "      <td>-8534.394684</td>\n",
       "      <td>-8534.394684</td>\n",
       "    </tr>\n",
       "    <tr>\n",
       "      <th>1</th>\n",
       "      <td>-5055.616650</td>\n",
       "      <td>COFFEE 1.1</td>\n",
       "      <td>COFFEE 1.1EN_INDCi2030_600</td>\n",
       "      <td>World</td>\n",
       "      <td>EN_INDCi2030_600</td>\n",
       "      <td>-1.960631e+06</td>\n",
       "      <td>288411.065216</td>\n",
       "      <td>Mt CO2/yr</td>\n",
       "      <td>AR6 climate diagnostics|Infilled|Emissions|CO2</td>\n",
       "      <td>39152.7263</td>\n",
       "      <td>...</td>\n",
       "      <td>-5055.616650</td>\n",
       "      <td>-5055.616650</td>\n",
       "      <td>-5055.616650</td>\n",
       "      <td>-5055.616650</td>\n",
       "      <td>-5055.616650</td>\n",
       "      <td>-5055.616650</td>\n",
       "      <td>-5055.616650</td>\n",
       "      <td>-5055.616650</td>\n",
       "      <td>-5055.616650</td>\n",
       "      <td>-5055.616650</td>\n",
       "    </tr>\n",
       "    <tr>\n",
       "      <th>2</th>\n",
       "      <td>-7870.110129</td>\n",
       "      <td>POLES ADVANCE</td>\n",
       "      <td>POLES ADVANCEADVANCE_2030_1.5C-2100</td>\n",
       "      <td>World</td>\n",
       "      <td>ADVANCE_2030_1.5C-2100</td>\n",
       "      <td>-5.373515e+06</td>\n",
       "      <td>321312.950414</td>\n",
       "      <td>Mt CO2/yr</td>\n",
       "      <td>AR6 climate diagnostics|Infilled|Emissions|CO2</td>\n",
       "      <td>39152.7263</td>\n",
       "      <td>...</td>\n",
       "      <td>-7870.110129</td>\n",
       "      <td>-7870.110129</td>\n",
       "      <td>-7870.110129</td>\n",
       "      <td>-7870.110129</td>\n",
       "      <td>-7870.110129</td>\n",
       "      <td>-7870.110129</td>\n",
       "      <td>-7870.110129</td>\n",
       "      <td>-7870.110129</td>\n",
       "      <td>-7870.110129</td>\n",
       "      <td>-7870.110129</td>\n",
       "    </tr>\n",
       "    <tr>\n",
       "      <th>3</th>\n",
       "      <td>-32376.733249</td>\n",
       "      <td>COFFEE 1.1</td>\n",
       "      <td>COFFEE 1.1EN_INDCi2030_600_NDCp</td>\n",
       "      <td>World</td>\n",
       "      <td>EN_INDCi2030_600_NDCp</td>\n",
       "      <td>-6.883314e+06</td>\n",
       "      <td>325587.181056</td>\n",
       "      <td>Mt CO2/yr</td>\n",
       "      <td>AR6 climate diagnostics|Infilled|Emissions|CO2</td>\n",
       "      <td>39152.7263</td>\n",
       "      <td>...</td>\n",
       "      <td>-32376.733249</td>\n",
       "      <td>-32376.733249</td>\n",
       "      <td>-32376.733249</td>\n",
       "      <td>-32376.733249</td>\n",
       "      <td>-32376.733249</td>\n",
       "      <td>-32376.733249</td>\n",
       "      <td>-32376.733249</td>\n",
       "      <td>-32376.733249</td>\n",
       "      <td>-32376.733249</td>\n",
       "      <td>-32376.733249</td>\n",
       "    </tr>\n",
       "    <tr>\n",
       "      <th>4</th>\n",
       "      <td>-10762.243952</td>\n",
       "      <td>GEM-E3_V2021</td>\n",
       "      <td>GEM-E3_V2021EN_INDCi2030_600f</td>\n",
       "      <td>World</td>\n",
       "      <td>EN_INDCi2030_600f</td>\n",
       "      <td>-4.040064e+06</td>\n",
       "      <td>397215.836129</td>\n",
       "      <td>Mt CO2/yr</td>\n",
       "      <td>AR6 climate diagnostics|Infilled|Emissions|CO2</td>\n",
       "      <td>39152.7263</td>\n",
       "      <td>...</td>\n",
       "      <td>-10762.243952</td>\n",
       "      <td>-10762.243952</td>\n",
       "      <td>-10762.243952</td>\n",
       "      <td>-10762.243952</td>\n",
       "      <td>-10762.243952</td>\n",
       "      <td>-10762.243952</td>\n",
       "      <td>-10762.243952</td>\n",
       "      <td>-10762.243952</td>\n",
       "      <td>-10762.243952</td>\n",
       "      <td>-10762.243952</td>\n",
       "    </tr>\n",
       "  </tbody>\n",
       "</table>\n",
       "<p>5 rows × 495 columns</p>\n",
       "</div>"
      ],
      "text/plain": [
       "time       max_CDR          model                                   ms region  \\\n",
       "0     -8534.394684     COFFEE 1.1           COFFEE 1.1EN_INDCi2030_500  World   \n",
       "1     -5055.616650     COFFEE 1.1           COFFEE 1.1EN_INDCi2030_600  World   \n",
       "2     -7870.110129  POLES ADVANCE  POLES ADVANCEADVANCE_2030_1.5C-2100  World   \n",
       "3    -32376.733249     COFFEE 1.1      COFFEE 1.1EN_INDCi2030_600_NDCp  World   \n",
       "4    -10762.243952   GEM-E3_V2021        GEM-E3_V2021EN_INDCi2030_600f  World   \n",
       "\n",
       "time                scenario     total_CDR  total_emissions       unit  \\\n",
       "0           EN_INDCi2030_500 -2.744009e+06    224839.900719  Mt CO2/yr   \n",
       "1           EN_INDCi2030_600 -1.960631e+06    288411.065216  Mt CO2/yr   \n",
       "2     ADVANCE_2030_1.5C-2100 -5.373515e+06    321312.950414  Mt CO2/yr   \n",
       "3      EN_INDCi2030_600_NDCp -6.883314e+06    325587.181056  Mt CO2/yr   \n",
       "4          EN_INDCi2030_600f -4.040064e+06    397215.836129  Mt CO2/yr   \n",
       "\n",
       "time                                        variable        2015  ...  \\\n",
       "0     AR6 climate diagnostics|Infilled|Emissions|CO2  39152.7263  ...   \n",
       "1     AR6 climate diagnostics|Infilled|Emissions|CO2  39152.7263  ...   \n",
       "2     AR6 climate diagnostics|Infilled|Emissions|CO2  39152.7263  ...   \n",
       "3     AR6 climate diagnostics|Infilled|Emissions|CO2  39152.7263  ...   \n",
       "4     AR6 climate diagnostics|Infilled|Emissions|CO2  39152.7263  ...   \n",
       "\n",
       "time          2491          2492          2493          2494          2495  \\\n",
       "0     -8534.394684  -8534.394684  -8534.394684  -8534.394684  -8534.394684   \n",
       "1     -5055.616650  -5055.616650  -5055.616650  -5055.616650  -5055.616650   \n",
       "2     -7870.110129  -7870.110129  -7870.110129  -7870.110129  -7870.110129   \n",
       "3    -32376.733249 -32376.733249 -32376.733249 -32376.733249 -32376.733249   \n",
       "4    -10762.243952 -10762.243952 -10762.243952 -10762.243952 -10762.243952   \n",
       "\n",
       "time          2496          2497          2498          2499          2500  \n",
       "0     -8534.394684  -8534.394684  -8534.394684  -8534.394684  -8534.394684  \n",
       "1     -5055.616650  -5055.616650  -5055.616650  -5055.616650  -5055.616650  \n",
       "2     -7870.110129  -7870.110129  -7870.110129  -7870.110129  -7870.110129  \n",
       "3    -32376.733249 -32376.733249 -32376.733249 -32376.733249 -32376.733249  \n",
       "4    -10762.243952 -10762.243952 -10762.243952 -10762.243952 -10762.243952  \n",
       "\n",
       "[5 rows x 495 columns]"
      ]
     },
     "execution_count": 41,
     "metadata": {},
     "output_type": "execute_result"
    },
    {
     "data": {
      "application/javascript": [
       "\n",
       "            setTimeout(function() {\n",
       "                var nbb_cell_id = 41;\n",
       "                var nbb_unformatted_code = \"emissions_data = (\\n    scmdata.ScmRun(emissions_data).timeseries(time_axis=\\\"year\\\").reset_index()\\n)\\nemissions_data.head()\";\n",
       "                var nbb_formatted_code = \"emissions_data = (\\n    scmdata.ScmRun(emissions_data).timeseries(time_axis=\\\"year\\\").reset_index()\\n)\\nemissions_data.head()\";\n",
       "                var nbb_cells = Jupyter.notebook.get_cells();\n",
       "                for (var i = 0; i < nbb_cells.length; ++i) {\n",
       "                    if (nbb_cells[i].input_prompt_number == nbb_cell_id) {\n",
       "                        if (nbb_cells[i].get_text() == nbb_unformatted_code) {\n",
       "                             nbb_cells[i].set_text(nbb_formatted_code);\n",
       "                        }\n",
       "                        break;\n",
       "                    }\n",
       "                }\n",
       "            }, 500);\n",
       "            "
      ],
      "text/plain": [
       "<IPython.core.display.Javascript object>"
      ]
     },
     "metadata": {},
     "output_type": "display_data"
    }
   ],
   "source": [
    "emissions_data = (\n",
    "    scmdata.ScmRun(emissions_data).timeseries(time_axis=\"year\").reset_index()\n",
    ")\n",
    "emissions_data.head()"
   ]
  },
  {
   "cell_type": "markdown",
   "id": "da96c149",
   "metadata": {},
   "source": [
    "### Bringing temperature and cumulative values together"
   ]
  },
  {
   "cell_type": "code",
   "execution_count": 42,
   "id": "eb5df266",
   "metadata": {},
   "outputs": [
    {
     "data": {
      "application/javascript": [
       "\n",
       "            setTimeout(function() {\n",
       "                var nbb_cell_id = 42;\n",
       "                var nbb_unformatted_code = \"def find_closest_value(array, value):\\n    array = np.asarray(array)\\n    idx = (np.abs(array - value)).argmin()\\n    return array[idx]\";\n",
       "                var nbb_formatted_code = \"def find_closest_value(array, value):\\n    array = np.asarray(array)\\n    idx = (np.abs(array - value)).argmin()\\n    return array[idx]\";\n",
       "                var nbb_cells = Jupyter.notebook.get_cells();\n",
       "                for (var i = 0; i < nbb_cells.length; ++i) {\n",
       "                    if (nbb_cells[i].input_prompt_number == nbb_cell_id) {\n",
       "                        if (nbb_cells[i].get_text() == nbb_unformatted_code) {\n",
       "                             nbb_cells[i].set_text(nbb_formatted_code);\n",
       "                        }\n",
       "                        break;\n",
       "                    }\n",
       "                }\n",
       "            }, 500);\n",
       "            "
      ],
      "text/plain": [
       "<IPython.core.display.Javascript object>"
      ]
     },
     "metadata": {},
     "output_type": "display_data"
    }
   ],
   "source": [
    "def find_closest_value(array, value):\n",
    "    array = np.asarray(array)\n",
    "    idx = (np.abs(array - value)).argmin()\n",
    "    return array[idx]"
   ]
  },
  {
   "cell_type": "code",
   "execution_count": 44,
   "id": "804e3b2d",
   "metadata": {},
   "outputs": [
    {
     "data": {
      "application/vnd.jupyter.widget-view+json": {
       "model_id": "1c1e1c2069054a1ea9faf79eef638184",
       "version_major": 2,
       "version_minor": 0
      },
      "text/plain": [
       "  0%|          | 0/117600 [00:00<?, ?it/s]"
      ]
     },
     "metadata": {},
     "output_type": "display_data"
    },
    {
     "name": "stderr",
     "output_type": "stream",
     "text": [
      "\n",
      "KeyboardInterrupt\n",
      "\n"
     ]
    },
    {
     "data": {
      "application/javascript": [
       "\n",
       "            setTimeout(function() {\n",
       "                var nbb_cell_id = 44;\n",
       "                var nbb_unformatted_code = \"col_list = list(range(2015, 2500 + 1))\\ndata_scen_T_pd[\\\"year_15T\\\"] = 0\\ndata_scen_T_pd[\\\"total_CDR_at_15\\\"] = 0\\n\\nfor i in tqdman.tqdm(range(0, len(data_scen_T_pd))):\\n\\n    current_ms = data_scen_T_pd.iloc[i].ms\\n\\n    ###### GET CUMULATIVE CDR\\n    # calculate cum CDR\\n    emissions_data_ms = emissions_data[emissions_data[\\\"ms\\\"] == current_ms]\\n\\n    # set all positive values 0\\n    total_CDR_data = (\\n        emissions_data_ms[\\n            emissions_data_ms[\\\"variable\\\"]\\n            == \\\"AR6 climate diagnostics|Infilled|Emissions|CO2\\\"\\n        ][col_list]\\n        .apply(lambda x: x[x < 0])\\n        .iloc[:, 15:]\\n        .cumsum(axis=1)\\n    ).fillna(0)\\n\\n    ###### FIND YEAR OF 1.5\\n    closest_value = find_closest_value(data_scen_T_pd.iloc[i, 292:], 1.5)\\n    # transpose\\n    j = i + 1\\n    long_df = data_scen_T_pd.iloc[i:j, 292:].T\\n    # add new column with bool\\n    long_df[\\\"BoolCol\\\"] = long_df[i] == closest_value\\n    # get year\\n    year_15T = long_df.index[long_df[\\\"BoolCol\\\"] == True].tolist()\\n\\n    # if clause to check for all pathways that never reach closer to 1.5 than they were in 2030 -> replace year with 2500\\n    # if year_15T[0] in list(range(2030, 2050)) and data_scen_T_pd.iloc[i][2500] > 1.5:\\n    if data_scen_T_pd.iloc[i][2500] > 1.5:\\n        # add year to column\\n        data_scen_T_pd[\\\"year_15T\\\"].iloc[i] = 2500\\n        # look at cumulative CDR value in that year and add it as a new column\\n        total_CDR_value_at_15 = total_CDR_data[2500]\\n    else:\\n        # add year to column\\n        data_scen_T_pd[\\\"year_15T\\\"].iloc[i] = year_15T[0]\\n        # look at cumulative CDR value in that year and add it as a new column\\n        total_CDR_value_at_15 = total_CDR_data[year_15T[0]]\\n\\n    # Exception for pathways that throw errors (to check!)\\n    #    data_scen_T_pd[\\\"total_CDR_at_15\\\"].iloc[i] = total_CDR_value_at_15\\n    try:\\n        data_scen_T_pd[\\\"total_CDR_at_15\\\"].iloc[i] = total_CDR_value_at_15\\n    except:\\n        data_scen_T_pd[\\\"total_CDR_at_15\\\"].iloc[i] = 1\";\n",
       "                var nbb_formatted_code = \"col_list = list(range(2015, 2500 + 1))\\ndata_scen_T_pd[\\\"year_15T\\\"] = 0\\ndata_scen_T_pd[\\\"total_CDR_at_15\\\"] = 0\\n\\nfor i in tqdman.tqdm(range(0, len(data_scen_T_pd))):\\n\\n    current_ms = data_scen_T_pd.iloc[i].ms\\n\\n    ###### GET CUMULATIVE CDR\\n    # calculate cum CDR\\n    emissions_data_ms = emissions_data[emissions_data[\\\"ms\\\"] == current_ms]\\n\\n    # set all positive values 0\\n    total_CDR_data = (\\n        emissions_data_ms[\\n            emissions_data_ms[\\\"variable\\\"]\\n            == \\\"AR6 climate diagnostics|Infilled|Emissions|CO2\\\"\\n        ][col_list]\\n        .apply(lambda x: x[x < 0])\\n        .iloc[:, 15:]\\n        .cumsum(axis=1)\\n    ).fillna(0)\\n\\n    ###### FIND YEAR OF 1.5\\n    closest_value = find_closest_value(data_scen_T_pd.iloc[i, 292:], 1.5)\\n    # transpose\\n    j = i + 1\\n    long_df = data_scen_T_pd.iloc[i:j, 292:].T\\n    # add new column with bool\\n    long_df[\\\"BoolCol\\\"] = long_df[i] == closest_value\\n    # get year\\n    year_15T = long_df.index[long_df[\\\"BoolCol\\\"] == True].tolist()\\n\\n    # if clause to check for all pathways that never reach closer to 1.5 than they were in 2030 -> replace year with 2500\\n    # if year_15T[0] in list(range(2030, 2050)) and data_scen_T_pd.iloc[i][2500] > 1.5:\\n    if data_scen_T_pd.iloc[i][2500] > 1.5:\\n        # add year to column\\n        data_scen_T_pd[\\\"year_15T\\\"].iloc[i] = 2500\\n        # look at cumulative CDR value in that year and add it as a new column\\n        total_CDR_value_at_15 = total_CDR_data[2500]\\n    else:\\n        # add year to column\\n        data_scen_T_pd[\\\"year_15T\\\"].iloc[i] = year_15T[0]\\n        # look at cumulative CDR value in that year and add it as a new column\\n        total_CDR_value_at_15 = total_CDR_data[year_15T[0]]\\n\\n    # Exception for pathways that throw errors (to check!)\\n    #    data_scen_T_pd[\\\"total_CDR_at_15\\\"].iloc[i] = total_CDR_value_at_15\\n    try:\\n        data_scen_T_pd[\\\"total_CDR_at_15\\\"].iloc[i] = total_CDR_value_at_15\\n    except:\\n        data_scen_T_pd[\\\"total_CDR_at_15\\\"].iloc[i] = 1\";\n",
       "                var nbb_cells = Jupyter.notebook.get_cells();\n",
       "                for (var i = 0; i < nbb_cells.length; ++i) {\n",
       "                    if (nbb_cells[i].input_prompt_number == nbb_cell_id) {\n",
       "                        if (nbb_cells[i].get_text() == nbb_unformatted_code) {\n",
       "                             nbb_cells[i].set_text(nbb_formatted_code);\n",
       "                        }\n",
       "                        break;\n",
       "                    }\n",
       "                }\n",
       "            }, 500);\n",
       "            "
      ],
      "text/plain": [
       "<IPython.core.display.Javascript object>"
      ]
     },
     "metadata": {},
     "output_type": "display_data"
    }
   ],
   "source": [
    "col_list = list(range(2015, 2500 + 1))\n",
    "data_scen_T_pd[\"year_15T\"] = 0\n",
    "data_scen_T_pd[\"total_CDR_at_15\"] = 0\n",
    "\n",
    "for i in tqdman.tqdm(range(0, len(data_scen_T_pd))):\n",
    "\n",
    "    current_ms = data_scen_T_pd.iloc[i].ms\n",
    "\n",
    "    ###### GET CUMULATIVE CDR\n",
    "    # calculate cum CDR\n",
    "    emissions_data_ms = emissions_data[emissions_data[\"ms\"] == current_ms]\n",
    "\n",
    "    # set all positive values 0\n",
    "    total_CDR_data = (\n",
    "        emissions_data_ms[\n",
    "            emissions_data_ms[\"variable\"]\n",
    "            == \"AR6 climate diagnostics|Infilled|Emissions|CO2\"\n",
    "        ][col_list]\n",
    "        .apply(lambda x: x[x < 0])\n",
    "        .iloc[:, 15:]\n",
    "        .cumsum(axis=1)\n",
    "    ).fillna(0)\n",
    "\n",
    "    ###### FIND YEAR OF 1.5\n",
    "    closest_value = find_closest_value(data_scen_T_pd.iloc[i, 292:], 1.5)\n",
    "    # transpose\n",
    "    j = i + 1\n",
    "    long_df = data_scen_T_pd.iloc[i:j, 292:].T\n",
    "    # add new column with bool\n",
    "    long_df[\"BoolCol\"] = long_df[i] == closest_value\n",
    "    # get year\n",
    "    year_15T = long_df.index[long_df[\"BoolCol\"] == True].tolist()\n",
    "\n",
    "    # if clause to check for all pathways that never reach closer to 1.5 than they were in 2030 -> replace year with 2500\n",
    "    # if year_15T[0] in list(range(2030, 2050)) and data_scen_T_pd.iloc[i][2500] > 1.5:\n",
    "    if data_scen_T_pd.iloc[i][2500] > 1.5:\n",
    "        # add year to column\n",
    "        data_scen_T_pd[\"year_15T\"].iloc[i] = 2500\n",
    "        # look at cumulative CDR value in that year and add it as a new column\n",
    "        total_CDR_value_at_15 = total_CDR_data[2500]\n",
    "    else:\n",
    "        # add year to column\n",
    "        data_scen_T_pd[\"year_15T\"].iloc[i] = year_15T[0]\n",
    "        # look at cumulative CDR value in that year and add it as a new column\n",
    "        total_CDR_value_at_15 = total_CDR_data[year_15T[0]]\n",
    "\n",
    "    # Exception for pathways that throw errors (to check!)\n",
    "    #    data_scen_T_pd[\"total_CDR_at_15\"].iloc[i] = total_CDR_value_at_15\n",
    "    try:\n",
    "        data_scen_T_pd[\"total_CDR_at_15\"].iloc[i] = total_CDR_value_at_15\n",
    "    except:\n",
    "        data_scen_T_pd[\"total_CDR_at_15\"].iloc[i] = 1"
   ]
  },
  {
   "cell_type": "markdown",
   "id": "d3d5f070",
   "metadata": {},
   "source": [
    "### Add back into original dataset\n",
    "If error appears it's likely due to different numbers of ensemble members (check ENSEMBLE and number of ens in data_scen_T_pd)"
   ]
  },
  {
   "cell_type": "code",
   "execution_count": null,
   "id": "d482ccaf",
   "metadata": {},
   "outputs": [],
   "source": [
    "data_scen_pd[\"total_CDR_at_15\"] = 0\n",
    "data_scen_pd[\"year_15T\"] = 0\n",
    "\n",
    "\n",
    "for ms_ in tqdman.tqdm(ms_list):\n",
    "    ms_filt_T = data_scen_T_pd[data_scen_T_pd[\"ms\"] == ms_]\n",
    "    ms_filt = data_scen_pd[data_scen_pd[\"ms\"] == ms_]\n",
    "    for ens in ENSEMBLE[:-1]:\n",
    "        total_CDR_at_15 = ms_filt_T.loc[ms_filt_T[\"ensemble_member\"] == ens,\n",
    "            \"total_CDR_at_15\"\n",
    "        ]\n",
    "        year_15T = ms_filt_T.loc[ms_filt_T[\"ensemble_member\"] == ens,\n",
    "            \"year_15T\"\n",
    "        ]\n",
    "        ## add value to original dataset\n",
    "        data_scen_pd.loc[(data_scen_pd[\"ms\"] == ms_) & (data_scen_pd[\"ensemble_member\"] == ens), \"total_CDR_at_15\"] = total_CDR_at_15.item()\n",
    "        data_scen_pd.loc[(data_scen_pd[\"ms\"] == ms_) & (data_scen_pd[\"ensemble_member\"] == ens), \"year_15T\"] = year_15T.item()\n",
    "        \n"
   ]
  },
  {
   "cell_type": "markdown",
   "id": "164e78cb",
   "metadata": {},
   "source": [
    "### Save"
   ]
  },
  {
   "cell_type": "code",
   "execution_count": null,
   "id": "c9b5d3ce",
   "metadata": {},
   "outputs": [],
   "source": [
    "data_scen_pd.to_csv(str(OUTPUT_FILE))"
   ]
  }
 ],
 "metadata": {
  "kernelspec": {
   "display_name": "Python 3 (ipykernel)",
   "language": "python",
   "name": "python3"
  },
  "language_info": {
   "codemirror_mode": {
    "name": "ipython",
    "version": 3
   },
   "file_extension": ".py",
   "mimetype": "text/x-python",
   "name": "python",
   "nbconvert_exporter": "python",
   "pygments_lexer": "ipython3",
   "version": "3.9.13"
  }
 },
 "nbformat": 4,
 "nbformat_minor": 5
}
