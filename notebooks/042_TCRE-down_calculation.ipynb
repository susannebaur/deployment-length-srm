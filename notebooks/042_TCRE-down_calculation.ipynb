{
 "cells": [
  {
   "cell_type": "code",
   "execution_count": 1,
   "id": "63f0dbe5",
   "metadata": {},
   "outputs": [
    {
     "data": {
      "application/javascript": [
       "\n",
       "            setTimeout(function() {\n",
       "                var nbb_cell_id = 1;\n",
       "                var nbb_unformatted_code = \"%load_ext nb_black\";\n",
       "                var nbb_formatted_code = \"%load_ext nb_black\";\n",
       "                var nbb_cells = Jupyter.notebook.get_cells();\n",
       "                for (var i = 0; i < nbb_cells.length; ++i) {\n",
       "                    if (nbb_cells[i].input_prompt_number == nbb_cell_id) {\n",
       "                        if (nbb_cells[i].get_text() == nbb_unformatted_code) {\n",
       "                             nbb_cells[i].set_text(nbb_formatted_code);\n",
       "                        }\n",
       "                        break;\n",
       "                    }\n",
       "                }\n",
       "            }, 500);\n",
       "            "
      ],
      "text/plain": [
       "<IPython.core.display.Javascript object>"
      ]
     },
     "metadata": {},
     "output_type": "display_data"
    }
   ],
   "source": [
    "%load_ext nb_black"
   ]
  },
  {
   "cell_type": "code",
   "execution_count": 2,
   "id": "7b2d09d8",
   "metadata": {},
   "outputs": [
    {
     "data": {
      "application/javascript": [
       "if (typeof IPython !== 'undefined') { IPython.OutputArea.prototype._should_scroll = function(lines){ return false; }}"
      ],
      "text/plain": [
       "<IPython.core.display.Javascript object>"
      ]
     },
     "metadata": {},
     "output_type": "display_data"
    },
    {
     "data": {
      "application/javascript": [
       "\n",
       "            setTimeout(function() {\n",
       "                var nbb_cell_id = 2;\n",
       "                var nbb_unformatted_code = \"from pathlib import Path\\n\\nimport matplotlib.pyplot as plt\\nimport scmdata\\nimport seaborn as sns\\nimport numpy as np\\nimport pandas as pd\\n\\nimport utils\";\n",
       "                var nbb_formatted_code = \"from pathlib import Path\\n\\nimport matplotlib.pyplot as plt\\nimport scmdata\\nimport seaborn as sns\\nimport numpy as np\\nimport pandas as pd\\n\\nimport utils\";\n",
       "                var nbb_cells = Jupyter.notebook.get_cells();\n",
       "                for (var i = 0; i < nbb_cells.length; ++i) {\n",
       "                    if (nbb_cells[i].input_prompt_number == nbb_cell_id) {\n",
       "                        if (nbb_cells[i].get_text() == nbb_unformatted_code) {\n",
       "                             nbb_cells[i].set_text(nbb_formatted_code);\n",
       "                        }\n",
       "                        break;\n",
       "                    }\n",
       "                }\n",
       "            }, 500);\n",
       "            "
      ],
      "text/plain": [
       "<IPython.core.display.Javascript object>"
      ]
     },
     "metadata": {},
     "output_type": "display_data"
    }
   ],
   "source": [
    "from pathlib import Path\n",
    "\n",
    "import matplotlib.pyplot as plt\n",
    "import scmdata\n",
    "import seaborn as sns\n",
    "import numpy as np\n",
    "import pandas as pd\n",
    "\n",
    "import utils"
   ]
  },
  {
   "cell_type": "code",
   "execution_count": 3,
   "id": "9218f927",
   "metadata": {},
   "outputs": [
    {
     "data": {
      "application/javascript": [
       "\n",
       "            setTimeout(function() {\n",
       "                var nbb_cell_id = 3;\n",
       "                var nbb_unformatted_code = \"ID = \\\"sb_noSRM_inclu\\\"\";\n",
       "                var nbb_formatted_code = \"ID = \\\"sb_noSRM_inclu\\\"\";\n",
       "                var nbb_cells = Jupyter.notebook.get_cells();\n",
       "                for (var i = 0; i < nbb_cells.length; ++i) {\n",
       "                    if (nbb_cells[i].input_prompt_number == nbb_cell_id) {\n",
       "                        if (nbb_cells[i].get_text() == nbb_unformatted_code) {\n",
       "                             nbb_cells[i].set_text(nbb_formatted_code);\n",
       "                        }\n",
       "                        break;\n",
       "                    }\n",
       "                }\n",
       "            }, 500);\n",
       "            "
      ],
      "text/plain": [
       "<IPython.core.display.Javascript object>"
      ]
     },
     "metadata": {},
     "output_type": "display_data"
    }
   ],
   "source": [
    "ID = \"sb_noSRM_inclu\""
   ]
  },
  {
   "cell_type": "code",
   "execution_count": 4,
   "id": "e1487983",
   "metadata": {},
   "outputs": [
    {
     "data": {
      "application/javascript": [
       "\n",
       "            setTimeout(function() {\n",
       "                var nbb_cell_id = 4;\n",
       "                var nbb_unformatted_code = \"OUTPUT_DIR = Path(utils.DATA_DIR / \\\"interim\\\" / \\\"delta_rf\\\")\\nOUTPUT_FILE_META = OUTPUT_DIR / f\\\"{ID}_delta-erf_meta_TCRE.csv\\\"\";\n",
       "                var nbb_formatted_code = \"OUTPUT_DIR = Path(utils.DATA_DIR / \\\"interim\\\" / \\\"delta_rf\\\")\\nOUTPUT_FILE_META = OUTPUT_DIR / f\\\"{ID}_delta-erf_meta_TCRE.csv\\\"\";\n",
       "                var nbb_cells = Jupyter.notebook.get_cells();\n",
       "                for (var i = 0; i < nbb_cells.length; ++i) {\n",
       "                    if (nbb_cells[i].input_prompt_number == nbb_cell_id) {\n",
       "                        if (nbb_cells[i].get_text() == nbb_unformatted_code) {\n",
       "                             nbb_cells[i].set_text(nbb_formatted_code);\n",
       "                        }\n",
       "                        break;\n",
       "                    }\n",
       "                }\n",
       "            }, 500);\n",
       "            "
      ],
      "text/plain": [
       "<IPython.core.display.Javascript object>"
      ]
     },
     "metadata": {},
     "output_type": "display_data"
    }
   ],
   "source": [
    "OUTPUT_DIR = Path(utils.DATA_DIR / \"interim\" / \"delta_rf\")\n",
    "OUTPUT_FILE_META = OUTPUT_DIR / f\"{ID}_delta-erf_meta_TCRE.csv\""
   ]
  },
  {
   "cell_type": "code",
   "execution_count": 5,
   "id": "daafbb95",
   "metadata": {},
   "outputs": [
    {
     "data": {
      "application/javascript": [
       "\n",
       "            setTimeout(function() {\n",
       "                var nbb_cell_id = 5;\n",
       "                var nbb_unformatted_code = \"META_FILE = utils.DATA_DIR / \\\"interim\\\" / \\\"delta_rf\\\" / f\\\"{ID}_delta-erf_meta.csv\\\"\";\n",
       "                var nbb_formatted_code = \"META_FILE = utils.DATA_DIR / \\\"interim\\\" / \\\"delta_rf\\\" / f\\\"{ID}_delta-erf_meta.csv\\\"\";\n",
       "                var nbb_cells = Jupyter.notebook.get_cells();\n",
       "                for (var i = 0; i < nbb_cells.length; ++i) {\n",
       "                    if (nbb_cells[i].input_prompt_number == nbb_cell_id) {\n",
       "                        if (nbb_cells[i].get_text() == nbb_unformatted_code) {\n",
       "                             nbb_cells[i].set_text(nbb_formatted_code);\n",
       "                        }\n",
       "                        break;\n",
       "                    }\n",
       "                }\n",
       "            }, 500);\n",
       "            "
      ],
      "text/plain": [
       "<IPython.core.display.Javascript object>"
      ]
     },
     "metadata": {},
     "output_type": "display_data"
    }
   ],
   "source": [
    "META_FILE = utils.DATA_DIR / \"interim\" / \"delta_rf\" / f\"{ID}_delta-erf_meta.csv\""
   ]
  },
  {
   "cell_type": "code",
   "execution_count": 6,
   "id": "f220ad73",
   "metadata": {},
   "outputs": [
    {
     "data": {
      "application/javascript": [
       "\n",
       "            setTimeout(function() {\n",
       "                var nbb_cell_id = 6;\n",
       "                var nbb_unformatted_code = \"data = pd.read_csv(str(Path(META_FILE)))\";\n",
       "                var nbb_formatted_code = \"data = pd.read_csv(str(Path(META_FILE)))\";\n",
       "                var nbb_cells = Jupyter.notebook.get_cells();\n",
       "                for (var i = 0; i < nbb_cells.length; ++i) {\n",
       "                    if (nbb_cells[i].input_prompt_number == nbb_cell_id) {\n",
       "                        if (nbb_cells[i].get_text() == nbb_unformatted_code) {\n",
       "                             nbb_cells[i].set_text(nbb_formatted_code);\n",
       "                        }\n",
       "                        break;\n",
       "                    }\n",
       "                }\n",
       "            }, 500);\n",
       "            "
      ],
      "text/plain": [
       "<IPython.core.display.Javascript object>"
      ]
     },
     "metadata": {},
     "output_type": "display_data"
    }
   ],
   "source": [
    "data = pd.read_csv(str(Path(META_FILE)))"
   ]
  },
  {
   "cell_type": "code",
   "execution_count": 7,
   "id": "236fd2f5",
   "metadata": {},
   "outputs": [
    {
     "data": {
      "text/plain": [
       "Index(['2030_warming', '2100_warming', '2500_warming', 'SRM_at_first_crossing',\n",
       "       'TCRE', 'average_annual_emissions_2030_net-zero',\n",
       "       'average_cdr_between_net0_and_15', 'climate_model',\n",
       "       'cumulative_emms_15', 'cumulative_emms_net0_to_15',\n",
       "       'cumulative_emms_peak_warming', 'cumulative_emms_peak_warming_to_15',\n",
       "       'cumulative_pos_emms_at_15', 'cumulative_pos_emms_at_net0',\n",
       "       'ensemble_member', 'max_assigned_CDR', 'max_deployed_CDR', 'model',\n",
       "       'ms', 'net-zero_year', 'net_CDR_at_15_temp', 'peak_warming', 'region',\n",
       "       'run_id', 'scenario', 'total_CDR', 'unit', 'variable',\n",
       "       'year_return_back_below_15_temp'],\n",
       "      dtype='object')"
      ]
     },
     "execution_count": 7,
     "metadata": {},
     "output_type": "execute_result"
    },
    {
     "data": {
      "application/javascript": [
       "\n",
       "            setTimeout(function() {\n",
       "                var nbb_cell_id = 7;\n",
       "                var nbb_unformatted_code = \"data.columns\";\n",
       "                var nbb_formatted_code = \"data.columns\";\n",
       "                var nbb_cells = Jupyter.notebook.get_cells();\n",
       "                for (var i = 0; i < nbb_cells.length; ++i) {\n",
       "                    if (nbb_cells[i].input_prompt_number == nbb_cell_id) {\n",
       "                        if (nbb_cells[i].get_text() == nbb_unformatted_code) {\n",
       "                             nbb_cells[i].set_text(nbb_formatted_code);\n",
       "                        }\n",
       "                        break;\n",
       "                    }\n",
       "                }\n",
       "            }, 500);\n",
       "            "
      ],
      "text/plain": [
       "<IPython.core.display.Javascript object>"
      ]
     },
     "metadata": {},
     "output_type": "display_data"
    }
   ],
   "source": [
    "data.columns"
   ]
  },
  {
   "cell_type": "markdown",
   "id": "752b6c4a",
   "metadata": {},
   "source": [
    "### calculate TCRE down & convert CDR from MtCO2 to PgC"
   ]
  },
  {
   "cell_type": "code",
   "execution_count": 8,
   "id": "a3ac8cf7",
   "metadata": {},
   "outputs": [
    {
     "data": {
      "application/javascript": [
       "\n",
       "            setTimeout(function() {\n",
       "                var nbb_cell_id = 8;\n",
       "                var nbb_unformatted_code = \"data[\\\"TCRE_down\\\"] = 0\\nfor i, row in data.iterrows():\\n    if row[\\\"year_return_back_below_15_temp\\\"] == 9999:\\n        try:\\n            row[\\\"TCRE_down\\\"] = (row[\\\"2500_warming\\\"] - row[\\\"peak_warming\\\"]) / (\\n                (row[\\\"cumulative_emms_peak_warming_to_15\\\"] * 1e-6) / 3.67\\n            )\\n        except ZeroDivisionError:\\n            row[\\\"TCRE_down\\\"] = np.nan\\n\\n    elif row[\\\"year_return_back_below_15_temp\\\"] == 1111:\\n        row[\\\"TCRE_down\\\"] = np.nan\\n    elif 1111 < row[\\\"year_return_back_below_15_temp\\\"] < 9999:\\n        row[\\\"TCRE_down\\\"] = (1.5 - row[\\\"peak_warming\\\"]) / (\\n            (row[\\\"cumulative_emms_peak_warming_to_15\\\"] * 1e-6) / 3.67\\n        )\\n    else:\\n        print(\\\"error\\\")\\n        break\";\n",
       "                var nbb_formatted_code = \"data[\\\"TCRE_down\\\"] = 0\\nfor i, row in data.iterrows():\\n    if row[\\\"year_return_back_below_15_temp\\\"] == 9999:\\n        try:\\n            row[\\\"TCRE_down\\\"] = (row[\\\"2500_warming\\\"] - row[\\\"peak_warming\\\"]) / (\\n                (row[\\\"cumulative_emms_peak_warming_to_15\\\"] * 1e-6) / 3.67\\n            )\\n        except ZeroDivisionError:\\n            row[\\\"TCRE_down\\\"] = np.nan\\n\\n    elif row[\\\"year_return_back_below_15_temp\\\"] == 1111:\\n        row[\\\"TCRE_down\\\"] = np.nan\\n    elif 1111 < row[\\\"year_return_back_below_15_temp\\\"] < 9999:\\n        row[\\\"TCRE_down\\\"] = (1.5 - row[\\\"peak_warming\\\"]) / (\\n            (row[\\\"cumulative_emms_peak_warming_to_15\\\"] * 1e-6) / 3.67\\n        )\\n    else:\\n        print(\\\"error\\\")\\n        break\";\n",
       "                var nbb_cells = Jupyter.notebook.get_cells();\n",
       "                for (var i = 0; i < nbb_cells.length; ++i) {\n",
       "                    if (nbb_cells[i].input_prompt_number == nbb_cell_id) {\n",
       "                        if (nbb_cells[i].get_text() == nbb_unformatted_code) {\n",
       "                             nbb_cells[i].set_text(nbb_formatted_code);\n",
       "                        }\n",
       "                        break;\n",
       "                    }\n",
       "                }\n",
       "            }, 500);\n",
       "            "
      ],
      "text/plain": [
       "<IPython.core.display.Javascript object>"
      ]
     },
     "metadata": {},
     "output_type": "display_data"
    }
   ],
   "source": [
    "data[\"TCRE_down\"] = 0\n",
    "for i, row in data.iterrows():\n",
    "    if row[\"year_return_back_below_15_temp\"] == 9999:\n",
    "        try:\n",
    "            row[\"TCRE_down\"] = (row[\"2500_warming\"] - row[\"peak_warming\"]) / (\n",
    "                (row[\"cumulative_emms_peak_warming_to_15\"] * 1e-6) / 3.67\n",
    "            )\n",
    "        except ZeroDivisionError:\n",
    "            row[\"TCRE_down\"] = np.nan\n",
    "\n",
    "    elif row[\"year_return_back_below_15_temp\"] == 1111:\n",
    "        row[\"TCRE_down\"] = np.nan\n",
    "    elif 1111 < row[\"year_return_back_below_15_temp\"] < 9999:\n",
    "        row[\"TCRE_down\"] = (1.5 - row[\"peak_warming\"]) / (\n",
    "            (row[\"cumulative_emms_peak_warming_to_15\"] * 1e-6) / 3.67\n",
    "        )\n",
    "    else:\n",
    "        print(\"error\")\n",
    "        break"
   ]
  },
  {
   "cell_type": "code",
   "execution_count": 9,
   "id": "e5ccc0c8",
   "metadata": {},
   "outputs": [
    {
     "data": {
      "application/javascript": [
       "\n",
       "            setTimeout(function() {\n",
       "                var nbb_cell_id = 9;\n",
       "                var nbb_unformatted_code = \"# replace infinate values\\ndata[\\\"TCRE_down\\\"].replace([np.inf, -np.inf], np.nan, inplace=True)\";\n",
       "                var nbb_formatted_code = \"# replace infinate values\\ndata[\\\"TCRE_down\\\"].replace([np.inf, -np.inf], np.nan, inplace=True)\";\n",
       "                var nbb_cells = Jupyter.notebook.get_cells();\n",
       "                for (var i = 0; i < nbb_cells.length; ++i) {\n",
       "                    if (nbb_cells[i].input_prompt_number == nbb_cell_id) {\n",
       "                        if (nbb_cells[i].get_text() == nbb_unformatted_code) {\n",
       "                             nbb_cells[i].set_text(nbb_formatted_code);\n",
       "                        }\n",
       "                        break;\n",
       "                    }\n",
       "                }\n",
       "            }, 500);\n",
       "            "
      ],
      "text/plain": [
       "<IPython.core.display.Javascript object>"
      ]
     },
     "metadata": {},
     "output_type": "display_data"
    }
   ],
   "source": [
    "# replace infinate values\n",
    "data[\"TCRE_down\"].replace([np.inf, -np.inf], np.nan, inplace=True)"
   ]
  },
  {
   "cell_type": "code",
   "execution_count": 10,
   "id": "2c471724",
   "metadata": {
    "scrolled": true
   },
   "outputs": [
    {
     "data": {
      "text/plain": [
       "count    624600.0\n",
       "mean          0.0\n",
       "std           0.0\n",
       "min           0.0\n",
       "25%           0.0\n",
       "50%           0.0\n",
       "75%           0.0\n",
       "max           0.0\n",
       "Name: TCRE_down, dtype: float64"
      ]
     },
     "execution_count": 10,
     "metadata": {},
     "output_type": "execute_result"
    },
    {
     "data": {
      "application/javascript": [
       "\n",
       "            setTimeout(function() {\n",
       "                var nbb_cell_id = 10;\n",
       "                var nbb_unformatted_code = \"data[\\\"TCRE_down\\\"].describe()\";\n",
       "                var nbb_formatted_code = \"data[\\\"TCRE_down\\\"].describe()\";\n",
       "                var nbb_cells = Jupyter.notebook.get_cells();\n",
       "                for (var i = 0; i < nbb_cells.length; ++i) {\n",
       "                    if (nbb_cells[i].input_prompt_number == nbb_cell_id) {\n",
       "                        if (nbb_cells[i].get_text() == nbb_unformatted_code) {\n",
       "                             nbb_cells[i].set_text(nbb_formatted_code);\n",
       "                        }\n",
       "                        break;\n",
       "                    }\n",
       "                }\n",
       "            }, 500);\n",
       "            "
      ],
      "text/plain": [
       "<IPython.core.display.Javascript object>"
      ]
     },
     "metadata": {},
     "output_type": "display_data"
    }
   ],
   "source": [
    "data[\"TCRE_down\"].describe()"
   ]
  },
  {
   "cell_type": "code",
   "execution_count": 28,
   "id": "8e5d7e4c",
   "metadata": {},
   "outputs": [
    {
     "name": "stdout",
     "output_type": "stream",
     "text": [
      "-6.883148352858598\n",
      "12.441894977222605\n"
     ]
    },
    {
     "data": {
      "application/javascript": [
       "\n",
       "            setTimeout(function() {\n",
       "                var nbb_cell_id = 28;\n",
       "                var nbb_unformatted_code = \"print(data[\\\"TCRE_down\\\"].quantile(0.05))\\nprint(data[\\\"TCRE_down\\\"].quantile(0.95))\";\n",
       "                var nbb_formatted_code = \"print(data[\\\"TCRE_down\\\"].quantile(0.05))\\nprint(data[\\\"TCRE_down\\\"].quantile(0.95))\";\n",
       "                var nbb_cells = Jupyter.notebook.get_cells();\n",
       "                for (var i = 0; i < nbb_cells.length; ++i) {\n",
       "                    if (nbb_cells[i].input_prompt_number == nbb_cell_id) {\n",
       "                        if (nbb_cells[i].get_text() == nbb_unformatted_code) {\n",
       "                             nbb_cells[i].set_text(nbb_formatted_code);\n",
       "                        }\n",
       "                        break;\n",
       "                    }\n",
       "                }\n",
       "            }, 500);\n",
       "            "
      ],
      "text/plain": [
       "<IPython.core.display.Javascript object>"
      ]
     },
     "metadata": {},
     "output_type": "display_data"
    }
   ],
   "source": [
    "print(data[\"TCRE_down\"].quantile(0.05))\n",
    "print(data[\"TCRE_down\"].quantile(0.95))\n"
   ]
  },
  {
   "cell_type": "code",
   "execution_count": 29,
   "id": "9ee9e8e2",
   "metadata": {},
   "outputs": [
    {
     "data": {
      "application/javascript": [
       "\n",
       "            setTimeout(function() {\n",
       "                var nbb_cell_id = 29;\n",
       "                var nbb_unformatted_code = \"## set values outside of the 1-99th percentile range to nan\\ndata.loc[data.TCRE_down > data[\\\"TCRE_down\\\"].quantile(0.99), \\\"TCRE_down\\\"] = np.nan\\ndata.loc[data.TCRE_down < data[\\\"TCRE_down\\\"].quantile(0.01), \\\"TCRE_down\\\"] = np.nan\\n# data.loc[data.TCRE_down > 0, \\\"TCRE_down\\\"] = np.nan\";\n",
       "                var nbb_formatted_code = \"## set values outside of the 1-99th percentile range to nan\\ndata.loc[data.TCRE_down > data[\\\"TCRE_down\\\"].quantile(0.99), \\\"TCRE_down\\\"] = np.nan\\ndata.loc[data.TCRE_down < data[\\\"TCRE_down\\\"].quantile(0.01), \\\"TCRE_down\\\"] = np.nan\\n# data.loc[data.TCRE_down > 0, \\\"TCRE_down\\\"] = np.nan\";\n",
       "                var nbb_cells = Jupyter.notebook.get_cells();\n",
       "                for (var i = 0; i < nbb_cells.length; ++i) {\n",
       "                    if (nbb_cells[i].input_prompt_number == nbb_cell_id) {\n",
       "                        if (nbb_cells[i].get_text() == nbb_unformatted_code) {\n",
       "                             nbb_cells[i].set_text(nbb_formatted_code);\n",
       "                        }\n",
       "                        break;\n",
       "                    }\n",
       "                }\n",
       "            }, 500);\n",
       "            "
      ],
      "text/plain": [
       "<IPython.core.display.Javascript object>"
      ]
     },
     "metadata": {},
     "output_type": "display_data"
    }
   ],
   "source": [
    "## set values outside of the 1-99th percentile range to nan\n",
    "data.loc[data.TCRE_down > data[\"TCRE_down\"].quantile(0.99), \"TCRE_down\"] = np.nan\n",
    "data.loc[data.TCRE_down < data[\"TCRE_down\"].quantile(0.01), \"TCRE_down\"] = np.nan\n",
    "# data.loc[data.TCRE_down > 0, \"TCRE_down\"] = np.nan"
   ]
  },
  {
   "cell_type": "code",
   "execution_count": 30,
   "id": "a8e6d625",
   "metadata": {},
   "outputs": [
    {
     "data": {
      "text/plain": [
       "count    567639.000000\n",
       "mean          2.733291\n",
       "std           6.854475\n",
       "min         -39.601427\n",
       "25%           1.059668\n",
       "50%           2.268662\n",
       "75%           3.971063\n",
       "max          61.429788\n",
       "Name: TCRE_down, dtype: float64"
      ]
     },
     "execution_count": 30,
     "metadata": {},
     "output_type": "execute_result"
    },
    {
     "data": {
      "application/javascript": [
       "\n",
       "            setTimeout(function() {\n",
       "                var nbb_cell_id = 30;\n",
       "                var nbb_unformatted_code = \"data[\\\"TCRE_down\\\"].describe()\";\n",
       "                var nbb_formatted_code = \"data[\\\"TCRE_down\\\"].describe()\";\n",
       "                var nbb_cells = Jupyter.notebook.get_cells();\n",
       "                for (var i = 0; i < nbb_cells.length; ++i) {\n",
       "                    if (nbb_cells[i].input_prompt_number == nbb_cell_id) {\n",
       "                        if (nbb_cells[i].get_text() == nbb_unformatted_code) {\n",
       "                             nbb_cells[i].set_text(nbb_formatted_code);\n",
       "                        }\n",
       "                        break;\n",
       "                    }\n",
       "                }\n",
       "            }, 500);\n",
       "            "
      ],
      "text/plain": [
       "<IPython.core.display.Javascript object>"
      ]
     },
     "metadata": {},
     "output_type": "display_data"
    }
   ],
   "source": [
    "data[\"TCRE_down\"].describe()"
   ]
  },
  {
   "cell_type": "code",
   "execution_count": 31,
   "id": "d611410f",
   "metadata": {
    "scrolled": false
   },
   "outputs": [
    {
     "data": {
      "text/plain": [
       "Text(0.5, 0, 'TCRE down')"
      ]
     },
     "execution_count": 31,
     "metadata": {},
     "output_type": "execute_result"
    },
    {
     "data": {
      "image/png": "[encoded data removed]",
      "text/plain": [
       "<Figure size 640x480 with 1 Axes>"
      ]
     },
     "metadata": {},
     "output_type": "display_data"
    },
    {
     "data": {
      "application/javascript": [
       "\n",
       "            setTimeout(function() {\n",
       "                var nbb_cell_id = 31;\n",
       "                var nbb_unformatted_code = \"plt.hist(data[\\\"TCRE_down\\\"], bins=150)\\nplt.xlabel(\\\"TCRE down\\\")\";\n",
       "                var nbb_formatted_code = \"plt.hist(data[\\\"TCRE_down\\\"], bins=150)\\nplt.xlabel(\\\"TCRE down\\\")\";\n",
       "                var nbb_cells = Jupyter.notebook.get_cells();\n",
       "                for (var i = 0; i < nbb_cells.length; ++i) {\n",
       "                    if (nbb_cells[i].input_prompt_number == nbb_cell_id) {\n",
       "                        if (nbb_cells[i].get_text() == nbb_unformatted_code) {\n",
       "                             nbb_cells[i].set_text(nbb_formatted_code);\n",
       "                        }\n",
       "                        break;\n",
       "                    }\n",
       "                }\n",
       "            }, 500);\n",
       "            "
      ],
      "text/plain": [
       "<IPython.core.display.Javascript object>"
      ]
     },
     "metadata": {},
     "output_type": "display_data"
    }
   ],
   "source": [
    "plt.hist(data[\"TCRE_down\"], bins=150)\n",
    "plt.xlabel(\"TCRE down\")\n"
   ]
  },
  {
   "cell_type": "markdown",
   "id": "7224a12a",
   "metadata": {},
   "source": [
    "### TCRE up"
   ]
  },
  {
   "cell_type": "code",
   "execution_count": 62,
   "id": "9330446c",
   "metadata": {},
   "outputs": [
    {
     "data": {
      "application/javascript": [
       "\n",
       "            setTimeout(function() {\n",
       "                var nbb_cell_id = 62;\n",
       "                var nbb_unformatted_code = \"data[\\\"TCRE_up\\\"] = (data[\\\"peak_warming\\\"] - data[\\\"2030_warming\\\"]) / (\\n    (data[\\\"cumulative_emms_peak_warming\\\"] * 1e-6) / 3.67\\n)\";\n",
       "                var nbb_formatted_code = \"data[\\\"TCRE_up\\\"] = (data[\\\"peak_warming\\\"] - data[\\\"2030_warming\\\"]) / (\\n    (data[\\\"cumulative_emms_peak_warming\\\"] * 1e-6) / 3.67\\n)\";\n",
       "                var nbb_cells = Jupyter.notebook.get_cells();\n",
       "                for (var i = 0; i < nbb_cells.length; ++i) {\n",
       "                    if (nbb_cells[i].input_prompt_number == nbb_cell_id) {\n",
       "                        if (nbb_cells[i].get_text() == nbb_unformatted_code) {\n",
       "                             nbb_cells[i].set_text(nbb_formatted_code);\n",
       "                        }\n",
       "                        break;\n",
       "                    }\n",
       "                }\n",
       "            }, 500);\n",
       "            "
      ],
      "text/plain": [
       "<IPython.core.display.Javascript object>"
      ]
     },
     "metadata": {},
     "output_type": "display_data"
    }
   ],
   "source": [
    "data[\"TCRE_up\"] = (data[\"peak_warming\"] - data[\"2030_warming\"]) / (\n",
    "    (data[\"cumulative_emms_peak_warming\"] * 1e-6) / 3.67\n",
    ")"
   ]
  },
  {
   "cell_type": "code",
   "execution_count": 63,
   "id": "676630b5",
   "metadata": {},
   "outputs": [
    {
     "data": {
      "application/javascript": [
       "\n",
       "            setTimeout(function() {\n",
       "                var nbb_cell_id = 63;\n",
       "                var nbb_unformatted_code = \"# replace infinate values\\ndata[\\\"TCRE_up\\\"].replace([np.inf, -np.inf], np.nan, inplace=True)\";\n",
       "                var nbb_formatted_code = \"# replace infinate values\\ndata[\\\"TCRE_up\\\"].replace([np.inf, -np.inf], np.nan, inplace=True)\";\n",
       "                var nbb_cells = Jupyter.notebook.get_cells();\n",
       "                for (var i = 0; i < nbb_cells.length; ++i) {\n",
       "                    if (nbb_cells[i].input_prompt_number == nbb_cell_id) {\n",
       "                        if (nbb_cells[i].get_text() == nbb_unformatted_code) {\n",
       "                             nbb_cells[i].set_text(nbb_formatted_code);\n",
       "                        }\n",
       "                        break;\n",
       "                    }\n",
       "                }\n",
       "            }, 500);\n",
       "            "
      ],
      "text/plain": [
       "<IPython.core.display.Javascript object>"
      ]
     },
     "metadata": {},
     "output_type": "display_data"
    }
   ],
   "source": [
    "# replace infinate values\n",
    "data[\"TCRE_up\"].replace([np.inf, -np.inf], np.nan, inplace=True)"
   ]
  },
  {
   "cell_type": "code",
   "execution_count": 64,
   "id": "ae0f3126",
   "metadata": {
    "scrolled": true
   },
   "outputs": [
    {
     "data": {
      "text/plain": [
       "count    595227.000000\n",
       "mean          2.861745\n",
       "std          48.430923\n",
       "min       -2866.667726\n",
       "25%           1.586426\n",
       "50%           2.137972\n",
       "75%           2.992372\n",
       "max       10020.226109\n",
       "Name: TCRE_up, dtype: float64"
      ]
     },
     "execution_count": 64,
     "metadata": {},
     "output_type": "execute_result"
    },
    {
     "data": {
      "application/javascript": [
       "\n",
       "            setTimeout(function() {\n",
       "                var nbb_cell_id = 64;\n",
       "                var nbb_unformatted_code = \"data[\\\"TCRE_up\\\"].describe()\";\n",
       "                var nbb_formatted_code = \"data[\\\"TCRE_up\\\"].describe()\";\n",
       "                var nbb_cells = Jupyter.notebook.get_cells();\n",
       "                for (var i = 0; i < nbb_cells.length; ++i) {\n",
       "                    if (nbb_cells[i].input_prompt_number == nbb_cell_id) {\n",
       "                        if (nbb_cells[i].get_text() == nbb_unformatted_code) {\n",
       "                             nbb_cells[i].set_text(nbb_formatted_code);\n",
       "                        }\n",
       "                        break;\n",
       "                    }\n",
       "                }\n",
       "            }, 500);\n",
       "            "
      ],
      "text/plain": [
       "<IPython.core.display.Javascript object>"
      ]
     },
     "metadata": {},
     "output_type": "display_data"
    }
   ],
   "source": [
    "data[\"TCRE_up\"].describe()"
   ]
  },
  {
   "cell_type": "code",
   "execution_count": 66,
   "id": "8675a1c9",
   "metadata": {},
   "outputs": [
    {
     "name": "stdout",
     "output_type": "stream",
     "text": [
      "0.44598574928905693\n",
      "13.788460551038018\n"
     ]
    },
    {
     "data": {
      "application/javascript": [
       "\n",
       "            setTimeout(function() {\n",
       "                var nbb_cell_id = 66;\n",
       "                var nbb_unformatted_code = \"print(data[\\\"TCRE_up\\\"].quantile(0.01))\\nprint(data[\\\"TCRE_up\\\"].quantile(0.99))\";\n",
       "                var nbb_formatted_code = \"print(data[\\\"TCRE_up\\\"].quantile(0.01))\\nprint(data[\\\"TCRE_up\\\"].quantile(0.99))\";\n",
       "                var nbb_cells = Jupyter.notebook.get_cells();\n",
       "                for (var i = 0; i < nbb_cells.length; ++i) {\n",
       "                    if (nbb_cells[i].input_prompt_number == nbb_cell_id) {\n",
       "                        if (nbb_cells[i].get_text() == nbb_unformatted_code) {\n",
       "                             nbb_cells[i].set_text(nbb_formatted_code);\n",
       "                        }\n",
       "                        break;\n",
       "                    }\n",
       "                }\n",
       "            }, 500);\n",
       "            "
      ],
      "text/plain": [
       "<IPython.core.display.Javascript object>"
      ]
     },
     "metadata": {},
     "output_type": "display_data"
    }
   ],
   "source": [
    "print(data[\"TCRE_up\"].quantile(0.01))\n",
    "print(data[\"TCRE_up\"].quantile(0.99))"
   ]
  },
  {
   "cell_type": "code",
   "execution_count": 53,
   "id": "3805cc0a",
   "metadata": {},
   "outputs": [
    {
     "data": {
      "application/javascript": [
       "\n",
       "            setTimeout(function() {\n",
       "                var nbb_cell_id = 53;\n",
       "                var nbb_unformatted_code = \"## set values outside of the 1-99th percentile range to nan\\ndata.loc[data.TCRE_up > data[\\\"TCRE_up\\\"].quantile(0.99), \\\"TCRE_up\\\"] = np.nan\\ndata.loc[data.TCRE_up < data[\\\"TCRE_up\\\"].quantile(0.01), \\\"TCRE_up\\\"] = np.nan\";\n",
       "                var nbb_formatted_code = \"## set values outside of the 1-99th percentile range to nan\\ndata.loc[data.TCRE_up > data[\\\"TCRE_up\\\"].quantile(0.99), \\\"TCRE_up\\\"] = np.nan\\ndata.loc[data.TCRE_up < data[\\\"TCRE_up\\\"].quantile(0.01), \\\"TCRE_up\\\"] = np.nan\";\n",
       "                var nbb_cells = Jupyter.notebook.get_cells();\n",
       "                for (var i = 0; i < nbb_cells.length; ++i) {\n",
       "                    if (nbb_cells[i].input_prompt_number == nbb_cell_id) {\n",
       "                        if (nbb_cells[i].get_text() == nbb_unformatted_code) {\n",
       "                             nbb_cells[i].set_text(nbb_formatted_code);\n",
       "                        }\n",
       "                        break;\n",
       "                    }\n",
       "                }\n",
       "            }, 500);\n",
       "            "
      ],
      "text/plain": [
       "<IPython.core.display.Javascript object>"
      ]
     },
     "metadata": {},
     "output_type": "display_data"
    }
   ],
   "source": [
    "## set values outside of the 1-99th percentile range to nan\n",
    "data.loc[data.TCRE_up > data[\"TCRE_up\"].quantile(0.99), \"TCRE_up\"] = np.nan\n",
    "data.loc[data.TCRE_up < data[\"TCRE_up\"].quantile(0.01), \"TCRE_up\"] = np.nan\n"
   ]
  },
  {
   "cell_type": "code",
   "execution_count": 54,
   "id": "c91cceb4",
   "metadata": {},
   "outputs": [
    {
     "data": {
      "text/plain": [
       "Text(0.5, 0, 'TCRE_up')"
      ]
     },
     "execution_count": 54,
     "metadata": {},
     "output_type": "execute_result"
    },
    {
     "data": {
      "image/png": "[encoded data removed]",
      "text/plain": [
       "<Figure size 640x480 with 1 Axes>"
      ]
     },
     "metadata": {},
     "output_type": "display_data"
    },
    {
     "data": {
      "application/javascript": [
       "\n",
       "            setTimeout(function() {\n",
       "                var nbb_cell_id = 54;\n",
       "                var nbb_unformatted_code = \"plt.hist(data[\\\"TCRE_up\\\"], bins=100)\\nplt.xlabel(\\\"TCRE_up\\\")\\n# plt.xlim(-0.5, 1.7)\";\n",
       "                var nbb_formatted_code = \"plt.hist(data[\\\"TCRE_up\\\"], bins=100)\\nplt.xlabel(\\\"TCRE_up\\\")\\n# plt.xlim(-0.5, 1.7)\";\n",
       "                var nbb_cells = Jupyter.notebook.get_cells();\n",
       "                for (var i = 0; i < nbb_cells.length; ++i) {\n",
       "                    if (nbb_cells[i].input_prompt_number == nbb_cell_id) {\n",
       "                        if (nbb_cells[i].get_text() == nbb_unformatted_code) {\n",
       "                             nbb_cells[i].set_text(nbb_formatted_code);\n",
       "                        }\n",
       "                        break;\n",
       "                    }\n",
       "                }\n",
       "            }, 500);\n",
       "            "
      ],
      "text/plain": [
       "<IPython.core.display.Javascript object>"
      ]
     },
     "metadata": {},
     "output_type": "display_data"
    }
   ],
   "source": [
    "plt.hist(data[\"TCRE_up\"], bins=100)\n",
    "plt.xlabel(\"TCRE_up\")"
   ]
  },
  {
   "cell_type": "markdown",
   "id": "7c55485b",
   "metadata": {},
   "source": [
    "### Save"
   ]
  },
  {
   "cell_type": "code",
   "execution_count": 55,
   "id": "72c655bd",
   "metadata": {},
   "outputs": [
    {
     "data": {
      "application/javascript": [
       "\n",
       "            setTimeout(function() {\n",
       "                var nbb_cell_id = 55;\n",
       "                var nbb_unformatted_code = \"data.to_csv(str(OUTPUT_FILE_META))\";\n",
       "                var nbb_formatted_code = \"data.to_csv(str(OUTPUT_FILE_META))\";\n",
       "                var nbb_cells = Jupyter.notebook.get_cells();\n",
       "                for (var i = 0; i < nbb_cells.length; ++i) {\n",
       "                    if (nbb_cells[i].input_prompt_number == nbb_cell_id) {\n",
       "                        if (nbb_cells[i].get_text() == nbb_unformatted_code) {\n",
       "                             nbb_cells[i].set_text(nbb_formatted_code);\n",
       "                        }\n",
       "                        break;\n",
       "                    }\n",
       "                }\n",
       "            }, 500);\n",
       "            "
      ],
      "text/plain": [
       "<IPython.core.display.Javascript object>"
      ]
     },
     "metadata": {},
     "output_type": "display_data"
    }
   ],
   "source": [
    "data.to_csv(str(OUTPUT_FILE_META))"
   ]
  },
  {
   "cell_type": "code",
   "execution_count": null,
   "id": "b1b538db",
   "metadata": {},
   "outputs": [],
   "source": []
  }
 ],
 "metadata": {
  "kernelspec": {
   "display_name": "Python 3 (ipykernel)",
   "language": "python",
   "name": "python3"
  },
  "language_info": {
   "codemirror_mode": {
    "name": "ipython",
    "version": 3
   },
   "file_extension": ".py",
   "mimetype": "text/x-python",
   "name": "python",
   "nbconvert_exporter": "python",
   "pygments_lexer": "ipython3",
   "version": "3.9.13"
  }
 },
 "nbformat": 4,
 "nbformat_minor": 5
}
