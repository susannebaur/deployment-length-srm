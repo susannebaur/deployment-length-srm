{
 "cells": [
  {
   "cell_type": "markdown",
   "id": "6c071e64",
   "metadata": {},
   "source": [
    "# Calculate delta ERF\n",
    "\n",
    "Here we calculate the difference in ERF between each scenario's output and what has to be run through MAGICC to get at 1.5C trajectory. We also:\n",
    "\n",
    "- add peak warming\n",
    "- add 2100 warming\n",
    "- add number of years of SRM"
   ]
  },
  {
   "cell_type": "code",
   "execution_count": 1,
   "id": "0db225bb",
   "metadata": {},
   "outputs": [
    {
     "data": {
      "application/javascript": [
       "\n",
       "            setTimeout(function() {\n",
       "                var nbb_cell_id = 1;\n",
       "                var nbb_unformatted_code = \"%load_ext nb_black\";\n",
       "                var nbb_formatted_code = \"%load_ext nb_black\";\n",
       "                var nbb_cells = Jupyter.notebook.get_cells();\n",
       "                for (var i = 0; i < nbb_cells.length; ++i) {\n",
       "                    if (nbb_cells[i].input_prompt_number == nbb_cell_id) {\n",
       "                        if (nbb_cells[i].get_text() == nbb_unformatted_code) {\n",
       "                             nbb_cells[i].set_text(nbb_formatted_code);\n",
       "                        }\n",
       "                        break;\n",
       "                    }\n",
       "                }\n",
       "            }, 500);\n",
       "            "
      ],
      "text/plain": [
       "<IPython.core.display.Javascript object>"
      ]
     },
     "metadata": {},
     "output_type": "display_data"
    }
   ],
   "source": [
    "%load_ext nb_black"
   ]
  },
  {
   "cell_type": "code",
   "execution_count": 2,
   "id": "ea04c670",
   "metadata": {},
   "outputs": [
    {
     "data": {
      "application/javascript": [
       "if (typeof IPython !== 'undefined') { IPython.OutputArea.prototype._should_scroll = function(lines){ return false; }}"
      ],
      "text/plain": [
       "<IPython.core.display.Javascript object>"
      ]
     },
     "metadata": {},
     "output_type": "display_data"
    },
    {
     "name": "stderr",
     "output_type": "stream",
     "text": [
      "/var/folders/2n/v3g75q4d3636klrs2jxq81zc0000gp/T/ipykernel_67536/3128152630.py:7: TqdmExperimentalWarning: Using `tqdm.autonotebook.tqdm` in notebook mode. Use `tqdm.tqdm` instead to force console mode (e.g. in jupyter console)\n",
      "  import tqdm.autonotebook as tqdman\n"
     ]
    },
    {
     "data": {
      "application/javascript": [
       "\n",
       "            setTimeout(function() {\n",
       "                var nbb_cell_id = 2;\n",
       "                var nbb_unformatted_code = \"from pathlib import Path\\n\\nimport matplotlib.pyplot as plt\\nimport scmdata\\nimport seaborn as sns\\nimport numpy as np\\nimport tqdm.autonotebook as tqdman\\n\\nimport utils\";\n",
       "                var nbb_formatted_code = \"from pathlib import Path\\n\\nimport matplotlib.pyplot as plt\\nimport scmdata\\nimport seaborn as sns\\nimport numpy as np\\nimport tqdm.autonotebook as tqdman\\n\\nimport utils\";\n",
       "                var nbb_cells = Jupyter.notebook.get_cells();\n",
       "                for (var i = 0; i < nbb_cells.length; ++i) {\n",
       "                    if (nbb_cells[i].input_prompt_number == nbb_cell_id) {\n",
       "                        if (nbb_cells[i].get_text() == nbb_unformatted_code) {\n",
       "                             nbb_cells[i].set_text(nbb_formatted_code);\n",
       "                        }\n",
       "                        break;\n",
       "                    }\n",
       "                }\n",
       "            }, 500);\n",
       "            "
      ],
      "text/plain": [
       "<IPython.core.display.Javascript object>"
      ]
     },
     "metadata": {},
     "output_type": "display_data"
    }
   ],
   "source": [
    "from pathlib import Path\n",
    "\n",
    "import matplotlib.pyplot as plt\n",
    "import scmdata\n",
    "import seaborn as sns\n",
    "import numpy as np\n",
    "import tqdm.autonotebook as tqdman\n",
    "\n",
    "import utils"
   ]
  },
  {
   "cell_type": "code",
   "execution_count": 3,
   "id": "e1f235a4",
   "metadata": {},
   "outputs": [
    {
     "data": {
      "application/javascript": [
       "\n",
       "            setTimeout(function() {\n",
       "                var nbb_cell_id = 3;\n",
       "                var nbb_unformatted_code = \"ID = \\\"sb_noSRM_inclu\\\"\\nSRM_START_YEAR = 2030\\nVAR = \\\"ERF\\\"\";\n",
       "                var nbb_formatted_code = \"ID = \\\"sb_noSRM_inclu\\\"\\nSRM_START_YEAR = 2030\\nVAR = \\\"ERF\\\"\";\n",
       "                var nbb_cells = Jupyter.notebook.get_cells();\n",
       "                for (var i = 0; i < nbb_cells.length; ++i) {\n",
       "                    if (nbb_cells[i].input_prompt_number == nbb_cell_id) {\n",
       "                        if (nbb_cells[i].get_text() == nbb_unformatted_code) {\n",
       "                             nbb_cells[i].set_text(nbb_formatted_code);\n",
       "                        }\n",
       "                        break;\n",
       "                    }\n",
       "                }\n",
       "            }, 500);\n",
       "            "
      ],
      "text/plain": [
       "<IPython.core.display.Javascript object>"
      ]
     },
     "metadata": {},
     "output_type": "display_data"
    }
   ],
   "source": [
    "ID = \"sb_noSRM_inclu\"\n",
    "SRM_START_YEAR = 2030\n",
    "VAR = \"ERF\""
   ]
  },
  {
   "cell_type": "code",
   "execution_count": 4,
   "id": "df03f817",
   "metadata": {},
   "outputs": [
    {
     "data": {
      "application/javascript": [
       "\n",
       "            setTimeout(function() {\n",
       "                var nbb_cell_id = 4;\n",
       "                var nbb_unformatted_code = \"OUTPUT_DIR = Path(utils.DATA_DIR / \\\"interim\\\" / \\\"delta_rf\\\")\\nOUTPUT_FILE = OUTPUT_DIR / f\\\"{ID}_delta-erf.csv\\\"\\nOUTPUT_FILE_META = OUTPUT_DIR / f\\\"{ID}_delta-erf_meta.csv\\\"\\nOUTPUT_FILE.parent.parent.mkdir(exist_ok=True)\\nOUTPUT_FILE.parent.mkdir(exist_ok=True)\";\n",
       "                var nbb_formatted_code = \"OUTPUT_DIR = Path(utils.DATA_DIR / \\\"interim\\\" / \\\"delta_rf\\\")\\nOUTPUT_FILE = OUTPUT_DIR / f\\\"{ID}_delta-erf.csv\\\"\\nOUTPUT_FILE_META = OUTPUT_DIR / f\\\"{ID}_delta-erf_meta.csv\\\"\\nOUTPUT_FILE.parent.parent.mkdir(exist_ok=True)\\nOUTPUT_FILE.parent.mkdir(exist_ok=True)\";\n",
       "                var nbb_cells = Jupyter.notebook.get_cells();\n",
       "                for (var i = 0; i < nbb_cells.length; ++i) {\n",
       "                    if (nbb_cells[i].input_prompt_number == nbb_cell_id) {\n",
       "                        if (nbb_cells[i].get_text() == nbb_unformatted_code) {\n",
       "                             nbb_cells[i].set_text(nbb_formatted_code);\n",
       "                        }\n",
       "                        break;\n",
       "                    }\n",
       "                }\n",
       "            }, 500);\n",
       "            "
      ],
      "text/plain": [
       "<IPython.core.display.Javascript object>"
      ]
     },
     "metadata": {},
     "output_type": "display_data"
    }
   ],
   "source": [
    "OUTPUT_DIR = Path(utils.DATA_DIR / \"interim\" / \"delta_rf\")\n",
    "OUTPUT_FILE = OUTPUT_DIR / f\"{ID}_delta-erf.csv\"\n",
    "OUTPUT_FILE_META = OUTPUT_DIR / f\"{ID}_delta-erf_meta.csv\"\n",
    "OUTPUT_FILE.parent.parent.mkdir(exist_ok=True)\n",
    "OUTPUT_FILE.parent.mkdir(exist_ok=True)"
   ]
  },
  {
   "cell_type": "code",
   "execution_count": 5,
   "id": "94581fc9",
   "metadata": {},
   "outputs": [
    {
     "data": {
      "application/javascript": [
       "\n",
       "            setTimeout(function() {\n",
       "                var nbb_cell_id = 5;\n",
       "                var nbb_unformatted_code = \"ENSEMBLE_MEMBERS_15_ERF_FILE = Path(\\n    utils.DATA_DIR\\n    / \\\"interim\\\"\\n    / \\\"merged_15_trajectories\\\"\\n    / f\\\"merged_{VAR}_{SRM_START_YEAR}.csv\\\"\\n)\\n\\nERF_15 = scmdata.ScmRun(str(ENSEMBLE_MEMBERS_15_ERF_FILE))\";\n",
       "                var nbb_formatted_code = \"ENSEMBLE_MEMBERS_15_ERF_FILE = Path(\\n    utils.DATA_DIR\\n    / \\\"interim\\\"\\n    / \\\"merged_15_trajectories\\\"\\n    / f\\\"merged_{VAR}_{SRM_START_YEAR}.csv\\\"\\n)\\n\\nERF_15 = scmdata.ScmRun(str(ENSEMBLE_MEMBERS_15_ERF_FILE))\";\n",
       "                var nbb_cells = Jupyter.notebook.get_cells();\n",
       "                for (var i = 0; i < nbb_cells.length; ++i) {\n",
       "                    if (nbb_cells[i].input_prompt_number == nbb_cell_id) {\n",
       "                        if (nbb_cells[i].get_text() == nbb_unformatted_code) {\n",
       "                             nbb_cells[i].set_text(nbb_formatted_code);\n",
       "                        }\n",
       "                        break;\n",
       "                    }\n",
       "                }\n",
       "            }, 500);\n",
       "            "
      ],
      "text/plain": [
       "<IPython.core.display.Javascript object>"
      ]
     },
     "metadata": {},
     "output_type": "display_data"
    }
   ],
   "source": [
    "ENSEMBLE_MEMBERS_15_ERF_FILE = Path(\n",
    "    utils.DATA_DIR\n",
    "    / \"interim\"\n",
    "    / \"merged_15_trajectories\"\n",
    "    / f\"merged_{VAR}_{SRM_START_YEAR}.csv\"\n",
    ")\n",
    "\n",
    "ERF_15 = scmdata.ScmRun(str(ENSEMBLE_MEMBERS_15_ERF_FILE))"
   ]
  },
  {
   "cell_type": "code",
   "execution_count": 6,
   "id": "c9f369dc",
   "metadata": {},
   "outputs": [
    {
     "data": {
      "application/javascript": [
       "\n",
       "            setTimeout(function() {\n",
       "                var nbb_cell_id = 6;\n",
       "                var nbb_unformatted_code = \"MAGICC_TS_FILE = (\\n    utils.DATA_DIR\\n    / \\\"interim\\\"\\n    / \\\"magicc-output\\\"\\n    / f\\\"magicc-output_{ID}_emission_info.csv\\\"\\n)\";\n",
       "                var nbb_formatted_code = \"MAGICC_TS_FILE = (\\n    utils.DATA_DIR\\n    / \\\"interim\\\"\\n    / \\\"magicc-output\\\"\\n    / f\\\"magicc-output_{ID}_emission_info.csv\\\"\\n)\";\n",
       "                var nbb_cells = Jupyter.notebook.get_cells();\n",
       "                for (var i = 0; i < nbb_cells.length; ++i) {\n",
       "                    if (nbb_cells[i].input_prompt_number == nbb_cell_id) {\n",
       "                        if (nbb_cells[i].get_text() == nbb_unformatted_code) {\n",
       "                             nbb_cells[i].set_text(nbb_formatted_code);\n",
       "                        }\n",
       "                        break;\n",
       "                    }\n",
       "                }\n",
       "            }, 500);\n",
       "            "
      ],
      "text/plain": [
       "<IPython.core.display.Javascript object>"
      ]
     },
     "metadata": {},
     "output_type": "display_data"
    }
   ],
   "source": [
    "MAGICC_TS_FILE = (\n",
    "    utils.DATA_DIR\n",
    "    / \"interim\"\n",
    "    / \"magicc-output\"\n",
    "    / f\"magicc-output_{ID}_emission_info.csv\"\n",
    ")"
   ]
  },
  {
   "cell_type": "code",
   "execution_count": 7,
   "id": "5239612c",
   "metadata": {
    "scrolled": true
   },
   "outputs": [
    {
     "data": {
      "text/plain": [
       "<ScmRun (timeseries: 416400, timepoints: 751)>\n",
       "Time:\n",
       "\tStart: 1750-01-01T00:00:00\n",
       "\tEnd: 2500-01-01T00:00:00\n",
       "Meta:\n",
       "\t        average_annual_emissions_2030_net-zero  \\\n",
       "\t0                                 18751.813987   \n",
       "\t1                                 18751.813987   \n",
       "\t2                                 18751.813987   \n",
       "\t3                                 18751.813987   \n",
       "\t4                                 21341.038435   \n",
       "\t...                                        ...   \n",
       "\t416395                            20076.098305   \n",
       "\t416396                            20076.098305   \n",
       "\t416397                            20076.098305   \n",
       "\t416398                            20076.098305   \n",
       "\t416399                            20076.098305   \n",
       "\t\n",
       "\t        average_cdr_between_net0_and_15 climate_model  cumulative_emms_15  \\\n",
       "\t0                          12868.518933  MAGICCv7.5.3       -2.501199e+06   \n",
       "\t1                          12868.518933  MAGICCv7.5.3       -2.501199e+06   \n",
       "\t2                          17799.101034  MAGICCv7.5.3       -5.060274e+06   \n",
       "\t3                          17799.101034  MAGICCv7.5.3       -5.060274e+06   \n",
       "\t4                           5754.528269  MAGICCv7.5.3       -1.082178e+05   \n",
       "\t...                                 ...           ...                 ...   \n",
       "\t416395                      9428.413400  MAGICCv7.5.3       -2.169757e+05   \n",
       "\t416396                      8446.271350  MAGICCv7.5.3        4.960293e+06   \n",
       "\t416397                      8446.271350  MAGICCv7.5.3        4.960293e+06   \n",
       "\t416398                      7143.619951  MAGICCv7.5.3        1.444837e+05   \n",
       "\t416399                      7143.619951  MAGICCv7.5.3        1.444837e+05   \n",
       "\t\n",
       "\t        cumulative_emms_net0_to_15  cumulative_emms_peak_warming  \\\n",
       "\t0                    -3.410158e+06                  7.178180e+05   \n",
       "\t1                    -3.410158e+06                  7.178180e+05   \n",
       "\t2                    -5.464324e+06                  2.309712e+05   \n",
       "\t3                    -5.464324e+06                  2.309712e+05   \n",
       "\t4                    -8.401611e+05                  7.305397e+05   \n",
       "\t...                            ...                           ...   \n",
       "\t416395               -1.121981e+06                  9.003302e+05   \n",
       "\t416396               -2.229816e+06                  7.161649e+06   \n",
       "\t416397               -2.229816e+06                  7.161649e+06   \n",
       "\t416398               -3.428938e+05                  4.813282e+05   \n",
       "\t416399               -3.428938e+05                  4.813282e+05   \n",
       "\t\n",
       "\t        cumulative_emms_peak_warming_to_15  cumulative_pos_emms_at_15  \\\n",
       "\t0                            -3.219017e+06               9.092131e+05   \n",
       "\t1                            -3.219017e+06               9.092131e+05   \n",
       "\t2                            -5.291246e+06               4.042556e+05   \n",
       "\t3                            -5.291246e+06               4.042556e+05   \n",
       "\t4                            -8.387575e+05               7.323112e+05   \n",
       "\t...                                    ...                        ...   \n",
       "\t416395                       -1.117306e+06               9.054549e+05   \n",
       "\t416396                       -2.201355e+06               7.190232e+06   \n",
       "\t416397                       -2.201355e+06               7.190232e+06   \n",
       "\t416398                       -3.368445e+05               4.876540e+05   \n",
       "\t416399                       -3.368445e+05               4.876540e+05   \n",
       "\t\n",
       "\t        cumulative_pos_emms_at_net0  ensemble_member  ...  \\\n",
       "\t0                      9.092131e+05                0  ...   \n",
       "\t1                      9.092131e+05                0  ...   \n",
       "\t2                      4.042556e+05                0  ...   \n",
       "\t3                      4.042556e+05                0  ...   \n",
       "\t4                      7.323112e+05                0  ...   \n",
       "\t...                             ...              ...  ...   \n",
       "\t416395                 9.054549e+05              599  ...   \n",
       "\t416396                 7.190232e+06              599  ...   \n",
       "\t416397                 7.190232e+06              599  ...   \n",
       "\t416398                 4.876540e+05              599  ...   \n",
       "\t416399                 4.876540e+05              599  ...   \n",
       "\t\n",
       "\t                                              ms  net-zero_year  \\\n",
       "\t0             AIM/CGE 2.1CD-LINKS_INDC2030i_1600           2117   \n",
       "\t1             AIM/CGE 2.1CD-LINKS_INDC2030i_1600           2117   \n",
       "\t2              AIM/CGE 2.1CD-LINKS_NDC2030i_1000           2057   \n",
       "\t3              AIM/CGE 2.1CD-LINKS_NDC2030i_1000           2057   \n",
       "\t4                  AIM/CGE 2.2EN_INDCi2030_1000f           2067   \n",
       "\t...                                          ...            ...   \n",
       "\t416395  WITCH-GLOBIOM 4.4CD-LINKS_INDC2030i_1600           2089   \n",
       "\t416396           WITCH-GLOBIOM 4.4CD-LINKS_INDCi           2200   \n",
       "\t416397           WITCH-GLOBIOM 4.4CD-LINKS_INDCi           2200   \n",
       "\t416398   WITCH-GLOBIOM 4.4CD-LINKS_NDC2030i_1000           2067   \n",
       "\t416399   WITCH-GLOBIOM 4.4CD-LINKS_NDC2030i_1000           2067   \n",
       "\t\n",
       "\t       net_CDR_at_15_temp region  run_id                 scenario  \\\n",
       "\t0           -3.410412e+06  World       0  CD-LINKS_INDC2030i_1600   \n",
       "\t1           -3.410412e+06  World       0  CD-LINKS_INDC2030i_1600   \n",
       "\t2           -5.464530e+06  World     600   CD-LINKS_NDC2030i_1000   \n",
       "\t3           -5.464530e+06  World     600   CD-LINKS_NDC2030i_1000   \n",
       "\t4           -8.405290e+05  World    1200       EN_INDCi2030_1000f   \n",
       "\t...                   ...    ...     ...                      ...   \n",
       "\t416395      -1.122431e+06  World     599  CD-LINKS_INDC2030i_1600   \n",
       "\t416396      -2.229939e+06  World    1199           CD-LINKS_INDCi   \n",
       "\t416397      -2.229939e+06  World    1199           CD-LINKS_INDCi   \n",
       "\t416398      -3.431703e+05  World    1799   CD-LINKS_NDC2030i_1000   \n",
       "\t416399      -3.431703e+05  World    1799   CD-LINKS_NDC2030i_1000   \n",
       "\t\n",
       "\t           total_CDR   unit                        variable  \\\n",
       "\t0      -4.910419e+06      K  Surface Air Temperature Change   \n",
       "\t1      -4.910419e+06  W/m^2     Effective Radiative Forcing   \n",
       "\t2      -3.531033e+06      K  Surface Air Temperature Change   \n",
       "\t3      -3.531033e+06  W/m^2     Effective Radiative Forcing   \n",
       "\t4      -4.445832e+06      K  Surface Air Temperature Change   \n",
       "\t...              ...    ...                             ...   \n",
       "\t416395 -3.082640e+06  W/m^2     Effective Radiative Forcing   \n",
       "\t416396 -9.484346e+06      K  Surface Air Temperature Change   \n",
       "\t416397 -9.484346e+06  W/m^2     Effective Radiative Forcing   \n",
       "\t416398 -1.146115e+07      K  Surface Air Temperature Change   \n",
       "\t416399 -1.146115e+07  W/m^2     Effective Radiative Forcing   \n",
       "\t\n",
       "\t        year_return_back_below_15_temp  \n",
       "\t0                                 2382  \n",
       "\t1                                 2382  \n",
       "\t2                                 2364  \n",
       "\t3                                 2364  \n",
       "\t4                                 2213  \n",
       "\t...                                ...  \n",
       "\t416395                            2208  \n",
       "\t416396                            2464  \n",
       "\t416397                            2464  \n",
       "\t416398                            2115  \n",
       "\t416399                            2115  \n",
       "\t\n",
       "\t[416400 rows x 23 columns]"
      ]
     },
     "execution_count": 7,
     "metadata": {},
     "output_type": "execute_result"
    },
    {
     "data": {
      "application/javascript": [
       "\n",
       "            setTimeout(function() {\n",
       "                var nbb_cell_id = 7;\n",
       "                var nbb_unformatted_code = \"magicc_output = scmdata.ScmRun(str(MAGICC_TS_FILE))\\nmagicc_output\";\n",
       "                var nbb_formatted_code = \"magicc_output = scmdata.ScmRun(str(MAGICC_TS_FILE))\\nmagicc_output\";\n",
       "                var nbb_cells = Jupyter.notebook.get_cells();\n",
       "                for (var i = 0; i < nbb_cells.length; ++i) {\n",
       "                    if (nbb_cells[i].input_prompt_number == nbb_cell_id) {\n",
       "                        if (nbb_cells[i].get_text() == nbb_unformatted_code) {\n",
       "                             nbb_cells[i].set_text(nbb_formatted_code);\n",
       "                        }\n",
       "                        break;\n",
       "                    }\n",
       "                }\n",
       "            }, 500);\n",
       "            "
      ],
      "text/plain": [
       "<IPython.core.display.Javascript object>"
      ]
     },
     "metadata": {},
     "output_type": "display_data"
    }
   ],
   "source": [
    "magicc_output = scmdata.ScmRun(str(MAGICC_TS_FILE))\n",
    "magicc_output"
   ]
  },
  {
   "cell_type": "markdown",
   "id": "97116e9f",
   "metadata": {},
   "source": [
    "## Calculate delta ERF"
   ]
  },
  {
   "cell_type": "code",
   "execution_count": 8,
   "id": "a2d20f3f",
   "metadata": {},
   "outputs": [
    {
     "data": {
      "application/javascript": [
       "\n",
       "            setTimeout(function() {\n",
       "                var nbb_cell_id = 8;\n",
       "                var nbb_unformatted_code = \"scenario_erf_ts = magicc_output.filter(variable=\\\"*Forcing*\\\", region=\\\"World\\\").timeseries(\\n    [\\\"ensemble_member\\\", \\\"variable\\\", \\\"unit\\\", \\\"ms\\\", \\\"region\\\"], time_axis=\\\"year\\\"\\n)\\nERF_15_ts = ERF_15.filter(\\n    region=\\\"World\\\", ensemble_member=magicc_output.get_unique_meta(\\\"ensemble_member\\\")\\n).timeseries(\\n    [\\\"ensemble_member\\\", \\\"variable\\\", \\\"unit\\\", \\\"region\\\", \\\"TCRE\\\"], time_axis=\\\"year\\\"\\n)\\n\\n# Rounding important\\ndelta_rf_ts = scenario_erf_ts.round(3).subtract(ERF_15_ts, axis=0)\\ndelta_rf_ts = delta_rf_ts.reset_index(\\\"variable\\\")\\ndelta_rf_ts[\\\"variable\\\"] = \\\"delta_rf\\\"\\ndelta_rf_ts = delta_rf_ts.set_index(\\\"variable\\\", append=True)\\n\\n# check that the delta is zero up to 2014\\nassert delta_rf_ts.loc[:, 1750:2014].max(axis=1).max() == 0.0\\n# display(delta_rf_ts.loc[:, 1750:2014].max(axis=1))\\n\\n# add metadata back in\\ndelta_rf_ts = delta_rf_ts.reset_index().set_index([\\\"ms\\\", \\\"ensemble_member\\\"])\\nmeta_to_add = magicc_output.filter(\\n    ms=delta_rf_ts.index.get_level_values(\\\"ms\\\").unique().tolist()\\n).meta.set_index(delta_rf_ts.index.names)\\nmeta_to_add = meta_to_add[\\n    [c for c in meta_to_add if c not in delta_rf_ts and c not in [\\\"run_id\\\", \\\"variable\\\"]]\\n]\\n\\nmeta_to_add = meta_to_add.reset_index().drop_duplicates()\\nmeta_to_add = meta_to_add.set_index([\\\"ms\\\", \\\"ensemble_member\\\"])\\n\\n\\ndelta_rf_ts = delta_rf_ts.join(meta_to_add)\\n\\n# Clip out any values less than zero\\ndelta_rf_ts = scmdata.ScmRun(delta_rf_ts).timeseries().clip(lower=0)\\ndelta_rf_ts = scmdata.ScmRun(delta_rf_ts)\";\n",
       "                var nbb_formatted_code = \"scenario_erf_ts = magicc_output.filter(variable=\\\"*Forcing*\\\", region=\\\"World\\\").timeseries(\\n    [\\\"ensemble_member\\\", \\\"variable\\\", \\\"unit\\\", \\\"ms\\\", \\\"region\\\"], time_axis=\\\"year\\\"\\n)\\nERF_15_ts = ERF_15.filter(\\n    region=\\\"World\\\", ensemble_member=magicc_output.get_unique_meta(\\\"ensemble_member\\\")\\n).timeseries(\\n    [\\\"ensemble_member\\\", \\\"variable\\\", \\\"unit\\\", \\\"region\\\", \\\"TCRE\\\"], time_axis=\\\"year\\\"\\n)\\n\\n# Rounding important\\ndelta_rf_ts = scenario_erf_ts.round(3).subtract(ERF_15_ts, axis=0)\\ndelta_rf_ts = delta_rf_ts.reset_index(\\\"variable\\\")\\ndelta_rf_ts[\\\"variable\\\"] = \\\"delta_rf\\\"\\ndelta_rf_ts = delta_rf_ts.set_index(\\\"variable\\\", append=True)\\n\\n# check that the delta is zero up to 2014\\nassert delta_rf_ts.loc[:, 1750:2014].max(axis=1).max() == 0.0\\n# display(delta_rf_ts.loc[:, 1750:2014].max(axis=1))\\n\\n# add metadata back in\\ndelta_rf_ts = delta_rf_ts.reset_index().set_index([\\\"ms\\\", \\\"ensemble_member\\\"])\\nmeta_to_add = magicc_output.filter(\\n    ms=delta_rf_ts.index.get_level_values(\\\"ms\\\").unique().tolist()\\n).meta.set_index(delta_rf_ts.index.names)\\nmeta_to_add = meta_to_add[\\n    [c for c in meta_to_add if c not in delta_rf_ts and c not in [\\\"run_id\\\", \\\"variable\\\"]]\\n]\\n\\nmeta_to_add = meta_to_add.reset_index().drop_duplicates()\\nmeta_to_add = meta_to_add.set_index([\\\"ms\\\", \\\"ensemble_member\\\"])\\n\\n\\ndelta_rf_ts = delta_rf_ts.join(meta_to_add)\\n\\n# Clip out any values less than zero\\ndelta_rf_ts = scmdata.ScmRun(delta_rf_ts).timeseries().clip(lower=0)\\ndelta_rf_ts = scmdata.ScmRun(delta_rf_ts)\";\n",
       "                var nbb_cells = Jupyter.notebook.get_cells();\n",
       "                for (var i = 0; i < nbb_cells.length; ++i) {\n",
       "                    if (nbb_cells[i].input_prompt_number == nbb_cell_id) {\n",
       "                        if (nbb_cells[i].get_text() == nbb_unformatted_code) {\n",
       "                             nbb_cells[i].set_text(nbb_formatted_code);\n",
       "                        }\n",
       "                        break;\n",
       "                    }\n",
       "                }\n",
       "            }, 500);\n",
       "            "
      ],
      "text/plain": [
       "<IPython.core.display.Javascript object>"
      ]
     },
     "metadata": {},
     "output_type": "display_data"
    }
   ],
   "source": [
    "scenario_erf_ts = magicc_output.filter(variable=\"*Forcing*\", region=\"World\").timeseries(\n",
    "    [\"ensemble_member\", \"variable\", \"unit\", \"ms\", \"region\"], time_axis=\"year\"\n",
    ")\n",
    "ERF_15_ts = ERF_15.filter(\n",
    "    region=\"World\", ensemble_member=magicc_output.get_unique_meta(\"ensemble_member\")\n",
    ").timeseries(\n",
    "    [\"ensemble_member\", \"variable\", \"unit\", \"region\", \"TCRE\"], time_axis=\"year\"\n",
    ")\n",
    "\n",
    "# Rounding important\n",
    "delta_rf_ts = scenario_erf_ts.round(3).subtract(ERF_15_ts, axis=0)\n",
    "delta_rf_ts = delta_rf_ts.reset_index(\"variable\")\n",
    "delta_rf_ts[\"variable\"] = \"delta_rf\"\n",
    "delta_rf_ts = delta_rf_ts.set_index(\"variable\", append=True)\n",
    "\n",
    "# check that the delta is zero up to 2014\n",
    "assert delta_rf_ts.loc[:, 1750:2014].max(axis=1).max() == 0.0\n",
    "# display(delta_rf_ts.loc[:, 1750:2014].max(axis=1))\n",
    "\n",
    "# add metadata back in\n",
    "delta_rf_ts = delta_rf_ts.reset_index().set_index([\"ms\", \"ensemble_member\"])\n",
    "meta_to_add = magicc_output.filter(\n",
    "    ms=delta_rf_ts.index.get_level_values(\"ms\").unique().tolist()\n",
    ").meta.set_index(delta_rf_ts.index.names)\n",
    "meta_to_add = meta_to_add[\n",
    "    [c for c in meta_to_add if c not in delta_rf_ts and c not in [\"run_id\", \"variable\"]]\n",
    "]\n",
    "\n",
    "meta_to_add = meta_to_add.reset_index().drop_duplicates()\n",
    "meta_to_add = meta_to_add.set_index([\"ms\", \"ensemble_member\"])\n",
    "\n",
    "\n",
    "delta_rf_ts = delta_rf_ts.join(meta_to_add)\n",
    "\n",
    "# Clip out any values less than zero\n",
    "delta_rf_ts = scmdata.ScmRun(delta_rf_ts).timeseries().clip(lower=0)\n",
    "delta_rf_ts = scmdata.ScmRun(delta_rf_ts)"
   ]
  },
  {
   "cell_type": "code",
   "execution_count": 9,
   "id": "2dc82f32",
   "metadata": {},
   "outputs": [
    {
     "data": {
      "application/javascript": [
       "\n",
       "            setTimeout(function() {\n",
       "                var nbb_cell_id = 9;\n",
       "                var nbb_unformatted_code = \"# ten_ms = delta_rf_ts.get_unique_meta(\\\"ms\\\")[::7][:10]\\n# ten_ms\";\n",
       "                var nbb_formatted_code = \"# ten_ms = delta_rf_ts.get_unique_meta(\\\"ms\\\")[::7][:10]\\n# ten_ms\";\n",
       "                var nbb_cells = Jupyter.notebook.get_cells();\n",
       "                for (var i = 0; i < nbb_cells.length; ++i) {\n",
       "                    if (nbb_cells[i].input_prompt_number == nbb_cell_id) {\n",
       "                        if (nbb_cells[i].get_text() == nbb_unformatted_code) {\n",
       "                             nbb_cells[i].set_text(nbb_formatted_code);\n",
       "                        }\n",
       "                        break;\n",
       "                    }\n",
       "                }\n",
       "            }, 500);\n",
       "            "
      ],
      "text/plain": [
       "<IPython.core.display.Javascript object>"
      ]
     },
     "metadata": {},
     "output_type": "display_data"
    }
   ],
   "source": [
    "# ten_ms = delta_rf_ts.get_unique_meta(\"ms\")[::7][:10]\n",
    "# ten_ms"
   ]
  },
  {
   "cell_type": "code",
   "execution_count": 10,
   "id": "eb7e7255",
   "metadata": {},
   "outputs": [
    {
     "data": {
      "application/javascript": [
       "\n",
       "            setTimeout(function() {\n",
       "                var nbb_cell_id = 10;\n",
       "                var nbb_unformatted_code = \"# ax, lh = (\\n#     delta_rf_ts.filter(ms=ten_ms)\\n#     .drop_meta(\\n#         [\\n#             \\\"TCRE\\\",\\n#             \\\"net_CDR_at_15_temp\\\",\\n#             \\\"year_return_back_below_15_temp\\\",\\n#             \\\"average_cdr_between_peak_and_15_temp\\\",\\n#             #             \\\"total_CDR\\\",\\n#             #             \\\"total_emissions\\\",\\n#         ]\\n#     )\\n#     .plumeplot(time_axis=\\\"year\\\", quantile_over=(\\\"ensemble_member\\\",))\\n# )\\n# ax.legend(handles=lh, bbox_to_anchor=(1.05, 0.5), loc=\\\"center left\\\")\\n# ax.set_xlim(1980, 2500)\\n# ax.set_ylim(-0.5, 5)\\n# ax.grid()\";\n",
       "                var nbb_formatted_code = \"# ax, lh = (\\n#     delta_rf_ts.filter(ms=ten_ms)\\n#     .drop_meta(\\n#         [\\n#             \\\"TCRE\\\",\\n#             \\\"net_CDR_at_15_temp\\\",\\n#             \\\"year_return_back_below_15_temp\\\",\\n#             \\\"average_cdr_between_peak_and_15_temp\\\",\\n#             #             \\\"total_CDR\\\",\\n#             #             \\\"total_emissions\\\",\\n#         ]\\n#     )\\n#     .plumeplot(time_axis=\\\"year\\\", quantile_over=(\\\"ensemble_member\\\",))\\n# )\\n# ax.legend(handles=lh, bbox_to_anchor=(1.05, 0.5), loc=\\\"center left\\\")\\n# ax.set_xlim(1980, 2500)\\n# ax.set_ylim(-0.5, 5)\\n# ax.grid()\";\n",
       "                var nbb_cells = Jupyter.notebook.get_cells();\n",
       "                for (var i = 0; i < nbb_cells.length; ++i) {\n",
       "                    if (nbb_cells[i].input_prompt_number == nbb_cell_id) {\n",
       "                        if (nbb_cells[i].get_text() == nbb_unformatted_code) {\n",
       "                             nbb_cells[i].set_text(nbb_formatted_code);\n",
       "                        }\n",
       "                        break;\n",
       "                    }\n",
       "                }\n",
       "            }, 500);\n",
       "            "
      ],
      "text/plain": [
       "<IPython.core.display.Javascript object>"
      ]
     },
     "metadata": {},
     "output_type": "display_data"
    }
   ],
   "source": [
    "# ax, lh = (\n",
    "#     delta_rf_ts.filter(ms=ten_ms)\n",
    "#     .drop_meta(\n",
    "#         [\n",
    "#             \"TCRE\",\n",
    "#             \"net_CDR_at_15_temp\",\n",
    "#             \"year_return_back_below_15_temp\",\n",
    "#             \"average_cdr_between_peak_and_15_temp\",\n",
    "#             #             \"total_CDR\",\n",
    "#             #             \"total_emissions\",\n",
    "#         ]\n",
    "#     )\n",
    "#     .plumeplot(time_axis=\"year\", quantile_over=(\"ensemble_member\",))\n",
    "# )\n",
    "# ax.legend(handles=lh, bbox_to_anchor=(1.05, 0.5), loc=\"center left\")\n",
    "# ax.set_xlim(1980, 2500)\n",
    "# ax.set_ylim(-0.5, 5)\n",
    "# ax.grid()"
   ]
  },
  {
   "cell_type": "code",
   "execution_count": 11,
   "id": "0e9d09ef",
   "metadata": {},
   "outputs": [
    {
     "data": {
      "application/javascript": [
       "\n",
       "            setTimeout(function() {\n",
       "                var nbb_cell_id = 11;\n",
       "                var nbb_unformatted_code = \"magicc_output = magicc_output.append(delta_rf_ts)\";\n",
       "                var nbb_formatted_code = \"magicc_output = magicc_output.append(delta_rf_ts)\";\n",
       "                var nbb_cells = Jupyter.notebook.get_cells();\n",
       "                for (var i = 0; i < nbb_cells.length; ++i) {\n",
       "                    if (nbb_cells[i].input_prompt_number == nbb_cell_id) {\n",
       "                        if (nbb_cells[i].get_text() == nbb_unformatted_code) {\n",
       "                             nbb_cells[i].set_text(nbb_formatted_code);\n",
       "                        }\n",
       "                        break;\n",
       "                    }\n",
       "                }\n",
       "            }, 500);\n",
       "            "
      ],
      "text/plain": [
       "<IPython.core.display.Javascript object>"
      ]
     },
     "metadata": {},
     "output_type": "display_data"
    }
   ],
   "source": [
    "magicc_output = magicc_output.append(delta_rf_ts)"
   ]
  },
  {
   "cell_type": "markdown",
   "id": "fdcfff4e",
   "metadata": {},
   "source": [
    "## Calculate peak warming"
   ]
  },
  {
   "cell_type": "code",
   "execution_count": 12,
   "id": "b7fe68c7",
   "metadata": {},
   "outputs": [
    {
     "data": {
      "text/plain": [
       "ensemble_member  ms                                      \n",
       "0                AIM/CGE 2.1CD-LINKS_INDC2030i_1600          2.627932\n",
       "                 AIM/CGE 2.1CD-LINKS_NDC2030i_1000           2.156935\n",
       "                 AIM/CGE 2.2EN_INDCi2030_1000f               2.081066\n",
       "                 AIM/CGE 2.2EN_INDCi2030_1200                2.094740\n",
       "                 AIM/CGE 2.2EN_INDCi2030_1200f               2.159301\n",
       "                                                               ...   \n",
       "599              WITCH 5.0EN_INDCi2030_900_NDCp              1.918596\n",
       "                 WITCH 5.0EN_INDCi2030_900f_NDCp             1.969815\n",
       "                 WITCH-GLOBIOM 4.4CD-LINKS_INDC2030i_1600    1.915832\n",
       "                 WITCH-GLOBIOM 4.4CD-LINKS_INDCi             4.629579\n",
       "                 WITCH-GLOBIOM 4.4CD-LINKS_NDC2030i_1000     1.754784\n",
       "Name: peak_warming, Length: 208200, dtype: float64"
      ]
     },
     "execution_count": 12,
     "metadata": {},
     "output_type": "execute_result"
    },
    {
     "data": {
      "application/javascript": [
       "\n",
       "            setTimeout(function() {\n",
       "                var nbb_cell_id = 12;\n",
       "                var nbb_unformatted_code = \"peak_warming = (\\n    magicc_output.filter(variable=\\\"Surface Air Temperature Change\\\", region=\\\"World\\\")\\n    .timeseries([\\\"ensemble_member\\\", \\\"ms\\\"], time_axis=\\\"year\\\")\\n    .max(axis=1)\\n)\\npeak_warming.name = \\\"peak_warming\\\"\\npeak_warming\";\n",
       "                var nbb_formatted_code = \"peak_warming = (\\n    magicc_output.filter(variable=\\\"Surface Air Temperature Change\\\", region=\\\"World\\\")\\n    .timeseries([\\\"ensemble_member\\\", \\\"ms\\\"], time_axis=\\\"year\\\")\\n    .max(axis=1)\\n)\\npeak_warming.name = \\\"peak_warming\\\"\\npeak_warming\";\n",
       "                var nbb_cells = Jupyter.notebook.get_cells();\n",
       "                for (var i = 0; i < nbb_cells.length; ++i) {\n",
       "                    if (nbb_cells[i].input_prompt_number == nbb_cell_id) {\n",
       "                        if (nbb_cells[i].get_text() == nbb_unformatted_code) {\n",
       "                             nbb_cells[i].set_text(nbb_formatted_code);\n",
       "                        }\n",
       "                        break;\n",
       "                    }\n",
       "                }\n",
       "            }, 500);\n",
       "            "
      ],
      "text/plain": [
       "<IPython.core.display.Javascript object>"
      ]
     },
     "metadata": {},
     "output_type": "display_data"
    }
   ],
   "source": [
    "peak_warming = (\n",
    "    magicc_output.filter(variable=\"Surface Air Temperature Change\", region=\"World\")\n",
    "    .timeseries([\"ensemble_member\", \"ms\"], time_axis=\"year\")\n",
    "    .max(axis=1)\n",
    ")\n",
    "peak_warming.name = \"peak_warming\"\n",
    "peak_warming"
   ]
  },
  {
   "cell_type": "markdown",
   "id": "788eb5dc",
   "metadata": {},
   "source": [
    "## Calculate 2100 warming"
   ]
  },
  {
   "cell_type": "code",
   "execution_count": 13,
   "id": "989afc40",
   "metadata": {},
   "outputs": [
    {
     "data": {
      "text/plain": [
       "ensemble_member  ms                                      \n",
       "0                AIM/CGE 2.1CD-LINKS_INDC2030i_1600          2.489039\n",
       "                 AIM/CGE 2.1CD-LINKS_NDC2030i_1000           2.147834\n",
       "                 AIM/CGE 2.2EN_INDCi2030_1000f               1.980358\n",
       "                 AIM/CGE 2.2EN_INDCi2030_1200                2.089920\n",
       "                 AIM/CGE 2.2EN_INDCi2030_1200f               2.085738\n",
       "                                                               ...   \n",
       "599              WITCH 5.0EN_INDCi2030_900_NDCp              1.918596\n",
       "                 WITCH 5.0EN_INDCi2030_900f_NDCp             1.925430\n",
       "                 WITCH-GLOBIOM 4.4CD-LINKS_INDC2030i_1600    1.900094\n",
       "                 WITCH-GLOBIOM 4.4CD-LINKS_INDCi             3.416044\n",
       "                 WITCH-GLOBIOM 4.4CD-LINKS_NDC2030i_1000     1.605667\n",
       "Name: 2100_warming, Length: 208200, dtype: float64"
      ]
     },
     "execution_count": 13,
     "metadata": {},
     "output_type": "execute_result"
    },
    {
     "data": {
      "application/javascript": [
       "\n",
       "            setTimeout(function() {\n",
       "                var nbb_cell_id = 13;\n",
       "                var nbb_unformatted_code = \"eoc_warming = magicc_output.filter(\\n    variable=\\\"Surface Air Temperature Change\\\", region=\\\"World\\\"\\n).timeseries([\\\"ensemble_member\\\", \\\"ms\\\"], time_axis=\\\"year\\\")[2100]\\neoc_warming.name = \\\"2100_warming\\\"\\neoc_warming\";\n",
       "                var nbb_formatted_code = \"eoc_warming = magicc_output.filter(\\n    variable=\\\"Surface Air Temperature Change\\\", region=\\\"World\\\"\\n).timeseries([\\\"ensemble_member\\\", \\\"ms\\\"], time_axis=\\\"year\\\")[2100]\\neoc_warming.name = \\\"2100_warming\\\"\\neoc_warming\";\n",
       "                var nbb_cells = Jupyter.notebook.get_cells();\n",
       "                for (var i = 0; i < nbb_cells.length; ++i) {\n",
       "                    if (nbb_cells[i].input_prompt_number == nbb_cell_id) {\n",
       "                        if (nbb_cells[i].get_text() == nbb_unformatted_code) {\n",
       "                             nbb_cells[i].set_text(nbb_formatted_code);\n",
       "                        }\n",
       "                        break;\n",
       "                    }\n",
       "                }\n",
       "            }, 500);\n",
       "            "
      ],
      "text/plain": [
       "<IPython.core.display.Javascript object>"
      ]
     },
     "metadata": {},
     "output_type": "display_data"
    }
   ],
   "source": [
    "eoc_warming = magicc_output.filter(\n",
    "    variable=\"Surface Air Temperature Change\", region=\"World\"\n",
    ").timeseries([\"ensemble_member\", \"ms\"], time_axis=\"year\")[2100]\n",
    "eoc_warming.name = \"2100_warming\"\n",
    "eoc_warming"
   ]
  },
  {
   "cell_type": "markdown",
   "id": "87b53694",
   "metadata": {},
   "source": [
    "## Calculate 2030 warming"
   ]
  },
  {
   "cell_type": "code",
   "execution_count": 14,
   "id": "1fb653d5",
   "metadata": {},
   "outputs": [
    {
     "data": {
      "text/plain": [
       "ensemble_member  ms                                      \n",
       "0                AIM/CGE 2.1CD-LINKS_INDC2030i_1600          1.686415\n",
       "                 AIM/CGE 2.1CD-LINKS_NDC2030i_1000           1.693615\n",
       "                 AIM/CGE 2.2EN_INDCi2030_1000f               1.664802\n",
       "                 AIM/CGE 2.2EN_INDCi2030_1200                1.664833\n",
       "                 AIM/CGE 2.2EN_INDCi2030_1200f               1.664806\n",
       "                                                               ...   \n",
       "599              WITCH 5.0EN_INDCi2030_900_NDCp              1.574168\n",
       "                 WITCH 5.0EN_INDCi2030_900f_NDCp             1.573963\n",
       "                 WITCH-GLOBIOM 4.4CD-LINKS_INDC2030i_1600    1.519895\n",
       "                 WITCH-GLOBIOM 4.4CD-LINKS_INDCi             1.519621\n",
       "                 WITCH-GLOBIOM 4.4CD-LINKS_NDC2030i_1000     1.520148\n",
       "Name: 2030_warming, Length: 208200, dtype: float64"
      ]
     },
     "execution_count": 14,
     "metadata": {},
     "output_type": "execute_result"
    },
    {
     "data": {
      "application/javascript": [
       "\n",
       "            setTimeout(function() {\n",
       "                var nbb_cell_id = 14;\n",
       "                var nbb_unformatted_code = \"boc_warming = magicc_output.filter(\\n    variable=\\\"Surface Air Temperature Change\\\", region=\\\"World\\\"\\n).timeseries([\\\"ensemble_member\\\", \\\"ms\\\"], time_axis=\\\"year\\\")[2030]\\nboc_warming.name = \\\"2030_warming\\\"\\nboc_warming\";\n",
       "                var nbb_formatted_code = \"boc_warming = magicc_output.filter(\\n    variable=\\\"Surface Air Temperature Change\\\", region=\\\"World\\\"\\n).timeseries([\\\"ensemble_member\\\", \\\"ms\\\"], time_axis=\\\"year\\\")[2030]\\nboc_warming.name = \\\"2030_warming\\\"\\nboc_warming\";\n",
       "                var nbb_cells = Jupyter.notebook.get_cells();\n",
       "                for (var i = 0; i < nbb_cells.length; ++i) {\n",
       "                    if (nbb_cells[i].input_prompt_number == nbb_cell_id) {\n",
       "                        if (nbb_cells[i].get_text() == nbb_unformatted_code) {\n",
       "                             nbb_cells[i].set_text(nbb_formatted_code);\n",
       "                        }\n",
       "                        break;\n",
       "                    }\n",
       "                }\n",
       "            }, 500);\n",
       "            "
      ],
      "text/plain": [
       "<IPython.core.display.Javascript object>"
      ]
     },
     "metadata": {},
     "output_type": "display_data"
    }
   ],
   "source": [
    "boc_warming = magicc_output.filter(\n",
    "    variable=\"Surface Air Temperature Change\", region=\"World\"\n",
    ").timeseries([\"ensemble_member\", \"ms\"], time_axis=\"year\")[2030]\n",
    "boc_warming.name = \"2030_warming\"\n",
    "boc_warming"
   ]
  },
  {
   "cell_type": "markdown",
   "id": "cc3e1aa4",
   "metadata": {},
   "source": [
    "## Calculate 2500 warming"
   ]
  },
  {
   "cell_type": "code",
   "execution_count": 19,
   "id": "aeec34cf",
   "metadata": {},
   "outputs": [
    {
     "data": {
      "text/plain": [
       "ensemble_member  ms                                      \n",
       "0                AIM/CGE 2.1CD-LINKS_INDC2030i_1600          0.357497\n",
       "                 AIM/CGE 2.1CD-LINKS_NDC2030i_1000           0.855334\n",
       "                 AIM/CGE 2.2EN_INDCi2030_1000f              -0.387598\n",
       "                 AIM/CGE 2.2EN_INDCi2030_1200               -0.616031\n",
       "                 AIM/CGE 2.2EN_INDCi2030_1200f              -0.831210\n",
       "                                                               ...   \n",
       "599              WITCH 5.0EN_INDCi2030_900_NDCp             -0.059801\n",
       "                 WITCH 5.0EN_INDCi2030_900f_NDCp            -6.343721\n",
       "                 WITCH-GLOBIOM 4.4CD-LINKS_INDC2030i_1600    0.496648\n",
       "                 WITCH-GLOBIOM 4.4CD-LINKS_INDCi             0.822847\n",
       "                 WITCH-GLOBIOM 4.4CD-LINKS_NDC2030i_1000    -9.247906\n",
       "Name: 2500_warming, Length: 208200, dtype: float64"
      ]
     },
     "execution_count": 19,
     "metadata": {},
     "output_type": "execute_result"
    },
    {
     "data": {
      "application/javascript": [
       "\n",
       "            setTimeout(function() {\n",
       "                var nbb_cell_id = 19;\n",
       "                var nbb_unformatted_code = \"eot_warming = magicc_output.filter(\\n    variable=\\\"Surface Air Temperature Change\\\", region=\\\"World\\\"\\n).timeseries([\\\"ensemble_member\\\", \\\"ms\\\"], time_axis=\\\"year\\\")[2500]\\neot_warming.name = \\\"2500_warming\\\"\\neot_warming\";\n",
       "                var nbb_formatted_code = \"eot_warming = magicc_output.filter(\\n    variable=\\\"Surface Air Temperature Change\\\", region=\\\"World\\\"\\n).timeseries([\\\"ensemble_member\\\", \\\"ms\\\"], time_axis=\\\"year\\\")[2500]\\neot_warming.name = \\\"2500_warming\\\"\\neot_warming\";\n",
       "                var nbb_cells = Jupyter.notebook.get_cells();\n",
       "                for (var i = 0; i < nbb_cells.length; ++i) {\n",
       "                    if (nbb_cells[i].input_prompt_number == nbb_cell_id) {\n",
       "                        if (nbb_cells[i].get_text() == nbb_unformatted_code) {\n",
       "                             nbb_cells[i].set_text(nbb_formatted_code);\n",
       "                        }\n",
       "                        break;\n",
       "                    }\n",
       "                }\n",
       "            }, 500);\n",
       "            "
      ],
      "text/plain": [
       "<IPython.core.display.Javascript object>"
      ]
     },
     "metadata": {},
     "output_type": "display_data"
    }
   ],
   "source": [
    "eot_warming = magicc_output.filter(\n",
    "    variable=\"Surface Air Temperature Change\", region=\"World\"\n",
    ").timeseries([\"ensemble_member\", \"ms\"], time_axis=\"year\")[2500]\n",
    "eot_warming.name = \"2500_warming\"\n",
    "eot_warming"
   ]
  },
  {
   "cell_type": "markdown",
   "id": "8f1bf19e",
   "metadata": {},
   "source": [
    "## Calculate SRM years"
   ]
  },
  {
   "cell_type": "markdown",
   "id": "034d13b9",
   "metadata": {},
   "source": [
    "Calculate cumulative sum and then check the value in year_return_back_below_15_temp"
   ]
  },
  {
   "cell_type": "code",
   "execution_count": 15,
   "id": "fb4a9320",
   "metadata": {},
   "outputs": [
    {
     "data": {
      "application/vnd.jupyter.widget-view+json": {
       "model_id": "76abab00ecad4d9589514b9fe1c61bb3",
       "version_major": 2,
       "version_minor": 0
      },
      "text/plain": [
       "  0%|          | 0/208200 [00:00<?, ?it/s]"
      ]
     },
     "metadata": {},
     "output_type": "display_data"
    },
    {
     "data": {
      "text/plain": [
       "0"
      ]
     },
     "execution_count": 15,
     "metadata": {},
     "output_type": "execute_result"
    },
    {
     "data": {
      "application/javascript": [
       "\n",
       "            setTimeout(function() {\n",
       "                var nbb_cell_id = 15;\n",
       "                var nbb_unformatted_code = \"srm_length_long = (\\n    magicc_output.filter(variable=\\\"delta_rf\\\", region=\\\"World\\\").timeseries(\\n        [\\\"ensemble_member\\\", \\\"ms\\\"], time_axis=\\\"year\\\"\\n    )\\n    > 0\\n).cumsum(axis=1)\\n\\ntime_15 = delta_rf_ts.meta[\\n    [\\\"ensemble_member\\\", \\\"ms\\\", \\\"year_return_back_below_15_temp\\\"]\\n].set_index([\\\"ensemble_member\\\", \\\"ms\\\"])[\\\"year_return_back_below_15_temp\\\"]\\n\\nms_index = list(time_15.index.names).index(\\\"ms\\\")\\n\\nsrm_years = time_15 * 0\\nsrm_years.name = \\\"SRM_at_first_crossing\\\"\\n\\nfailed_scenarios = []\\nfor idx, year_15_row in tqdman.tqdm(time_15.items(), total=time_15.shape[0]):\\n    ms = idx[ms_index]\\n\\n    # Scenario doesn't get back below 1.5C, srm years counted until 2500\\n    if year_15_row == 9999:\\n        srm_length = srm_length_long.loc[idx][2500]\\n    # Scenario doesn't overshoot 1.5C, no need for CDR: therefore undefined\\n    elif year_15_row == 1111:\\n        srm_length = 0\\n    else:\\n        try:\\n            srm_length = srm_length_long.loc[idx][year_15_row]\\n        except KeyError:\\n            failed_scenarios.append(ms)\\n    srm_years[idx] = srm_length\\n\\nlen(set(failed_scenarios))\";\n",
       "                var nbb_formatted_code = \"srm_length_long = (\\n    magicc_output.filter(variable=\\\"delta_rf\\\", region=\\\"World\\\").timeseries(\\n        [\\\"ensemble_member\\\", \\\"ms\\\"], time_axis=\\\"year\\\"\\n    )\\n    > 0\\n).cumsum(axis=1)\\n\\ntime_15 = delta_rf_ts.meta[\\n    [\\\"ensemble_member\\\", \\\"ms\\\", \\\"year_return_back_below_15_temp\\\"]\\n].set_index([\\\"ensemble_member\\\", \\\"ms\\\"])[\\\"year_return_back_below_15_temp\\\"]\\n\\nms_index = list(time_15.index.names).index(\\\"ms\\\")\\n\\nsrm_years = time_15 * 0\\nsrm_years.name = \\\"SRM_at_first_crossing\\\"\\n\\nfailed_scenarios = []\\nfor idx, year_15_row in tqdman.tqdm(time_15.items(), total=time_15.shape[0]):\\n    ms = idx[ms_index]\\n\\n    # Scenario doesn't get back below 1.5C, srm years counted until 2500\\n    if year_15_row == 9999:\\n        srm_length = srm_length_long.loc[idx][2500]\\n    # Scenario doesn't overshoot 1.5C, no need for CDR: therefore undefined\\n    elif year_15_row == 1111:\\n        srm_length = 0\\n    else:\\n        try:\\n            srm_length = srm_length_long.loc[idx][year_15_row]\\n        except KeyError:\\n            failed_scenarios.append(ms)\\n    srm_years[idx] = srm_length\\n\\nlen(set(failed_scenarios))\";\n",
       "                var nbb_cells = Jupyter.notebook.get_cells();\n",
       "                for (var i = 0; i < nbb_cells.length; ++i) {\n",
       "                    if (nbb_cells[i].input_prompt_number == nbb_cell_id) {\n",
       "                        if (nbb_cells[i].get_text() == nbb_unformatted_code) {\n",
       "                             nbb_cells[i].set_text(nbb_formatted_code);\n",
       "                        }\n",
       "                        break;\n",
       "                    }\n",
       "                }\n",
       "            }, 500);\n",
       "            "
      ],
      "text/plain": [
       "<IPython.core.display.Javascript object>"
      ]
     },
     "metadata": {},
     "output_type": "display_data"
    }
   ],
   "source": [
    "srm_length_long = (\n",
    "    magicc_output.filter(variable=\"delta_rf\", region=\"World\").timeseries(\n",
    "        [\"ensemble_member\", \"ms\"], time_axis=\"year\"\n",
    "    )\n",
    "    > 0\n",
    ").cumsum(axis=1)\n",
    "\n",
    "time_15 = delta_rf_ts.meta[\n",
    "    [\"ensemble_member\", \"ms\", \"year_return_back_below_15_temp\"]\n",
    "].set_index([\"ensemble_member\", \"ms\"])[\"year_return_back_below_15_temp\"]\n",
    "\n",
    "ms_index = list(time_15.index.names).index(\"ms\")\n",
    "\n",
    "srm_years = time_15 * 0\n",
    "srm_years.name = \"SRM_at_first_crossing\"\n",
    "\n",
    "failed_scenarios = []\n",
    "for idx, year_15_row in tqdman.tqdm(time_15.items(), total=time_15.shape[0]):\n",
    "    ms = idx[ms_index]\n",
    "\n",
    "    # Scenario doesn't get back below 1.5C, srm years counted until 2500\n",
    "    if year_15_row == 9999:\n",
    "        srm_length = srm_length_long.loc[idx][2500]\n",
    "    # Scenario doesn't overshoot 1.5C, no need for CDR: therefore undefined\n",
    "    elif year_15_row == 1111:\n",
    "        srm_length = 0\n",
    "    else:\n",
    "        try:\n",
    "            srm_length = srm_length_long.loc[idx][year_15_row]\n",
    "        except KeyError:\n",
    "            failed_scenarios.append(ms)\n",
    "    srm_years[idx] = srm_length\n",
    "\n",
    "len(set(failed_scenarios))"
   ]
  },
  {
   "cell_type": "code",
   "execution_count": 16,
   "id": "539030dd",
   "metadata": {},
   "outputs": [
    {
     "data": {
      "text/plain": [
       "ensemble_member  ms                                      \n",
       "0                AIM/CGE 2.1CD-LINKS_INDC2030i_1600          327\n",
       "                 AIM/CGE 2.1CD-LINKS_NDC2030i_1000           309\n",
       "                 AIM/CGE 2.2EN_INDCi2030_1000f               169\n",
       "                 AIM/CGE 2.2EN_INDCi2030_1200                217\n",
       "                 AIM/CGE 2.2EN_INDCi2030_1200f               180\n",
       "                                                            ... \n",
       "599              WITCH 5.0EN_INDCi2030_900_NDCp              276\n",
       "                 WITCH 5.0EN_INDCi2030_900f_NDCp             101\n",
       "                 WITCH-GLOBIOM 4.4CD-LINKS_INDC2030i_1600    140\n",
       "                 WITCH-GLOBIOM 4.4CD-LINKS_INDCi             374\n",
       "                 WITCH-GLOBIOM 4.4CD-LINKS_NDC2030i_1000      65\n",
       "Name: SRM_at_first_crossing, Length: 208200, dtype: int64"
      ]
     },
     "execution_count": 16,
     "metadata": {},
     "output_type": "execute_result"
    },
    {
     "data": {
      "application/javascript": [
       "\n",
       "            setTimeout(function() {\n",
       "                var nbb_cell_id = 16;\n",
       "                var nbb_unformatted_code = \"srm_years\";\n",
       "                var nbb_formatted_code = \"srm_years\";\n",
       "                var nbb_cells = Jupyter.notebook.get_cells();\n",
       "                for (var i = 0; i < nbb_cells.length; ++i) {\n",
       "                    if (nbb_cells[i].input_prompt_number == nbb_cell_id) {\n",
       "                        if (nbb_cells[i].get_text() == nbb_unformatted_code) {\n",
       "                             nbb_cells[i].set_text(nbb_formatted_code);\n",
       "                        }\n",
       "                        break;\n",
       "                    }\n",
       "                }\n",
       "            }, 500);\n",
       "            "
      ],
      "text/plain": [
       "<IPython.core.display.Javascript object>"
      ]
     },
     "metadata": {},
     "output_type": "display_data"
    }
   ],
   "source": [
    "srm_years"
   ]
  },
  {
   "cell_type": "markdown",
   "id": "64fa3a74",
   "metadata": {},
   "source": [
    "### old calculation: caused problems with pathways that reattain 1.5°C and then go back to overshooting it"
   ]
  },
  {
   "cell_type": "code",
   "execution_count": 17,
   "id": "e7d844e1",
   "metadata": {
    "scrolled": false
   },
   "outputs": [
    {
     "data": {
      "application/javascript": [
       "\n",
       "            setTimeout(function() {\n",
       "                var nbb_cell_id = 17;\n",
       "                var nbb_unformatted_code = \"# srm_years = (\\n#     magicc_output.filter(variable=\\\"delta_rf\\\", region=\\\"World\\\").timeseries(\\n#         [\\\"ensemble_member\\\", \\\"ms\\\"], time_axis=\\\"year\\\"\\n#     )\\n#     > 0\\n# ).sum(axis=1)\\n# srm_years.name = \\\"SRM_years\\\"\\n# srm_years\";\n",
       "                var nbb_formatted_code = \"# srm_years = (\\n#     magicc_output.filter(variable=\\\"delta_rf\\\", region=\\\"World\\\").timeseries(\\n#         [\\\"ensemble_member\\\", \\\"ms\\\"], time_axis=\\\"year\\\"\\n#     )\\n#     > 0\\n# ).sum(axis=1)\\n# srm_years.name = \\\"SRM_years\\\"\\n# srm_years\";\n",
       "                var nbb_cells = Jupyter.notebook.get_cells();\n",
       "                for (var i = 0; i < nbb_cells.length; ++i) {\n",
       "                    if (nbb_cells[i].input_prompt_number == nbb_cell_id) {\n",
       "                        if (nbb_cells[i].get_text() == nbb_unformatted_code) {\n",
       "                             nbb_cells[i].set_text(nbb_formatted_code);\n",
       "                        }\n",
       "                        break;\n",
       "                    }\n",
       "                }\n",
       "            }, 500);\n",
       "            "
      ],
      "text/plain": [
       "<IPython.core.display.Javascript object>"
      ]
     },
     "metadata": {},
     "output_type": "display_data"
    }
   ],
   "source": [
    "# srm_years = (\n",
    "#     magicc_output.filter(variable=\"delta_rf\", region=\"World\").timeseries(\n",
    "#         [\"ensemble_member\", \"ms\"], time_axis=\"year\"\n",
    "#     )\n",
    "#     > 0\n",
    "# ).sum(axis=1)\n",
    "# srm_years.name = \"SRM_years\"\n",
    "# srm_years"
   ]
  },
  {
   "cell_type": "markdown",
   "id": "184953eb",
   "metadata": {},
   "source": [
    "### check if new calc removed this problem"
   ]
  },
  {
   "cell_type": "code",
   "execution_count": 18,
   "id": "a059f46a",
   "metadata": {},
   "outputs": [
    {
     "data": {
      "application/javascript": [
       "\n",
       "            setTimeout(function() {\n",
       "                var nbb_cell_id = 18;\n",
       "                var nbb_unformatted_code = \"weird = (srm_years > 300) & (\\n    delta_rf_ts.meta[\\n        [\\\"ensemble_member\\\", \\\"ms\\\", \\\"year_return_back_below_15_temp\\\"]\\n    ].set_index([\\\"ensemble_member\\\", \\\"ms\\\"])[\\\"year_return_back_below_15_temp\\\"]\\n    < 2160\\n)\\nassert not weird.any(), \\\"Must be something wrong somewhere...\\\"\";\n",
       "                var nbb_formatted_code = \"weird = (srm_years > 300) & (\\n    delta_rf_ts.meta[\\n        [\\\"ensemble_member\\\", \\\"ms\\\", \\\"year_return_back_below_15_temp\\\"]\\n    ].set_index([\\\"ensemble_member\\\", \\\"ms\\\"])[\\\"year_return_back_below_15_temp\\\"]\\n    < 2160\\n)\\nassert not weird.any(), \\\"Must be something wrong somewhere...\\\"\";\n",
       "                var nbb_cells = Jupyter.notebook.get_cells();\n",
       "                for (var i = 0; i < nbb_cells.length; ++i) {\n",
       "                    if (nbb_cells[i].input_prompt_number == nbb_cell_id) {\n",
       "                        if (nbb_cells[i].get_text() == nbb_unformatted_code) {\n",
       "                             nbb_cells[i].set_text(nbb_formatted_code);\n",
       "                        }\n",
       "                        break;\n",
       "                    }\n",
       "                }\n",
       "            }, 500);\n",
       "            "
      ],
      "text/plain": [
       "<IPython.core.display.Javascript object>"
      ]
     },
     "metadata": {},
     "output_type": "display_data"
    }
   ],
   "source": [
    "weird = (srm_years > 300) & (\n",
    "    delta_rf_ts.meta[\n",
    "        [\"ensemble_member\", \"ms\", \"year_return_back_below_15_temp\"]\n",
    "    ].set_index([\"ensemble_member\", \"ms\"])[\"year_return_back_below_15_temp\"]\n",
    "    < 2160\n",
    ")\n",
    "assert not weird.any(), \"Must be something wrong somewhere...\""
   ]
  },
  {
   "cell_type": "code",
   "execution_count": 19,
   "id": "c8cc1bfc",
   "metadata": {},
   "outputs": [
    {
     "data": {
      "text/plain": [
       "Series([], dtype: bool)"
      ]
     },
     "execution_count": 19,
     "metadata": {},
     "output_type": "execute_result"
    },
    {
     "data": {
      "application/javascript": [
       "\n",
       "            setTimeout(function() {\n",
       "                var nbb_cell_id = 19;\n",
       "                var nbb_unformatted_code = \"weird[weird]\";\n",
       "                var nbb_formatted_code = \"weird[weird]\";\n",
       "                var nbb_cells = Jupyter.notebook.get_cells();\n",
       "                for (var i = 0; i < nbb_cells.length; ++i) {\n",
       "                    if (nbb_cells[i].input_prompt_number == nbb_cell_id) {\n",
       "                        if (nbb_cells[i].get_text() == nbb_unformatted_code) {\n",
       "                             nbb_cells[i].set_text(nbb_formatted_code);\n",
       "                        }\n",
       "                        break;\n",
       "                    }\n",
       "                }\n",
       "            }, 500);\n",
       "            "
      ],
      "text/plain": [
       "<IPython.core.display.Javascript object>"
      ]
     },
     "metadata": {},
     "output_type": "display_data"
    }
   ],
   "source": [
    "weird[weird]"
   ]
  },
  {
   "cell_type": "markdown",
   "id": "397c12fe",
   "metadata": {},
   "source": [
    "## Join, remove no_SRM and longer than 2500 SRM scenarios, then save"
   ]
  },
  {
   "cell_type": "code",
   "execution_count": 20,
   "id": "e5146bac",
   "metadata": {},
   "outputs": [
    {
     "data": {
      "application/javascript": [
       "\n",
       "            setTimeout(function() {\n",
       "                var nbb_cell_id = 20;\n",
       "                var nbb_unformatted_code = \"out_run = scmdata.ScmRun(\\n    magicc_output.timeseries()\\n    .join(peak_warming)\\n    .join(srm_years)\\n    .join(eoc_warming)\\n    .join(boc_warming)\\n    .join(eot_warming)\\n    \\n)\";\n",
       "                var nbb_formatted_code = \"out_run = scmdata.ScmRun(\\n    magicc_output.timeseries()\\n    .join(peak_warming)\\n    .join(srm_years)\\n    .join(eoc_warming)\\n    .join(boc_warming)\\n    .join(eot_warming)\\n)\";\n",
       "                var nbb_cells = Jupyter.notebook.get_cells();\n",
       "                for (var i = 0; i < nbb_cells.length; ++i) {\n",
       "                    if (nbb_cells[i].input_prompt_number == nbb_cell_id) {\n",
       "                        if (nbb_cells[i].get_text() == nbb_unformatted_code) {\n",
       "                             nbb_cells[i].set_text(nbb_formatted_code);\n",
       "                        }\n",
       "                        break;\n",
       "                    }\n",
       "                }\n",
       "            }, 500);\n",
       "            "
      ],
      "text/plain": [
       "<IPython.core.display.Javascript object>"
      ]
     },
     "metadata": {},
     "output_type": "display_data"
    }
   ],
   "source": [
    "out_run = scmdata.ScmRun(\n",
    "    magicc_output.timeseries()\n",
    "    .join(peak_warming)\n",
    "    .join(srm_years)\n",
    "    .join(eoc_warming)\n",
    "    .join(boc_warming)\n",
    "    .join(eot_warming)\n",
    ")"
   ]
  },
  {
   "cell_type": "code",
   "execution_count": 21,
   "id": "6f519c41",
   "metadata": {},
   "outputs": [
    {
     "data": {
      "application/javascript": [
       "\n",
       "            setTimeout(function() {\n",
       "                var nbb_cell_id = 21;\n",
       "                var nbb_unformatted_code = \"## remove all scenarios that don't have SRM or that have SRM deployment longer than 2500\\n\\n# out_run = out_run[\\n#     (out_run[\\\"year_return_back_below_15_temp\\\"] < 2501)\\n#     & (out_run[\\\"year_return_back_below_15_temp\\\"] > 2029)\\n# ]\";\n",
       "                var nbb_formatted_code = \"## remove all scenarios that don't have SRM or that have SRM deployment longer than 2500\\n\\n# out_run = out_run[\\n#     (out_run[\\\"year_return_back_below_15_temp\\\"] < 2501)\\n#     & (out_run[\\\"year_return_back_below_15_temp\\\"] > 2029)\\n# ]\";\n",
       "                var nbb_cells = Jupyter.notebook.get_cells();\n",
       "                for (var i = 0; i < nbb_cells.length; ++i) {\n",
       "                    if (nbb_cells[i].input_prompt_number == nbb_cell_id) {\n",
       "                        if (nbb_cells[i].get_text() == nbb_unformatted_code) {\n",
       "                             nbb_cells[i].set_text(nbb_formatted_code);\n",
       "                        }\n",
       "                        break;\n",
       "                    }\n",
       "                }\n",
       "            }, 500);\n",
       "            "
      ],
      "text/plain": [
       "<IPython.core.display.Javascript object>"
      ]
     },
     "metadata": {},
     "output_type": "display_data"
    }
   ],
   "source": [
    "## remove all scenarios that don't have SRM or that have SRM deployment longer than 2500\n",
    "\n",
    "# out_run = out_run[\n",
    "#     (out_run[\"year_return_back_below_15_temp\"] < 2501)\n",
    "#     & (out_run[\"year_return_back_below_15_temp\"] > 2029)\n",
    "# ]"
   ]
  },
  {
   "cell_type": "code",
   "execution_count": 21,
   "id": "4712cbb1",
   "metadata": {},
   "outputs": [
    {
     "name": "stdout",
     "output_type": "stream",
     "text": [
      "Saving meta\n",
      "Saving full set\n"
     ]
    },
    {
     "data": {
      "application/javascript": [
       "\n",
       "            setTimeout(function() {\n",
       "                var nbb_cell_id = 21;\n",
       "                var nbb_unformatted_code = \"print(\\\"Saving meta\\\")\\nout_run.meta.to_csv(str(OUTPUT_FILE_META), index=False)\\n#out_run.meta.to_csv(str(OUTPUT_FILE_META), index=False)\\n\\nprint(\\\"Saving full set\\\")\\nout_run.to_csv(str(OUTPUT_FILE))\\n#out_run.to_csv(str(OUTPUT_FILE))\";\n",
       "                var nbb_formatted_code = \"print(\\\"Saving meta\\\")\\nout_run.meta.to_csv(str(OUTPUT_FILE_META), index=False)\\n# out_run.meta.to_csv(str(OUTPUT_FILE_META), index=False)\\n\\nprint(\\\"Saving full set\\\")\\nout_run.to_csv(str(OUTPUT_FILE))\\n# out_run.to_csv(str(OUTPUT_FILE))\";\n",
       "                var nbb_cells = Jupyter.notebook.get_cells();\n",
       "                for (var i = 0; i < nbb_cells.length; ++i) {\n",
       "                    if (nbb_cells[i].input_prompt_number == nbb_cell_id) {\n",
       "                        if (nbb_cells[i].get_text() == nbb_unformatted_code) {\n",
       "                             nbb_cells[i].set_text(nbb_formatted_code);\n",
       "                        }\n",
       "                        break;\n",
       "                    }\n",
       "                }\n",
       "            }, 500);\n",
       "            "
      ],
      "text/plain": [
       "<IPython.core.display.Javascript object>"
      ]
     },
     "metadata": {},
     "output_type": "display_data"
    }
   ],
   "source": [
    "print(\"Saving meta\")\n",
    "out_run.meta.to_csv(str(OUTPUT_FILE_META), index=False)\n",
    "#out_run.meta.to_csv(str(OUTPUT_FILE_META), index=False)\n",
    "\n",
    "print(\"Saving full set\")\n",
    "out_run.to_csv(str(OUTPUT_FILE))\n",
    "#out_run.to_csv(str(OUTPUT_FILE))\n"
   ]
  },
  {
   "cell_type": "markdown",
   "id": "6b29b410",
   "metadata": {},
   "source": [
    "## Quick plots"
   ]
  },
  {
   "cell_type": "code",
   "execution_count": 26,
   "id": "f93151c3",
   "metadata": {},
   "outputs": [
    {
     "data": {
      "text/html": [
       "<div>\n",
       "<style scoped>\n",
       "    .dataframe tbody tr th:only-of-type {\n",
       "        vertical-align: middle;\n",
       "    }\n",
       "\n",
       "    .dataframe tbody tr th {\n",
       "        vertical-align: top;\n",
       "    }\n",
       "\n",
       "    .dataframe thead th {\n",
       "        text-align: right;\n",
       "    }\n",
       "</style>\n",
       "<table border=\"1\" class=\"dataframe\">\n",
       "  <thead>\n",
       "    <tr style=\"text-align: right;\">\n",
       "      <th></th>\n",
       "      <th>SRM_years</th>\n",
       "      <th>ms</th>\n",
       "      <th>ensemble_member</th>\n",
       "      <th>year_return_back_below_15_temp</th>\n",
       "    </tr>\n",
       "  </thead>\n",
       "  <tbody>\n",
       "    <tr>\n",
       "      <th>0</th>\n",
       "      <td>327</td>\n",
       "      <td>AIM/CGE 2.1CD-LINKS_INDC2030i_1600</td>\n",
       "      <td>0</td>\n",
       "      <td>2382</td>\n",
       "    </tr>\n",
       "    <tr>\n",
       "      <th>3</th>\n",
       "      <td>309</td>\n",
       "      <td>AIM/CGE 2.1CD-LINKS_NDC2030i_1000</td>\n",
       "      <td>0</td>\n",
       "      <td>2364</td>\n",
       "    </tr>\n",
       "    <tr>\n",
       "      <th>6</th>\n",
       "      <td>169</td>\n",
       "      <td>AIM/CGE 2.2EN_INDCi2030_1000f</td>\n",
       "      <td>0</td>\n",
       "      <td>2213</td>\n",
       "    </tr>\n",
       "    <tr>\n",
       "      <th>9</th>\n",
       "      <td>217</td>\n",
       "      <td>AIM/CGE 2.2EN_INDCi2030_1200</td>\n",
       "      <td>0</td>\n",
       "      <td>2260</td>\n",
       "    </tr>\n",
       "    <tr>\n",
       "      <th>12</th>\n",
       "      <td>180</td>\n",
       "      <td>AIM/CGE 2.2EN_INDCi2030_1200f</td>\n",
       "      <td>0</td>\n",
       "      <td>2224</td>\n",
       "    </tr>\n",
       "  </tbody>\n",
       "</table>\n",
       "</div>"
      ],
      "text/plain": [
       "    SRM_years                                  ms  ensemble_member  \\\n",
       "0         327  AIM/CGE 2.1CD-LINKS_INDC2030i_1600                0   \n",
       "3         309   AIM/CGE 2.1CD-LINKS_NDC2030i_1000                0   \n",
       "6         169       AIM/CGE 2.2EN_INDCi2030_1000f                0   \n",
       "9         217        AIM/CGE 2.2EN_INDCi2030_1200                0   \n",
       "12        180       AIM/CGE 2.2EN_INDCi2030_1200f                0   \n",
       "\n",
       "    year_return_back_below_15_temp  \n",
       "0                             2382  \n",
       "3                             2364  \n",
       "6                             2213  \n",
       "9                             2260  \n",
       "12                            2224  "
      ]
     },
     "metadata": {},
     "output_type": "display_data"
    },
    {
     "data": {
      "application/javascript": [
       "\n",
       "            setTimeout(function() {\n",
       "                var nbb_cell_id = 26;\n",
       "                var nbb_unformatted_code = \"srm_years_pdf = out_run.meta[  # .filter(ms=ten_ms)\\n    [\\\"SRM_years\\\", \\\"ms\\\", \\\"ensemble_member\\\", \\\"year_return_back_below_15_temp\\\"]\\n].drop_duplicates()\\ndisplay(srm_years_pdf.head())\";\n",
       "                var nbb_formatted_code = \"srm_years_pdf = out_run.meta[  # .filter(ms=ten_ms)\\n    [\\\"SRM_years\\\", \\\"ms\\\", \\\"ensemble_member\\\", \\\"year_return_back_below_15_temp\\\"]\\n].drop_duplicates()\\ndisplay(srm_years_pdf.head())\";\n",
       "                var nbb_cells = Jupyter.notebook.get_cells();\n",
       "                for (var i = 0; i < nbb_cells.length; ++i) {\n",
       "                    if (nbb_cells[i].input_prompt_number == nbb_cell_id) {\n",
       "                        if (nbb_cells[i].get_text() == nbb_unformatted_code) {\n",
       "                             nbb_cells[i].set_text(nbb_formatted_code);\n",
       "                        }\n",
       "                        break;\n",
       "                    }\n",
       "                }\n",
       "            }, 500);\n",
       "            "
      ],
      "text/plain": [
       "<IPython.core.display.Javascript object>"
      ]
     },
     "metadata": {},
     "output_type": "display_data"
    }
   ],
   "source": [
    "srm_years_pdf = out_run.meta[  # .filter(ms=ten_ms)\n",
    "    [\"SRM_years\", \"ms\", \"ensemble_member\", \"year_return_back_below_15_temp\"]\n",
    "].drop_duplicates()\n",
    "display(srm_years_pdf.head())"
   ]
  },
  {
   "cell_type": "code",
   "execution_count": 27,
   "id": "14d5dc15",
   "metadata": {},
   "outputs": [
    {
     "data": {
      "application/javascript": [
       "\n",
       "            setTimeout(function() {\n",
       "                var nbb_cell_id = 27;\n",
       "                var nbb_unformatted_code = \"SRM_depl = srm_years_pdf[\\n    (srm_years_pdf[\\\"year_return_back_below_15_temp\\\"] < 2501)\\n    & (srm_years_pdf[\\\"year_return_back_below_15_temp\\\"] > 2029)\\n]\\nnoSRM_depl = srm_years_pdf[(srm_years_pdf[\\\"year_return_back_below_15_temp\\\"] == 2029)]\\nlongSRM_depl = srm_years_pdf[(srm_years_pdf[\\\"year_return_back_below_15_temp\\\"] == 2501)]\";\n",
       "                var nbb_formatted_code = \"SRM_depl = srm_years_pdf[\\n    (srm_years_pdf[\\\"year_return_back_below_15_temp\\\"] < 2501)\\n    & (srm_years_pdf[\\\"year_return_back_below_15_temp\\\"] > 2029)\\n]\\nnoSRM_depl = srm_years_pdf[(srm_years_pdf[\\\"year_return_back_below_15_temp\\\"] == 2029)]\\nlongSRM_depl = srm_years_pdf[(srm_years_pdf[\\\"year_return_back_below_15_temp\\\"] == 2501)]\";\n",
       "                var nbb_cells = Jupyter.notebook.get_cells();\n",
       "                for (var i = 0; i < nbb_cells.length; ++i) {\n",
       "                    if (nbb_cells[i].input_prompt_number == nbb_cell_id) {\n",
       "                        if (nbb_cells[i].get_text() == nbb_unformatted_code) {\n",
       "                             nbb_cells[i].set_text(nbb_formatted_code);\n",
       "                        }\n",
       "                        break;\n",
       "                    }\n",
       "                }\n",
       "            }, 500);\n",
       "            "
      ],
      "text/plain": [
       "<IPython.core.display.Javascript object>"
      ]
     },
     "metadata": {},
     "output_type": "display_data"
    }
   ],
   "source": [
    "SRM_depl = srm_years_pdf[\n",
    "    (srm_years_pdf[\"year_return_back_below_15_temp\"] < 2501)\n",
    "    & (srm_years_pdf[\"year_return_back_below_15_temp\"] > 2029)\n",
    "]\n",
    "noSRM_depl = srm_years_pdf[(srm_years_pdf[\"year_return_back_below_15_temp\"] == 2029)]\n",
    "longSRM_depl = srm_years_pdf[(srm_years_pdf[\"year_return_back_below_15_temp\"] == 2501)]"
   ]
  },
  {
   "cell_type": "code",
   "execution_count": 28,
   "id": "a7fd9316",
   "metadata": {},
   "outputs": [
    {
     "data": {
      "text/html": [
       "<div>\n",
       "<style scoped>\n",
       "    .dataframe tbody tr th:only-of-type {\n",
       "        vertical-align: middle;\n",
       "    }\n",
       "\n",
       "    .dataframe tbody tr th {\n",
       "        vertical-align: top;\n",
       "    }\n",
       "\n",
       "    .dataframe thead th {\n",
       "        text-align: right;\n",
       "    }\n",
       "</style>\n",
       "<table border=\"1\" class=\"dataframe\">\n",
       "  <thead>\n",
       "    <tr style=\"text-align: right;\">\n",
       "      <th></th>\n",
       "      <th>SRM_years</th>\n",
       "      <th>ensemble_member</th>\n",
       "      <th>year_return_back_below_15_temp</th>\n",
       "    </tr>\n",
       "  </thead>\n",
       "  <tbody>\n",
       "    <tr>\n",
       "      <th>count</th>\n",
       "      <td>166210.000000</td>\n",
       "      <td>166210.000000</td>\n",
       "      <td>166210.00000</td>\n",
       "    </tr>\n",
       "    <tr>\n",
       "      <th>mean</th>\n",
       "      <td>168.308850</td>\n",
       "      <td>302.657060</td>\n",
       "      <td>2219.13667</td>\n",
       "    </tr>\n",
       "    <tr>\n",
       "      <th>std</th>\n",
       "      <td>105.877108</td>\n",
       "      <td>172.195628</td>\n",
       "      <td>112.96370</td>\n",
       "    </tr>\n",
       "    <tr>\n",
       "      <th>min</th>\n",
       "      <td>0.000000</td>\n",
       "      <td>0.000000</td>\n",
       "      <td>2036.00000</td>\n",
       "    </tr>\n",
       "    <tr>\n",
       "      <th>25%</th>\n",
       "      <td>84.000000</td>\n",
       "      <td>154.000000</td>\n",
       "      <td>2128.00000</td>\n",
       "    </tr>\n",
       "    <tr>\n",
       "      <th>50%</th>\n",
       "      <td>145.000000</td>\n",
       "      <td>304.000000</td>\n",
       "      <td>2194.00000</td>\n",
       "    </tr>\n",
       "    <tr>\n",
       "      <th>75%</th>\n",
       "      <td>240.000000</td>\n",
       "      <td>453.000000</td>\n",
       "      <td>2295.00000</td>\n",
       "    </tr>\n",
       "    <tr>\n",
       "      <th>max</th>\n",
       "      <td>469.000000</td>\n",
       "      <td>599.000000</td>\n",
       "      <td>2500.00000</td>\n",
       "    </tr>\n",
       "  </tbody>\n",
       "</table>\n",
       "</div>"
      ],
      "text/plain": [
       "           SRM_years  ensemble_member  year_return_back_below_15_temp\n",
       "count  166210.000000    166210.000000                    166210.00000\n",
       "mean      168.308850       302.657060                      2219.13667\n",
       "std       105.877108       172.195628                       112.96370\n",
       "min         0.000000         0.000000                      2036.00000\n",
       "25%        84.000000       154.000000                      2128.00000\n",
       "50%       145.000000       304.000000                      2194.00000\n",
       "75%       240.000000       453.000000                      2295.00000\n",
       "max       469.000000       599.000000                      2500.00000"
      ]
     },
     "execution_count": 28,
     "metadata": {},
     "output_type": "execute_result"
    },
    {
     "data": {
      "application/javascript": [
       "\n",
       "            setTimeout(function() {\n",
       "                var nbb_cell_id = 28;\n",
       "                var nbb_unformatted_code = \"SRM_depl.describe()\";\n",
       "                var nbb_formatted_code = \"SRM_depl.describe()\";\n",
       "                var nbb_cells = Jupyter.notebook.get_cells();\n",
       "                for (var i = 0; i < nbb_cells.length; ++i) {\n",
       "                    if (nbb_cells[i].input_prompt_number == nbb_cell_id) {\n",
       "                        if (nbb_cells[i].get_text() == nbb_unformatted_code) {\n",
       "                             nbb_cells[i].set_text(nbb_formatted_code);\n",
       "                        }\n",
       "                        break;\n",
       "                    }\n",
       "                }\n",
       "            }, 500);\n",
       "            "
      ],
      "text/plain": [
       "<IPython.core.display.Javascript object>"
      ]
     },
     "metadata": {},
     "output_type": "display_data"
    }
   ],
   "source": [
    "SRM_depl.describe()"
   ]
  },
  {
   "cell_type": "code",
   "execution_count": 30,
   "id": "cf7f75c6",
   "metadata": {},
   "outputs": [
    {
     "name": "stderr",
     "output_type": "stream",
     "text": [
      "No artists with labels found to put in legend.  Note that artists whose label start with an underscore are ignored when legend() is called with no argument.\n"
     ]
    },
    {
     "data": {
      "text/plain": [
       "<matplotlib.legend.Legend at 0x1a9d6b4f0>"
      ]
     },
     "execution_count": 30,
     "metadata": {},
     "output_type": "execute_result"
    },
    {
     "data": {
      "image/png": "[encoded data removed]",
      "text/plain": [
       "<Figure size 640x480 with 1 Axes>"
      ]
     },
     "metadata": {},
     "output_type": "display_data"
    },
    {
     "data": {
      "application/javascript": [
       "\n",
       "            setTimeout(function() {\n",
       "                var nbb_cell_id = 30;\n",
       "                var nbb_unformatted_code = \"ax = sns.histplot(\\n    data=SRM_depl,\\n    x=\\\"SRM_years\\\",\\n    #  hue=\\\"ms\\\",\\n    bins=range(0, 500, 20),\\n    kde=True,\\n    #     element=\\\"step\\\",\\n    #     multiple=\\\"stack\\\",\\n    alpha=0.3,\\n)\\nax.legend(bbox_to_anchor=(1.05, 0.5), loc=\\\"center left\\\")\";\n",
       "                var nbb_formatted_code = \"ax = sns.histplot(\\n    data=SRM_depl,\\n    x=\\\"SRM_years\\\",\\n    #  hue=\\\"ms\\\",\\n    bins=range(0, 500, 20),\\n    kde=True,\\n    #     element=\\\"step\\\",\\n    #     multiple=\\\"stack\\\",\\n    alpha=0.3,\\n)\\nax.legend(bbox_to_anchor=(1.05, 0.5), loc=\\\"center left\\\")\";\n",
       "                var nbb_cells = Jupyter.notebook.get_cells();\n",
       "                for (var i = 0; i < nbb_cells.length; ++i) {\n",
       "                    if (nbb_cells[i].input_prompt_number == nbb_cell_id) {\n",
       "                        if (nbb_cells[i].get_text() == nbb_unformatted_code) {\n",
       "                             nbb_cells[i].set_text(nbb_formatted_code);\n",
       "                        }\n",
       "                        break;\n",
       "                    }\n",
       "                }\n",
       "            }, 500);\n",
       "            "
      ],
      "text/plain": [
       "<IPython.core.display.Javascript object>"
      ]
     },
     "metadata": {},
     "output_type": "display_data"
    }
   ],
   "source": [
    "ax = sns.histplot(\n",
    "    data=SRM_depl,\n",
    "    x=\"SRM_years\",\n",
    "    #  hue=\"ms\",\n",
    "    bins=range(0, 500, 20),\n",
    "    kde=True,\n",
    "    #     element=\"step\",\n",
    "    #     multiple=\"stack\",\n",
    "    alpha=0.3,\n",
    ")\n",
    "ax.legend(bbox_to_anchor=(1.05, 0.5), loc=\"center left\")"
   ]
  },
  {
   "cell_type": "code",
   "execution_count": 24,
   "id": "724a2f45",
   "metadata": {},
   "outputs": [
    {
     "data": {
      "text/plain": [
       "(array([0, 1, 2, 3, 4, 5, 6, 7, 8, 9]),\n",
       " [Text(0, 0, 'REMIND 1.7ADVANCE_2030_Price1.5C'),\n",
       "  Text(1, 0, 'WITCH-GLOBIOM 4.4CD-LINKS_NDC2030i_1000'),\n",
       "  Text(2, 0, 'REMIND-MAgPIE 2.1-4.2EN_INDCi2030_600f_COV_NDCp'),\n",
       "  Text(3, 0, 'REMIND-MAgPIE 1.7-3.0PEP_1p5C_full_NDC'),\n",
       "  Text(4, 0, 'WITCH 5.0EN_INDCi2030_500f'),\n",
       "  Text(5, 0, 'MESSAGEix-GLOBIOM_1.1EN_INDCi2030_950f_COV'),\n",
       "  Text(6, 0, 'POLES ADVANCEADVANCE_2030_Price1.5C'),\n",
       "  Text(7, 0, 'REMIND 1.7ADVANCE_2030_Med2C'),\n",
       "  Text(8, 0, 'POLES ADVANCEADVANCE_2030_1.5C-2100'),\n",
       "  Text(9, 0, 'COFFEE 1.1EN_INDCi2030_400f')])"
      ]
     },
     "execution_count": 24,
     "metadata": {},
     "output_type": "execute_result"
    },
    {
     "data": {
      "image/png": "[encoded data removed]",
      "text/plain": [
       "<Figure size 640x480 with 1 Axes>"
      ]
     },
     "metadata": {},
     "output_type": "display_data"
    },
    {
     "data": {
      "application/javascript": [
       "\n",
       "            setTimeout(function() {\n",
       "                var nbb_cell_id = 24;\n",
       "                var nbb_unformatted_code = \"min_ten_ms = (\\n    out_run.meta[[\\\"SRM_years\\\", \\\"ms\\\", \\\"ensemble_member\\\"]]\\n    .drop_duplicates()\\n    .groupby(\\\"ms\\\")[\\\"SRM_years\\\"]\\n    .max()\\n    .sort_values()\\n    .index[:10]\\n)\\n\\nsrm_years_pdf = (\\n    out_run.filter(ms=min_ten_ms)\\n    .meta[[\\\"SRM_years\\\", \\\"ms\\\", \\\"ensemble_member\\\"]]\\n    .drop_duplicates()\\n)\\n\\nax = sns.boxplot(data=srm_years_pdf, y=\\\"SRM_years\\\", x=\\\"ms\\\", order=min_ten_ms)\\nplt.xticks(rotation=90)\";\n",
       "                var nbb_formatted_code = \"min_ten_ms = (\\n    out_run.meta[[\\\"SRM_years\\\", \\\"ms\\\", \\\"ensemble_member\\\"]]\\n    .drop_duplicates()\\n    .groupby(\\\"ms\\\")[\\\"SRM_years\\\"]\\n    .max()\\n    .sort_values()\\n    .index[:10]\\n)\\n\\nsrm_years_pdf = (\\n    out_run.filter(ms=min_ten_ms)\\n    .meta[[\\\"SRM_years\\\", \\\"ms\\\", \\\"ensemble_member\\\"]]\\n    .drop_duplicates()\\n)\\n\\nax = sns.boxplot(data=srm_years_pdf, y=\\\"SRM_years\\\", x=\\\"ms\\\", order=min_ten_ms)\\nplt.xticks(rotation=90)\";\n",
       "                var nbb_cells = Jupyter.notebook.get_cells();\n",
       "                for (var i = 0; i < nbb_cells.length; ++i) {\n",
       "                    if (nbb_cells[i].input_prompt_number == nbb_cell_id) {\n",
       "                        if (nbb_cells[i].get_text() == nbb_unformatted_code) {\n",
       "                             nbb_cells[i].set_text(nbb_formatted_code);\n",
       "                        }\n",
       "                        break;\n",
       "                    }\n",
       "                }\n",
       "            }, 500);\n",
       "            "
      ],
      "text/plain": [
       "<IPython.core.display.Javascript object>"
      ]
     },
     "metadata": {},
     "output_type": "display_data"
    }
   ],
   "source": [
    "min_ten_ms = (\n",
    "    out_run.meta[[\"SRM_years\", \"ms\", \"ensemble_member\"]]\n",
    "    .drop_duplicates()\n",
    "    .groupby(\"ms\")[\"SRM_years\"]\n",
    "    .max()\n",
    "    .sort_values()\n",
    "    .index[:10]\n",
    ")\n",
    "\n",
    "srm_years_pdf = (\n",
    "    out_run.filter(ms=min_ten_ms)\n",
    "    .meta[[\"SRM_years\", \"ms\", \"ensemble_member\"]]\n",
    "    .drop_duplicates()\n",
    ")\n",
    "\n",
    "ax = sns.boxplot(data=srm_years_pdf, y=\"SRM_years\", x=\"ms\", order=min_ten_ms)\n",
    "plt.xticks(rotation=90)"
   ]
  },
  {
   "cell_type": "code",
   "execution_count": 25,
   "id": "18a1e31d",
   "metadata": {},
   "outputs": [
    {
     "data": {
      "application/javascript": [
       "\n",
       "            setTimeout(function() {\n",
       "                var nbb_cell_id = 25;\n",
       "                var nbb_unformatted_code = \"# ax = sns.stripplot(\\n#     data=srm_years_pdf, y=\\\"SRM_years\\\", hue=\\\"ms\\\", x=\\\"ensemble_member\\\", legend=False\\n# )\\n# # ax.legend(bbox_to_anchor=(1.05, 0.5), loc=\\\"center left\\\")\";\n",
       "                var nbb_formatted_code = \"# ax = sns.stripplot(\\n#     data=srm_years_pdf, y=\\\"SRM_years\\\", hue=\\\"ms\\\", x=\\\"ensemble_member\\\", legend=False\\n# )\\n# # ax.legend(bbox_to_anchor=(1.05, 0.5), loc=\\\"center left\\\")\";\n",
       "                var nbb_cells = Jupyter.notebook.get_cells();\n",
       "                for (var i = 0; i < nbb_cells.length; ++i) {\n",
       "                    if (nbb_cells[i].input_prompt_number == nbb_cell_id) {\n",
       "                        if (nbb_cells[i].get_text() == nbb_unformatted_code) {\n",
       "                             nbb_cells[i].set_text(nbb_formatted_code);\n",
       "                        }\n",
       "                        break;\n",
       "                    }\n",
       "                }\n",
       "            }, 500);\n",
       "            "
      ],
      "text/plain": [
       "<IPython.core.display.Javascript object>"
      ]
     },
     "metadata": {},
     "output_type": "display_data"
    }
   ],
   "source": [
    "# ax = sns.stripplot(\n",
    "#     data=srm_years_pdf, y=\"SRM_years\", hue=\"ms\", x=\"ensemble_member\", legend=False\n",
    "# )\n",
    "# # ax.legend(bbox_to_anchor=(1.05, 0.5), loc=\"center left\")"
   ]
  },
  {
   "cell_type": "code",
   "execution_count": 26,
   "id": "32bd48da",
   "metadata": {},
   "outputs": [
    {
     "data": {
      "application/javascript": [
       "\n",
       "            setTimeout(function() {\n",
       "                var nbb_cell_id = 26;\n",
       "                var nbb_unformatted_code = \"# ax = sns.stripplot(data=srm_years_pdf, y=\\\"SRM_years\\\", x=\\\"ms\\\", hue=\\\"ensemble_member\\\")\\n# ax.legend(bbox_to_anchor=(1.05, 0.5), loc=\\\"center left\\\")\\n# plt.xticks(rotation=90)\";\n",
       "                var nbb_formatted_code = \"# ax = sns.stripplot(data=srm_years_pdf, y=\\\"SRM_years\\\", x=\\\"ms\\\", hue=\\\"ensemble_member\\\")\\n# ax.legend(bbox_to_anchor=(1.05, 0.5), loc=\\\"center left\\\")\\n# plt.xticks(rotation=90)\";\n",
       "                var nbb_cells = Jupyter.notebook.get_cells();\n",
       "                for (var i = 0; i < nbb_cells.length; ++i) {\n",
       "                    if (nbb_cells[i].input_prompt_number == nbb_cell_id) {\n",
       "                        if (nbb_cells[i].get_text() == nbb_unformatted_code) {\n",
       "                             nbb_cells[i].set_text(nbb_formatted_code);\n",
       "                        }\n",
       "                        break;\n",
       "                    }\n",
       "                }\n",
       "            }, 500);\n",
       "            "
      ],
      "text/plain": [
       "<IPython.core.display.Javascript object>"
      ]
     },
     "metadata": {},
     "output_type": "display_data"
    }
   ],
   "source": [
    "# ax = sns.stripplot(data=srm_years_pdf, y=\"SRM_years\", x=\"ms\", hue=\"ensemble_member\")\n",
    "# ax.legend(bbox_to_anchor=(1.05, 0.5), loc=\"center left\")\n",
    "# plt.xticks(rotation=90)"
   ]
  },
  {
   "cell_type": "code",
   "execution_count": 27,
   "id": "9339a4fc",
   "metadata": {},
   "outputs": [
    {
     "data": {
      "application/javascript": [
       "\n",
       "            setTimeout(function() {\n",
       "                var nbb_cell_id = 27;\n",
       "                var nbb_unformatted_code = \"# ax = sns.boxplot(data=srm_years_pdf, y=\\\"SRM_years\\\", x=\\\"ms\\\")\\n# # ax.legend(bbox_to_anchor=(1.05, 0.5), loc=\\\"center left\\\")\\n# plt.xticks(rotation=90)\";\n",
       "                var nbb_formatted_code = \"# ax = sns.boxplot(data=srm_years_pdf, y=\\\"SRM_years\\\", x=\\\"ms\\\")\\n# # ax.legend(bbox_to_anchor=(1.05, 0.5), loc=\\\"center left\\\")\\n# plt.xticks(rotation=90)\";\n",
       "                var nbb_cells = Jupyter.notebook.get_cells();\n",
       "                for (var i = 0; i < nbb_cells.length; ++i) {\n",
       "                    if (nbb_cells[i].input_prompt_number == nbb_cell_id) {\n",
       "                        if (nbb_cells[i].get_text() == nbb_unformatted_code) {\n",
       "                             nbb_cells[i].set_text(nbb_formatted_code);\n",
       "                        }\n",
       "                        break;\n",
       "                    }\n",
       "                }\n",
       "            }, 500);\n",
       "            "
      ],
      "text/plain": [
       "<IPython.core.display.Javascript object>"
      ]
     },
     "metadata": {},
     "output_type": "display_data"
    }
   ],
   "source": [
    "# ax = sns.boxplot(data=srm_years_pdf, y=\"SRM_years\", x=\"ms\")\n",
    "# # ax.legend(bbox_to_anchor=(1.05, 0.5), loc=\"center left\")\n",
    "# plt.xticks(rotation=90)"
   ]
  }
 ],
 "metadata": {
  "kernelspec": {
   "display_name": "Python 3 (ipykernel)",
   "language": "python",
   "name": "python3"
  },
  "language_info": {
   "codemirror_mode": {
    "name": "ipython",
    "version": 3
   },
   "file_extension": ".py",
   "mimetype": "text/x-python",
   "name": "python",
   "nbconvert_exporter": "python",
   "pygments_lexer": "ipython3",
   "version": "3.9.13"
  }
 },
 "nbformat": 4,
 "nbformat_minor": 5
}
