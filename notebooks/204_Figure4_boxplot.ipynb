{
 "cells": [
  {
   "cell_type": "code",
   "execution_count": 6,
   "id": "49806a4c",
   "metadata": {},
   "outputs": [
    {
     "name": "stdout",
     "output_type": "stream",
     "text": [
      "The nb_black extension is already loaded. To reload it, use:\n",
      "  %reload_ext nb_black\n"
     ]
    },
    {
     "data": {
      "application/javascript": [
       "\n",
       "            setTimeout(function() {\n",
       "                var nbb_cell_id = 6;\n",
       "                var nbb_unformatted_code = \"%load_ext nb_black\";\n",
       "                var nbb_formatted_code = \"%load_ext nb_black\";\n",
       "                var nbb_cells = Jupyter.notebook.get_cells();\n",
       "                for (var i = 0; i < nbb_cells.length; ++i) {\n",
       "                    if (nbb_cells[i].input_prompt_number == nbb_cell_id) {\n",
       "                        if (nbb_cells[i].get_text() == nbb_unformatted_code) {\n",
       "                             nbb_cells[i].set_text(nbb_formatted_code);\n",
       "                        }\n",
       "                        break;\n",
       "                    }\n",
       "                }\n",
       "            }, 500);\n",
       "            "
      ],
      "text/plain": [
       "<IPython.core.display.Javascript object>"
      ]
     },
     "metadata": {},
     "output_type": "display_data"
    }
   ],
   "source": [
    "%load_ext nb_black"
   ]
  },
  {
   "cell_type": "code",
   "execution_count": 7,
   "id": "c769fb2a",
   "metadata": {},
   "outputs": [
    {
     "data": {
      "application/javascript": [
       "\n",
       "            setTimeout(function() {\n",
       "                var nbb_cell_id = 7;\n",
       "                var nbb_unformatted_code = \"import os.path\\nfrom pathlib import Path\\n\\nimport json\\nimport pyam\\nimport scmdata\\nimport pandas as pd\\nimport numpy as np\\nfrom pymagicc.io import MAGICCData\\n\\nimport utils\\n\\n## plotting packages\\nimport seaborn as sns\\nimport matplotlib.pyplot as plt\\nfrom matplotlib.patches import Rectangle\\n\\nimport warnings\\n\\nwarnings.simplefilter(action=\\\"ignore\\\", category=FutureWarning)\";\n",
       "                var nbb_formatted_code = \"import os.path\\nfrom pathlib import Path\\n\\nimport json\\nimport pyam\\nimport scmdata\\nimport pandas as pd\\nimport numpy as np\\nfrom pymagicc.io import MAGICCData\\n\\nimport utils\\n\\n## plotting packages\\nimport seaborn as sns\\nimport matplotlib.pyplot as plt\\nfrom matplotlib.patches import Rectangle\\n\\nimport warnings\\n\\nwarnings.simplefilter(action=\\\"ignore\\\", category=FutureWarning)\";\n",
       "                var nbb_cells = Jupyter.notebook.get_cells();\n",
       "                for (var i = 0; i < nbb_cells.length; ++i) {\n",
       "                    if (nbb_cells[i].input_prompt_number == nbb_cell_id) {\n",
       "                        if (nbb_cells[i].get_text() == nbb_unformatted_code) {\n",
       "                             nbb_cells[i].set_text(nbb_formatted_code);\n",
       "                        }\n",
       "                        break;\n",
       "                    }\n",
       "                }\n",
       "            }, 500);\n",
       "            "
      ],
      "text/plain": [
       "<IPython.core.display.Javascript object>"
      ]
     },
     "metadata": {},
     "output_type": "display_data"
    }
   ],
   "source": [
    "import os.path\n",
    "from pathlib import Path\n",
    "\n",
    "import json\n",
    "import pyam\n",
    "import scmdata\n",
    "import pandas as pd\n",
    "import numpy as np\n",
    "from pymagicc.io import MAGICCData\n",
    "\n",
    "import utils\n",
    "\n",
    "## plotting packages\n",
    "import seaborn as sns\n",
    "import matplotlib.pyplot as plt\n",
    "from matplotlib.patches import Rectangle\n",
    "\n",
    "import warnings\n",
    "\n",
    "warnings.simplefilter(action=\"ignore\", category=FutureWarning)"
   ]
  },
  {
   "cell_type": "code",
   "execution_count": 8,
   "id": "07a65fc2",
   "metadata": {},
   "outputs": [
    {
     "data": {
      "application/javascript": [
       "\n",
       "            setTimeout(function() {\n",
       "                var nbb_cell_id = 8;\n",
       "                var nbb_unformatted_code = \"ID = \\\"sb_noSRM_inclu\\\"\";\n",
       "                var nbb_formatted_code = \"ID = \\\"sb_noSRM_inclu\\\"\";\n",
       "                var nbb_cells = Jupyter.notebook.get_cells();\n",
       "                for (var i = 0; i < nbb_cells.length; ++i) {\n",
       "                    if (nbb_cells[i].input_prompt_number == nbb_cell_id) {\n",
       "                        if (nbb_cells[i].get_text() == nbb_unformatted_code) {\n",
       "                             nbb_cells[i].set_text(nbb_formatted_code);\n",
       "                        }\n",
       "                        break;\n",
       "                    }\n",
       "                }\n",
       "            }, 500);\n",
       "            "
      ],
      "text/plain": [
       "<IPython.core.display.Javascript object>"
      ]
     },
     "metadata": {},
     "output_type": "display_data"
    }
   ],
   "source": [
    "ID = \"sb_noSRM_inclu\""
   ]
  },
  {
   "cell_type": "code",
   "execution_count": 9,
   "id": "a8e00a18",
   "metadata": {},
   "outputs": [
    {
     "data": {
      "application/javascript": [
       "\n",
       "            setTimeout(function() {\n",
       "                var nbb_cell_id = 9;\n",
       "                var nbb_unformatted_code = \"data = pd.read_csv(\\n    str(Path(utils.DATA_DIR / \\\"plotting_data\\\" / \\\"figure4\\\" / f\\\"{ID}.csv\\\"))\\n)\";\n",
       "                var nbb_formatted_code = \"data = pd.read_csv(\\n    str(Path(utils.DATA_DIR / \\\"plotting_data\\\" / \\\"figure4\\\" / f\\\"{ID}.csv\\\"))\\n)\";\n",
       "                var nbb_cells = Jupyter.notebook.get_cells();\n",
       "                for (var i = 0; i < nbb_cells.length; ++i) {\n",
       "                    if (nbb_cells[i].input_prompt_number == nbb_cell_id) {\n",
       "                        if (nbb_cells[i].get_text() == nbb_unformatted_code) {\n",
       "                             nbb_cells[i].set_text(nbb_formatted_code);\n",
       "                        }\n",
       "                        break;\n",
       "                    }\n",
       "                }\n",
       "            }, 500);\n",
       "            "
      ],
      "text/plain": [
       "<IPython.core.display.Javascript object>"
      ]
     },
     "metadata": {},
     "output_type": "display_data"
    }
   ],
   "source": [
    "data = pd.read_csv(\n",
    "    str(Path(utils.DATA_DIR / \"plotting_data\" / \"figure4\" / f\"{ID}.csv\"))\n",
    ")"
   ]
  },
  {
   "cell_type": "code",
   "execution_count": 10,
   "id": "f20d3c8b",
   "metadata": {},
   "outputs": [
    {
     "data": {
      "application/javascript": [
       "\n",
       "            setTimeout(function() {\n",
       "                var nbb_cell_id = 10;\n",
       "                var nbb_unformatted_code = \"data[\\\"max_CDR\\\"] = (data[\\\"max_CDR\\\"] * (-1)) / 1000\\ndata[\\\"average_cdr_between_peak_and_15_temp\\\"] = (\\n    data[\\\"average_cdr_between_peak_and_15_temp\\\"] / 1000\\n)\";\n",
       "                var nbb_formatted_code = \"data[\\\"max_CDR\\\"] = (data[\\\"max_CDR\\\"] * (-1)) / 1000\\ndata[\\\"average_cdr_between_peak_and_15_temp\\\"] = (\\n    data[\\\"average_cdr_between_peak_and_15_temp\\\"] / 1000\\n)\";\n",
       "                var nbb_cells = Jupyter.notebook.get_cells();\n",
       "                for (var i = 0; i < nbb_cells.length; ++i) {\n",
       "                    if (nbb_cells[i].input_prompt_number == nbb_cell_id) {\n",
       "                        if (nbb_cells[i].get_text() == nbb_unformatted_code) {\n",
       "                             nbb_cells[i].set_text(nbb_formatted_code);\n",
       "                        }\n",
       "                        break;\n",
       "                    }\n",
       "                }\n",
       "            }, 500);\n",
       "            "
      ],
      "text/plain": [
       "<IPython.core.display.Javascript object>"
      ]
     },
     "metadata": {},
     "output_type": "display_data"
    }
   ],
   "source": [
    "data[\"max_CDR\"] = (data[\"max_CDR\"] * (-1)) / 1000\n",
    "data[\"average_cdr_between_peak_and_15_temp\"] = (\n",
    "    data[\"average_cdr_between_peak_and_15_temp\"] / 1000\n",
    ")"
   ]
  },
  {
   "cell_type": "code",
   "execution_count": 11,
   "id": "161d5b09",
   "metadata": {},
   "outputs": [
    {
     "data": {
      "application/javascript": [
       "\n",
       "            setTimeout(function() {\n",
       "                var nbb_cell_id = 11;\n",
       "                var nbb_unformatted_code = \"colors = [\\n    sns.color_palette(\\\"Paired\\\")[6],\\n    sns.color_palette(\\\"Paired\\\")[7],\\n    sns.color_palette(\\\"Paired\\\")[2],\\n    sns.color_palette(\\\"Paired\\\")[3],\\n    sns.color_palette(\\\"Paired\\\")[0],\\n    sns.color_palette(\\\"Paired\\\")[1],\\n    sns.color_palette(\\\"Paired\\\")[4],\\n    sns.color_palette(\\\"Paired\\\")[5],\\n]\";\n",
       "                var nbb_formatted_code = \"colors = [\\n    sns.color_palette(\\\"Paired\\\")[6],\\n    sns.color_palette(\\\"Paired\\\")[7],\\n    sns.color_palette(\\\"Paired\\\")[2],\\n    sns.color_palette(\\\"Paired\\\")[3],\\n    sns.color_palette(\\\"Paired\\\")[0],\\n    sns.color_palette(\\\"Paired\\\")[1],\\n    sns.color_palette(\\\"Paired\\\")[4],\\n    sns.color_palette(\\\"Paired\\\")[5],\\n]\";\n",
       "                var nbb_cells = Jupyter.notebook.get_cells();\n",
       "                for (var i = 0; i < nbb_cells.length; ++i) {\n",
       "                    if (nbb_cells[i].input_prompt_number == nbb_cell_id) {\n",
       "                        if (nbb_cells[i].get_text() == nbb_unformatted_code) {\n",
       "                             nbb_cells[i].set_text(nbb_formatted_code);\n",
       "                        }\n",
       "                        break;\n",
       "                    }\n",
       "                }\n",
       "            }, 500);\n",
       "            "
      ],
      "text/plain": [
       "<IPython.core.display.Javascript object>"
      ]
     },
     "metadata": {},
     "output_type": "display_data"
    }
   ],
   "source": [
    "colors = [\n",
    "    sns.color_palette(\"Paired\")[6],\n",
    "    sns.color_palette(\"Paired\")[7],\n",
    "    sns.color_palette(\"Paired\")[2],\n",
    "    sns.color_palette(\"Paired\")[3],\n",
    "    sns.color_palette(\"Paired\")[0],\n",
    "    sns.color_palette(\"Paired\")[1],\n",
    "    sns.color_palette(\"Paired\")[4],\n",
    "    sns.color_palette(\"Paired\")[5],\n",
    "]"
   ]
  },
  {
   "cell_type": "code",
   "execution_count": 14,
   "id": "e3f72289",
   "metadata": {},
   "outputs": [
    {
     "data": {
      "image/png": "[encoded data removed]",
      "text/plain": [
       "<Figure size 640x480 with 1 Axes>"
      ]
     },
     "metadata": {},
     "output_type": "display_data"
    },
    {
     "data": {
      "image/png": "[encoded data removed]",
      "text/plain": [
       "<Figure size 640x480 with 1 Axes>"
      ]
     },
     "metadata": {},
     "output_type": "display_data"
    },
    {
     "data": {
      "application/javascript": [
       "\n",
       "            setTimeout(function() {\n",
       "                var nbb_cell_id = 14;\n",
       "                var nbb_unformatted_code = \"def plot(CDR):\\n\\n    fig, ax = plt.subplots(1)\\n\\n    if CDR == \\\"max\\\":\\n        column = \\\"max_CDR\\\"\\n        long = \\\"Max yearly CDR\\\"\\n    elif CDR == 'mean':\\n        column = 'average_cdr_between_peak_and_15_temp'\\n        long = \\\"Average yearly CDR\\\"\\n\\n    data[long] = pd.cut(\\n        data[column],\\n        list(range(0, 45, 5)),\\n        labels=[\\\"0-5\\\", \\\"5-10\\\", \\\"10-15\\\", \\\"15-20\\\", \\\"20-25\\\", \\\"25-30\\\", \\\"30-35\\\", \\\"35-40\\\"],\\n    )\\n\\n    ax = sns.boxplot(\\n        data=data,\\n        x=long,\\n        y=\\\"SRM_years\\\",\\n        palette=colors,\\n        # notch=True,\\n        # medianprops={\\\"color\\\": \\\"coral\\\"},\\n    )\\n\\n    ### add dashed box for \\\"sustainable CDR range\\\" (C1&C2)\\n    rect = Rectangle(\\n        (1.49, -10),\\n        1,\\n        508,\\n        linestyle=\\\"dashed\\\",\\n        edgecolor=\\\"red\\\",\\n        facecolor=\\\"None\\\",\\n        clip_on=False,\\n    )\\n    ax.add_patch(rect)\\n\\n    plt.xlabel(long)\\n    plt.ylabel(\\\"Years of SRM\\\")\\n    plt.title(\\\"Figure 4\\\")\\n\\n    plt.savefig(str(Path(utils.PLOTS_DIR / \\\"figure4\\\" / f\\\"{ID}_fig4.png\\\")))\\n    plt.show()\\n\\n\\nplot(\\\"max\\\")\\nplot(\\\"mean\\\")\";\n",
       "                var nbb_formatted_code = \"def plot(CDR):\\n\\n    fig, ax = plt.subplots(1)\\n\\n    if CDR == \\\"max\\\":\\n        column = \\\"max_CDR\\\"\\n        long = \\\"Max yearly CDR\\\"\\n    elif CDR == \\\"mean\\\":\\n        column = \\\"average_cdr_between_peak_and_15_temp\\\"\\n        long = \\\"Average yearly CDR\\\"\\n\\n    data[long] = pd.cut(\\n        data[column],\\n        list(range(0, 45, 5)),\\n        labels=[\\\"0-5\\\", \\\"5-10\\\", \\\"10-15\\\", \\\"15-20\\\", \\\"20-25\\\", \\\"25-30\\\", \\\"30-35\\\", \\\"35-40\\\"],\\n    )\\n\\n    ax = sns.boxplot(\\n        data=data,\\n        x=long,\\n        y=\\\"SRM_years\\\",\\n        palette=colors,\\n        # notch=True,\\n        # medianprops={\\\"color\\\": \\\"coral\\\"},\\n    )\\n\\n    ### add dashed box for \\\"sustainable CDR range\\\" (C1&C2)\\n    rect = Rectangle(\\n        (1.49, -10),\\n        1,\\n        508,\\n        linestyle=\\\"dashed\\\",\\n        edgecolor=\\\"red\\\",\\n        facecolor=\\\"None\\\",\\n        clip_on=False,\\n    )\\n    ax.add_patch(rect)\\n\\n    plt.xlabel(long)\\n    plt.ylabel(\\\"Years of SRM\\\")\\n    plt.title(\\\"Figure 4\\\")\\n\\n    plt.savefig(str(Path(utils.PLOTS_DIR / \\\"figure4\\\" / f\\\"{ID}_fig4.png\\\")))\\n    plt.show()\\n\\n\\nplot(\\\"max\\\")\\nplot(\\\"mean\\\")\";\n",
       "                var nbb_cells = Jupyter.notebook.get_cells();\n",
       "                for (var i = 0; i < nbb_cells.length; ++i) {\n",
       "                    if (nbb_cells[i].input_prompt_number == nbb_cell_id) {\n",
       "                        if (nbb_cells[i].get_text() == nbb_unformatted_code) {\n",
       "                             nbb_cells[i].set_text(nbb_formatted_code);\n",
       "                        }\n",
       "                        break;\n",
       "                    }\n",
       "                }\n",
       "            }, 500);\n",
       "            "
      ],
      "text/plain": [
       "<IPython.core.display.Javascript object>"
      ]
     },
     "metadata": {},
     "output_type": "display_data"
    }
   ],
   "source": [
    "def plot(CDR):\n",
    "\n",
    "    fig, ax = plt.subplots(1)\n",
    "\n",
    "    if CDR == \"max\":\n",
    "        column = \"max_CDR\"\n",
    "        long = \"Max yearly CDR\"\n",
    "    elif CDR == 'mean':\n",
    "        column = 'average_cdr_between_peak_and_15_temp'\n",
    "        long = \"Average yearly CDR\"\n",
    "\n",
    "    data[long] = pd.cut(\n",
    "        data[column],\n",
    "        list(range(0, 45, 5)),\n",
    "        labels=[\"0-5\", \"5-10\", \"10-15\", \"15-20\", \"20-25\", \"25-30\", \"30-35\", \"35-40\"],\n",
    "    )\n",
    "\n",
    "    ax = sns.boxplot(\n",
    "        data=data,\n",
    "        x=long,\n",
    "        y=\"SRM_years\",\n",
    "        palette=colors,\n",
    "        # notch=True,\n",
    "        # medianprops={\"color\": \"coral\"},\n",
    "    )\n",
    "\n",
    "    ### add dashed box for \"sustainable CDR range\" (C1&C2)\n",
    "    rect = Rectangle(\n",
    "        (1.49, -10),\n",
    "        1,\n",
    "        508,\n",
    "        linestyle=\"dashed\",\n",
    "        edgecolor=\"red\",\n",
    "        facecolor=\"None\",\n",
    "        clip_on=False,\n",
    "    )\n",
    "    ax.add_patch(rect)\n",
    "\n",
    "    plt.xlabel(long)\n",
    "    plt.ylabel(\"Years of SRM\")\n",
    "    plt.title(\"Figure 4\")\n",
    "\n",
    "    plt.savefig(str(Path(utils.PLOTS_DIR / \"figure4\" / f\"{ID}_fig4.png\")))\n",
    "    plt.show()\n",
    "\n",
    "\n",
    "plot(\"max\")\n",
    "plot(\"mean\")\n"
   ]
  },
  {
   "cell_type": "code",
   "execution_count": null,
   "id": "58b20069",
   "metadata": {},
   "outputs": [],
   "source": []
  }
 ],
 "metadata": {
  "kernelspec": {
   "display_name": "Python 3 (ipykernel)",
   "language": "python",
   "name": "python3"
  },
  "language_info": {
   "codemirror_mode": {
    "name": "ipython",
    "version": 3
   },
   "file_extension": ".py",
   "mimetype": "text/x-python",
   "name": "python",
   "nbconvert_exporter": "python",
   "pygments_lexer": "ipython3",
   "version": "3.9.13"
  }
 },
 "nbformat": 4,
 "nbformat_minor": 5
}
