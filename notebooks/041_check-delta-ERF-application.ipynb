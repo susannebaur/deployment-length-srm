{
 "cells": [
  {
   "cell_type": "markdown",
   "id": "c3d32344",
   "metadata": {},
   "source": [
    "# Check SRM application\n",
    "\n",
    "Here we double check that, if we apply the calculated SRM, we do get a 1.5C-like trajectory. This won't be perfect, as the assumed carbon cycle feedbacks in the original derivation won't match the carbon cycle feedbacks in the scenario, so here we are checking that this error is small."
   ]
  },
  {
   "cell_type": "code",
   "execution_count": 1,
   "id": "989ec6b9",
   "metadata": {},
   "outputs": [
    {
     "data": {
      "application/javascript": [
       "\n",
       "            setTimeout(function() {\n",
       "                var nbb_cell_id = 1;\n",
       "                var nbb_unformatted_code = \"%load_ext nb_black\";\n",
       "                var nbb_formatted_code = \"%load_ext nb_black\";\n",
       "                var nbb_cells = Jupyter.notebook.get_cells();\n",
       "                for (var i = 0; i < nbb_cells.length; ++i) {\n",
       "                    if (nbb_cells[i].input_prompt_number == nbb_cell_id) {\n",
       "                        if (nbb_cells[i].get_text() == nbb_unformatted_code) {\n",
       "                             nbb_cells[i].set_text(nbb_formatted_code);\n",
       "                        }\n",
       "                        break;\n",
       "                    }\n",
       "                }\n",
       "            }, 500);\n",
       "            "
      ],
      "text/plain": [
       "<IPython.core.display.Javascript object>"
      ]
     },
     "metadata": {},
     "output_type": "display_data"
    }
   ],
   "source": [
    "%load_ext nb_black"
   ]
  },
  {
   "cell_type": "code",
   "execution_count": 2,
   "id": "6a46a891",
   "metadata": {},
   "outputs": [
    {
     "data": {
      "application/javascript": [
       "if (typeof IPython !== 'undefined') { IPython.OutputArea.prototype._should_scroll = function(lines){ return false; }}"
      ],
      "text/plain": [
       "<IPython.core.display.Javascript object>"
      ]
     },
     "metadata": {},
     "output_type": "display_data"
    },
    {
     "name": "stderr",
     "output_type": "stream",
     "text": [
      "/data/ubuntu-znicholls/miniconda3/envs/baur-et-al-srm-commitment/lib/python3.9/site-packages/openscm_runner/progress.py:5: TqdmExperimentalWarning: Using `tqdm.autonotebook.tqdm` in notebook mode. Use `tqdm.tqdm` instead to force console mode (e.g. in jupyter console)\n",
      "  from tqdm.autonotebook import tqdm\n"
     ]
    },
    {
     "data": {
      "application/javascript": [
       "\n",
       "            setTimeout(function() {\n",
       "                var nbb_cell_id = 2;\n",
       "                var nbb_unformatted_code = \"import json\\nimport os\\nfrom pathlib import Path\\n\\nimport dotenv\\nimport openscm_runner.adapters\\nimport pymagicc.io\\nimport scmdata\\n\\nimport utils\";\n",
       "                var nbb_formatted_code = \"import json\\nimport os\\nfrom pathlib import Path\\n\\nimport dotenv\\nimport openscm_runner.adapters\\nimport pymagicc.io\\nimport scmdata\\n\\nimport utils\";\n",
       "                var nbb_cells = Jupyter.notebook.get_cells();\n",
       "                for (var i = 0; i < nbb_cells.length; ++i) {\n",
       "                    if (nbb_cells[i].input_prompt_number == nbb_cell_id) {\n",
       "                        if (nbb_cells[i].get_text() == nbb_unformatted_code) {\n",
       "                             nbb_cells[i].set_text(nbb_formatted_code);\n",
       "                        }\n",
       "                        break;\n",
       "                    }\n",
       "                }\n",
       "            }, 500);\n",
       "            "
      ],
      "text/plain": [
       "<IPython.core.display.Javascript object>"
      ]
     },
     "metadata": {},
     "output_type": "display_data"
    }
   ],
   "source": [
    "import json\n",
    "import os\n",
    "from pathlib import Path\n",
    "\n",
    "import dotenv\n",
    "import openscm_runner.adapters\n",
    "import pymagicc.io\n",
    "import scmdata\n",
    "\n",
    "import utils"
   ]
  },
  {
   "cell_type": "code",
   "execution_count": 3,
   "id": "3080f17a",
   "metadata": {},
   "outputs": [
    {
     "data": {
      "application/javascript": [
       "\n",
       "            setTimeout(function() {\n",
       "                var nbb_cell_id = 3;\n",
       "                var nbb_unformatted_code = \"ID = \\\"small_selection\\\"\\nMEMBER_TO_RUN = 0\\n# MEMBER_TO_RUN = 5\\nSCENARIO_TO_RUN = \\\"POLES ADVANCEADVANCE_2030_Price1.5C\\\"\\nSCENARIO_TO_RUN = \\\"MESSAGEix-GLOBIOM_1.1EN_INDCi2030_2500_COV\\\"\\nSCENARIO_TO_RUN = \\\"COFFEE 1.1EN_INDCi2030_500f\\\"\";\n",
       "                var nbb_formatted_code = \"ID = \\\"small_selection\\\"\\nMEMBER_TO_RUN = 0\\n# MEMBER_TO_RUN = 5\\nSCENARIO_TO_RUN = \\\"POLES ADVANCEADVANCE_2030_Price1.5C\\\"\\nSCENARIO_TO_RUN = \\\"MESSAGEix-GLOBIOM_1.1EN_INDCi2030_2500_COV\\\"\\nSCENARIO_TO_RUN = \\\"COFFEE 1.1EN_INDCi2030_500f\\\"\";\n",
       "                var nbb_cells = Jupyter.notebook.get_cells();\n",
       "                for (var i = 0; i < nbb_cells.length; ++i) {\n",
       "                    if (nbb_cells[i].input_prompt_number == nbb_cell_id) {\n",
       "                        if (nbb_cells[i].get_text() == nbb_unformatted_code) {\n",
       "                             nbb_cells[i].set_text(nbb_formatted_code);\n",
       "                        }\n",
       "                        break;\n",
       "                    }\n",
       "                }\n",
       "            }, 500);\n",
       "            "
      ],
      "text/plain": [
       "<IPython.core.display.Javascript object>"
      ]
     },
     "metadata": {},
     "output_type": "display_data"
    }
   ],
   "source": [
    "ID = \"small_selection\"\n",
    "MEMBER_TO_RUN = 0\n",
    "# MEMBER_TO_RUN = 5\n",
    "SCENARIO_TO_RUN = \"POLES ADVANCEADVANCE_2030_Price1.5C\"\n",
    "SCENARIO_TO_RUN = \"MESSAGEix-GLOBIOM_1.1EN_INDCi2030_2500_COV\"\n",
    "SCENARIO_TO_RUN = \"COFFEE 1.1EN_INDCi2030_500f\""
   ]
  },
  {
   "cell_type": "markdown",
   "id": "fbad6236",
   "metadata": {},
   "source": [
    "## Load SRM pathways"
   ]
  },
  {
   "cell_type": "code",
   "execution_count": 4,
   "id": "f34404f3",
   "metadata": {},
   "outputs": [
    {
     "data": {
      "application/javascript": [
       "\n",
       "            setTimeout(function() {\n",
       "                var nbb_cell_id = 4;\n",
       "                var nbb_unformatted_code = \"IN_FILE = Path(utils.DATA_DIR / \\\"interim\\\" / \\\"delta_rf\\\") / f\\\"{ID}_delta-erf_082.csv\\\"\";\n",
       "                var nbb_formatted_code = \"IN_FILE = Path(utils.DATA_DIR / \\\"interim\\\" / \\\"delta_rf\\\") / f\\\"{ID}_delta-erf_082.csv\\\"\";\n",
       "                var nbb_cells = Jupyter.notebook.get_cells();\n",
       "                for (var i = 0; i < nbb_cells.length; ++i) {\n",
       "                    if (nbb_cells[i].input_prompt_number == nbb_cell_id) {\n",
       "                        if (nbb_cells[i].get_text() == nbb_unformatted_code) {\n",
       "                             nbb_cells[i].set_text(nbb_formatted_code);\n",
       "                        }\n",
       "                        break;\n",
       "                    }\n",
       "                }\n",
       "            }, 500);\n",
       "            "
      ],
      "text/plain": [
       "<IPython.core.display.Javascript object>"
      ]
     },
     "metadata": {},
     "output_type": "display_data"
    }
   ],
   "source": [
    "IN_FILE = Path(utils.DATA_DIR / \"interim\" / \"delta_rf\") / f\"{ID}_delta-erf_082.csv\""
   ]
  },
  {
   "cell_type": "code",
   "execution_count": 5,
   "id": "c78d834d",
   "metadata": {},
   "outputs": [
    {
     "data": {
      "text/plain": [
       "<ScmRun (timeseries: 352800, timepoints: 751)>\n",
       "Time:\n",
       "\tStart: 1750-01-01T00:00:00\n",
       "\tEnd: 2500-01-01T00:00:00\n",
       "Meta:\n",
       "\t        2100_warming  SRM_years      TCRE  \\\n",
       "\t0           2.489039        369       NaN   \n",
       "\t1           2.489039        369       NaN   \n",
       "\t2           2.489039        369  1.950013   \n",
       "\t3           2.147834        210       NaN   \n",
       "\t4           2.147834        210       NaN   \n",
       "\t...              ...        ...       ...   \n",
       "\t352795      1.990864        136       NaN   \n",
       "\t352796      1.990864        136  1.771202   \n",
       "\t352797      3.277802        346       NaN   \n",
       "\t352798      3.277802        346       NaN   \n",
       "\t352799      3.277802        346  1.771202   \n",
       "\t\n",
       "\t        average_cdr_between_peak_and_15_temp climate_model  ensemble_member  \\\n",
       "\t0                               10497.094173  MAGICCv7.5.3                0   \n",
       "\t1                               10497.094173  MAGICCv7.5.3                0   \n",
       "\t2                               10497.094173  MAGICCv7.5.3                0   \n",
       "\t3                               13558.896574  MAGICCv7.5.3                0   \n",
       "\t4                               13558.896574  MAGICCv7.5.3                0   \n",
       "\t...                                      ...           ...              ...   \n",
       "\t352795                          10260.139772  MAGICCv7.5.3              599   \n",
       "\t352796                          10260.139772  MAGICCv7.5.3              599   \n",
       "\t352797                          34001.830869  MAGICCv7.5.3              599   \n",
       "\t352798                          34001.830869  MAGICCv7.5.3              599   \n",
       "\t352799                          34001.830869  MAGICCv7.5.3              599   \n",
       "\t\n",
       "\t             max_CDR         model                                  ms  \\\n",
       "\t0      -10687.316805   AIM/CGE 2.1  AIM/CGE 2.1CD-LINKS_INDC2030i_1600   \n",
       "\t1      -10687.316805   AIM/CGE 2.1  AIM/CGE 2.1CD-LINKS_INDC2030i_1600   \n",
       "\t2      -10687.316805   AIM/CGE 2.1  AIM/CGE 2.1CD-LINKS_INDC2030i_1600   \n",
       "\t3      -28033.083458   AIM/CGE 2.1   AIM/CGE 2.1CD-LINKS_NDC2030i_1000   \n",
       "\t4      -28033.083458   AIM/CGE 2.1   AIM/CGE 2.1CD-LINKS_NDC2030i_1000   \n",
       "\t...              ...           ...                                 ...   \n",
       "\t352795 -14038.294708  POLES ENGAGE       POLES ENGAGEEN_INDCi2030_900f   \n",
       "\t352796 -14038.294708  POLES ENGAGE       POLES ENGAGEEN_INDCi2030_900f   \n",
       "\t352797 -37070.189166  POLES ENGAGE            POLES ENGAGEEN_INDCi2100   \n",
       "\t352798 -37070.189166  POLES ENGAGE            POLES ENGAGEEN_INDCi2100   \n",
       "\t352799 -37070.189166  POLES ENGAGE            POLES ENGAGEEN_INDCi2100   \n",
       "\t\n",
       "\t        net_CDR_at_15_temp  peak_warming region   run_id  \\\n",
       "\t0            -3.115397e+06      2.597113  World      0.0   \n",
       "\t1            -3.115397e+06      2.597113  World      0.0   \n",
       "\t2            -3.115397e+06      2.597113  World      NaN   \n",
       "\t3            -1.961603e+06      2.159732  World    600.0   \n",
       "\t4            -1.961603e+06      2.159732  World    600.0   \n",
       "\t...                    ...           ...    ...      ...   \n",
       "\t352795       -1.190176e+06      2.043385  World  22799.0   \n",
       "\t352796       -1.190176e+06      2.043385  World      NaN   \n",
       "\t352797       -7.014272e+06      4.338316  World  27599.0   \n",
       "\t352798       -7.014272e+06      4.338316  World  27599.0   \n",
       "\t352799       -7.014272e+06      4.338316  World      NaN   \n",
       "\t\n",
       "\t                       scenario     total_CDR  total_emissions   unit  \\\n",
       "\t0       CD-LINKS_INDC2030i_1600 -4.193686e+06     1.240344e+06      K   \n",
       "\t1       CD-LINKS_INDC2030i_1600 -4.193686e+06     1.240344e+06  W/m^2   \n",
       "\t2       CD-LINKS_INDC2030i_1600 -4.193686e+06     1.240344e+06  W/m^2   \n",
       "\t3        CD-LINKS_NDC2030i_1000 -9.172914e+06     5.841790e+05      K   \n",
       "\t4        CD-LINKS_NDC2030i_1000 -9.172914e+06     5.841790e+05  W/m^2   \n",
       "\t...                         ...           ...              ...    ...   \n",
       "\t352795        EN_INDCi2030_900f -5.641854e+06     6.374625e+05  W/m^2   \n",
       "\t352796        EN_INDCi2030_900f -5.641854e+06     6.374625e+05  W/m^2   \n",
       "\t352797             EN_INDCi2100 -1.070698e+07     4.985693e+06      K   \n",
       "\t352798             EN_INDCi2100 -1.070698e+07     4.985693e+06  W/m^2   \n",
       "\t352799             EN_INDCi2100 -1.070698e+07     4.985693e+06  W/m^2   \n",
       "\t\n",
       "\t                              variable  year_return_back_below_15_temp  \n",
       "\t0       Surface Air Temperature Change                          2429.0  \n",
       "\t1          Effective Radiative Forcing                          2429.0  \n",
       "\t2                             delta_rf                          2429.0  \n",
       "\t3       Surface Air Temperature Change                          2247.0  \n",
       "\t4          Effective Radiative Forcing                          2247.0  \n",
       "\t...                                ...                             ...  \n",
       "\t352795     Effective Radiative Forcing                          2183.0  \n",
       "\t352796                        delta_rf                          2183.0  \n",
       "\t352797  Surface Air Temperature Change                          2410.0  \n",
       "\t352798     Effective Radiative Forcing                          2410.0  \n",
       "\t352799                        delta_rf                          2410.0  \n",
       "\t\n",
       "\t[352800 rows x 19 columns]"
      ]
     },
     "execution_count": 5,
     "metadata": {},
     "output_type": "execute_result"
    },
    {
     "data": {
      "application/javascript": [
       "\n",
       "            setTimeout(function() {\n",
       "                var nbb_cell_id = 5;\n",
       "                var nbb_unformatted_code = \"all_in = scmdata.ScmRun(str(IN_FILE))\\nall_in\";\n",
       "                var nbb_formatted_code = \"all_in = scmdata.ScmRun(str(IN_FILE))\\nall_in\";\n",
       "                var nbb_cells = Jupyter.notebook.get_cells();\n",
       "                for (var i = 0; i < nbb_cells.length; ++i) {\n",
       "                    if (nbb_cells[i].input_prompt_number == nbb_cell_id) {\n",
       "                        if (nbb_cells[i].get_text() == nbb_unformatted_code) {\n",
       "                             nbb_cells[i].set_text(nbb_formatted_code);\n",
       "                        }\n",
       "                        break;\n",
       "                    }\n",
       "                }\n",
       "            }, 500);\n",
       "            "
      ],
      "text/plain": [
       "<IPython.core.display.Javascript object>"
      ]
     },
     "metadata": {},
     "output_type": "display_data"
    }
   ],
   "source": [
    "all_in = scmdata.ScmRun(str(IN_FILE))\n",
    "all_in"
   ]
  },
  {
   "cell_type": "markdown",
   "id": "b87615d9",
   "metadata": {},
   "source": [
    "## Config"
   ]
  },
  {
   "cell_type": "code",
   "execution_count": 6,
   "id": "3a693aa6",
   "metadata": {},
   "outputs": [
    {
     "data": {
      "text/plain": [
       "PosixPath('/data2/ubuntu-znicholls/baur-et-al-srm-commitment/data/interim/ar6-wg3-extended/wg3-timeseries-extended_small_selection.csv')"
      ]
     },
     "execution_count": 6,
     "metadata": {},
     "output_type": "execute_result"
    },
    {
     "data": {
      "application/javascript": [
       "\n",
       "            setTimeout(function() {\n",
       "                var nbb_cell_id = 6;\n",
       "                var nbb_unformatted_code = \"SCENARIO_INPUT_FILE = Path(\\n    utils.DATA_DIR / f\\\"interim/ar6-wg3-extended/wg3-timeseries-extended_{ID}.csv\\\"\\n)\\nSCENARIO_INPUT_FILE\";\n",
       "                var nbb_formatted_code = \"SCENARIO_INPUT_FILE = Path(\\n    utils.DATA_DIR / f\\\"interim/ar6-wg3-extended/wg3-timeseries-extended_{ID}.csv\\\"\\n)\\nSCENARIO_INPUT_FILE\";\n",
       "                var nbb_cells = Jupyter.notebook.get_cells();\n",
       "                for (var i = 0; i < nbb_cells.length; ++i) {\n",
       "                    if (nbb_cells[i].input_prompt_number == nbb_cell_id) {\n",
       "                        if (nbb_cells[i].get_text() == nbb_unformatted_code) {\n",
       "                             nbb_cells[i].set_text(nbb_formatted_code);\n",
       "                        }\n",
       "                        break;\n",
       "                    }\n",
       "                }\n",
       "            }, 500);\n",
       "            "
      ],
      "text/plain": [
       "<IPython.core.display.Javascript object>"
      ]
     },
     "metadata": {},
     "output_type": "display_data"
    }
   ],
   "source": [
    "SCENARIO_INPUT_FILE = Path(\n",
    "    utils.DATA_DIR / f\"interim/ar6-wg3-extended/wg3-timeseries-extended_{ID}.csv\"\n",
    ")\n",
    "SCENARIO_INPUT_FILE"
   ]
  },
  {
   "cell_type": "markdown",
   "id": "841699ee",
   "metadata": {},
   "source": [
    "## Setup"
   ]
  },
  {
   "cell_type": "code",
   "execution_count": 7,
   "id": "1ac2fd14",
   "metadata": {},
   "outputs": [
    {
     "data": {
      "text/plain": [
       "True"
      ]
     },
     "execution_count": 7,
     "metadata": {},
     "output_type": "execute_result"
    },
    {
     "data": {
      "application/javascript": [
       "\n",
       "            setTimeout(function() {\n",
       "                var nbb_cell_id = 7;\n",
       "                var nbb_unformatted_code = \"dotenv.load_dotenv()\";\n",
       "                var nbb_formatted_code = \"dotenv.load_dotenv()\";\n",
       "                var nbb_cells = Jupyter.notebook.get_cells();\n",
       "                for (var i = 0; i < nbb_cells.length; ++i) {\n",
       "                    if (nbb_cells[i].input_prompt_number == nbb_cell_id) {\n",
       "                        if (nbb_cells[i].get_text() == nbb_unformatted_code) {\n",
       "                             nbb_cells[i].set_text(nbb_formatted_code);\n",
       "                        }\n",
       "                        break;\n",
       "                    }\n",
       "                }\n",
       "            }, 500);\n",
       "            "
      ],
      "text/plain": [
       "<IPython.core.display.Javascript object>"
      ]
     },
     "metadata": {},
     "output_type": "display_data"
    }
   ],
   "source": [
    "dotenv.load_dotenv()"
   ]
  },
  {
   "cell_type": "code",
   "execution_count": 8,
   "id": "790d9052",
   "metadata": {},
   "outputs": [
    {
     "data": {
      "text/plain": [
       "'v7.5.3'"
      ]
     },
     "execution_count": 8,
     "metadata": {},
     "output_type": "execute_result"
    },
    {
     "data": {
      "application/javascript": [
       "\n",
       "            setTimeout(function() {\n",
       "                var nbb_cell_id = 8;\n",
       "                var nbb_unformatted_code = \"openscm_runner.adapters.MAGICC7.get_version()\";\n",
       "                var nbb_formatted_code = \"openscm_runner.adapters.MAGICC7.get_version()\";\n",
       "                var nbb_cells = Jupyter.notebook.get_cells();\n",
       "                for (var i = 0; i < nbb_cells.length; ++i) {\n",
       "                    if (nbb_cells[i].input_prompt_number == nbb_cell_id) {\n",
       "                        if (nbb_cells[i].get_text() == nbb_unformatted_code) {\n",
       "                             nbb_cells[i].set_text(nbb_formatted_code);\n",
       "                        }\n",
       "                        break;\n",
       "                    }\n",
       "                }\n",
       "            }, 500);\n",
       "            "
      ],
      "text/plain": [
       "<IPython.core.display.Javascript object>"
      ]
     },
     "metadata": {},
     "output_type": "display_data"
    }
   ],
   "source": [
    "openscm_runner.adapters.MAGICC7.get_version()"
   ]
  },
  {
   "cell_type": "markdown",
   "id": "65fbd0be",
   "metadata": {},
   "source": [
    "### Load probabilistic distribution"
   ]
  },
  {
   "cell_type": "code",
   "execution_count": 9,
   "id": "d6e276d3",
   "metadata": {},
   "outputs": [
    {
     "data": {
      "text/plain": [
       "'IPCC AR6 config drawn on 9th Feb 2021. Sub-sample set 0fd0f62 from derived metrics set f023edb. Drawn in 532_plot_and_save_subsampled_distribution.ipynb.'"
      ]
     },
     "metadata": {},
     "output_type": "display_data"
    },
    {
     "data": {
      "text/plain": [
       "1"
      ]
     },
     "execution_count": 9,
     "metadata": {},
     "output_type": "execute_result"
    },
    {
     "data": {
      "application/javascript": [
       "\n",
       "            setTimeout(function() {\n",
       "                var nbb_cell_id = 9;\n",
       "                var nbb_unformatted_code = \"with open(os.environ[\\\"MAGICC_AR6_PROBABILISTIC_DISTRIBUTION\\\"]) as f:\\n    prob_dist = json.load(f)\\n\\ndisplay(prob_dist[\\\"description\\\"])\\ncfgs_to_run = [\\n    {\\n        **{k.lower(): v for k, v in cfg[\\\"nml_allcfgs\\\"].items()},\\n        \\\"runname\\\": str(cfg[\\\"paraset_id\\\"]),\\n    }\\n    for cfg in prob_dist[\\\"configurations\\\"]\\n    if cfg[\\\"paraset_id\\\"] in [MEMBER_TO_RUN]\\n]\\nassert len(cfgs_to_run) == 1, \\\"Missing expected members...\\\"\\nlen(cfgs_to_run)\";\n",
       "                var nbb_formatted_code = \"with open(os.environ[\\\"MAGICC_AR6_PROBABILISTIC_DISTRIBUTION\\\"]) as f:\\n    prob_dist = json.load(f)\\n\\ndisplay(prob_dist[\\\"description\\\"])\\ncfgs_to_run = [\\n    {\\n        **{k.lower(): v for k, v in cfg[\\\"nml_allcfgs\\\"].items()},\\n        \\\"runname\\\": str(cfg[\\\"paraset_id\\\"]),\\n    }\\n    for cfg in prob_dist[\\\"configurations\\\"]\\n    if cfg[\\\"paraset_id\\\"] in [MEMBER_TO_RUN]\\n]\\nassert len(cfgs_to_run) == 1, \\\"Missing expected members...\\\"\\nlen(cfgs_to_run)\";\n",
       "                var nbb_cells = Jupyter.notebook.get_cells();\n",
       "                for (var i = 0; i < nbb_cells.length; ++i) {\n",
       "                    if (nbb_cells[i].input_prompt_number == nbb_cell_id) {\n",
       "                        if (nbb_cells[i].get_text() == nbb_unformatted_code) {\n",
       "                             nbb_cells[i].set_text(nbb_formatted_code);\n",
       "                        }\n",
       "                        break;\n",
       "                    }\n",
       "                }\n",
       "            }, 500);\n",
       "            "
      ],
      "text/plain": [
       "<IPython.core.display.Javascript object>"
      ]
     },
     "metadata": {},
     "output_type": "display_data"
    }
   ],
   "source": [
    "with open(os.environ[\"MAGICC_AR6_PROBABILISTIC_DISTRIBUTION\"]) as f:\n",
    "    prob_dist = json.load(f)\n",
    "\n",
    "display(prob_dist[\"description\"])\n",
    "cfgs_to_run = [\n",
    "    {\n",
    "        **{k.lower(): v for k, v in cfg[\"nml_allcfgs\"].items()},\n",
    "        \"runname\": str(cfg[\"paraset_id\"]),\n",
    "    }\n",
    "    for cfg in prob_dist[\"configurations\"]\n",
    "    if cfg[\"paraset_id\"] in [MEMBER_TO_RUN]\n",
    "]\n",
    "assert len(cfgs_to_run) == 1, \"Missing expected members...\"\n",
    "len(cfgs_to_run)"
   ]
  },
  {
   "cell_type": "markdown",
   "id": "345abc01",
   "metadata": {},
   "source": [
    "## Common configs\n",
    "\n",
    "Configuration to apply to all runs (should match original run setup...)"
   ]
  },
  {
   "cell_type": "code",
   "execution_count": 10,
   "id": "394de264",
   "metadata": {},
   "outputs": [
    {
     "data": {
      "text/plain": [
       "{'startyear': 1750,\n",
       " 'endyear': 2500,\n",
       " 'out_dynamic_vars': ['DAT_SURFACE_TEMP'],\n",
       " 'out_ascii_binary': 'BINARY',\n",
       " 'out_binary_format': 2}"
      ]
     },
     "execution_count": 10,
     "metadata": {},
     "output_type": "execute_result"
    },
    {
     "data": {
      "application/javascript": [
       "\n",
       "            setTimeout(function() {\n",
       "                var nbb_cell_id = 10;\n",
       "                var nbb_unformatted_code = \"common_cfgs = {\\n    \\\"startyear\\\": 1750,\\n    \\\"endyear\\\": 2500,\\n    \\\"out_dynamic_vars\\\": [  ### determines which variables are outputted (could also set in MAGCFG_DEFAUKTAKK.CFG OUT-TEMPERATURE=1 instead)\\n        \\\"DAT_SURFACE_TEMP\\\",\\n        #         \\\"DAT_TOTAL_INCLVOLCANIC_ERF\\\",\\n    ],\\n    \\\"out_ascii_binary\\\": \\\"BINARY\\\",\\n    \\\"out_binary_format\\\": 2,\\n}\\ncommon_cfgs\";\n",
       "                var nbb_formatted_code = \"common_cfgs = {\\n    \\\"startyear\\\": 1750,\\n    \\\"endyear\\\": 2500,\\n    \\\"out_dynamic_vars\\\": [  ### determines which variables are outputted (could also set in MAGCFG_DEFAUKTAKK.CFG OUT-TEMPERATURE=1 instead)\\n        \\\"DAT_SURFACE_TEMP\\\",\\n        #         \\\"DAT_TOTAL_INCLVOLCANIC_ERF\\\",\\n    ],\\n    \\\"out_ascii_binary\\\": \\\"BINARY\\\",\\n    \\\"out_binary_format\\\": 2,\\n}\\ncommon_cfgs\";\n",
       "                var nbb_cells = Jupyter.notebook.get_cells();\n",
       "                for (var i = 0; i < nbb_cells.length; ++i) {\n",
       "                    if (nbb_cells[i].input_prompt_number == nbb_cell_id) {\n",
       "                        if (nbb_cells[i].get_text() == nbb_unformatted_code) {\n",
       "                             nbb_cells[i].set_text(nbb_formatted_code);\n",
       "                        }\n",
       "                        break;\n",
       "                    }\n",
       "                }\n",
       "            }, 500);\n",
       "            "
      ],
      "text/plain": [
       "<IPython.core.display.Javascript object>"
      ]
     },
     "metadata": {},
     "output_type": "display_data"
    }
   ],
   "source": [
    "common_cfgs = {\n",
    "    \"startyear\": 1750,\n",
    "    \"endyear\": 2500,\n",
    "    \"out_dynamic_vars\": [  ### determines which variables are outputted (could also set in MAGCFG_DEFAUKTAKK.CFG OUT-TEMPERATURE=1 instead)\n",
    "        \"DAT_SURFACE_TEMP\",\n",
    "        #         \"DAT_TOTAL_INCLVOLCANIC_ERF\",\n",
    "    ],\n",
    "    \"out_ascii_binary\": \"BINARY\",\n",
    "    \"out_binary_format\": 2,\n",
    "}\n",
    "common_cfgs"
   ]
  },
  {
   "cell_type": "code",
   "execution_count": 11,
   "id": "198ee64a",
   "metadata": {},
   "outputs": [
    {
     "data": {
      "application/javascript": [
       "\n",
       "            setTimeout(function() {\n",
       "                var nbb_cell_id = 11;\n",
       "                var nbb_unformatted_code = \"overrides = {\\n    \\\"RF_SOLAR_SCALE\\\".lower(): 0,\\n}\";\n",
       "                var nbb_formatted_code = \"overrides = {\\n    \\\"RF_SOLAR_SCALE\\\".lower(): 0,\\n}\";\n",
       "                var nbb_cells = Jupyter.notebook.get_cells();\n",
       "                for (var i = 0; i < nbb_cells.length; ++i) {\n",
       "                    if (nbb_cells[i].input_prompt_number == nbb_cell_id) {\n",
       "                        if (nbb_cells[i].get_text() == nbb_unformatted_code) {\n",
       "                             nbb_cells[i].set_text(nbb_formatted_code);\n",
       "                        }\n",
       "                        break;\n",
       "                    }\n",
       "                }\n",
       "            }, 500);\n",
       "            "
      ],
      "text/plain": [
       "<IPython.core.display.Javascript object>"
      ]
     },
     "metadata": {},
     "output_type": "display_data"
    }
   ],
   "source": [
    "overrides = {\n",
    "    \"RF_SOLAR_SCALE\".lower(): 0,\n",
    "}"
   ]
  },
  {
   "cell_type": "code",
   "execution_count": 12,
   "id": "bb867b0a",
   "metadata": {},
   "outputs": [
    {
     "data": {
      "text/plain": [
       "['Surface Temperature']"
      ]
     },
     "execution_count": 12,
     "metadata": {},
     "output_type": "execute_result"
    },
    {
     "data": {
      "application/javascript": [
       "\n",
       "            setTimeout(function() {\n",
       "                var nbb_cell_id = 12;\n",
       "                var nbb_unformatted_code = \"# might want more in here\\nopenscm_runner_output_names = [\\n    \\\"Surface Temperature\\\",\\n]\\nopenscm_runner_output_names\";\n",
       "                var nbb_formatted_code = \"# might want more in here\\nopenscm_runner_output_names = [\\n    \\\"Surface Temperature\\\",\\n]\\nopenscm_runner_output_names\";\n",
       "                var nbb_cells = Jupyter.notebook.get_cells();\n",
       "                for (var i = 0; i < nbb_cells.length; ++i) {\n",
       "                    if (nbb_cells[i].input_prompt_number == nbb_cell_id) {\n",
       "                        if (nbb_cells[i].get_text() == nbb_unformatted_code) {\n",
       "                             nbb_cells[i].set_text(nbb_formatted_code);\n",
       "                        }\n",
       "                        break;\n",
       "                    }\n",
       "                }\n",
       "            }, 500);\n",
       "            "
      ],
      "text/plain": [
       "<IPython.core.display.Javascript object>"
      ]
     },
     "metadata": {},
     "output_type": "display_data"
    }
   ],
   "source": [
    "# might want more in here\n",
    "openscm_runner_output_names = [\n",
    "    \"Surface Temperature\",\n",
    "]\n",
    "openscm_runner_output_names"
   ]
  },
  {
   "cell_type": "markdown",
   "id": "00de217f",
   "metadata": {},
   "source": [
    "### Load scenarios"
   ]
  },
  {
   "cell_type": "code",
   "execution_count": 13,
   "id": "bca3c491",
   "metadata": {},
   "outputs": [
    {
     "data": {
      "application/javascript": [
       "\n",
       "            setTimeout(function() {\n",
       "                var nbb_cell_id = 13;\n",
       "                var nbb_unformatted_code = \"scenarios = scmdata.ScmRun(str(SCENARIO_INPUT_FILE))\";\n",
       "                var nbb_formatted_code = \"scenarios = scmdata.ScmRun(str(SCENARIO_INPUT_FILE))\";\n",
       "                var nbb_cells = Jupyter.notebook.get_cells();\n",
       "                for (var i = 0; i < nbb_cells.length; ++i) {\n",
       "                    if (nbb_cells[i].input_prompt_number == nbb_cell_id) {\n",
       "                        if (nbb_cells[i].get_text() == nbb_unformatted_code) {\n",
       "                             nbb_cells[i].set_text(nbb_formatted_code);\n",
       "                        }\n",
       "                        break;\n",
       "                    }\n",
       "                }\n",
       "            }, 500);\n",
       "            "
      ],
      "text/plain": [
       "<IPython.core.display.Javascript object>"
      ]
     },
     "metadata": {},
     "output_type": "display_data"
    }
   ],
   "source": [
    "scenarios = scmdata.ScmRun(str(SCENARIO_INPUT_FILE))"
   ]
  },
  {
   "cell_type": "code",
   "execution_count": 14,
   "id": "8f37d26d",
   "metadata": {},
   "outputs": [
    {
     "data": {
      "text/plain": [
       "<ScmRun (timeseries: 52, timepoints: 486)>\n",
       "Time:\n",
       "\tStart: 2015-01-01T00:00:00\n",
       "\tEnd: 2500-01-01T00:00:00\n",
       "Meta:\n",
       "\t         max_CDR       model                           ms region  \\\n",
       "\t0  -27741.617085  COFFEE 1.1  COFFEE 1.1EN_INDCi2030_500f  World   \n",
       "\t1  -27741.617085  COFFEE 1.1  COFFEE 1.1EN_INDCi2030_500f  World   \n",
       "\t2  -27741.617085  COFFEE 1.1  COFFEE 1.1EN_INDCi2030_500f  World   \n",
       "\t3  -27741.617085  COFFEE 1.1  COFFEE 1.1EN_INDCi2030_500f  World   \n",
       "\t4  -27741.617085  COFFEE 1.1  COFFEE 1.1EN_INDCi2030_500f  World   \n",
       "\t5  -27741.617085  COFFEE 1.1  COFFEE 1.1EN_INDCi2030_500f  World   \n",
       "\t6  -27741.617085  COFFEE 1.1  COFFEE 1.1EN_INDCi2030_500f  World   \n",
       "\t7  -27741.617085  COFFEE 1.1  COFFEE 1.1EN_INDCi2030_500f  World   \n",
       "\t8  -27741.617085  COFFEE 1.1  COFFEE 1.1EN_INDCi2030_500f  World   \n",
       "\t9  -27741.617085  COFFEE 1.1  COFFEE 1.1EN_INDCi2030_500f  World   \n",
       "\t10 -27741.617085  COFFEE 1.1  COFFEE 1.1EN_INDCi2030_500f  World   \n",
       "\t11 -27741.617085  COFFEE 1.1  COFFEE 1.1EN_INDCi2030_500f  World   \n",
       "\t12 -27741.617085  COFFEE 1.1  COFFEE 1.1EN_INDCi2030_500f  World   \n",
       "\t13 -27741.617085  COFFEE 1.1  COFFEE 1.1EN_INDCi2030_500f  World   \n",
       "\t14 -27741.617085  COFFEE 1.1  COFFEE 1.1EN_INDCi2030_500f  World   \n",
       "\t15 -27741.617085  COFFEE 1.1  COFFEE 1.1EN_INDCi2030_500f  World   \n",
       "\t16 -27741.617085  COFFEE 1.1  COFFEE 1.1EN_INDCi2030_500f  World   \n",
       "\t17 -27741.617085  COFFEE 1.1  COFFEE 1.1EN_INDCi2030_500f  World   \n",
       "\t18 -27741.617085  COFFEE 1.1  COFFEE 1.1EN_INDCi2030_500f  World   \n",
       "\t19 -27741.617085  COFFEE 1.1  COFFEE 1.1EN_INDCi2030_500f  World   \n",
       "\t20 -27741.617085  COFFEE 1.1  COFFEE 1.1EN_INDCi2030_500f  World   \n",
       "\t21 -27741.617085  COFFEE 1.1  COFFEE 1.1EN_INDCi2030_500f  World   \n",
       "\t22 -27741.617085  COFFEE 1.1  COFFEE 1.1EN_INDCi2030_500f  World   \n",
       "\t23 -27741.617085  COFFEE 1.1  COFFEE 1.1EN_INDCi2030_500f  World   \n",
       "\t24 -27741.617085  COFFEE 1.1  COFFEE 1.1EN_INDCi2030_500f  World   \n",
       "\t25 -27741.617085  COFFEE 1.1  COFFEE 1.1EN_INDCi2030_500f  World   \n",
       "\t26 -27741.617085  COFFEE 1.1  COFFEE 1.1EN_INDCi2030_500f  World   \n",
       "\t27 -27741.617085  COFFEE 1.1  COFFEE 1.1EN_INDCi2030_500f  World   \n",
       "\t28 -27741.617085  COFFEE 1.1  COFFEE 1.1EN_INDCi2030_500f  World   \n",
       "\t29 -27741.617085  COFFEE 1.1  COFFEE 1.1EN_INDCi2030_500f  World   \n",
       "\t30 -27741.617085  COFFEE 1.1  COFFEE 1.1EN_INDCi2030_500f  World   \n",
       "\t31 -27741.617085  COFFEE 1.1  COFFEE 1.1EN_INDCi2030_500f  World   \n",
       "\t32 -27741.617085  COFFEE 1.1  COFFEE 1.1EN_INDCi2030_500f  World   \n",
       "\t33 -27741.617085  COFFEE 1.1  COFFEE 1.1EN_INDCi2030_500f  World   \n",
       "\t34 -27741.617085  COFFEE 1.1  COFFEE 1.1EN_INDCi2030_500f  World   \n",
       "\t35 -27741.617085  COFFEE 1.1  COFFEE 1.1EN_INDCi2030_500f  World   \n",
       "\t36 -27741.617085  COFFEE 1.1  COFFEE 1.1EN_INDCi2030_500f  World   \n",
       "\t37 -27741.617085  COFFEE 1.1  COFFEE 1.1EN_INDCi2030_500f  World   \n",
       "\t38 -27741.617085  COFFEE 1.1  COFFEE 1.1EN_INDCi2030_500f  World   \n",
       "\t39 -27741.617085  COFFEE 1.1  COFFEE 1.1EN_INDCi2030_500f  World   \n",
       "\t40 -27741.617085  COFFEE 1.1  COFFEE 1.1EN_INDCi2030_500f  World   \n",
       "\t41 -27741.617085  COFFEE 1.1  COFFEE 1.1EN_INDCi2030_500f  World   \n",
       "\t42 -27741.617085  COFFEE 1.1  COFFEE 1.1EN_INDCi2030_500f  World   \n",
       "\t43 -27741.617085  COFFEE 1.1  COFFEE 1.1EN_INDCi2030_500f  World   \n",
       "\t44 -27741.617085  COFFEE 1.1  COFFEE 1.1EN_INDCi2030_500f  World   \n",
       "\t45 -27741.617085  COFFEE 1.1  COFFEE 1.1EN_INDCi2030_500f  World   \n",
       "\t46 -27741.617085  COFFEE 1.1  COFFEE 1.1EN_INDCi2030_500f  World   \n",
       "\t47 -27741.617085  COFFEE 1.1  COFFEE 1.1EN_INDCi2030_500f  World   \n",
       "\t48 -27741.617085  COFFEE 1.1  COFFEE 1.1EN_INDCi2030_500f  World   \n",
       "\t49 -27741.617085  COFFEE 1.1  COFFEE 1.1EN_INDCi2030_500f  World   \n",
       "\t50 -27741.617085  COFFEE 1.1  COFFEE 1.1EN_INDCi2030_500f  World   \n",
       "\t51 -27741.617085  COFFEE 1.1  COFFEE 1.1EN_INDCi2030_500f  World   \n",
       "\t\n",
       "\t             scenario     total_CDR  total_emissions              unit  \\\n",
       "\t0   EN_INDCi2030_500f -1.184003e+07     906546.94679          Mt BC/yr   \n",
       "\t1   EN_INDCi2030_500f -1.184003e+07     906546.94679        kt CCl4/yr   \n",
       "\t2   EN_INDCi2030_500f -1.184003e+07     906546.94679       kt CFC11/yr   \n",
       "\t3   EN_INDCi2030_500f -1.184003e+07     906546.94679      kt CFC113/yr   \n",
       "\t4   EN_INDCi2030_500f -1.184003e+07     906546.94679      kt CFC114/yr   \n",
       "\t5   EN_INDCi2030_500f -1.184003e+07     906546.94679      kt CFC115/yr   \n",
       "\t6   EN_INDCi2030_500f -1.184003e+07     906546.94679       kt CFC12/yr   \n",
       "\t7   EN_INDCi2030_500f -1.184003e+07     906546.94679      kt CH2Cl2/yr   \n",
       "\t8   EN_INDCi2030_500f -1.184003e+07     906546.94679       kt CH3Br/yr   \n",
       "\t9   EN_INDCi2030_500f -1.184003e+07     906546.94679     kt CH3CCl3/yr   \n",
       "\t10  EN_INDCi2030_500f -1.184003e+07     906546.94679       kt CH3Cl/yr   \n",
       "\t11  EN_INDCi2030_500f -1.184003e+07     906546.94679         Mt CH4/yr   \n",
       "\t12  EN_INDCi2030_500f -1.184003e+07     906546.94679       kt CHCl3/yr   \n",
       "\t13  EN_INDCi2030_500f -1.184003e+07     906546.94679          Mt CO/yr   \n",
       "\t14  EN_INDCi2030_500f -1.184003e+07     906546.94679         Mt CO2/yr   \n",
       "\t15  EN_INDCi2030_500f -1.184003e+07     906546.94679         Mt CO2/yr   \n",
       "\t16  EN_INDCi2030_500f -1.184003e+07     906546.94679    kt HCFC141b/yr   \n",
       "\t17  EN_INDCi2030_500f -1.184003e+07     906546.94679    kt HCFC142b/yr   \n",
       "\t18  EN_INDCi2030_500f -1.184003e+07     906546.94679      kt HCFC22/yr   \n",
       "\t19  EN_INDCi2030_500f -1.184003e+07     906546.94679      kt HFC125/yr   \n",
       "\t20  EN_INDCi2030_500f -1.184003e+07     906546.94679     kt HFC134a/yr   \n",
       "\t21  EN_INDCi2030_500f -1.184003e+07     906546.94679     kt HFC143a/yr   \n",
       "\t22  EN_INDCi2030_500f -1.184003e+07     906546.94679     kt HFC152a/yr   \n",
       "\t23  EN_INDCi2030_500f -1.184003e+07     906546.94679    kt HFC227ea/yr   \n",
       "\t24  EN_INDCi2030_500f -1.184003e+07     906546.94679       kt HFC23/yr   \n",
       "\t25  EN_INDCi2030_500f -1.184003e+07     906546.94679    kt HFC236fa/yr   \n",
       "\t26  EN_INDCi2030_500f -1.184003e+07     906546.94679    kt HFC245fa/yr   \n",
       "\t27  EN_INDCi2030_500f -1.184003e+07     906546.94679       kt HFC32/yr   \n",
       "\t28  EN_INDCi2030_500f -1.184003e+07     906546.94679   kt HFC365mfc/yr   \n",
       "\t29  EN_INDCi2030_500f -1.184003e+07     906546.94679  kt HFC4310mee/yr   \n",
       "\t30  EN_INDCi2030_500f -1.184003e+07     906546.94679   kt Halon1202/yr   \n",
       "\t31  EN_INDCi2030_500f -1.184003e+07     906546.94679   kt Halon1211/yr   \n",
       "\t32  EN_INDCi2030_500f -1.184003e+07     906546.94679   kt Halon1301/yr   \n",
       "\t33  EN_INDCi2030_500f -1.184003e+07     906546.94679   kt Halon2402/yr   \n",
       "\t34  EN_INDCi2030_500f -1.184003e+07     906546.94679         kt N2O/yr   \n",
       "\t35  EN_INDCi2030_500f -1.184003e+07     906546.94679         kt NF3/yr   \n",
       "\t36  EN_INDCi2030_500f -1.184003e+07     906546.94679         Mt NH3/yr   \n",
       "\t37  EN_INDCi2030_500f -1.184003e+07     906546.94679         Mt NO2/yr   \n",
       "\t38  EN_INDCi2030_500f -1.184003e+07     906546.94679          Mt OC/yr   \n",
       "\t39  EN_INDCi2030_500f -1.184003e+07     906546.94679        kt C2F6/yr   \n",
       "\t40  EN_INDCi2030_500f -1.184003e+07     906546.94679        kt C3F8/yr   \n",
       "\t41  EN_INDCi2030_500f -1.184003e+07     906546.94679       kt C4F10/yr   \n",
       "\t42  EN_INDCi2030_500f -1.184003e+07     906546.94679       kt C5F12/yr   \n",
       "\t43  EN_INDCi2030_500f -1.184003e+07     906546.94679       kt C6F14/yr   \n",
       "\t44  EN_INDCi2030_500f -1.184003e+07     906546.94679       kt C7F16/yr   \n",
       "\t45  EN_INDCi2030_500f -1.184003e+07     906546.94679       kt C8F18/yr   \n",
       "\t46  EN_INDCi2030_500f -1.184003e+07     906546.94679         kt CF4/yr   \n",
       "\t47  EN_INDCi2030_500f -1.184003e+07     906546.94679       kt cC4F8/yr   \n",
       "\t48  EN_INDCi2030_500f -1.184003e+07     906546.94679         kt SF6/yr   \n",
       "\t49  EN_INDCi2030_500f -1.184003e+07     906546.94679       kt SO2F2/yr   \n",
       "\t50  EN_INDCi2030_500f -1.184003e+07     906546.94679         Mt SO2/yr   \n",
       "\t51  EN_INDCi2030_500f -1.184003e+07     906546.94679         Mt VOC/yr   \n",
       "\t\n",
       "\t                                      variable  \n",
       "\t0                                 Emissions|BC  \n",
       "\t1                               Emissions|CCl4  \n",
       "\t2                              Emissions|CFC11  \n",
       "\t3                             Emissions|CFC113  \n",
       "\t4                             Emissions|CFC114  \n",
       "\t5                             Emissions|CFC115  \n",
       "\t6                              Emissions|CFC12  \n",
       "\t7                             Emissions|CH2Cl2  \n",
       "\t8                              Emissions|CH3Br  \n",
       "\t9                            Emissions|CH3CCl3  \n",
       "\t10                             Emissions|CH3Cl  \n",
       "\t11                               Emissions|CH4  \n",
       "\t12                             Emissions|CHCl3  \n",
       "\t13                                Emissions|CO  \n",
       "\t14                  Emissions|CO2|MAGICC AFOLU  \n",
       "\t15  Emissions|CO2|MAGICC Fossil and Industrial  \n",
       "\t16                          Emissions|HCFC141b  \n",
       "\t17                          Emissions|HCFC142b  \n",
       "\t18                            Emissions|HCFC22  \n",
       "\t19                            Emissions|HFC125  \n",
       "\t20                           Emissions|HFC134a  \n",
       "\t21                           Emissions|HFC143a  \n",
       "\t22                           Emissions|HFC152a  \n",
       "\t23                          Emissions|HFC227ea  \n",
       "\t24                             Emissions|HFC23  \n",
       "\t25                          Emissions|HFC236fa  \n",
       "\t26                          Emissions|HFC245fa  \n",
       "\t27                             Emissions|HFC32  \n",
       "\t28                         Emissions|HFC365mfc  \n",
       "\t29                        Emissions|HFC4310mee  \n",
       "\t30                         Emissions|Halon1202  \n",
       "\t31                         Emissions|Halon1211  \n",
       "\t32                         Emissions|Halon1301  \n",
       "\t33                         Emissions|Halon2402  \n",
       "\t34                               Emissions|N2O  \n",
       "\t35                               Emissions|NF3  \n",
       "\t36                               Emissions|NH3  \n",
       "\t37                               Emissions|NOx  \n",
       "\t38                                Emissions|OC  \n",
       "\t39                              Emissions|C2F6  \n",
       "\t40                              Emissions|C3F8  \n",
       "\t41                             Emissions|C4F10  \n",
       "\t42                             Emissions|C5F12  \n",
       "\t43                             Emissions|C6F14  \n",
       "\t44                             Emissions|C7F16  \n",
       "\t45                             Emissions|C8F18  \n",
       "\t46                               Emissions|CF4  \n",
       "\t47                             Emissions|cC4F8  \n",
       "\t48                               Emissions|SF6  \n",
       "\t49                             Emissions|SO2F2  \n",
       "\t50                            Emissions|Sulfur  \n",
       "\t51                               Emissions|VOC  "
      ]
     },
     "execution_count": 14,
     "metadata": {},
     "output_type": "execute_result"
    },
    {
     "data": {
      "application/javascript": [
       "\n",
       "            setTimeout(function() {\n",
       "                var nbb_cell_id = 14;\n",
       "                var nbb_unformatted_code = \"scenarios_clean = utils.clean_scenarios(scenarios.filter(ms=SCENARIO_TO_RUN))\\nscenarios_clean\";\n",
       "                var nbb_formatted_code = \"scenarios_clean = utils.clean_scenarios(scenarios.filter(ms=SCENARIO_TO_RUN))\\nscenarios_clean\";\n",
       "                var nbb_cells = Jupyter.notebook.get_cells();\n",
       "                for (var i = 0; i < nbb_cells.length; ++i) {\n",
       "                    if (nbb_cells[i].input_prompt_number == nbb_cell_id) {\n",
       "                        if (nbb_cells[i].get_text() == nbb_unformatted_code) {\n",
       "                             nbb_cells[i].set_text(nbb_formatted_code);\n",
       "                        }\n",
       "                        break;\n",
       "                    }\n",
       "                }\n",
       "            }, 500);\n",
       "            "
      ],
      "text/plain": [
       "<IPython.core.display.Javascript object>"
      ]
     },
     "metadata": {},
     "output_type": "display_data"
    }
   ],
   "source": [
    "scenarios_clean = utils.clean_scenarios(scenarios.filter(ms=SCENARIO_TO_RUN))\n",
    "scenarios_clean"
   ]
  },
  {
   "cell_type": "markdown",
   "id": "866a4e12",
   "metadata": {},
   "source": [
    "## Write SRM file"
   ]
  },
  {
   "cell_type": "code",
   "execution_count": 15,
   "id": "f8f51efd",
   "metadata": {},
   "outputs": [
    {
     "data": {
      "text/plain": [
       "'/data2/ubuntu-znicholls/baur-et-al-srm-commitment/magicc-bits-and-pieces/magicc-v7.5.3/bin/../run/15_SRM-ERF_trajectories_check/0_COFFEE11EN_INDCi2030_500f_EXTRA_RF.IN'"
      ]
     },
     "execution_count": 15,
     "metadata": {},
     "output_type": "execute_result"
    },
    {
     "data": {
      "application/javascript": [
       "\n",
       "            setTimeout(function() {\n",
       "                var nbb_cell_id = 15;\n",
       "                var nbb_unformatted_code = \"extra_rf_file = os.path.join(\\n    os.path.dirname(os.environ[\\\"MAGICC_EXECUTABLE_7\\\"]),\\n    \\\"..\\\",\\n    \\\"run\\\",\\n    \\\"15_SRM-ERF_trajectories_check\\\",\\n    f\\\"{MEMBER_TO_RUN}_{SCENARIO_TO_RUN.replace(' ', '').replace('.', '')}_EXTRA_RF.IN\\\",\\n)\\nos.makedirs(os.path.dirname(extra_rf_file), exist_ok=True)\\nextra_rf_file\";\n",
       "                var nbb_formatted_code = \"extra_rf_file = os.path.join(\\n    os.path.dirname(os.environ[\\\"MAGICC_EXECUTABLE_7\\\"]),\\n    \\\"..\\\",\\n    \\\"run\\\",\\n    \\\"15_SRM-ERF_trajectories_check\\\",\\n    f\\\"{MEMBER_TO_RUN}_{SCENARIO_TO_RUN.replace(' ', '').replace('.', '')}_EXTRA_RF.IN\\\",\\n)\\nos.makedirs(os.path.dirname(extra_rf_file), exist_ok=True)\\nextra_rf_file\";\n",
       "                var nbb_cells = Jupyter.notebook.get_cells();\n",
       "                for (var i = 0; i < nbb_cells.length; ++i) {\n",
       "                    if (nbb_cells[i].input_prompt_number == nbb_cell_id) {\n",
       "                        if (nbb_cells[i].get_text() == nbb_unformatted_code) {\n",
       "                             nbb_cells[i].set_text(nbb_formatted_code);\n",
       "                        }\n",
       "                        break;\n",
       "                    }\n",
       "                }\n",
       "            }, 500);\n",
       "            "
      ],
      "text/plain": [
       "<IPython.core.display.Javascript object>"
      ]
     },
     "metadata": {},
     "output_type": "display_data"
    }
   ],
   "source": [
    "extra_rf_file = os.path.join(\n",
    "    os.path.dirname(os.environ[\"MAGICC_EXECUTABLE_7\"]),\n",
    "    \"..\",\n",
    "    \"run\",\n",
    "    \"15_SRM-ERF_trajectories_check\",\n",
    "    f\"{MEMBER_TO_RUN}_{SCENARIO_TO_RUN.replace(' ', '').replace('.', '')}_EXTRA_RF.IN\",\n",
    ")\n",
    "os.makedirs(os.path.dirname(extra_rf_file), exist_ok=True)\n",
    "extra_rf_file"
   ]
  },
  {
   "cell_type": "code",
   "execution_count": 16,
   "id": "5d2b23d6",
   "metadata": {},
   "outputs": [
    {
     "data": {
      "application/javascript": [
       "\n",
       "            setTimeout(function() {\n",
       "                var nbb_cell_id = 16;\n",
       "                var nbb_unformatted_code = \"def write_qextra_file(forcing, out_file):\\n    forcing = pymagicc.io.MAGICCData(forcing)\\n    forcing[\\\"variable\\\"] = \\\"Radiative Forcing|Extra\\\"\\n    forcing[\\\"todo\\\"] = \\\"SET\\\"\\n    forcing.metadata[\\\"header\\\"] = \\\"Prescribed forcing file\\\"\\n\\n    forcing.write(out_file, magicc_version=7)\";\n",
       "                var nbb_formatted_code = \"def write_qextra_file(forcing, out_file):\\n    forcing = pymagicc.io.MAGICCData(forcing)\\n    forcing[\\\"variable\\\"] = \\\"Radiative Forcing|Extra\\\"\\n    forcing[\\\"todo\\\"] = \\\"SET\\\"\\n    forcing.metadata[\\\"header\\\"] = \\\"Prescribed forcing file\\\"\\n\\n    forcing.write(out_file, magicc_version=7)\";\n",
       "                var nbb_cells = Jupyter.notebook.get_cells();\n",
       "                for (var i = 0; i < nbb_cells.length; ++i) {\n",
       "                    if (nbb_cells[i].input_prompt_number == nbb_cell_id) {\n",
       "                        if (nbb_cells[i].get_text() == nbb_unformatted_code) {\n",
       "                             nbb_cells[i].set_text(nbb_formatted_code);\n",
       "                        }\n",
       "                        break;\n",
       "                    }\n",
       "                }\n",
       "            }, 500);\n",
       "            "
      ],
      "text/plain": [
       "<IPython.core.display.Javascript object>"
      ]
     },
     "metadata": {},
     "output_type": "display_data"
    }
   ],
   "source": [
    "def write_qextra_file(forcing, out_file):\n",
    "    forcing = pymagicc.io.MAGICCData(forcing)\n",
    "    forcing[\"variable\"] = \"Radiative Forcing|Extra\"\n",
    "    forcing[\"todo\"] = \"SET\"\n",
    "    forcing.metadata[\"header\"] = \"Prescribed forcing file\"\n",
    "\n",
    "    forcing.write(out_file, magicc_version=7)\n"
   ]
  },
  {
   "cell_type": "code",
   "execution_count": 17,
   "id": "db82ca7b",
   "metadata": {},
   "outputs": [
    {
     "data": {
      "application/javascript": [
       "\n",
       "            setTimeout(function() {\n",
       "                var nbb_cell_id = 17;\n",
       "                var nbb_unformatted_code = \"write_qextra_file(\\n    all_in.filter(\\n        variable=\\\"delta_rf\\\", ms=SCENARIO_TO_RUN, ensemble_member=MEMBER_TO_RUN\\n    ).timeseries(time_axis=\\\"year\\\")\\n    * -1,\\n    extra_rf_file,\\n)\";\n",
       "                var nbb_formatted_code = \"write_qextra_file(\\n    all_in.filter(\\n        variable=\\\"delta_rf\\\", ms=SCENARIO_TO_RUN, ensemble_member=MEMBER_TO_RUN\\n    ).timeseries(time_axis=\\\"year\\\")\\n    * -1,\\n    extra_rf_file,\\n)\";\n",
       "                var nbb_cells = Jupyter.notebook.get_cells();\n",
       "                for (var i = 0; i < nbb_cells.length; ++i) {\n",
       "                    if (nbb_cells[i].input_prompt_number == nbb_cell_id) {\n",
       "                        if (nbb_cells[i].get_text() == nbb_unformatted_code) {\n",
       "                             nbb_cells[i].set_text(nbb_formatted_code);\n",
       "                        }\n",
       "                        break;\n",
       "                    }\n",
       "                }\n",
       "            }, 500);\n",
       "            "
      ],
      "text/plain": [
       "<IPython.core.display.Javascript object>"
      ]
     },
     "metadata": {},
     "output_type": "display_data"
    }
   ],
   "source": [
    "write_qextra_file(\n",
    "    all_in.filter(\n",
    "        variable=\"delta_rf\", ms=SCENARIO_TO_RUN, ensemble_member=MEMBER_TO_RUN\n",
    "    ).timeseries(time_axis=\"year\")\n",
    "    * -1,\n",
    "    extra_rf_file,\n",
    ")"
   ]
  },
  {
   "cell_type": "markdown",
   "id": "e1cacafa",
   "metadata": {},
   "source": [
    "## Run"
   ]
  },
  {
   "cell_type": "code",
   "execution_count": 18,
   "id": "0fd1a77d",
   "metadata": {},
   "outputs": [
    {
     "data": {
      "application/vnd.jupyter.widget-view+json": {
       "model_id": "a44af4ae98584587975a6282ffa4b8c1",
       "version_major": 2,
       "version_minor": 0
      },
      "text/plain": [
       "Climate models:   0%|          | 0.00/1.00 [00:00<?, ?it/s]"
      ]
     },
     "metadata": {},
     "output_type": "display_data"
    },
    {
     "name": "stderr",
     "output_type": "stream",
     "text": [
      "Historical data has not been checked\n",
      "/data/ubuntu-znicholls/miniconda3/envs/baur-et-al-srm-commitment/lib/python3.9/site-packages/openscm_units/_unit_registry.py:471: FutureWarning: iteritems is deprecated and will be removed in a future version. Use .items instead.\n",
      "  for label, val in metric_conversion.iteritems():\n"
     ]
    },
    {
     "data": {
      "application/vnd.jupyter.widget-view+json": {
       "model_id": "f081f8efd5c541d2845b2922f333df10",
       "version_major": 2,
       "version_minor": 0
      },
      "text/plain": [
       "Writing SCEN7 files:   0%|          | 0.00/1.00 [00:00<?, ?it/s]"
      ]
     },
     "metadata": {},
     "output_type": "display_data"
    },
    {
     "data": {
      "application/vnd.jupyter.widget-view+json": {
       "model_id": "4939a21ea96d47b5921f17d9875de2e7",
       "version_major": 2,
       "version_minor": 0
      },
      "text/plain": [
       "Front serial:   0%|          | 0.00/1.00 [00:00<?, ?it/s]"
      ]
     },
     "metadata": {},
     "output_type": "display_data"
    },
    {
     "data": {
      "application/vnd.jupyter.widget-view+json": {
       "model_id": "81b4967bed4a45b7b34ae77cfe24d4a9",
       "version_major": 2,
       "version_minor": 0
      },
      "text/plain": [
       "Front parallel: 0.00it [00:00, ?it/s]"
      ]
     },
     "metadata": {},
     "output_type": "display_data"
    },
    {
     "data": {
      "application/vnd.jupyter.widget-view+json": {
       "model_id": "85fac479070c4217a3898a15939dfa24",
       "version_major": 2,
       "version_minor": 0
      },
      "text/plain": [
       "Parallel runs: 0.00it [00:00, ?it/s]"
      ]
     },
     "metadata": {},
     "output_type": "display_data"
    },
    {
     "data": {
      "application/javascript": [
       "\n",
       "            setTimeout(function() {\n",
       "                var nbb_cell_id = 18;\n",
       "                var nbb_unformatted_code = \"## concat all configs together\\nrun_cfg = [\\n    {\\n        **common_cfgs,\\n        **c,\\n        **overrides,\\n        \\\"RF_EXTRA_READ\\\".lower(): 1,\\n        \\\"FILE_EXTRA_RF\\\": extra_rf_file,\\n    }\\n    for c in cfgs_to_run\\n]\\n\\nres_raw = openscm_runner.run(\\n    {\\\"MAGICC7\\\": run_cfg},\\n    scenarios_clean,\\n    output_variables=openscm_runner_output_names,\\n    out_config={\\\"MAGICC7\\\": (\\\"runname\\\",)},\\n)\\nres_raw[\\\"ensemble_member\\\"] = res_raw[\\\"runname\\\"]\\nres_raw = res_raw.drop_meta(\\\"runname\\\")\";\n",
       "                var nbb_formatted_code = \"## concat all configs together\\nrun_cfg = [\\n    {\\n        **common_cfgs,\\n        **c,\\n        **overrides,\\n        \\\"RF_EXTRA_READ\\\".lower(): 1,\\n        \\\"FILE_EXTRA_RF\\\": extra_rf_file,\\n    }\\n    for c in cfgs_to_run\\n]\\n\\nres_raw = openscm_runner.run(\\n    {\\\"MAGICC7\\\": run_cfg},\\n    scenarios_clean,\\n    output_variables=openscm_runner_output_names,\\n    out_config={\\\"MAGICC7\\\": (\\\"runname\\\",)},\\n)\\nres_raw[\\\"ensemble_member\\\"] = res_raw[\\\"runname\\\"]\\nres_raw = res_raw.drop_meta(\\\"runname\\\")\";\n",
       "                var nbb_cells = Jupyter.notebook.get_cells();\n",
       "                for (var i = 0; i < nbb_cells.length; ++i) {\n",
       "                    if (nbb_cells[i].input_prompt_number == nbb_cell_id) {\n",
       "                        if (nbb_cells[i].get_text() == nbb_unformatted_code) {\n",
       "                             nbb_cells[i].set_text(nbb_formatted_code);\n",
       "                        }\n",
       "                        break;\n",
       "                    }\n",
       "                }\n",
       "            }, 500);\n",
       "            "
      ],
      "text/plain": [
       "<IPython.core.display.Javascript object>"
      ]
     },
     "metadata": {},
     "output_type": "display_data"
    }
   ],
   "source": [
    "## concat all configs together\n",
    "run_cfg = [\n",
    "    {\n",
    "        **common_cfgs,\n",
    "        **c,\n",
    "        **overrides,\n",
    "        \"RF_EXTRA_READ\".lower(): 1,\n",
    "        \"FILE_EXTRA_RF\": extra_rf_file,\n",
    "    }\n",
    "    for c in cfgs_to_run\n",
    "]\n",
    "\n",
    "res_raw = openscm_runner.run(\n",
    "    {\"MAGICC7\": run_cfg},\n",
    "    scenarios_clean,\n",
    "    output_variables=openscm_runner_output_names,\n",
    "    out_config={\"MAGICC7\": (\"runname\",)},\n",
    ")\n",
    "res_raw[\"ensemble_member\"] = res_raw[\"runname\"]\n",
    "res_raw = res_raw.drop_meta(\"runname\")"
   ]
  },
  {
   "cell_type": "code",
   "execution_count": 19,
   "id": "3a655e0c",
   "metadata": {
    "scrolled": true
   },
   "outputs": [
    {
     "data": {
      "text/plain": [
       "climate_model  ensemble_member  model       region  run_id  scenario           unit  variable                      \n",
       "MAGICCv7.5.3   0                COFFEE 1.1  World   0       EN_INDCi2030_500f  K     Surface Air Temperature Change    1.80201\n",
       "dtype: float64"
      ]
     },
     "execution_count": 19,
     "metadata": {},
     "output_type": "execute_result"
    },
    {
     "data": {
      "application/javascript": [
       "\n",
       "            setTimeout(function() {\n",
       "                var nbb_cell_id = 19;\n",
       "                var nbb_unformatted_code = \"res_raw.filter(region=\\\"World\\\").timeseries().max(axis=1)\";\n",
       "                var nbb_formatted_code = \"res_raw.filter(region=\\\"World\\\").timeseries().max(axis=1)\";\n",
       "                var nbb_cells = Jupyter.notebook.get_cells();\n",
       "                for (var i = 0; i < nbb_cells.length; ++i) {\n",
       "                    if (nbb_cells[i].input_prompt_number == nbb_cell_id) {\n",
       "                        if (nbb_cells[i].get_text() == nbb_unformatted_code) {\n",
       "                             nbb_cells[i].set_text(nbb_formatted_code);\n",
       "                        }\n",
       "                        break;\n",
       "                    }\n",
       "                }\n",
       "            }, 500);\n",
       "            "
      ],
      "text/plain": [
       "<IPython.core.display.Javascript object>"
      ]
     },
     "metadata": {},
     "output_type": "display_data"
    }
   ],
   "source": [
    "res_raw.filter(region=\"World\").timeseries().max(axis=1)"
   ]
  },
  {
   "cell_type": "code",
   "execution_count": 20,
   "id": "0b6e74fa",
   "metadata": {},
   "outputs": [
    {
     "name": "stderr",
     "output_type": "stream",
     "text": [
      "/data/ubuntu-znicholls/miniconda3/envs/baur-et-al-srm-commitment/lib/python3.9/site-packages/scmdata/plotting.py:96: FutureWarning: \n",
      "\n",
      "The `ci` parameter is deprecated. Use `errorbar='sd'` for the same effect.\n",
      "\n",
      "  ax = sns.lineplot(data=plt_df, **kwargs)\n"
     ]
    },
    {
     "data": {
      "image/png": "[encoded data removed]",
      "text/plain": [
       "<Figure size 640x480 with 1 Axes>"
      ]
     },
     "metadata": {},
     "output_type": "display_data"
    },
    {
     "data": {
      "application/javascript": [
       "\n",
       "            setTimeout(function() {\n",
       "                var nbb_cell_id = 20;\n",
       "                var nbb_unformatted_code = \"ax = res_raw.filter(region=\\\"World\\\", year=range(2000, 2150 + 1)).lineplot(\\n    style=\\\"variable\\\"\\n)\\nax.axhline(1.5, color=\\\"k\\\")\\nax.grid()\";\n",
       "                var nbb_formatted_code = \"ax = res_raw.filter(region=\\\"World\\\", year=range(2000, 2150 + 1)).lineplot(\\n    style=\\\"variable\\\"\\n)\\nax.axhline(1.5, color=\\\"k\\\")\\nax.grid()\";\n",
       "                var nbb_cells = Jupyter.notebook.get_cells();\n",
       "                for (var i = 0; i < nbb_cells.length; ++i) {\n",
       "                    if (nbb_cells[i].input_prompt_number == nbb_cell_id) {\n",
       "                        if (nbb_cells[i].get_text() == nbb_unformatted_code) {\n",
       "                             nbb_cells[i].set_text(nbb_formatted_code);\n",
       "                        }\n",
       "                        break;\n",
       "                    }\n",
       "                }\n",
       "            }, 500);\n",
       "            "
      ],
      "text/plain": [
       "<IPython.core.display.Javascript object>"
      ]
     },
     "metadata": {},
     "output_type": "display_data"
    }
   ],
   "source": [
    "ax = res_raw.filter(region=\"World\", year=range(2000, 2150 + 1)).lineplot(\n",
    "    style=\"variable\"\n",
    ")\n",
    "ax.axhline(1.5, color=\"k\")\n",
    "ax.grid()"
   ]
  }
 ],
 "metadata": {
  "kernelspec": {
   "display_name": "Python 3 (ipykernel)",
   "language": "python",
   "name": "python3"
  },
  "language_info": {
   "codemirror_mode": {
    "name": "ipython",
    "version": 3
   },
   "file_extension": ".py",
   "mimetype": "text/x-python",
   "name": "python",
   "nbconvert_exporter": "python",
   "pygments_lexer": "ipython3",
   "version": "3.9.13"
  }
 },
 "nbformat": 4,
 "nbformat_minor": 5
}
