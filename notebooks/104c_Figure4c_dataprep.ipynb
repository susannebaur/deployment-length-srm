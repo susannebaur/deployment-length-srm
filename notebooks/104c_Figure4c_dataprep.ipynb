{
 "cells": [
  {
   "cell_type": "code",
   "execution_count": 1,
   "id": "a2ca60d1",
   "metadata": {},
   "outputs": [
    {
     "data": {
      "application/javascript": [
       "\n",
       "            setTimeout(function() {\n",
       "                var nbb_cell_id = 1;\n",
       "                var nbb_unformatted_code = \"%load_ext nb_black\";\n",
       "                var nbb_formatted_code = \"%load_ext nb_black\";\n",
       "                var nbb_cells = Jupyter.notebook.get_cells();\n",
       "                for (var i = 0; i < nbb_cells.length; ++i) {\n",
       "                    if (nbb_cells[i].input_prompt_number == nbb_cell_id) {\n",
       "                        if (nbb_cells[i].get_text() == nbb_unformatted_code) {\n",
       "                             nbb_cells[i].set_text(nbb_formatted_code);\n",
       "                        }\n",
       "                        break;\n",
       "                    }\n",
       "                }\n",
       "            }, 500);\n",
       "            "
      ],
      "text/plain": [
       "<IPython.core.display.Javascript object>"
      ]
     },
     "metadata": {},
     "output_type": "display_data"
    }
   ],
   "source": [
    "%load_ext nb_black"
   ]
  },
  {
   "cell_type": "code",
   "execution_count": 2,
   "id": "60e5a096",
   "metadata": {},
   "outputs": [
    {
     "data": {
      "application/javascript": [
       "if (typeof IPython !== 'undefined') { IPython.OutputArea.prototype._should_scroll = function(lines){ return false; }}"
      ],
      "text/plain": [
       "<IPython.core.display.Javascript object>"
      ]
     },
     "metadata": {},
     "output_type": "display_data"
    },
    {
     "data": {
      "application/javascript": [
       "\n",
       "            setTimeout(function() {\n",
       "                var nbb_cell_id = 2;\n",
       "                var nbb_unformatted_code = \"import os.path\\nfrom pathlib import Path\\n\\nimport json\\nimport pyam\\nimport pandas as pd\\nimport numpy as np\\n\\nimport utils\\nimport warnings\\n\\nwarnings.simplefilter(action=\\\"ignore\\\", category=FutureWarning)\";\n",
       "                var nbb_formatted_code = \"import os.path\\nfrom pathlib import Path\\n\\nimport json\\nimport pyam\\nimport pandas as pd\\nimport numpy as np\\n\\nimport utils\\nimport warnings\\n\\nwarnings.simplefilter(action=\\\"ignore\\\", category=FutureWarning)\";\n",
       "                var nbb_cells = Jupyter.notebook.get_cells();\n",
       "                for (var i = 0; i < nbb_cells.length; ++i) {\n",
       "                    if (nbb_cells[i].input_prompt_number == nbb_cell_id) {\n",
       "                        if (nbb_cells[i].get_text() == nbb_unformatted_code) {\n",
       "                             nbb_cells[i].set_text(nbb_formatted_code);\n",
       "                        }\n",
       "                        break;\n",
       "                    }\n",
       "                }\n",
       "            }, 500);\n",
       "            "
      ],
      "text/plain": [
       "<IPython.core.display.Javascript object>"
      ]
     },
     "metadata": {},
     "output_type": "display_data"
    }
   ],
   "source": [
    "import os.path\n",
    "from pathlib import Path\n",
    "\n",
    "import json\n",
    "import pyam\n",
    "import pandas as pd\n",
    "import numpy as np\n",
    "\n",
    "import utils\n",
    "import warnings\n",
    "\n",
    "warnings.simplefilter(action=\"ignore\", category=FutureWarning)"
   ]
  },
  {
   "cell_type": "code",
   "execution_count": 3,
   "id": "ccad8fb2",
   "metadata": {},
   "outputs": [
    {
     "data": {
      "application/javascript": [
       "\n",
       "            setTimeout(function() {\n",
       "                var nbb_cell_id = 3;\n",
       "                var nbb_unformatted_code = \"ID = \\\"sb_noSRM_inclu\\\"\";\n",
       "                var nbb_formatted_code = \"ID = \\\"sb_noSRM_inclu\\\"\";\n",
       "                var nbb_cells = Jupyter.notebook.get_cells();\n",
       "                for (var i = 0; i < nbb_cells.length; ++i) {\n",
       "                    if (nbb_cells[i].input_prompt_number == nbb_cell_id) {\n",
       "                        if (nbb_cells[i].get_text() == nbb_unformatted_code) {\n",
       "                             nbb_cells[i].set_text(nbb_formatted_code);\n",
       "                        }\n",
       "                        break;\n",
       "                    }\n",
       "                }\n",
       "            }, 500);\n",
       "            "
      ],
      "text/plain": [
       "<IPython.core.display.Javascript object>"
      ]
     },
     "metadata": {},
     "output_type": "display_data"
    }
   ],
   "source": [
    "ID = \"sb_noSRM_inclu\""
   ]
  },
  {
   "cell_type": "code",
   "execution_count": 4,
   "id": "76545c94",
   "metadata": {},
   "outputs": [
    {
     "data": {
      "application/javascript": [
       "\n",
       "            setTimeout(function() {\n",
       "                var nbb_cell_id = 4;\n",
       "                var nbb_unformatted_code = \"data = pd.read_csv(\\n    str(\\n        Path(\\n            utils.DATA_DIR\\n            / \\\"interim\\\"\\n            / \\\"delta_rf\\\"\\n            / f\\\"{ID}_delta-erf_meta_TCRE_ratio.csv\\\"\\n        )\\n    )\\n)\\n\\nOUTPUT_FILE = Path(utils.DATA_DIR / \\\"plotting_data\\\" / \\\"figure4\\\" / f\\\"{ID}_4c.csv\\\")\";\n",
       "                var nbb_formatted_code = \"data = pd.read_csv(\\n    str(\\n        Path(\\n            utils.DATA_DIR\\n            / \\\"interim\\\"\\n            / \\\"delta_rf\\\"\\n            / f\\\"{ID}_delta-erf_meta_TCRE_ratio.csv\\\"\\n        )\\n    )\\n)\\n\\nOUTPUT_FILE = Path(utils.DATA_DIR / \\\"plotting_data\\\" / \\\"figure4\\\" / f\\\"{ID}_4c.csv\\\")\";\n",
       "                var nbb_cells = Jupyter.notebook.get_cells();\n",
       "                for (var i = 0; i < nbb_cells.length; ++i) {\n",
       "                    if (nbb_cells[i].input_prompt_number == nbb_cell_id) {\n",
       "                        if (nbb_cells[i].get_text() == nbb_unformatted_code) {\n",
       "                             nbb_cells[i].set_text(nbb_formatted_code);\n",
       "                        }\n",
       "                        break;\n",
       "                    }\n",
       "                }\n",
       "            }, 500);\n",
       "            "
      ],
      "text/plain": [
       "<IPython.core.display.Javascript object>"
      ]
     },
     "metadata": {},
     "output_type": "display_data"
    }
   ],
   "source": [
    "data = pd.read_csv(\n",
    "    str(\n",
    "        Path(\n",
    "            utils.DATA_DIR\n",
    "            / \"interim\"\n",
    "            / \"delta_rf\"\n",
    "            / f\"{ID}_delta-erf_meta_TCRE_ratio.csv\"\n",
    "        )\n",
    "    )\n",
    ")\n",
    "\n",
    "OUTPUT_FILE = Path(utils.DATA_DIR / \"plotting_data\" / \"figure4\" / f\"{ID}_4c.csv\")"
   ]
  },
  {
   "cell_type": "markdown",
   "id": "3f547016",
   "metadata": {},
   "source": [
    "Filter out one of the variables (doesn't matter which)"
   ]
  },
  {
   "cell_type": "code",
   "execution_count": 5,
   "id": "057cfae4",
   "metadata": {
    "scrolled": true
   },
   "outputs": [
    {
     "data": {
      "application/javascript": [
       "\n",
       "            setTimeout(function() {\n",
       "                var nbb_cell_id = 5;\n",
       "                var nbb_unformatted_code = \"data = data[data[\\\"variable\\\"] == \\\"delta_rf\\\"]\";\n",
       "                var nbb_formatted_code = \"data = data[data[\\\"variable\\\"] == \\\"delta_rf\\\"]\";\n",
       "                var nbb_cells = Jupyter.notebook.get_cells();\n",
       "                for (var i = 0; i < nbb_cells.length; ++i) {\n",
       "                    if (nbb_cells[i].input_prompt_number == nbb_cell_id) {\n",
       "                        if (nbb_cells[i].get_text() == nbb_unformatted_code) {\n",
       "                             nbb_cells[i].set_text(nbb_formatted_code);\n",
       "                        }\n",
       "                        break;\n",
       "                    }\n",
       "                }\n",
       "            }, 500);\n",
       "            "
      ],
      "text/plain": [
       "<IPython.core.display.Javascript object>"
      ]
     },
     "metadata": {},
     "output_type": "display_data"
    }
   ],
   "source": [
    "data = data[data[\"variable\"] == \"delta_rf\"]"
   ]
  },
  {
   "cell_type": "code",
   "execution_count": 6,
   "id": "80031597",
   "metadata": {},
   "outputs": [
    {
     "data": {
      "application/javascript": [
       "\n",
       "            setTimeout(function() {\n",
       "                var nbb_cell_id = 6;\n",
       "                var nbb_unformatted_code = \"data.drop(\\\"run_id\\\", axis=1, inplace=True)\";\n",
       "                var nbb_formatted_code = \"data.drop(\\\"run_id\\\", axis=1, inplace=True)\";\n",
       "                var nbb_cells = Jupyter.notebook.get_cells();\n",
       "                for (var i = 0; i < nbb_cells.length; ++i) {\n",
       "                    if (nbb_cells[i].input_prompt_number == nbb_cell_id) {\n",
       "                        if (nbb_cells[i].get_text() == nbb_unformatted_code) {\n",
       "                             nbb_cells[i].set_text(nbb_formatted_code);\n",
       "                        }\n",
       "                        break;\n",
       "                    }\n",
       "                }\n",
       "            }, 500);\n",
       "            "
      ],
      "text/plain": [
       "<IPython.core.display.Javascript object>"
      ]
     },
     "metadata": {},
     "output_type": "display_data"
    }
   ],
   "source": [
    "data.drop(\"run_id\", axis=1, inplace=True)"
   ]
  },
  {
   "cell_type": "markdown",
   "id": "eb125e6b",
   "metadata": {},
   "source": [
    "Filter out pathways that have not reached net-zero by 2500"
   ]
  },
  {
   "cell_type": "code",
   "execution_count": 8,
   "id": "db446d98",
   "metadata": {},
   "outputs": [
    {
     "data": {
      "application/javascript": [
       "\n",
       "            setTimeout(function() {\n",
       "                var nbb_cell_id = 8;\n",
       "                var nbb_unformatted_code = \"data = data[\\n    (data[\\\"year_return_back_below_15_temp\\\"] < 2501)\\n    & (data[\\\"year_return_back_below_15_temp\\\"] > 2029)\\n]\";\n",
       "                var nbb_formatted_code = \"data = data[\\n    (data[\\\"year_return_back_below_15_temp\\\"] < 2501)\\n    & (data[\\\"year_return_back_below_15_temp\\\"] > 2029)\\n]\";\n",
       "                var nbb_cells = Jupyter.notebook.get_cells();\n",
       "                for (var i = 0; i < nbb_cells.length; ++i) {\n",
       "                    if (nbb_cells[i].input_prompt_number == nbb_cell_id) {\n",
       "                        if (nbb_cells[i].get_text() == nbb_unformatted_code) {\n",
       "                             nbb_cells[i].set_text(nbb_formatted_code);\n",
       "                        }\n",
       "                        break;\n",
       "                    }\n",
       "                }\n",
       "            }, 500);\n",
       "            "
      ],
      "text/plain": [
       "<IPython.core.display.Javascript object>"
      ]
     },
     "metadata": {},
     "output_type": "display_data"
    }
   ],
   "source": [
    "data = data[\n",
    "    (data[\"year_return_back_below_15_temp\"] < 2501)\n",
    "    & (data[\"year_return_back_below_15_temp\"] > 2029)\n",
    "]"
   ]
  },
  {
   "cell_type": "markdown",
   "id": "35819278",
   "metadata": {},
   "source": [
    "Select relevant columns"
   ]
  },
  {
   "cell_type": "code",
   "execution_count": 12,
   "id": "e171eef6",
   "metadata": {},
   "outputs": [
    {
     "data": {
      "text/plain": [
       "Index(['Unnamed: 0.1', 'Unnamed: 0', '2030_warming', '2100_warming',\n",
       "       'SRM_at_first_crossing', 'TCRE',\n",
       "       'average_annual_emissions_2030_net-zero',\n",
       "       'average_cdr_between_net0_and_15', 'climate_model',\n",
       "       'cumulative_emms_15', 'cumulative_emms_net0_to_15',\n",
       "       'cumulative_emms_peak_warming', 'cumulative_emms_peak_warming_to_15',\n",
       "       'cumulative_pos_emms_at_15', 'cumulative_pos_emms_at_net0',\n",
       "       'ensemble_member', 'max_assigned_CDR', 'max_deployed_CDR', 'model',\n",
       "       'ms', 'net-zero_year', 'net_CDR_at_15_temp', 'peak_warming', 'region',\n",
       "       'scenario', 'total_CDR', 'unit', 'variable',\n",
       "       'year_return_back_below_15_temp', 'TCRE_down', 'TCRE_up',\n",
       "       'TCRE_ratio_up', 'TCRE_up_minus_down', 'Year of net-zero CO2',\n",
       "       'Average annual NNEs', 'Cum emissions peak-warming 1.5°C',\n",
       "       'peak_warming_categories', 'TCRE_ratio_up_cat', 't_above_15', 'ratios'],\n",
       "      dtype='object')"
      ]
     },
     "execution_count": 12,
     "metadata": {},
     "output_type": "execute_result"
    },
    {
     "data": {
      "application/javascript": [
       "\n",
       "            setTimeout(function() {\n",
       "                var nbb_cell_id = 12;\n",
       "                var nbb_unformatted_code = \"data.columns\";\n",
       "                var nbb_formatted_code = \"data.columns\";\n",
       "                var nbb_cells = Jupyter.notebook.get_cells();\n",
       "                for (var i = 0; i < nbb_cells.length; ++i) {\n",
       "                    if (nbb_cells[i].input_prompt_number == nbb_cell_id) {\n",
       "                        if (nbb_cells[i].get_text() == nbb_unformatted_code) {\n",
       "                             nbb_cells[i].set_text(nbb_formatted_code);\n",
       "                        }\n",
       "                        break;\n",
       "                    }\n",
       "                }\n",
       "            }, 500);\n",
       "            "
      ],
      "text/plain": [
       "<IPython.core.display.Javascript object>"
      ]
     },
     "metadata": {},
     "output_type": "display_data"
    }
   ],
   "source": [
    "data.columns"
   ]
  },
  {
   "cell_type": "code",
   "execution_count": 13,
   "id": "27d361e6",
   "metadata": {},
   "outputs": [
    {
     "data": {
      "application/javascript": [
       "\n",
       "            setTimeout(function() {\n",
       "                var nbb_cell_id = 13;\n",
       "                var nbb_unformatted_code = \"data_sel = data.filter(\\n    [\\n        \\\"ms\\\",\\n        \\\"ensemble_member\\\",\\n        \\\"SRM_at_first_crossing\\\",\\n        \\\"cumulative_emms_peak_warming_to_15\\\",\\n        \\\"TCRE_ratio_up\\\",\\n        \\\"net-zero_year\\\",\\n    ],\\n    axis=1,\\n).reset_index(drop=True)\";\n",
       "                var nbb_formatted_code = \"data_sel = data.filter(\\n    [\\n        \\\"ms\\\",\\n        \\\"ensemble_member\\\",\\n        \\\"SRM_at_first_crossing\\\",\\n        \\\"cumulative_emms_peak_warming_to_15\\\",\\n        \\\"TCRE_ratio_up\\\",\\n        \\\"net-zero_year\\\",\\n    ],\\n    axis=1,\\n).reset_index(drop=True)\";\n",
       "                var nbb_cells = Jupyter.notebook.get_cells();\n",
       "                for (var i = 0; i < nbb_cells.length; ++i) {\n",
       "                    if (nbb_cells[i].input_prompt_number == nbb_cell_id) {\n",
       "                        if (nbb_cells[i].get_text() == nbb_unformatted_code) {\n",
       "                             nbb_cells[i].set_text(nbb_formatted_code);\n",
       "                        }\n",
       "                        break;\n",
       "                    }\n",
       "                }\n",
       "            }, 500);\n",
       "            "
      ],
      "text/plain": [
       "<IPython.core.display.Javascript object>"
      ]
     },
     "metadata": {},
     "output_type": "display_data"
    }
   ],
   "source": [
    "data_sel = data.filter(\n",
    "    [\n",
    "        \"ms\",\n",
    "        \"ensemble_member\",\n",
    "        \"SRM_at_first_crossing\",\n",
    "        \"cumulative_emms_peak_warming_to_15\",\n",
    "        \"TCRE_ratio_up\",\n",
    "        \"net-zero_year\",\n",
    "    ],\n",
    "    axis=1,\n",
    ").reset_index(drop=True)"
   ]
  },
  {
   "cell_type": "markdown",
   "id": "7ed0a37d",
   "metadata": {},
   "source": [
    "Save"
   ]
  },
  {
   "cell_type": "code",
   "execution_count": 14,
   "id": "d38e1f62",
   "metadata": {},
   "outputs": [
    {
     "data": {
      "application/javascript": [
       "\n",
       "            setTimeout(function() {\n",
       "                var nbb_cell_id = 14;\n",
       "                var nbb_unformatted_code = \"data_sel.to_csv(OUTPUT_FILE)\";\n",
       "                var nbb_formatted_code = \"data_sel.to_csv(OUTPUT_FILE)\";\n",
       "                var nbb_cells = Jupyter.notebook.get_cells();\n",
       "                for (var i = 0; i < nbb_cells.length; ++i) {\n",
       "                    if (nbb_cells[i].input_prompt_number == nbb_cell_id) {\n",
       "                        if (nbb_cells[i].get_text() == nbb_unformatted_code) {\n",
       "                             nbb_cells[i].set_text(nbb_formatted_code);\n",
       "                        }\n",
       "                        break;\n",
       "                    }\n",
       "                }\n",
       "            }, 500);\n",
       "            "
      ],
      "text/plain": [
       "<IPython.core.display.Javascript object>"
      ]
     },
     "metadata": {},
     "output_type": "display_data"
    }
   ],
   "source": [
    "data_sel.to_csv(OUTPUT_FILE)"
   ]
  },
  {
   "cell_type": "code",
   "execution_count": null,
   "id": "4767d84f",
   "metadata": {},
   "outputs": [],
   "source": []
  },
  {
   "cell_type": "code",
   "execution_count": null,
   "id": "226c9a19",
   "metadata": {},
   "outputs": [],
   "source": []
  },
  {
   "cell_type": "markdown",
   "id": "9726e75f",
   "metadata": {},
   "source": [
    "# Median stats\n",
    "use dataset where non-net-zero datasets haven't been exlcuded (-> data, not data_T)"
   ]
  },
  {
   "cell_type": "code",
   "execution_count": 20,
   "id": "dfe26ad2",
   "metadata": {},
   "outputs": [
    {
     "data": {
      "application/javascript": [
       "\n",
       "            setTimeout(function() {\n",
       "                var nbb_cell_id = 20;\n",
       "                var nbb_unformatted_code = \"median_stats = (\\n    data.set_index([\\\"ms\\\", \\\"ensemble_member\\\"])[\\n        [\\n            \\\"average_cdr_between_net0_and_15\\\",\\n            \\\"max_deployed_CDR\\\",\\n            \\\"SRM_at_first_crossing\\\",\\n            \\\"peak_warming\\\",\\n            \\\"2100_warming\\\",\\n            \\\"cumulative_emms_net0_to_15\\\",\\n            \\\"cumulative_pos_emms_at_net0\\\",\\n            \\\"net_CDR_at_15_temp\\\",\\n            \\\"TCRE_down\\\",\\n        ]\\n    ]\\n    .groupby(\\\"ms\\\")\\n    .median()\\n)\";\n",
       "                var nbb_formatted_code = \"median_stats = (\\n    data.set_index([\\\"ms\\\", \\\"ensemble_member\\\"])[\\n        [\\n            \\\"average_cdr_between_net0_and_15\\\",\\n            \\\"max_deployed_CDR\\\",\\n            \\\"SRM_at_first_crossing\\\",\\n            \\\"peak_warming\\\",\\n            \\\"2100_warming\\\",\\n            \\\"cumulative_emms_net0_to_15\\\",\\n            \\\"cumulative_pos_emms_at_net0\\\",\\n            \\\"net_CDR_at_15_temp\\\",\\n            \\\"TCRE_down\\\",\\n        ]\\n    ]\\n    .groupby(\\\"ms\\\")\\n    .median()\\n)\";\n",
       "                var nbb_cells = Jupyter.notebook.get_cells();\n",
       "                for (var i = 0; i < nbb_cells.length; ++i) {\n",
       "                    if (nbb_cells[i].input_prompt_number == nbb_cell_id) {\n",
       "                        if (nbb_cells[i].get_text() == nbb_unformatted_code) {\n",
       "                             nbb_cells[i].set_text(nbb_formatted_code);\n",
       "                        }\n",
       "                        break;\n",
       "                    }\n",
       "                }\n",
       "            }, 500);\n",
       "            "
      ],
      "text/plain": [
       "<IPython.core.display.Javascript object>"
      ]
     },
     "metadata": {},
     "output_type": "display_data"
    }
   ],
   "source": [
    "median_stats = (\n",
    "    data.set_index([\"ms\", \"ensemble_member\"])[\n",
    "        [\n",
    "            \"average_cdr_between_net0_and_15\",\n",
    "            \"max_deployed_CDR\",\n",
    "            \"SRM_at_first_crossing\",\n",
    "            \"peak_warming\",\n",
    "            \"2100_warming\",\n",
    "            \"cumulative_emms_net0_to_15\",\n",
    "            \"cumulative_pos_emms_at_net0\",\n",
    "            \"net_CDR_at_15_temp\",\n",
    "            \"TCRE_down\",\n",
    "        ]\n",
    "    ]\n",
    "    .groupby(\"ms\")\n",
    "    .median()\n",
    ")"
   ]
  },
  {
   "cell_type": "code",
   "execution_count": 21,
   "id": "01a32dfd",
   "metadata": {},
   "outputs": [
    {
     "data": {
      "application/javascript": [
       "\n",
       "            setTimeout(function() {\n",
       "                var nbb_cell_id = 21;\n",
       "                var nbb_unformatted_code = \"median_stats.to_csv(OUTPUT_FILE_MEDIAN)\";\n",
       "                var nbb_formatted_code = \"median_stats.to_csv(OUTPUT_FILE_MEDIAN)\";\n",
       "                var nbb_cells = Jupyter.notebook.get_cells();\n",
       "                for (var i = 0; i < nbb_cells.length; ++i) {\n",
       "                    if (nbb_cells[i].input_prompt_number == nbb_cell_id) {\n",
       "                        if (nbb_cells[i].get_text() == nbb_unformatted_code) {\n",
       "                             nbb_cells[i].set_text(nbb_formatted_code);\n",
       "                        }\n",
       "                        break;\n",
       "                    }\n",
       "                }\n",
       "            }, 500);\n",
       "            "
      ],
      "text/plain": [
       "<IPython.core.display.Javascript object>"
      ]
     },
     "metadata": {},
     "output_type": "display_data"
    }
   ],
   "source": [
    "median_stats.to_csv(OUTPUT_FILE_MEDIAN)"
   ]
  },
  {
   "cell_type": "code",
   "execution_count": null,
   "id": "490e5155",
   "metadata": {},
   "outputs": [],
   "source": []
  }
 ],
 "metadata": {
  "kernelspec": {
   "display_name": "Python 3 (ipykernel)",
   "language": "python",
   "name": "python3"
  },
  "language_info": {
   "codemirror_mode": {
    "name": "ipython",
    "version": 3
   },
   "file_extension": ".py",
   "mimetype": "text/x-python",
   "name": "python",
   "nbconvert_exporter": "python",
   "pygments_lexer": "ipython3",
   "version": "3.9.13"
  }
 },
 "nbformat": 4,
 "nbformat_minor": 5
}
