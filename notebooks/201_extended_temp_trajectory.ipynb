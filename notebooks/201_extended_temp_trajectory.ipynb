{
 "cells": [
  {
   "cell_type": "code",
   "execution_count": 137,
   "id": "bf191a3d",
   "metadata": {},
   "outputs": [
    {
     "name": "stdout",
     "output_type": "stream",
     "text": [
      "The nb_black extension is already loaded. To reload it, use:\n",
      "  %reload_ext nb_black\n"
     ]
    },
    {
     "data": {
      "application/javascript": [
       "\n",
       "            setTimeout(function() {\n",
       "                var nbb_cell_id = 137;\n",
       "                var nbb_unformatted_code = \"%load_ext nb_black\";\n",
       "                var nbb_formatted_code = \"%load_ext nb_black\";\n",
       "                var nbb_cells = Jupyter.notebook.get_cells();\n",
       "                for (var i = 0; i < nbb_cells.length; ++i) {\n",
       "                    if (nbb_cells[i].input_prompt_number == nbb_cell_id) {\n",
       "                        if (nbb_cells[i].get_text() == nbb_unformatted_code) {\n",
       "                             nbb_cells[i].set_text(nbb_formatted_code);\n",
       "                        }\n",
       "                        break;\n",
       "                    }\n",
       "                }\n",
       "            }, 500);\n",
       "            "
      ],
      "text/plain": [
       "<IPython.core.display.Javascript object>"
      ]
     },
     "metadata": {},
     "output_type": "display_data"
    }
   ],
   "source": [
    "%load_ext nb_black"
   ]
  },
  {
   "cell_type": "code",
   "execution_count": 2,
   "id": "6340789b",
   "metadata": {},
   "outputs": [
    {
     "data": {
      "application/javascript": [
       "if (typeof IPython !== 'undefined') { IPython.OutputArea.prototype._should_scroll = function(lines){ return false; }}"
      ],
      "text/plain": [
       "<IPython.core.display.Javascript object>"
      ]
     },
     "metadata": {},
     "output_type": "display_data"
    },
    {
     "data": {
      "application/javascript": [
       "\n",
       "            setTimeout(function() {\n",
       "                var nbb_cell_id = 2;\n",
       "                var nbb_unformatted_code = \"import os.path\\nfrom pathlib import Path\\n\\nimport scmdata\\nimport json\\nimport pyam\\nimport pandas as pd\\nimport numpy as np\\nimport matplotlib.pyplot as plt\\n\\nimport utils\\nimport warnings\\n\\nwarnings.simplefilter(action=\\\"ignore\\\", category=FutureWarning)\";\n",
       "                var nbb_formatted_code = \"import os.path\\nfrom pathlib import Path\\n\\nimport scmdata\\nimport json\\nimport pyam\\nimport pandas as pd\\nimport numpy as np\\nimport matplotlib.pyplot as plt\\n\\nimport utils\\nimport warnings\\n\\nwarnings.simplefilter(action=\\\"ignore\\\", category=FutureWarning)\";\n",
       "                var nbb_cells = Jupyter.notebook.get_cells();\n",
       "                for (var i = 0; i < nbb_cells.length; ++i) {\n",
       "                    if (nbb_cells[i].input_prompt_number == nbb_cell_id) {\n",
       "                        if (nbb_cells[i].get_text() == nbb_unformatted_code) {\n",
       "                             nbb_cells[i].set_text(nbb_formatted_code);\n",
       "                        }\n",
       "                        break;\n",
       "                    }\n",
       "                }\n",
       "            }, 500);\n",
       "            "
      ],
      "text/plain": [
       "<IPython.core.display.Javascript object>"
      ]
     },
     "metadata": {},
     "output_type": "display_data"
    }
   ],
   "source": [
    "import os.path\n",
    "from pathlib import Path\n",
    "\n",
    "import scmdata\n",
    "import json\n",
    "import pyam\n",
    "import pandas as pd\n",
    "import numpy as np\n",
    "import matplotlib.pyplot as plt\n",
    "\n",
    "import utils\n",
    "import warnings\n",
    "\n",
    "warnings.simplefilter(action=\"ignore\", category=FutureWarning)"
   ]
  },
  {
   "cell_type": "code",
   "execution_count": 3,
   "id": "5784f6c4",
   "metadata": {},
   "outputs": [
    {
     "data": {
      "application/javascript": [
       "\n",
       "            setTimeout(function() {\n",
       "                var nbb_cell_id = 3;\n",
       "                var nbb_unformatted_code = \"ID = \\\"sb_noSRM_inclu\\\"\";\n",
       "                var nbb_formatted_code = \"ID = \\\"sb_noSRM_inclu\\\"\";\n",
       "                var nbb_cells = Jupyter.notebook.get_cells();\n",
       "                for (var i = 0; i < nbb_cells.length; ++i) {\n",
       "                    if (nbb_cells[i].input_prompt_number == nbb_cell_id) {\n",
       "                        if (nbb_cells[i].get_text() == nbb_unformatted_code) {\n",
       "                             nbb_cells[i].set_text(nbb_formatted_code);\n",
       "                        }\n",
       "                        break;\n",
       "                    }\n",
       "                }\n",
       "            }, 500);\n",
       "            "
      ],
      "text/plain": [
       "<IPython.core.display.Javascript object>"
      ]
     },
     "metadata": {},
     "output_type": "display_data"
    }
   ],
   "source": [
    "ID = \"sb_noSRM_inclu\""
   ]
  },
  {
   "cell_type": "code",
   "execution_count": 4,
   "id": "3b25da51",
   "metadata": {},
   "outputs": [
    {
     "data": {
      "application/javascript": [
       "\n",
       "            setTimeout(function() {\n",
       "                var nbb_cell_id = 4;\n",
       "                var nbb_unformatted_code = \"data = pd.read_csv(\\n    str(Path(utils.DATA_DIR / \\\"interim\\\" / \\\"delta_rf\\\" / f\\\"{ID}_delta-erf.csv\\\"))\\n)\\nOUTPUT_FILE = Path(utils.DATA_DIR / \\\"plotting_data\\\" / \\\"figure1\\\" / f\\\"{ID}.csv\\\")\";\n",
       "                var nbb_formatted_code = \"data = pd.read_csv(\\n    str(Path(utils.DATA_DIR / \\\"interim\\\" / \\\"delta_rf\\\" / f\\\"{ID}_delta-erf.csv\\\"))\\n)\\nOUTPUT_FILE = Path(utils.DATA_DIR / \\\"plotting_data\\\" / \\\"figure1\\\" / f\\\"{ID}.csv\\\")\";\n",
       "                var nbb_cells = Jupyter.notebook.get_cells();\n",
       "                for (var i = 0; i < nbb_cells.length; ++i) {\n",
       "                    if (nbb_cells[i].input_prompt_number == nbb_cell_id) {\n",
       "                        if (nbb_cells[i].get_text() == nbb_unformatted_code) {\n",
       "                             nbb_cells[i].set_text(nbb_formatted_code);\n",
       "                        }\n",
       "                        break;\n",
       "                    }\n",
       "                }\n",
       "            }, 500);\n",
       "            "
      ],
      "text/plain": [
       "<IPython.core.display.Javascript object>"
      ]
     },
     "metadata": {},
     "output_type": "display_data"
    }
   ],
   "source": [
    "data = pd.read_csv(\n",
    "    str(Path(utils.DATA_DIR / \"interim\" / \"delta_rf\" / f\"{ID}_delta-erf.csv\"))\n",
    ")\n",
    "OUTPUT_FILE = Path(utils.DATA_DIR / \"plotting_data\" / \"figure1\" / f\"{ID}.csv\")"
   ]
  },
  {
   "cell_type": "code",
   "execution_count": 6,
   "id": "2647974e",
   "metadata": {},
   "outputs": [
    {
     "data": {
      "application/javascript": [
       "\n",
       "            setTimeout(function() {\n",
       "                var nbb_cell_id = 6;\n",
       "                var nbb_unformatted_code = \"# set negative temperature values = 0 (to not go below 1.5\\u00b0C)\\ndata.loc[\\n    :, \\\"2020-01-01 00:00:00\\\":\\\"2500-01-01 00:00:00\\\"\\n].clip(lower=0, inplace=True)\";\n",
       "                var nbb_formatted_code = \"# set negative temperature values = 0 (to not go below 1.5\\u00b0C)\\ndata.loc[:, \\\"2020-01-01 00:00:00\\\":\\\"2500-01-01 00:00:00\\\"].clip(lower=0, inplace=True)\";\n",
       "                var nbb_cells = Jupyter.notebook.get_cells();\n",
       "                for (var i = 0; i < nbb_cells.length; ++i) {\n",
       "                    if (nbb_cells[i].input_prompt_number == nbb_cell_id) {\n",
       "                        if (nbb_cells[i].get_text() == nbb_unformatted_code) {\n",
       "                             nbb_cells[i].set_text(nbb_formatted_code);\n",
       "                        }\n",
       "                        break;\n",
       "                    }\n",
       "                }\n",
       "            }, 500);\n",
       "            "
      ],
      "text/plain": [
       "<IPython.core.display.Javascript object>"
      ]
     },
     "metadata": {},
     "output_type": "display_data"
    }
   ],
   "source": [
    "# set negative temperature values = 0 (to not go below 1.5°C)\n",
    "data.loc[:, \"2020-01-01 00:00:00\":\"2500-01-01 00:00:00\"].clip(lower=0, inplace=True)"
   ]
  },
  {
   "cell_type": "code",
   "execution_count": 7,
   "id": "9f1785f1",
   "metadata": {},
   "outputs": [
    {
     "data": {
      "application/javascript": [
       "\n",
       "            setTimeout(function() {\n",
       "                var nbb_cell_id = 7;\n",
       "                var nbb_unformatted_code = \"data_sel = data[data[\\\"variable\\\"] == \\\"Surface Air Temperature Change\\\"].reset_index(\\n    drop=True\\n)\";\n",
       "                var nbb_formatted_code = \"data_sel = data[data[\\\"variable\\\"] == \\\"Surface Air Temperature Change\\\"].reset_index(\\n    drop=True\\n)\";\n",
       "                var nbb_cells = Jupyter.notebook.get_cells();\n",
       "                for (var i = 0; i < nbb_cells.length; ++i) {\n",
       "                    if (nbb_cells[i].input_prompt_number == nbb_cell_id) {\n",
       "                        if (nbb_cells[i].get_text() == nbb_unformatted_code) {\n",
       "                             nbb_cells[i].set_text(nbb_formatted_code);\n",
       "                        }\n",
       "                        break;\n",
       "                    }\n",
       "                }\n",
       "            }, 500);\n",
       "            "
      ],
      "text/plain": [
       "<IPython.core.display.Javascript object>"
      ]
     },
     "metadata": {},
     "output_type": "display_data"
    }
   ],
   "source": [
    "data_sel = data[data[\"variable\"] == \"Surface Air Temperature Change\"].reset_index(\n",
    "    drop=True\n",
    ")"
   ]
  },
  {
   "cell_type": "code",
   "execution_count": 16,
   "id": "41a82577",
   "metadata": {},
   "outputs": [
    {
     "data": {
      "application/javascript": [
       "\n",
       "            setTimeout(function() {\n",
       "                var nbb_cell_id = 16;\n",
       "                var nbb_unformatted_code = \"time_covered = range(2015, 2500 + 1)\";\n",
       "                var nbb_formatted_code = \"time_covered = range(2015, 2500 + 1)\";\n",
       "                var nbb_cells = Jupyter.notebook.get_cells();\n",
       "                for (var i = 0; i < nbb_cells.length; ++i) {\n",
       "                    if (nbb_cells[i].input_prompt_number == nbb_cell_id) {\n",
       "                        if (nbb_cells[i].get_text() == nbb_unformatted_code) {\n",
       "                             nbb_cells[i].set_text(nbb_formatted_code);\n",
       "                        }\n",
       "                        break;\n",
       "                    }\n",
       "                }\n",
       "            }, 500);\n",
       "            "
      ],
      "text/plain": [
       "<IPython.core.display.Javascript object>"
      ]
     },
     "metadata": {},
     "output_type": "display_data"
    }
   ],
   "source": [
    "time_covered = range(2015, 2500 + 1)"
   ]
  },
  {
   "cell_type": "markdown",
   "id": "f64e7bc0",
   "metadata": {},
   "source": [
    "### 5th and 95th percentile over all members and all scenarios"
   ]
  },
  {
   "cell_type": "code",
   "execution_count": 46,
   "id": "d027a279",
   "metadata": {},
   "outputs": [
    {
     "data": {
      "application/javascript": [
       "\n",
       "            setTimeout(function() {\n",
       "                var nbb_cell_id = 46;\n",
       "                var nbb_unformatted_code = \"low_quant_path = data_sel.groupby(\\\"variable\\\").quantile(q=0.05).iloc[:, 277:].T[7:]\\nlow_quant_path[\\\"time\\\"] = time_covered\\nhigh_quant_path = data_sel.groupby(\\\"variable\\\").quantile(q=0.95).iloc[:, 277:].T[7:]\\nhigh_quant_path[\\\"time\\\"] = time_covered\";\n",
       "                var nbb_formatted_code = \"low_quant_path = data_sel.groupby(\\\"variable\\\").quantile(q=0.05).iloc[:, 277:].T[7:]\\nlow_quant_path[\\\"time\\\"] = time_covered\\nhigh_quant_path = data_sel.groupby(\\\"variable\\\").quantile(q=0.95).iloc[:, 277:].T[7:]\\nhigh_quant_path[\\\"time\\\"] = time_covered\";\n",
       "                var nbb_cells = Jupyter.notebook.get_cells();\n",
       "                for (var i = 0; i < nbb_cells.length; ++i) {\n",
       "                    if (nbb_cells[i].input_prompt_number == nbb_cell_id) {\n",
       "                        if (nbb_cells[i].get_text() == nbb_unformatted_code) {\n",
       "                             nbb_cells[i].set_text(nbb_formatted_code);\n",
       "                        }\n",
       "                        break;\n",
       "                    }\n",
       "                }\n",
       "            }, 500);\n",
       "            "
      ],
      "text/plain": [
       "<IPython.core.display.Javascript object>"
      ]
     },
     "metadata": {},
     "output_type": "display_data"
    }
   ],
   "source": [
    "low_quant_path = data_sel.groupby(\"variable\").quantile(q=0.05).iloc[:, 277:].T[7:]\n",
    "low_quant_path[\"time\"] = time_covered\n",
    "high_quant_path = data_sel.groupby(\"variable\").quantile(q=0.95).iloc[:, 277:].T[7:]\n",
    "high_quant_path[\"time\"] = time_covered"
   ]
  },
  {
   "cell_type": "markdown",
   "id": "4cf3de5e",
   "metadata": {},
   "source": [
    "### selecting an exemplary pathway"
   ]
  },
  {
   "cell_type": "code",
   "execution_count": 131,
   "id": "fc2eb929",
   "metadata": {},
   "outputs": [
    {
     "data": {
      "text/html": [
       "<div>\n",
       "<style scoped>\n",
       "    .dataframe tbody tr th:only-of-type {\n",
       "        vertical-align: middle;\n",
       "    }\n",
       "\n",
       "    .dataframe tbody tr th {\n",
       "        vertical-align: top;\n",
       "    }\n",
       "\n",
       "    .dataframe thead th {\n",
       "        text-align: right;\n",
       "    }\n",
       "</style>\n",
       "<table border=\"1\" class=\"dataframe\">\n",
       "  <thead>\n",
       "    <tr style=\"text-align: right;\">\n",
       "      <th></th>\n",
       "      <th>cumulative_pos_emms_at_net0</th>\n",
       "      <th>ensemble_member</th>\n",
       "      <th>max_assigned_CDR</th>\n",
       "      <th>max_deployed_CDR</th>\n",
       "      <th>net_CDR_at_15_temp</th>\n",
       "      <th>peak_warming</th>\n",
       "      <th>run_id</th>\n",
       "      <th>total_CDR</th>\n",
       "      <th>year_return_back_below_15_temp</th>\n",
       "      <th>1750-01-01 00:00:00</th>\n",
       "      <th>1751-01-01 00:00:00</th>\n",
       "      <th>1752-01-01 00:00:00</th>\n",
       "      <th>1753-01-01 00:00:00</th>\n",
       "      <th>1754-01-01 00:00:00</th>\n",
       "      <th>1755-01-01 00:00:00</th>\n",
       "      <th>1756-01-01 00:00:00</th>\n",
       "      <th>1757-01-01 00:00:00</th>\n",
       "      <th>1758-01-01 00:00:00</th>\n",
       "      <th>1759-01-01 00:00:00</th>\n",
       "      <th>1760-01-01 00:00:00</th>\n",
       "    </tr>\n",
       "    <tr>\n",
       "      <th>ms</th>\n",
       "      <th></th>\n",
       "      <th></th>\n",
       "      <th></th>\n",
       "      <th></th>\n",
       "      <th></th>\n",
       "      <th></th>\n",
       "      <th></th>\n",
       "      <th></th>\n",
       "      <th></th>\n",
       "      <th></th>\n",
       "      <th></th>\n",
       "      <th></th>\n",
       "      <th></th>\n",
       "      <th></th>\n",
       "      <th></th>\n",
       "      <th></th>\n",
       "      <th></th>\n",
       "      <th></th>\n",
       "      <th></th>\n",
       "      <th></th>\n",
       "    </tr>\n",
       "  </thead>\n",
       "  <tbody>\n",
       "    <tr>\n",
       "      <th>MESSAGEix-GLOBIOM_1.1EN_INDCi2030_1800f_NDCp</th>\n",
       "      <td>1.827907e+06</td>\n",
       "      <td>299.5</td>\n",
       "      <td>-13945.048355</td>\n",
       "      <td>-36130.361986</td>\n",
       "      <td>-2.474787e+06</td>\n",
       "      <td>2.236562</td>\n",
       "      <td>18899.5</td>\n",
       "      <td>-5.854744e+06</td>\n",
       "      <td>2178.5</td>\n",
       "      <td>0.0</td>\n",
       "      <td>0.022472</td>\n",
       "      <td>0.031478</td>\n",
       "      <td>0.036948</td>\n",
       "      <td>0.039232</td>\n",
       "      <td>0.041273</td>\n",
       "      <td>0.036365</td>\n",
       "      <td>0.021569</td>\n",
       "      <td>0.026281</td>\n",
       "      <td>0.034785</td>\n",
       "      <td>0.03911</td>\n",
       "    </tr>\n",
       "    <tr>\n",
       "      <th>POLES ENGAGEEN_INDCi2030_1600</th>\n",
       "      <td>1.831682e+06</td>\n",
       "      <td>299.5</td>\n",
       "      <td>-13354.194626</td>\n",
       "      <td>-29011.297473</td>\n",
       "      <td>-3.028114e+06</td>\n",
       "      <td>2.267354</td>\n",
       "      <td>11099.5</td>\n",
       "      <td>-5.197295e+06</td>\n",
       "      <td>2230.0</td>\n",
       "      <td>0.0</td>\n",
       "      <td>0.022472</td>\n",
       "      <td>0.031478</td>\n",
       "      <td>0.036948</td>\n",
       "      <td>0.039232</td>\n",
       "      <td>0.041273</td>\n",
       "      <td>0.036365</td>\n",
       "      <td>0.021569</td>\n",
       "      <td>0.026281</td>\n",
       "      <td>0.034785</td>\n",
       "      <td>0.03911</td>\n",
       "    </tr>\n",
       "  </tbody>\n",
       "</table>\n",
       "</div>"
      ],
      "text/plain": [
       "                                              cumulative_pos_emms_at_net0  \\\n",
       "ms                                                                          \n",
       "MESSAGEix-GLOBIOM_1.1EN_INDCi2030_1800f_NDCp                 1.827907e+06   \n",
       "POLES ENGAGEEN_INDCi2030_1600                                1.831682e+06   \n",
       "\n",
       "                                              ensemble_member  \\\n",
       "ms                                                              \n",
       "MESSAGEix-GLOBIOM_1.1EN_INDCi2030_1800f_NDCp            299.5   \n",
       "POLES ENGAGEEN_INDCi2030_1600                           299.5   \n",
       "\n",
       "                                              max_assigned_CDR  \\\n",
       "ms                                                               \n",
       "MESSAGEix-GLOBIOM_1.1EN_INDCi2030_1800f_NDCp     -13945.048355   \n",
       "POLES ENGAGEEN_INDCi2030_1600                    -13354.194626   \n",
       "\n",
       "                                              max_deployed_CDR  \\\n",
       "ms                                                               \n",
       "MESSAGEix-GLOBIOM_1.1EN_INDCi2030_1800f_NDCp     -36130.361986   \n",
       "POLES ENGAGEEN_INDCi2030_1600                    -29011.297473   \n",
       "\n",
       "                                              net_CDR_at_15_temp  \\\n",
       "ms                                                                 \n",
       "MESSAGEix-GLOBIOM_1.1EN_INDCi2030_1800f_NDCp       -2.474787e+06   \n",
       "POLES ENGAGEEN_INDCi2030_1600                      -3.028114e+06   \n",
       "\n",
       "                                              peak_warming   run_id  \\\n",
       "ms                                                                    \n",
       "MESSAGEix-GLOBIOM_1.1EN_INDCi2030_1800f_NDCp      2.236562  18899.5   \n",
       "POLES ENGAGEEN_INDCi2030_1600                     2.267354  11099.5   \n",
       "\n",
       "                                                 total_CDR  \\\n",
       "ms                                                           \n",
       "MESSAGEix-GLOBIOM_1.1EN_INDCi2030_1800f_NDCp -5.854744e+06   \n",
       "POLES ENGAGEEN_INDCi2030_1600                -5.197295e+06   \n",
       "\n",
       "                                              year_return_back_below_15_temp  \\\n",
       "ms                                                                             \n",
       "MESSAGEix-GLOBIOM_1.1EN_INDCi2030_1800f_NDCp                          2178.5   \n",
       "POLES ENGAGEEN_INDCi2030_1600                                         2230.0   \n",
       "\n",
       "                                              1750-01-01 00:00:00  \\\n",
       "ms                                                                  \n",
       "MESSAGEix-GLOBIOM_1.1EN_INDCi2030_1800f_NDCp                  0.0   \n",
       "POLES ENGAGEEN_INDCi2030_1600                                 0.0   \n",
       "\n",
       "                                              1751-01-01 00:00:00  \\\n",
       "ms                                                                  \n",
       "MESSAGEix-GLOBIOM_1.1EN_INDCi2030_1800f_NDCp             0.022472   \n",
       "POLES ENGAGEEN_INDCi2030_1600                            0.022472   \n",
       "\n",
       "                                              1752-01-01 00:00:00  \\\n",
       "ms                                                                  \n",
       "MESSAGEix-GLOBIOM_1.1EN_INDCi2030_1800f_NDCp             0.031478   \n",
       "POLES ENGAGEEN_INDCi2030_1600                            0.031478   \n",
       "\n",
       "                                              1753-01-01 00:00:00  \\\n",
       "ms                                                                  \n",
       "MESSAGEix-GLOBIOM_1.1EN_INDCi2030_1800f_NDCp             0.036948   \n",
       "POLES ENGAGEEN_INDCi2030_1600                            0.036948   \n",
       "\n",
       "                                              1754-01-01 00:00:00  \\\n",
       "ms                                                                  \n",
       "MESSAGEix-GLOBIOM_1.1EN_INDCi2030_1800f_NDCp             0.039232   \n",
       "POLES ENGAGEEN_INDCi2030_1600                            0.039232   \n",
       "\n",
       "                                              1755-01-01 00:00:00  \\\n",
       "ms                                                                  \n",
       "MESSAGEix-GLOBIOM_1.1EN_INDCi2030_1800f_NDCp             0.041273   \n",
       "POLES ENGAGEEN_INDCi2030_1600                            0.041273   \n",
       "\n",
       "                                              1756-01-01 00:00:00  \\\n",
       "ms                                                                  \n",
       "MESSAGEix-GLOBIOM_1.1EN_INDCi2030_1800f_NDCp             0.036365   \n",
       "POLES ENGAGEEN_INDCi2030_1600                            0.036365   \n",
       "\n",
       "                                              1757-01-01 00:00:00  \\\n",
       "ms                                                                  \n",
       "MESSAGEix-GLOBIOM_1.1EN_INDCi2030_1800f_NDCp             0.021569   \n",
       "POLES ENGAGEEN_INDCi2030_1600                            0.021569   \n",
       "\n",
       "                                              1758-01-01 00:00:00  \\\n",
       "ms                                                                  \n",
       "MESSAGEix-GLOBIOM_1.1EN_INDCi2030_1800f_NDCp             0.026281   \n",
       "POLES ENGAGEEN_INDCi2030_1600                            0.026281   \n",
       "\n",
       "                                              1759-01-01 00:00:00  \\\n",
       "ms                                                                  \n",
       "MESSAGEix-GLOBIOM_1.1EN_INDCi2030_1800f_NDCp             0.034785   \n",
       "POLES ENGAGEEN_INDCi2030_1600                            0.034785   \n",
       "\n",
       "                                              1760-01-01 00:00:00  \n",
       "ms                                                                 \n",
       "MESSAGEix-GLOBIOM_1.1EN_INDCi2030_1800f_NDCp              0.03911  \n",
       "POLES ENGAGEEN_INDCi2030_1600                             0.03911  "
      ]
     },
     "execution_count": 131,
     "metadata": {},
     "output_type": "execute_result"
    },
    {
     "data": {
      "application/javascript": [
       "\n",
       "            setTimeout(function() {\n",
       "                var nbb_cell_id = 131;\n",
       "                var nbb_unformatted_code = \"search_path = data_sel.groupby(\\\"ms\\\").median()\\nsearch_path[(search_path[\\\"2100_warming\\\"] < 2.3)&(search_path['peak_warming']>1.9)&(search_path['average_cdr_between_peak_and_15_temp']> 20000)].iloc[:, 10:30]\";\n",
       "                var nbb_formatted_code = \"search_path = data_sel.groupby(\\\"ms\\\").median()\\nsearch_path[\\n    (search_path[\\\"2100_warming\\\"] < 2.3)\\n    & (search_path[\\\"peak_warming\\\"] > 1.9)\\n    & (search_path[\\\"average_cdr_between_peak_and_15_temp\\\"] > 20000)\\n].iloc[:, 10:30]\";\n",
       "                var nbb_cells = Jupyter.notebook.get_cells();\n",
       "                for (var i = 0; i < nbb_cells.length; ++i) {\n",
       "                    if (nbb_cells[i].input_prompt_number == nbb_cell_id) {\n",
       "                        if (nbb_cells[i].get_text() == nbb_unformatted_code) {\n",
       "                             nbb_cells[i].set_text(nbb_formatted_code);\n",
       "                        }\n",
       "                        break;\n",
       "                    }\n",
       "                }\n",
       "            }, 500);\n",
       "            "
      ],
      "text/plain": [
       "<IPython.core.display.Javascript object>"
      ]
     },
     "metadata": {},
     "output_type": "display_data"
    }
   ],
   "source": [
    "search_path = data_sel.groupby(\"ms\").median()\n",
    "search_path[(search_path[\"2100_warming\"] < 2.3)&(search_path['peak_warming']>1.9)&(search_path['average_cdr_between_peak_and_15_temp']> 20000)].iloc[:, 10:30]\n"
   ]
  },
  {
   "cell_type": "code",
   "execution_count": 134,
   "id": "e442b26d",
   "metadata": {},
   "outputs": [
    {
     "data": {
      "application/javascript": [
       "\n",
       "            setTimeout(function() {\n",
       "                var nbb_cell_id = 134;\n",
       "                var nbb_unformatted_code = \"ex_pathway = data_sel[(data_sel[\\\"ms\\\"] == \\\"MESSAGEix-GLOBIOM_1.1EN_INDCi2030_1800f_NDCp\\\")]\\n# MESSAGEix-GLOBIOM_1.1EN_INDCi2030_1800f_NDCp\\n# REMIND-MAgPIE 2.1-4.2EN_INDCi2030_2500\\n# WITCH 5.0EN_INDCi2030_2500_NDCp\";\n",
       "                var nbb_formatted_code = \"ex_pathway = data_sel[\\n    (data_sel[\\\"ms\\\"] == \\\"MESSAGEix-GLOBIOM_1.1EN_INDCi2030_1800f_NDCp\\\")\\n]\\n# MESSAGEix-GLOBIOM_1.1EN_INDCi2030_1800f_NDCp\\n# REMIND-MAgPIE 2.1-4.2EN_INDCi2030_2500\\n# WITCH 5.0EN_INDCi2030_2500_NDCp\";\n",
       "                var nbb_cells = Jupyter.notebook.get_cells();\n",
       "                for (var i = 0; i < nbb_cells.length; ++i) {\n",
       "                    if (nbb_cells[i].input_prompt_number == nbb_cell_id) {\n",
       "                        if (nbb_cells[i].get_text() == nbb_unformatted_code) {\n",
       "                             nbb_cells[i].set_text(nbb_formatted_code);\n",
       "                        }\n",
       "                        break;\n",
       "                    }\n",
       "                }\n",
       "            }, 500);\n",
       "            "
      ],
      "text/plain": [
       "<IPython.core.display.Javascript object>"
      ]
     },
     "metadata": {},
     "output_type": "display_data"
    }
   ],
   "source": [
    "ex_pathway = data_sel[\n",
    "    (data_sel[\"ms\"] == \"MESSAGEix-GLOBIOM_1.1EN_INDCi2030_1800f_NDCp\")\n",
    "]\n",
    "# MESSAGEix-GLOBIOM_1.1EN_INDCi2030_1800f_NDCp\n",
    "# REMIND-MAgPIE 2.1-4.2EN_INDCi2030_2500\n",
    "# WITCH 5.0EN_INDCi2030_2500_NDCp"
   ]
  },
  {
   "cell_type": "code",
   "execution_count": 135,
   "id": "734a15f9",
   "metadata": {},
   "outputs": [
    {
     "data": {
      "application/javascript": [
       "\n",
       "            setTimeout(function() {\n",
       "                var nbb_cell_id = 135;\n",
       "                var nbb_unformatted_code = \"ex_pathway_median = ex_pathway.groupby(\\\"variable\\\").median().iloc[:, 277:].T[7:]\\nex_pathway_median[\\\"time\\\"] = time_covered\\n\\nlow_quant_ex = ex_pathway.groupby(\\\"variable\\\").quantile(q=0.05).iloc[:, 277:].T[7:]\\nlow_quant_ex[\\\"time\\\"] = time_covered\\nhigh_quant_ex = ex_pathway.groupby(\\\"variable\\\").quantile(q=0.95).iloc[:, 277:].T[7:]\\nhigh_quant_ex[\\\"time\\\"] = time_covered\";\n",
       "                var nbb_formatted_code = \"ex_pathway_median = ex_pathway.groupby(\\\"variable\\\").median().iloc[:, 277:].T[7:]\\nex_pathway_median[\\\"time\\\"] = time_covered\\n\\nlow_quant_ex = ex_pathway.groupby(\\\"variable\\\").quantile(q=0.05).iloc[:, 277:].T[7:]\\nlow_quant_ex[\\\"time\\\"] = time_covered\\nhigh_quant_ex = ex_pathway.groupby(\\\"variable\\\").quantile(q=0.95).iloc[:, 277:].T[7:]\\nhigh_quant_ex[\\\"time\\\"] = time_covered\";\n",
       "                var nbb_cells = Jupyter.notebook.get_cells();\n",
       "                for (var i = 0; i < nbb_cells.length; ++i) {\n",
       "                    if (nbb_cells[i].input_prompt_number == nbb_cell_id) {\n",
       "                        if (nbb_cells[i].get_text() == nbb_unformatted_code) {\n",
       "                             nbb_cells[i].set_text(nbb_formatted_code);\n",
       "                        }\n",
       "                        break;\n",
       "                    }\n",
       "                }\n",
       "            }, 500);\n",
       "            "
      ],
      "text/plain": [
       "<IPython.core.display.Javascript object>"
      ]
     },
     "metadata": {},
     "output_type": "display_data"
    }
   ],
   "source": [
    "ex_pathway_median = ex_pathway.groupby(\"variable\").median().iloc[:, 277:].T[7:]\n",
    "ex_pathway_median[\"time\"] = time_covered\n",
    "\n",
    "low_quant_ex = ex_pathway.groupby(\"variable\").quantile(q=0.05).iloc[:, 277:].T[7:]\n",
    "low_quant_ex[\"time\"] = time_covered\n",
    "high_quant_ex = ex_pathway.groupby(\"variable\").quantile(q=0.95).iloc[:, 277:].T[7:]\n",
    "high_quant_ex[\"time\"] = time_covered"
   ]
  },
  {
   "cell_type": "code",
   "execution_count": 148,
   "id": "56b0c7cc",
   "metadata": {
    "scrolled": false
   },
   "outputs": [
    {
     "data": {
      "text/plain": [
       "Text(0.5, 0, 'Time')"
      ]
     },
     "execution_count": 148,
     "metadata": {},
     "output_type": "execute_result"
    },
    {
     "data": {
      "image/png": "[encoded data removed]",
      "text/plain": [
       "<Figure size 500x400 with 1 Axes>"
      ]
     },
     "metadata": {},
     "output_type": "display_data"
    },
    {
     "data": {
      "application/javascript": [
       "\n",
       "            setTimeout(function() {\n",
       "                var nbb_cell_id = 148;\n",
       "                var nbb_unformatted_code = \"import seaborn as sns\\n\\n# Temperature pathways of\\nfig, ax = plt.subplots(figsize=(5, 4), frameon=False)\\n\\nsns.lineplot(\\n    data=ex_pathway_median,\\n    x=\\\"time\\\",\\n    y=\\\"Surface Air Temperature Change\\\",\\n    color=\\\"black\\\",\\n    alpha=1,\\n    lw=3,\\n)\\nsns.lineplot(\\n    data=low_quant_ex,\\n    x=\\\"time\\\",\\n    y=\\\"Surface Air Temperature Change\\\",\\n    color=\\\"gray\\\",\\n    alpha=0.4,\\n    lw=2,\\n)\\nsns.lineplot(\\n    data=high_quant_ex,\\n    x=\\\"time\\\",\\n    y=\\\"Surface Air Temperature Change\\\",\\n    color=\\\"gray\\\",\\n    alpha=0.4,\\n    lw=2,\\n)\\nax.fill_between(\\n    low_quant_ex[\\\"time\\\"],\\n    low_quant_ex[\\\"Surface Air Temperature Change\\\"],\\n    high_quant_ex[\\\"Surface Air Temperature Change\\\"],\\n    alpha=0.3,\\n    color=\\\"grey\\\",\\n)\\n\\n\\n# sns.lineplot(\\n#     data=low_quant_path,\\n#     x=\\\"time\\\",\\n#     y=\\\"Surface Air Temperature Change\\\",\\n#     color=\\\"gray\\\",\\n#     alpha=0.3,\\n# )\\n# sns.lineplot(\\n#     data=high_quant_path,\\n#     x=\\\"time\\\",\\n#     y=\\\"Surface Air Temperature Change\\\",\\n#     color=\\\"gray\\\",\\n#     alpha=0.3,\\n# )\\nax.fill_between(\\n    low_quant_path[\\\"time\\\"],\\n    low_quant_path[\\\"Surface Air Temperature Change\\\"],\\n    high_quant_path[\\\"Surface Air Temperature Change\\\"],\\n    alpha=0.2,\\n    color=\\\"grey\\\",\\n)\\n\\n\\nax.hlines(1.5, 2015, 2500, color=\\\"red\\\", ls=\\\"--\\\", lw=2)\\nax.spines[\\\"top\\\"].set_visible(False)\\nax.spines[\\\"right\\\"].set_visible(False)\\nax.set_ylim(0.8, None)\\nplt.ylabel(\\\"[K]\\\")\\n#plt.ylabel(\\\"Surface Air Temperature Change [K]\\\")\\nplt.xlabel(\\\"Time\\\")\\n\\n# plt.title(\\\"Temperature anomaly\\\")\";\n",
       "                var nbb_formatted_code = \"import seaborn as sns\\n\\n# Temperature pathways of\\nfig, ax = plt.subplots(figsize=(5, 4), frameon=False)\\n\\nsns.lineplot(\\n    data=ex_pathway_median,\\n    x=\\\"time\\\",\\n    y=\\\"Surface Air Temperature Change\\\",\\n    color=\\\"black\\\",\\n    alpha=1,\\n    lw=3,\\n)\\nsns.lineplot(\\n    data=low_quant_ex,\\n    x=\\\"time\\\",\\n    y=\\\"Surface Air Temperature Change\\\",\\n    color=\\\"gray\\\",\\n    alpha=0.4,\\n    lw=2,\\n)\\nsns.lineplot(\\n    data=high_quant_ex,\\n    x=\\\"time\\\",\\n    y=\\\"Surface Air Temperature Change\\\",\\n    color=\\\"gray\\\",\\n    alpha=0.4,\\n    lw=2,\\n)\\nax.fill_between(\\n    low_quant_ex[\\\"time\\\"],\\n    low_quant_ex[\\\"Surface Air Temperature Change\\\"],\\n    high_quant_ex[\\\"Surface Air Temperature Change\\\"],\\n    alpha=0.3,\\n    color=\\\"grey\\\",\\n)\\n\\n\\n# sns.lineplot(\\n#     data=low_quant_path,\\n#     x=\\\"time\\\",\\n#     y=\\\"Surface Air Temperature Change\\\",\\n#     color=\\\"gray\\\",\\n#     alpha=0.3,\\n# )\\n# sns.lineplot(\\n#     data=high_quant_path,\\n#     x=\\\"time\\\",\\n#     y=\\\"Surface Air Temperature Change\\\",\\n#     color=\\\"gray\\\",\\n#     alpha=0.3,\\n# )\\nax.fill_between(\\n    low_quant_path[\\\"time\\\"],\\n    low_quant_path[\\\"Surface Air Temperature Change\\\"],\\n    high_quant_path[\\\"Surface Air Temperature Change\\\"],\\n    alpha=0.2,\\n    color=\\\"grey\\\",\\n)\\n\\n\\nax.hlines(1.5, 2015, 2500, color=\\\"red\\\", ls=\\\"--\\\", lw=2)\\nax.spines[\\\"top\\\"].set_visible(False)\\nax.spines[\\\"right\\\"].set_visible(False)\\nax.set_ylim(0.8, None)\\nplt.ylabel(\\\"[K]\\\")\\n# plt.ylabel(\\\"Surface Air Temperature Change [K]\\\")\\nplt.xlabel(\\\"Time\\\")\\n\\n# plt.title(\\\"Temperature anomaly\\\")\";\n",
       "                var nbb_cells = Jupyter.notebook.get_cells();\n",
       "                for (var i = 0; i < nbb_cells.length; ++i) {\n",
       "                    if (nbb_cells[i].input_prompt_number == nbb_cell_id) {\n",
       "                        if (nbb_cells[i].get_text() == nbb_unformatted_code) {\n",
       "                             nbb_cells[i].set_text(nbb_formatted_code);\n",
       "                        }\n",
       "                        break;\n",
       "                    }\n",
       "                }\n",
       "            }, 500);\n",
       "            "
      ],
      "text/plain": [
       "<IPython.core.display.Javascript object>"
      ]
     },
     "metadata": {},
     "output_type": "display_data"
    }
   ],
   "source": [
    "import seaborn as sns\n",
    "\n",
    "# Temperature pathways of\n",
    "fig, ax = plt.subplots(figsize=(5, 4), frameon=False)\n",
    "\n",
    "sns.lineplot(\n",
    "    data=ex_pathway_median,\n",
    "    x=\"time\",\n",
    "    y=\"Surface Air Temperature Change\",\n",
    "    color=\"black\",\n",
    "    alpha=1,\n",
    "    lw=3,\n",
    ")\n",
    "sns.lineplot(\n",
    "    data=low_quant_ex,\n",
    "    x=\"time\",\n",
    "    y=\"Surface Air Temperature Change\",\n",
    "    color=\"gray\",\n",
    "    alpha=0.4,\n",
    "    lw=2,\n",
    ")\n",
    "sns.lineplot(\n",
    "    data=high_quant_ex,\n",
    "    x=\"time\",\n",
    "    y=\"Surface Air Temperature Change\",\n",
    "    color=\"gray\",\n",
    "    alpha=0.4,\n",
    "    lw=2,\n",
    ")\n",
    "ax.fill_between(\n",
    "    low_quant_ex[\"time\"],\n",
    "    low_quant_ex[\"Surface Air Temperature Change\"],\n",
    "    high_quant_ex[\"Surface Air Temperature Change\"],\n",
    "    alpha=0.3,\n",
    "    color=\"grey\",\n",
    ")\n",
    "\n",
    "\n",
    "# sns.lineplot(\n",
    "#     data=low_quant_path,\n",
    "#     x=\"time\",\n",
    "#     y=\"Surface Air Temperature Change\",\n",
    "#     color=\"gray\",\n",
    "#     alpha=0.3,\n",
    "# )\n",
    "# sns.lineplot(\n",
    "#     data=high_quant_path,\n",
    "#     x=\"time\",\n",
    "#     y=\"Surface Air Temperature Change\",\n",
    "#     color=\"gray\",\n",
    "#     alpha=0.3,\n",
    "# )\n",
    "ax.fill_between(\n",
    "    low_quant_path[\"time\"],\n",
    "    low_quant_path[\"Surface Air Temperature Change\"],\n",
    "    high_quant_path[\"Surface Air Temperature Change\"],\n",
    "    alpha=0.2,\n",
    "    color=\"grey\",\n",
    ")\n",
    "\n",
    "\n",
    "ax.hlines(1.5, 2015, 2500, color=\"red\", ls=\"--\", lw=2)\n",
    "ax.spines[\"top\"].set_visible(False)\n",
    "ax.spines[\"right\"].set_visible(False)\n",
    "ax.set_ylim(0.8, None)\n",
    "plt.ylabel(\"[K]\")\n",
    "# plt.ylabel(\"Surface Air Temperature Change [K]\")\n",
    "plt.xlabel(\"Time\")\n",
    "\n",
    "# plt.title(\"Temperature anomaly\")"
   ]
  },
  {
   "cell_type": "code",
   "execution_count": null,
   "id": "54edb26a",
   "metadata": {},
   "outputs": [],
   "source": []
  }
 ],
 "metadata": {
  "kernelspec": {
   "display_name": "Python 3 (ipykernel)",
   "language": "python",
   "name": "python3"
  },
  "language_info": {
   "codemirror_mode": {
    "name": "ipython",
    "version": 3
   },
   "file_extension": ".py",
   "mimetype": "text/x-python",
   "name": "python",
   "nbconvert_exporter": "python",
   "pygments_lexer": "ipython3",
   "version": "3.9.13"
  }
 },
 "nbformat": 4,
 "nbformat_minor": 5
}
