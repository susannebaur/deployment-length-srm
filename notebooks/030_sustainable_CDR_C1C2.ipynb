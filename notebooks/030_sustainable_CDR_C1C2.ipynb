{
 "cells": [
  {
   "cell_type": "markdown",
   "metadata": {},
   "source": [
    "# 030 Get sustainable CDR range from C1- and C2-type pathways \n",
    "\n",
    "The raw data is from IPCC AR6 WGIII (Riahi et al., 2022; Byers et al., 2022).\n",
    "\n",
    "References:\n",
    "\n",
    "> Riahi, K. et al. Mitigation pathways compatible with long-term goals. in IPCC, 2022: Climate Change 2022: Mitigation of Climate Change. Contribution of Working Group III to the Sixth Assessment Report of the Intergovernmental Panel on Climate Change (eds. Shukla, P. R. et al.) (Cambridge University Press, 2022). doi:10.1017/9781009157926.005.\n",
    "\n",
    "> Byers, E. et al. AR6 Scenarios Database. (2022) doi:10.5281/zenodo.5886912."
   ]
  },
  {
   "cell_type": "code",
   "execution_count": 1,
   "metadata": {},
   "outputs": [
    {
     "data": {
      "application/javascript": [
       "if (typeof IPython !== 'undefined') { IPython.OutputArea.prototype._should_scroll = function(lines){ return false; }}"
      ],
      "text/plain": [
       "<IPython.core.display.Javascript object>"
      ]
     },
     "metadata": {},
     "output_type": "display_data"
    }
   ],
   "source": [
    "import pyam\n",
    "import pandas as pd\n",
    "import numpy as np\n",
    "import yaml\n",
    "from pathlib import Path\n",
    "import scmdata\n",
    "\n",
    "import utils"
   ]
  },
  {
   "cell_type": "markdown",
   "metadata": {},
   "source": [
    "# Filter C1 and C2-scenarios from large AR6 database"
   ]
  },
  {
   "cell_type": "markdown",
   "metadata": {},
   "source": [
    "## Read in data"
   ]
  },
  {
   "cell_type": "code",
   "execution_count": 26,
   "metadata": {},
   "outputs": [],
   "source": [
    "data_folder = Path('../data/raw/ar6-wg3/')\n",
    "data_file = Path(data_folder / 'AR6_Scenarios_Database_World_v1.1.csv')\n",
    "meta_file = Path(data_folder / 'AR6_Scenarios_Database_metadata_indicators_v1.1.xlsx')\n",
    "\n",
    "output_folder = Path('../data/interim/ar6-wg3-cdr/')"
   ]
  },
  {
   "cell_type": "code",
   "execution_count": 27,
   "metadata": {},
   "outputs": [
    {
     "name": "stderr",
     "output_type": "stream",
     "text": [
      "pyam.core - INFO: Reading file ../data/raw/ar6-wg3/AR6_Scenarios_Database_World_v1.1.csv\n"
     ]
    }
   ],
   "source": [
    "df_ar6=pyam.IamDataFrame(\n",
    "    data_file\n",
    ")"
   ]
  },
  {
   "cell_type": "code",
   "execution_count": 28,
   "metadata": {},
   "outputs": [
    {
     "name": "stderr",
     "output_type": "stream",
     "text": [
      "pyam.core - INFO: Reading meta indicators for 1202 out of 2298 scenarios\n"
     ]
    }
   ],
   "source": [
    "# Metadata for the scenarios\n",
    "df_ar6.load_meta(\n",
    "    meta_file,\n",
    "    sheet_name='meta_Ch3vetted_withclimate'\n",
    ")"
   ]
  },
  {
   "cell_type": "code",
   "execution_count": 29,
   "metadata": {},
   "outputs": [],
   "source": [
    "df_ar6.filter(\n",
    "    Category=['C2'],\n",
    "    inplace=True\n",
    ")"
   ]
  },
  {
   "cell_type": "code",
   "execution_count": 30,
   "metadata": {
    "scrolled": true
   },
   "outputs": [
    {
     "data": {
      "text/plain": [
       "array(['P2a: Immediate global action without transfers',\n",
       "       'P2: Immediate global action', 'P3b: NDC + Delayed global action',\n",
       "       'P2c: Other policies + Immediate global action',\n",
       "       'P2b: Immediate global action with transfers',\n",
       "       'P0_2 Diagnostic around an immediate action case',\n",
       "       'P3c: Other policies + Delayed global action'], dtype=object)"
      ]
     },
     "execution_count": 30,
     "metadata": {},
     "output_type": "execute_result"
    }
   ],
   "source": [
    "df_ar6.meta.Policy_category_name.unique()"
   ]
  },
  {
   "cell_type": "code",
   "execution_count": 31,
   "metadata": {},
   "outputs": [],
   "source": [
    "df_ar6.to_csv(\n",
    "    Path(output_folder / '0_ar6_C1C2.csv')\n",
    ")"
   ]
  },
  {
   "cell_type": "markdown",
   "metadata": {},
   "source": [
    "# Process CDR data\n",
    "### Set up net-negative AFOLU variable"
   ]
  },
  {
   "cell_type": "code",
   "execution_count": 32,
   "metadata": {},
   "outputs": [],
   "source": [
    "df_ar6_afolu = df_ar6.filter(\n",
    "    variable='Emissions|CO2|AFOLU'\n",
    ")"
   ]
  },
  {
   "cell_type": "markdown",
   "metadata": {},
   "source": [
    "Interpolate for missing 5 year steps"
   ]
  },
  {
   "cell_type": "code",
   "execution_count": 33,
   "metadata": {},
   "outputs": [],
   "source": [
    "df_ar6_afolu.interpolate(\n",
    "    time=range(2010,2105,5),\n",
    "    inplace=True\n",
    ")"
   ]
  },
  {
   "cell_type": "code",
   "execution_count": 34,
   "metadata": {},
   "outputs": [],
   "source": [
    "df_ar6_afolu_ts = df_ar6_afolu.timeseries()"
   ]
  },
  {
   "cell_type": "code",
   "execution_count": 35,
   "metadata": {},
   "outputs": [],
   "source": [
    "df_afolu_nn = (\n",
    "    df_ar6_afolu_ts\n",
    "    .applymap(lambda x: max(0, -x))\n",
    "    .reset_index()\n",
    ")"
   ]
  },
  {
   "cell_type": "code",
   "execution_count": 36,
   "metadata": {},
   "outputs": [],
   "source": [
    "df_afolu_nn['variable'] = 'Carbon Sequestration|AFOLU|Net Negative'"
   ]
  },
  {
   "cell_type": "code",
   "execution_count": 37,
   "metadata": {},
   "outputs": [],
   "source": [
    "df_ar6.append(\n",
    "    pyam.IamDataFrame(\n",
    "        df_afolu_nn\n",
    "    ),\n",
    "    inplace = True\n",
    ")"
   ]
  },
  {
   "cell_type": "markdown",
   "metadata": {},
   "source": [
    "### Correct incorrect sign for some Remind DAC trajectories"
   ]
  },
  {
   "cell_type": "code",
   "execution_count": 38,
   "metadata": {},
   "outputs": [],
   "source": [
    "df_remind_dac = df_ar6.filter(\n",
    "    model = 'REMIND*',\n",
    "    scenario = 'EN*',\n",
    "    variable = 'Carbon Sequestration|Direct Air Capture'\n",
    ")"
   ]
  },
  {
   "cell_type": "code",
   "execution_count": 39,
   "metadata": {},
   "outputs": [],
   "source": [
    "df_remind_dac.convert_unit(\n",
    "    current = 'Mt CO2/yr',\n",
    "    to = 'Mt CO2/yr',\n",
    "    factor = -1,\n",
    "    inplace = True\n",
    ")"
   ]
  },
  {
   "cell_type": "markdown",
   "metadata": {},
   "source": [
    "replace in original data"
   ]
  },
  {
   "cell_type": "code",
   "execution_count": 40,
   "metadata": {},
   "outputs": [],
   "source": [
    "df_ar6.filter(\n",
    "    model = 'REMIND*',\n",
    "    scenario = 'EN*',\n",
    "    variable = 'Carbon Sequestration|Direct Air Capture',\n",
    "    keep = False,\n",
    "    inplace = True\n",
    ")"
   ]
  },
  {
   "cell_type": "code",
   "execution_count": 41,
   "metadata": {},
   "outputs": [],
   "source": [
    "df_ar6.append(\n",
    "    df_remind_dac,\n",
    "    inplace = True\n",
    ")"
   ]
  },
  {
   "cell_type": "code",
   "execution_count": 42,
   "metadata": {},
   "outputs": [],
   "source": [
    "df_ar6_cdr=df_ar6.filter(\n",
    "    variable=[ \n",
    "        'Carbon Sequestration|CCS|Biomass',\n",
    "        'Carbon Sequestration|AFOLU|Net Negative',\n",
    "        'Carbon Sequestration|Direct Air Capture',\n",
    "        'Carbon Sequestration|Enhanced Weathering'\n",
    "    ]\n",
    ")"
   ]
  },
  {
   "cell_type": "code",
   "execution_count": 43,
   "metadata": {},
   "outputs": [],
   "source": [
    "df_ar6_cdr.interpolate(\n",
    "    time=range(2010, 2105,5),\n",
    "    inplace=True\n",
    ")"
   ]
  },
  {
   "cell_type": "markdown",
   "metadata": {},
   "source": [
    "### Create a CDR variable"
   ]
  },
  {
   "cell_type": "code",
   "execution_count": 44,
   "metadata": {},
   "outputs": [],
   "source": [
    "df_ar6_total_cdr = df_ar6_cdr.aggregate(\n",
    "    variable='Carbon Dioxide Removal',\n",
    "    components=[\n",
    "        'Carbon Sequestration|CCS|Biomass',\n",
    "        'Carbon Sequestration|AFOLU|Net Negative',\n",
    "        'Carbon Sequestration|Direct Air Capture',\n",
    "        'Carbon Sequestration|Enhanced Weathering'\n",
    "    ]\n",
    ")"
   ]
  },
  {
   "cell_type": "markdown",
   "metadata": {},
   "source": [
    "### Save to file"
   ]
  },
  {
   "cell_type": "code",
   "execution_count": 45,
   "metadata": {},
   "outputs": [],
   "source": [
    "df_ar6_total_cdr.to_csv(\n",
    "    Path(output_folder / '1_ar6_cdr.csv')\n",
    ")"
   ]
  },
  {
   "cell_type": "code",
   "execution_count": null,
   "metadata": {},
   "outputs": [],
   "source": []
  },
  {
   "cell_type": "code",
   "execution_count": null,
   "metadata": {},
   "outputs": [],
   "source": []
  },
  {
   "cell_type": "code",
   "execution_count": 46,
   "metadata": {},
   "outputs": [],
   "source": [
    "df_ar6.append(\n",
    "    pyam.IamDataFrame(\n",
    "        df_ar6_total_cdr\n",
    "    ),\n",
    "    inplace=True,\n",
    "    ignore_meta_conflict=True\n",
    ")"
   ]
  },
  {
   "cell_type": "markdown",
   "metadata": {},
   "source": [
    "# Set 2100 CDR values to meta column"
   ]
  },
  {
   "cell_type": "code",
   "execution_count": 47,
   "metadata": {},
   "outputs": [],
   "source": [
    "df_ar6.set_meta_from_data(\n",
    "    name='cdr_2100',\n",
    "    variable='Carbon Dioxide Removal',\n",
    "    year=2100\n",
    ")"
   ]
  },
  {
   "cell_type": "code",
   "execution_count": 48,
   "metadata": {},
   "outputs": [],
   "source": [
    "df_ar6.set_meta_from_data(\n",
    "    name='emi_co2_2100',\n",
    "    variable='AR6 climate diagnostics|Infilled|Emissions|CO2',\n",
    "    year=2100\n",
    ")"
   ]
  },
  {
   "cell_type": "code",
   "execution_count": 49,
   "metadata": {},
   "outputs": [
    {
     "data": {
      "text/html": [
       "<div>\n",
       "<style scoped>\n",
       "    .dataframe tbody tr th:only-of-type {\n",
       "        vertical-align: middle;\n",
       "    }\n",
       "\n",
       "    .dataframe tbody tr th {\n",
       "        vertical-align: top;\n",
       "    }\n",
       "\n",
       "    .dataframe thead th {\n",
       "        text-align: right;\n",
       "    }\n",
       "</style>\n",
       "<table border=\"1\" class=\"dataframe\">\n",
       "  <thead>\n",
       "    <tr style=\"text-align: right;\">\n",
       "      <th></th>\n",
       "      <th>cdr_2100</th>\n",
       "      <th>emi_co2_2100</th>\n",
       "    </tr>\n",
       "  </thead>\n",
       "  <tbody>\n",
       "    <tr>\n",
       "      <th>count</th>\n",
       "      <td>133.000000</td>\n",
       "      <td>133.000000</td>\n",
       "    </tr>\n",
       "    <tr>\n",
       "      <th>mean</th>\n",
       "      <td>14321.489202</td>\n",
       "      <td>-12303.154476</td>\n",
       "    </tr>\n",
       "    <tr>\n",
       "      <th>std</th>\n",
       "      <td>7074.721761</td>\n",
       "      <td>5021.422197</td>\n",
       "    </tr>\n",
       "    <tr>\n",
       "      <th>min</th>\n",
       "      <td>-6517.954800</td>\n",
       "      <td>-21722.688129</td>\n",
       "    </tr>\n",
       "    <tr>\n",
       "      <th>25%</th>\n",
       "      <td>11753.264275</td>\n",
       "      <td>-15782.027678</td>\n",
       "    </tr>\n",
       "    <tr>\n",
       "      <th>50%</th>\n",
       "      <td>16193.945667</td>\n",
       "      <td>-12430.507194</td>\n",
       "    </tr>\n",
       "    <tr>\n",
       "      <th>75%</th>\n",
       "      <td>19044.920097</td>\n",
       "      <td>-9608.804982</td>\n",
       "    </tr>\n",
       "    <tr>\n",
       "      <th>max</th>\n",
       "      <td>28776.865479</td>\n",
       "      <td>-295.682656</td>\n",
       "    </tr>\n",
       "  </tbody>\n",
       "</table>\n",
       "</div>"
      ],
      "text/plain": [
       "           cdr_2100  emi_co2_2100\n",
       "count    133.000000    133.000000\n",
       "mean   14321.489202 -12303.154476\n",
       "std     7074.721761   5021.422197\n",
       "min    -6517.954800 -21722.688129\n",
       "25%    11753.264275 -15782.027678\n",
       "50%    16193.945667 -12430.507194\n",
       "75%    19044.920097  -9608.804982\n",
       "max    28776.865479   -295.682656"
      ]
     },
     "execution_count": 49,
     "metadata": {},
     "output_type": "execute_result"
    }
   ],
   "source": [
    "df_ar6.meta[['cdr_2100', 'emi_co2_2100']].describe()"
   ]
  },
  {
   "cell_type": "markdown",
   "metadata": {},
   "source": [
    "#### C1 & C2 pathway: median 14900, max 28800\n",
    "#### C1 pathway only: median 11800, max 20900\n",
    "#### C2 pathway only: median 16200, max 28800"
   ]
  },
  {
   "cell_type": "code",
   "execution_count": null,
   "metadata": {},
   "outputs": [],
   "source": []
  }
 ],
 "metadata": {
  "kernelspec": {
   "display_name": "Python 3 (ipykernel)",
   "language": "python",
   "name": "python3"
  },
  "language_info": {
   "codemirror_mode": {
    "name": "ipython",
    "version": 3
   },
   "file_extension": ".py",
   "mimetype": "text/x-python",
   "name": "python",
   "nbconvert_exporter": "python",
   "pygments_lexer": "ipython3",
   "version": "3.9.13"
  },
  "vscode": {
   "interpreter": {
    "hash": "4aec10b07fc87d2086c30547ebcd8e7282c7510b93ecbbe387e00221956019c9"
   }
  }
 },
 "nbformat": 4,
 "nbformat_minor": 2
}
