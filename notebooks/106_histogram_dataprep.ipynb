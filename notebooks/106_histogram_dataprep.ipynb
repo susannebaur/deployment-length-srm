{
 "cells": [
  {
   "cell_type": "code",
   "execution_count": 43,
   "id": "0db225bb",
   "metadata": {},
   "outputs": [
    {
     "name": "stdout",
     "output_type": "stream",
     "text": [
      "The nb_black extension is already loaded. To reload it, use:\n",
      "  %reload_ext nb_black\n"
     ]
    },
    {
     "data": {
      "application/javascript": [
       "\n",
       "            setTimeout(function() {\n",
       "                var nbb_cell_id = 43;\n",
       "                var nbb_unformatted_code = \"%load_ext nb_black\";\n",
       "                var nbb_formatted_code = \"%load_ext nb_black\";\n",
       "                var nbb_cells = Jupyter.notebook.get_cells();\n",
       "                for (var i = 0; i < nbb_cells.length; ++i) {\n",
       "                    if (nbb_cells[i].input_prompt_number == nbb_cell_id) {\n",
       "                        if (nbb_cells[i].get_text() == nbb_unformatted_code) {\n",
       "                             nbb_cells[i].set_text(nbb_formatted_code);\n",
       "                        }\n",
       "                        break;\n",
       "                    }\n",
       "                }\n",
       "            }, 500);\n",
       "            "
      ],
      "text/plain": [
       "<IPython.core.display.Javascript object>"
      ]
     },
     "metadata": {},
     "output_type": "display_data"
    }
   ],
   "source": [
    "%load_ext nb_black"
   ]
  },
  {
   "cell_type": "code",
   "execution_count": 2,
   "id": "ea04c670",
   "metadata": {},
   "outputs": [
    {
     "data": {
      "application/javascript": [
       "if (typeof IPython !== 'undefined') { IPython.OutputArea.prototype._should_scroll = function(lines){ return false; }}"
      ],
      "text/plain": [
       "<IPython.core.display.Javascript object>"
      ]
     },
     "metadata": {},
     "output_type": "display_data"
    },
    {
     "data": {
      "application/javascript": [
       "\n",
       "            setTimeout(function() {\n",
       "                var nbb_cell_id = 2;\n",
       "                var nbb_unformatted_code = \"from pathlib import Path\\n\\nimport matplotlib.pyplot as plt\\nimport scmdata\\nimport seaborn as sns\\nimport numpy as np\\nimport pandas as pd\\n\\nimport utils\";\n",
       "                var nbb_formatted_code = \"from pathlib import Path\\n\\nimport matplotlib.pyplot as plt\\nimport scmdata\\nimport seaborn as sns\\nimport numpy as np\\nimport pandas as pd\\n\\nimport utils\";\n",
       "                var nbb_cells = Jupyter.notebook.get_cells();\n",
       "                for (var i = 0; i < nbb_cells.length; ++i) {\n",
       "                    if (nbb_cells[i].input_prompt_number == nbb_cell_id) {\n",
       "                        if (nbb_cells[i].get_text() == nbb_unformatted_code) {\n",
       "                             nbb_cells[i].set_text(nbb_formatted_code);\n",
       "                        }\n",
       "                        break;\n",
       "                    }\n",
       "                }\n",
       "            }, 500);\n",
       "            "
      ],
      "text/plain": [
       "<IPython.core.display.Javascript object>"
      ]
     },
     "metadata": {},
     "output_type": "display_data"
    }
   ],
   "source": [
    "from pathlib import Path\n",
    "\n",
    "import matplotlib.pyplot as plt\n",
    "import scmdata\n",
    "import seaborn as sns\n",
    "import numpy as np\n",
    "import pandas as pd\n",
    "\n",
    "import utils"
   ]
  },
  {
   "cell_type": "code",
   "execution_count": 3,
   "id": "e1f235a4",
   "metadata": {},
   "outputs": [
    {
     "data": {
      "application/javascript": [
       "\n",
       "            setTimeout(function() {\n",
       "                var nbb_cell_id = 3;\n",
       "                var nbb_unformatted_code = \"ID = \\\"sb_noSRM_inclu\\\"\";\n",
       "                var nbb_formatted_code = \"ID = \\\"sb_noSRM_inclu\\\"\";\n",
       "                var nbb_cells = Jupyter.notebook.get_cells();\n",
       "                for (var i = 0; i < nbb_cells.length; ++i) {\n",
       "                    if (nbb_cells[i].input_prompt_number == nbb_cell_id) {\n",
       "                        if (nbb_cells[i].get_text() == nbb_unformatted_code) {\n",
       "                             nbb_cells[i].set_text(nbb_formatted_code);\n",
       "                        }\n",
       "                        break;\n",
       "                    }\n",
       "                }\n",
       "            }, 500);\n",
       "            "
      ],
      "text/plain": [
       "<IPython.core.display.Javascript object>"
      ]
     },
     "metadata": {},
     "output_type": "display_data"
    }
   ],
   "source": [
    "ID = \"sb_noSRM_inclu\""
   ]
  },
  {
   "cell_type": "code",
   "execution_count": 4,
   "id": "90ccda21",
   "metadata": {},
   "outputs": [
    {
     "data": {
      "application/javascript": [
       "\n",
       "            setTimeout(function() {\n",
       "                var nbb_cell_id = 4;\n",
       "                var nbb_unformatted_code = \"data = pd.read_csv(\\n    str(Path(utils.DATA_DIR / \\\"interim\\\" / \\\"delta_rf\\\" / f\\\"{ID}_delta-erf_meta.csv\\\"))\\n)\\nOUTPUT_FILE = Path(utils.DATA_DIR / \\\"plotting_data\\\" / \\\"histogram\\\" / f\\\"{ID}.csv\\\")\";\n",
       "                var nbb_formatted_code = \"data = pd.read_csv(\\n    str(Path(utils.DATA_DIR / \\\"interim\\\" / \\\"delta_rf\\\" / f\\\"{ID}_delta-erf_meta.csv\\\"))\\n)\\nOUTPUT_FILE = Path(utils.DATA_DIR / \\\"plotting_data\\\" / \\\"histogram\\\" / f\\\"{ID}.csv\\\")\";\n",
       "                var nbb_cells = Jupyter.notebook.get_cells();\n",
       "                for (var i = 0; i < nbb_cells.length; ++i) {\n",
       "                    if (nbb_cells[i].input_prompt_number == nbb_cell_id) {\n",
       "                        if (nbb_cells[i].get_text() == nbb_unformatted_code) {\n",
       "                             nbb_cells[i].set_text(nbb_formatted_code);\n",
       "                        }\n",
       "                        break;\n",
       "                    }\n",
       "                }\n",
       "            }, 500);\n",
       "            "
      ],
      "text/plain": [
       "<IPython.core.display.Javascript object>"
      ]
     },
     "metadata": {},
     "output_type": "display_data"
    }
   ],
   "source": [
    "data = pd.read_csv(\n",
    "    str(Path(utils.DATA_DIR / \"interim\" / \"delta_rf\" / f\"{ID}_delta-erf_meta.csv\"))\n",
    ")\n",
    "OUTPUT_FILE = Path(utils.DATA_DIR / \"plotting_data\" / \"histogram\" / f\"{ID}.csv\")"
   ]
  },
  {
   "cell_type": "code",
   "execution_count": 46,
   "id": "6989e1eb",
   "metadata": {},
   "outputs": [
    {
     "data": {
      "text/plain": [
       "Index(['2030_warming', '2100_warming', 'SRM_at_first_crossing', 'TCRE',\n",
       "       'average_annual_emissions_2030_net-zero',\n",
       "       'average_cdr_between_net0_and_15', 'climate_model',\n",
       "       'cumulative_emms_15', 'cumulative_emms_net0_to_15',\n",
       "       'cumulative_emms_peak_warming', 'cumulative_emms_peak_warming_to_15',\n",
       "       'cumulative_pos_emms_at_15', 'cumulative_pos_emms_at_net0',\n",
       "       'ensemble_member', 'max_assigned_CDR', 'max_deployed_CDR', 'model',\n",
       "       'ms', 'net-zero_year', 'net_CDR_at_15_temp', 'peak_warming', 'region',\n",
       "       'run_id', 'scenario', 'total_CDR', 'unit', 'variable',\n",
       "       'year_return_back_below_15_temp'],\n",
       "      dtype='object')"
      ]
     },
     "execution_count": 46,
     "metadata": {},
     "output_type": "execute_result"
    },
    {
     "data": {
      "application/javascript": [
       "\n",
       "            setTimeout(function() {\n",
       "                var nbb_cell_id = 46;\n",
       "                var nbb_unformatted_code = \"data.columns\";\n",
       "                var nbb_formatted_code = \"data.columns\";\n",
       "                var nbb_cells = Jupyter.notebook.get_cells();\n",
       "                for (var i = 0; i < nbb_cells.length; ++i) {\n",
       "                    if (nbb_cells[i].input_prompt_number == nbb_cell_id) {\n",
       "                        if (nbb_cells[i].get_text() == nbb_unformatted_code) {\n",
       "                             nbb_cells[i].set_text(nbb_formatted_code);\n",
       "                        }\n",
       "                        break;\n",
       "                    }\n",
       "                }\n",
       "            }, 500);\n",
       "            "
      ],
      "text/plain": [
       "<IPython.core.display.Javascript object>"
      ]
     },
     "metadata": {},
     "output_type": "display_data"
    }
   ],
   "source": [
    "data.columns"
   ]
  },
  {
   "cell_type": "markdown",
   "id": "6b29b410",
   "metadata": {},
   "source": [
    "## Quick plots"
   ]
  },
  {
   "cell_type": "code",
   "execution_count": 47,
   "id": "f93151c3",
   "metadata": {},
   "outputs": [
    {
     "data": {
      "text/html": [
       "<div>\n",
       "<style scoped>\n",
       "    .dataframe tbody tr th:only-of-type {\n",
       "        vertical-align: middle;\n",
       "    }\n",
       "\n",
       "    .dataframe tbody tr th {\n",
       "        vertical-align: top;\n",
       "    }\n",
       "\n",
       "    .dataframe thead th {\n",
       "        text-align: right;\n",
       "    }\n",
       "</style>\n",
       "<table border=\"1\" class=\"dataframe\">\n",
       "  <thead>\n",
       "    <tr style=\"text-align: right;\">\n",
       "      <th></th>\n",
       "      <th>SRM_at_first_crossing</th>\n",
       "      <th>ms</th>\n",
       "      <th>ensemble_member</th>\n",
       "      <th>year_return_back_below_15_temp</th>\n",
       "      <th>2100_warming</th>\n",
       "      <th>max_deployed_CDR</th>\n",
       "      <th>average_cdr_between_net0_and_15</th>\n",
       "    </tr>\n",
       "  </thead>\n",
       "  <tbody>\n",
       "    <tr>\n",
       "      <th>0</th>\n",
       "      <td>327</td>\n",
       "      <td>AIM/CGE 2.1CD-LINKS_INDC2030i_1600</td>\n",
       "      <td>0</td>\n",
       "      <td>2382</td>\n",
       "      <td>2.489039</td>\n",
       "      <td>-13774.970781</td>\n",
       "      <td>12868.518933</td>\n",
       "    </tr>\n",
       "    <tr>\n",
       "      <th>3</th>\n",
       "      <td>309</td>\n",
       "      <td>AIM/CGE 2.1CD-LINKS_NDC2030i_1000</td>\n",
       "      <td>0</td>\n",
       "      <td>2364</td>\n",
       "      <td>2.147834</td>\n",
       "      <td>-22975.485840</td>\n",
       "      <td>17799.101034</td>\n",
       "    </tr>\n",
       "    <tr>\n",
       "      <th>6</th>\n",
       "      <td>169</td>\n",
       "      <td>AIM/CGE 2.2EN_INDCi2030_1000f</td>\n",
       "      <td>0</td>\n",
       "      <td>2213</td>\n",
       "      <td>1.980358</td>\n",
       "      <td>-5639.315272</td>\n",
       "      <td>5754.528269</td>\n",
       "    </tr>\n",
       "    <tr>\n",
       "      <th>9</th>\n",
       "      <td>217</td>\n",
       "      <td>AIM/CGE 2.2EN_INDCi2030_1200</td>\n",
       "      <td>0</td>\n",
       "      <td>2260</td>\n",
       "      <td>2.089920</td>\n",
       "      <td>-3649.715688</td>\n",
       "      <td>2436.594569</td>\n",
       "    </tr>\n",
       "    <tr>\n",
       "      <th>12</th>\n",
       "      <td>180</td>\n",
       "      <td>AIM/CGE 2.2EN_INDCi2030_1200f</td>\n",
       "      <td>0</td>\n",
       "      <td>2224</td>\n",
       "      <td>2.085738</td>\n",
       "      <td>-2576.314430</td>\n",
       "      <td>3350.472297</td>\n",
       "    </tr>\n",
       "  </tbody>\n",
       "</table>\n",
       "</div>"
      ],
      "text/plain": [
       "    SRM_at_first_crossing                                  ms  \\\n",
       "0                     327  AIM/CGE 2.1CD-LINKS_INDC2030i_1600   \n",
       "3                     309   AIM/CGE 2.1CD-LINKS_NDC2030i_1000   \n",
       "6                     169       AIM/CGE 2.2EN_INDCi2030_1000f   \n",
       "9                     217        AIM/CGE 2.2EN_INDCi2030_1200   \n",
       "12                    180       AIM/CGE 2.2EN_INDCi2030_1200f   \n",
       "\n",
       "    ensemble_member  year_return_back_below_15_temp  2100_warming  \\\n",
       "0                 0                            2382      2.489039   \n",
       "3                 0                            2364      2.147834   \n",
       "6                 0                            2213      1.980358   \n",
       "9                 0                            2260      2.089920   \n",
       "12                0                            2224      2.085738   \n",
       "\n",
       "    max_deployed_CDR  average_cdr_between_net0_and_15  \n",
       "0      -13774.970781                     12868.518933  \n",
       "3      -22975.485840                     17799.101034  \n",
       "6       -5639.315272                      5754.528269  \n",
       "9       -3649.715688                      2436.594569  \n",
       "12      -2576.314430                      3350.472297  "
      ]
     },
     "metadata": {},
     "output_type": "display_data"
    },
    {
     "data": {
      "application/javascript": [
       "\n",
       "            setTimeout(function() {\n",
       "                var nbb_cell_id = 47;\n",
       "                var nbb_unformatted_code = \"srm_years_pdf = data[  # .filter(ms=ten_ms)\\n    [\\n        \\\"SRM_at_first_crossing\\\",\\n        \\\"ms\\\",\\n        \\\"ensemble_member\\\",\\n        \\\"year_return_back_below_15_temp\\\",\\n        \\\"2100_warming\\\",\\n        'max_deployed_CDR',\\n        'average_cdr_between_net0_and_15'\\n    ]\\n].drop_duplicates()\\ndisplay(srm_years_pdf.head())\";\n",
       "                var nbb_formatted_code = \"srm_years_pdf = data[  # .filter(ms=ten_ms)\\n    [\\n        \\\"SRM_at_first_crossing\\\",\\n        \\\"ms\\\",\\n        \\\"ensemble_member\\\",\\n        \\\"year_return_back_below_15_temp\\\",\\n        \\\"2100_warming\\\",\\n        \\\"max_deployed_CDR\\\",\\n        \\\"average_cdr_between_net0_and_15\\\",\\n    ]\\n].drop_duplicates()\\ndisplay(srm_years_pdf.head())\";\n",
       "                var nbb_cells = Jupyter.notebook.get_cells();\n",
       "                for (var i = 0; i < nbb_cells.length; ++i) {\n",
       "                    if (nbb_cells[i].input_prompt_number == nbb_cell_id) {\n",
       "                        if (nbb_cells[i].get_text() == nbb_unformatted_code) {\n",
       "                             nbb_cells[i].set_text(nbb_formatted_code);\n",
       "                        }\n",
       "                        break;\n",
       "                    }\n",
       "                }\n",
       "            }, 500);\n",
       "            "
      ],
      "text/plain": [
       "<IPython.core.display.Javascript object>"
      ]
     },
     "metadata": {},
     "output_type": "display_data"
    }
   ],
   "source": [
    "srm_years_pdf = data[  # .filter(ms=ten_ms)\n",
    "    [\n",
    "        \"SRM_at_first_crossing\",\n",
    "        \"ms\",\n",
    "        \"ensemble_member\",\n",
    "        \"year_return_back_below_15_temp\",\n",
    "        \"2100_warming\",\n",
    "        \"max_deployed_CDR\",\n",
    "        \"average_cdr_between_net0_and_15\",\n",
    "    ]\n",
    "].drop_duplicates()\n",
    "display(srm_years_pdf.head())"
   ]
  },
  {
   "cell_type": "markdown",
   "id": "5be7df59",
   "metadata": {},
   "source": [
    "#### How many pathways deploy no SRM"
   ]
  },
  {
   "cell_type": "code",
   "execution_count": 6,
   "id": "fdef7271",
   "metadata": {
    "scrolled": true
   },
   "outputs": [
    {
     "data": {
      "text/plain": [
       "0.0470268972142171"
      ]
     },
     "execution_count": 6,
     "metadata": {},
     "output_type": "execute_result"
    },
    {
     "data": {
      "application/javascript": [
       "\n",
       "            setTimeout(function() {\n",
       "                var nbb_cell_id = 6;\n",
       "                var nbb_unformatted_code = \"srm_years_pdf.year_return_back_below_15_temp.value_counts(normalize=True)[1111]\";\n",
       "                var nbb_formatted_code = \"srm_years_pdf.year_return_back_below_15_temp.value_counts(normalize=True)[1111]\";\n",
       "                var nbb_cells = Jupyter.notebook.get_cells();\n",
       "                for (var i = 0; i < nbb_cells.length; ++i) {\n",
       "                    if (nbb_cells[i].input_prompt_number == nbb_cell_id) {\n",
       "                        if (nbb_cells[i].get_text() == nbb_unformatted_code) {\n",
       "                             nbb_cells[i].set_text(nbb_formatted_code);\n",
       "                        }\n",
       "                        break;\n",
       "                    }\n",
       "                }\n",
       "            }, 500);\n",
       "            "
      ],
      "text/plain": [
       "<IPython.core.display.Javascript object>"
      ]
     },
     "metadata": {},
     "output_type": "display_data"
    }
   ],
   "source": [
    "srm_years_pdf.year_return_back_below_15_temp.value_counts(normalize=True)[1111]"
   ]
  },
  {
   "cell_type": "markdown",
   "id": "4bd3300e",
   "metadata": {},
   "source": [
    "#### How many pathways don't end SRM before 2500"
   ]
  },
  {
   "cell_type": "code",
   "execution_count": 7,
   "id": "a4e51528",
   "metadata": {},
   "outputs": [
    {
     "data": {
      "text/plain": [
       "32199"
      ]
     },
     "execution_count": 7,
     "metadata": {},
     "output_type": "execute_result"
    },
    {
     "data": {
      "application/javascript": [
       "\n",
       "            setTimeout(function() {\n",
       "                var nbb_cell_id = 7;\n",
       "                var nbb_unformatted_code = \"srm_years_pdf.year_return_back_below_15_temp.value_counts()[9999]  # normalize=True\";\n",
       "                var nbb_formatted_code = \"srm_years_pdf.year_return_back_below_15_temp.value_counts()[9999]  # normalize=True\";\n",
       "                var nbb_cells = Jupyter.notebook.get_cells();\n",
       "                for (var i = 0; i < nbb_cells.length; ++i) {\n",
       "                    if (nbb_cells[i].input_prompt_number == nbb_cell_id) {\n",
       "                        if (nbb_cells[i].get_text() == nbb_unformatted_code) {\n",
       "                             nbb_cells[i].set_text(nbb_formatted_code);\n",
       "                        }\n",
       "                        break;\n",
       "                    }\n",
       "                }\n",
       "            }, 500);\n",
       "            "
      ],
      "text/plain": [
       "<IPython.core.display.Javascript object>"
      ]
     },
     "metadata": {},
     "output_type": "display_data"
    }
   ],
   "source": [
    "srm_years_pdf.year_return_back_below_15_temp.value_counts()[9999]  # normalize=True"
   ]
  },
  {
   "cell_type": "code",
   "execution_count": 48,
   "id": "caf7385a",
   "metadata": {},
   "outputs": [
    {
     "data": {
      "application/javascript": [
       "\n",
       "            setTimeout(function() {\n",
       "                var nbb_cell_id = 48;\n",
       "                var nbb_unformatted_code = \"SRM_depl = srm_years_pdf[\\n    (srm_years_pdf[\\\"year_return_back_below_15_temp\\\"] < 9999)\\n    & (srm_years_pdf[\\\"year_return_back_below_15_temp\\\"] > 1111)\\n]\\nnoSRM_depl = srm_years_pdf[(srm_years_pdf[\\\"year_return_back_below_15_temp\\\"] == 1111)]\\nlongSRM_depl = srm_years_pdf[(srm_years_pdf[\\\"year_return_back_below_15_temp\\\"] == 9999)]\";\n",
       "                var nbb_formatted_code = \"SRM_depl = srm_years_pdf[\\n    (srm_years_pdf[\\\"year_return_back_below_15_temp\\\"] < 9999)\\n    & (srm_years_pdf[\\\"year_return_back_below_15_temp\\\"] > 1111)\\n]\\nnoSRM_depl = srm_years_pdf[(srm_years_pdf[\\\"year_return_back_below_15_temp\\\"] == 1111)]\\nlongSRM_depl = srm_years_pdf[(srm_years_pdf[\\\"year_return_back_below_15_temp\\\"] == 9999)]\";\n",
       "                var nbb_cells = Jupyter.notebook.get_cells();\n",
       "                for (var i = 0; i < nbb_cells.length; ++i) {\n",
       "                    if (nbb_cells[i].input_prompt_number == nbb_cell_id) {\n",
       "                        if (nbb_cells[i].get_text() == nbb_unformatted_code) {\n",
       "                             nbb_cells[i].set_text(nbb_formatted_code);\n",
       "                        }\n",
       "                        break;\n",
       "                    }\n",
       "                }\n",
       "            }, 500);\n",
       "            "
      ],
      "text/plain": [
       "<IPython.core.display.Javascript object>"
      ]
     },
     "metadata": {},
     "output_type": "display_data"
    }
   ],
   "source": [
    "SRM_depl = srm_years_pdf[\n",
    "    (srm_years_pdf[\"year_return_back_below_15_temp\"] < 9999)\n",
    "    & (srm_years_pdf[\"year_return_back_below_15_temp\"] > 1111)\n",
    "]\n",
    "noSRM_depl = srm_years_pdf[(srm_years_pdf[\"year_return_back_below_15_temp\"] == 1111)]\n",
    "longSRM_depl = srm_years_pdf[(srm_years_pdf[\"year_return_back_below_15_temp\"] == 9999)]"
   ]
  },
  {
   "cell_type": "code",
   "execution_count": 49,
   "id": "5ff4eafb",
   "metadata": {},
   "outputs": [
    {
     "data": {
      "text/html": [
       "<div>\n",
       "<style scoped>\n",
       "    .dataframe tbody tr th:only-of-type {\n",
       "        vertical-align: middle;\n",
       "    }\n",
       "\n",
       "    .dataframe tbody tr th {\n",
       "        vertical-align: top;\n",
       "    }\n",
       "\n",
       "    .dataframe thead th {\n",
       "        text-align: right;\n",
       "    }\n",
       "</style>\n",
       "<table border=\"1\" class=\"dataframe\">\n",
       "  <thead>\n",
       "    <tr style=\"text-align: right;\">\n",
       "      <th></th>\n",
       "      <th>SRM_at_first_crossing</th>\n",
       "      <th>ensemble_member</th>\n",
       "      <th>year_return_back_below_15_temp</th>\n",
       "      <th>2100_warming</th>\n",
       "      <th>max_deployed_CDR</th>\n",
       "      <th>average_cdr_between_net0_and_15</th>\n",
       "    </tr>\n",
       "  </thead>\n",
       "  <tbody>\n",
       "    <tr>\n",
       "      <th>count</th>\n",
       "      <td>166210.000000</td>\n",
       "      <td>166210.000000</td>\n",
       "      <td>166210.00000</td>\n",
       "      <td>166210.000000</td>\n",
       "      <td>166210.000000</td>\n",
       "      <td>165867.000000</td>\n",
       "    </tr>\n",
       "    <tr>\n",
       "      <th>mean</th>\n",
       "      <td>168.139294</td>\n",
       "      <td>302.657060</td>\n",
       "      <td>2219.13667</td>\n",
       "      <td>2.045834</td>\n",
       "      <td>-12265.522170</td>\n",
       "      <td>9339.375570</td>\n",
       "    </tr>\n",
       "    <tr>\n",
       "      <th>std</th>\n",
       "      <td>105.895122</td>\n",
       "      <td>172.195628</td>\n",
       "      <td>112.96370</td>\n",
       "      <td>0.550061</td>\n",
       "      <td>8467.833206</td>\n",
       "      <td>6581.159745</td>\n",
       "    </tr>\n",
       "    <tr>\n",
       "      <th>min</th>\n",
       "      <td>0.000000</td>\n",
       "      <td>0.000000</td>\n",
       "      <td>2036.00000</td>\n",
       "      <td>0.844996</td>\n",
       "      <td>-39492.245033</td>\n",
       "      <td>0.000000</td>\n",
       "    </tr>\n",
       "    <tr>\n",
       "      <th>25%</th>\n",
       "      <td>84.000000</td>\n",
       "      <td>154.000000</td>\n",
       "      <td>2128.00000</td>\n",
       "      <td>1.646078</td>\n",
       "      <td>-16824.113288</td>\n",
       "      <td>4577.136939</td>\n",
       "    </tr>\n",
       "    <tr>\n",
       "      <th>50%</th>\n",
       "      <td>145.000000</td>\n",
       "      <td>304.000000</td>\n",
       "      <td>2194.00000</td>\n",
       "      <td>1.946224</td>\n",
       "      <td>-11128.945203</td>\n",
       "      <td>8311.822747</td>\n",
       "    </tr>\n",
       "    <tr>\n",
       "      <th>75%</th>\n",
       "      <td>240.000000</td>\n",
       "      <td>453.000000</td>\n",
       "      <td>2295.00000</td>\n",
       "      <td>2.342614</td>\n",
       "      <td>-5976.981783</td>\n",
       "      <td>12688.804509</td>\n",
       "    </tr>\n",
       "    <tr>\n",
       "      <th>max</th>\n",
       "      <td>469.000000</td>\n",
       "      <td>599.000000</td>\n",
       "      <td>2500.00000</td>\n",
       "      <td>5.996979</td>\n",
       "      <td>0.000000</td>\n",
       "      <td>35855.879097</td>\n",
       "    </tr>\n",
       "  </tbody>\n",
       "</table>\n",
       "</div>"
      ],
      "text/plain": [
       "       SRM_at_first_crossing  ensemble_member  year_return_back_below_15_temp  \\\n",
       "count          166210.000000    166210.000000                    166210.00000   \n",
       "mean              168.139294       302.657060                      2219.13667   \n",
       "std               105.895122       172.195628                       112.96370   \n",
       "min                 0.000000         0.000000                      2036.00000   \n",
       "25%                84.000000       154.000000                      2128.00000   \n",
       "50%               145.000000       304.000000                      2194.00000   \n",
       "75%               240.000000       453.000000                      2295.00000   \n",
       "max               469.000000       599.000000                      2500.00000   \n",
       "\n",
       "        2100_warming  max_deployed_CDR  average_cdr_between_net0_and_15  \n",
       "count  166210.000000     166210.000000                    165867.000000  \n",
       "mean        2.045834     -12265.522170                      9339.375570  \n",
       "std         0.550061       8467.833206                      6581.159745  \n",
       "min         0.844996     -39492.245033                         0.000000  \n",
       "25%         1.646078     -16824.113288                      4577.136939  \n",
       "50%         1.946224     -11128.945203                      8311.822747  \n",
       "75%         2.342614      -5976.981783                     12688.804509  \n",
       "max         5.996979          0.000000                     35855.879097  "
      ]
     },
     "execution_count": 49,
     "metadata": {},
     "output_type": "execute_result"
    },
    {
     "data": {
      "application/javascript": [
       "\n",
       "            setTimeout(function() {\n",
       "                var nbb_cell_id = 49;\n",
       "                var nbb_unformatted_code = \"SRM_depl.describe()\";\n",
       "                var nbb_formatted_code = \"SRM_depl.describe()\";\n",
       "                var nbb_cells = Jupyter.notebook.get_cells();\n",
       "                for (var i = 0; i < nbb_cells.length; ++i) {\n",
       "                    if (nbb_cells[i].input_prompt_number == nbb_cell_id) {\n",
       "                        if (nbb_cells[i].get_text() == nbb_unformatted_code) {\n",
       "                             nbb_cells[i].set_text(nbb_formatted_code);\n",
       "                        }\n",
       "                        break;\n",
       "                    }\n",
       "                }\n",
       "            }, 500);\n",
       "            "
      ],
      "text/plain": [
       "<IPython.core.display.Javascript object>"
      ]
     },
     "metadata": {},
     "output_type": "display_data"
    }
   ],
   "source": [
    "SRM_depl.describe()"
   ]
  },
  {
   "cell_type": "code",
   "execution_count": 104,
   "id": "8da3514b",
   "metadata": {},
   "outputs": [
    {
     "data": {
      "text/plain": [
       "1804"
      ]
     },
     "execution_count": 104,
     "metadata": {},
     "output_type": "execute_result"
    },
    {
     "data": {
      "application/javascript": [
       "\n",
       "            setTimeout(function() {\n",
       "                var nbb_cell_id = 104;\n",
       "                var nbb_unformatted_code = \"current_pol = srm_years_pdf[\\n    (srm_years_pdf[\\\"2100_warming\\\"] >= 2.35) & (srm_years_pdf[\\\"2100_warming\\\"] <= 2.45)\\n]\\n# how many current policy scenarios don't end SRM before 2500\\nsrm_years_pdf[\\n    (srm_years_pdf[\\\"2100_warming\\\"] >= 2.35) & (srm_years_pdf[\\\"2100_warming\\\"] <= 2.45)\\n].year_return_back_below_15_temp.value_counts()[9999]\";\n",
       "                var nbb_formatted_code = \"current_pol = srm_years_pdf[\\n    (srm_years_pdf[\\\"2100_warming\\\"] >= 2.35) & (srm_years_pdf[\\\"2100_warming\\\"] <= 2.45)\\n]\\n# how many current policy scenarios don't end SRM before 2500\\nsrm_years_pdf[\\n    (srm_years_pdf[\\\"2100_warming\\\"] >= 2.35) & (srm_years_pdf[\\\"2100_warming\\\"] <= 2.45)\\n].year_return_back_below_15_temp.value_counts()[9999]\";\n",
       "                var nbb_cells = Jupyter.notebook.get_cells();\n",
       "                for (var i = 0; i < nbb_cells.length; ++i) {\n",
       "                    if (nbb_cells[i].input_prompt_number == nbb_cell_id) {\n",
       "                        if (nbb_cells[i].get_text() == nbb_unformatted_code) {\n",
       "                             nbb_cells[i].set_text(nbb_formatted_code);\n",
       "                        }\n",
       "                        break;\n",
       "                    }\n",
       "                }\n",
       "            }, 500);\n",
       "            "
      ],
      "text/plain": [
       "<IPython.core.display.Javascript object>"
      ]
     },
     "metadata": {},
     "output_type": "display_data"
    }
   ],
   "source": [
    "current_pol = srm_years_pdf[\n",
    "    (srm_years_pdf[\"2100_warming\"] >= 2.35) & (srm_years_pdf[\"2100_warming\"] <= 2.45)\n",
    "]\n",
    "# how many current policy scenarios don't end SRM before 2500\n",
    "srm_years_pdf[\n",
    "    (srm_years_pdf[\"2100_warming\"] >= 2.35) & (srm_years_pdf[\"2100_warming\"] <= 2.45)\n",
    "].year_return_back_below_15_temp.value_counts()[9999]"
   ]
  },
  {
   "cell_type": "code",
   "execution_count": 95,
   "id": "07aeed49",
   "metadata": {},
   "outputs": [
    {
     "name": "stdout",
     "output_type": "stream",
     "text": [
      "980\n"
     ]
    },
    {
     "data": {
      "application/javascript": [
       "\n",
       "            setTimeout(function() {\n",
       "                var nbb_cell_id = 95;\n",
       "                var nbb_unformatted_code = \"current_targets = SRM_depl[\\n    (SRM_depl[\\\"2100_warming\\\"] >= 1.75) & (SRM_depl[\\\"2100_warming\\\"] <= 1.85)\\n]\\n# how many current policy scenarios don't end SRM before 2500\\nprint(\\n    srm_years_pdf[\\n        (srm_years_pdf[\\\"2100_warming\\\"] >= 1.95)\\n        & (srm_years_pdf[\\\"2100_warming\\\"] <= 2.05)\\n    ].year_return_back_below_15_temp.value_counts()[9999]\\n)\\n# print(\\n#     srm_years_pdf[\\n#         (srm_years_pdf[\\\"2100_warming\\\"] >= 1.95)\\n#         & (srm_years_pdf[\\\"2100_warming\\\"] <= 2.05)\\n#     ].year_return_back_below_15_temp.value_counts()[1111]\\n# )\";\n",
       "                var nbb_formatted_code = \"current_targets = SRM_depl[\\n    (SRM_depl[\\\"2100_warming\\\"] >= 1.75) & (SRM_depl[\\\"2100_warming\\\"] <= 1.85)\\n]\\n# how many current policy scenarios don't end SRM before 2500\\nprint(\\n    srm_years_pdf[\\n        (srm_years_pdf[\\\"2100_warming\\\"] >= 1.95)\\n        & (srm_years_pdf[\\\"2100_warming\\\"] <= 2.05)\\n    ].year_return_back_below_15_temp.value_counts()[9999]\\n)\\n# print(\\n#     srm_years_pdf[\\n#         (srm_years_pdf[\\\"2100_warming\\\"] >= 1.95)\\n#         & (srm_years_pdf[\\\"2100_warming\\\"] <= 2.05)\\n#     ].year_return_back_below_15_temp.value_counts()[1111]\\n# )\";\n",
       "                var nbb_cells = Jupyter.notebook.get_cells();\n",
       "                for (var i = 0; i < nbb_cells.length; ++i) {\n",
       "                    if (nbb_cells[i].input_prompt_number == nbb_cell_id) {\n",
       "                        if (nbb_cells[i].get_text() == nbb_unformatted_code) {\n",
       "                             nbb_cells[i].set_text(nbb_formatted_code);\n",
       "                        }\n",
       "                        break;\n",
       "                    }\n",
       "                }\n",
       "            }, 500);\n",
       "            "
      ],
      "text/plain": [
       "<IPython.core.display.Javascript object>"
      ]
     },
     "metadata": {},
     "output_type": "display_data"
    }
   ],
   "source": [
    "current_targets = SRM_depl[\n",
    "    (SRM_depl[\"2100_warming\"] >= 1.75) & (SRM_depl[\"2100_warming\"] <= 1.85)\n",
    "]\n",
    "# how many current policy scenarios don't end SRM before 2500\n",
    "print(\n",
    "    srm_years_pdf[\n",
    "        (srm_years_pdf[\"2100_warming\"] >= 1.95)\n",
    "        & (srm_years_pdf[\"2100_warming\"] <= 2.05)\n",
    "    ].year_return_back_below_15_temp.value_counts()[9999]\n",
    ")\n",
    "# print(\n",
    "#     srm_years_pdf[\n",
    "#         (srm_years_pdf[\"2100_warming\"] >= 1.95)\n",
    "#         & (srm_years_pdf[\"2100_warming\"] <= 2.05)\n",
    "#     ].year_return_back_below_15_temp.value_counts()[1111]\n",
    "# )"
   ]
  },
  {
   "cell_type": "code",
   "execution_count": 96,
   "id": "03aeff94",
   "metadata": {
    "scrolled": false
   },
   "outputs": [
    {
     "data": {
      "text/plain": [
       "count    14186.000000\n",
       "mean       155.889609\n",
       "std         81.741189\n",
       "min         21.000000\n",
       "25%         96.000000\n",
       "50%        120.000000\n",
       "75%        195.000000\n",
       "max        460.000000\n",
       "Name: SRM_at_first_crossing, dtype: float64"
      ]
     },
     "execution_count": 96,
     "metadata": {},
     "output_type": "execute_result"
    },
    {
     "data": {
      "application/javascript": [
       "\n",
       "            setTimeout(function() {\n",
       "                var nbb_cell_id = 96;\n",
       "                var nbb_unformatted_code = \"current_targets['SRM_at_first_crossing'].describe()\";\n",
       "                var nbb_formatted_code = \"current_targets[\\\"SRM_at_first_crossing\\\"].describe()\";\n",
       "                var nbb_cells = Jupyter.notebook.get_cells();\n",
       "                for (var i = 0; i < nbb_cells.length; ++i) {\n",
       "                    if (nbb_cells[i].input_prompt_number == nbb_cell_id) {\n",
       "                        if (nbb_cells[i].get_text() == nbb_unformatted_code) {\n",
       "                             nbb_cells[i].set_text(nbb_formatted_code);\n",
       "                        }\n",
       "                        break;\n",
       "                    }\n",
       "                }\n",
       "            }, 500);\n",
       "            "
      ],
      "text/plain": [
       "<IPython.core.display.Javascript object>"
      ]
     },
     "metadata": {},
     "output_type": "display_data"
    }
   ],
   "source": [
    "current_targets[\"SRM_at_first_crossing\"].describe()"
   ]
  },
  {
   "cell_type": "code",
   "execution_count": 101,
   "id": "214966bc",
   "metadata": {},
   "outputs": [
    {
     "data": {
      "application/javascript": [
       "\n",
       "            setTimeout(function() {\n",
       "                var nbb_cell_id = 101;\n",
       "                var nbb_unformatted_code = \"CDR_lim = current_targets[current_targets[\\\"average_cdr_between_net0_and_15\\\"] < 10000]\";\n",
       "                var nbb_formatted_code = \"CDR_lim = current_targets[current_targets[\\\"average_cdr_between_net0_and_15\\\"] < 10000]\";\n",
       "                var nbb_cells = Jupyter.notebook.get_cells();\n",
       "                for (var i = 0; i < nbb_cells.length; ++i) {\n",
       "                    if (nbb_cells[i].input_prompt_number == nbb_cell_id) {\n",
       "                        if (nbb_cells[i].get_text() == nbb_unformatted_code) {\n",
       "                             nbb_cells[i].set_text(nbb_formatted_code);\n",
       "                        }\n",
       "                        break;\n",
       "                    }\n",
       "                }\n",
       "            }, 500);\n",
       "            "
      ],
      "text/plain": [
       "<IPython.core.display.Javascript object>"
      ]
     },
     "metadata": {},
     "output_type": "display_data"
    }
   ],
   "source": [
    "CDR_lim = current_targets[current_targets[\"average_cdr_between_net0_and_15\"] < 10000]"
   ]
  },
  {
   "cell_type": "code",
   "execution_count": 102,
   "id": "eff753f7",
   "metadata": {},
   "outputs": [
    {
     "data": {
      "text/plain": [
       "count    9103.000000\n",
       "mean     5694.637442\n",
       "std      2750.233178\n",
       "min         0.000000\n",
       "25%      3584.321709\n",
       "50%      5833.483346\n",
       "75%      8242.722864\n",
       "max      9997.198124\n",
       "Name: average_cdr_between_net0_and_15, dtype: float64"
      ]
     },
     "execution_count": 102,
     "metadata": {},
     "output_type": "execute_result"
    },
    {
     "data": {
      "application/javascript": [
       "\n",
       "            setTimeout(function() {\n",
       "                var nbb_cell_id = 102;\n",
       "                var nbb_unformatted_code = \"CDR_lim[\\\"average_cdr_between_net0_and_15\\\"].describe()\";\n",
       "                var nbb_formatted_code = \"CDR_lim[\\\"average_cdr_between_net0_and_15\\\"].describe()\";\n",
       "                var nbb_cells = Jupyter.notebook.get_cells();\n",
       "                for (var i = 0; i < nbb_cells.length; ++i) {\n",
       "                    if (nbb_cells[i].input_prompt_number == nbb_cell_id) {\n",
       "                        if (nbb_cells[i].get_text() == nbb_unformatted_code) {\n",
       "                             nbb_cells[i].set_text(nbb_formatted_code);\n",
       "                        }\n",
       "                        break;\n",
       "                    }\n",
       "                }\n",
       "            }, 500);\n",
       "            "
      ],
      "text/plain": [
       "<IPython.core.display.Javascript object>"
      ]
     },
     "metadata": {},
     "output_type": "display_data"
    }
   ],
   "source": [
    "CDR_lim[\"average_cdr_between_net0_and_15\"].describe()"
   ]
  },
  {
   "cell_type": "code",
   "execution_count": 103,
   "id": "ce68e65a",
   "metadata": {},
   "outputs": [
    {
     "data": {
      "text/plain": [
       "count    9103.000000\n",
       "mean      174.821707\n",
       "std        85.114714\n",
       "min        31.000000\n",
       "25%       106.000000\n",
       "50%       143.000000\n",
       "75%       230.000000\n",
       "max       460.000000\n",
       "Name: SRM_at_first_crossing, dtype: float64"
      ]
     },
     "execution_count": 103,
     "metadata": {},
     "output_type": "execute_result"
    },
    {
     "data": {
      "application/javascript": [
       "\n",
       "            setTimeout(function() {\n",
       "                var nbb_cell_id = 103;\n",
       "                var nbb_unformatted_code = \"CDR_lim[\\\"SRM_at_first_crossing\\\"].describe()\";\n",
       "                var nbb_formatted_code = \"CDR_lim[\\\"SRM_at_first_crossing\\\"].describe()\";\n",
       "                var nbb_cells = Jupyter.notebook.get_cells();\n",
       "                for (var i = 0; i < nbb_cells.length; ++i) {\n",
       "                    if (nbb_cells[i].input_prompt_number == nbb_cell_id) {\n",
       "                        if (nbb_cells[i].get_text() == nbb_unformatted_code) {\n",
       "                             nbb_cells[i].set_text(nbb_formatted_code);\n",
       "                        }\n",
       "                        break;\n",
       "                    }\n",
       "                }\n",
       "            }, 500);\n",
       "            "
      ],
      "text/plain": [
       "<IPython.core.display.Javascript object>"
      ]
     },
     "metadata": {},
     "output_type": "display_data"
    }
   ],
   "source": [
    "CDR_lim[\"SRM_at_first_crossing\"].describe()"
   ]
  },
  {
   "cell_type": "code",
   "execution_count": null,
   "id": "106dc6ac",
   "metadata": {},
   "outputs": [],
   "source": []
  },
  {
   "cell_type": "code",
   "execution_count": null,
   "id": "86491c13",
   "metadata": {},
   "outputs": [],
   "source": []
  },
  {
   "cell_type": "code",
   "execution_count": null,
   "id": "8b182a63",
   "metadata": {},
   "outputs": [],
   "source": []
  },
  {
   "cell_type": "code",
   "execution_count": 60,
   "id": "28f468bd",
   "metadata": {},
   "outputs": [
    {
     "data": {
      "image/png": "[encoded data removed]",
      "text/plain": [
       "<Figure size 700x100 with 1 Axes>"
      ]
     },
     "metadata": {},
     "output_type": "display_data"
    },
    {
     "data": {
      "application/javascript": [
       "\n",
       "            setTimeout(function() {\n",
       "                var nbb_cell_id = 60;\n",
       "                var nbb_unformatted_code = \"colors = [\\n    sns.color_palette(\\\"Paired\\\")[0],\\n    sns.color_palette(\\\"Paired\\\")[1],\\n    sns.color_palette(\\\"Paired\\\")[7],\\n    sns.color_palette(\\\"Paired\\\")[2],\\n    sns.color_palette(\\\"Paired\\\")[3],\\n    sns.color_palette(\\\"Paired\\\")[5],\\n    sns.color_palette(\\\"Paired\\\")[10],\\n]\\nsns.palplot(colors)\";\n",
       "                var nbb_formatted_code = \"colors = [\\n    sns.color_palette(\\\"Paired\\\")[0],\\n    sns.color_palette(\\\"Paired\\\")[1],\\n    sns.color_palette(\\\"Paired\\\")[7],\\n    sns.color_palette(\\\"Paired\\\")[2],\\n    sns.color_palette(\\\"Paired\\\")[3],\\n    sns.color_palette(\\\"Paired\\\")[5],\\n    sns.color_palette(\\\"Paired\\\")[10],\\n]\\nsns.palplot(colors)\";\n",
       "                var nbb_cells = Jupyter.notebook.get_cells();\n",
       "                for (var i = 0; i < nbb_cells.length; ++i) {\n",
       "                    if (nbb_cells[i].input_prompt_number == nbb_cell_id) {\n",
       "                        if (nbb_cells[i].get_text() == nbb_unformatted_code) {\n",
       "                             nbb_cells[i].set_text(nbb_formatted_code);\n",
       "                        }\n",
       "                        break;\n",
       "                    }\n",
       "                }\n",
       "            }, 500);\n",
       "            "
      ],
      "text/plain": [
       "<IPython.core.display.Javascript object>"
      ]
     },
     "metadata": {},
     "output_type": "display_data"
    }
   ],
   "source": [
    "colors = [\n",
    "    sns.color_palette(\"Paired\")[0],\n",
    "    sns.color_palette(\"Paired\")[1],\n",
    "    sns.color_palette(\"Paired\")[7],\n",
    "    sns.color_palette(\"Paired\")[2],\n",
    "    sns.color_palette(\"Paired\")[3],\n",
    "    sns.color_palette(\"Paired\")[5],\n",
    "    sns.color_palette(\"Paired\")[10],\n",
    "]\n",
    "sns.palplot(colors)"
   ]
  },
  {
   "cell_type": "code",
   "execution_count": 61,
   "id": "0fdaa1ea",
   "metadata": {},
   "outputs": [
    {
     "data": {
      "text/plain": [
       "<matplotlib.legend.Legend at 0x1708a2e50>"
      ]
     },
     "execution_count": 61,
     "metadata": {},
     "output_type": "execute_result"
    },
    {
     "data": {
      "image/png": "[encoded data removed]",
      "text/plain": [
       "<Figure size 1000x300 with 1 Axes>"
      ]
     },
     "metadata": {},
     "output_type": "display_data"
    },
    {
     "data": {
      "application/javascript": [
       "\n",
       "            setTimeout(function() {\n",
       "                var nbb_cell_id = 61;\n",
       "                var nbb_unformatted_code = \"fig, ax = plt.subplots(figsize=(10, 3))\\n\\nax = sns.histplot(\\n    data=SRM_depl,\\n    x=\\\"SRM_at_first_crossing\\\",\\n    #  hue=\\\"ms\\\",\\n    bins=range(0, 500, 50),\\n    kde=True,\\n    alpha=0.3,\\n    stat=\\\"count\\\",\\n    color=\\\"black\\\",\\n)\\n\\nax = sns.histplot(\\n    data=current_pol,\\n    x=\\\"SRM_at_first_crossing\\\",\\n    #  hue=\\\"ms\\\",\\n    bins=range(0, 500, 50),\\n    kde=False,\\n    stat=\\\"count\\\",\\n    color=\\\"black\\\",\\n    legend=True,\\n    alpha=0.8,\\n)\\nplt.rcParams[\\\"patch.force_edgecolor\\\"] = True\\nax.bar(\\n    -50,\\n    (srm_years_pdf.year_return_back_below_15_temp.value_counts()[1111]),\\n    color=\\\"grey\\\",\\n    alpha=0.2,\\n    width=50,\\n)\\nax.bar(\\n    520,\\n    (srm_years_pdf.year_return_back_below_15_temp.value_counts()[9999]),\\n    color=\\\"grey\\\",\\n    alpha=0.2,\\n    width=50,\\n)\\nax.bar(\\n    520,\\n    (\\n        srm_years_pdf[\\n            (srm_years_pdf[\\\"2100_warming\\\"] >= 2.35)\\n            & (srm_years_pdf[\\\"2100_warming\\\"] <= 2.45)\\n        ].year_return_back_below_15_temp.value_counts()[9999]\\n    ),\\n    color=\\\"black\\\",\\n    alpha=0.7,\\n    width=50,\\n)\\n\\n# plt.text(-60, 0.005, \\\"no SRM\\\", rotation=90)\\n# plt.text(515, 0.005, \\\"SRM deployment exceeds 470 years\\\", rotation=90)\\n# plt.text(490, -0.0125, \\\">470\\\")\\nplt.text(-50, 5000, \\\"no SRM\\\", rotation=0, horizontalalignment=\\\"center\\\")\\nplt.text(\\n    520,\\n    11000,\\n    \\\"SRM deployment \\\\n exceeds 470 years\\\",\\n    rotation=0,\\n    horizontalalignment=\\\"center\\\",\\n)\\nplt.text(500, -3400, \\\">470\\\")\\n\\nplt.xticks(np.arange(0, 470, 100))\\nplt.xlabel(\\\"Years of SRM deployment\\\")\\n\\nax.spines[\\\"top\\\"].set_visible(False)\\nax.spines[\\\"right\\\"].set_visible(False)\\n# ax.spines[\\\"left\\\"].set_visible(False)\\n\\n# add legend\\nax.legend(\\n    labels=[\\n        \\\"\\\",\\n        \\\"all pathways\\\",\\n        \\\"current 2100-warming projection \\\\n for NDCs (2.4\\u00b0C)\\\",\\n    ],\\n    bbox_to_anchor=(0.85, 0.95),\\n    loc=\\\"center right\\\",\\n)\";\n",
       "                var nbb_formatted_code = \"fig, ax = plt.subplots(figsize=(10, 3))\\n\\nax = sns.histplot(\\n    data=SRM_depl,\\n    x=\\\"SRM_at_first_crossing\\\",\\n    #  hue=\\\"ms\\\",\\n    bins=range(0, 500, 50),\\n    kde=True,\\n    alpha=0.3,\\n    stat=\\\"count\\\",\\n    color=\\\"black\\\",\\n)\\n\\nax = sns.histplot(\\n    data=current_pol,\\n    x=\\\"SRM_at_first_crossing\\\",\\n    #  hue=\\\"ms\\\",\\n    bins=range(0, 500, 50),\\n    kde=False,\\n    stat=\\\"count\\\",\\n    color=\\\"black\\\",\\n    legend=True,\\n    alpha=0.8,\\n)\\nplt.rcParams[\\\"patch.force_edgecolor\\\"] = True\\nax.bar(\\n    -50,\\n    (srm_years_pdf.year_return_back_below_15_temp.value_counts()[1111]),\\n    color=\\\"grey\\\",\\n    alpha=0.2,\\n    width=50,\\n)\\nax.bar(\\n    520,\\n    (srm_years_pdf.year_return_back_below_15_temp.value_counts()[9999]),\\n    color=\\\"grey\\\",\\n    alpha=0.2,\\n    width=50,\\n)\\nax.bar(\\n    520,\\n    (\\n        srm_years_pdf[\\n            (srm_years_pdf[\\\"2100_warming\\\"] >= 2.35)\\n            & (srm_years_pdf[\\\"2100_warming\\\"] <= 2.45)\\n        ].year_return_back_below_15_temp.value_counts()[9999]\\n    ),\\n    color=\\\"black\\\",\\n    alpha=0.7,\\n    width=50,\\n)\\n\\n# plt.text(-60, 0.005, \\\"no SRM\\\", rotation=90)\\n# plt.text(515, 0.005, \\\"SRM deployment exceeds 470 years\\\", rotation=90)\\n# plt.text(490, -0.0125, \\\">470\\\")\\nplt.text(-50, 5000, \\\"no SRM\\\", rotation=0, horizontalalignment=\\\"center\\\")\\nplt.text(\\n    520,\\n    11000,\\n    \\\"SRM deployment \\\\n exceeds 470 years\\\",\\n    rotation=0,\\n    horizontalalignment=\\\"center\\\",\\n)\\nplt.text(500, -3400, \\\">470\\\")\\n\\nplt.xticks(np.arange(0, 470, 100))\\nplt.xlabel(\\\"Years of SRM deployment\\\")\\n\\nax.spines[\\\"top\\\"].set_visible(False)\\nax.spines[\\\"right\\\"].set_visible(False)\\n# ax.spines[\\\"left\\\"].set_visible(False)\\n\\n# add legend\\nax.legend(\\n    labels=[\\n        \\\"\\\",\\n        \\\"all pathways\\\",\\n        \\\"current 2100-warming projection \\\\n for NDCs (2.4\\u00b0C)\\\",\\n    ],\\n    bbox_to_anchor=(0.85, 0.95),\\n    loc=\\\"center right\\\",\\n)\";\n",
       "                var nbb_cells = Jupyter.notebook.get_cells();\n",
       "                for (var i = 0; i < nbb_cells.length; ++i) {\n",
       "                    if (nbb_cells[i].input_prompt_number == nbb_cell_id) {\n",
       "                        if (nbb_cells[i].get_text() == nbb_unformatted_code) {\n",
       "                             nbb_cells[i].set_text(nbb_formatted_code);\n",
       "                        }\n",
       "                        break;\n",
       "                    }\n",
       "                }\n",
       "            }, 500);\n",
       "            "
      ],
      "text/plain": [
       "<IPython.core.display.Javascript object>"
      ]
     },
     "metadata": {},
     "output_type": "display_data"
    }
   ],
   "source": [
    "fig, ax = plt.subplots(figsize=(10, 3))\n",
    "\n",
    "ax = sns.histplot(\n",
    "    data=SRM_depl,\n",
    "    x=\"SRM_at_first_crossing\",\n",
    "    #  hue=\"ms\",\n",
    "    bins=range(0, 500, 50),\n",
    "    kde=True,\n",
    "    alpha=0.3,\n",
    "    stat=\"count\",\n",
    "    color=\"black\",\n",
    ")\n",
    "\n",
    "ax = sns.histplot(\n",
    "    data=current_pol,\n",
    "    x=\"SRM_at_first_crossing\",\n",
    "    #  hue=\"ms\",\n",
    "    bins=range(0, 500, 50),\n",
    "    kde=False,\n",
    "    stat=\"count\",\n",
    "    color=\"black\",\n",
    "    legend=True,\n",
    "    alpha=0.8,\n",
    ")\n",
    "plt.rcParams[\"patch.force_edgecolor\"] = True\n",
    "ax.bar(\n",
    "    -50,\n",
    "    (srm_years_pdf.year_return_back_below_15_temp.value_counts()[1111]),\n",
    "    color=\"grey\",\n",
    "    alpha=0.2,\n",
    "    width=50,\n",
    ")\n",
    "ax.bar(\n",
    "    520,\n",
    "    (srm_years_pdf.year_return_back_below_15_temp.value_counts()[9999]),\n",
    "    color=\"grey\",\n",
    "    alpha=0.2,\n",
    "    width=50,\n",
    ")\n",
    "ax.bar(\n",
    "    520,\n",
    "    (\n",
    "        srm_years_pdf[\n",
    "            (srm_years_pdf[\"2100_warming\"] >= 2.35)\n",
    "            & (srm_years_pdf[\"2100_warming\"] <= 2.45)\n",
    "        ].year_return_back_below_15_temp.value_counts()[9999]\n",
    "    ),\n",
    "    color=\"black\",\n",
    "    alpha=0.7,\n",
    "    width=50,\n",
    ")\n",
    "\n",
    "# plt.text(-60, 0.005, \"no SRM\", rotation=90)\n",
    "# plt.text(515, 0.005, \"SRM deployment exceeds 470 years\", rotation=90)\n",
    "# plt.text(490, -0.0125, \">470\")\n",
    "plt.text(-50, 5000, \"no SRM\", rotation=0, horizontalalignment=\"center\")\n",
    "plt.text(\n",
    "    520,\n",
    "    11000,\n",
    "    \"SRM deployment \\n exceeds 470 years\",\n",
    "    rotation=0,\n",
    "    horizontalalignment=\"center\",\n",
    ")\n",
    "plt.text(500, -3400, \">470\")\n",
    "\n",
    "plt.xticks(np.arange(0, 470, 100))\n",
    "plt.xlabel(\"Years of SRM deployment\")\n",
    "\n",
    "ax.spines[\"top\"].set_visible(False)\n",
    "ax.spines[\"right\"].set_visible(False)\n",
    "# ax.spines[\"left\"].set_visible(False)\n",
    "\n",
    "# add legend\n",
    "ax.legend(\n",
    "    labels=[\n",
    "        \"\",\n",
    "        \"all pathways\",\n",
    "        \"current 2100-warming projection \\n for NDCs (2.4°C)\",\n",
    "    ],\n",
    "    bbox_to_anchor=(0.85, 0.95),\n",
    "    loc=\"center right\",\n",
    ")"
   ]
  },
  {
   "cell_type": "code",
   "execution_count": null,
   "id": "9b129a9f",
   "metadata": {},
   "outputs": [],
   "source": []
  }
 ],
 "metadata": {
  "kernelspec": {
   "display_name": "Python 3 (ipykernel)",
   "language": "python",
   "name": "python3"
  },
  "language_info": {
   "codemirror_mode": {
    "name": "ipython",
    "version": 3
   },
   "file_extension": ".py",
   "mimetype": "text/x-python",
   "name": "python",
   "nbconvert_exporter": "python",
   "pygments_lexer": "ipython3",
   "version": "3.9.13"
  }
 },
 "nbformat": 4,
 "nbformat_minor": 5
}
