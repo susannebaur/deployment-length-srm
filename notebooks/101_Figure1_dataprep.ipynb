{
 "cells": [
  {
   "cell_type": "code",
   "execution_count": 1,
   "id": "35ca7ea4",
   "metadata": {},
   "outputs": [
    {
     "data": {
      "application/javascript": [
       "\n",
       "            setTimeout(function() {\n",
       "                var nbb_cell_id = 1;\n",
       "                var nbb_unformatted_code = \"%load_ext nb_black\";\n",
       "                var nbb_formatted_code = \"%load_ext nb_black\";\n",
       "                var nbb_cells = Jupyter.notebook.get_cells();\n",
       "                for (var i = 0; i < nbb_cells.length; ++i) {\n",
       "                    if (nbb_cells[i].input_prompt_number == nbb_cell_id) {\n",
       "                        if (nbb_cells[i].get_text() == nbb_unformatted_code) {\n",
       "                             nbb_cells[i].set_text(nbb_formatted_code);\n",
       "                        }\n",
       "                        break;\n",
       "                    }\n",
       "                }\n",
       "            }, 500);\n",
       "            "
      ],
      "text/plain": [
       "<IPython.core.display.Javascript object>"
      ]
     },
     "metadata": {},
     "output_type": "display_data"
    }
   ],
   "source": [
    "%load_ext nb_black"
   ]
  },
  {
   "cell_type": "code",
   "execution_count": 3,
   "id": "c9b1a2f4",
   "metadata": {},
   "outputs": [
    {
     "data": {
      "application/javascript": [
       "\n",
       "            setTimeout(function() {\n",
       "                var nbb_cell_id = 3;\n",
       "                var nbb_unformatted_code = \"import os.path\\nfrom pathlib import Path\\n\\nimport dotenv\\nimport json\\nimport openscm_runner\\nimport pyam\\nimport scmdata\\nfrom tqdm import tqdm\\nfrom tqdm.autonotebook import tqdm\\nimport numpy as np\\nimport matplotlib.pyplot as plt\\n\\nimport utils\\nfrom openscm_units import unit_registry as ur\\n\\n#warnings.simplefilter(action=\\\"ignore\\\", category=FutureWarning)\";\n",
       "                var nbb_formatted_code = \"import os.path\\nfrom pathlib import Path\\n\\nimport dotenv\\nimport json\\nimport openscm_runner\\nimport pyam\\nimport scmdata\\nfrom tqdm import tqdm\\nfrom tqdm.autonotebook import tqdm\\nimport numpy as np\\nimport matplotlib.pyplot as plt\\n\\nimport utils\\nfrom openscm_units import unit_registry as ur\\n\\n# warnings.simplefilter(action=\\\"ignore\\\", category=FutureWarning)\";\n",
       "                var nbb_cells = Jupyter.notebook.get_cells();\n",
       "                for (var i = 0; i < nbb_cells.length; ++i) {\n",
       "                    if (nbb_cells[i].input_prompt_number == nbb_cell_id) {\n",
       "                        if (nbb_cells[i].get_text() == nbb_unformatted_code) {\n",
       "                             nbb_cells[i].set_text(nbb_formatted_code);\n",
       "                        }\n",
       "                        break;\n",
       "                    }\n",
       "                }\n",
       "            }, 500);\n",
       "            "
      ],
      "text/plain": [
       "<IPython.core.display.Javascript object>"
      ]
     },
     "metadata": {},
     "output_type": "display_data"
    }
   ],
   "source": [
    "import os.path\n",
    "from pathlib import Path\n",
    "\n",
    "import dotenv\n",
    "import json\n",
    "import openscm_runner\n",
    "import pyam\n",
    "import scmdata\n",
    "from tqdm import tqdm\n",
    "from tqdm.autonotebook import tqdm\n",
    "import numpy as np\n",
    "import matplotlib.pyplot as plt\n",
    "\n",
    "import utils\n",
    "from openscm_units import unit_registry as ur\n",
    "\n",
    "# warnings.simplefilter(action=\"ignore\", category=FutureWarning)"
   ]
  },
  {
   "cell_type": "code",
   "execution_count": 8,
   "id": "9572b413",
   "metadata": {},
   "outputs": [
    {
     "data": {
      "application/javascript": [
       "\n",
       "            setTimeout(function() {\n",
       "                var nbb_cell_id = 8;\n",
       "                var nbb_unformatted_code = \"ID = \\\"sb_noSRM_inclu\\\"\";\n",
       "                var nbb_formatted_code = \"ID = \\\"sb_noSRM_inclu\\\"\";\n",
       "                var nbb_cells = Jupyter.notebook.get_cells();\n",
       "                for (var i = 0; i < nbb_cells.length; ++i) {\n",
       "                    if (nbb_cells[i].input_prompt_number == nbb_cell_id) {\n",
       "                        if (nbb_cells[i].get_text() == nbb_unformatted_code) {\n",
       "                             nbb_cells[i].set_text(nbb_formatted_code);\n",
       "                        }\n",
       "                        break;\n",
       "                    }\n",
       "                }\n",
       "            }, 500);\n",
       "            "
      ],
      "text/plain": [
       "<IPython.core.display.Javascript object>"
      ]
     },
     "metadata": {},
     "output_type": "display_data"
    }
   ],
   "source": [
    "ID = \"sb_noSRM_inclu\""
   ]
  },
  {
   "cell_type": "code",
   "execution_count": 9,
   "id": "cfcfe6f3",
   "metadata": {},
   "outputs": [
    {
     "data": {
      "application/javascript": [
       "\n",
       "            setTimeout(function() {\n",
       "                var nbb_cell_id = 9;\n",
       "                var nbb_unformatted_code = \"ar6_wg3_data_dir = utils.DATA_DIR / \\\"raw\\\" / \\\"ar6-wg3\\\"\\nSOURCE_DATA = str(ar6_wg3_data_dir / \\\"ar6emissions_ndc_relscenarios.csv\\\")\\n\\nOUTPUT_FILE = Path(utils.DATA_DIR / \\\"plotting_data\\\" / \\\"figure1\\\" / f\\\"{ID}.csv\\\")\\n\\n\\nwg3_emissions_raw = scmdata.ScmRun(SOURCE_DATA, lowercase_cols=True)\\n# Only keep the infilled stuff, we don't care about harmonised now\\nwg3_emissions_raw = wg3_emissions_raw.filter(variable=\\\"*Infilled*\\\")\";\n",
       "                var nbb_formatted_code = \"ar6_wg3_data_dir = utils.DATA_DIR / \\\"raw\\\" / \\\"ar6-wg3\\\"\\nSOURCE_DATA = str(ar6_wg3_data_dir / \\\"ar6emissions_ndc_relscenarios.csv\\\")\\n\\nOUTPUT_FILE = Path(utils.DATA_DIR / \\\"plotting_data\\\" / \\\"figure1\\\" / f\\\"{ID}.csv\\\")\\n\\n\\nwg3_emissions_raw = scmdata.ScmRun(SOURCE_DATA, lowercase_cols=True)\\n# Only keep the infilled stuff, we don't care about harmonised now\\nwg3_emissions_raw = wg3_emissions_raw.filter(variable=\\\"*Infilled*\\\")\";\n",
       "                var nbb_cells = Jupyter.notebook.get_cells();\n",
       "                for (var i = 0; i < nbb_cells.length; ++i) {\n",
       "                    if (nbb_cells[i].input_prompt_number == nbb_cell_id) {\n",
       "                        if (nbb_cells[i].get_text() == nbb_unformatted_code) {\n",
       "                             nbb_cells[i].set_text(nbb_formatted_code);\n",
       "                        }\n",
       "                        break;\n",
       "                    }\n",
       "                }\n",
       "            }, 500);\n",
       "            "
      ],
      "text/plain": [
       "<IPython.core.display.Javascript object>"
      ]
     },
     "metadata": {},
     "output_type": "display_data"
    }
   ],
   "source": [
    "ar6_wg3_data_dir = utils.DATA_DIR / \"raw\" / \"ar6-wg3\"\n",
    "SOURCE_DATA = str(ar6_wg3_data_dir / \"ar6emissions_ndc_relscenarios.csv\")\n",
    "\n",
    "OUTPUT_FILE = Path(utils.DATA_DIR / \"plotting_data\" / \"figure1\" / f\"{ID}.csv\")\n",
    "\n",
    "\n",
    "wg3_emissions_raw = scmdata.ScmRun(SOURCE_DATA, lowercase_cols=True)\n",
    "# Only keep the infilled stuff, we don't care about harmonised now\n",
    "wg3_emissions_raw = wg3_emissions_raw.filter(variable=\"*Infilled*\")"
   ]
  },
  {
   "cell_type": "code",
   "execution_count": 10,
   "id": "c0aee69c",
   "metadata": {},
   "outputs": [
    {
     "data": {
      "application/javascript": [
       "\n",
       "            setTimeout(function() {\n",
       "                var nbb_cell_id = 10;\n",
       "                var nbb_unformatted_code = \"## filter out fossil and AFOLU CO2; convert from Mt to Gt\\nwg3_emissions_filtered = wg3_emissions_raw.filter(\\n    variable=[\\\"*CO2*Energy*\\\", \\\"*CO2*AFOLU*\\\"]\\n).convert_unit(\\\"Gt CO2/yr\\\")\";\n",
       "                var nbb_formatted_code = \"## filter out fossil and AFOLU CO2; convert from Mt to Gt\\nwg3_emissions_filtered = wg3_emissions_raw.filter(\\n    variable=[\\\"*CO2*Energy*\\\", \\\"*CO2*AFOLU*\\\"]\\n).convert_unit(\\\"Gt CO2/yr\\\")\";\n",
       "                var nbb_cells = Jupyter.notebook.get_cells();\n",
       "                for (var i = 0; i < nbb_cells.length; ++i) {\n",
       "                    if (nbb_cells[i].input_prompt_number == nbb_cell_id) {\n",
       "                        if (nbb_cells[i].get_text() == nbb_unformatted_code) {\n",
       "                             nbb_cells[i].set_text(nbb_formatted_code);\n",
       "                        }\n",
       "                        break;\n",
       "                    }\n",
       "                }\n",
       "            }, 500);\n",
       "            "
      ],
      "text/plain": [
       "<IPython.core.display.Javascript object>"
      ]
     },
     "metadata": {},
     "output_type": "display_data"
    }
   ],
   "source": [
    "## filter out fossil and AFOLU CO2; convert from Mt to Gt\n",
    "wg3_emissions_filtered = wg3_emissions_raw.filter(\n",
    "    variable=[\"*CO2*Energy*\", \"*CO2*AFOLU*\"]\n",
    ").convert_unit(\"Gt CO2/yr\")"
   ]
  },
  {
   "cell_type": "code",
   "execution_count": 11,
   "id": "63da35ed",
   "metadata": {},
   "outputs": [
    {
     "data": {
      "application/javascript": [
       "\n",
       "            setTimeout(function() {\n",
       "                var nbb_cell_id = 11;\n",
       "                var nbb_unformatted_code = \"wg3_emissions_filtered.to_csv(str(OUTPUT_FILE))\";\n",
       "                var nbb_formatted_code = \"wg3_emissions_filtered.to_csv(str(OUTPUT_FILE))\";\n",
       "                var nbb_cells = Jupyter.notebook.get_cells();\n",
       "                for (var i = 0; i < nbb_cells.length; ++i) {\n",
       "                    if (nbb_cells[i].input_prompt_number == nbb_cell_id) {\n",
       "                        if (nbb_cells[i].get_text() == nbb_unformatted_code) {\n",
       "                             nbb_cells[i].set_text(nbb_formatted_code);\n",
       "                        }\n",
       "                        break;\n",
       "                    }\n",
       "                }\n",
       "            }, 500);\n",
       "            "
      ],
      "text/plain": [
       "<IPython.core.display.Javascript object>"
      ]
     },
     "metadata": {},
     "output_type": "display_data"
    }
   ],
   "source": [
    "wg3_emissions_filtered.to_csv(str(OUTPUT_FILE))"
   ]
  },
  {
   "cell_type": "code",
   "execution_count": null,
   "id": "418581db",
   "metadata": {},
   "outputs": [],
   "source": []
  }
 ],
 "metadata": {
  "kernelspec": {
   "display_name": "Python 3 (ipykernel)",
   "language": "python",
   "name": "python3"
  },
  "language_info": {
   "codemirror_mode": {
    "name": "ipython",
    "version": 3
   },
   "file_extension": ".py",
   "mimetype": "text/x-python",
   "name": "python",
   "nbconvert_exporter": "python",
   "pygments_lexer": "ipython3",
   "version": "3.9.13"
  }
 },
 "nbformat": 4,
 "nbformat_minor": 5
}
