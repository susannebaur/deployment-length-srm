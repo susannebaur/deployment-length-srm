{
 "cells": [
  {
   "cell_type": "code",
   "execution_count": 1,
   "id": "baa2de82",
   "metadata": {},
   "outputs": [
    {
     "data": {
      "application/javascript": [
       "\n",
       "            setTimeout(function() {\n",
       "                var nbb_cell_id = 1;\n",
       "                var nbb_unformatted_code = \"%load_ext nb_black\";\n",
       "                var nbb_formatted_code = \"%load_ext nb_black\";\n",
       "                var nbb_cells = Jupyter.notebook.get_cells();\n",
       "                for (var i = 0; i < nbb_cells.length; ++i) {\n",
       "                    if (nbb_cells[i].input_prompt_number == nbb_cell_id) {\n",
       "                        if (nbb_cells[i].get_text() == nbb_unformatted_code) {\n",
       "                             nbb_cells[i].set_text(nbb_formatted_code);\n",
       "                        }\n",
       "                        break;\n",
       "                    }\n",
       "                }\n",
       "            }, 500);\n",
       "            "
      ],
      "text/plain": [
       "<IPython.core.display.Javascript object>"
      ]
     },
     "metadata": {},
     "output_type": "display_data"
    }
   ],
   "source": [
    "%load_ext nb_black"
   ]
  },
  {
   "cell_type": "code",
   "execution_count": 2,
   "id": "7db91422",
   "metadata": {},
   "outputs": [
    {
     "data": {
      "application/javascript": [
       "if (typeof IPython !== 'undefined') { IPython.OutputArea.prototype._should_scroll = function(lines){ return false; }}"
      ],
      "text/plain": [
       "<IPython.core.display.Javascript object>"
      ]
     },
     "metadata": {},
     "output_type": "display_data"
    },
    {
     "data": {
      "application/javascript": [
       "\n",
       "            setTimeout(function() {\n",
       "                var nbb_cell_id = 2;\n",
       "                var nbb_unformatted_code = \"import os.path\\nfrom pathlib import Path\\n\\nimport scmdata\\nimport json\\nimport pyam\\nimport pandas as pd\\nimport numpy as np\\nimport matplotlib.pyplot as plt\\n\\nimport utils\\nimport warnings\\n\\nwarnings.simplefilter(action=\\\"ignore\\\", category=FutureWarning)\";\n",
       "                var nbb_formatted_code = \"import os.path\\nfrom pathlib import Path\\n\\nimport scmdata\\nimport json\\nimport pyam\\nimport pandas as pd\\nimport numpy as np\\nimport matplotlib.pyplot as plt\\n\\nimport utils\\nimport warnings\\n\\nwarnings.simplefilter(action=\\\"ignore\\\", category=FutureWarning)\";\n",
       "                var nbb_cells = Jupyter.notebook.get_cells();\n",
       "                for (var i = 0; i < nbb_cells.length; ++i) {\n",
       "                    if (nbb_cells[i].input_prompt_number == nbb_cell_id) {\n",
       "                        if (nbb_cells[i].get_text() == nbb_unformatted_code) {\n",
       "                             nbb_cells[i].set_text(nbb_formatted_code);\n",
       "                        }\n",
       "                        break;\n",
       "                    }\n",
       "                }\n",
       "            }, 500);\n",
       "            "
      ],
      "text/plain": [
       "<IPython.core.display.Javascript object>"
      ]
     },
     "metadata": {},
     "output_type": "display_data"
    }
   ],
   "source": [
    "import os.path\n",
    "from pathlib import Path\n",
    "\n",
    "import scmdata\n",
    "import json\n",
    "import pyam\n",
    "import pandas as pd\n",
    "import numpy as np\n",
    "import matplotlib.pyplot as plt\n",
    "\n",
    "import utils\n",
    "import warnings\n",
    "\n",
    "warnings.simplefilter(action=\"ignore\", category=FutureWarning)"
   ]
  },
  {
   "cell_type": "code",
   "execution_count": 3,
   "id": "e2c2ad96",
   "metadata": {},
   "outputs": [
    {
     "data": {
      "application/javascript": [
       "\n",
       "            setTimeout(function() {\n",
       "                var nbb_cell_id = 3;\n",
       "                var nbb_unformatted_code = \"ID = \\\"sb_noSRM_inclu\\\"\";\n",
       "                var nbb_formatted_code = \"ID = \\\"sb_noSRM_inclu\\\"\";\n",
       "                var nbb_cells = Jupyter.notebook.get_cells();\n",
       "                for (var i = 0; i < nbb_cells.length; ++i) {\n",
       "                    if (nbb_cells[i].input_prompt_number == nbb_cell_id) {\n",
       "                        if (nbb_cells[i].get_text() == nbb_unformatted_code) {\n",
       "                             nbb_cells[i].set_text(nbb_formatted_code);\n",
       "                        }\n",
       "                        break;\n",
       "                    }\n",
       "                }\n",
       "            }, 500);\n",
       "            "
      ],
      "text/plain": [
       "<IPython.core.display.Javascript object>"
      ]
     },
     "metadata": {},
     "output_type": "display_data"
    }
   ],
   "source": [
    "ID = \"sb_noSRM_inclu\""
   ]
  },
  {
   "cell_type": "code",
   "execution_count": 14,
   "id": "2ef44d0a",
   "metadata": {},
   "outputs": [
    {
     "data": {
      "application/javascript": [
       "\n",
       "            setTimeout(function() {\n",
       "                var nbb_cell_id = 14;\n",
       "                var nbb_unformatted_code = \"data = pd.read_csv(\\n    str(Path(utils.DATA_DIR / \\\"interim\\\" / \\\"delta_rf\\\" / f\\\"{ID}_delta-erf_meta.csv\\\"))\\n)\\nOUTPUT_FILE = Path(utils.DATA_DIR / \\\"plotting_data\\\" / \\\"figure4\\\" / f\\\"{ID}.csv\\\")\";\n",
       "                var nbb_formatted_code = \"data = pd.read_csv(\\n    str(Path(utils.DATA_DIR / \\\"interim\\\" / \\\"delta_rf\\\" / f\\\"{ID}_delta-erf_meta.csv\\\"))\\n)\\nOUTPUT_FILE = Path(utils.DATA_DIR / \\\"plotting_data\\\" / \\\"figure4\\\" / f\\\"{ID}.csv\\\")\";\n",
       "                var nbb_cells = Jupyter.notebook.get_cells();\n",
       "                for (var i = 0; i < nbb_cells.length; ++i) {\n",
       "                    if (nbb_cells[i].input_prompt_number == nbb_cell_id) {\n",
       "                        if (nbb_cells[i].get_text() == nbb_unformatted_code) {\n",
       "                             nbb_cells[i].set_text(nbb_formatted_code);\n",
       "                        }\n",
       "                        break;\n",
       "                    }\n",
       "                }\n",
       "            }, 500);\n",
       "            "
      ],
      "text/plain": [
       "<IPython.core.display.Javascript object>"
      ]
     },
     "metadata": {},
     "output_type": "display_data"
    }
   ],
   "source": [
    "data = pd.read_csv(\n",
    "    str(Path(utils.DATA_DIR / \"interim\" / \"delta_rf\" / f\"{ID}_delta-erf_meta.csv\"))\n",
    ")\n",
    "OUTPUT_FILE = Path(utils.DATA_DIR / \"plotting_data\" / \"figure4\" / f\"{ID}.csv\")"
   ]
  },
  {
   "cell_type": "code",
   "execution_count": 15,
   "id": "f11b8081",
   "metadata": {},
   "outputs": [
    {
     "data": {
      "application/javascript": [
       "\n",
       "            setTimeout(function() {\n",
       "                var nbb_cell_id = 15;\n",
       "                var nbb_unformatted_code = \"data = data[data[\\\"variable\\\"] == \\\"delta_rf\\\"]\";\n",
       "                var nbb_formatted_code = \"data = data[data[\\\"variable\\\"] == \\\"delta_rf\\\"]\";\n",
       "                var nbb_cells = Jupyter.notebook.get_cells();\n",
       "                for (var i = 0; i < nbb_cells.length; ++i) {\n",
       "                    if (nbb_cells[i].input_prompt_number == nbb_cell_id) {\n",
       "                        if (nbb_cells[i].get_text() == nbb_unformatted_code) {\n",
       "                             nbb_cells[i].set_text(nbb_formatted_code);\n",
       "                        }\n",
       "                        break;\n",
       "                    }\n",
       "                }\n",
       "            }, 500);\n",
       "            "
      ],
      "text/plain": [
       "<IPython.core.display.Javascript object>"
      ]
     },
     "metadata": {},
     "output_type": "display_data"
    }
   ],
   "source": [
    "data = data[data[\"variable\"] == \"delta_rf\"]"
   ]
  },
  {
   "cell_type": "code",
   "execution_count": 16,
   "id": "cb54b694",
   "metadata": {},
   "outputs": [
    {
     "data": {
      "application/javascript": [
       "\n",
       "            setTimeout(function() {\n",
       "                var nbb_cell_id = 16;\n",
       "                var nbb_unformatted_code = \"data.drop(\\\"run_id\\\", axis=1, inplace=True)\";\n",
       "                var nbb_formatted_code = \"data.drop(\\\"run_id\\\", axis=1, inplace=True)\";\n",
       "                var nbb_cells = Jupyter.notebook.get_cells();\n",
       "                for (var i = 0; i < nbb_cells.length; ++i) {\n",
       "                    if (nbb_cells[i].input_prompt_number == nbb_cell_id) {\n",
       "                        if (nbb_cells[i].get_text() == nbb_unformatted_code) {\n",
       "                             nbb_cells[i].set_text(nbb_formatted_code);\n",
       "                        }\n",
       "                        break;\n",
       "                    }\n",
       "                }\n",
       "            }, 500);\n",
       "            "
      ],
      "text/plain": [
       "<IPython.core.display.Javascript object>"
      ]
     },
     "metadata": {},
     "output_type": "display_data"
    }
   ],
   "source": [
    "data.drop(\"run_id\", axis=1, inplace=True)"
   ]
  },
  {
   "cell_type": "markdown",
   "id": "0ec16132",
   "metadata": {},
   "source": [
    "Filter out pathways that have not reached net-zero by 2500"
   ]
  },
  {
   "cell_type": "code",
   "execution_count": 17,
   "id": "4060df0c",
   "metadata": {},
   "outputs": [
    {
     "data": {
      "application/javascript": [
       "\n",
       "            setTimeout(function() {\n",
       "                var nbb_cell_id = 17;\n",
       "                var nbb_unformatted_code = \"data = data[\\n    (data[\\\"year_return_back_below_15_temp\\\"] < 2501)\\n    & (data[\\\"year_return_back_below_15_temp\\\"] > 2029)\\n]\";\n",
       "                var nbb_formatted_code = \"data = data[\\n    (data[\\\"year_return_back_below_15_temp\\\"] < 2501)\\n    & (data[\\\"year_return_back_below_15_temp\\\"] > 2029)\\n]\";\n",
       "                var nbb_cells = Jupyter.notebook.get_cells();\n",
       "                for (var i = 0; i < nbb_cells.length; ++i) {\n",
       "                    if (nbb_cells[i].input_prompt_number == nbb_cell_id) {\n",
       "                        if (nbb_cells[i].get_text() == nbb_unformatted_code) {\n",
       "                             nbb_cells[i].set_text(nbb_formatted_code);\n",
       "                        }\n",
       "                        break;\n",
       "                    }\n",
       "                }\n",
       "            }, 500);\n",
       "            "
      ],
      "text/plain": [
       "<IPython.core.display.Javascript object>"
      ]
     },
     "metadata": {},
     "output_type": "display_data"
    }
   ],
   "source": [
    "data = data[\n",
    "    (data[\"year_return_back_below_15_temp\"] < 2501)\n",
    "    & (data[\"year_return_back_below_15_temp\"] > 2029)\n",
    "]"
   ]
  },
  {
   "cell_type": "markdown",
   "id": "36d66b83",
   "metadata": {},
   "source": [
    "Select relevant columns"
   ]
  },
  {
   "cell_type": "code",
   "execution_count": 18,
   "id": "2617aca9",
   "metadata": {},
   "outputs": [
    {
     "data": {
      "text/plain": [
       "Index(['2030_warming', '2100_warming', '2500_warming', 'SRM_at_first_crossing',\n",
       "       'TCRE', 'average_annual_emissions_2030_net-zero',\n",
       "       'average_cdr_between_net0_and_15', 'climate_model',\n",
       "       'cumulative_emms_15', 'cumulative_emms_net0_to_15',\n",
       "       'cumulative_emms_peak_warming', 'cumulative_emms_peak_warming_to_15',\n",
       "       'cumulative_pos_emms_at_15', 'cumulative_pos_emms_at_net0',\n",
       "       'ensemble_member', 'max_assigned_CDR', 'max_deployed_CDR', 'model',\n",
       "       'ms', 'net-zero_year', 'net_CDR_at_15_temp', 'peak_warming', 'region',\n",
       "       'scenario', 'total_CDR', 'unit', 'variable',\n",
       "       'year_return_back_below_15_temp'],\n",
       "      dtype='object')"
      ]
     },
     "execution_count": 18,
     "metadata": {},
     "output_type": "execute_result"
    },
    {
     "data": {
      "application/javascript": [
       "\n",
       "            setTimeout(function() {\n",
       "                var nbb_cell_id = 18;\n",
       "                var nbb_unformatted_code = \"data.columns\";\n",
       "                var nbb_formatted_code = \"data.columns\";\n",
       "                var nbb_cells = Jupyter.notebook.get_cells();\n",
       "                for (var i = 0; i < nbb_cells.length; ++i) {\n",
       "                    if (nbb_cells[i].input_prompt_number == nbb_cell_id) {\n",
       "                        if (nbb_cells[i].get_text() == nbb_unformatted_code) {\n",
       "                             nbb_cells[i].set_text(nbb_formatted_code);\n",
       "                        }\n",
       "                        break;\n",
       "                    }\n",
       "                }\n",
       "            }, 500);\n",
       "            "
      ],
      "text/plain": [
       "<IPython.core.display.Javascript object>"
      ]
     },
     "metadata": {},
     "output_type": "display_data"
    }
   ],
   "source": [
    "data.columns"
   ]
  },
  {
   "cell_type": "code",
   "execution_count": 19,
   "id": "d6f1532f",
   "metadata": {},
   "outputs": [
    {
     "data": {
      "application/javascript": [
       "\n",
       "            setTimeout(function() {\n",
       "                var nbb_cell_id = 19;\n",
       "                var nbb_unformatted_code = \"data_sel = data.filter(\\n    [\\n        \\\"ms\\\",\\n        \\\"ensemble_member\\\",\\n        \\\"SRM_at_first_crossing\\\",\\n        \\\"cumulative_pos_emms_at_net0\\\",\\n        \\\"max_assigned_CDR\\\",\\n        \\\"average_cdr_between_net0_and_15\\\",\\n        \\\"max_deployed_CDR\\\",\\n    ],\\n    axis=1,  # add TCRE\\n).reset_index(drop=True)\";\n",
       "                var nbb_formatted_code = \"data_sel = data.filter(\\n    [\\n        \\\"ms\\\",\\n        \\\"ensemble_member\\\",\\n        \\\"SRM_at_first_crossing\\\",\\n        \\\"cumulative_pos_emms_at_net0\\\",\\n        \\\"max_assigned_CDR\\\",\\n        \\\"average_cdr_between_net0_and_15\\\",\\n        \\\"max_deployed_CDR\\\",\\n    ],\\n    axis=1,  # add TCRE\\n).reset_index(drop=True)\";\n",
       "                var nbb_cells = Jupyter.notebook.get_cells();\n",
       "                for (var i = 0; i < nbb_cells.length; ++i) {\n",
       "                    if (nbb_cells[i].input_prompt_number == nbb_cell_id) {\n",
       "                        if (nbb_cells[i].get_text() == nbb_unformatted_code) {\n",
       "                             nbb_cells[i].set_text(nbb_formatted_code);\n",
       "                        }\n",
       "                        break;\n",
       "                    }\n",
       "                }\n",
       "            }, 500);\n",
       "            "
      ],
      "text/plain": [
       "<IPython.core.display.Javascript object>"
      ]
     },
     "metadata": {},
     "output_type": "display_data"
    }
   ],
   "source": [
    "data_sel = data.filter(\n",
    "    [\n",
    "        \"ms\",\n",
    "        \"ensemble_member\",\n",
    "        \"SRM_at_first_crossing\",\n",
    "        \"cumulative_pos_emms_at_net0\",\n",
    "        \"max_assigned_CDR\",\n",
    "        \"average_cdr_between_net0_and_15\",\n",
    "        \"max_deployed_CDR\",\n",
    "    ],\n",
    "    axis=1,  # add TCRE\n",
    ").reset_index(drop=True)"
   ]
  },
  {
   "cell_type": "markdown",
   "id": "d327a146",
   "metadata": {},
   "source": [
    "Convert unit"
   ]
  },
  {
   "cell_type": "code",
   "execution_count": 21,
   "id": "64e69338",
   "metadata": {},
   "outputs": [
    {
     "data": {
      "application/javascript": [
       "\n",
       "            setTimeout(function() {\n",
       "                var nbb_cell_id = 21;\n",
       "                var nbb_unformatted_code = \"data_sel[\\\"average_cdr_between_net0_and_15\\\"] = data_sel[\\\"average_cdr_between_net0_and_15\\\"] / 1000\\ndata_sel[\\\"max_assigned_CDR\\\"] = (data_sel[\\\"max_assigned_CDR\\\"] / 1000) * (-1)\\ndata_sel[\\\"max_deployed_CDR\\\"] = (data_sel[\\\"max_deployed_CDR\\\"] / 1000) * (-1)\\ndata_sel[\\\"cumulative_pos_emms_at_net0\\\"] = data_sel[\\\"cumulative_pos_emms_at_net0\\\"] / 1000\";\n",
       "                var nbb_formatted_code = \"data_sel[\\\"average_cdr_between_net0_and_15\\\"] = (\\n    data_sel[\\\"average_cdr_between_net0_and_15\\\"] / 1000\\n)\\ndata_sel[\\\"max_assigned_CDR\\\"] = (data_sel[\\\"max_assigned_CDR\\\"] / 1000) * (-1)\\ndata_sel[\\\"max_deployed_CDR\\\"] = (data_sel[\\\"max_deployed_CDR\\\"] / 1000) * (-1)\\ndata_sel[\\\"cumulative_pos_emms_at_net0\\\"] = data_sel[\\\"cumulative_pos_emms_at_net0\\\"] / 1000\";\n",
       "                var nbb_cells = Jupyter.notebook.get_cells();\n",
       "                for (var i = 0; i < nbb_cells.length; ++i) {\n",
       "                    if (nbb_cells[i].input_prompt_number == nbb_cell_id) {\n",
       "                        if (nbb_cells[i].get_text() == nbb_unformatted_code) {\n",
       "                             nbb_cells[i].set_text(nbb_formatted_code);\n",
       "                        }\n",
       "                        break;\n",
       "                    }\n",
       "                }\n",
       "            }, 500);\n",
       "            "
      ],
      "text/plain": [
       "<IPython.core.display.Javascript object>"
      ]
     },
     "metadata": {},
     "output_type": "display_data"
    }
   ],
   "source": [
    "data_sel[\"average_cdr_between_net0_and_15\"] = (\n",
    "    data_sel[\"average_cdr_between_net0_and_15\"] / 1000\n",
    ")\n",
    "data_sel[\"max_assigned_CDR\"] = (data_sel[\"max_assigned_CDR\"] / 1000) * (-1)\n",
    "data_sel[\"max_deployed_CDR\"] = (data_sel[\"max_deployed_CDR\"] / 1000) * (-1)\n",
    "data_sel[\"cumulative_pos_emms_at_net0\"] = data_sel[\"cumulative_pos_emms_at_net0\"] / 1000"
   ]
  },
  {
   "cell_type": "markdown",
   "id": "919281b2",
   "metadata": {},
   "source": [
    "Save"
   ]
  },
  {
   "cell_type": "code",
   "execution_count": 22,
   "id": "126bf25c",
   "metadata": {},
   "outputs": [
    {
     "data": {
      "application/javascript": [
       "\n",
       "            setTimeout(function() {\n",
       "                var nbb_cell_id = 22;\n",
       "                var nbb_unformatted_code = \"data_sel.to_csv(OUTPUT_FILE)\";\n",
       "                var nbb_formatted_code = \"data_sel.to_csv(OUTPUT_FILE)\";\n",
       "                var nbb_cells = Jupyter.notebook.get_cells();\n",
       "                for (var i = 0; i < nbb_cells.length; ++i) {\n",
       "                    if (nbb_cells[i].input_prompt_number == nbb_cell_id) {\n",
       "                        if (nbb_cells[i].get_text() == nbb_unformatted_code) {\n",
       "                             nbb_cells[i].set_text(nbb_formatted_code);\n",
       "                        }\n",
       "                        break;\n",
       "                    }\n",
       "                }\n",
       "            }, 500);\n",
       "            "
      ],
      "text/plain": [
       "<IPython.core.display.Javascript object>"
      ]
     },
     "metadata": {},
     "output_type": "display_data"
    }
   ],
   "source": [
    "data_sel.to_csv(OUTPUT_FILE)"
   ]
  },
  {
   "cell_type": "code",
   "execution_count": null,
   "id": "f597d18f",
   "metadata": {},
   "outputs": [],
   "source": []
  }
 ],
 "metadata": {
  "kernelspec": {
   "display_name": "Python 3 (ipykernel)",
   "language": "python",
   "name": "python3"
  },
  "language_info": {
   "codemirror_mode": {
    "name": "ipython",
    "version": 3
   },
   "file_extension": ".py",
   "mimetype": "text/x-python",
   "name": "python",
   "nbconvert_exporter": "python",
   "pygments_lexer": "ipython3",
   "version": "3.9.13"
  }
 },
 "nbformat": 4,
 "nbformat_minor": 5
}
