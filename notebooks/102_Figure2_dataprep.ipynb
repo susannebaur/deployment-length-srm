{
 "cells": [
  {
   "cell_type": "code",
   "execution_count": 42,
   "id": "a2ca60d1",
   "metadata": {},
   "outputs": [
    {
     "name": "stdout",
     "output_type": "stream",
     "text": [
      "The nb_black extension is already loaded. To reload it, use:\n",
      "  %reload_ext nb_black\n"
     ]
    },
    {
     "data": {
      "application/javascript": [
       "\n",
       "            setTimeout(function() {\n",
       "                var nbb_cell_id = 42;\n",
       "                var nbb_unformatted_code = \"%load_ext nb_black\";\n",
       "                var nbb_formatted_code = \"%load_ext nb_black\";\n",
       "                var nbb_cells = Jupyter.notebook.get_cells();\n",
       "                for (var i = 0; i < nbb_cells.length; ++i) {\n",
       "                    if (nbb_cells[i].input_prompt_number == nbb_cell_id) {\n",
       "                        if (nbb_cells[i].get_text() == nbb_unformatted_code) {\n",
       "                             nbb_cells[i].set_text(nbb_formatted_code);\n",
       "                        }\n",
       "                        break;\n",
       "                    }\n",
       "                }\n",
       "            }, 500);\n",
       "            "
      ],
      "text/plain": [
       "<IPython.core.display.Javascript object>"
      ]
     },
     "metadata": {},
     "output_type": "display_data"
    }
   ],
   "source": [
    "%load_ext nb_black"
   ]
  },
  {
   "cell_type": "code",
   "execution_count": 43,
   "id": "60e5a096",
   "metadata": {},
   "outputs": [
    {
     "data": {
      "application/javascript": [
       "\n",
       "            setTimeout(function() {\n",
       "                var nbb_cell_id = 43;\n",
       "                var nbb_unformatted_code = \"import os.path\\nfrom pathlib import Path\\n\\nimport json\\nimport pyam\\nimport pandas as pd\\nimport numpy as np\\n\\nimport utils\\nimport warnings\\n\\nwarnings.simplefilter(action=\\\"ignore\\\", category=FutureWarning)\";\n",
       "                var nbb_formatted_code = \"import os.path\\nfrom pathlib import Path\\n\\nimport json\\nimport pyam\\nimport pandas as pd\\nimport numpy as np\\n\\nimport utils\\nimport warnings\\n\\nwarnings.simplefilter(action=\\\"ignore\\\", category=FutureWarning)\";\n",
       "                var nbb_cells = Jupyter.notebook.get_cells();\n",
       "                for (var i = 0; i < nbb_cells.length; ++i) {\n",
       "                    if (nbb_cells[i].input_prompt_number == nbb_cell_id) {\n",
       "                        if (nbb_cells[i].get_text() == nbb_unformatted_code) {\n",
       "                             nbb_cells[i].set_text(nbb_formatted_code);\n",
       "                        }\n",
       "                        break;\n",
       "                    }\n",
       "                }\n",
       "            }, 500);\n",
       "            "
      ],
      "text/plain": [
       "<IPython.core.display.Javascript object>"
      ]
     },
     "metadata": {},
     "output_type": "display_data"
    }
   ],
   "source": [
    "import os.path\n",
    "from pathlib import Path\n",
    "\n",
    "import json\n",
    "import pyam\n",
    "import pandas as pd\n",
    "import numpy as np\n",
    "\n",
    "import utils\n",
    "import warnings\n",
    "\n",
    "warnings.simplefilter(action=\"ignore\", category=FutureWarning)"
   ]
  },
  {
   "cell_type": "code",
   "execution_count": 44,
   "id": "ccad8fb2",
   "metadata": {},
   "outputs": [
    {
     "data": {
      "application/javascript": [
       "\n",
       "            setTimeout(function() {\n",
       "                var nbb_cell_id = 44;\n",
       "                var nbb_unformatted_code = \"ID = \\\"sb_noSRM_inclu\\\"\";\n",
       "                var nbb_formatted_code = \"ID = \\\"sb_noSRM_inclu\\\"\";\n",
       "                var nbb_cells = Jupyter.notebook.get_cells();\n",
       "                for (var i = 0; i < nbb_cells.length; ++i) {\n",
       "                    if (nbb_cells[i].input_prompt_number == nbb_cell_id) {\n",
       "                        if (nbb_cells[i].get_text() == nbb_unformatted_code) {\n",
       "                             nbb_cells[i].set_text(nbb_formatted_code);\n",
       "                        }\n",
       "                        break;\n",
       "                    }\n",
       "                }\n",
       "            }, 500);\n",
       "            "
      ],
      "text/plain": [
       "<IPython.core.display.Javascript object>"
      ]
     },
     "metadata": {},
     "output_type": "display_data"
    }
   ],
   "source": [
    "ID = \"sb_noSRM_inclu\""
   ]
  },
  {
   "cell_type": "code",
   "execution_count": 45,
   "id": "76545c94",
   "metadata": {},
   "outputs": [
    {
     "data": {
      "application/javascript": [
       "\n",
       "            setTimeout(function() {\n",
       "                var nbb_cell_id = 45;\n",
       "                var nbb_unformatted_code = \"data = pd.read_csv(\\n    str(\\n        Path(\\n            utils.DATA_DIR\\n            / \\\"interim\\\"\\n            / \\\"delta_rf\\\"\\n            / f\\\"{ID}_delta-erf_meta_TCRE_ratio.csv\\\"\\n        )\\n    )\\n)\\n# data_ = pd.read_csv(\\n#     str(Path(utils.DATA_DIR / \\\"interim\\\" / \\\"delta_rf\\\" / f\\\"{ID}_delta-erf.csv\\\"))\\n# )\\n\\nOUTPUT_FILE = Path(utils.DATA_DIR / \\\"plotting_data\\\" / \\\"figure2\\\" / f\\\"{ID}.csv\\\")\\nOUTPUT_FILE_MEDIAN = Path(\\n    utils.DATA_DIR / \\\"plotting_data\\\" / \\\"figure2\\\" / f\\\"{ID}_median_stats.csv\\\"\\n)\";\n",
       "                var nbb_formatted_code = \"data = pd.read_csv(\\n    str(\\n        Path(\\n            utils.DATA_DIR\\n            / \\\"interim\\\"\\n            / \\\"delta_rf\\\"\\n            / f\\\"{ID}_delta-erf_meta_TCRE_ratio.csv\\\"\\n        )\\n    )\\n)\\n# data_ = pd.read_csv(\\n#     str(Path(utils.DATA_DIR / \\\"interim\\\" / \\\"delta_rf\\\" / f\\\"{ID}_delta-erf.csv\\\"))\\n# )\\n\\nOUTPUT_FILE = Path(utils.DATA_DIR / \\\"plotting_data\\\" / \\\"figure2\\\" / f\\\"{ID}.csv\\\")\\nOUTPUT_FILE_MEDIAN = Path(\\n    utils.DATA_DIR / \\\"plotting_data\\\" / \\\"figure2\\\" / f\\\"{ID}_median_stats.csv\\\"\\n)\";\n",
       "                var nbb_cells = Jupyter.notebook.get_cells();\n",
       "                for (var i = 0; i < nbb_cells.length; ++i) {\n",
       "                    if (nbb_cells[i].input_prompt_number == nbb_cell_id) {\n",
       "                        if (nbb_cells[i].get_text() == nbb_unformatted_code) {\n",
       "                             nbb_cells[i].set_text(nbb_formatted_code);\n",
       "                        }\n",
       "                        break;\n",
       "                    }\n",
       "                }\n",
       "            }, 500);\n",
       "            "
      ],
      "text/plain": [
       "<IPython.core.display.Javascript object>"
      ]
     },
     "metadata": {},
     "output_type": "display_data"
    }
   ],
   "source": [
    "data = pd.read_csv(\n",
    "    str(\n",
    "        Path(\n",
    "            utils.DATA_DIR\n",
    "            / \"interim\"\n",
    "            / \"delta_rf\"\n",
    "            / f\"{ID}_delta-erf_meta_TCRE_ratio.csv\"\n",
    "        )\n",
    "    )\n",
    ")\n",
    "# data_ = pd.read_csv(\n",
    "#     str(Path(utils.DATA_DIR / \"interim\" / \"delta_rf\" / f\"{ID}_delta-erf.csv\"))\n",
    "# )\n",
    "\n",
    "OUTPUT_FILE = Path(utils.DATA_DIR / \"plotting_data\" / \"figure2\" / f\"{ID}.csv\")\n",
    "OUTPUT_FILE_MEDIAN = Path(\n",
    "    utils.DATA_DIR / \"plotting_data\" / \"figure2\" / f\"{ID}_median_stats.csv\"\n",
    ")"
   ]
  },
  {
   "cell_type": "markdown",
   "id": "3f547016",
   "metadata": {},
   "source": [
    "Filter out one of the variables (doesn't matter which)"
   ]
  },
  {
   "cell_type": "code",
   "execution_count": 46,
   "id": "057cfae4",
   "metadata": {
    "scrolled": true
   },
   "outputs": [
    {
     "data": {
      "application/javascript": [
       "\n",
       "            setTimeout(function() {\n",
       "                var nbb_cell_id = 46;\n",
       "                var nbb_unformatted_code = \"data = data[data[\\\"variable\\\"] == \\\"delta_rf\\\"]\";\n",
       "                var nbb_formatted_code = \"data = data[data[\\\"variable\\\"] == \\\"delta_rf\\\"]\";\n",
       "                var nbb_cells = Jupyter.notebook.get_cells();\n",
       "                for (var i = 0; i < nbb_cells.length; ++i) {\n",
       "                    if (nbb_cells[i].input_prompt_number == nbb_cell_id) {\n",
       "                        if (nbb_cells[i].get_text() == nbb_unformatted_code) {\n",
       "                             nbb_cells[i].set_text(nbb_formatted_code);\n",
       "                        }\n",
       "                        break;\n",
       "                    }\n",
       "                }\n",
       "            }, 500);\n",
       "            "
      ],
      "text/plain": [
       "<IPython.core.display.Javascript object>"
      ]
     },
     "metadata": {},
     "output_type": "display_data"
    }
   ],
   "source": [
    "data = data[data[\"variable\"] == \"delta_rf\"]"
   ]
  },
  {
   "cell_type": "code",
   "execution_count": 47,
   "id": "80031597",
   "metadata": {},
   "outputs": [
    {
     "data": {
      "application/javascript": [
       "\n",
       "            setTimeout(function() {\n",
       "                var nbb_cell_id = 47;\n",
       "                var nbb_unformatted_code = \"data.drop(\\\"run_id\\\", axis=1, inplace=True)\";\n",
       "                var nbb_formatted_code = \"data.drop(\\\"run_id\\\", axis=1, inplace=True)\";\n",
       "                var nbb_cells = Jupyter.notebook.get_cells();\n",
       "                for (var i = 0; i < nbb_cells.length; ++i) {\n",
       "                    if (nbb_cells[i].input_prompt_number == nbb_cell_id) {\n",
       "                        if (nbb_cells[i].get_text() == nbb_unformatted_code) {\n",
       "                             nbb_cells[i].set_text(nbb_formatted_code);\n",
       "                        }\n",
       "                        break;\n",
       "                    }\n",
       "                }\n",
       "            }, 500);\n",
       "            "
      ],
      "text/plain": [
       "<IPython.core.display.Javascript object>"
      ]
     },
     "metadata": {},
     "output_type": "display_data"
    }
   ],
   "source": [
    "data.drop(\"run_id\", axis=1, inplace=True)"
   ]
  },
  {
   "cell_type": "code",
   "execution_count": 48,
   "id": "61c365a3",
   "metadata": {},
   "outputs": [
    {
     "data": {
      "text/plain": [
       "Index(['Unnamed: 0.1', 'Unnamed: 0', '2030_warming', '2100_warming',\n",
       "       'SRM_at_first_crossing', 'TCRE',\n",
       "       'average_annual_emissions_2030_net-zero',\n",
       "       'average_cdr_between_net0_and_15', 'climate_model',\n",
       "       'cumulative_emms_15', 'cumulative_emms_net0_to_15',\n",
       "       'cumulative_emms_peak_warming', 'cumulative_emms_peak_warming_to_15',\n",
       "       'cumulative_pos_emms_at_15', 'cumulative_pos_emms_at_net0',\n",
       "       'ensemble_member', 'max_assigned_CDR', 'max_deployed_CDR', 'model',\n",
       "       'ms', 'net-zero_year', 'net_CDR_at_15_temp', 'peak_warming', 'region',\n",
       "       'scenario', 'total_CDR', 'unit', 'variable',\n",
       "       'year_return_back_below_15_temp', 'TCRE_down', 'TCRE_up',\n",
       "       'TCRE_ratio_up', 'TCRE_up_minus_down', 'Year of net-zero CO2',\n",
       "       'Average annual NNEs', 'Cum emissions peak-warming 1.5°C',\n",
       "       'peak_warming_categories', 'TCRE_ratio_up_cat', 't_above_15', 'ratios'],\n",
       "      dtype='object')"
      ]
     },
     "execution_count": 48,
     "metadata": {},
     "output_type": "execute_result"
    },
    {
     "data": {
      "application/javascript": [
       "\n",
       "            setTimeout(function() {\n",
       "                var nbb_cell_id = 48;\n",
       "                var nbb_unformatted_code = \"data.columns\";\n",
       "                var nbb_formatted_code = \"data.columns\";\n",
       "                var nbb_cells = Jupyter.notebook.get_cells();\n",
       "                for (var i = 0; i < nbb_cells.length; ++i) {\n",
       "                    if (nbb_cells[i].input_prompt_number == nbb_cell_id) {\n",
       "                        if (nbb_cells[i].get_text() == nbb_unformatted_code) {\n",
       "                             nbb_cells[i].set_text(nbb_formatted_code);\n",
       "                        }\n",
       "                        break;\n",
       "                    }\n",
       "                }\n",
       "            }, 500);\n",
       "            "
      ],
      "text/plain": [
       "<IPython.core.display.Javascript object>"
      ]
     },
     "metadata": {},
     "output_type": "display_data"
    }
   ],
   "source": [
    "data.columns"
   ]
  },
  {
   "cell_type": "code",
   "execution_count": 49,
   "id": "59a47b89",
   "metadata": {},
   "outputs": [
    {
     "data": {
      "application/javascript": [
       "\n",
       "            setTimeout(function() {\n",
       "                var nbb_cell_id = 49;\n",
       "                var nbb_unformatted_code = \"#data = data[(data[\\\"peak_warming\\\"] < 2.55) & (data[\\\"peak_warming\\\"] > 2.45)]\";\n",
       "                var nbb_formatted_code = \"# data = data[(data[\\\"peak_warming\\\"] < 2.55) & (data[\\\"peak_warming\\\"] > 2.45)]\";\n",
       "                var nbb_cells = Jupyter.notebook.get_cells();\n",
       "                for (var i = 0; i < nbb_cells.length; ++i) {\n",
       "                    if (nbb_cells[i].input_prompt_number == nbb_cell_id) {\n",
       "                        if (nbb_cells[i].get_text() == nbb_unformatted_code) {\n",
       "                             nbb_cells[i].set_text(nbb_formatted_code);\n",
       "                        }\n",
       "                        break;\n",
       "                    }\n",
       "                }\n",
       "            }, 500);\n",
       "            "
      ],
      "text/plain": [
       "<IPython.core.display.Javascript object>"
      ]
     },
     "metadata": {},
     "output_type": "display_data"
    }
   ],
   "source": [
    "#data = data[(data[\"peak_warming\"] < 2.55) & (data[\"peak_warming\"] > 2.45)]\n"
   ]
  },
  {
   "cell_type": "markdown",
   "id": "eb125e6b",
   "metadata": {},
   "source": [
    "Filter out pathways that have not reached net-zero by 2500"
   ]
  },
  {
   "cell_type": "code",
   "execution_count": 50,
   "id": "db446d98",
   "metadata": {},
   "outputs": [
    {
     "data": {
      "application/javascript": [
       "\n",
       "            setTimeout(function() {\n",
       "                var nbb_cell_id = 50;\n",
       "                var nbb_unformatted_code = \"data = data[\\n    (data[\\\"year_return_back_below_15_temp\\\"] < 2501)\\n    & (data[\\\"year_return_back_below_15_temp\\\"] > 2029)\\n]\\n\\n### limit peak warming -> to remove again later?\\ndata = data[(data[\\\"peak_warming\\\"] > 1.6)]\";\n",
       "                var nbb_formatted_code = \"data = data[\\n    (data[\\\"year_return_back_below_15_temp\\\"] < 2501)\\n    & (data[\\\"year_return_back_below_15_temp\\\"] > 2029)\\n]\\n\\n### limit peak warming -> to remove again later?\\ndata = data[(data[\\\"peak_warming\\\"] > 1.6)]\";\n",
       "                var nbb_cells = Jupyter.notebook.get_cells();\n",
       "                for (var i = 0; i < nbb_cells.length; ++i) {\n",
       "                    if (nbb_cells[i].input_prompt_number == nbb_cell_id) {\n",
       "                        if (nbb_cells[i].get_text() == nbb_unformatted_code) {\n",
       "                             nbb_cells[i].set_text(nbb_formatted_code);\n",
       "                        }\n",
       "                        break;\n",
       "                    }\n",
       "                }\n",
       "            }, 500);\n",
       "            "
      ],
      "text/plain": [
       "<IPython.core.display.Javascript object>"
      ]
     },
     "metadata": {},
     "output_type": "display_data"
    }
   ],
   "source": [
    "data = data[\n",
    "    (data[\"year_return_back_below_15_temp\"] < 2501)\n",
    "    & (data[\"year_return_back_below_15_temp\"] > 2029)\n",
    "]\n",
    "\n",
    "### limit peak warming -> to remove again later?\n",
    "data = data[(data[\"peak_warming\"] > 1.6)]"
   ]
  },
  {
   "cell_type": "code",
   "execution_count": 51,
   "id": "dd57405d",
   "metadata": {},
   "outputs": [
    {
     "data": {
      "text/plain": [
       "count    156919.000000\n",
       "mean       2227.370229\n",
       "std         110.531540\n",
       "min        2046.000000\n",
       "25%        2137.000000\n",
       "50%        2203.000000\n",
       "75%        2302.000000\n",
       "max        2500.000000\n",
       "Name: year_return_back_below_15_temp, dtype: float64"
      ]
     },
     "execution_count": 51,
     "metadata": {},
     "output_type": "execute_result"
    },
    {
     "data": {
      "application/javascript": [
       "\n",
       "            setTimeout(function() {\n",
       "                var nbb_cell_id = 51;\n",
       "                var nbb_unformatted_code = \"data[\\\"year_return_back_below_15_temp\\\"].describe()\";\n",
       "                var nbb_formatted_code = \"data[\\\"year_return_back_below_15_temp\\\"].describe()\";\n",
       "                var nbb_cells = Jupyter.notebook.get_cells();\n",
       "                for (var i = 0; i < nbb_cells.length; ++i) {\n",
       "                    if (nbb_cells[i].input_prompt_number == nbb_cell_id) {\n",
       "                        if (nbb_cells[i].get_text() == nbb_unformatted_code) {\n",
       "                             nbb_cells[i].set_text(nbb_formatted_code);\n",
       "                        }\n",
       "                        break;\n",
       "                    }\n",
       "                }\n",
       "            }, 500);\n",
       "            "
      ],
      "text/plain": [
       "<IPython.core.display.Javascript object>"
      ]
     },
     "metadata": {},
     "output_type": "display_data"
    }
   ],
   "source": [
    "data[\"year_return_back_below_15_temp\"].describe()"
   ]
  },
  {
   "cell_type": "markdown",
   "id": "35819278",
   "metadata": {},
   "source": [
    "Select relevant columns"
   ]
  },
  {
   "cell_type": "code",
   "execution_count": 52,
   "id": "e171eef6",
   "metadata": {},
   "outputs": [
    {
     "data": {
      "text/plain": [
       "Index(['Unnamed: 0.1', 'Unnamed: 0', '2030_warming', '2100_warming',\n",
       "       'SRM_at_first_crossing', 'TCRE',\n",
       "       'average_annual_emissions_2030_net-zero',\n",
       "       'average_cdr_between_net0_and_15', 'climate_model',\n",
       "       'cumulative_emms_15', 'cumulative_emms_net0_to_15',\n",
       "       'cumulative_emms_peak_warming', 'cumulative_emms_peak_warming_to_15',\n",
       "       'cumulative_pos_emms_at_15', 'cumulative_pos_emms_at_net0',\n",
       "       'ensemble_member', 'max_assigned_CDR', 'max_deployed_CDR', 'model',\n",
       "       'ms', 'net-zero_year', 'net_CDR_at_15_temp', 'peak_warming', 'region',\n",
       "       'scenario', 'total_CDR', 'unit', 'variable',\n",
       "       'year_return_back_below_15_temp', 'TCRE_down', 'TCRE_up',\n",
       "       'TCRE_ratio_up', 'TCRE_up_minus_down', 'Year of net-zero CO2',\n",
       "       'Average annual NNEs', 'Cum emissions peak-warming 1.5°C',\n",
       "       'peak_warming_categories', 'TCRE_ratio_up_cat', 't_above_15', 'ratios'],\n",
       "      dtype='object')"
      ]
     },
     "execution_count": 52,
     "metadata": {},
     "output_type": "execute_result"
    },
    {
     "data": {
      "application/javascript": [
       "\n",
       "            setTimeout(function() {\n",
       "                var nbb_cell_id = 52;\n",
       "                var nbb_unformatted_code = \"data.columns\";\n",
       "                var nbb_formatted_code = \"data.columns\";\n",
       "                var nbb_cells = Jupyter.notebook.get_cells();\n",
       "                for (var i = 0; i < nbb_cells.length; ++i) {\n",
       "                    if (nbb_cells[i].input_prompt_number == nbb_cell_id) {\n",
       "                        if (nbb_cells[i].get_text() == nbb_unformatted_code) {\n",
       "                             nbb_cells[i].set_text(nbb_formatted_code);\n",
       "                        }\n",
       "                        break;\n",
       "                    }\n",
       "                }\n",
       "            }, 500);\n",
       "            "
      ],
      "text/plain": [
       "<IPython.core.display.Javascript object>"
      ]
     },
     "metadata": {},
     "output_type": "display_data"
    }
   ],
   "source": [
    "data.columns"
   ]
  },
  {
   "cell_type": "code",
   "execution_count": 53,
   "id": "27d361e6",
   "metadata": {},
   "outputs": [
    {
     "data": {
      "application/javascript": [
       "\n",
       "            setTimeout(function() {\n",
       "                var nbb_cell_id = 53;\n",
       "                var nbb_unformatted_code = \"# data_sel = data_netzero.loc[:, \\\"climate_model\\\":\\\"year_15T\\\"]\\ndata_sel = data.filter(\\n    [\\n        \\\"ms\\\",\\n        \\\"ensemble_member\\\",\\n        \\\"average_cdr_between_net0_and_15\\\",\\n        \\\"max_deployed_CDR\\\",\\n        \\\"SRM_at_first_crossing\\\",\\n        \\\"peak_warming\\\",\\n        \\\"2100_warming\\\",\\n        \\\"cumulative_emms_net0_to_15\\\",\\n        \\\"cumulative_pos_emms_at_net0\\\",\\n        \\\"net_CDR_at_15_temp\\\",\\n        \\\"TCRE_down\\\",\\n        \\\"t_above_15\\\",\\n        \\\"ratios\\\",\\n        \\\"net-zero_year\\\",\\n        \\\"TCRE_ratio_up\\\",\\n        \\\"cumulative_emms_peak_warming_to_15\\\",\\n    ],\\n    axis=1,\\n).reset_index(drop=True)\";\n",
       "                var nbb_formatted_code = \"# data_sel = data_netzero.loc[:, \\\"climate_model\\\":\\\"year_15T\\\"]\\ndata_sel = data.filter(\\n    [\\n        \\\"ms\\\",\\n        \\\"ensemble_member\\\",\\n        \\\"average_cdr_between_net0_and_15\\\",\\n        \\\"max_deployed_CDR\\\",\\n        \\\"SRM_at_first_crossing\\\",\\n        \\\"peak_warming\\\",\\n        \\\"2100_warming\\\",\\n        \\\"cumulative_emms_net0_to_15\\\",\\n        \\\"cumulative_pos_emms_at_net0\\\",\\n        \\\"net_CDR_at_15_temp\\\",\\n        \\\"TCRE_down\\\",\\n        \\\"t_above_15\\\",\\n        \\\"ratios\\\",\\n        \\\"net-zero_year\\\",\\n        \\\"TCRE_ratio_up\\\",\\n        \\\"cumulative_emms_peak_warming_to_15\\\",\\n    ],\\n    axis=1,\\n).reset_index(drop=True)\";\n",
       "                var nbb_cells = Jupyter.notebook.get_cells();\n",
       "                for (var i = 0; i < nbb_cells.length; ++i) {\n",
       "                    if (nbb_cells[i].input_prompt_number == nbb_cell_id) {\n",
       "                        if (nbb_cells[i].get_text() == nbb_unformatted_code) {\n",
       "                             nbb_cells[i].set_text(nbb_formatted_code);\n",
       "                        }\n",
       "                        break;\n",
       "                    }\n",
       "                }\n",
       "            }, 500);\n",
       "            "
      ],
      "text/plain": [
       "<IPython.core.display.Javascript object>"
      ]
     },
     "metadata": {},
     "output_type": "display_data"
    }
   ],
   "source": [
    "# data_sel = data_netzero.loc[:, \"climate_model\":\"year_15T\"]\n",
    "data_sel = data.filter(\n",
    "    [\n",
    "        \"ms\",\n",
    "        \"ensemble_member\",\n",
    "        \"average_cdr_between_net0_and_15\",\n",
    "        \"max_deployed_CDR\",\n",
    "        \"SRM_at_first_crossing\",\n",
    "        \"peak_warming\",\n",
    "        \"2100_warming\",\n",
    "        \"cumulative_emms_net0_to_15\",\n",
    "        \"cumulative_pos_emms_at_net0\",\n",
    "        \"net_CDR_at_15_temp\",\n",
    "        \"TCRE_down\",\n",
    "        \"t_above_15\",\n",
    "        \"ratios\",\n",
    "        \"net-zero_year\",\n",
    "        \"TCRE_ratio_up\",\n",
    "        \"cumulative_emms_peak_warming_to_15\",\n",
    "    ],\n",
    "    axis=1,\n",
    ").reset_index(drop=True)"
   ]
  },
  {
   "cell_type": "markdown",
   "id": "7ed0a37d",
   "metadata": {},
   "source": [
    "Save"
   ]
  },
  {
   "cell_type": "code",
   "execution_count": 54,
   "id": "d38e1f62",
   "metadata": {},
   "outputs": [
    {
     "data": {
      "application/javascript": [
       "\n",
       "            setTimeout(function() {\n",
       "                var nbb_cell_id = 54;\n",
       "                var nbb_unformatted_code = \"data_sel.to_csv(OUTPUT_FILE)\";\n",
       "                var nbb_formatted_code = \"data_sel.to_csv(OUTPUT_FILE)\";\n",
       "                var nbb_cells = Jupyter.notebook.get_cells();\n",
       "                for (var i = 0; i < nbb_cells.length; ++i) {\n",
       "                    if (nbb_cells[i].input_prompt_number == nbb_cell_id) {\n",
       "                        if (nbb_cells[i].get_text() == nbb_unformatted_code) {\n",
       "                             nbb_cells[i].set_text(nbb_formatted_code);\n",
       "                        }\n",
       "                        break;\n",
       "                    }\n",
       "                }\n",
       "            }, 500);\n",
       "            "
      ],
      "text/plain": [
       "<IPython.core.display.Javascript object>"
      ]
     },
     "metadata": {},
     "output_type": "display_data"
    }
   ],
   "source": [
    "data_sel.to_csv(OUTPUT_FILE)"
   ]
  },
  {
   "cell_type": "markdown",
   "id": "9726e75f",
   "metadata": {},
   "source": [
    "# Median stats\n",
    "use dataset where non-net-zero datasets haven't been exlcuded (-> data, not data_T)"
   ]
  },
  {
   "cell_type": "code",
   "execution_count": 20,
   "id": "dfe26ad2",
   "metadata": {},
   "outputs": [
    {
     "data": {
      "application/javascript": [
       "\n",
       "            setTimeout(function() {\n",
       "                var nbb_cell_id = 20;\n",
       "                var nbb_unformatted_code = \"median_stats = (\\n    data.set_index([\\\"ms\\\", \\\"ensemble_member\\\"])[\\n        [\\n            \\\"average_cdr_between_net0_and_15\\\",\\n            \\\"max_deployed_CDR\\\",\\n            \\\"SRM_at_first_crossing\\\",\\n            \\\"peak_warming\\\",\\n            \\\"2100_warming\\\",\\n            \\\"cumulative_emms_net0_to_15\\\",\\n            \\\"cumulative_pos_emms_at_net0\\\",\\n            \\\"net_CDR_at_15_temp\\\",\\n            \\\"TCRE_down\\\",\\n        ]\\n    ]\\n    .groupby(\\\"ms\\\")\\n    .median()\\n)\";\n",
       "                var nbb_formatted_code = \"median_stats = (\\n    data.set_index([\\\"ms\\\", \\\"ensemble_member\\\"])[\\n        [\\n            \\\"average_cdr_between_net0_and_15\\\",\\n            \\\"max_deployed_CDR\\\",\\n            \\\"SRM_at_first_crossing\\\",\\n            \\\"peak_warming\\\",\\n            \\\"2100_warming\\\",\\n            \\\"cumulative_emms_net0_to_15\\\",\\n            \\\"cumulative_pos_emms_at_net0\\\",\\n            \\\"net_CDR_at_15_temp\\\",\\n            \\\"TCRE_down\\\",\\n        ]\\n    ]\\n    .groupby(\\\"ms\\\")\\n    .median()\\n)\";\n",
       "                var nbb_cells = Jupyter.notebook.get_cells();\n",
       "                for (var i = 0; i < nbb_cells.length; ++i) {\n",
       "                    if (nbb_cells[i].input_prompt_number == nbb_cell_id) {\n",
       "                        if (nbb_cells[i].get_text() == nbb_unformatted_code) {\n",
       "                             nbb_cells[i].set_text(nbb_formatted_code);\n",
       "                        }\n",
       "                        break;\n",
       "                    }\n",
       "                }\n",
       "            }, 500);\n",
       "            "
      ],
      "text/plain": [
       "<IPython.core.display.Javascript object>"
      ]
     },
     "metadata": {},
     "output_type": "display_data"
    }
   ],
   "source": [
    "median_stats = (\n",
    "    data.set_index([\"ms\", \"ensemble_member\"])[\n",
    "        [\n",
    "            \"average_cdr_between_net0_and_15\",\n",
    "            \"max_deployed_CDR\",\n",
    "            \"SRM_at_first_crossing\",\n",
    "            \"peak_warming\",\n",
    "            \"2100_warming\",\n",
    "            \"cumulative_emms_net0_to_15\",\n",
    "            \"cumulative_pos_emms_at_net0\",\n",
    "            \"net_CDR_at_15_temp\",\n",
    "            \"TCRE_down\",\n",
    "        ]\n",
    "    ]\n",
    "    .groupby(\"ms\")\n",
    "    .median()\n",
    ")"
   ]
  },
  {
   "cell_type": "code",
   "execution_count": 21,
   "id": "01a32dfd",
   "metadata": {},
   "outputs": [
    {
     "data": {
      "application/javascript": [
       "\n",
       "            setTimeout(function() {\n",
       "                var nbb_cell_id = 21;\n",
       "                var nbb_unformatted_code = \"median_stats.to_csv(OUTPUT_FILE_MEDIAN)\";\n",
       "                var nbb_formatted_code = \"median_stats.to_csv(OUTPUT_FILE_MEDIAN)\";\n",
       "                var nbb_cells = Jupyter.notebook.get_cells();\n",
       "                for (var i = 0; i < nbb_cells.length; ++i) {\n",
       "                    if (nbb_cells[i].input_prompt_number == nbb_cell_id) {\n",
       "                        if (nbb_cells[i].get_text() == nbb_unformatted_code) {\n",
       "                             nbb_cells[i].set_text(nbb_formatted_code);\n",
       "                        }\n",
       "                        break;\n",
       "                    }\n",
       "                }\n",
       "            }, 500);\n",
       "            "
      ],
      "text/plain": [
       "<IPython.core.display.Javascript object>"
      ]
     },
     "metadata": {},
     "output_type": "display_data"
    }
   ],
   "source": [
    "median_stats.to_csv(OUTPUT_FILE_MEDIAN)"
   ]
  },
  {
   "cell_type": "code",
   "execution_count": null,
   "id": "490e5155",
   "metadata": {},
   "outputs": [],
   "source": []
  }
 ],
 "metadata": {
  "kernelspec": {
   "display_name": "Python 3 (ipykernel)",
   "language": "python",
   "name": "python3"
  },
  "language_info": {
   "codemirror_mode": {
    "name": "ipython",
    "version": 3
   },
   "file_extension": ".py",
   "mimetype": "text/x-python",
   "name": "python",
   "nbconvert_exporter": "python",
   "pygments_lexer": "ipython3",
   "version": "3.9.13"
  }
 },
 "nbformat": 4,
 "nbformat_minor": 5
}
