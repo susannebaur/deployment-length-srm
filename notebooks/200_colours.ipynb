{
 "cells": [
  {
   "cell_type": "code",
   "execution_count": 1,
   "id": "711d6188",
   "metadata": {},
   "outputs": [],
   "source": [
    "## plotting packages\n",
    "import seaborn as sns\n",
    "import matplotlib.pyplot as plt"
   ]
  },
  {
   "cell_type": "code",
   "execution_count": 4,
   "id": "b66a36c5",
   "metadata": {},
   "outputs": [
    {
     "data": {
      "image/png": "[encoded data removed]",
      "text/plain": [
       "<Figure size 600x100 with 1 Axes>"
      ]
     },
     "metadata": {},
     "output_type": "display_data"
    }
   ],
   "source": [
    "colors = [\n",
    "    sns.color_palette(\"Paired\")[0],\n",
    "    sns.color_palette(\"Paired\")[1],\n",
    "    #  sns.color_palette(\"Paired\")[11],\n",
    "    sns.color_palette(\"Paired\")[2],\n",
    "    sns.color_palette(\"Paired\")[3],\n",
    "    sns.color_palette(\"Paired\")[5],\n",
    "    sns.color_palette(\"Paired\")[10],\n",
    "]\n",
    "sns.palplot(colors)"
   ]
  },
  {
   "cell_type": "code",
   "execution_count": 5,
   "id": "74af736b",
   "metadata": {},
   "outputs": [
    {
     "data": {
      "image/png": "[encoded data removed]",
      "text/plain": [
       "<Figure size 500x100 with 1 Axes>"
      ]
     },
     "metadata": {},
     "output_type": "display_data"
    }
   ],
   "source": [
    "colors_TCRE = [\n",
    "    # \"saddlebrown\",\n",
    "    sns.color_palette(\"Paired\")[7],\n",
    "    sns.color_palette(\"Paired\")[6],\n",
    "    \"gold\",\n",
    "    sns.color_palette(\"Paired\")[8],\n",
    "    sns.color_palette(\"Paired\")[9],\n",
    "    #   \"brown\",\n",
    "]\n",
    "sns.palplot(colors_TCRE)"
   ]
  },
  {
   "cell_type": "code",
   "execution_count": 6,
   "id": "5024159d",
   "metadata": {},
   "outputs": [],
   "source": [
    "# sequential blue\n",
    "ab1, bb1, cb1 = 222, 235, 247 #239, 243, 255\n",
    "ab2, bb2, cb2 = 189, 215, 231 \n",
    "ab3, bb3, cb3 = 107, 174, 214\n",
    "ab4, bb4, cb4 = 49, 130, 189 \n",
    "ab5, bb5, cb5 = 8, 81, 156\n"
   ]
  },
  {
   "cell_type": "code",
   "execution_count": 7,
   "id": "fcb0ae29",
   "metadata": {},
   "outputs": [],
   "source": [
    "# sequential purple\n",
    "\n",
    "ap1, bp1, cp1 = 242, 240, 247\n",
    "ap2, bp2, cp2 = 203, 201, 226\n",
    "ap3, bp3, cp3 = 158, 154, 200\n",
    "ap4, bp4, cp4 = 117, 107, 177 \n",
    "ap5, bp5, cp5 = 84, 39, 143\n"
   ]
  },
  {
   "cell_type": "code",
   "execution_count": 8,
   "id": "d72d5c1c",
   "metadata": {},
   "outputs": [],
   "source": [
    "# sequential red\n",
    "ar1, br1, cr1 = 254, 229, 217 \n",
    "ar2, br2, cr2 = 252, 174, 145 \n",
    "ar3, br3, cr3 = 251, 106, 74 \n",
    "ar4, br4, cr4 = 222, 45, 38 \n",
    "ar5, br5, cr5 = 165, 15, 21"
   ]
  },
  {
   "cell_type": "code",
   "execution_count": 9,
   "id": "b014396a",
   "metadata": {},
   "outputs": [],
   "source": [
    "# sequential green\n",
    "ag1, bg1, cg1 = 237, 248, 233\n",
    "ag2, bg2, cg2 = 186, 228, 179\n",
    "ag3, bg3, cg3 = 116, 196, 118\n",
    "ag4, bg4, cg4 = 49, 163, 84\n",
    "ag5, bg5, cg5 = 0, 109, 44"
   ]
  },
  {
   "cell_type": "code",
   "execution_count": 10,
   "id": "1fbe87cf",
   "metadata": {},
   "outputs": [],
   "source": [
    "# categorical 1 \n",
    "a1, b1, c1 = 152, 15, 37\n",
    "a2, b2, c2 = 153, 96, 15\n",
    "a3, b3, c3 = 83, 153, 15\n",
    "a4, b4, c4 = 41, 130, 152\n",
    "a5, b5, c5 = 62, 16, 152\n",
    "a6, b6, c6 = 50, 51, 52\n",
    "\n",
    "# a1, b1, c1 = 203, 171, 122\n",
    "# a2, b2, c2 = 204, 122, 135\n",
    "# a3, b3, c3 = 163, 203, 122\n",
    "# a4, b4, c4 = 63, 159, 180\n",
    "# a5, b5, c5 = 102, 102, 103\n",
    "# a6, b6, c6 = 101, 62, 179"
   ]
  },
  {
   "cell_type": "code",
   "execution_count": 11,
   "id": "cb4ee2f1",
   "metadata": {},
   "outputs": [],
   "source": [
    "# categorical 2\n",
    "\n",
    "a1, b1, c1 = 150, 151, 150\n",
    "a2, b2, c2 = 179, 63, 81\n",
    "a3, b3, c3 = 140, 162, 81\n",
    "a4, b4, c4 = 247, 141, 60\n",
    "a5, b5, c5 = 62, 158, 179\n",
    "\n",
    "a1, b1, c1 = 99, 99, 99\n",
    "a2, b2, c2 = 41, 130, 152\n",
    "a3, b3, c3 = 99, 122, 57\n",
    "a4, b4, c4 = 230, 86, 15\n",
    "a5, b5, c5 = 153, 15, 36"
   ]
  },
  {
   "cell_type": "code",
   "execution_count": 12,
   "id": "1c8e4bb1",
   "metadata": {},
   "outputs": [
    {
     "data": {
      "image/png": "[encoded data removed]",
      "text/plain": [
       "<Figure size 500x100 with 1 Axes>"
      ]
     },
     "metadata": {},
     "output_type": "display_data"
    }
   ],
   "source": [
    "palette = sns.color_palette(\n",
    "    [\n",
    "        (a1 / 255, b1 / 255, c1 / 255),\n",
    "        (a2 / 255, b2 / 255, c2 / 255),\n",
    "        (a3 / 255, b3 / 255, c3 / 255),\n",
    "        (a4 / 255, b4 / 255, c4 / 255),\n",
    "        (a5 / 255, b5 / 255, c5 / 255),\n",
    "    ]\n",
    ")\n",
    "\n",
    "# Use palplot and pass in the variable:\n",
    "sns.palplot(palette)"
   ]
  },
  {
   "cell_type": "code",
   "execution_count": null,
   "id": "b5631922",
   "metadata": {},
   "outputs": [],
   "source": []
  }
 ],
 "metadata": {
  "kernelspec": {
   "display_name": "Python 3 (ipykernel)",
   "language": "python",
   "name": "python3"
  },
  "language_info": {
   "codemirror_mode": {
    "name": "ipython",
    "version": 3
   },
   "file_extension": ".py",
   "mimetype": "text/x-python",
   "name": "python",
   "nbconvert_exporter": "python",
   "pygments_lexer": "ipython3",
   "version": "3.9.13"
  }
 },
 "nbformat": 4,
 "nbformat_minor": 5
}
