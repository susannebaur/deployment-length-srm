{
 "cells": [
  {
   "cell_type": "markdown",
   "id": "2505d0d1",
   "metadata": {},
   "source": [
    "# Add info to scenarios\n",
    "\n",
    "In this notebook, we add extra info to the scenarios:\n",
    "\n",
    "- Total CO$_2$ emissions\n",
    "- Cumulative net CDR (i.e. sum of emissions in years in which total CO$_2$ emissions are less than zero)\n",
    "- Year of returning to 1.5\n",
    "- Cumulative net CDR in year of returning to 1.5\n",
    "\n",
    "Load in:\n",
    "- extended emissions file\n",
    "- extended magicc Temperature/ERF file\n",
    "\n",
    "Output:\n",
    "- extended magicc Temperature/ERF file with additional info"
   ]
  },
  {
   "cell_type": "code",
   "execution_count": 1,
   "id": "eeb7e5ea",
   "metadata": {},
   "outputs": [
    {
     "data": {
      "application/javascript": [
       "\n",
       "            setTimeout(function() {\n",
       "                var nbb_cell_id = 1;\n",
       "                var nbb_unformatted_code = \"%load_ext nb_black\";\n",
       "                var nbb_formatted_code = \"%load_ext nb_black\";\n",
       "                var nbb_cells = Jupyter.notebook.get_cells();\n",
       "                for (var i = 0; i < nbb_cells.length; ++i) {\n",
       "                    if (nbb_cells[i].input_prompt_number == nbb_cell_id) {\n",
       "                        if (nbb_cells[i].get_text() == nbb_unformatted_code) {\n",
       "                             nbb_cells[i].set_text(nbb_formatted_code);\n",
       "                        }\n",
       "                        break;\n",
       "                    }\n",
       "                }\n",
       "            }, 500);\n",
       "            "
      ],
      "text/plain": [
       "<IPython.core.display.Javascript object>"
      ]
     },
     "metadata": {},
     "output_type": "display_data"
    }
   ],
   "source": [
    "%load_ext nb_black"
   ]
  },
  {
   "cell_type": "code",
   "execution_count": 2,
   "id": "4bb6e1e4",
   "metadata": {},
   "outputs": [
    {
     "data": {
      "application/javascript": [
       "if (typeof IPython !== 'undefined') { IPython.OutputArea.prototype._should_scroll = function(lines){ return false; }}"
      ],
      "text/plain": [
       "<IPython.core.display.Javascript object>"
      ]
     },
     "metadata": {},
     "output_type": "display_data"
    },
    {
     "name": "stderr",
     "output_type": "stream",
     "text": [
      "/var/folders/2n/v3g75q4d3636klrs2jxq81zc0000gp/T/ipykernel_66796/3347364542.py:6: TqdmExperimentalWarning: Using `tqdm.autonotebook.tqdm` in notebook mode. Use `tqdm.tqdm` instead to force console mode (e.g. in jupyter console)\n",
      "  import tqdm.autonotebook as tqdman\n"
     ]
    },
    {
     "data": {
      "application/javascript": [
       "\n",
       "            setTimeout(function() {\n",
       "                var nbb_cell_id = 2;\n",
       "                var nbb_unformatted_code = \"from pathlib import Path\\n\\nimport matplotlib.pyplot as plt\\nimport numpy as np\\nimport scmdata\\nimport tqdm.autonotebook as tqdman\\n\\nimport utils\";\n",
       "                var nbb_formatted_code = \"from pathlib import Path\\n\\nimport matplotlib.pyplot as plt\\nimport numpy as np\\nimport scmdata\\nimport tqdm.autonotebook as tqdman\\n\\nimport utils\";\n",
       "                var nbb_cells = Jupyter.notebook.get_cells();\n",
       "                for (var i = 0; i < nbb_cells.length; ++i) {\n",
       "                    if (nbb_cells[i].input_prompt_number == nbb_cell_id) {\n",
       "                        if (nbb_cells[i].get_text() == nbb_unformatted_code) {\n",
       "                             nbb_cells[i].set_text(nbb_formatted_code);\n",
       "                        }\n",
       "                        break;\n",
       "                    }\n",
       "                }\n",
       "            }, 500);\n",
       "            "
      ],
      "text/plain": [
       "<IPython.core.display.Javascript object>"
      ]
     },
     "metadata": {},
     "output_type": "display_data"
    }
   ],
   "source": [
    "from pathlib import Path\n",
    "\n",
    "import matplotlib.pyplot as plt\n",
    "import numpy as np\n",
    "import scmdata\n",
    "import tqdm.autonotebook as tqdman\n",
    "\n",
    "import utils"
   ]
  },
  {
   "cell_type": "code",
   "execution_count": 3,
   "id": "9117cb0d",
   "metadata": {},
   "outputs": [
    {
     "data": {
      "application/javascript": [
       "\n",
       "            setTimeout(function() {\n",
       "                var nbb_cell_id = 3;\n",
       "                var nbb_unformatted_code = \"ID = \\\"zn_fullset\\\"\\nSCENARIOS_min = [0, 6, 51, 101, 151, 201, 251, 301, 351]\\nSCENARIOS_max = [5, 50, 100, 150, 200, 250, 300, 350, 400]\";\n",
       "                var nbb_formatted_code = \"ID = \\\"zn_fullset\\\"\\nSCENARIOS_min = [0, 6, 51, 101, 151, 201, 251, 301, 351]\\nSCENARIOS_max = [5, 50, 100, 150, 200, 250, 300, 350, 400]\";\n",
       "                var nbb_cells = Jupyter.notebook.get_cells();\n",
       "                for (var i = 0; i < nbb_cells.length; ++i) {\n",
       "                    if (nbb_cells[i].input_prompt_number == nbb_cell_id) {\n",
       "                        if (nbb_cells[i].get_text() == nbb_unformatted_code) {\n",
       "                             nbb_cells[i].set_text(nbb_formatted_code);\n",
       "                        }\n",
       "                        break;\n",
       "                    }\n",
       "                }\n",
       "            }, 500);\n",
       "            "
      ],
      "text/plain": [
       "<IPython.core.display.Javascript object>"
      ]
     },
     "metadata": {},
     "output_type": "display_data"
    }
   ],
   "source": [
    "ID = \"zn_fullset\"\n",
    "SCENARIOS_min = [0, 6, 51, 101, 151, 201, 251, 301, 351]\n",
    "SCENARIOS_max = [5, 50, 100, 150, 200, 250, 300, 350, 400]"
   ]
  },
  {
   "cell_type": "code",
   "execution_count": 4,
   "id": "f506ca48",
   "metadata": {},
   "outputs": [
    {
     "data": {
      "application/javascript": [
       "\n",
       "            setTimeout(function() {\n",
       "                var nbb_cell_id = 4;\n",
       "                var nbb_unformatted_code = \"OUTPUT_FILE = (\\n    utils.DATA_DIR\\n    / \\\"interim\\\"\\n    / \\\"magicc-output\\\"\\n    / f\\\"magicc-output_sb_noSRM_inclu_emission_info.csv\\\"\\n)\\nOUTPUT_FILE.parent.parent.mkdir(exist_ok=True)\\nOUTPUT_FILE.parent.mkdir(exist_ok=True)\";\n",
       "                var nbb_formatted_code = \"OUTPUT_FILE = (\\n    utils.DATA_DIR\\n    / \\\"interim\\\"\\n    / \\\"magicc-output\\\"\\n    / f\\\"magicc-output_sb_noSRM_inclu_emission_info.csv\\\"\\n)\\nOUTPUT_FILE.parent.parent.mkdir(exist_ok=True)\\nOUTPUT_FILE.parent.mkdir(exist_ok=True)\";\n",
       "                var nbb_cells = Jupyter.notebook.get_cells();\n",
       "                for (var i = 0; i < nbb_cells.length; ++i) {\n",
       "                    if (nbb_cells[i].input_prompt_number == nbb_cell_id) {\n",
       "                        if (nbb_cells[i].get_text() == nbb_unformatted_code) {\n",
       "                             nbb_cells[i].set_text(nbb_formatted_code);\n",
       "                        }\n",
       "                        break;\n",
       "                    }\n",
       "                }\n",
       "            }, 500);\n",
       "            "
      ],
      "text/plain": [
       "<IPython.core.display.Javascript object>"
      ]
     },
     "metadata": {},
     "output_type": "display_data"
    }
   ],
   "source": [
    "OUTPUT_FILE = (\n",
    "    utils.DATA_DIR\n",
    "    / \"interim\"\n",
    "    / \"magicc-output\"\n",
    "    / f\"magicc-output_sb_noSRM_inclu_emission_info.csv\"\n",
    ")\n",
    "OUTPUT_FILE.parent.parent.mkdir(exist_ok=True)\n",
    "OUTPUT_FILE.parent.mkdir(exist_ok=True)"
   ]
  },
  {
   "cell_type": "markdown",
   "id": "d1aeb213",
   "metadata": {},
   "source": [
    "## Total CO$_2$ emissions"
   ]
  },
  {
   "cell_type": "code",
   "execution_count": 5,
   "id": "b2fcfb49",
   "metadata": {},
   "outputs": [
    {
     "data": {
      "application/javascript": [
       "\n",
       "            setTimeout(function() {\n",
       "                var nbb_cell_id = 5;\n",
       "                var nbb_unformatted_code = \"# load in as SCM to easily combine fossil and AFOLU\\nSOURCE_DATA = Path(\\n    utils.DATA_DIR\\n    / \\\"interim\\\"\\n    / \\\"ar6-wg3-extended\\\"\\n    / f\\\"wg3-timeseries-extended_{ID}.csv\\\"\\n)\\n\\nour_set = scmdata.ScmRun(str(SOURCE_DATA)).filter(\\n    variable=[\\\"*CO2*AFOLU*\\\", \\\"*CO2*Energy*\\\"]\\n)\\n\\n# Add total CO2\\nour_set_co2_total = our_set.filter(variable=\\\"*CO2*\\\", year=range(2030, 2500+1)).process_over(\\n    \\\"variable\\\",\\n    \\\"sum\\\",\\n    op_cols={\\\"variable\\\": \\\"AR6 climate diagnostics|Infilled|Emissions|CO2\\\"},\\n    as_run=True,\\n    min_count=2,\\n)\\nour_set_co2_total.to_csv(\\n    Path(\\n        utils.DATA_DIR\\n        / \\\"interim\\\"\\n        / \\\"ar6-wg3-extended\\\"\\n        / f\\\"wg3-timeseries-extended_{ID}_CO2_total.csv\\\"\\n    )\\n)\";\n",
       "                var nbb_formatted_code = \"# load in as SCM to easily combine fossil and AFOLU\\nSOURCE_DATA = Path(\\n    utils.DATA_DIR\\n    / \\\"interim\\\"\\n    / \\\"ar6-wg3-extended\\\"\\n    / f\\\"wg3-timeseries-extended_{ID}.csv\\\"\\n)\\n\\nour_set = scmdata.ScmRun(str(SOURCE_DATA)).filter(\\n    variable=[\\\"*CO2*AFOLU*\\\", \\\"*CO2*Energy*\\\"]\\n)\\n\\n# Add total CO2\\nour_set_co2_total = our_set.filter(\\n    variable=\\\"*CO2*\\\", year=range(2030, 2500 + 1)\\n).process_over(\\n    \\\"variable\\\",\\n    \\\"sum\\\",\\n    op_cols={\\\"variable\\\": \\\"AR6 climate diagnostics|Infilled|Emissions|CO2\\\"},\\n    as_run=True,\\n    min_count=2,\\n)\\nour_set_co2_total.to_csv(\\n    Path(\\n        utils.DATA_DIR\\n        / \\\"interim\\\"\\n        / \\\"ar6-wg3-extended\\\"\\n        / f\\\"wg3-timeseries-extended_{ID}_CO2_total.csv\\\"\\n    )\\n)\";\n",
       "                var nbb_cells = Jupyter.notebook.get_cells();\n",
       "                for (var i = 0; i < nbb_cells.length; ++i) {\n",
       "                    if (nbb_cells[i].input_prompt_number == nbb_cell_id) {\n",
       "                        if (nbb_cells[i].get_text() == nbb_unformatted_code) {\n",
       "                             nbb_cells[i].set_text(nbb_formatted_code);\n",
       "                        }\n",
       "                        break;\n",
       "                    }\n",
       "                }\n",
       "            }, 500);\n",
       "            "
      ],
      "text/plain": [
       "<IPython.core.display.Javascript object>"
      ]
     },
     "metadata": {},
     "output_type": "display_data"
    }
   ],
   "source": [
    "# load in as SCM to easily combine fossil and AFOLU\n",
    "SOURCE_DATA = Path(\n",
    "    utils.DATA_DIR\n",
    "    / \"interim\"\n",
    "    / \"ar6-wg3-extended\"\n",
    "    / f\"wg3-timeseries-extended_{ID}.csv\"\n",
    ")\n",
    "\n",
    "our_set = scmdata.ScmRun(str(SOURCE_DATA)).filter(\n",
    "    variable=[\"*CO2*AFOLU*\", \"*CO2*Energy*\"]\n",
    ")\n",
    "\n",
    "# Add total CO2\n",
    "our_set_co2_total = our_set.filter(variable=\"*CO2*\", year=range(2030, 2500+1)).process_over(\n",
    "    \"variable\",\n",
    "    \"sum\",\n",
    "    op_cols={\"variable\": \"AR6 climate diagnostics|Infilled|Emissions|CO2\"},\n",
    "    as_run=True,\n",
    "    min_count=2,\n",
    ")\n",
    "our_set_co2_total.to_csv(\n",
    "    Path(\n",
    "        utils.DATA_DIR\n",
    "        / \"interim\"\n",
    "        / \"ar6-wg3-extended\"\n",
    "        / f\"wg3-timeseries-extended_{ID}_CO2_total.csv\"\n",
    "    )\n",
    ")\n",
    "\n"
   ]
  },
  {
   "cell_type": "markdown",
   "id": "d90e0470",
   "metadata": {},
   "source": [
    "## Cumulative net CDR (counting only negative emissions)"
   ]
  },
  {
   "cell_type": "code",
   "execution_count": 21,
   "id": "4c6c7928",
   "metadata": {},
   "outputs": [
    {
     "data": {
      "application/javascript": [
       "\n",
       "            setTimeout(function() {\n",
       "                var nbb_cell_id = 21;\n",
       "                var nbb_unformatted_code = \"# filter only for plotting\\nten_ms = our_set_co2_total.get_unique_meta(\\\"ms\\\")[::7][:10]\";\n",
       "                var nbb_formatted_code = \"# filter only for plotting\\nten_ms = our_set_co2_total.get_unique_meta(\\\"ms\\\")[::7][:10]\";\n",
       "                var nbb_cells = Jupyter.notebook.get_cells();\n",
       "                for (var i = 0; i < nbb_cells.length; ++i) {\n",
       "                    if (nbb_cells[i].input_prompt_number == nbb_cell_id) {\n",
       "                        if (nbb_cells[i].get_text() == nbb_unformatted_code) {\n",
       "                             nbb_cells[i].set_text(nbb_formatted_code);\n",
       "                        }\n",
       "                        break;\n",
       "                    }\n",
       "                }\n",
       "            }, 500);\n",
       "            "
      ],
      "text/plain": [
       "<IPython.core.display.Javascript object>"
      ]
     },
     "metadata": {},
     "output_type": "display_data"
    }
   ],
   "source": [
    "# filter only for plotting\n",
    "ten_ms = our_set_co2_total.get_unique_meta(\"ms\")[::7][:10]"
   ]
  },
  {
   "cell_type": "code",
   "execution_count": 23,
   "id": "0f984794",
   "metadata": {},
   "outputs": [
    {
     "name": "stderr",
     "output_type": "stream",
     "text": [
      "/Users/baur/opt/anaconda3/envs/baur-et-al-srm-commitment/lib/python3.9/site-packages/scmdata/plotting.py:96: FutureWarning: \n",
      "\n",
      "The `ci` parameter is deprecated. Use `errorbar='sd'` for the same effect.\n",
      "\n",
      "  ax = sns.lineplot(data=plt_df, **kwargs)\n"
     ]
    },
    {
     "data": {
      "image/png": "[encoded data removed]",
      "text/plain": [
       "<Figure size 640x480 with 1 Axes>"
      ]
     },
     "metadata": {},
     "output_type": "display_data"
    },
    {
     "name": "stderr",
     "output_type": "stream",
     "text": [
      "/Users/baur/opt/anaconda3/envs/baur-et-al-srm-commitment/lib/python3.9/site-packages/scmdata/plotting.py:96: FutureWarning: \n",
      "\n",
      "The `ci` parameter is deprecated. Use `errorbar='sd'` for the same effect.\n",
      "\n",
      "  ax = sns.lineplot(data=plt_df, **kwargs)\n"
     ]
    },
    {
     "data": {
      "image/png": "[encoded data removed]",
      "text/plain": [
       "<Figure size 640x480 with 1 Axes>"
      ]
     },
     "metadata": {},
     "output_type": "display_data"
    },
    {
     "data": {
      "text/plain": [
       "<ScmRun (timeseries: 349, timepoints: 471)>\n",
       "Time:\n",
       "\tStart: 2030-01-01T00:00:00\n",
       "\tEnd: 2500-01-01T00:00:00\n",
       "Meta:\n",
       "\t          max_CDR                  model  \\\n",
       "\t0   -39480.833434  MESSAGEix-GLOBIOM_1.1   \n",
       "\t1   -37956.840663  MESSAGEix-GLOBIOM_1.1   \n",
       "\t2   -37587.247564  REMIND-MAgPIE 2.1-4.2   \n",
       "\t3   -37267.859237  MESSAGEix-GLOBIOM_1.1   \n",
       "\t4   -37218.223807           POLES ENGAGE   \n",
       "\t..            ...                    ...   \n",
       "\t344  -1656.976704  MESSAGEix-GLOBIOM_1.1   \n",
       "\t345  -1381.831888           GEM-E3_V2021   \n",
       "\t346  -1171.584087              WITCH 5.0   \n",
       "\t347  -1083.139908           POLES ENGAGE   \n",
       "\t348     23.031643  REMIND-MAgPIE 2.1-4.2   \n",
       "\t\n",
       "\t                                                  ms region  \\\n",
       "\t0    MESSAGEix-GLOBIOM_1.1EN_INDCi2030_1600_COV_NDCp  World   \n",
       "\t1       MESSAGEix-GLOBIOM_1.1EN_INDCi2030_3000f_NDCp  World   \n",
       "\t2             REMIND-MAgPIE 2.1-4.2EN_INDCi2030_2500  World   \n",
       "\t3            MESSAGEix-GLOBIOM_1.1EN_INDCi2030_1800f  World   \n",
       "\t4                      POLES ENGAGEEN_INDCi2030_800f  World   \n",
       "\t..                                               ...    ...   \n",
       "\t344  MESSAGEix-GLOBIOM_1.1EN_INDCi2030_800f_COV_NDCp  World   \n",
       "\t345                    GEM-E3_V2021EN_INDCi2030_1400  World   \n",
       "\t346                      WITCH 5.0EN_INDCi2030_3000f  World   \n",
       "\t347                    POLES ENGAGEEN_INDCi2100_NDCp  World   \n",
       "\t348            REMIND-MAgPIE 2.1-4.2EN_INDCi2030_800  World   \n",
       "\t\n",
       "\t                       scenario     total_CDR       unit  \\\n",
       "\t0    EN_INDCi2030_1600_COV_NDCp -7.930080e+06  Mt CO2/yr   \n",
       "\t1       EN_INDCi2030_3000f_NDCp -1.425700e+07  Mt CO2/yr   \n",
       "\t2             EN_INDCi2030_2500 -1.175171e+07  Mt CO2/yr   \n",
       "\t3            EN_INDCi2030_1800f -1.456587e+07  Mt CO2/yr   \n",
       "\t4             EN_INDCi2030_800f -1.258510e+07  Mt CO2/yr   \n",
       "\t..                          ...           ...        ...   \n",
       "\t344  EN_INDCi2030_800f_COV_NDCp -1.354672e+06  Mt CO2/yr   \n",
       "\t345           EN_INDCi2030_1400 -4.963481e+05  Mt CO2/yr   \n",
       "\t346          EN_INDCi2030_3000f -5.704282e+05  Mt CO2/yr   \n",
       "\t347           EN_INDCi2100_NDCp -3.728911e+05  Mt CO2/yr   \n",
       "\t348            EN_INDCi2030_800 -3.093263e+05  Mt CO2/yr   \n",
       "\t\n",
       "\t                   variable  \n",
       "\t0    Cumulative Net CDR|CO2  \n",
       "\t1    Cumulative Net CDR|CO2  \n",
       "\t2    Cumulative Net CDR|CO2  \n",
       "\t3    Cumulative Net CDR|CO2  \n",
       "\t4    Cumulative Net CDR|CO2  \n",
       "\t..                      ...  \n",
       "\t344  Cumulative Net CDR|CO2  \n",
       "\t345  Cumulative Net CDR|CO2  \n",
       "\t346  Cumulative Net CDR|CO2  \n",
       "\t347  Cumulative Net CDR|CO2  \n",
       "\t348  Cumulative Net CDR|CO2  \n",
       "\t\n",
       "\t[349 rows x 8 columns]"
      ]
     },
     "execution_count": 23,
     "metadata": {},
     "output_type": "execute_result"
    },
    {
     "data": {
      "application/javascript": [
       "\n",
       "            setTimeout(function() {\n",
       "                var nbb_cell_id = 23;\n",
       "                var nbb_unformatted_code = \"start = our_set_co2_total.filter(\\n    variable=\\\"AR6 climate diagnostics|Infilled|Emissions|CO2\\\"\\n)\\nstart.filter(ms=ten_ms).lineplot(legend=False)\\nplt.show()\\n\\n# this is where we're losing 7 pathways because they have no negative emissions\\ntotal_net_cdr = scmdata.ScmRun(\\n    start.timeseries(time_axis=\\\"year\\\")\\n    .apply(lambda x: x[x < 0])\\n    .fillna(0)\\n    .cumsum(axis=1)\\n)\\ntotal_net_cdr[\\\"variable\\\"] = \\\"Cumulative Net CDR|CO2\\\"\\ntotal_net_cdr.filter(ms=ten_ms).lineplot(legend=False)\\nplt.show()\\n\\ntotal_net_cdr\";\n",
       "                var nbb_formatted_code = \"start = our_set_co2_total.filter(\\n    variable=\\\"AR6 climate diagnostics|Infilled|Emissions|CO2\\\"\\n)\\nstart.filter(ms=ten_ms).lineplot(legend=False)\\nplt.show()\\n\\n# this is where we're losing 7 pathways because they have no negative emissions\\ntotal_net_cdr = scmdata.ScmRun(\\n    start.timeseries(time_axis=\\\"year\\\")\\n    .apply(lambda x: x[x < 0])\\n    .fillna(0)\\n    .cumsum(axis=1)\\n)\\ntotal_net_cdr[\\\"variable\\\"] = \\\"Cumulative Net CDR|CO2\\\"\\ntotal_net_cdr.filter(ms=ten_ms).lineplot(legend=False)\\nplt.show()\\n\\ntotal_net_cdr\";\n",
       "                var nbb_cells = Jupyter.notebook.get_cells();\n",
       "                for (var i = 0; i < nbb_cells.length; ++i) {\n",
       "                    if (nbb_cells[i].input_prompt_number == nbb_cell_id) {\n",
       "                        if (nbb_cells[i].get_text() == nbb_unformatted_code) {\n",
       "                             nbb_cells[i].set_text(nbb_formatted_code);\n",
       "                        }\n",
       "                        break;\n",
       "                    }\n",
       "                }\n",
       "            }, 500);\n",
       "            "
      ],
      "text/plain": [
       "<IPython.core.display.Javascript object>"
      ]
     },
     "metadata": {},
     "output_type": "display_data"
    }
   ],
   "source": [
    "start = our_set_co2_total.filter(\n",
    "    variable=\"AR6 climate diagnostics|Infilled|Emissions|CO2\"\n",
    ")\n",
    "start.filter(ms=ten_ms).lineplot(legend=False)\n",
    "plt.show()\n",
    "\n",
    "# this is where we're losing 7 pathways because they have no negative emissions\n",
    "total_net_cdr = scmdata.ScmRun(\n",
    "    start.timeseries(time_axis=\"year\")\n",
    "    .apply(lambda x: x[x < 0])\n",
    "    .fillna(0)\n",
    "    .cumsum(axis=1)\n",
    ")\n",
    "total_net_cdr[\"variable\"] = \"Cumulative Net CDR|CO2\"\n",
    "total_net_cdr.filter(ms=ten_ms).lineplot(legend=False)\n",
    "plt.show()\n",
    "\n",
    "total_net_cdr"
   ]
  },
  {
   "cell_type": "markdown",
   "id": "8dbfa274",
   "metadata": {},
   "source": [
    "## Year of returning to 1.5"
   ]
  },
  {
   "cell_type": "markdown",
   "id": "ea11a4cb",
   "metadata": {},
   "source": [
    "### Scenario temperature data"
   ]
  },
  {
   "cell_type": "code",
   "execution_count": 24,
   "id": "e60b19a0",
   "metadata": {},
   "outputs": [
    {
     "data": {
      "application/vnd.jupyter.widget-view+json": {
       "model_id": "d67637eda13745fa8f1afa88e4216043",
       "version_major": 2,
       "version_minor": 0
      },
      "text/plain": [
       "0it [00:00, ?it/s]"
      ]
     },
     "metadata": {},
     "output_type": "display_data"
    },
    {
     "data": {
      "text/html": [
       "<div>\n",
       "<style scoped>\n",
       "    .dataframe tbody tr th:only-of-type {\n",
       "        vertical-align: middle;\n",
       "    }\n",
       "\n",
       "    .dataframe tbody tr th {\n",
       "        vertical-align: top;\n",
       "    }\n",
       "\n",
       "    .dataframe thead th {\n",
       "        text-align: right;\n",
       "    }\n",
       "</style>\n",
       "<table border=\"1\" class=\"dataframe\">\n",
       "  <thead>\n",
       "    <tr style=\"text-align: right;\">\n",
       "      <th></th>\n",
       "      <th></th>\n",
       "      <th></th>\n",
       "      <th></th>\n",
       "      <th></th>\n",
       "      <th></th>\n",
       "      <th></th>\n",
       "      <th></th>\n",
       "      <th></th>\n",
       "      <th></th>\n",
       "      <th>time</th>\n",
       "      <th>1750-01-01 00:00:00</th>\n",
       "      <th>1751-01-01 00:00:00</th>\n",
       "      <th>1752-01-01 00:00:00</th>\n",
       "      <th>1753-01-01 00:00:00</th>\n",
       "      <th>1754-01-01 00:00:00</th>\n",
       "      <th>1755-01-01 00:00:00</th>\n",
       "      <th>1756-01-01 00:00:00</th>\n",
       "      <th>1757-01-01 00:00:00</th>\n",
       "      <th>1758-01-01 00:00:00</th>\n",
       "      <th>1759-01-01 00:00:00</th>\n",
       "      <th>...</th>\n",
       "      <th>2491-01-01 00:00:00</th>\n",
       "      <th>2492-01-01 00:00:00</th>\n",
       "      <th>2493-01-01 00:00:00</th>\n",
       "      <th>2494-01-01 00:00:00</th>\n",
       "      <th>2495-01-01 00:00:00</th>\n",
       "      <th>2496-01-01 00:00:00</th>\n",
       "      <th>2497-01-01 00:00:00</th>\n",
       "      <th>2498-01-01 00:00:00</th>\n",
       "      <th>2499-01-01 00:00:00</th>\n",
       "      <th>2500-01-01 00:00:00</th>\n",
       "    </tr>\n",
       "    <tr>\n",
       "      <th>climate_model</th>\n",
       "      <th>ensemble_member</th>\n",
       "      <th>max_CDR</th>\n",
       "      <th>model</th>\n",
       "      <th>ms</th>\n",
       "      <th>region</th>\n",
       "      <th>run_id</th>\n",
       "      <th>scenario</th>\n",
       "      <th>total_CDR</th>\n",
       "      <th>unit</th>\n",
       "      <th>variable</th>\n",
       "      <th></th>\n",
       "      <th></th>\n",
       "      <th></th>\n",
       "      <th></th>\n",
       "      <th></th>\n",
       "      <th></th>\n",
       "      <th></th>\n",
       "      <th></th>\n",
       "      <th></th>\n",
       "      <th></th>\n",
       "      <th></th>\n",
       "      <th></th>\n",
       "      <th></th>\n",
       "      <th></th>\n",
       "      <th></th>\n",
       "      <th></th>\n",
       "      <th></th>\n",
       "      <th></th>\n",
       "      <th></th>\n",
       "      <th></th>\n",
       "      <th></th>\n",
       "    </tr>\n",
       "  </thead>\n",
       "  <tbody>\n",
       "    <tr>\n",
       "      <th rowspan=\"5\" valign=\"top\">MAGICCv7.5.3</th>\n",
       "      <th rowspan=\"2\" valign=\"top\">0</th>\n",
       "      <th rowspan=\"2\" valign=\"top\">-13683.159952</th>\n",
       "      <th rowspan=\"2\" valign=\"top\">AIM/CGE 2.1</th>\n",
       "      <th rowspan=\"2\" valign=\"top\">AIM/CGE 2.1CD-LINKS_INDC2030i_1600</th>\n",
       "      <th rowspan=\"2\" valign=\"top\">World</th>\n",
       "      <th rowspan=\"2\" valign=\"top\">0</th>\n",
       "      <th rowspan=\"2\" valign=\"top\">CD-LINKS_INDC2030i_1600</th>\n",
       "      <th rowspan=\"2\" valign=\"top\">-4.910419e+06</th>\n",
       "      <th>K</th>\n",
       "      <th>Surface Air Temperature Change</th>\n",
       "      <td>0.0</td>\n",
       "      <td>0.021043</td>\n",
       "      <td>0.030870</td>\n",
       "      <td>0.036407</td>\n",
       "      <td>0.038264</td>\n",
       "      <td>0.039579</td>\n",
       "      <td>0.035514</td>\n",
       "      <td>0.021288</td>\n",
       "      <td>0.024249</td>\n",
       "      <td>0.032423</td>\n",
       "      <td>...</td>\n",
       "      <td>0.441699</td>\n",
       "      <td>0.432501</td>\n",
       "      <td>0.423370</td>\n",
       "      <td>0.414198</td>\n",
       "      <td>0.404953</td>\n",
       "      <td>0.395628</td>\n",
       "      <td>0.386221</td>\n",
       "      <td>0.376730</td>\n",
       "      <td>0.367155</td>\n",
       "      <td>0.357497</td>\n",
       "    </tr>\n",
       "    <tr>\n",
       "      <th>W/m^2</th>\n",
       "      <th>Effective Radiative Forcing</th>\n",
       "      <td>0.0</td>\n",
       "      <td>0.100231</td>\n",
       "      <td>0.108626</td>\n",
       "      <td>0.105016</td>\n",
       "      <td>0.089092</td>\n",
       "      <td>0.034038</td>\n",
       "      <td>0.013630</td>\n",
       "      <td>0.057298</td>\n",
       "      <td>0.086908</td>\n",
       "      <td>0.100721</td>\n",
       "      <td>...</td>\n",
       "      <td>-0.059199</td>\n",
       "      <td>-0.076787</td>\n",
       "      <td>-0.094439</td>\n",
       "      <td>-0.112115</td>\n",
       "      <td>-0.129794</td>\n",
       "      <td>-0.147467</td>\n",
       "      <td>-0.165132</td>\n",
       "      <td>-0.182790</td>\n",
       "      <td>-0.200442</td>\n",
       "      <td>-0.218088</td>\n",
       "    </tr>\n",
       "    <tr>\n",
       "      <th rowspan=\"2\" valign=\"top\">1</th>\n",
       "      <th rowspan=\"2\" valign=\"top\">-13683.159952</th>\n",
       "      <th rowspan=\"2\" valign=\"top\">AIM/CGE 2.1</th>\n",
       "      <th rowspan=\"2\" valign=\"top\">AIM/CGE 2.1CD-LINKS_INDC2030i_1600</th>\n",
       "      <th rowspan=\"2\" valign=\"top\">World</th>\n",
       "      <th rowspan=\"2\" valign=\"top\">1</th>\n",
       "      <th rowspan=\"2\" valign=\"top\">CD-LINKS_INDC2030i_1600</th>\n",
       "      <th rowspan=\"2\" valign=\"top\">-4.910419e+06</th>\n",
       "      <th>K</th>\n",
       "      <th>Surface Air Temperature Change</th>\n",
       "      <td>0.0</td>\n",
       "      <td>0.025362</td>\n",
       "      <td>0.036492</td>\n",
       "      <td>0.044633</td>\n",
       "      <td>0.050639</td>\n",
       "      <td>0.055206</td>\n",
       "      <td>0.051393</td>\n",
       "      <td>0.036129</td>\n",
       "      <td>0.041512</td>\n",
       "      <td>0.051194</td>\n",
       "      <td>...</td>\n",
       "      <td>0.211517</td>\n",
       "      <td>0.195229</td>\n",
       "      <td>0.178895</td>\n",
       "      <td>0.162516</td>\n",
       "      <td>0.146093</td>\n",
       "      <td>0.129626</td>\n",
       "      <td>0.113128</td>\n",
       "      <td>0.096664</td>\n",
       "      <td>0.080265</td>\n",
       "      <td>0.063936</td>\n",
       "    </tr>\n",
       "    <tr>\n",
       "      <th>W/m^2</th>\n",
       "      <th>Effective Radiative Forcing</th>\n",
       "      <td>0.0</td>\n",
       "      <td>0.157746</td>\n",
       "      <td>0.161763</td>\n",
       "      <td>0.160179</td>\n",
       "      <td>0.146170</td>\n",
       "      <td>0.051879</td>\n",
       "      <td>0.007747</td>\n",
       "      <td>0.090207</td>\n",
       "      <td>0.137026</td>\n",
       "      <td>0.154813</td>\n",
       "      <td>...</td>\n",
       "      <td>-0.943560</td>\n",
       "      <td>-0.960071</td>\n",
       "      <td>-0.976650</td>\n",
       "      <td>-0.993295</td>\n",
       "      <td>-1.010003</td>\n",
       "      <td>-1.026773</td>\n",
       "      <td>-1.043493</td>\n",
       "      <td>-1.059621</td>\n",
       "      <td>-1.075332</td>\n",
       "      <td>-1.090730</td>\n",
       "    </tr>\n",
       "    <tr>\n",
       "      <th>2</th>\n",
       "      <th>-13683.159952</th>\n",
       "      <th>AIM/CGE 2.1</th>\n",
       "      <th>AIM/CGE 2.1CD-LINKS_INDC2030i_1600</th>\n",
       "      <th>World</th>\n",
       "      <th>2</th>\n",
       "      <th>CD-LINKS_INDC2030i_1600</th>\n",
       "      <th>-4.910419e+06</th>\n",
       "      <th>K</th>\n",
       "      <th>Surface Air Temperature Change</th>\n",
       "      <td>0.0</td>\n",
       "      <td>0.024834</td>\n",
       "      <td>0.035457</td>\n",
       "      <td>0.042353</td>\n",
       "      <td>0.045963</td>\n",
       "      <td>0.049021</td>\n",
       "      <td>0.044581</td>\n",
       "      <td>0.028472</td>\n",
       "      <td>0.033620</td>\n",
       "      <td>0.042977</td>\n",
       "      <td>...</td>\n",
       "      <td>0.953528</td>\n",
       "      <td>0.942733</td>\n",
       "      <td>0.931856</td>\n",
       "      <td>0.920898</td>\n",
       "      <td>0.909861</td>\n",
       "      <td>0.898746</td>\n",
       "      <td>0.887553</td>\n",
       "      <td>0.876284</td>\n",
       "      <td>0.864939</td>\n",
       "      <td>0.853521</td>\n",
       "    </tr>\n",
       "  </tbody>\n",
       "</table>\n",
       "<p>5 rows × 751 columns</p>\n",
       "</div>"
      ],
      "text/plain": [
       "time                                                                                                                                                                                 1750-01-01 00:00:00  \\\n",
       "climate_model ensemble_member max_CDR       model       ms                                 region run_id scenario                total_CDR     unit  variable                                              \n",
       "MAGICCv7.5.3  0               -13683.159952 AIM/CGE 2.1 AIM/CGE 2.1CD-LINKS_INDC2030i_1600 World  0      CD-LINKS_INDC2030i_1600 -4.910419e+06 K     Surface Air Temperature Change                  0.0   \n",
       "                                                                                                                                               W/m^2 Effective Radiative Forcing                     0.0   \n",
       "              1               -13683.159952 AIM/CGE 2.1 AIM/CGE 2.1CD-LINKS_INDC2030i_1600 World  1      CD-LINKS_INDC2030i_1600 -4.910419e+06 K     Surface Air Temperature Change                  0.0   \n",
       "                                                                                                                                               W/m^2 Effective Radiative Forcing                     0.0   \n",
       "              2               -13683.159952 AIM/CGE 2.1 AIM/CGE 2.1CD-LINKS_INDC2030i_1600 World  2      CD-LINKS_INDC2030i_1600 -4.910419e+06 K     Surface Air Temperature Change                  0.0   \n",
       "\n",
       "time                                                                                                                                                                                 1751-01-01 00:00:00  \\\n",
       "climate_model ensemble_member max_CDR       model       ms                                 region run_id scenario                total_CDR     unit  variable                                              \n",
       "MAGICCv7.5.3  0               -13683.159952 AIM/CGE 2.1 AIM/CGE 2.1CD-LINKS_INDC2030i_1600 World  0      CD-LINKS_INDC2030i_1600 -4.910419e+06 K     Surface Air Temperature Change             0.021043   \n",
       "                                                                                                                                               W/m^2 Effective Radiative Forcing                0.100231   \n",
       "              1               -13683.159952 AIM/CGE 2.1 AIM/CGE 2.1CD-LINKS_INDC2030i_1600 World  1      CD-LINKS_INDC2030i_1600 -4.910419e+06 K     Surface Air Temperature Change             0.025362   \n",
       "                                                                                                                                               W/m^2 Effective Radiative Forcing                0.157746   \n",
       "              2               -13683.159952 AIM/CGE 2.1 AIM/CGE 2.1CD-LINKS_INDC2030i_1600 World  2      CD-LINKS_INDC2030i_1600 -4.910419e+06 K     Surface Air Temperature Change             0.024834   \n",
       "\n",
       "time                                                                                                                                                                                 1752-01-01 00:00:00  \\\n",
       "climate_model ensemble_member max_CDR       model       ms                                 region run_id scenario                total_CDR     unit  variable                                              \n",
       "MAGICCv7.5.3  0               -13683.159952 AIM/CGE 2.1 AIM/CGE 2.1CD-LINKS_INDC2030i_1600 World  0      CD-LINKS_INDC2030i_1600 -4.910419e+06 K     Surface Air Temperature Change             0.030870   \n",
       "                                                                                                                                               W/m^2 Effective Radiative Forcing                0.108626   \n",
       "              1               -13683.159952 AIM/CGE 2.1 AIM/CGE 2.1CD-LINKS_INDC2030i_1600 World  1      CD-LINKS_INDC2030i_1600 -4.910419e+06 K     Surface Air Temperature Change             0.036492   \n",
       "                                                                                                                                               W/m^2 Effective Radiative Forcing                0.161763   \n",
       "              2               -13683.159952 AIM/CGE 2.1 AIM/CGE 2.1CD-LINKS_INDC2030i_1600 World  2      CD-LINKS_INDC2030i_1600 -4.910419e+06 K     Surface Air Temperature Change             0.035457   \n",
       "\n",
       "time                                                                                                                                                                                 1753-01-01 00:00:00  \\\n",
       "climate_model ensemble_member max_CDR       model       ms                                 region run_id scenario                total_CDR     unit  variable                                              \n",
       "MAGICCv7.5.3  0               -13683.159952 AIM/CGE 2.1 AIM/CGE 2.1CD-LINKS_INDC2030i_1600 World  0      CD-LINKS_INDC2030i_1600 -4.910419e+06 K     Surface Air Temperature Change             0.036407   \n",
       "                                                                                                                                               W/m^2 Effective Radiative Forcing                0.105016   \n",
       "              1               -13683.159952 AIM/CGE 2.1 AIM/CGE 2.1CD-LINKS_INDC2030i_1600 World  1      CD-LINKS_INDC2030i_1600 -4.910419e+06 K     Surface Air Temperature Change             0.044633   \n",
       "                                                                                                                                               W/m^2 Effective Radiative Forcing                0.160179   \n",
       "              2               -13683.159952 AIM/CGE 2.1 AIM/CGE 2.1CD-LINKS_INDC2030i_1600 World  2      CD-LINKS_INDC2030i_1600 -4.910419e+06 K     Surface Air Temperature Change             0.042353   \n",
       "\n",
       "time                                                                                                                                                                                 1754-01-01 00:00:00  \\\n",
       "climate_model ensemble_member max_CDR       model       ms                                 region run_id scenario                total_CDR     unit  variable                                              \n",
       "MAGICCv7.5.3  0               -13683.159952 AIM/CGE 2.1 AIM/CGE 2.1CD-LINKS_INDC2030i_1600 World  0      CD-LINKS_INDC2030i_1600 -4.910419e+06 K     Surface Air Temperature Change             0.038264   \n",
       "                                                                                                                                               W/m^2 Effective Radiative Forcing                0.089092   \n",
       "              1               -13683.159952 AIM/CGE 2.1 AIM/CGE 2.1CD-LINKS_INDC2030i_1600 World  1      CD-LINKS_INDC2030i_1600 -4.910419e+06 K     Surface Air Temperature Change             0.050639   \n",
       "                                                                                                                                               W/m^2 Effective Radiative Forcing                0.146170   \n",
       "              2               -13683.159952 AIM/CGE 2.1 AIM/CGE 2.1CD-LINKS_INDC2030i_1600 World  2      CD-LINKS_INDC2030i_1600 -4.910419e+06 K     Surface Air Temperature Change             0.045963   \n",
       "\n",
       "time                                                                                                                                                                                 1755-01-01 00:00:00  \\\n",
       "climate_model ensemble_member max_CDR       model       ms                                 region run_id scenario                total_CDR     unit  variable                                              \n",
       "MAGICCv7.5.3  0               -13683.159952 AIM/CGE 2.1 AIM/CGE 2.1CD-LINKS_INDC2030i_1600 World  0      CD-LINKS_INDC2030i_1600 -4.910419e+06 K     Surface Air Temperature Change             0.039579   \n",
       "                                                                                                                                               W/m^2 Effective Radiative Forcing                0.034038   \n",
       "              1               -13683.159952 AIM/CGE 2.1 AIM/CGE 2.1CD-LINKS_INDC2030i_1600 World  1      CD-LINKS_INDC2030i_1600 -4.910419e+06 K     Surface Air Temperature Change             0.055206   \n",
       "                                                                                                                                               W/m^2 Effective Radiative Forcing                0.051879   \n",
       "              2               -13683.159952 AIM/CGE 2.1 AIM/CGE 2.1CD-LINKS_INDC2030i_1600 World  2      CD-LINKS_INDC2030i_1600 -4.910419e+06 K     Surface Air Temperature Change             0.049021   \n",
       "\n",
       "time                                                                                                                                                                                 1756-01-01 00:00:00  \\\n",
       "climate_model ensemble_member max_CDR       model       ms                                 region run_id scenario                total_CDR     unit  variable                                              \n",
       "MAGICCv7.5.3  0               -13683.159952 AIM/CGE 2.1 AIM/CGE 2.1CD-LINKS_INDC2030i_1600 World  0      CD-LINKS_INDC2030i_1600 -4.910419e+06 K     Surface Air Temperature Change             0.035514   \n",
       "                                                                                                                                               W/m^2 Effective Radiative Forcing                0.013630   \n",
       "              1               -13683.159952 AIM/CGE 2.1 AIM/CGE 2.1CD-LINKS_INDC2030i_1600 World  1      CD-LINKS_INDC2030i_1600 -4.910419e+06 K     Surface Air Temperature Change             0.051393   \n",
       "                                                                                                                                               W/m^2 Effective Radiative Forcing                0.007747   \n",
       "              2               -13683.159952 AIM/CGE 2.1 AIM/CGE 2.1CD-LINKS_INDC2030i_1600 World  2      CD-LINKS_INDC2030i_1600 -4.910419e+06 K     Surface Air Temperature Change             0.044581   \n",
       "\n",
       "time                                                                                                                                                                                 1757-01-01 00:00:00  \\\n",
       "climate_model ensemble_member max_CDR       model       ms                                 region run_id scenario                total_CDR     unit  variable                                              \n",
       "MAGICCv7.5.3  0               -13683.159952 AIM/CGE 2.1 AIM/CGE 2.1CD-LINKS_INDC2030i_1600 World  0      CD-LINKS_INDC2030i_1600 -4.910419e+06 K     Surface Air Temperature Change             0.021288   \n",
       "                                                                                                                                               W/m^2 Effective Radiative Forcing                0.057298   \n",
       "              1               -13683.159952 AIM/CGE 2.1 AIM/CGE 2.1CD-LINKS_INDC2030i_1600 World  1      CD-LINKS_INDC2030i_1600 -4.910419e+06 K     Surface Air Temperature Change             0.036129   \n",
       "                                                                                                                                               W/m^2 Effective Radiative Forcing                0.090207   \n",
       "              2               -13683.159952 AIM/CGE 2.1 AIM/CGE 2.1CD-LINKS_INDC2030i_1600 World  2      CD-LINKS_INDC2030i_1600 -4.910419e+06 K     Surface Air Temperature Change             0.028472   \n",
       "\n",
       "time                                                                                                                                                                                 1758-01-01 00:00:00  \\\n",
       "climate_model ensemble_member max_CDR       model       ms                                 region run_id scenario                total_CDR     unit  variable                                              \n",
       "MAGICCv7.5.3  0               -13683.159952 AIM/CGE 2.1 AIM/CGE 2.1CD-LINKS_INDC2030i_1600 World  0      CD-LINKS_INDC2030i_1600 -4.910419e+06 K     Surface Air Temperature Change             0.024249   \n",
       "                                                                                                                                               W/m^2 Effective Radiative Forcing                0.086908   \n",
       "              1               -13683.159952 AIM/CGE 2.1 AIM/CGE 2.1CD-LINKS_INDC2030i_1600 World  1      CD-LINKS_INDC2030i_1600 -4.910419e+06 K     Surface Air Temperature Change             0.041512   \n",
       "                                                                                                                                               W/m^2 Effective Radiative Forcing                0.137026   \n",
       "              2               -13683.159952 AIM/CGE 2.1 AIM/CGE 2.1CD-LINKS_INDC2030i_1600 World  2      CD-LINKS_INDC2030i_1600 -4.910419e+06 K     Surface Air Temperature Change             0.033620   \n",
       "\n",
       "time                                                                                                                                                                                 1759-01-01 00:00:00  \\\n",
       "climate_model ensemble_member max_CDR       model       ms                                 region run_id scenario                total_CDR     unit  variable                                              \n",
       "MAGICCv7.5.3  0               -13683.159952 AIM/CGE 2.1 AIM/CGE 2.1CD-LINKS_INDC2030i_1600 World  0      CD-LINKS_INDC2030i_1600 -4.910419e+06 K     Surface Air Temperature Change             0.032423   \n",
       "                                                                                                                                               W/m^2 Effective Radiative Forcing                0.100721   \n",
       "              1               -13683.159952 AIM/CGE 2.1 AIM/CGE 2.1CD-LINKS_INDC2030i_1600 World  1      CD-LINKS_INDC2030i_1600 -4.910419e+06 K     Surface Air Temperature Change             0.051194   \n",
       "                                                                                                                                               W/m^2 Effective Radiative Forcing                0.154813   \n",
       "              2               -13683.159952 AIM/CGE 2.1 AIM/CGE 2.1CD-LINKS_INDC2030i_1600 World  2      CD-LINKS_INDC2030i_1600 -4.910419e+06 K     Surface Air Temperature Change             0.042977   \n",
       "\n",
       "time                                                                                                                                                                                 ...  \\\n",
       "climate_model ensemble_member max_CDR       model       ms                                 region run_id scenario                total_CDR     unit  variable                        ...   \n",
       "MAGICCv7.5.3  0               -13683.159952 AIM/CGE 2.1 AIM/CGE 2.1CD-LINKS_INDC2030i_1600 World  0      CD-LINKS_INDC2030i_1600 -4.910419e+06 K     Surface Air Temperature Change  ...   \n",
       "                                                                                                                                               W/m^2 Effective Radiative Forcing     ...   \n",
       "              1               -13683.159952 AIM/CGE 2.1 AIM/CGE 2.1CD-LINKS_INDC2030i_1600 World  1      CD-LINKS_INDC2030i_1600 -4.910419e+06 K     Surface Air Temperature Change  ...   \n",
       "                                                                                                                                               W/m^2 Effective Radiative Forcing     ...   \n",
       "              2               -13683.159952 AIM/CGE 2.1 AIM/CGE 2.1CD-LINKS_INDC2030i_1600 World  2      CD-LINKS_INDC2030i_1600 -4.910419e+06 K     Surface Air Temperature Change  ...   \n",
       "\n",
       "time                                                                                                                                                                                 2491-01-01 00:00:00  \\\n",
       "climate_model ensemble_member max_CDR       model       ms                                 region run_id scenario                total_CDR     unit  variable                                              \n",
       "MAGICCv7.5.3  0               -13683.159952 AIM/CGE 2.1 AIM/CGE 2.1CD-LINKS_INDC2030i_1600 World  0      CD-LINKS_INDC2030i_1600 -4.910419e+06 K     Surface Air Temperature Change             0.441699   \n",
       "                                                                                                                                               W/m^2 Effective Radiative Forcing               -0.059199   \n",
       "              1               -13683.159952 AIM/CGE 2.1 AIM/CGE 2.1CD-LINKS_INDC2030i_1600 World  1      CD-LINKS_INDC2030i_1600 -4.910419e+06 K     Surface Air Temperature Change             0.211517   \n",
       "                                                                                                                                               W/m^2 Effective Radiative Forcing               -0.943560   \n",
       "              2               -13683.159952 AIM/CGE 2.1 AIM/CGE 2.1CD-LINKS_INDC2030i_1600 World  2      CD-LINKS_INDC2030i_1600 -4.910419e+06 K     Surface Air Temperature Change             0.953528   \n",
       "\n",
       "time                                                                                                                                                                                 2492-01-01 00:00:00  \\\n",
       "climate_model ensemble_member max_CDR       model       ms                                 region run_id scenario                total_CDR     unit  variable                                              \n",
       "MAGICCv7.5.3  0               -13683.159952 AIM/CGE 2.1 AIM/CGE 2.1CD-LINKS_INDC2030i_1600 World  0      CD-LINKS_INDC2030i_1600 -4.910419e+06 K     Surface Air Temperature Change             0.432501   \n",
       "                                                                                                                                               W/m^2 Effective Radiative Forcing               -0.076787   \n",
       "              1               -13683.159952 AIM/CGE 2.1 AIM/CGE 2.1CD-LINKS_INDC2030i_1600 World  1      CD-LINKS_INDC2030i_1600 -4.910419e+06 K     Surface Air Temperature Change             0.195229   \n",
       "                                                                                                                                               W/m^2 Effective Radiative Forcing               -0.960071   \n",
       "              2               -13683.159952 AIM/CGE 2.1 AIM/CGE 2.1CD-LINKS_INDC2030i_1600 World  2      CD-LINKS_INDC2030i_1600 -4.910419e+06 K     Surface Air Temperature Change             0.942733   \n",
       "\n",
       "time                                                                                                                                                                                 2493-01-01 00:00:00  \\\n",
       "climate_model ensemble_member max_CDR       model       ms                                 region run_id scenario                total_CDR     unit  variable                                              \n",
       "MAGICCv7.5.3  0               -13683.159952 AIM/CGE 2.1 AIM/CGE 2.1CD-LINKS_INDC2030i_1600 World  0      CD-LINKS_INDC2030i_1600 -4.910419e+06 K     Surface Air Temperature Change             0.423370   \n",
       "                                                                                                                                               W/m^2 Effective Radiative Forcing               -0.094439   \n",
       "              1               -13683.159952 AIM/CGE 2.1 AIM/CGE 2.1CD-LINKS_INDC2030i_1600 World  1      CD-LINKS_INDC2030i_1600 -4.910419e+06 K     Surface Air Temperature Change             0.178895   \n",
       "                                                                                                                                               W/m^2 Effective Radiative Forcing               -0.976650   \n",
       "              2               -13683.159952 AIM/CGE 2.1 AIM/CGE 2.1CD-LINKS_INDC2030i_1600 World  2      CD-LINKS_INDC2030i_1600 -4.910419e+06 K     Surface Air Temperature Change             0.931856   \n",
       "\n",
       "time                                                                                                                                                                                 2494-01-01 00:00:00  \\\n",
       "climate_model ensemble_member max_CDR       model       ms                                 region run_id scenario                total_CDR     unit  variable                                              \n",
       "MAGICCv7.5.3  0               -13683.159952 AIM/CGE 2.1 AIM/CGE 2.1CD-LINKS_INDC2030i_1600 World  0      CD-LINKS_INDC2030i_1600 -4.910419e+06 K     Surface Air Temperature Change             0.414198   \n",
       "                                                                                                                                               W/m^2 Effective Radiative Forcing               -0.112115   \n",
       "              1               -13683.159952 AIM/CGE 2.1 AIM/CGE 2.1CD-LINKS_INDC2030i_1600 World  1      CD-LINKS_INDC2030i_1600 -4.910419e+06 K     Surface Air Temperature Change             0.162516   \n",
       "                                                                                                                                               W/m^2 Effective Radiative Forcing               -0.993295   \n",
       "              2               -13683.159952 AIM/CGE 2.1 AIM/CGE 2.1CD-LINKS_INDC2030i_1600 World  2      CD-LINKS_INDC2030i_1600 -4.910419e+06 K     Surface Air Temperature Change             0.920898   \n",
       "\n",
       "time                                                                                                                                                                                 2495-01-01 00:00:00  \\\n",
       "climate_model ensemble_member max_CDR       model       ms                                 region run_id scenario                total_CDR     unit  variable                                              \n",
       "MAGICCv7.5.3  0               -13683.159952 AIM/CGE 2.1 AIM/CGE 2.1CD-LINKS_INDC2030i_1600 World  0      CD-LINKS_INDC2030i_1600 -4.910419e+06 K     Surface Air Temperature Change             0.404953   \n",
       "                                                                                                                                               W/m^2 Effective Radiative Forcing               -0.129794   \n",
       "              1               -13683.159952 AIM/CGE 2.1 AIM/CGE 2.1CD-LINKS_INDC2030i_1600 World  1      CD-LINKS_INDC2030i_1600 -4.910419e+06 K     Surface Air Temperature Change             0.146093   \n",
       "                                                                                                                                               W/m^2 Effective Radiative Forcing               -1.010003   \n",
       "              2               -13683.159952 AIM/CGE 2.1 AIM/CGE 2.1CD-LINKS_INDC2030i_1600 World  2      CD-LINKS_INDC2030i_1600 -4.910419e+06 K     Surface Air Temperature Change             0.909861   \n",
       "\n",
       "time                                                                                                                                                                                 2496-01-01 00:00:00  \\\n",
       "climate_model ensemble_member max_CDR       model       ms                                 region run_id scenario                total_CDR     unit  variable                                              \n",
       "MAGICCv7.5.3  0               -13683.159952 AIM/CGE 2.1 AIM/CGE 2.1CD-LINKS_INDC2030i_1600 World  0      CD-LINKS_INDC2030i_1600 -4.910419e+06 K     Surface Air Temperature Change             0.395628   \n",
       "                                                                                                                                               W/m^2 Effective Radiative Forcing               -0.147467   \n",
       "              1               -13683.159952 AIM/CGE 2.1 AIM/CGE 2.1CD-LINKS_INDC2030i_1600 World  1      CD-LINKS_INDC2030i_1600 -4.910419e+06 K     Surface Air Temperature Change             0.129626   \n",
       "                                                                                                                                               W/m^2 Effective Radiative Forcing               -1.026773   \n",
       "              2               -13683.159952 AIM/CGE 2.1 AIM/CGE 2.1CD-LINKS_INDC2030i_1600 World  2      CD-LINKS_INDC2030i_1600 -4.910419e+06 K     Surface Air Temperature Change             0.898746   \n",
       "\n",
       "time                                                                                                                                                                                 2497-01-01 00:00:00  \\\n",
       "climate_model ensemble_member max_CDR       model       ms                                 region run_id scenario                total_CDR     unit  variable                                              \n",
       "MAGICCv7.5.3  0               -13683.159952 AIM/CGE 2.1 AIM/CGE 2.1CD-LINKS_INDC2030i_1600 World  0      CD-LINKS_INDC2030i_1600 -4.910419e+06 K     Surface Air Temperature Change             0.386221   \n",
       "                                                                                                                                               W/m^2 Effective Radiative Forcing               -0.165132   \n",
       "              1               -13683.159952 AIM/CGE 2.1 AIM/CGE 2.1CD-LINKS_INDC2030i_1600 World  1      CD-LINKS_INDC2030i_1600 -4.910419e+06 K     Surface Air Temperature Change             0.113128   \n",
       "                                                                                                                                               W/m^2 Effective Radiative Forcing               -1.043493   \n",
       "              2               -13683.159952 AIM/CGE 2.1 AIM/CGE 2.1CD-LINKS_INDC2030i_1600 World  2      CD-LINKS_INDC2030i_1600 -4.910419e+06 K     Surface Air Temperature Change             0.887553   \n",
       "\n",
       "time                                                                                                                                                                                 2498-01-01 00:00:00  \\\n",
       "climate_model ensemble_member max_CDR       model       ms                                 region run_id scenario                total_CDR     unit  variable                                              \n",
       "MAGICCv7.5.3  0               -13683.159952 AIM/CGE 2.1 AIM/CGE 2.1CD-LINKS_INDC2030i_1600 World  0      CD-LINKS_INDC2030i_1600 -4.910419e+06 K     Surface Air Temperature Change             0.376730   \n",
       "                                                                                                                                               W/m^2 Effective Radiative Forcing               -0.182790   \n",
       "              1               -13683.159952 AIM/CGE 2.1 AIM/CGE 2.1CD-LINKS_INDC2030i_1600 World  1      CD-LINKS_INDC2030i_1600 -4.910419e+06 K     Surface Air Temperature Change             0.096664   \n",
       "                                                                                                                                               W/m^2 Effective Radiative Forcing               -1.059621   \n",
       "              2               -13683.159952 AIM/CGE 2.1 AIM/CGE 2.1CD-LINKS_INDC2030i_1600 World  2      CD-LINKS_INDC2030i_1600 -4.910419e+06 K     Surface Air Temperature Change             0.876284   \n",
       "\n",
       "time                                                                                                                                                                                 2499-01-01 00:00:00  \\\n",
       "climate_model ensemble_member max_CDR       model       ms                                 region run_id scenario                total_CDR     unit  variable                                              \n",
       "MAGICCv7.5.3  0               -13683.159952 AIM/CGE 2.1 AIM/CGE 2.1CD-LINKS_INDC2030i_1600 World  0      CD-LINKS_INDC2030i_1600 -4.910419e+06 K     Surface Air Temperature Change             0.367155   \n",
       "                                                                                                                                               W/m^2 Effective Radiative Forcing               -0.200442   \n",
       "              1               -13683.159952 AIM/CGE 2.1 AIM/CGE 2.1CD-LINKS_INDC2030i_1600 World  1      CD-LINKS_INDC2030i_1600 -4.910419e+06 K     Surface Air Temperature Change             0.080265   \n",
       "                                                                                                                                               W/m^2 Effective Radiative Forcing               -1.075332   \n",
       "              2               -13683.159952 AIM/CGE 2.1 AIM/CGE 2.1CD-LINKS_INDC2030i_1600 World  2      CD-LINKS_INDC2030i_1600 -4.910419e+06 K     Surface Air Temperature Change             0.864939   \n",
       "\n",
       "time                                                                                                                                                                                 2500-01-01 00:00:00  \n",
       "climate_model ensemble_member max_CDR       model       ms                                 region run_id scenario                total_CDR     unit  variable                                             \n",
       "MAGICCv7.5.3  0               -13683.159952 AIM/CGE 2.1 AIM/CGE 2.1CD-LINKS_INDC2030i_1600 World  0      CD-LINKS_INDC2030i_1600 -4.910419e+06 K     Surface Air Temperature Change             0.357497  \n",
       "                                                                                                                                               W/m^2 Effective Radiative Forcing               -0.218088  \n",
       "              1               -13683.159952 AIM/CGE 2.1 AIM/CGE 2.1CD-LINKS_INDC2030i_1600 World  1      CD-LINKS_INDC2030i_1600 -4.910419e+06 K     Surface Air Temperature Change             0.063936  \n",
       "                                                                                                                                               W/m^2 Effective Radiative Forcing               -1.090730  \n",
       "              2               -13683.159952 AIM/CGE 2.1 AIM/CGE 2.1CD-LINKS_INDC2030i_1600 World  2      CD-LINKS_INDC2030i_1600 -4.910419e+06 K     Surface Air Temperature Change             0.853521  \n",
       "\n",
       "[5 rows x 751 columns]"
      ]
     },
     "execution_count": 24,
     "metadata": {},
     "output_type": "execute_result"
    },
    {
     "data": {
      "application/javascript": [
       "\n",
       "            setTimeout(function() {\n",
       "                var nbb_cell_id = 24;\n",
       "                var nbb_unformatted_code = \"datasets = []\\n\\nfor min_, max_ in tqdman.tqdm(zip(SCENARIOS_min, SCENARIOS_max)):\\n    DATA_FILE = Path(\\n        utils.DATA_DIR\\n        / \\\"interim\\\"\\n        / \\\"magicc-output\\\"\\n        / f\\\"magicc-output_{ID}_{min_}_{max_}.csv\\\"\\n    )\\n    datasets.append(scmdata.ScmRun(str(DATA_FILE)))\\n\\nmagicc_output = scmdata.run_append(datasets)\\nmagicc_output[\\\"ms\\\"] = magicc_output[\\\"model\\\"] + magicc_output[\\\"scenario\\\"]\\nmagicc_output.head()\";\n",
       "                var nbb_formatted_code = \"datasets = []\\n\\nfor min_, max_ in tqdman.tqdm(zip(SCENARIOS_min, SCENARIOS_max)):\\n    DATA_FILE = Path(\\n        utils.DATA_DIR\\n        / \\\"interim\\\"\\n        / \\\"magicc-output\\\"\\n        / f\\\"magicc-output_{ID}_{min_}_{max_}.csv\\\"\\n    )\\n    datasets.append(scmdata.ScmRun(str(DATA_FILE)))\\n\\nmagicc_output = scmdata.run_append(datasets)\\nmagicc_output[\\\"ms\\\"] = magicc_output[\\\"model\\\"] + magicc_output[\\\"scenario\\\"]\\nmagicc_output.head()\";\n",
       "                var nbb_cells = Jupyter.notebook.get_cells();\n",
       "                for (var i = 0; i < nbb_cells.length; ++i) {\n",
       "                    if (nbb_cells[i].input_prompt_number == nbb_cell_id) {\n",
       "                        if (nbb_cells[i].get_text() == nbb_unformatted_code) {\n",
       "                             nbb_cells[i].set_text(nbb_formatted_code);\n",
       "                        }\n",
       "                        break;\n",
       "                    }\n",
       "                }\n",
       "            }, 500);\n",
       "            "
      ],
      "text/plain": [
       "<IPython.core.display.Javascript object>"
      ]
     },
     "metadata": {},
     "output_type": "display_data"
    }
   ],
   "source": [
    "datasets = []\n",
    "\n",
    "for min_, max_ in tqdman.tqdm(zip(SCENARIOS_min, SCENARIOS_max)):\n",
    "    DATA_FILE = Path(\n",
    "        utils.DATA_DIR\n",
    "        / \"interim\"\n",
    "        / \"magicc-output\"\n",
    "        / f\"magicc-output_{ID}_{min_}_{max_}.csv\"\n",
    "    )\n",
    "    datasets.append(scmdata.ScmRun(str(DATA_FILE)))\n",
    "\n",
    "magicc_output = scmdata.run_append(datasets)\n",
    "magicc_output[\"ms\"] = magicc_output[\"model\"] + magicc_output[\"scenario\"]\n",
    "magicc_output.head()"
   ]
  },
  {
   "cell_type": "code",
   "execution_count": 25,
   "id": "8e643b5c",
   "metadata": {},
   "outputs": [
    {
     "data": {
      "application/javascript": [
       "\n",
       "            setTimeout(function() {\n",
       "                var nbb_cell_id = 25;\n",
       "                var nbb_unformatted_code = \"temp_ts = (\\n    magicc_output.filter(variable=\\\"Surface Air Temperature Change\\\")\\n    .filter(year=range(2015, 3000 + 1))\\n    .timeseries(time_axis=\\\"year\\\")\\n)\";\n",
       "                var nbb_formatted_code = \"temp_ts = (\\n    magicc_output.filter(variable=\\\"Surface Air Temperature Change\\\")\\n    .filter(year=range(2015, 3000 + 1))\\n    .timeseries(time_axis=\\\"year\\\")\\n)\";\n",
       "                var nbb_cells = Jupyter.notebook.get_cells();\n",
       "                for (var i = 0; i < nbb_cells.length; ++i) {\n",
       "                    if (nbb_cells[i].input_prompt_number == nbb_cell_id) {\n",
       "                        if (nbb_cells[i].get_text() == nbb_unformatted_code) {\n",
       "                             nbb_cells[i].set_text(nbb_formatted_code);\n",
       "                        }\n",
       "                        break;\n",
       "                    }\n",
       "                }\n",
       "            }, 500);\n",
       "            "
      ],
      "text/plain": [
       "<IPython.core.display.Javascript object>"
      ]
     },
     "metadata": {},
     "output_type": "display_data"
    }
   ],
   "source": [
    "temp_ts = (\n",
    "    magicc_output.filter(variable=\"Surface Air Temperature Change\")\n",
    "    .filter(year=range(2015, 3000 + 1))\n",
    "    .timeseries(time_axis=\"year\")\n",
    ")"
   ]
  },
  {
   "cell_type": "code",
   "execution_count": 27,
   "id": "471aa7dc",
   "metadata": {},
   "outputs": [
    {
     "data": {
      "application/javascript": [
       "\n",
       "            setTimeout(function() {\n",
       "                var nbb_cell_id = 27;\n",
       "                var nbb_unformatted_code = \"def drop_all_idx_except(iseries, keep_idx):\\n    return iseries.reset_index(\\n        list(set(iseries.index.names) - set(keep_idx)),\\n        drop=True,\\n    )\";\n",
       "                var nbb_formatted_code = \"def drop_all_idx_except(iseries, keep_idx):\\n    return iseries.reset_index(\\n        list(set(iseries.index.names) - set(keep_idx)),\\n        drop=True,\\n    )\";\n",
       "                var nbb_cells = Jupyter.notebook.get_cells();\n",
       "                for (var i = 0; i < nbb_cells.length; ++i) {\n",
       "                    if (nbb_cells[i].input_prompt_number == nbb_cell_id) {\n",
       "                        if (nbb_cells[i].get_text() == nbb_unformatted_code) {\n",
       "                             nbb_cells[i].set_text(nbb_formatted_code);\n",
       "                        }\n",
       "                        break;\n",
       "                    }\n",
       "                }\n",
       "            }, 500);\n",
       "            "
      ],
      "text/plain": [
       "<IPython.core.display.Javascript object>"
      ]
     },
     "metadata": {},
     "output_type": "display_data"
    }
   ],
   "source": [
    "def drop_all_idx_except(iseries, keep_idx):\n",
    "    return iseries.reset_index(\n",
    "        list(set(iseries.index.names) - set(keep_idx)),\n",
    "        drop=True,\n",
    "    )"
   ]
  },
  {
   "cell_type": "markdown",
   "id": "956b927c",
   "metadata": {},
   "source": [
    "#### Year of coming back down to 1.5°C:\n",
    "- pathways peaking below 1.5°C i.e. not deploying SRM: 1111\n",
    "- pathways not coming back down before 2500: 9999"
   ]
  },
  {
   "cell_type": "code",
   "execution_count": 28,
   "id": "e23b66a0",
   "metadata": {
    "scrolled": true
   },
   "outputs": [
    {
     "data": {
      "application/vnd.jupyter.widget-view+json": {
       "model_id": "98032044d81f42bd8adcdd7ba07b8317",
       "version_major": 2,
       "version_minor": 0
      },
      "text/plain": [
       "  0%|          | 0/198409 [00:00<?, ?it/s]"
      ]
     },
     "metadata": {},
     "output_type": "display_data"
    },
    {
     "data": {
      "text/plain": [
       "count    208200.000000\n",
       "mean       3370.212815\n",
       "std        2846.689013\n",
       "min        1111.000000\n",
       "25%        2129.000000\n",
       "50%        2216.000000\n",
       "75%        2380.000000\n",
       "max        9999.000000\n",
       "Name: year_return_back_below_15_temp, dtype: float64"
      ]
     },
     "execution_count": 28,
     "metadata": {},
     "output_type": "execute_result"
    },
    {
     "data": {
      "application/javascript": [
       "\n",
       "            setTimeout(function() {\n",
       "                var nbb_cell_id = 28;\n",
       "                var nbb_unformatted_code = \"peak_temps = temp_ts.max(axis=1)\\npeak_temps_lt_15 = peak_temps < 1.5\\npeak_temps_year = temp_ts.idxmax(axis=1)\\n\\n\\nyear_15 = peak_temps_year * 0\\n\\n# If peak temperature is less than 1.5,\\n# 1.5 year is 1111 (not nan to still keep it in the dataset to be able to count the pathways that never deploy SRM)\\nyear_15[peak_temps_lt_15] = 1111\\n\\n# For runs that peak at greater than 1.5, find if/when they come back down\\ntemp_ts_peak_gt_15 = temp_ts[~peak_temps_lt_15]\\nfor idx, vals in tqdman.tqdm(\\n    temp_ts_peak_gt_15.iterrows(), total=temp_ts_peak_gt_15.shape[0]\\n):\\n    lt_15_after_peak = vals.loc[peak_temps_year[idx] :] <= 1.5  # bool\\n    if lt_15_after_peak.any():\\n        year_15[idx] = lt_15_after_peak.idxmax()\\n    else:\\n        year_15[idx] = 9999\\n\\nyear_15 = drop_all_idx_except(year_15, [\\\"climate_model\\\", \\\"ensemble_member\\\", \\\"ms\\\"])\\nyear_15.name = \\\"year_return_back_below_15_temp\\\"\\nyear_15.describe()\";\n",
       "                var nbb_formatted_code = \"peak_temps = temp_ts.max(axis=1)\\npeak_temps_lt_15 = peak_temps < 1.5\\npeak_temps_year = temp_ts.idxmax(axis=1)\\n\\n\\nyear_15 = peak_temps_year * 0\\n\\n# If peak temperature is less than 1.5,\\n# 1.5 year is 1111 (not nan to still keep it in the dataset to be able to count the pathways that never deploy SRM)\\nyear_15[peak_temps_lt_15] = 1111\\n\\n# For runs that peak at greater than 1.5, find if/when they come back down\\ntemp_ts_peak_gt_15 = temp_ts[~peak_temps_lt_15]\\nfor idx, vals in tqdman.tqdm(\\n    temp_ts_peak_gt_15.iterrows(), total=temp_ts_peak_gt_15.shape[0]\\n):\\n    lt_15_after_peak = vals.loc[peak_temps_year[idx] :] <= 1.5  # bool\\n    if lt_15_after_peak.any():\\n        year_15[idx] = lt_15_after_peak.idxmax()\\n    else:\\n        year_15[idx] = 9999\\n\\nyear_15 = drop_all_idx_except(year_15, [\\\"climate_model\\\", \\\"ensemble_member\\\", \\\"ms\\\"])\\nyear_15.name = \\\"year_return_back_below_15_temp\\\"\\nyear_15.describe()\";\n",
       "                var nbb_cells = Jupyter.notebook.get_cells();\n",
       "                for (var i = 0; i < nbb_cells.length; ++i) {\n",
       "                    if (nbb_cells[i].input_prompt_number == nbb_cell_id) {\n",
       "                        if (nbb_cells[i].get_text() == nbb_unformatted_code) {\n",
       "                             nbb_cells[i].set_text(nbb_formatted_code);\n",
       "                        }\n",
       "                        break;\n",
       "                    }\n",
       "                }\n",
       "            }, 500);\n",
       "            "
      ],
      "text/plain": [
       "<IPython.core.display.Javascript object>"
      ]
     },
     "metadata": {},
     "output_type": "display_data"
    }
   ],
   "source": [
    "peak_temps = temp_ts.max(axis=1)\n",
    "peak_temps_lt_15 = peak_temps < 1.5\n",
    "peak_temps_year = temp_ts.idxmax(axis=1)\n",
    "\n",
    "\n",
    "year_15 = peak_temps_year * 0\n",
    "\n",
    "# If peak temperature is less than 1.5,\n",
    "# 1.5 year is 1111 (not nan to still keep it in the dataset to be able to count the pathways that never deploy SRM)\n",
    "year_15[peak_temps_lt_15] = 1111\n",
    "\n",
    "# For runs that peak at greater than 1.5, find if/when they come back down\n",
    "temp_ts_peak_gt_15 = temp_ts[~peak_temps_lt_15]\n",
    "for idx, vals in tqdman.tqdm(\n",
    "    temp_ts_peak_gt_15.iterrows(), total=temp_ts_peak_gt_15.shape[0]\n",
    "):\n",
    "    lt_15_after_peak = vals.loc[peak_temps_year[idx] :] <= 1.5  # bool\n",
    "    if lt_15_after_peak.any():\n",
    "        year_15[idx] = lt_15_after_peak.idxmax()\n",
    "    else:\n",
    "        year_15[idx] = 9999\n",
    "\n",
    "year_15 = drop_all_idx_except(year_15, [\"climate_model\", \"ensemble_member\", \"ms\"])\n",
    "year_15.name = \"year_return_back_below_15_temp\"\n",
    "year_15.describe()"
   ]
  },
  {
   "cell_type": "markdown",
   "id": "68eb9385",
   "metadata": {},
   "source": [
    "## Year of net-zero CO2"
   ]
  },
  {
   "cell_type": "code",
   "execution_count": 53,
   "id": "ca6cdf59",
   "metadata": {
    "scrolled": true
   },
   "outputs": [
    {
     "data": {
      "application/javascript": [
       "\n",
       "            setTimeout(function() {\n",
       "                var nbb_cell_id = 53;\n",
       "                var nbb_unformatted_code = \"## if using < 0 it will set the net-zero date for some pathways really late that have tiny or no CDR\\nnet_zero_df = our_set_co2_total.timeseries().apply(lambda x: x[x < 10]).idxmax(axis=1)\";\n",
       "                var nbb_formatted_code = \"## if using < 0 it will set the net-zero date for some pathways really late that have tiny or no CDR\\nnet_zero_df = our_set_co2_total.timeseries().apply(lambda x: x[x < 10]).idxmax(axis=1)\";\n",
       "                var nbb_cells = Jupyter.notebook.get_cells();\n",
       "                for (var i = 0; i < nbb_cells.length; ++i) {\n",
       "                    if (nbb_cells[i].input_prompt_number == nbb_cell_id) {\n",
       "                        if (nbb_cells[i].get_text() == nbb_unformatted_code) {\n",
       "                             nbb_cells[i].set_text(nbb_formatted_code);\n",
       "                        }\n",
       "                        break;\n",
       "                    }\n",
       "                }\n",
       "            }, 500);\n",
       "            "
      ],
      "text/plain": [
       "<IPython.core.display.Javascript object>"
      ]
     },
     "metadata": {},
     "output_type": "display_data"
    }
   ],
   "source": [
    "## if using < 0 it will set the net-zero date for some pathways really late that have tiny or no CDR\n",
    "net_zero_df = our_set_co2_total.timeseries().apply(lambda x: x[x < 10]).idxmax(axis=1)"
   ]
  },
  {
   "cell_type": "code",
   "execution_count": 54,
   "id": "7ac7d86f",
   "metadata": {},
   "outputs": [
    {
     "data": {
      "application/javascript": [
       "\n",
       "            setTimeout(function() {\n",
       "                var nbb_cell_id = 54;\n",
       "                var nbb_unformatted_code = \"net_zero_year = drop_all_idx_except(\\n    net_zero_df, [\\\"climate_model\\\", \\\"ensemble_member\\\", \\\"ms\\\"]\\n)\";\n",
       "                var nbb_formatted_code = \"net_zero_year = drop_all_idx_except(\\n    net_zero_df, [\\\"climate_model\\\", \\\"ensemble_member\\\", \\\"ms\\\"]\\n)\";\n",
       "                var nbb_cells = Jupyter.notebook.get_cells();\n",
       "                for (var i = 0; i < nbb_cells.length; ++i) {\n",
       "                    if (nbb_cells[i].input_prompt_number == nbb_cell_id) {\n",
       "                        if (nbb_cells[i].get_text() == nbb_unformatted_code) {\n",
       "                             nbb_cells[i].set_text(nbb_formatted_code);\n",
       "                        }\n",
       "                        break;\n",
       "                    }\n",
       "                }\n",
       "            }, 500);\n",
       "            "
      ],
      "text/plain": [
       "<IPython.core.display.Javascript object>"
      ]
     },
     "metadata": {},
     "output_type": "display_data"
    }
   ],
   "source": [
    "net_zero_year = drop_all_idx_except(\n",
    "    net_zero_df, [\"climate_model\", \"ensemble_member\", \"ms\"]\n",
    ")"
   ]
  },
  {
   "cell_type": "markdown",
   "id": "9e372501",
   "metadata": {},
   "source": [
    "### turn into different format to append to final dataframe"
   ]
  },
  {
   "cell_type": "code",
   "execution_count": 58,
   "id": "7e5f75a0",
   "metadata": {},
   "outputs": [
    {
     "data": {
      "application/vnd.jupyter.widget-view+json": {
       "model_id": "3ee7d3185dbe4db5b753272411e3aeb8",
       "version_major": 2,
       "version_minor": 0
      },
      "text/plain": [
       "  0%|          | 0/208200 [00:00<?, ?it/s]"
      ]
     },
     "metadata": {},
     "output_type": "display_data"
    },
    {
     "data": {
      "text/plain": [
       "6"
      ]
     },
     "execution_count": 58,
     "metadata": {},
     "output_type": "execute_result"
    },
    {
     "data": {
      "application/javascript": [
       "\n",
       "            setTimeout(function() {\n",
       "                var nbb_cell_id = 58;\n",
       "                var nbb_unformatted_code = \"net_zero_year_row = year_15 * 0\\nnet_zero_year_row.name = \\\"net-zero_year\\\"\\nms_index = list(year_15.index.names).index(\\\"ms\\\")\\n\\n\\nfailed_scenarios = []\\nfor idx, year_15_row in tqdman.tqdm(year_15.items(), total=year_15.shape[0]):\\n    ms = idx[ms_index]\\n    try:\\n        net_zero_year_single = net_zero_year.loc[ms].year\\n    except KeyError:\\n        # failes scnearios don't reach net-zero before 2500\\n        net_zero_year_single = -1111\\n        failed_scenarios.append(ms)\\n\\n    net_zero_year_row[idx] = net_zero_year_single\\n#     break\\n\\nnet_zero_year_row_all = drop_all_idx_except(\\n    net_zero_year_row, [\\\"climate_model\\\", \\\"ensemble_member\\\", \\\"ms\\\"]\\n)\\nlen(set(failed_scenarios))\";\n",
       "                var nbb_formatted_code = \"net_zero_year_row = year_15 * 0\\nnet_zero_year_row.name = \\\"net-zero_year\\\"\\nms_index = list(year_15.index.names).index(\\\"ms\\\")\\n\\n\\nfailed_scenarios = []\\nfor idx, year_15_row in tqdman.tqdm(year_15.items(), total=year_15.shape[0]):\\n    ms = idx[ms_index]\\n    try:\\n        net_zero_year_single = net_zero_year.loc[ms].year\\n    except KeyError:\\n        # failes scnearios don't reach net-zero before 2500\\n        net_zero_year_single = -1111\\n        failed_scenarios.append(ms)\\n\\n    net_zero_year_row[idx] = net_zero_year_single\\n#     break\\n\\nnet_zero_year_row_all = drop_all_idx_except(\\n    net_zero_year_row, [\\\"climate_model\\\", \\\"ensemble_member\\\", \\\"ms\\\"]\\n)\\nlen(set(failed_scenarios))\";\n",
       "                var nbb_cells = Jupyter.notebook.get_cells();\n",
       "                for (var i = 0; i < nbb_cells.length; ++i) {\n",
       "                    if (nbb_cells[i].input_prompt_number == nbb_cell_id) {\n",
       "                        if (nbb_cells[i].get_text() == nbb_unformatted_code) {\n",
       "                             nbb_cells[i].set_text(nbb_formatted_code);\n",
       "                        }\n",
       "                        break;\n",
       "                    }\n",
       "                }\n",
       "            }, 500);\n",
       "            "
      ],
      "text/plain": [
       "<IPython.core.display.Javascript object>"
      ]
     },
     "metadata": {},
     "output_type": "display_data"
    }
   ],
   "source": [
    "net_zero_year_row = year_15 * 0\n",
    "net_zero_year_row.name = \"net-zero_year\"\n",
    "ms_index = list(year_15.index.names).index(\"ms\")\n",
    "\n",
    "\n",
    "failed_scenarios = []\n",
    "for idx, year_15_row in tqdman.tqdm(year_15.items(), total=year_15.shape[0]):\n",
    "    ms = idx[ms_index]\n",
    "    try:\n",
    "        net_zero_year_single = net_zero_year.loc[ms].year\n",
    "    except KeyError:\n",
    "        # failes scnearios don't reach net-zero before 2500\n",
    "        net_zero_year_single = -1111\n",
    "        failed_scenarios.append(ms)\n",
    "\n",
    "    net_zero_year_row[idx] = net_zero_year_single\n",
    "#     break\n",
    "\n",
    "net_zero_year_row_all = drop_all_idx_except(\n",
    "    net_zero_year_row, [\"climate_model\", \"ensemble_member\", \"ms\"]\n",
    ")\n",
    "len(set(failed_scenarios))"
   ]
  },
  {
   "cell_type": "code",
   "execution_count": 59,
   "id": "a5952d63",
   "metadata": {
    "scrolled": true
   },
   "outputs": [
    {
     "data": {
      "text/plain": [
       "count    208200.000000\n",
       "mean       2054.858790\n",
       "std         425.164804\n",
       "min       -1111.000000\n",
       "25%        2069.000000\n",
       "50%        2094.000000\n",
       "75%        2117.000000\n",
       "max        2466.000000\n",
       "Name: net-zero_year, dtype: float64"
      ]
     },
     "execution_count": 59,
     "metadata": {},
     "output_type": "execute_result"
    },
    {
     "data": {
      "application/javascript": [
       "\n",
       "            setTimeout(function() {\n",
       "                var nbb_cell_id = 59;\n",
       "                var nbb_unformatted_code = \"net_zero_year_row_all.describe()\";\n",
       "                var nbb_formatted_code = \"net_zero_year_row_all.describe()\";\n",
       "                var nbb_cells = Jupyter.notebook.get_cells();\n",
       "                for (var i = 0; i < nbb_cells.length; ++i) {\n",
       "                    if (nbb_cells[i].input_prompt_number == nbb_cell_id) {\n",
       "                        if (nbb_cells[i].get_text() == nbb_unformatted_code) {\n",
       "                             nbb_cells[i].set_text(nbb_formatted_code);\n",
       "                        }\n",
       "                        break;\n",
       "                    }\n",
       "                }\n",
       "            }, 500);\n",
       "            "
      ],
      "text/plain": [
       "<IPython.core.display.Javascript object>"
      ]
     },
     "metadata": {},
     "output_type": "display_data"
    }
   ],
   "source": [
    "net_zero_year_row_all.describe()"
   ]
  },
  {
   "cell_type": "markdown",
   "id": "c74f385f",
   "metadata": {},
   "source": [
    "## Total CDR in year of returning to 1.5"
   ]
  },
  {
   "cell_type": "code",
   "execution_count": 60,
   "id": "4d2dc941",
   "metadata": {},
   "outputs": [
    {
     "data": {
      "application/vnd.jupyter.widget-view+json": {
       "model_id": "053ca953e16c45729b4ef94ffcdcf061",
       "version_major": 2,
       "version_minor": 0
      },
      "text/plain": [
       "  0%|          | 0/208200 [00:00<?, ?it/s]"
      ]
     },
     "metadata": {},
     "output_type": "display_data"
    },
    {
     "data": {
      "text/plain": [
       "0"
      ]
     },
     "execution_count": 60,
     "metadata": {},
     "output_type": "execute_result"
    },
    {
     "data": {
      "application/javascript": [
       "\n",
       "            setTimeout(function() {\n",
       "                var nbb_cell_id = 60;\n",
       "                var nbb_unformatted_code = \"total_net_cdr_ts = total_net_cdr.timeseries(time_axis=\\\"year\\\", meta=[\\\"ms\\\"])\\nms_index = list(year_15.index.names).index(\\\"ms\\\")\\n\\nnet_cdr_at_year_15_row = year_15 * 0\\nnet_cdr_at_year_15_row.name = \\\"net_CDR_at_15_temp\\\"\\n\\nfailed_scenarios = []\\nfor idx, year_15_row in tqdman.tqdm(year_15.items(), total=year_15.shape[0]):\\n    ms = idx[ms_index]\\n    year_15_row_float = float(year_15_row)\\n\\n    # Scenario doesn't get back below 1.5C, net CDR at 1.5C is value it has in 2500\\n    if year_15_row_float == 9999:\\n        try:\\n            total_net_cdr_at_15 = total_net_cdr_ts.loc[ms, 2500]\\n            # exception for pathways that never actually reduce temperatures and therefore never have net-negative\\n        except:\\n            #    print(f\\\"exception for {ms}\\\")\\n            total_net_cdr_at_15 = 0\\n    # Scenario doesn't overshoot 1.5C, no need for CDR: therefore undefined\\n    elif year_15_row_float == 1111:\\n        total_net_cdr_at_15 = np.nan\\n    else:\\n        try:\\n            total_net_cdr_at_15 = total_net_cdr_ts.loc[ms, year_15_row_float]\\n        except KeyError:\\n            failed_scenarios.append(ms)\\n            break\\n\\n    net_cdr_at_year_15_row[idx] = total_net_cdr_at_15\\n#     break\\n\\nnet_cdr_at_year_15_row = drop_all_idx_except(\\n    net_cdr_at_year_15_row, [\\\"climate_model\\\", \\\"ensemble_member\\\", \\\"ms\\\"]\\n)\\nlen(set(failed_scenarios))\";\n",
       "                var nbb_formatted_code = \"total_net_cdr_ts = total_net_cdr.timeseries(time_axis=\\\"year\\\", meta=[\\\"ms\\\"])\\nms_index = list(year_15.index.names).index(\\\"ms\\\")\\n\\nnet_cdr_at_year_15_row = year_15 * 0\\nnet_cdr_at_year_15_row.name = \\\"net_CDR_at_15_temp\\\"\\n\\nfailed_scenarios = []\\nfor idx, year_15_row in tqdman.tqdm(year_15.items(), total=year_15.shape[0]):\\n    ms = idx[ms_index]\\n    year_15_row_float = float(year_15_row)\\n\\n    # Scenario doesn't get back below 1.5C, net CDR at 1.5C is value it has in 2500\\n    if year_15_row_float == 9999:\\n        try:\\n            total_net_cdr_at_15 = total_net_cdr_ts.loc[ms, 2500]\\n            # exception for pathways that never actually reduce temperatures and therefore never have net-negative\\n        except:\\n            #    print(f\\\"exception for {ms}\\\")\\n            total_net_cdr_at_15 = 0\\n    # Scenario doesn't overshoot 1.5C, no need for CDR: therefore undefined\\n    elif year_15_row_float == 1111:\\n        total_net_cdr_at_15 = np.nan\\n    else:\\n        try:\\n            total_net_cdr_at_15 = total_net_cdr_ts.loc[ms, year_15_row_float]\\n        except KeyError:\\n            failed_scenarios.append(ms)\\n            break\\n\\n    net_cdr_at_year_15_row[idx] = total_net_cdr_at_15\\n#     break\\n\\nnet_cdr_at_year_15_row = drop_all_idx_except(\\n    net_cdr_at_year_15_row, [\\\"climate_model\\\", \\\"ensemble_member\\\", \\\"ms\\\"]\\n)\\nlen(set(failed_scenarios))\";\n",
       "                var nbb_cells = Jupyter.notebook.get_cells();\n",
       "                for (var i = 0; i < nbb_cells.length; ++i) {\n",
       "                    if (nbb_cells[i].input_prompt_number == nbb_cell_id) {\n",
       "                        if (nbb_cells[i].get_text() == nbb_unformatted_code) {\n",
       "                             nbb_cells[i].set_text(nbb_formatted_code);\n",
       "                        }\n",
       "                        break;\n",
       "                    }\n",
       "                }\n",
       "            }, 500);\n",
       "            "
      ],
      "text/plain": [
       "<IPython.core.display.Javascript object>"
      ]
     },
     "metadata": {},
     "output_type": "display_data"
    }
   ],
   "source": [
    "total_net_cdr_ts = total_net_cdr.timeseries(time_axis=\"year\", meta=[\"ms\"])\n",
    "ms_index = list(year_15.index.names).index(\"ms\")\n",
    "\n",
    "net_cdr_at_year_15_row = year_15 * 0\n",
    "net_cdr_at_year_15_row.name = \"net_CDR_at_15_temp\"\n",
    "\n",
    "failed_scenarios = []\n",
    "for idx, year_15_row in tqdman.tqdm(year_15.items(), total=year_15.shape[0]):\n",
    "    ms = idx[ms_index]\n",
    "    year_15_row_float = float(year_15_row)\n",
    "\n",
    "    # Scenario doesn't get back below 1.5C, net CDR at 1.5C is value it has in 2500\n",
    "    if year_15_row_float == 9999:\n",
    "        try:\n",
    "            total_net_cdr_at_15 = total_net_cdr_ts.loc[ms, 2500]\n",
    "            # exception for pathways that never actually reduce temperatures and therefore never have net-negative\n",
    "        except:\n",
    "            #    print(f\"exception for {ms}\")\n",
    "            total_net_cdr_at_15 = 0\n",
    "    # Scenario doesn't overshoot 1.5C, no need for CDR: therefore undefined\n",
    "    elif year_15_row_float == 1111:\n",
    "        total_net_cdr_at_15 = np.nan\n",
    "    else:\n",
    "        try:\n",
    "            total_net_cdr_at_15 = total_net_cdr_ts.loc[ms, year_15_row_float]\n",
    "        except KeyError:\n",
    "            failed_scenarios.append(ms)\n",
    "            break\n",
    "\n",
    "    net_cdr_at_year_15_row[idx] = total_net_cdr_at_15\n",
    "#     break\n",
    "\n",
    "net_cdr_at_year_15_row = drop_all_idx_except(\n",
    "    net_cdr_at_year_15_row, [\"climate_model\", \"ensemble_member\", \"ms\"]\n",
    ")\n",
    "len(set(failed_scenarios))"
   ]
  },
  {
   "cell_type": "markdown",
   "id": "784679ca",
   "metadata": {},
   "source": [
    "## Average CDR between peak and back below 1.5\n",
    "Use only negative emissions"
   ]
  },
  {
   "cell_type": "code",
   "execution_count": 61,
   "id": "a5512aba",
   "metadata": {},
   "outputs": [
    {
     "data": {
      "application/vnd.jupyter.widget-view+json": {
       "model_id": "8cbdf77c85924cea86159bd495b2de63",
       "version_major": 2,
       "version_minor": 0
      },
      "text/plain": [
       "  0%|          | 0/208200 [00:00<?, ?it/s]"
      ]
     },
     "metadata": {},
     "output_type": "display_data"
    },
    {
     "data": {
      "application/javascript": [
       "\n",
       "            setTimeout(function() {\n",
       "                var nbb_cell_id = 61;\n",
       "                var nbb_unformatted_code = \"average_cdr_at_year_15 = year_15 * 0\\naverage_cdr_at_year_15.name = \\\"average_cdr_between_peak_and_15_temp\\\"\\n\\npeak_temps_year_short_idx = drop_all_idx_except(\\n    peak_temps_year, [\\\"climate_model\\\", \\\"ensemble_member\\\", \\\"ms\\\"]\\n)\\n\\nfor idx, year_15_row in tqdman.tqdm(year_15.items(), total=year_15.shape[0]):\\n    ms = idx[ms_index]\\n\\n    val_year_15_floath = float(year_15_row)\\n    if val_year_15_floath == 9999:\\n        # Doesn't return below 1.5, calculate average CDR until 2500\\n        try:\\n            peak_temp_year = net_zero_year.loc[idx]\\n            average_cdr = (\\n                total_net_cdr_ts.loc[ms, peak_temp_year]\\n                - total_net_cdr_ts.loc[ms, 2500]\\n            ) / (2500 - peak_temp_year)\\n            # Exception for pathways that never actually have net-negative emissions\\n        except:\\n            average_cdr = 0\\n    # no SRM, no CDR -> average CDR = 0\\n    elif val_year_15_floath == 1111:\\n        average_cdr = np.nan\\n\\n    else:\\n        peak_temp_year = peak_temps_year_short_idx.loc[idx]\\n        average_cdr = (\\n            total_net_cdr_ts.loc[ms, peak_temp_year]\\n            - total_net_cdr_ts.loc[ms, val_year_15_floath]\\n        ) / (val_year_15_floath - peak_temp_year)\\n\\n    average_cdr_at_year_15[idx] = average_cdr\\n#     break\\n\\naverage_cdr_at_year_15 = drop_all_idx_except(\\n    average_cdr_at_year_15, [\\\"climate_model\\\", \\\"ensemble_member\\\", \\\"ms\\\"]\\n)\";\n",
       "                var nbb_formatted_code = \"average_cdr_at_year_15 = year_15 * 0\\naverage_cdr_at_year_15.name = \\\"average_cdr_between_peak_and_15_temp\\\"\\n\\npeak_temps_year_short_idx = drop_all_idx_except(\\n    peak_temps_year, [\\\"climate_model\\\", \\\"ensemble_member\\\", \\\"ms\\\"]\\n)\\n\\nfor idx, year_15_row in tqdman.tqdm(year_15.items(), total=year_15.shape[0]):\\n    ms = idx[ms_index]\\n\\n    val_year_15_floath = float(year_15_row)\\n    if val_year_15_floath == 9999:\\n        # Doesn't return below 1.5, calculate average CDR until 2500\\n        try:\\n            peak_temp_year = net_zero_year.loc[idx]\\n            average_cdr = (\\n                total_net_cdr_ts.loc[ms, peak_temp_year]\\n                - total_net_cdr_ts.loc[ms, 2500]\\n            ) / (2500 - peak_temp_year)\\n            # Exception for pathways that never actually have net-negative emissions\\n        except:\\n            average_cdr = 0\\n    # no SRM, no CDR -> average CDR = 0\\n    elif val_year_15_floath == 1111:\\n        average_cdr = np.nan\\n\\n    else:\\n        peak_temp_year = peak_temps_year_short_idx.loc[idx]\\n        average_cdr = (\\n            total_net_cdr_ts.loc[ms, peak_temp_year]\\n            - total_net_cdr_ts.loc[ms, val_year_15_floath]\\n        ) / (val_year_15_floath - peak_temp_year)\\n\\n    average_cdr_at_year_15[idx] = average_cdr\\n#     break\\n\\naverage_cdr_at_year_15 = drop_all_idx_except(\\n    average_cdr_at_year_15, [\\\"climate_model\\\", \\\"ensemble_member\\\", \\\"ms\\\"]\\n)\";\n",
       "                var nbb_cells = Jupyter.notebook.get_cells();\n",
       "                for (var i = 0; i < nbb_cells.length; ++i) {\n",
       "                    if (nbb_cells[i].input_prompt_number == nbb_cell_id) {\n",
       "                        if (nbb_cells[i].get_text() == nbb_unformatted_code) {\n",
       "                             nbb_cells[i].set_text(nbb_formatted_code);\n",
       "                        }\n",
       "                        break;\n",
       "                    }\n",
       "                }\n",
       "            }, 500);\n",
       "            "
      ],
      "text/plain": [
       "<IPython.core.display.Javascript object>"
      ]
     },
     "metadata": {},
     "output_type": "display_data"
    }
   ],
   "source": [
    "# average_cdr_at_year_15 = year_15 * 0\n",
    "# average_cdr_at_year_15.name = \"average_cdr_between_peak_and_15_temp\"\n",
    "\n",
    "# peak_temps_year_short_idx = drop_all_idx_except(\n",
    "#     peak_temps_year, [\"climate_model\", \"ensemble_member\", \"ms\"]\n",
    "# )\n",
    "\n",
    "# for idx, year_15_row in tqdman.tqdm(year_15.items(), total=year_15.shape[0]):\n",
    "#     ms = idx[ms_index]\n",
    "\n",
    "#     val_year_15_floath = float(year_15_row)\n",
    "#     if val_year_15_floath == 9999:\n",
    "#         # Doesn't return below 1.5, calculate average CDR until 2500\n",
    "#         try:\n",
    "#             peak_temp_year = net_zero_year.loc[idx]\n",
    "#             average_cdr = (\n",
    "#                 total_net_cdr_ts.loc[ms, peak_temp_year]\n",
    "#                 - total_net_cdr_ts.loc[ms, 2500]\n",
    "#             ) / (2500 - peak_temp_year)\n",
    "#             # Exception for pathways that never actually have net-negative emissions\n",
    "#         except:\n",
    "#             average_cdr = 0\n",
    "#     # no SRM, no CDR -> average CDR = 0\n",
    "#     elif val_year_15_floath == 1111:\n",
    "#         average_cdr = np.nan\n",
    "\n",
    "#     else:\n",
    "#         peak_temp_year = peak_temps_year_short_idx.loc[idx]\n",
    "#         average_cdr = (\n",
    "#             total_net_cdr_ts.loc[ms, peak_temp_year]\n",
    "#             - total_net_cdr_ts.loc[ms, val_year_15_floath]\n",
    "#         ) / (val_year_15_floath - peak_temp_year)\n",
    "\n",
    "#     average_cdr_at_year_15[idx] = average_cdr\n",
    "# #     break\n",
    "\n",
    "# average_cdr_at_year_15 = drop_all_idx_except(\n",
    "#     average_cdr_at_year_15, [\"climate_model\", \"ensemble_member\", \"ms\"]\n",
    "# )"
   ]
  },
  {
   "cell_type": "code",
   "execution_count": 66,
   "id": "c571d0b8",
   "metadata": {
    "scrolled": false
   },
   "outputs": [
    {
     "data": {
      "text/plain": [
       "count    198409.000000\n",
       "mean       7186.370613\n",
       "std        6902.132899\n",
       "min           0.000000\n",
       "25%         898.243567\n",
       "50%        5911.843234\n",
       "75%       10894.014942\n",
       "max       37041.419341\n",
       "Name: average_cdr_between_peak_and_15_temp, dtype: float64"
      ]
     },
     "execution_count": 66,
     "metadata": {},
     "output_type": "execute_result"
    },
    {
     "data": {
      "application/javascript": [
       "\n",
       "            setTimeout(function() {\n",
       "                var nbb_cell_id = 66;\n",
       "                var nbb_unformatted_code = \"average_cdr_at_year_15.describe()\";\n",
       "                var nbb_formatted_code = \"average_cdr_at_year_15.describe()\";\n",
       "                var nbb_cells = Jupyter.notebook.get_cells();\n",
       "                for (var i = 0; i < nbb_cells.length; ++i) {\n",
       "                    if (nbb_cells[i].input_prompt_number == nbb_cell_id) {\n",
       "                        if (nbb_cells[i].get_text() == nbb_unformatted_code) {\n",
       "                             nbb_cells[i].set_text(nbb_formatted_code);\n",
       "                        }\n",
       "                        break;\n",
       "                    }\n",
       "                }\n",
       "            }, 500);\n",
       "            "
      ],
      "text/plain": [
       "<IPython.core.display.Javascript object>"
      ]
     },
     "metadata": {},
     "output_type": "display_data"
    }
   ],
   "source": [
    "average_cdr_at_year_15.describe()"
   ]
  },
  {
   "cell_type": "markdown",
   "id": "d926e467",
   "metadata": {},
   "source": [
    "## average annual CDR from net-zero to 1.5°C\n",
    "\n",
    "we're losing 343 pathways here"
   ]
  },
  {
   "cell_type": "code",
   "execution_count": 62,
   "id": "744518a5",
   "metadata": {},
   "outputs": [
    {
     "data": {
      "application/vnd.jupyter.widget-view+json": {
       "model_id": "f00a108ff4574d49b8ac938857b356da",
       "version_major": 2,
       "version_minor": 0
      },
      "text/plain": [
       "  0%|          | 0/208200 [00:00<?, ?it/s]"
      ]
     },
     "metadata": {},
     "output_type": "display_data"
    },
    {
     "data": {
      "application/javascript": [
       "\n",
       "            setTimeout(function() {\n",
       "                var nbb_cell_id = 62;\n",
       "                var nbb_unformatted_code = \"average_cdr_net_zero_15 = year_15 * 0\\naverage_cdr_net_zero_15.name = \\\"average_cdr_between_net0_and_15\\\"\\n\\npeak_temps_year_short_idx = drop_all_idx_except(\\n    peak_temps_year, [\\\"climate_model\\\", \\\"ensemble_member\\\", \\\"ms\\\"]\\n)\\n\\nfor idx, year_15_row in tqdman.tqdm(year_15.items(), total=year_15.shape[0]):\\n    ms = idx[ms_index]\\n\\n    # if it never reaches net-zero - use 2500\\n    try:\\n        year_net0 = net_zero_year.loc[ms].year\\n    except KeyError:\\n        year_net0 = 2500\\n\\n    val_year_15_floath = float(year_15_row)\\n    if val_year_15_floath == 9999:\\n        # Doesn't return below 1.5, calculate average CDR until 2500\\n        try:\\n            year_net0 = net_zero_year.loc[ms].year\\n            average_cdr = (\\n                total_net_cdr_ts.loc[ms, year_net0] - total_net_cdr_ts.loc[ms, 2500]\\n            ) / (2500 - year_net0)\\n            # Exception for pathways that never actually have net-negative emissions\\n        except:\\n            average_cdr = 0\\n    # no SRM, no CDR -> average CDR = 0\\n    elif val_year_15_floath == 1111:\\n        average_cdr = np.nan\\n\\n    else:\\n        average_cdr = (\\n            total_net_cdr_ts.loc[ms, year_net0]\\n            - total_net_cdr_ts.loc[ms, val_year_15_floath]\\n        ) / (val_year_15_floath - year_net0)\\n\\n    average_cdr_net_zero_15[idx] = average_cdr\\n#     break\\n\\naverage_cdr_net_zero_15 = drop_all_idx_except(\\n    average_cdr_net_zero_15, [\\\"climate_model\\\", \\\"ensemble_member\\\", \\\"ms\\\"]\\n)\";\n",
       "                var nbb_formatted_code = \"average_cdr_net_zero_15 = year_15 * 0\\naverage_cdr_net_zero_15.name = \\\"average_cdr_between_net0_and_15\\\"\\n\\npeak_temps_year_short_idx = drop_all_idx_except(\\n    peak_temps_year, [\\\"climate_model\\\", \\\"ensemble_member\\\", \\\"ms\\\"]\\n)\\n\\nfor idx, year_15_row in tqdman.tqdm(year_15.items(), total=year_15.shape[0]):\\n    ms = idx[ms_index]\\n\\n    # if it never reaches net-zero - use 2500\\n    try:\\n        year_net0 = net_zero_year.loc[ms].year\\n    except KeyError:\\n        year_net0 = 2500\\n\\n    val_year_15_floath = float(year_15_row)\\n    if val_year_15_floath == 9999:\\n        # Doesn't return below 1.5, calculate average CDR until 2500\\n        try:\\n            year_net0 = net_zero_year.loc[ms].year\\n            average_cdr = (\\n                total_net_cdr_ts.loc[ms, year_net0] - total_net_cdr_ts.loc[ms, 2500]\\n            ) / (2500 - year_net0)\\n            # Exception for pathways that never actually have net-negative emissions\\n        except:\\n            average_cdr = 0\\n    # no SRM, no CDR -> average CDR = 0\\n    elif val_year_15_floath == 1111:\\n        average_cdr = np.nan\\n\\n    else:\\n        average_cdr = (\\n            total_net_cdr_ts.loc[ms, year_net0]\\n            - total_net_cdr_ts.loc[ms, val_year_15_floath]\\n        ) / (val_year_15_floath - year_net0)\\n\\n    average_cdr_net_zero_15[idx] = average_cdr\\n#     break\\n\\naverage_cdr_net_zero_15 = drop_all_idx_except(\\n    average_cdr_net_zero_15, [\\\"climate_model\\\", \\\"ensemble_member\\\", \\\"ms\\\"]\\n)\";\n",
       "                var nbb_cells = Jupyter.notebook.get_cells();\n",
       "                for (var i = 0; i < nbb_cells.length; ++i) {\n",
       "                    if (nbb_cells[i].input_prompt_number == nbb_cell_id) {\n",
       "                        if (nbb_cells[i].get_text() == nbb_unformatted_code) {\n",
       "                             nbb_cells[i].set_text(nbb_formatted_code);\n",
       "                        }\n",
       "                        break;\n",
       "                    }\n",
       "                }\n",
       "            }, 500);\n",
       "            "
      ],
      "text/plain": [
       "<IPython.core.display.Javascript object>"
      ]
     },
     "metadata": {},
     "output_type": "display_data"
    }
   ],
   "source": [
    "average_cdr_net_zero_15 = year_15 * 0\n",
    "average_cdr_net_zero_15.name = \"average_cdr_between_net0_and_15\"\n",
    "\n",
    "peak_temps_year_short_idx = drop_all_idx_except(\n",
    "    peak_temps_year, [\"climate_model\", \"ensemble_member\", \"ms\"]\n",
    ")\n",
    "\n",
    "for idx, year_15_row in tqdman.tqdm(year_15.items(), total=year_15.shape[0]):\n",
    "    ms = idx[ms_index]\n",
    "\n",
    "    # if it never reaches net-zero - use 2500\n",
    "    try:\n",
    "        year_net0 = net_zero_year.loc[ms].year\n",
    "    except KeyError:\n",
    "        year_net0 = 2500\n",
    "\n",
    "    val_year_15_floath = float(year_15_row)\n",
    "    if val_year_15_floath == 9999:\n",
    "        # Doesn't return below 1.5, calculate average CDR until 2500\n",
    "        try:\n",
    "            year_net0 = net_zero_year.loc[ms].year\n",
    "            average_cdr = (\n",
    "                total_net_cdr_ts.loc[ms, year_net0] - total_net_cdr_ts.loc[ms, 2500]\n",
    "            ) / (2500 - year_net0)\n",
    "            # Exception for pathways that never actually have net-negative emissions\n",
    "        except:\n",
    "            average_cdr = 0\n",
    "    # no SRM, no CDR -> average CDR = 0\n",
    "    elif val_year_15_floath == 1111:\n",
    "        average_cdr = np.nan\n",
    "\n",
    "    else:\n",
    "        average_cdr = (\n",
    "            total_net_cdr_ts.loc[ms, year_net0]\n",
    "            - total_net_cdr_ts.loc[ms, val_year_15_floath]\n",
    "        ) / (val_year_15_floath - year_net0)\n",
    "\n",
    "    average_cdr_net_zero_15[idx] = average_cdr\n",
    "#     break\n",
    "\n",
    "average_cdr_net_zero_15 = drop_all_idx_except(\n",
    "    average_cdr_net_zero_15, [\"climate_model\", \"ensemble_member\", \"ms\"]\n",
    ")"
   ]
  },
  {
   "cell_type": "code",
   "execution_count": 67,
   "id": "d06591c5",
   "metadata": {
    "scrolled": true
   },
   "outputs": [
    {
     "data": {
      "text/plain": [
       "count    198066.000000\n",
       "mean       9429.220253\n",
       "std        6913.863413\n",
       "min           0.000000\n",
       "25%        4324.849094\n",
       "50%        8304.379860\n",
       "75%       12937.011624\n",
       "max       35872.165621\n",
       "Name: average_cdr_between_net0_and_15, dtype: float64"
      ]
     },
     "execution_count": 67,
     "metadata": {},
     "output_type": "execute_result"
    },
    {
     "data": {
      "application/javascript": [
       "\n",
       "            setTimeout(function() {\n",
       "                var nbb_cell_id = 67;\n",
       "                var nbb_unformatted_code = \"average_cdr_net_zero_15.describe()\";\n",
       "                var nbb_formatted_code = \"average_cdr_net_zero_15.describe()\";\n",
       "                var nbb_cells = Jupyter.notebook.get_cells();\n",
       "                for (var i = 0; i < nbb_cells.length; ++i) {\n",
       "                    if (nbb_cells[i].input_prompt_number == nbb_cell_id) {\n",
       "                        if (nbb_cells[i].get_text() == nbb_unformatted_code) {\n",
       "                             nbb_cells[i].set_text(nbb_formatted_code);\n",
       "                        }\n",
       "                        break;\n",
       "                    }\n",
       "                }\n",
       "            }, 500);\n",
       "            "
      ],
      "text/plain": [
       "<IPython.core.display.Javascript object>"
      ]
     },
     "metadata": {},
     "output_type": "display_data"
    }
   ],
   "source": [
    "average_cdr_net_zero_15.describe()"
   ]
  },
  {
   "cell_type": "markdown",
   "id": "50777d9d",
   "metadata": {},
   "source": [
    "## Max deployed CDR"
   ]
  },
  {
   "cell_type": "markdown",
   "id": "8d45ba79",
   "metadata": {},
   "source": [
    "Between peak and 1.5C"
   ]
  },
  {
   "cell_type": "code",
   "execution_count": 63,
   "id": "4ea77a4a",
   "metadata": {},
   "outputs": [
    {
     "data": {
      "application/javascript": [
       "\n",
       "            setTimeout(function() {\n",
       "                var nbb_cell_id = 63;\n",
       "                var nbb_unformatted_code = \"start_CDR = scmdata.ScmRun(\\n    start.timeseries(time_axis=\\\"year\\\").apply(lambda x: x[x < 0]).fillna(0)\\n)\";\n",
       "                var nbb_formatted_code = \"start_CDR = scmdata.ScmRun(\\n    start.timeseries(time_axis=\\\"year\\\").apply(lambda x: x[x < 0]).fillna(0)\\n)\";\n",
       "                var nbb_cells = Jupyter.notebook.get_cells();\n",
       "                for (var i = 0; i < nbb_cells.length; ++i) {\n",
       "                    if (nbb_cells[i].input_prompt_number == nbb_cell_id) {\n",
       "                        if (nbb_cells[i].get_text() == nbb_unformatted_code) {\n",
       "                             nbb_cells[i].set_text(nbb_formatted_code);\n",
       "                        }\n",
       "                        break;\n",
       "                    }\n",
       "                }\n",
       "            }, 500);\n",
       "            "
      ],
      "text/plain": [
       "<IPython.core.display.Javascript object>"
      ]
     },
     "metadata": {},
     "output_type": "display_data"
    }
   ],
   "source": [
    "start_CDR = scmdata.ScmRun(\n",
    "    start.timeseries(time_axis=\"year\").apply(lambda x: x[x < 0]).fillna(0)\n",
    ")"
   ]
  },
  {
   "cell_type": "code",
   "execution_count": 64,
   "id": "d44372e8",
   "metadata": {},
   "outputs": [
    {
     "data": {
      "application/javascript": [
       "\n",
       "            setTimeout(function() {\n",
       "                var nbb_cell_id = 64;\n",
       "                var nbb_unformatted_code = \"start_CDR_ts = start_CDR.timeseries(time_axis=\\\"year\\\", meta=[\\\"ms\\\"])\";\n",
       "                var nbb_formatted_code = \"start_CDR_ts = start_CDR.timeseries(time_axis=\\\"year\\\", meta=[\\\"ms\\\"])\";\n",
       "                var nbb_cells = Jupyter.notebook.get_cells();\n",
       "                for (var i = 0; i < nbb_cells.length; ++i) {\n",
       "                    if (nbb_cells[i].input_prompt_number == nbb_cell_id) {\n",
       "                        if (nbb_cells[i].get_text() == nbb_unformatted_code) {\n",
       "                             nbb_cells[i].set_text(nbb_formatted_code);\n",
       "                        }\n",
       "                        break;\n",
       "                    }\n",
       "                }\n",
       "            }, 500);\n",
       "            "
      ],
      "text/plain": [
       "<IPython.core.display.Javascript object>"
      ]
     },
     "metadata": {},
     "output_type": "display_data"
    }
   ],
   "source": [
    "start_CDR_ts = start_CDR.timeseries(time_axis=\"year\", meta=[\"ms\"])"
   ]
  },
  {
   "cell_type": "code",
   "execution_count": 65,
   "id": "e46eb36d",
   "metadata": {},
   "outputs": [
    {
     "data": {
      "application/vnd.jupyter.widget-view+json": {
       "model_id": "adf1175203114eaea944d874c72a4c46",
       "version_major": 2,
       "version_minor": 0
      },
      "text/plain": [
       "  0%|          | 0/208200 [00:00<?, ?it/s]"
      ]
     },
     "metadata": {},
     "output_type": "display_data"
    },
    {
     "data": {
      "application/javascript": [
       "\n",
       "            setTimeout(function() {\n",
       "                var nbb_cell_id = 65;\n",
       "                var nbb_unformatted_code = \"max_deployed_CDR = year_15 * 0\\nmax_deployed_CDR.name = \\\"max_deployed_CDR\\\"\\n\\npeak_temps_year_short_idx = drop_all_idx_except(\\n    peak_temps_year, [\\\"climate_model\\\", \\\"ensemble_member\\\", \\\"ms\\\"]\\n)\\n\\nfor idx, year_15_row in tqdman.tqdm(year_15.items(), total=year_15.shape[0]):\\n    ms = idx[ms_index]\\n\\n    val_year_15_floath = float(year_15_row)\\n    if val_year_15_floath == 9999:\\n        # Doesn't return below 1.5, use CDR in 2500\\n        try:\\n            peak_temp_year = peak_temps_year_short_idx.loc[idx]\\n            max_CDR = start_CDR_ts.loc[ms, 2500]\\n\\n            # Exception for pathways that never actually have net-negative emissions\\n        except:\\n            max_CDR = 0\\n    # no SRM, no CDR -> average CDR = 0\\n    elif val_year_15_floath == 1111:\\n        max_CDR = np.nan\\n    # use CDR in the 1.5\\u00b0C year as indicator for max deployed CDR\\n    else:\\n        peak_temp_year = peak_temps_year_short_idx.loc[idx]\\n        max_CDR = start_CDR_ts.loc[ms, val_year_15_floath]\\n\\n    max_deployed_CDR[idx] = max_CDR\\n#     break\\n\\nmax_deployed_CDR = drop_all_idx_except(\\n    max_deployed_CDR, [\\\"climate_model\\\", \\\"ensemble_member\\\", \\\"ms\\\"]\\n)\";\n",
       "                var nbb_formatted_code = \"max_deployed_CDR = year_15 * 0\\nmax_deployed_CDR.name = \\\"max_deployed_CDR\\\"\\n\\npeak_temps_year_short_idx = drop_all_idx_except(\\n    peak_temps_year, [\\\"climate_model\\\", \\\"ensemble_member\\\", \\\"ms\\\"]\\n)\\n\\nfor idx, year_15_row in tqdman.tqdm(year_15.items(), total=year_15.shape[0]):\\n    ms = idx[ms_index]\\n\\n    val_year_15_floath = float(year_15_row)\\n    if val_year_15_floath == 9999:\\n        # Doesn't return below 1.5, use CDR in 2500\\n        try:\\n            peak_temp_year = peak_temps_year_short_idx.loc[idx]\\n            max_CDR = start_CDR_ts.loc[ms, 2500]\\n\\n            # Exception for pathways that never actually have net-negative emissions\\n        except:\\n            max_CDR = 0\\n    # no SRM, no CDR -> average CDR = 0\\n    elif val_year_15_floath == 1111:\\n        max_CDR = np.nan\\n    # use CDR in the 1.5\\u00b0C year as indicator for max deployed CDR\\n    else:\\n        peak_temp_year = peak_temps_year_short_idx.loc[idx]\\n        max_CDR = start_CDR_ts.loc[ms, val_year_15_floath]\\n\\n    max_deployed_CDR[idx] = max_CDR\\n#     break\\n\\nmax_deployed_CDR = drop_all_idx_except(\\n    max_deployed_CDR, [\\\"climate_model\\\", \\\"ensemble_member\\\", \\\"ms\\\"]\\n)\";\n",
       "                var nbb_cells = Jupyter.notebook.get_cells();\n",
       "                for (var i = 0; i < nbb_cells.length; ++i) {\n",
       "                    if (nbb_cells[i].input_prompt_number == nbb_cell_id) {\n",
       "                        if (nbb_cells[i].get_text() == nbb_unformatted_code) {\n",
       "                             nbb_cells[i].set_text(nbb_formatted_code);\n",
       "                        }\n",
       "                        break;\n",
       "                    }\n",
       "                }\n",
       "            }, 500);\n",
       "            "
      ],
      "text/plain": [
       "<IPython.core.display.Javascript object>"
      ]
     },
     "metadata": {},
     "output_type": "display_data"
    }
   ],
   "source": [
    "max_deployed_CDR = year_15 * 0\n",
    "max_deployed_CDR.name = \"max_deployed_CDR\"\n",
    "\n",
    "peak_temps_year_short_idx = drop_all_idx_except(\n",
    "    peak_temps_year, [\"climate_model\", \"ensemble_member\", \"ms\"]\n",
    ")\n",
    "\n",
    "for idx, year_15_row in tqdman.tqdm(year_15.items(), total=year_15.shape[0]):\n",
    "    ms = idx[ms_index]\n",
    "\n",
    "    val_year_15_floath = float(year_15_row)\n",
    "    if val_year_15_floath == 9999:\n",
    "        # Doesn't return below 1.5, use CDR in 2500\n",
    "        try:\n",
    "            peak_temp_year = peak_temps_year_short_idx.loc[idx]\n",
    "            max_CDR = start_CDR_ts.loc[ms, 2500]\n",
    "\n",
    "            # Exception for pathways that never actually have net-negative emissions\n",
    "        except:\n",
    "            max_CDR = 0\n",
    "    # no SRM, no CDR -> average CDR = 0\n",
    "    elif val_year_15_floath == 1111:\n",
    "        max_CDR = np.nan\n",
    "    # use CDR in the 1.5°C year as indicator for max deployed CDR\n",
    "    else:\n",
    "        peak_temp_year = peak_temps_year_short_idx.loc[idx]\n",
    "        max_CDR = start_CDR_ts.loc[ms, val_year_15_floath]\n",
    "\n",
    "    max_deployed_CDR[idx] = max_CDR\n",
    "#     break\n",
    "\n",
    "max_deployed_CDR = drop_all_idx_except(\n",
    "    max_deployed_CDR, [\"climate_model\", \"ensemble_member\", \"ms\"]\n",
    ")"
   ]
  },
  {
   "cell_type": "markdown",
   "id": "126953f2",
   "metadata": {},
   "source": [
    "### Average annual emissions between 2030 and net-zero"
   ]
  },
  {
   "cell_type": "code",
   "execution_count": 68,
   "id": "c332e662",
   "metadata": {
    "scrolled": false
   },
   "outputs": [
    {
     "data": {
      "application/javascript": [
       "\n",
       "            setTimeout(function() {\n",
       "                var nbb_cell_id = 68;\n",
       "                var nbb_unformatted_code = \"### calculate average emissions between 2030 and net-zero (divide 2030 levels by 2)\\navg_annual_2030 = our_set_co2_total.timeseries(time_axis=\\\"year\\\", meta=[\\\"ms\\\"])[2030] / 2\";\n",
       "                var nbb_formatted_code = \"### calculate average emissions between 2030 and net-zero (divide 2030 levels by 2)\\navg_annual_2030 = our_set_co2_total.timeseries(time_axis=\\\"year\\\", meta=[\\\"ms\\\"])[2030] / 2\";\n",
       "                var nbb_cells = Jupyter.notebook.get_cells();\n",
       "                for (var i = 0; i < nbb_cells.length; ++i) {\n",
       "                    if (nbb_cells[i].input_prompt_number == nbb_cell_id) {\n",
       "                        if (nbb_cells[i].get_text() == nbb_unformatted_code) {\n",
       "                             nbb_cells[i].set_text(nbb_formatted_code);\n",
       "                        }\n",
       "                        break;\n",
       "                    }\n",
       "                }\n",
       "            }, 500);\n",
       "            "
      ],
      "text/plain": [
       "<IPython.core.display.Javascript object>"
      ]
     },
     "metadata": {},
     "output_type": "display_data"
    }
   ],
   "source": [
    "### calculate average emissions between 2030 and net-zero (divide 2030 levels by 2)\n",
    "avg_annual_2030 = our_set_co2_total.timeseries(time_axis=\"year\", meta=[\"ms\"])[2030] / 2"
   ]
  },
  {
   "cell_type": "code",
   "execution_count": 69,
   "id": "8d629387",
   "metadata": {},
   "outputs": [
    {
     "data": {
      "application/vnd.jupyter.widget-view+json": {
       "model_id": "b0106ccdba6a4fce9ea05a8f10cc6b9e",
       "version_major": 2,
       "version_minor": 0
      },
      "text/plain": [
       "  0%|          | 0/208200 [00:00<?, ?it/s]"
      ]
     },
     "metadata": {},
     "output_type": "display_data"
    },
    {
     "data": {
      "text/plain": [
       "0"
      ]
     },
     "execution_count": 69,
     "metadata": {},
     "output_type": "execute_result"
    },
    {
     "data": {
      "application/javascript": [
       "\n",
       "            setTimeout(function() {\n",
       "                var nbb_cell_id = 69;\n",
       "                var nbb_unformatted_code = \"avg_annual_em_2030_net0 = year_15 * 0\\navg_annual_em_2030_net0.name = \\\"average_annual_emissions_2030_net-zero\\\"\\n\\n\\nfailed_scenarios = []\\nfor idx, year_15_row in tqdman.tqdm(year_15.items(), total=year_15.shape[0]):\\n    ms = idx[ms_index]\\n    try:\\n        avg_annual_2030_single = avg_annual_2030.loc[ms]\\n    except KeyError:\\n        avg_annual_2030_single = 0\\n        failed_scenarios.append(ms)\\n\\n    avg_annual_em_2030_net0[idx] = avg_annual_2030_single\\n#     break\\n\\navg_annual_em_2030_net0_all = drop_all_idx_except(\\n    avg_annual_em_2030_net0, [\\\"climate_model\\\", \\\"ensemble_member\\\", \\\"ms\\\"]\\n)\\nlen(set(failed_scenarios))\";\n",
       "                var nbb_formatted_code = \"avg_annual_em_2030_net0 = year_15 * 0\\navg_annual_em_2030_net0.name = \\\"average_annual_emissions_2030_net-zero\\\"\\n\\n\\nfailed_scenarios = []\\nfor idx, year_15_row in tqdman.tqdm(year_15.items(), total=year_15.shape[0]):\\n    ms = idx[ms_index]\\n    try:\\n        avg_annual_2030_single = avg_annual_2030.loc[ms]\\n    except KeyError:\\n        avg_annual_2030_single = 0\\n        failed_scenarios.append(ms)\\n\\n    avg_annual_em_2030_net0[idx] = avg_annual_2030_single\\n#     break\\n\\navg_annual_em_2030_net0_all = drop_all_idx_except(\\n    avg_annual_em_2030_net0, [\\\"climate_model\\\", \\\"ensemble_member\\\", \\\"ms\\\"]\\n)\\nlen(set(failed_scenarios))\";\n",
       "                var nbb_cells = Jupyter.notebook.get_cells();\n",
       "                for (var i = 0; i < nbb_cells.length; ++i) {\n",
       "                    if (nbb_cells[i].input_prompt_number == nbb_cell_id) {\n",
       "                        if (nbb_cells[i].get_text() == nbb_unformatted_code) {\n",
       "                             nbb_cells[i].set_text(nbb_formatted_code);\n",
       "                        }\n",
       "                        break;\n",
       "                    }\n",
       "                }\n",
       "            }, 500);\n",
       "            "
      ],
      "text/plain": [
       "<IPython.core.display.Javascript object>"
      ]
     },
     "metadata": {},
     "output_type": "display_data"
    }
   ],
   "source": [
    "avg_annual_em_2030_net0 = year_15 * 0\n",
    "avg_annual_em_2030_net0.name = \"average_annual_emissions_2030_net-zero\"\n",
    "\n",
    "\n",
    "failed_scenarios = []\n",
    "for idx, year_15_row in tqdman.tqdm(year_15.items(), total=year_15.shape[0]):\n",
    "    ms = idx[ms_index]\n",
    "    try:\n",
    "        avg_annual_2030_single = avg_annual_2030.loc[ms]\n",
    "    except KeyError:\n",
    "        avg_annual_2030_single = 0\n",
    "        failed_scenarios.append(ms)\n",
    "\n",
    "    avg_annual_em_2030_net0[idx] = avg_annual_2030_single\n",
    "#     break\n",
    "\n",
    "avg_annual_em_2030_net0_all = drop_all_idx_except(\n",
    "    avg_annual_em_2030_net0, [\"climate_model\", \"ensemble_member\", \"ms\"]\n",
    ")\n",
    "len(set(failed_scenarios))"
   ]
  },
  {
   "cell_type": "markdown",
   "id": "71e82292",
   "metadata": {},
   "source": [
    "## Other metrics\n",
    "\n",
    "- cumulative emissions to peak\n",
    "- cumulative emissions at 1.5C\n",
    "- cumulative emissions from peak-warming to 1.5C\n",
    "- cumulative positive emissions at 1.5C"
   ]
  },
  {
   "cell_type": "code",
   "execution_count": 70,
   "id": "538e800b",
   "metadata": {},
   "outputs": [
    {
     "data": {
      "application/vnd.jupyter.widget-view+json": {
       "model_id": "85719e2861954644a5317aa6ed4c5fca",
       "version_major": 2,
       "version_minor": 0
      },
      "text/plain": [
       "  0%|          | 0/208200 [00:00<?, ?it/s]"
      ]
     },
     "metadata": {},
     "output_type": "display_data"
    },
    {
     "data": {
      "text/plain": [
       "climate_model  ensemble_member  ms                                \n",
       "MAGICCv7.5.3   0                AIM/CGE 2.1CD-LINKS_INDC2030i_1600    909213.148461\n",
       "               1                AIM/CGE 2.1CD-LINKS_INDC2030i_1600    909213.148461\n",
       "               2                AIM/CGE 2.1CD-LINKS_INDC2030i_1600    909213.148461\n",
       "               3                AIM/CGE 2.1CD-LINKS_INDC2030i_1600    909213.148461\n",
       "               4                AIM/CGE 2.1CD-LINKS_INDC2030i_1600    909213.148461\n",
       "Name: cumulative_pos_emms_at_15, dtype: float64"
      ]
     },
     "execution_count": 70,
     "metadata": {},
     "output_type": "execute_result"
    },
    {
     "data": {
      "application/javascript": [
       "\n",
       "            setTimeout(function() {\n",
       "                var nbb_cell_id = 70;\n",
       "                var nbb_unformatted_code = \"# setup\\ncumulative_emms_peak_warming = year_15 * 0\\ncumulative_emms_peak_warming.name = \\\"cumulative_emms_peak_warming\\\"\\n\\ncumulative_emms_at_15 = year_15 * 0\\ncumulative_emms_at_15.name = \\\"cumulative_emms_15\\\"\\n\\ncumulative_emms_peak_warming_to_15 = year_15 * 0\\ncumulative_emms_peak_warming_to_15.name = \\\"cumulative_emms_peak_warming_to_15\\\"\\n\\ncumulative_pos_emms_at_15 = year_15 * 0\\ncumulative_pos_emms_at_15.name = \\\"cumulative_pos_emms_at_15\\\"\\n\\ncumulative_pos_emms_at_net0 = year_15 * 0\\ncumulative_pos_emms_at_net0.name = \\\"cumulative_pos_emms_at_net0\\\"\\n\\ncumulative_emms_net0_em_to_15 = year_15 * 0\\ncumulative_emms_net0_em_to_15.name = \\\"cumulative_emms_net0_to_15\\\"\\n\\n# calculate timeseries we need\\nour_set_co2_total_cumulative_emms_ts = our_set_co2_total.cumsum().timeseries(\\n    time_axis=\\\"year\\\", meta=[\\\"ms\\\"]\\n)\\nour_set_co2_total_pos_cumulative_emms_ts = (\\n    our_set_co2_total.timeseries(time_axis=\\\"year\\\", meta=[\\\"ms\\\"])\\n    .apply(lambda x: x[x > 0])\\n    .fillna(0)\\n    .cumsum(axis=1)\\n)\\n\\n\\nms_index = list(year_15.index.names).index(\\\"ms\\\")\\nfor idx, year_15_row in tqdman.tqdm(year_15.items(), total=year_15.shape[0]):\\n    if year_15_row == 9999:\\n        # nan throws error so let's just assign 2500 - it doesn't really matter since we'll kick the\\n        # 9999 and 1111 pathways out before doing the plots etc anyway\\n        year_15_row = 2500  # np.nan\\n        try:\\n            peak_temp_year = peak_temps_year_short_idx.loc[idx]\\n            # if it never peaks - use 2500 as peak\\n        except:\\n            peak_temp_year = 2500\\n    if year_15_row == 1111:\\n        #         peak_temp_year = np.nan\\n        #         year_15_row = np.nan\\n        continue\\n\\n    ms = idx[ms_index]\\n\\n    peak_temp_year = peak_temps_year_short_idx.loc[idx]\\n    # if it never reaches net-zero - use 2500\\n    try:\\n        year_net0 = net_zero_year.loc[ms].year\\n    except KeyError:\\n        year_net0 = 2500\\n\\n    cumulative_emms_peak = our_set_co2_total_cumulative_emms_ts.loc[ms, peak_temp_year]\\n    cumulative_emms_15 = our_set_co2_total_cumulative_emms_ts.loc[ms, year_15_row]\\n    cumulative_emms_net0 = our_set_co2_total_cumulative_emms_ts.loc[ms, year_net0]\\n    cumulative_pos_emms_net0 = our_set_co2_total_pos_cumulative_emms_ts.loc[\\n        ms, year_net0\\n    ]\\n\\n    cumulative_emms_peak_to_15 = cumulative_emms_15 - cumulative_emms_peak\\n    cumulative_emms_net0_to_15 = cumulative_emms_15 - cumulative_emms_net0\\n    cumulative_pos_emms_15 = our_set_co2_total_pos_cumulative_emms_ts.loc[\\n        ms, year_15_row\\n    ]\\n\\n    cumulative_emms_peak_warming[idx] = cumulative_emms_peak\\n    cumulative_emms_at_15[idx] = cumulative_emms_15\\n    cumulative_emms_peak_warming_to_15[idx] = cumulative_emms_peak_to_15\\n    cumulative_emms_net0_em_to_15[idx] = cumulative_emms_net0_to_15\\n    cumulative_pos_emms_at_15[idx] = cumulative_pos_emms_15\\n    cumulative_pos_emms_at_net0[idx] = cumulative_pos_emms_net0\\n\\n#     break\\n\\ncumulative_emms_peak_warming = drop_all_idx_except(\\n    cumulative_emms_peak_warming, [\\\"climate_model\\\", \\\"ensemble_member\\\", \\\"ms\\\"]\\n)\\n\\ncumulative_emms_at_15 = drop_all_idx_except(\\n    cumulative_emms_at_15, [\\\"climate_model\\\", \\\"ensemble_member\\\", \\\"ms\\\"]\\n)\\n\\ncumulative_emms_peak_warming_to_15 = drop_all_idx_except(\\n    cumulative_emms_peak_warming_to_15, [\\\"climate_model\\\", \\\"ensemble_member\\\", \\\"ms\\\"]\\n)\\ncumulative_emms_net0_em_to_15 = drop_all_idx_except(\\n    cumulative_emms_net0_em_to_15, [\\\"climate_model\\\", \\\"ensemble_member\\\", \\\"ms\\\"]\\n)\\ncumulative_pos_emms_at_15 = drop_all_idx_except(\\n    cumulative_pos_emms_at_15, [\\\"climate_model\\\", \\\"ensemble_member\\\", \\\"ms\\\"]\\n)\\ncumulative_pos_emms_at_net0 = drop_all_idx_except(\\n    cumulative_pos_emms_at_net0, [\\\"climate_model\\\", \\\"ensemble_member\\\", \\\"ms\\\"]\\n)\\ncumulative_pos_emms_at_15.head()\";\n",
       "                var nbb_formatted_code = \"# setup\\ncumulative_emms_peak_warming = year_15 * 0\\ncumulative_emms_peak_warming.name = \\\"cumulative_emms_peak_warming\\\"\\n\\ncumulative_emms_at_15 = year_15 * 0\\ncumulative_emms_at_15.name = \\\"cumulative_emms_15\\\"\\n\\ncumulative_emms_peak_warming_to_15 = year_15 * 0\\ncumulative_emms_peak_warming_to_15.name = \\\"cumulative_emms_peak_warming_to_15\\\"\\n\\ncumulative_pos_emms_at_15 = year_15 * 0\\ncumulative_pos_emms_at_15.name = \\\"cumulative_pos_emms_at_15\\\"\\n\\ncumulative_pos_emms_at_net0 = year_15 * 0\\ncumulative_pos_emms_at_net0.name = \\\"cumulative_pos_emms_at_net0\\\"\\n\\ncumulative_emms_net0_em_to_15 = year_15 * 0\\ncumulative_emms_net0_em_to_15.name = \\\"cumulative_emms_net0_to_15\\\"\\n\\n# calculate timeseries we need\\nour_set_co2_total_cumulative_emms_ts = our_set_co2_total.cumsum().timeseries(\\n    time_axis=\\\"year\\\", meta=[\\\"ms\\\"]\\n)\\nour_set_co2_total_pos_cumulative_emms_ts = (\\n    our_set_co2_total.timeseries(time_axis=\\\"year\\\", meta=[\\\"ms\\\"])\\n    .apply(lambda x: x[x > 0])\\n    .fillna(0)\\n    .cumsum(axis=1)\\n)\\n\\n\\nms_index = list(year_15.index.names).index(\\\"ms\\\")\\nfor idx, year_15_row in tqdman.tqdm(year_15.items(), total=year_15.shape[0]):\\n    if year_15_row == 9999:\\n        # nan throws error so let's just assign 2500 - it doesn't really matter since we'll kick the\\n        # 9999 and 1111 pathways out before doing the plots etc anyway\\n        year_15_row = 2500  # np.nan\\n        try:\\n            peak_temp_year = peak_temps_year_short_idx.loc[idx]\\n            # if it never peaks - use 2500 as peak\\n        except:\\n            peak_temp_year = 2500\\n    if year_15_row == 1111:\\n        #         peak_temp_year = np.nan\\n        #         year_15_row = np.nan\\n        continue\\n\\n    ms = idx[ms_index]\\n\\n    peak_temp_year = peak_temps_year_short_idx.loc[idx]\\n    # if it never reaches net-zero - use 2500\\n    try:\\n        year_net0 = net_zero_year.loc[ms].year\\n    except KeyError:\\n        year_net0 = 2500\\n\\n    cumulative_emms_peak = our_set_co2_total_cumulative_emms_ts.loc[ms, peak_temp_year]\\n    cumulative_emms_15 = our_set_co2_total_cumulative_emms_ts.loc[ms, year_15_row]\\n    cumulative_emms_net0 = our_set_co2_total_cumulative_emms_ts.loc[ms, year_net0]\\n    cumulative_pos_emms_net0 = our_set_co2_total_pos_cumulative_emms_ts.loc[\\n        ms, year_net0\\n    ]\\n\\n    cumulative_emms_peak_to_15 = cumulative_emms_15 - cumulative_emms_peak\\n    cumulative_emms_net0_to_15 = cumulative_emms_15 - cumulative_emms_net0\\n    cumulative_pos_emms_15 = our_set_co2_total_pos_cumulative_emms_ts.loc[\\n        ms, year_15_row\\n    ]\\n\\n    cumulative_emms_peak_warming[idx] = cumulative_emms_peak\\n    cumulative_emms_at_15[idx] = cumulative_emms_15\\n    cumulative_emms_peak_warming_to_15[idx] = cumulative_emms_peak_to_15\\n    cumulative_emms_net0_em_to_15[idx] = cumulative_emms_net0_to_15\\n    cumulative_pos_emms_at_15[idx] = cumulative_pos_emms_15\\n    cumulative_pos_emms_at_net0[idx] = cumulative_pos_emms_net0\\n\\n#     break\\n\\ncumulative_emms_peak_warming = drop_all_idx_except(\\n    cumulative_emms_peak_warming, [\\\"climate_model\\\", \\\"ensemble_member\\\", \\\"ms\\\"]\\n)\\n\\ncumulative_emms_at_15 = drop_all_idx_except(\\n    cumulative_emms_at_15, [\\\"climate_model\\\", \\\"ensemble_member\\\", \\\"ms\\\"]\\n)\\n\\ncumulative_emms_peak_warming_to_15 = drop_all_idx_except(\\n    cumulative_emms_peak_warming_to_15, [\\\"climate_model\\\", \\\"ensemble_member\\\", \\\"ms\\\"]\\n)\\ncumulative_emms_net0_em_to_15 = drop_all_idx_except(\\n    cumulative_emms_net0_em_to_15, [\\\"climate_model\\\", \\\"ensemble_member\\\", \\\"ms\\\"]\\n)\\ncumulative_pos_emms_at_15 = drop_all_idx_except(\\n    cumulative_pos_emms_at_15, [\\\"climate_model\\\", \\\"ensemble_member\\\", \\\"ms\\\"]\\n)\\ncumulative_pos_emms_at_net0 = drop_all_idx_except(\\n    cumulative_pos_emms_at_net0, [\\\"climate_model\\\", \\\"ensemble_member\\\", \\\"ms\\\"]\\n)\\ncumulative_pos_emms_at_15.head()\";\n",
       "                var nbb_cells = Jupyter.notebook.get_cells();\n",
       "                for (var i = 0; i < nbb_cells.length; ++i) {\n",
       "                    if (nbb_cells[i].input_prompt_number == nbb_cell_id) {\n",
       "                        if (nbb_cells[i].get_text() == nbb_unformatted_code) {\n",
       "                             nbb_cells[i].set_text(nbb_formatted_code);\n",
       "                        }\n",
       "                        break;\n",
       "                    }\n",
       "                }\n",
       "            }, 500);\n",
       "            "
      ],
      "text/plain": [
       "<IPython.core.display.Javascript object>"
      ]
     },
     "metadata": {},
     "output_type": "display_data"
    }
   ],
   "source": [
    "# setup\n",
    "cumulative_emms_peak_warming = year_15 * 0\n",
    "cumulative_emms_peak_warming.name = \"cumulative_emms_peak_warming\"\n",
    "\n",
    "cumulative_emms_at_15 = year_15 * 0\n",
    "cumulative_emms_at_15.name = \"cumulative_emms_15\"\n",
    "\n",
    "cumulative_emms_peak_warming_to_15 = year_15 * 0\n",
    "cumulative_emms_peak_warming_to_15.name = \"cumulative_emms_peak_warming_to_15\"\n",
    "\n",
    "cumulative_pos_emms_at_15 = year_15 * 0\n",
    "cumulative_pos_emms_at_15.name = \"cumulative_pos_emms_at_15\"\n",
    "\n",
    "cumulative_pos_emms_at_net0 = year_15 * 0\n",
    "cumulative_pos_emms_at_net0.name = \"cumulative_pos_emms_at_net0\"\n",
    "\n",
    "cumulative_emms_net0_em_to_15 = year_15 * 0\n",
    "cumulative_emms_net0_em_to_15.name = \"cumulative_emms_net0_to_15\"\n",
    "\n",
    "# calculate timeseries we need\n",
    "our_set_co2_total_cumulative_emms_ts = our_set_co2_total.cumsum().timeseries(\n",
    "    time_axis=\"year\", meta=[\"ms\"]\n",
    ")\n",
    "our_set_co2_total_pos_cumulative_emms_ts = (\n",
    "    our_set_co2_total.timeseries(time_axis=\"year\", meta=[\"ms\"])\n",
    "    .apply(lambda x: x[x > 0])\n",
    "    .fillna(0)\n",
    "    .cumsum(axis=1)\n",
    ")\n",
    "\n",
    "\n",
    "ms_index = list(year_15.index.names).index(\"ms\")\n",
    "for idx, year_15_row in tqdman.tqdm(year_15.items(), total=year_15.shape[0]):\n",
    "    if year_15_row == 9999:\n",
    "        # nan throws error so let's just assign 2500 - it doesn't really matter since we'll kick the\n",
    "        # 9999 and 1111 pathways out before doing the plots etc anyway\n",
    "        year_15_row = 2500  # np.nan\n",
    "        try:\n",
    "            peak_temp_year = peak_temps_year_short_idx.loc[idx]\n",
    "            # if it never peaks - use 2500 as peak\n",
    "        except:\n",
    "            peak_temp_year = 2500\n",
    "    if year_15_row == 1111:\n",
    "        #         peak_temp_year = np.nan\n",
    "        #         year_15_row = np.nan\n",
    "        continue\n",
    "\n",
    "    ms = idx[ms_index]\n",
    "\n",
    "    peak_temp_year = peak_temps_year_short_idx.loc[idx]\n",
    "    # if it never reaches net-zero - use 2500\n",
    "    try:\n",
    "        year_net0 = net_zero_year.loc[ms].year\n",
    "    except KeyError:\n",
    "        year_net0 = 2500\n",
    "\n",
    "    cumulative_emms_peak = our_set_co2_total_cumulative_emms_ts.loc[ms, peak_temp_year]\n",
    "    cumulative_emms_15 = our_set_co2_total_cumulative_emms_ts.loc[ms, year_15_row]\n",
    "    cumulative_emms_net0 = our_set_co2_total_cumulative_emms_ts.loc[ms, year_net0]\n",
    "    cumulative_pos_emms_net0 = our_set_co2_total_pos_cumulative_emms_ts.loc[\n",
    "        ms, year_net0\n",
    "    ]\n",
    "\n",
    "    cumulative_emms_peak_to_15 = cumulative_emms_15 - cumulative_emms_peak\n",
    "    cumulative_emms_net0_to_15 = cumulative_emms_15 - cumulative_emms_net0\n",
    "    cumulative_pos_emms_15 = our_set_co2_total_pos_cumulative_emms_ts.loc[\n",
    "        ms, year_15_row\n",
    "    ]\n",
    "\n",
    "    cumulative_emms_peak_warming[idx] = cumulative_emms_peak\n",
    "    cumulative_emms_at_15[idx] = cumulative_emms_15\n",
    "    cumulative_emms_peak_warming_to_15[idx] = cumulative_emms_peak_to_15\n",
    "    cumulative_emms_net0_em_to_15[idx] = cumulative_emms_net0_to_15\n",
    "    cumulative_pos_emms_at_15[idx] = cumulative_pos_emms_15\n",
    "    cumulative_pos_emms_at_net0[idx] = cumulative_pos_emms_net0\n",
    "\n",
    "#     break\n",
    "\n",
    "cumulative_emms_peak_warming = drop_all_idx_except(\n",
    "    cumulative_emms_peak_warming, [\"climate_model\", \"ensemble_member\", \"ms\"]\n",
    ")\n",
    "\n",
    "cumulative_emms_at_15 = drop_all_idx_except(\n",
    "    cumulative_emms_at_15, [\"climate_model\", \"ensemble_member\", \"ms\"]\n",
    ")\n",
    "\n",
    "cumulative_emms_peak_warming_to_15 = drop_all_idx_except(\n",
    "    cumulative_emms_peak_warming_to_15, [\"climate_model\", \"ensemble_member\", \"ms\"]\n",
    ")\n",
    "cumulative_emms_net0_em_to_15 = drop_all_idx_except(\n",
    "    cumulative_emms_net0_em_to_15, [\"climate_model\", \"ensemble_member\", \"ms\"]\n",
    ")\n",
    "cumulative_pos_emms_at_15 = drop_all_idx_except(\n",
    "    cumulative_pos_emms_at_15, [\"climate_model\", \"ensemble_member\", \"ms\"]\n",
    ")\n",
    "cumulative_pos_emms_at_net0 = drop_all_idx_except(\n",
    "    cumulative_pos_emms_at_net0, [\"climate_model\", \"ensemble_member\", \"ms\"]\n",
    ")\n",
    "cumulative_pos_emms_at_15.head()"
   ]
  },
  {
   "cell_type": "code",
   "execution_count": 71,
   "id": "fbfb1529",
   "metadata": {
    "scrolled": true
   },
   "outputs": [
    {
     "data": {
      "text/plain": [
       "count    2.082000e+05\n",
       "mean    -1.562694e+06\n",
       "std      2.034248e+06\n",
       "min     -1.446433e+07\n",
       "25%     -1.941047e+06\n",
       "50%     -8.320053e+05\n",
       "75%     -2.601045e+05\n",
       "max      3.757211e+05\n",
       "Name: cumulative_emms_net0_to_15, dtype: float64"
      ]
     },
     "execution_count": 71,
     "metadata": {},
     "output_type": "execute_result"
    },
    {
     "data": {
      "application/javascript": [
       "\n",
       "            setTimeout(function() {\n",
       "                var nbb_cell_id = 71;\n",
       "                var nbb_unformatted_code = \"cumulative_emms_net0_em_to_15.describe()\";\n",
       "                var nbb_formatted_code = \"cumulative_emms_net0_em_to_15.describe()\";\n",
       "                var nbb_cells = Jupyter.notebook.get_cells();\n",
       "                for (var i = 0; i < nbb_cells.length; ++i) {\n",
       "                    if (nbb_cells[i].input_prompt_number == nbb_cell_id) {\n",
       "                        if (nbb_cells[i].get_text() == nbb_unformatted_code) {\n",
       "                             nbb_cells[i].set_text(nbb_formatted_code);\n",
       "                        }\n",
       "                        break;\n",
       "                    }\n",
       "                }\n",
       "            }, 500);\n",
       "            "
      ],
      "text/plain": [
       "<IPython.core.display.Javascript object>"
      ]
     },
     "metadata": {},
     "output_type": "display_data"
    }
   ],
   "source": [
    "cumulative_emms_net0_em_to_15.describe()"
   ]
  },
  {
   "cell_type": "code",
   "execution_count": 76,
   "id": "e89bcb10",
   "metadata": {},
   "outputs": [
    {
     "data": {
      "text/plain": [
       "count    2.082000e+05\n",
       "mean    -1.440462e+06\n",
       "std      1.971691e+06\n",
       "min     -1.432748e+07\n",
       "25%     -1.842739e+06\n",
       "50%     -7.819296e+05\n",
       "75%     -1.763352e+05\n",
       "max      1.855471e+06\n",
       "Name: cumulative_emms_peak_warming_to_15, dtype: float64"
      ]
     },
     "execution_count": 76,
     "metadata": {},
     "output_type": "execute_result"
    },
    {
     "data": {
      "application/javascript": [
       "\n",
       "            setTimeout(function() {\n",
       "                var nbb_cell_id = 76;\n",
       "                var nbb_unformatted_code = \"cumulative_emms_peak_warming_to_15.describe()\";\n",
       "                var nbb_formatted_code = \"cumulative_emms_peak_warming_to_15.describe()\";\n",
       "                var nbb_cells = Jupyter.notebook.get_cells();\n",
       "                for (var i = 0; i < nbb_cells.length; ++i) {\n",
       "                    if (nbb_cells[i].input_prompt_number == nbb_cell_id) {\n",
       "                        if (nbb_cells[i].get_text() == nbb_unformatted_code) {\n",
       "                             nbb_cells[i].set_text(nbb_formatted_code);\n",
       "                        }\n",
       "                        break;\n",
       "                    }\n",
       "                }\n",
       "            }, 500);\n",
       "            "
      ],
      "text/plain": [
       "<IPython.core.display.Javascript object>"
      ]
     },
     "metadata": {},
     "output_type": "display_data"
    }
   ],
   "source": [
    "cumulative_emms_peak_warming_to_15.describe()"
   ]
  },
  {
   "cell_type": "markdown",
   "id": "7a9904c1",
   "metadata": {},
   "source": [
    "## Put it all back together"
   ]
  },
  {
   "cell_type": "code",
   "execution_count": 73,
   "id": "9388c602",
   "metadata": {},
   "outputs": [
    {
     "data": {
      "application/javascript": [
       "\n",
       "            setTimeout(function() {\n",
       "                var nbb_cell_id = 73;\n",
       "                var nbb_unformatted_code = \"magicc_output[\\\"max_assigned_CDR\\\"] = magicc_output[\\\"max_CDR\\\"]\\nmagicc_output = magicc_output.drop_meta(\\\"max_CDR\\\")\";\n",
       "                var nbb_formatted_code = \"magicc_output[\\\"max_assigned_CDR\\\"] = magicc_output[\\\"max_CDR\\\"]\\nmagicc_output = magicc_output.drop_meta(\\\"max_CDR\\\")\";\n",
       "                var nbb_cells = Jupyter.notebook.get_cells();\n",
       "                for (var i = 0; i < nbb_cells.length; ++i) {\n",
       "                    if (nbb_cells[i].input_prompt_number == nbb_cell_id) {\n",
       "                        if (nbb_cells[i].get_text() == nbb_unformatted_code) {\n",
       "                             nbb_cells[i].set_text(nbb_formatted_code);\n",
       "                        }\n",
       "                        break;\n",
       "                    }\n",
       "                }\n",
       "            }, 500);\n",
       "            "
      ],
      "text/plain": [
       "<IPython.core.display.Javascript object>"
      ]
     },
     "metadata": {},
     "output_type": "display_data"
    }
   ],
   "source": [
    "magicc_output[\"max_assigned_CDR\"] = magicc_output[\"max_CDR\"]\n",
    "magicc_output = magicc_output.drop_meta(\"max_CDR\")"
   ]
  },
  {
   "cell_type": "code",
   "execution_count": 74,
   "id": "f0d6a65f",
   "metadata": {
    "scrolled": true
   },
   "outputs": [
    {
     "data": {
      "text/html": [
       "<div>\n",
       "<style scoped>\n",
       "    .dataframe tbody tr th:only-of-type {\n",
       "        vertical-align: middle;\n",
       "    }\n",
       "\n",
       "    .dataframe tbody tr th {\n",
       "        vertical-align: top;\n",
       "    }\n",
       "\n",
       "    .dataframe thead th {\n",
       "        text-align: right;\n",
       "    }\n",
       "</style>\n",
       "<table border=\"1\" class=\"dataframe\">\n",
       "  <thead>\n",
       "    <tr style=\"text-align: right;\">\n",
       "      <th></th>\n",
       "      <th></th>\n",
       "      <th></th>\n",
       "      <th></th>\n",
       "      <th></th>\n",
       "      <th></th>\n",
       "      <th></th>\n",
       "      <th></th>\n",
       "      <th></th>\n",
       "      <th></th>\n",
       "      <th></th>\n",
       "      <th>1750</th>\n",
       "      <th>1751</th>\n",
       "      <th>1752</th>\n",
       "      <th>1753</th>\n",
       "      <th>1754</th>\n",
       "      <th>1755</th>\n",
       "      <th>1756</th>\n",
       "      <th>1757</th>\n",
       "      <th>1758</th>\n",
       "      <th>1759</th>\n",
       "      <th>...</th>\n",
       "      <th>net-zero_year</th>\n",
       "      <th>average_annual_emissions_2030_net-zero</th>\n",
       "      <th>average_cdr_between_net0_and_15</th>\n",
       "      <th>max_deployed_CDR</th>\n",
       "      <th>cumulative_emms_peak_warming</th>\n",
       "      <th>cumulative_emms_15</th>\n",
       "      <th>cumulative_emms_peak_warming_to_15</th>\n",
       "      <th>cumulative_emms_net0_to_15</th>\n",
       "      <th>cumulative_pos_emms_at_15</th>\n",
       "      <th>cumulative_pos_emms_at_net0</th>\n",
       "    </tr>\n",
       "    <tr>\n",
       "      <th>climate_model</th>\n",
       "      <th>ensemble_member</th>\n",
       "      <th>ms</th>\n",
       "      <th>max_assigned_CDR</th>\n",
       "      <th>model</th>\n",
       "      <th>region</th>\n",
       "      <th>run_id</th>\n",
       "      <th>scenario</th>\n",
       "      <th>total_CDR</th>\n",
       "      <th>unit</th>\n",
       "      <th>variable</th>\n",
       "      <th></th>\n",
       "      <th></th>\n",
       "      <th></th>\n",
       "      <th></th>\n",
       "      <th></th>\n",
       "      <th></th>\n",
       "      <th></th>\n",
       "      <th></th>\n",
       "      <th></th>\n",
       "      <th></th>\n",
       "      <th></th>\n",
       "      <th></th>\n",
       "      <th></th>\n",
       "      <th></th>\n",
       "      <th></th>\n",
       "      <th></th>\n",
       "      <th></th>\n",
       "      <th></th>\n",
       "      <th></th>\n",
       "      <th></th>\n",
       "      <th></th>\n",
       "    </tr>\n",
       "  </thead>\n",
       "  <tbody>\n",
       "    <tr>\n",
       "      <th rowspan=\"5\" valign=\"top\">MAGICCv7.5.3</th>\n",
       "      <th rowspan=\"5\" valign=\"top\">0</th>\n",
       "      <th rowspan=\"2\" valign=\"top\">AIM/CGE 2.1CD-LINKS_INDC2030i_1600</th>\n",
       "      <th rowspan=\"2\" valign=\"top\">-13683.159952</th>\n",
       "      <th rowspan=\"2\" valign=\"top\">AIM/CGE 2.1</th>\n",
       "      <th rowspan=\"2\" valign=\"top\">World</th>\n",
       "      <th rowspan=\"2\" valign=\"top\">0</th>\n",
       "      <th rowspan=\"2\" valign=\"top\">CD-LINKS_INDC2030i_1600</th>\n",
       "      <th rowspan=\"2\" valign=\"top\">-4.910419e+06</th>\n",
       "      <th>K</th>\n",
       "      <th>Surface Air Temperature Change</th>\n",
       "      <td>0.0</td>\n",
       "      <td>0.021043</td>\n",
       "      <td>0.030870</td>\n",
       "      <td>0.036407</td>\n",
       "      <td>0.038264</td>\n",
       "      <td>0.039579</td>\n",
       "      <td>0.035514</td>\n",
       "      <td>0.021288</td>\n",
       "      <td>0.024249</td>\n",
       "      <td>0.032423</td>\n",
       "      <td>...</td>\n",
       "      <td>2117</td>\n",
       "      <td>18751.813987</td>\n",
       "      <td>12868.518933</td>\n",
       "      <td>-13774.970781</td>\n",
       "      <td>717817.957834</td>\n",
       "      <td>-2.501199e+06</td>\n",
       "      <td>-3.219017e+06</td>\n",
       "      <td>-3.410158e+06</td>\n",
       "      <td>909213.148461</td>\n",
       "      <td>909213.148461</td>\n",
       "    </tr>\n",
       "    <tr>\n",
       "      <th>W/m^2</th>\n",
       "      <th>Effective Radiative Forcing</th>\n",
       "      <td>0.0</td>\n",
       "      <td>0.100231</td>\n",
       "      <td>0.108626</td>\n",
       "      <td>0.105016</td>\n",
       "      <td>0.089092</td>\n",
       "      <td>0.034038</td>\n",
       "      <td>0.013630</td>\n",
       "      <td>0.057298</td>\n",
       "      <td>0.086908</td>\n",
       "      <td>0.100721</td>\n",
       "      <td>...</td>\n",
       "      <td>2117</td>\n",
       "      <td>18751.813987</td>\n",
       "      <td>12868.518933</td>\n",
       "      <td>-13774.970781</td>\n",
       "      <td>717817.957834</td>\n",
       "      <td>-2.501199e+06</td>\n",
       "      <td>-3.219017e+06</td>\n",
       "      <td>-3.410158e+06</td>\n",
       "      <td>909213.148461</td>\n",
       "      <td>909213.148461</td>\n",
       "    </tr>\n",
       "    <tr>\n",
       "      <th rowspan=\"2\" valign=\"top\">AIM/CGE 2.1CD-LINKS_NDC2030i_1000</th>\n",
       "      <th rowspan=\"2\" valign=\"top\">-8395.374329</th>\n",
       "      <th rowspan=\"2\" valign=\"top\">AIM/CGE 2.1</th>\n",
       "      <th rowspan=\"2\" valign=\"top\">World</th>\n",
       "      <th rowspan=\"2\" valign=\"top\">600</th>\n",
       "      <th rowspan=\"2\" valign=\"top\">CD-LINKS_NDC2030i_1000</th>\n",
       "      <th rowspan=\"2\" valign=\"top\">-3.531033e+06</th>\n",
       "      <th>K</th>\n",
       "      <th>Surface Air Temperature Change</th>\n",
       "      <td>0.0</td>\n",
       "      <td>0.021043</td>\n",
       "      <td>0.030870</td>\n",
       "      <td>0.036407</td>\n",
       "      <td>0.038264</td>\n",
       "      <td>0.039579</td>\n",
       "      <td>0.035514</td>\n",
       "      <td>0.021288</td>\n",
       "      <td>0.024249</td>\n",
       "      <td>0.032423</td>\n",
       "      <td>...</td>\n",
       "      <td>2057</td>\n",
       "      <td>18751.813987</td>\n",
       "      <td>17799.101034</td>\n",
       "      <td>-22975.485840</td>\n",
       "      <td>230971.176383</td>\n",
       "      <td>-5.060274e+06</td>\n",
       "      <td>-5.291246e+06</td>\n",
       "      <td>-5.464324e+06</td>\n",
       "      <td>404255.551537</td>\n",
       "      <td>404255.551537</td>\n",
       "    </tr>\n",
       "    <tr>\n",
       "      <th>W/m^2</th>\n",
       "      <th>Effective Radiative Forcing</th>\n",
       "      <td>0.0</td>\n",
       "      <td>0.100231</td>\n",
       "      <td>0.108626</td>\n",
       "      <td>0.105016</td>\n",
       "      <td>0.089092</td>\n",
       "      <td>0.034038</td>\n",
       "      <td>0.013630</td>\n",
       "      <td>0.057298</td>\n",
       "      <td>0.086908</td>\n",
       "      <td>0.100721</td>\n",
       "      <td>...</td>\n",
       "      <td>2057</td>\n",
       "      <td>18751.813987</td>\n",
       "      <td>17799.101034</td>\n",
       "      <td>-22975.485840</td>\n",
       "      <td>230971.176383</td>\n",
       "      <td>-5.060274e+06</td>\n",
       "      <td>-5.291246e+06</td>\n",
       "      <td>-5.464324e+06</td>\n",
       "      <td>404255.551537</td>\n",
       "      <td>404255.551537</td>\n",
       "    </tr>\n",
       "    <tr>\n",
       "      <th>AIM/CGE 2.2EN_INDCi2030_1000f</th>\n",
       "      <th>-10788.933173</th>\n",
       "      <th>AIM/CGE 2.2</th>\n",
       "      <th>World</th>\n",
       "      <th>1200</th>\n",
       "      <th>EN_INDCi2030_1000f</th>\n",
       "      <th>-4.445832e+06</th>\n",
       "      <th>K</th>\n",
       "      <th>Surface Air Temperature Change</th>\n",
       "      <td>0.0</td>\n",
       "      <td>0.021043</td>\n",
       "      <td>0.030870</td>\n",
       "      <td>0.036407</td>\n",
       "      <td>0.038264</td>\n",
       "      <td>0.039579</td>\n",
       "      <td>0.035514</td>\n",
       "      <td>0.021288</td>\n",
       "      <td>0.024249</td>\n",
       "      <td>0.032423</td>\n",
       "      <td>...</td>\n",
       "      <td>2067</td>\n",
       "      <td>21341.038435</td>\n",
       "      <td>5754.528269</td>\n",
       "      <td>-5639.315272</td>\n",
       "      <td>730539.678842</td>\n",
       "      <td>-1.082178e+05</td>\n",
       "      <td>-8.387575e+05</td>\n",
       "      <td>-8.401611e+05</td>\n",
       "      <td>732311.151784</td>\n",
       "      <td>732311.151784</td>\n",
       "    </tr>\n",
       "  </tbody>\n",
       "</table>\n",
       "<p>5 rows × 763 columns</p>\n",
       "</div>"
      ],
      "text/plain": [
       "                                                                                                                                                                                        1750  \\\n",
       "climate_model ensemble_member ms                                 max_assigned_CDR model       region run_id scenario                total_CDR     unit  variable                               \n",
       "MAGICCv7.5.3  0               AIM/CGE 2.1CD-LINKS_INDC2030i_1600 -13683.159952    AIM/CGE 2.1 World  0      CD-LINKS_INDC2030i_1600 -4.910419e+06 K     Surface Air Temperature Change   0.0   \n",
       "                                                                                                                                                  W/m^2 Effective Radiative Forcing      0.0   \n",
       "                              AIM/CGE 2.1CD-LINKS_NDC2030i_1000  -8395.374329     AIM/CGE 2.1 World  600    CD-LINKS_NDC2030i_1000  -3.531033e+06 K     Surface Air Temperature Change   0.0   \n",
       "                                                                                                                                                  W/m^2 Effective Radiative Forcing      0.0   \n",
       "                              AIM/CGE 2.2EN_INDCi2030_1000f      -10788.933173    AIM/CGE 2.2 World  1200   EN_INDCi2030_1000f      -4.445832e+06 K     Surface Air Temperature Change   0.0   \n",
       "\n",
       "                                                                                                                                                                                            1751  \\\n",
       "climate_model ensemble_member ms                                 max_assigned_CDR model       region run_id scenario                total_CDR     unit  variable                                   \n",
       "MAGICCv7.5.3  0               AIM/CGE 2.1CD-LINKS_INDC2030i_1600 -13683.159952    AIM/CGE 2.1 World  0      CD-LINKS_INDC2030i_1600 -4.910419e+06 K     Surface Air Temperature Change  0.021043   \n",
       "                                                                                                                                                  W/m^2 Effective Radiative Forcing     0.100231   \n",
       "                              AIM/CGE 2.1CD-LINKS_NDC2030i_1000  -8395.374329     AIM/CGE 2.1 World  600    CD-LINKS_NDC2030i_1000  -3.531033e+06 K     Surface Air Temperature Change  0.021043   \n",
       "                                                                                                                                                  W/m^2 Effective Radiative Forcing     0.100231   \n",
       "                              AIM/CGE 2.2EN_INDCi2030_1000f      -10788.933173    AIM/CGE 2.2 World  1200   EN_INDCi2030_1000f      -4.445832e+06 K     Surface Air Temperature Change  0.021043   \n",
       "\n",
       "                                                                                                                                                                                            1752  \\\n",
       "climate_model ensemble_member ms                                 max_assigned_CDR model       region run_id scenario                total_CDR     unit  variable                                   \n",
       "MAGICCv7.5.3  0               AIM/CGE 2.1CD-LINKS_INDC2030i_1600 -13683.159952    AIM/CGE 2.1 World  0      CD-LINKS_INDC2030i_1600 -4.910419e+06 K     Surface Air Temperature Change  0.030870   \n",
       "                                                                                                                                                  W/m^2 Effective Radiative Forcing     0.108626   \n",
       "                              AIM/CGE 2.1CD-LINKS_NDC2030i_1000  -8395.374329     AIM/CGE 2.1 World  600    CD-LINKS_NDC2030i_1000  -3.531033e+06 K     Surface Air Temperature Change  0.030870   \n",
       "                                                                                                                                                  W/m^2 Effective Radiative Forcing     0.108626   \n",
       "                              AIM/CGE 2.2EN_INDCi2030_1000f      -10788.933173    AIM/CGE 2.2 World  1200   EN_INDCi2030_1000f      -4.445832e+06 K     Surface Air Temperature Change  0.030870   \n",
       "\n",
       "                                                                                                                                                                                            1753  \\\n",
       "climate_model ensemble_member ms                                 max_assigned_CDR model       region run_id scenario                total_CDR     unit  variable                                   \n",
       "MAGICCv7.5.3  0               AIM/CGE 2.1CD-LINKS_INDC2030i_1600 -13683.159952    AIM/CGE 2.1 World  0      CD-LINKS_INDC2030i_1600 -4.910419e+06 K     Surface Air Temperature Change  0.036407   \n",
       "                                                                                                                                                  W/m^2 Effective Radiative Forcing     0.105016   \n",
       "                              AIM/CGE 2.1CD-LINKS_NDC2030i_1000  -8395.374329     AIM/CGE 2.1 World  600    CD-LINKS_NDC2030i_1000  -3.531033e+06 K     Surface Air Temperature Change  0.036407   \n",
       "                                                                                                                                                  W/m^2 Effective Radiative Forcing     0.105016   \n",
       "                              AIM/CGE 2.2EN_INDCi2030_1000f      -10788.933173    AIM/CGE 2.2 World  1200   EN_INDCi2030_1000f      -4.445832e+06 K     Surface Air Temperature Change  0.036407   \n",
       "\n",
       "                                                                                                                                                                                            1754  \\\n",
       "climate_model ensemble_member ms                                 max_assigned_CDR model       region run_id scenario                total_CDR     unit  variable                                   \n",
       "MAGICCv7.5.3  0               AIM/CGE 2.1CD-LINKS_INDC2030i_1600 -13683.159952    AIM/CGE 2.1 World  0      CD-LINKS_INDC2030i_1600 -4.910419e+06 K     Surface Air Temperature Change  0.038264   \n",
       "                                                                                                                                                  W/m^2 Effective Radiative Forcing     0.089092   \n",
       "                              AIM/CGE 2.1CD-LINKS_NDC2030i_1000  -8395.374329     AIM/CGE 2.1 World  600    CD-LINKS_NDC2030i_1000  -3.531033e+06 K     Surface Air Temperature Change  0.038264   \n",
       "                                                                                                                                                  W/m^2 Effective Radiative Forcing     0.089092   \n",
       "                              AIM/CGE 2.2EN_INDCi2030_1000f      -10788.933173    AIM/CGE 2.2 World  1200   EN_INDCi2030_1000f      -4.445832e+06 K     Surface Air Temperature Change  0.038264   \n",
       "\n",
       "                                                                                                                                                                                            1755  \\\n",
       "climate_model ensemble_member ms                                 max_assigned_CDR model       region run_id scenario                total_CDR     unit  variable                                   \n",
       "MAGICCv7.5.3  0               AIM/CGE 2.1CD-LINKS_INDC2030i_1600 -13683.159952    AIM/CGE 2.1 World  0      CD-LINKS_INDC2030i_1600 -4.910419e+06 K     Surface Air Temperature Change  0.039579   \n",
       "                                                                                                                                                  W/m^2 Effective Radiative Forcing     0.034038   \n",
       "                              AIM/CGE 2.1CD-LINKS_NDC2030i_1000  -8395.374329     AIM/CGE 2.1 World  600    CD-LINKS_NDC2030i_1000  -3.531033e+06 K     Surface Air Temperature Change  0.039579   \n",
       "                                                                                                                                                  W/m^2 Effective Radiative Forcing     0.034038   \n",
       "                              AIM/CGE 2.2EN_INDCi2030_1000f      -10788.933173    AIM/CGE 2.2 World  1200   EN_INDCi2030_1000f      -4.445832e+06 K     Surface Air Temperature Change  0.039579   \n",
       "\n",
       "                                                                                                                                                                                            1756  \\\n",
       "climate_model ensemble_member ms                                 max_assigned_CDR model       region run_id scenario                total_CDR     unit  variable                                   \n",
       "MAGICCv7.5.3  0               AIM/CGE 2.1CD-LINKS_INDC2030i_1600 -13683.159952    AIM/CGE 2.1 World  0      CD-LINKS_INDC2030i_1600 -4.910419e+06 K     Surface Air Temperature Change  0.035514   \n",
       "                                                                                                                                                  W/m^2 Effective Radiative Forcing     0.013630   \n",
       "                              AIM/CGE 2.1CD-LINKS_NDC2030i_1000  -8395.374329     AIM/CGE 2.1 World  600    CD-LINKS_NDC2030i_1000  -3.531033e+06 K     Surface Air Temperature Change  0.035514   \n",
       "                                                                                                                                                  W/m^2 Effective Radiative Forcing     0.013630   \n",
       "                              AIM/CGE 2.2EN_INDCi2030_1000f      -10788.933173    AIM/CGE 2.2 World  1200   EN_INDCi2030_1000f      -4.445832e+06 K     Surface Air Temperature Change  0.035514   \n",
       "\n",
       "                                                                                                                                                                                            1757  \\\n",
       "climate_model ensemble_member ms                                 max_assigned_CDR model       region run_id scenario                total_CDR     unit  variable                                   \n",
       "MAGICCv7.5.3  0               AIM/CGE 2.1CD-LINKS_INDC2030i_1600 -13683.159952    AIM/CGE 2.1 World  0      CD-LINKS_INDC2030i_1600 -4.910419e+06 K     Surface Air Temperature Change  0.021288   \n",
       "                                                                                                                                                  W/m^2 Effective Radiative Forcing     0.057298   \n",
       "                              AIM/CGE 2.1CD-LINKS_NDC2030i_1000  -8395.374329     AIM/CGE 2.1 World  600    CD-LINKS_NDC2030i_1000  -3.531033e+06 K     Surface Air Temperature Change  0.021288   \n",
       "                                                                                                                                                  W/m^2 Effective Radiative Forcing     0.057298   \n",
       "                              AIM/CGE 2.2EN_INDCi2030_1000f      -10788.933173    AIM/CGE 2.2 World  1200   EN_INDCi2030_1000f      -4.445832e+06 K     Surface Air Temperature Change  0.021288   \n",
       "\n",
       "                                                                                                                                                                                            1758  \\\n",
       "climate_model ensemble_member ms                                 max_assigned_CDR model       region run_id scenario                total_CDR     unit  variable                                   \n",
       "MAGICCv7.5.3  0               AIM/CGE 2.1CD-LINKS_INDC2030i_1600 -13683.159952    AIM/CGE 2.1 World  0      CD-LINKS_INDC2030i_1600 -4.910419e+06 K     Surface Air Temperature Change  0.024249   \n",
       "                                                                                                                                                  W/m^2 Effective Radiative Forcing     0.086908   \n",
       "                              AIM/CGE 2.1CD-LINKS_NDC2030i_1000  -8395.374329     AIM/CGE 2.1 World  600    CD-LINKS_NDC2030i_1000  -3.531033e+06 K     Surface Air Temperature Change  0.024249   \n",
       "                                                                                                                                                  W/m^2 Effective Radiative Forcing     0.086908   \n",
       "                              AIM/CGE 2.2EN_INDCi2030_1000f      -10788.933173    AIM/CGE 2.2 World  1200   EN_INDCi2030_1000f      -4.445832e+06 K     Surface Air Temperature Change  0.024249   \n",
       "\n",
       "                                                                                                                                                                                            1759  \\\n",
       "climate_model ensemble_member ms                                 max_assigned_CDR model       region run_id scenario                total_CDR     unit  variable                                   \n",
       "MAGICCv7.5.3  0               AIM/CGE 2.1CD-LINKS_INDC2030i_1600 -13683.159952    AIM/CGE 2.1 World  0      CD-LINKS_INDC2030i_1600 -4.910419e+06 K     Surface Air Temperature Change  0.032423   \n",
       "                                                                                                                                                  W/m^2 Effective Radiative Forcing     0.100721   \n",
       "                              AIM/CGE 2.1CD-LINKS_NDC2030i_1000  -8395.374329     AIM/CGE 2.1 World  600    CD-LINKS_NDC2030i_1000  -3.531033e+06 K     Surface Air Temperature Change  0.032423   \n",
       "                                                                                                                                                  W/m^2 Effective Radiative Forcing     0.100721   \n",
       "                              AIM/CGE 2.2EN_INDCi2030_1000f      -10788.933173    AIM/CGE 2.2 World  1200   EN_INDCi2030_1000f      -4.445832e+06 K     Surface Air Temperature Change  0.032423   \n",
       "\n",
       "                                                                                                                                                                                        ...  \\\n",
       "climate_model ensemble_member ms                                 max_assigned_CDR model       region run_id scenario                total_CDR     unit  variable                        ...   \n",
       "MAGICCv7.5.3  0               AIM/CGE 2.1CD-LINKS_INDC2030i_1600 -13683.159952    AIM/CGE 2.1 World  0      CD-LINKS_INDC2030i_1600 -4.910419e+06 K     Surface Air Temperature Change  ...   \n",
       "                                                                                                                                                  W/m^2 Effective Radiative Forcing     ...   \n",
       "                              AIM/CGE 2.1CD-LINKS_NDC2030i_1000  -8395.374329     AIM/CGE 2.1 World  600    CD-LINKS_NDC2030i_1000  -3.531033e+06 K     Surface Air Temperature Change  ...   \n",
       "                                                                                                                                                  W/m^2 Effective Radiative Forcing     ...   \n",
       "                              AIM/CGE 2.2EN_INDCi2030_1000f      -10788.933173    AIM/CGE 2.2 World  1200   EN_INDCi2030_1000f      -4.445832e+06 K     Surface Air Temperature Change  ...   \n",
       "\n",
       "                                                                                                                                                                                        net-zero_year  \\\n",
       "climate_model ensemble_member ms                                 max_assigned_CDR model       region run_id scenario                total_CDR     unit  variable                                        \n",
       "MAGICCv7.5.3  0               AIM/CGE 2.1CD-LINKS_INDC2030i_1600 -13683.159952    AIM/CGE 2.1 World  0      CD-LINKS_INDC2030i_1600 -4.910419e+06 K     Surface Air Temperature Change           2117   \n",
       "                                                                                                                                                  W/m^2 Effective Radiative Forcing              2117   \n",
       "                              AIM/CGE 2.1CD-LINKS_NDC2030i_1000  -8395.374329     AIM/CGE 2.1 World  600    CD-LINKS_NDC2030i_1000  -3.531033e+06 K     Surface Air Temperature Change           2057   \n",
       "                                                                                                                                                  W/m^2 Effective Radiative Forcing              2057   \n",
       "                              AIM/CGE 2.2EN_INDCi2030_1000f      -10788.933173    AIM/CGE 2.2 World  1200   EN_INDCi2030_1000f      -4.445832e+06 K     Surface Air Temperature Change           2067   \n",
       "\n",
       "                                                                                                                                                                                        average_annual_emissions_2030_net-zero  \\\n",
       "climate_model ensemble_member ms                                 max_assigned_CDR model       region run_id scenario                total_CDR     unit  variable                                                                 \n",
       "MAGICCv7.5.3  0               AIM/CGE 2.1CD-LINKS_INDC2030i_1600 -13683.159952    AIM/CGE 2.1 World  0      CD-LINKS_INDC2030i_1600 -4.910419e+06 K     Surface Air Temperature Change                            18751.813987   \n",
       "                                                                                                                                                  W/m^2 Effective Radiative Forcing                               18751.813987   \n",
       "                              AIM/CGE 2.1CD-LINKS_NDC2030i_1000  -8395.374329     AIM/CGE 2.1 World  600    CD-LINKS_NDC2030i_1000  -3.531033e+06 K     Surface Air Temperature Change                            18751.813987   \n",
       "                                                                                                                                                  W/m^2 Effective Radiative Forcing                               18751.813987   \n",
       "                              AIM/CGE 2.2EN_INDCi2030_1000f      -10788.933173    AIM/CGE 2.2 World  1200   EN_INDCi2030_1000f      -4.445832e+06 K     Surface Air Temperature Change                            21341.038435   \n",
       "\n",
       "                                                                                                                                                                                        average_cdr_between_net0_and_15  \\\n",
       "climate_model ensemble_member ms                                 max_assigned_CDR model       region run_id scenario                total_CDR     unit  variable                                                          \n",
       "MAGICCv7.5.3  0               AIM/CGE 2.1CD-LINKS_INDC2030i_1600 -13683.159952    AIM/CGE 2.1 World  0      CD-LINKS_INDC2030i_1600 -4.910419e+06 K     Surface Air Temperature Change                     12868.518933   \n",
       "                                                                                                                                                  W/m^2 Effective Radiative Forcing                        12868.518933   \n",
       "                              AIM/CGE 2.1CD-LINKS_NDC2030i_1000  -8395.374329     AIM/CGE 2.1 World  600    CD-LINKS_NDC2030i_1000  -3.531033e+06 K     Surface Air Temperature Change                     17799.101034   \n",
       "                                                                                                                                                  W/m^2 Effective Radiative Forcing                        17799.101034   \n",
       "                              AIM/CGE 2.2EN_INDCi2030_1000f      -10788.933173    AIM/CGE 2.2 World  1200   EN_INDCi2030_1000f      -4.445832e+06 K     Surface Air Temperature Change                      5754.528269   \n",
       "\n",
       "                                                                                                                                                                                        max_deployed_CDR  \\\n",
       "climate_model ensemble_member ms                                 max_assigned_CDR model       region run_id scenario                total_CDR     unit  variable                                           \n",
       "MAGICCv7.5.3  0               AIM/CGE 2.1CD-LINKS_INDC2030i_1600 -13683.159952    AIM/CGE 2.1 World  0      CD-LINKS_INDC2030i_1600 -4.910419e+06 K     Surface Air Temperature Change     -13774.970781   \n",
       "                                                                                                                                                  W/m^2 Effective Radiative Forcing        -13774.970781   \n",
       "                              AIM/CGE 2.1CD-LINKS_NDC2030i_1000  -8395.374329     AIM/CGE 2.1 World  600    CD-LINKS_NDC2030i_1000  -3.531033e+06 K     Surface Air Temperature Change     -22975.485840   \n",
       "                                                                                                                                                  W/m^2 Effective Radiative Forcing        -22975.485840   \n",
       "                              AIM/CGE 2.2EN_INDCi2030_1000f      -10788.933173    AIM/CGE 2.2 World  1200   EN_INDCi2030_1000f      -4.445832e+06 K     Surface Air Temperature Change      -5639.315272   \n",
       "\n",
       "                                                                                                                                                                                        cumulative_emms_peak_warming  \\\n",
       "climate_model ensemble_member ms                                 max_assigned_CDR model       region run_id scenario                total_CDR     unit  variable                                                       \n",
       "MAGICCv7.5.3  0               AIM/CGE 2.1CD-LINKS_INDC2030i_1600 -13683.159952    AIM/CGE 2.1 World  0      CD-LINKS_INDC2030i_1600 -4.910419e+06 K     Surface Air Temperature Change                 717817.957834   \n",
       "                                                                                                                                                  W/m^2 Effective Radiative Forcing                    717817.957834   \n",
       "                              AIM/CGE 2.1CD-LINKS_NDC2030i_1000  -8395.374329     AIM/CGE 2.1 World  600    CD-LINKS_NDC2030i_1000  -3.531033e+06 K     Surface Air Temperature Change                 230971.176383   \n",
       "                                                                                                                                                  W/m^2 Effective Radiative Forcing                    230971.176383   \n",
       "                              AIM/CGE 2.2EN_INDCi2030_1000f      -10788.933173    AIM/CGE 2.2 World  1200   EN_INDCi2030_1000f      -4.445832e+06 K     Surface Air Temperature Change                 730539.678842   \n",
       "\n",
       "                                                                                                                                                                                        cumulative_emms_15  \\\n",
       "climate_model ensemble_member ms                                 max_assigned_CDR model       region run_id scenario                total_CDR     unit  variable                                             \n",
       "MAGICCv7.5.3  0               AIM/CGE 2.1CD-LINKS_INDC2030i_1600 -13683.159952    AIM/CGE 2.1 World  0      CD-LINKS_INDC2030i_1600 -4.910419e+06 K     Surface Air Temperature Change       -2.501199e+06   \n",
       "                                                                                                                                                  W/m^2 Effective Radiative Forcing          -2.501199e+06   \n",
       "                              AIM/CGE 2.1CD-LINKS_NDC2030i_1000  -8395.374329     AIM/CGE 2.1 World  600    CD-LINKS_NDC2030i_1000  -3.531033e+06 K     Surface Air Temperature Change       -5.060274e+06   \n",
       "                                                                                                                                                  W/m^2 Effective Radiative Forcing          -5.060274e+06   \n",
       "                              AIM/CGE 2.2EN_INDCi2030_1000f      -10788.933173    AIM/CGE 2.2 World  1200   EN_INDCi2030_1000f      -4.445832e+06 K     Surface Air Temperature Change       -1.082178e+05   \n",
       "\n",
       "                                                                                                                                                                                        cumulative_emms_peak_warming_to_15  \\\n",
       "climate_model ensemble_member ms                                 max_assigned_CDR model       region run_id scenario                total_CDR     unit  variable                                                             \n",
       "MAGICCv7.5.3  0               AIM/CGE 2.1CD-LINKS_INDC2030i_1600 -13683.159952    AIM/CGE 2.1 World  0      CD-LINKS_INDC2030i_1600 -4.910419e+06 K     Surface Air Temperature Change                       -3.219017e+06   \n",
       "                                                                                                                                                  W/m^2 Effective Radiative Forcing                          -3.219017e+06   \n",
       "                              AIM/CGE 2.1CD-LINKS_NDC2030i_1000  -8395.374329     AIM/CGE 2.1 World  600    CD-LINKS_NDC2030i_1000  -3.531033e+06 K     Surface Air Temperature Change                       -5.291246e+06   \n",
       "                                                                                                                                                  W/m^2 Effective Radiative Forcing                          -5.291246e+06   \n",
       "                              AIM/CGE 2.2EN_INDCi2030_1000f      -10788.933173    AIM/CGE 2.2 World  1200   EN_INDCi2030_1000f      -4.445832e+06 K     Surface Air Temperature Change                       -8.387575e+05   \n",
       "\n",
       "                                                                                                                                                                                        cumulative_emms_net0_to_15  \\\n",
       "climate_model ensemble_member ms                                 max_assigned_CDR model       region run_id scenario                total_CDR     unit  variable                                                     \n",
       "MAGICCv7.5.3  0               AIM/CGE 2.1CD-LINKS_INDC2030i_1600 -13683.159952    AIM/CGE 2.1 World  0      CD-LINKS_INDC2030i_1600 -4.910419e+06 K     Surface Air Temperature Change               -3.410158e+06   \n",
       "                                                                                                                                                  W/m^2 Effective Radiative Forcing                  -3.410158e+06   \n",
       "                              AIM/CGE 2.1CD-LINKS_NDC2030i_1000  -8395.374329     AIM/CGE 2.1 World  600    CD-LINKS_NDC2030i_1000  -3.531033e+06 K     Surface Air Temperature Change               -5.464324e+06   \n",
       "                                                                                                                                                  W/m^2 Effective Radiative Forcing                  -5.464324e+06   \n",
       "                              AIM/CGE 2.2EN_INDCi2030_1000f      -10788.933173    AIM/CGE 2.2 World  1200   EN_INDCi2030_1000f      -4.445832e+06 K     Surface Air Temperature Change               -8.401611e+05   \n",
       "\n",
       "                                                                                                                                                                                        cumulative_pos_emms_at_15  \\\n",
       "climate_model ensemble_member ms                                 max_assigned_CDR model       region run_id scenario                total_CDR     unit  variable                                                    \n",
       "MAGICCv7.5.3  0               AIM/CGE 2.1CD-LINKS_INDC2030i_1600 -13683.159952    AIM/CGE 2.1 World  0      CD-LINKS_INDC2030i_1600 -4.910419e+06 K     Surface Air Temperature Change              909213.148461   \n",
       "                                                                                                                                                  W/m^2 Effective Radiative Forcing                 909213.148461   \n",
       "                              AIM/CGE 2.1CD-LINKS_NDC2030i_1000  -8395.374329     AIM/CGE 2.1 World  600    CD-LINKS_NDC2030i_1000  -3.531033e+06 K     Surface Air Temperature Change              404255.551537   \n",
       "                                                                                                                                                  W/m^2 Effective Radiative Forcing                 404255.551537   \n",
       "                              AIM/CGE 2.2EN_INDCi2030_1000f      -10788.933173    AIM/CGE 2.2 World  1200   EN_INDCi2030_1000f      -4.445832e+06 K     Surface Air Temperature Change              732311.151784   \n",
       "\n",
       "                                                                                                                                                                                        cumulative_pos_emms_at_net0  \n",
       "climate_model ensemble_member ms                                 max_assigned_CDR model       region run_id scenario                total_CDR     unit  variable                                                     \n",
       "MAGICCv7.5.3  0               AIM/CGE 2.1CD-LINKS_INDC2030i_1600 -13683.159952    AIM/CGE 2.1 World  0      CD-LINKS_INDC2030i_1600 -4.910419e+06 K     Surface Air Temperature Change                909213.148461  \n",
       "                                                                                                                                                  W/m^2 Effective Radiative Forcing                   909213.148461  \n",
       "                              AIM/CGE 2.1CD-LINKS_NDC2030i_1000  -8395.374329     AIM/CGE 2.1 World  600    CD-LINKS_NDC2030i_1000  -3.531033e+06 K     Surface Air Temperature Change                404255.551537  \n",
       "                                                                                                                                                  W/m^2 Effective Radiative Forcing                   404255.551537  \n",
       "                              AIM/CGE 2.2EN_INDCi2030_1000f      -10788.933173    AIM/CGE 2.2 World  1200   EN_INDCi2030_1000f      -4.445832e+06 K     Surface Air Temperature Change                732311.151784  \n",
       "\n",
       "[5 rows x 763 columns]"
      ]
     },
     "execution_count": 74,
     "metadata": {},
     "output_type": "execute_result"
    },
    {
     "data": {
      "application/javascript": [
       "\n",
       "            setTimeout(function() {\n",
       "                var nbb_cell_id = 74;\n",
       "                var nbb_unformatted_code = \"magicc_output_ts = magicc_output.timeseries(time_axis=\\\"year\\\")\\nmagicc_output_ts = (\\n    magicc_output_ts.join(net_cdr_at_year_15_row)\\n    .join(year_15)\\n    .join(net_zero_year_row_all)\\n    .join(avg_annual_em_2030_net0_all)\\n    #   .join(average_cdr_at_year_15)\\n    .join(average_cdr_net_zero_15)\\n    .join(max_deployed_CDR)\\n    .join(cumulative_emms_peak_warming)\\n    .join(cumulative_emms_at_15)\\n    .join(cumulative_emms_peak_warming_to_15)\\n    .join(cumulative_emms_net0_em_to_15)\\n    .join(cumulative_pos_emms_at_15)\\n    .join(cumulative_pos_emms_at_net0)\\n)\\nmagicc_output_ts.head()\";\n",
       "                var nbb_formatted_code = \"magicc_output_ts = magicc_output.timeseries(time_axis=\\\"year\\\")\\nmagicc_output_ts = (\\n    magicc_output_ts.join(net_cdr_at_year_15_row)\\n    .join(year_15)\\n    .join(net_zero_year_row_all)\\n    .join(avg_annual_em_2030_net0_all)\\n    #   .join(average_cdr_at_year_15)\\n    .join(average_cdr_net_zero_15)\\n    .join(max_deployed_CDR)\\n    .join(cumulative_emms_peak_warming)\\n    .join(cumulative_emms_at_15)\\n    .join(cumulative_emms_peak_warming_to_15)\\n    .join(cumulative_emms_net0_em_to_15)\\n    .join(cumulative_pos_emms_at_15)\\n    .join(cumulative_pos_emms_at_net0)\\n)\\nmagicc_output_ts.head()\";\n",
       "                var nbb_cells = Jupyter.notebook.get_cells();\n",
       "                for (var i = 0; i < nbb_cells.length; ++i) {\n",
       "                    if (nbb_cells[i].input_prompt_number == nbb_cell_id) {\n",
       "                        if (nbb_cells[i].get_text() == nbb_unformatted_code) {\n",
       "                             nbb_cells[i].set_text(nbb_formatted_code);\n",
       "                        }\n",
       "                        break;\n",
       "                    }\n",
       "                }\n",
       "            }, 500);\n",
       "            "
      ],
      "text/plain": [
       "<IPython.core.display.Javascript object>"
      ]
     },
     "metadata": {},
     "output_type": "display_data"
    }
   ],
   "source": [
    "magicc_output_ts = magicc_output.timeseries(time_axis=\"year\")\n",
    "magicc_output_ts = (\n",
    "    magicc_output_ts.join(net_cdr_at_year_15_row)\n",
    "    .join(year_15)\n",
    "    .join(net_zero_year_row_all)\n",
    "    .join(avg_annual_em_2030_net0_all)\n",
    "    #   .join(average_cdr_at_year_15)\n",
    "    .join(average_cdr_net_zero_15)\n",
    "    .join(max_deployed_CDR)\n",
    "    .join(cumulative_emms_peak_warming)\n",
    "    .join(cumulative_emms_at_15)\n",
    "    .join(cumulative_emms_peak_warming_to_15)\n",
    "    .join(cumulative_emms_net0_em_to_15)\n",
    "    .join(cumulative_pos_emms_at_15)\n",
    "    .join(cumulative_pos_emms_at_net0)\n",
    ")\n",
    "magicc_output_ts.head()"
   ]
  },
  {
   "cell_type": "code",
   "execution_count": 77,
   "id": "6abfee25",
   "metadata": {
    "scrolled": true
   },
   "outputs": [
    {
     "data": {
      "text/plain": [
       "(416400, 774)"
      ]
     },
     "execution_count": 77,
     "metadata": {},
     "output_type": "execute_result"
    },
    {
     "data": {
      "application/javascript": [
       "\n",
       "            setTimeout(function() {\n",
       "                var nbb_cell_id = 77;\n",
       "                var nbb_unformatted_code = \"magicc_output_ts.shape\";\n",
       "                var nbb_formatted_code = \"magicc_output_ts.shape\";\n",
       "                var nbb_cells = Jupyter.notebook.get_cells();\n",
       "                for (var i = 0; i < nbb_cells.length; ++i) {\n",
       "                    if (nbb_cells[i].input_prompt_number == nbb_cell_id) {\n",
       "                        if (nbb_cells[i].get_text() == nbb_unformatted_code) {\n",
       "                             nbb_cells[i].set_text(nbb_formatted_code);\n",
       "                        }\n",
       "                        break;\n",
       "                    }\n",
       "                }\n",
       "            }, 500);\n",
       "            "
      ],
      "text/plain": [
       "<IPython.core.display.Javascript object>"
      ]
     },
     "metadata": {},
     "output_type": "display_data"
    }
   ],
   "source": [
    "magicc_output_ts.shape"
   ]
  },
  {
   "cell_type": "code",
   "execution_count": 75,
   "id": "1b211a1c",
   "metadata": {},
   "outputs": [
    {
     "data": {
      "application/javascript": [
       "\n",
       "            setTimeout(function() {\n",
       "                var nbb_cell_id = 75;\n",
       "                var nbb_unformatted_code = \"scmdata.ScmRun(magicc_output_ts).to_csv(OUTPUT_FILE)\";\n",
       "                var nbb_formatted_code = \"scmdata.ScmRun(magicc_output_ts).to_csv(OUTPUT_FILE)\";\n",
       "                var nbb_cells = Jupyter.notebook.get_cells();\n",
       "                for (var i = 0; i < nbb_cells.length; ++i) {\n",
       "                    if (nbb_cells[i].input_prompt_number == nbb_cell_id) {\n",
       "                        if (nbb_cells[i].get_text() == nbb_unformatted_code) {\n",
       "                             nbb_cells[i].set_text(nbb_formatted_code);\n",
       "                        }\n",
       "                        break;\n",
       "                    }\n",
       "                }\n",
       "            }, 500);\n",
       "            "
      ],
      "text/plain": [
       "<IPython.core.display.Javascript object>"
      ]
     },
     "metadata": {},
     "output_type": "display_data"
    }
   ],
   "source": [
    "scmdata.ScmRun(magicc_output_ts).to_csv(OUTPUT_FILE)"
   ]
  },
  {
   "cell_type": "code",
   "execution_count": null,
   "id": "50562de3",
   "metadata": {},
   "outputs": [],
   "source": []
  }
 ],
 "metadata": {
  "kernelspec": {
   "display_name": "Python 3 (ipykernel)",
   "language": "python",
   "name": "python3"
  },
  "language_info": {
   "codemirror_mode": {
    "name": "ipython",
    "version": 3
   },
   "file_extension": ".py",
   "mimetype": "text/x-python",
   "name": "python",
   "nbconvert_exporter": "python",
   "pygments_lexer": "ipython3",
   "version": "3.9.13"
  }
 },
 "nbformat": 4,
 "nbformat_minor": 5
}
