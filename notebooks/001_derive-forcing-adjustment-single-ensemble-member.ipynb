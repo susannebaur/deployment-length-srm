{
 "cells": [
  {
   "cell_type": "markdown",
   "id": "529bb178",
   "metadata": {},
   "source": [
    "# How to run this notebook:\n",
    "\n",
    "**Option 1: Run in jupyter notebook**\n",
    "\n",
    "Assign 1 ENSEMBLE MEMBER (0-600), run\n",
    "\n",
    "**Option 2: Run with papermill in terminal (parameterisation of ENSEMBLE MEMBER)**\n",
    "\n",
    "```sh\n",
    "conda activate baur-et-al-srm-commitment\n",
    "cd notebooks  \n",
    "./run_forcing_adj.sh 0 600\n",
    "```\n",
    "\n",
    "**What this notebook does**\n",
    "\n",
    "1. For a given ensemble member, determine what forcing pathway is required to follow a 1.5C compliant trajectory. The choice of whether to start with SSP1-2.6 or SSP1-1.9 or SSP2-4.5 in this notebook is fairly unimportant, but SSP2-4.5 resembles WG3 NDC-aligned pathways closest so choose this.\n",
    "\n",
    "**To be done in other notebooks**\n",
    "\n",
    "2. Run WG3 scenarios until 2500\n",
    "3. Calculate the difference between the forcing in the WG3 scenario and the forcing required to follow a 1.5C compliant trajectory, this difference is the extra SRM required to go from the scenario to a a 1.5C compliant trajectory"
   ]
  },
  {
   "cell_type": "code",
   "execution_count": 1,
   "id": "c419f6b9",
   "metadata": {
    "tags": [
     "parameters"
    ]
   },
   "outputs": [],
   "source": [
    "#  specify default values which may be overridden by values specified at execution time (papermill)\n",
    "ENSEMBLE_MEMBER = 0"
   ]
  },
  {
   "cell_type": "code",
   "execution_count": 2,
   "id": "7a54608d",
   "metadata": {},
   "outputs": [],
   "source": [
    "assert ENSEMBLE_MEMBER < 600"
   ]
  },
  {
   "cell_type": "code",
   "execution_count": 3,
   "id": "2037f452",
   "metadata": {},
   "outputs": [
    {
     "data": {
      "application/javascript": [
       "\n",
       "            setTimeout(function() {\n",
       "                var nbb_cell_id = 3;\n",
       "                var nbb_unformatted_code = \"%load_ext nb_black\";\n",
       "                var nbb_formatted_code = \"%load_ext nb_black\";\n",
       "                var nbb_cells = Jupyter.notebook.get_cells();\n",
       "                for (var i = 0; i < nbb_cells.length; ++i) {\n",
       "                    if (nbb_cells[i].input_prompt_number == nbb_cell_id) {\n",
       "                        if (nbb_cells[i].get_text() == nbb_unformatted_code) {\n",
       "                             nbb_cells[i].set_text(nbb_formatted_code);\n",
       "                        }\n",
       "                        break;\n",
       "                    }\n",
       "                }\n",
       "            }, 500);\n",
       "            "
      ],
      "text/plain": [
       "<IPython.core.display.Javascript object>"
      ]
     },
     "metadata": {},
     "output_type": "display_data"
    }
   ],
   "source": [
    "%load_ext nb_black"
   ]
  },
  {
   "cell_type": "code",
   "execution_count": 4,
   "id": "ff3236f0",
   "metadata": {},
   "outputs": [
    {
     "data": {
      "application/javascript": [
       "if (typeof IPython !== 'undefined') { IPython.OutputArea.prototype._should_scroll = function(lines){ return false; }}"
      ],
      "text/plain": [
       "<IPython.core.display.Javascript object>"
      ]
     },
     "metadata": {},
     "output_type": "display_data"
    },
    {
     "name": "stderr",
     "output_type": "stream",
     "text": [
      "/data/ubuntu-znicholls/miniconda3/envs/baur-et-al-srm-commitment/lib/python3.9/site-packages/openscm_runner/progress.py:5: TqdmExperimentalWarning: Using `tqdm.autonotebook.tqdm` in notebook mode. Use `tqdm.tqdm` instead to force console mode (e.g. in jupyter console)\n",
      "  from tqdm.autonotebook import tqdm\n"
     ]
    },
    {
     "data": {
      "application/javascript": [
       "\n",
       "            setTimeout(function() {\n",
       "                var nbb_cell_id = 4;\n",
       "                var nbb_unformatted_code = \"import json\\nimport os\\nfrom pathlib import Path\\n\\nimport dotenv\\nimport matplotlib.pyplot as plt\\nimport numpy as np\\nimport openscm_runner\\nimport pymagicc.io\\nimport scmdata\\nfrom numpy.polynomial import Polynomial\\n\\n# from tqdm.autonotebook import tqdm\\n\\nimport utils\";\n",
       "                var nbb_formatted_code = \"import json\\nimport os\\nfrom pathlib import Path\\n\\nimport dotenv\\nimport matplotlib.pyplot as plt\\nimport numpy as np\\nimport openscm_runner\\nimport pymagicc.io\\nimport scmdata\\nfrom numpy.polynomial import Polynomial\\n\\n# from tqdm.autonotebook import tqdm\\n\\nimport utils\";\n",
       "                var nbb_cells = Jupyter.notebook.get_cells();\n",
       "                for (var i = 0; i < nbb_cells.length; ++i) {\n",
       "                    if (nbb_cells[i].input_prompt_number == nbb_cell_id) {\n",
       "                        if (nbb_cells[i].get_text() == nbb_unformatted_code) {\n",
       "                             nbb_cells[i].set_text(nbb_formatted_code);\n",
       "                        }\n",
       "                        break;\n",
       "                    }\n",
       "                }\n",
       "            }, 500);\n",
       "            "
      ],
      "text/plain": [
       "<IPython.core.display.Javascript object>"
      ]
     },
     "metadata": {},
     "output_type": "display_data"
    }
   ],
   "source": [
    "import json\n",
    "import os\n",
    "from pathlib import Path\n",
    "\n",
    "import dotenv\n",
    "import matplotlib.pyplot as plt\n",
    "import numpy as np\n",
    "import openscm_runner\n",
    "import pymagicc.io\n",
    "import scmdata\n",
    "from numpy.polynomial import Polynomial\n",
    "\n",
    "# from tqdm.autonotebook import tqdm\n",
    "\n",
    "import utils"
   ]
  },
  {
   "cell_type": "code",
   "execution_count": 5,
   "id": "54899a2f",
   "metadata": {},
   "outputs": [
    {
     "data": {
      "text/plain": [
       "True"
      ]
     },
     "execution_count": 5,
     "metadata": {},
     "output_type": "execute_result"
    },
    {
     "data": {
      "application/javascript": [
       "\n",
       "            setTimeout(function() {\n",
       "                var nbb_cell_id = 5;\n",
       "                var nbb_unformatted_code = \"dotenv.load_dotenv()\";\n",
       "                var nbb_formatted_code = \"dotenv.load_dotenv()\";\n",
       "                var nbb_cells = Jupyter.notebook.get_cells();\n",
       "                for (var i = 0; i < nbb_cells.length; ++i) {\n",
       "                    if (nbb_cells[i].input_prompt_number == nbb_cell_id) {\n",
       "                        if (nbb_cells[i].get_text() == nbb_unformatted_code) {\n",
       "                             nbb_cells[i].set_text(nbb_formatted_code);\n",
       "                        }\n",
       "                        break;\n",
       "                    }\n",
       "                }\n",
       "            }, 500);\n",
       "            "
      ],
      "text/plain": [
       "<IPython.core.display.Javascript object>"
      ]
     },
     "metadata": {},
     "output_type": "display_data"
    }
   ],
   "source": [
    "dotenv.load_dotenv()"
   ]
  },
  {
   "cell_type": "code",
   "execution_count": 6,
   "id": "8c9c675f",
   "metadata": {
    "scrolled": true
   },
   "outputs": [
    {
     "data": {
      "text/plain": [
       "'v7.5.3'"
      ]
     },
     "execution_count": 6,
     "metadata": {},
     "output_type": "execute_result"
    },
    {
     "data": {
      "application/javascript": [
       "\n",
       "            setTimeout(function() {\n",
       "                var nbb_cell_id = 6;\n",
       "                var nbb_unformatted_code = \"openscm_runner.adapters.MAGICC7.get_version()\";\n",
       "                var nbb_formatted_code = \"openscm_runner.adapters.MAGICC7.get_version()\";\n",
       "                var nbb_cells = Jupyter.notebook.get_cells();\n",
       "                for (var i = 0; i < nbb_cells.length; ++i) {\n",
       "                    if (nbb_cells[i].input_prompt_number == nbb_cell_id) {\n",
       "                        if (nbb_cells[i].get_text() == nbb_unformatted_code) {\n",
       "                             nbb_cells[i].set_text(nbb_formatted_code);\n",
       "                        }\n",
       "                        break;\n",
       "                    }\n",
       "                }\n",
       "            }, 500);\n",
       "            "
      ],
      "text/plain": [
       "<IPython.core.display.Javascript object>"
      ]
     },
     "metadata": {},
     "output_type": "display_data"
    }
   ],
   "source": [
    "openscm_runner.adapters.MAGICC7.get_version()"
   ]
  },
  {
   "cell_type": "markdown",
   "id": "f5e85b8e",
   "metadata": {},
   "source": [
    "## Load probabilistic distribution\n",
    "\n",
    "Here we just extract one ensemble member, the process will need to be repeated over all ensemble members."
   ]
  },
  {
   "cell_type": "code",
   "execution_count": 7,
   "id": "1359ba0c",
   "metadata": {},
   "outputs": [
    {
     "data": {
      "application/javascript": [
       "\n",
       "            setTimeout(function() {\n",
       "                var nbb_cell_id = 7;\n",
       "                var nbb_unformatted_code = \"plots_folder = Path(utils.PLOTS_DIR / \\\"ensemble_15_trajectories/\\\")\";\n",
       "                var nbb_formatted_code = \"plots_folder = Path(utils.PLOTS_DIR / \\\"ensemble_15_trajectories/\\\")\";\n",
       "                var nbb_cells = Jupyter.notebook.get_cells();\n",
       "                for (var i = 0; i < nbb_cells.length; ++i) {\n",
       "                    if (nbb_cells[i].input_prompt_number == nbb_cell_id) {\n",
       "                        if (nbb_cells[i].get_text() == nbb_unformatted_code) {\n",
       "                             nbb_cells[i].set_text(nbb_formatted_code);\n",
       "                        }\n",
       "                        break;\n",
       "                    }\n",
       "                }\n",
       "            }, 500);\n",
       "            "
      ],
      "text/plain": [
       "<IPython.core.display.Javascript object>"
      ]
     },
     "metadata": {},
     "output_type": "display_data"
    }
   ],
   "source": [
    "plots_folder = Path(utils.PLOTS_DIR / \"ensemble_15_trajectories/\")"
   ]
  },
  {
   "cell_type": "code",
   "execution_count": 8,
   "id": "90910897",
   "metadata": {
    "scrolled": true
   },
   "outputs": [
    {
     "data": {
      "text/plain": [
       "'IPCC AR6 config drawn on 9th Feb 2021. Sub-sample set 0fd0f62 from derived metrics set f023edb. Drawn in 532_plot_and_save_subsampled_distribution.ipynb.'"
      ]
     },
     "metadata": {},
     "output_type": "display_data"
    },
    {
     "data": {
      "application/javascript": [
       "\n",
       "            setTimeout(function() {\n",
       "                var nbb_cell_id = 8;\n",
       "                var nbb_unformatted_code = \"with open(os.environ[\\\"MAGICC_AR6_PROBABILISTIC_DISTRIBUTION\\\"]) as f:\\n    prob_dist = json.load(f)\\n\\ndisplay(prob_dist[\\\"description\\\"])\\ncfg_to_run = [\\n    d for d in prob_dist[\\\"configurations\\\"] if d[\\\"paraset_id\\\"] == ENSEMBLE_MEMBER\\n]\\nassert len(cfg_to_run) == 1\\ncfg_to_run = {k.lower(): v for k, v in cfg_to_run[0][\\\"nml_allcfgs\\\"].items()}\";\n",
       "                var nbb_formatted_code = \"with open(os.environ[\\\"MAGICC_AR6_PROBABILISTIC_DISTRIBUTION\\\"]) as f:\\n    prob_dist = json.load(f)\\n\\ndisplay(prob_dist[\\\"description\\\"])\\ncfg_to_run = [\\n    d for d in prob_dist[\\\"configurations\\\"] if d[\\\"paraset_id\\\"] == ENSEMBLE_MEMBER\\n]\\nassert len(cfg_to_run) == 1\\ncfg_to_run = {k.lower(): v for k, v in cfg_to_run[0][\\\"nml_allcfgs\\\"].items()}\";\n",
       "                var nbb_cells = Jupyter.notebook.get_cells();\n",
       "                for (var i = 0; i < nbb_cells.length; ++i) {\n",
       "                    if (nbb_cells[i].input_prompt_number == nbb_cell_id) {\n",
       "                        if (nbb_cells[i].get_text() == nbb_unformatted_code) {\n",
       "                             nbb_cells[i].set_text(nbb_formatted_code);\n",
       "                        }\n",
       "                        break;\n",
       "                    }\n",
       "                }\n",
       "            }, 500);\n",
       "            "
      ],
      "text/plain": [
       "<IPython.core.display.Javascript object>"
      ]
     },
     "metadata": {},
     "output_type": "display_data"
    }
   ],
   "source": [
    "with open(os.environ[\"MAGICC_AR6_PROBABILISTIC_DISTRIBUTION\"]) as f:\n",
    "    prob_dist = json.load(f)\n",
    "\n",
    "display(prob_dist[\"description\"])\n",
    "cfg_to_run = [\n",
    "    d for d in prob_dist[\"configurations\"] if d[\"paraset_id\"] == ENSEMBLE_MEMBER\n",
    "]\n",
    "assert len(cfg_to_run) == 1\n",
    "cfg_to_run = {k.lower(): v for k, v in cfg_to_run[0][\"nml_allcfgs\"].items()}"
   ]
  },
  {
   "cell_type": "code",
   "execution_count": 9,
   "id": "a509ffe4",
   "metadata": {},
   "outputs": [
    {
     "data": {
      "application/javascript": [
       "\n",
       "            setTimeout(function() {\n",
       "                var nbb_cell_id = 9;\n",
       "                var nbb_unformatted_code = \"# # this can help see where the config lies in the overall distribution\\n# import pandas as pd\\n\\n# all_cfgs_df = pd.DataFrame(\\n#     [{**c[\\\"nml_allcfgs\\\"], \\\"id\\\": c[\\\"paraset_id\\\"]} for c in prob_dist[\\\"configurations\\\"]]\\n# )\\n# all_cfgs_df[\\\"member of interest\\\"] = all_cfgs_df[\\\"id\\\"] == ENSEMBLE_MEMBER\\n# all_cfgs_df = all_cfgs_df.set_index(\\\"id\\\")\\n# # print(all_cfgs_df[\\\"CORE_CLIMATESENSITIVITY\\\"].idxmin())\\n\\n# import seaborn as sns\\n\\n# for c in all_cfgs_df:\\n#     em_val = all_cfgs_df[c].loc[ENSEMBLE_MEMBER]\\n#     if isinstance(em_val, (str, list, bool, np.bool_)):\\n#         continue\\n\\n#     perc_99 = all_cfgs_df[c].quantile(0.99)\\n#     perc_1 = all_cfgs_df[c].quantile(0.01)\\n\\n#     if (em_val < perc_1) or (em_val > perc_99):\\n#         print(c)\\n#         sns.displot(data=all_cfgs_df, x=c, hue=\\\"member of interest\\\", multiple=\\\"dodge\\\")\\n#         plt.show()\";\n",
       "                var nbb_formatted_code = \"# # this can help see where the config lies in the overall distribution\\n# import pandas as pd\\n\\n# all_cfgs_df = pd.DataFrame(\\n#     [{**c[\\\"nml_allcfgs\\\"], \\\"id\\\": c[\\\"paraset_id\\\"]} for c in prob_dist[\\\"configurations\\\"]]\\n# )\\n# all_cfgs_df[\\\"member of interest\\\"] = all_cfgs_df[\\\"id\\\"] == ENSEMBLE_MEMBER\\n# all_cfgs_df = all_cfgs_df.set_index(\\\"id\\\")\\n# # print(all_cfgs_df[\\\"CORE_CLIMATESENSITIVITY\\\"].idxmin())\\n\\n# import seaborn as sns\\n\\n# for c in all_cfgs_df:\\n#     em_val = all_cfgs_df[c].loc[ENSEMBLE_MEMBER]\\n#     if isinstance(em_val, (str, list, bool, np.bool_)):\\n#         continue\\n\\n#     perc_99 = all_cfgs_df[c].quantile(0.99)\\n#     perc_1 = all_cfgs_df[c].quantile(0.01)\\n\\n#     if (em_val < perc_1) or (em_val > perc_99):\\n#         print(c)\\n#         sns.displot(data=all_cfgs_df, x=c, hue=\\\"member of interest\\\", multiple=\\\"dodge\\\")\\n#         plt.show()\";\n",
       "                var nbb_cells = Jupyter.notebook.get_cells();\n",
       "                for (var i = 0; i < nbb_cells.length; ++i) {\n",
       "                    if (nbb_cells[i].input_prompt_number == nbb_cell_id) {\n",
       "                        if (nbb_cells[i].get_text() == nbb_unformatted_code) {\n",
       "                             nbb_cells[i].set_text(nbb_formatted_code);\n",
       "                        }\n",
       "                        break;\n",
       "                    }\n",
       "                }\n",
       "            }, 500);\n",
       "            "
      ],
      "text/plain": [
       "<IPython.core.display.Javascript object>"
      ]
     },
     "metadata": {},
     "output_type": "display_data"
    }
   ],
   "source": [
    "# # this can help see where the config lies in the overall distribution\n",
    "# import pandas as pd\n",
    "\n",
    "# all_cfgs_df = pd.DataFrame(\n",
    "#     [{**c[\"nml_allcfgs\"], \"id\": c[\"paraset_id\"]} for c in prob_dist[\"configurations\"]]\n",
    "# )\n",
    "# all_cfgs_df[\"member of interest\"] = all_cfgs_df[\"id\"] == ENSEMBLE_MEMBER\n",
    "# all_cfgs_df = all_cfgs_df.set_index(\"id\")\n",
    "# # print(all_cfgs_df[\"CORE_CLIMATESENSITIVITY\"].idxmin())\n",
    "\n",
    "# import seaborn as sns\n",
    "\n",
    "# for c in all_cfgs_df:\n",
    "#     em_val = all_cfgs_df[c].loc[ENSEMBLE_MEMBER]\n",
    "#     if isinstance(em_val, (str, list, bool, np.bool_)):\n",
    "#         continue\n",
    "\n",
    "#     perc_99 = all_cfgs_df[c].quantile(0.99)\n",
    "#     perc_1 = all_cfgs_df[c].quantile(0.01)\n",
    "\n",
    "#     if (em_val < perc_1) or (em_val > perc_99):\n",
    "#         print(c)\n",
    "#         sns.displot(data=all_cfgs_df, x=c, hue=\"member of interest\", multiple=\"dodge\")\n",
    "#         plt.show()"
   ]
  },
  {
   "cell_type": "markdown",
   "id": "3a676339",
   "metadata": {},
   "source": [
    "## Common configs\n",
    "\n",
    "Configuration to apply to all runs"
   ]
  },
  {
   "cell_type": "code",
   "execution_count": 10,
   "id": "33c9b5aa",
   "metadata": {},
   "outputs": [
    {
     "data": {
      "text/plain": [
       "{'startyear': 1750,\n",
       " 'endyear': 2500,\n",
       " 'out_dynamic_vars': ['DAT_SURFACE_TEMP', 'DAT_TOTAL_INCLVOLCANIC_RF'],\n",
       " 'out_ascii_binary': 'BINARY',\n",
       " 'out_binary_format': 2}"
      ]
     },
     "execution_count": 10,
     "metadata": {},
     "output_type": "execute_result"
    },
    {
     "data": {
      "application/javascript": [
       "\n",
       "            setTimeout(function() {\n",
       "                var nbb_cell_id = 10;\n",
       "                var nbb_unformatted_code = \"common_cfgs = {\\n    \\\"startyear\\\": 1750,\\n    \\\"endyear\\\": 2500,\\n    \\\"out_dynamic_vars\\\": [  ### determines which variables are outputted (could also set in MAGCFG_DEFAUKTAKK.CFG OUT-TEMPERATURE=1 instead)\\n        \\\"DAT_SURFACE_TEMP\\\",\\n        \\\"DAT_TOTAL_INCLVOLCANIC_RF\\\",\\n    ],\\n    \\\"out_ascii_binary\\\": \\\"BINARY\\\",\\n    \\\"out_binary_format\\\": 2,\\n}\\ncommon_cfgs\";\n",
       "                var nbb_formatted_code = \"common_cfgs = {\\n    \\\"startyear\\\": 1750,\\n    \\\"endyear\\\": 2500,\\n    \\\"out_dynamic_vars\\\": [  ### determines which variables are outputted (could also set in MAGCFG_DEFAUKTAKK.CFG OUT-TEMPERATURE=1 instead)\\n        \\\"DAT_SURFACE_TEMP\\\",\\n        \\\"DAT_TOTAL_INCLVOLCANIC_RF\\\",\\n    ],\\n    \\\"out_ascii_binary\\\": \\\"BINARY\\\",\\n    \\\"out_binary_format\\\": 2,\\n}\\ncommon_cfgs\";\n",
       "                var nbb_cells = Jupyter.notebook.get_cells();\n",
       "                for (var i = 0; i < nbb_cells.length; ++i) {\n",
       "                    if (nbb_cells[i].input_prompt_number == nbb_cell_id) {\n",
       "                        if (nbb_cells[i].get_text() == nbb_unformatted_code) {\n",
       "                             nbb_cells[i].set_text(nbb_formatted_code);\n",
       "                        }\n",
       "                        break;\n",
       "                    }\n",
       "                }\n",
       "            }, 500);\n",
       "            "
      ],
      "text/plain": [
       "<IPython.core.display.Javascript object>"
      ]
     },
     "metadata": {},
     "output_type": "display_data"
    }
   ],
   "source": [
    "common_cfgs = {\n",
    "    \"startyear\": 1750,\n",
    "    \"endyear\": 2500,\n",
    "    \"out_dynamic_vars\": [  ### determines which variables are outputted (could also set in MAGCFG_DEFAUKTAKK.CFG OUT-TEMPERATURE=1 instead)\n",
    "        \"DAT_SURFACE_TEMP\",\n",
    "        \"DAT_TOTAL_INCLVOLCANIC_RF\",\n",
    "    ],\n",
    "    \"out_ascii_binary\": \"BINARY\",\n",
    "    \"out_binary_format\": 2,\n",
    "}\n",
    "common_cfgs"
   ]
  },
  {
   "cell_type": "code",
   "execution_count": 11,
   "id": "f812708a",
   "metadata": {},
   "outputs": [
    {
     "data": {
      "application/javascript": [
       "\n",
       "            setTimeout(function() {\n",
       "                var nbb_cell_id = 11;\n",
       "                var nbb_unformatted_code = \"# sets scaling of solar effective radiative forcing\\n# Zeb: This was a hack to see if it made our lives easier by getting rid of the oscillations.\\noverrides = {\\n    \\\"RF_SOLAR_SCALE\\\".lower(): 0,\\n}\";\n",
       "                var nbb_formatted_code = \"# sets scaling of solar effective radiative forcing\\n# Zeb: This was a hack to see if it made our lives easier by getting rid of the oscillations.\\noverrides = {\\n    \\\"RF_SOLAR_SCALE\\\".lower(): 0,\\n}\";\n",
       "                var nbb_cells = Jupyter.notebook.get_cells();\n",
       "                for (var i = 0; i < nbb_cells.length; ++i) {\n",
       "                    if (nbb_cells[i].input_prompt_number == nbb_cell_id) {\n",
       "                        if (nbb_cells[i].get_text() == nbb_unformatted_code) {\n",
       "                             nbb_cells[i].set_text(nbb_formatted_code);\n",
       "                        }\n",
       "                        break;\n",
       "                    }\n",
       "                }\n",
       "            }, 500);\n",
       "            "
      ],
      "text/plain": [
       "<IPython.core.display.Javascript object>"
      ]
     },
     "metadata": {},
     "output_type": "display_data"
    }
   ],
   "source": [
    "# sets scaling of solar effective radiative forcing\n",
    "# Zeb: This was a hack to see if it made our lives easier by getting rid of the oscillations.\n",
    "overrides = {\n",
    "    \"RF_SOLAR_SCALE\".lower(): 0,\n",
    "}"
   ]
  },
  {
   "cell_type": "code",
   "execution_count": 12,
   "id": "e03fe39e",
   "metadata": {},
   "outputs": [
    {
     "data": {
      "text/plain": [
       "['Surface Temperature', 'Effective Radiative Forcing']"
      ]
     },
     "execution_count": 12,
     "metadata": {},
     "output_type": "execute_result"
    },
    {
     "data": {
      "application/javascript": [
       "\n",
       "            setTimeout(function() {\n",
       "                var nbb_cell_id = 12;\n",
       "                var nbb_unformatted_code = \"openscm_runner_output_names = [\\n    \\\"Surface Temperature\\\",\\n    \\\"Effective Radiative Forcing\\\",\\n]\\nopenscm_runner_output_names\";\n",
       "                var nbb_formatted_code = \"openscm_runner_output_names = [\\n    \\\"Surface Temperature\\\",\\n    \\\"Effective Radiative Forcing\\\",\\n]\\nopenscm_runner_output_names\";\n",
       "                var nbb_cells = Jupyter.notebook.get_cells();\n",
       "                for (var i = 0; i < nbb_cells.length; ++i) {\n",
       "                    if (nbb_cells[i].input_prompt_number == nbb_cell_id) {\n",
       "                        if (nbb_cells[i].get_text() == nbb_unformatted_code) {\n",
       "                             nbb_cells[i].set_text(nbb_formatted_code);\n",
       "                        }\n",
       "                        break;\n",
       "                    }\n",
       "                }\n",
       "            }, 500);\n",
       "            "
      ],
      "text/plain": [
       "<IPython.core.display.Javascript object>"
      ]
     },
     "metadata": {},
     "output_type": "display_data"
    }
   ],
   "source": [
    "openscm_runner_output_names = [\n",
    "    \"Surface Temperature\",\n",
    "    \"Effective Radiative Forcing\",\n",
    "]\n",
    "openscm_runner_output_names"
   ]
  },
  {
   "cell_type": "markdown",
   "id": "1a5b674e",
   "metadata": {},
   "source": [
    "## First run config\n",
    "\n",
    "Configs for our first run. We just use a common scenario to get ourselves in the right ballpark."
   ]
  },
  {
   "cell_type": "code",
   "execution_count": 13,
   "id": "27889299",
   "metadata": {},
   "outputs": [
    {
     "data": {
      "application/javascript": [
       "\n",
       "            setTimeout(function() {\n",
       "                var nbb_cell_id = 13;\n",
       "                var nbb_unformatted_code = \"# cfg_to_run are the ensemble specific parameters\\nfirst_run_config = {**common_cfgs, **cfg_to_run}\\n# first_run_config\";\n",
       "                var nbb_formatted_code = \"# cfg_to_run are the ensemble specific parameters\\nfirst_run_config = {**common_cfgs, **cfg_to_run}\\n# first_run_config\";\n",
       "                var nbb_cells = Jupyter.notebook.get_cells();\n",
       "                for (var i = 0; i < nbb_cells.length; ++i) {\n",
       "                    if (nbb_cells[i].input_prompt_number == nbb_cell_id) {\n",
       "                        if (nbb_cells[i].get_text() == nbb_unformatted_code) {\n",
       "                             nbb_cells[i].set_text(nbb_formatted_code);\n",
       "                        }\n",
       "                        break;\n",
       "                    }\n",
       "                }\n",
       "            }, 500);\n",
       "            "
      ],
      "text/plain": [
       "<IPython.core.display.Javascript object>"
      ]
     },
     "metadata": {},
     "output_type": "display_data"
    }
   ],
   "source": [
    "# cfg_to_run are the ensemble specific parameters\n",
    "first_run_config = {**common_cfgs, **cfg_to_run}\n",
    "# first_run_config"
   ]
  },
  {
   "cell_type": "markdown",
   "id": "655debeb",
   "metadata": {},
   "source": [
    "Scenario config too (use SSP245 to determine the 1.5°C-trajectory because it's closest to the WG3 NDC-like pathways)"
   ]
  },
  {
   "cell_type": "code",
   "execution_count": 14,
   "id": "f8d1d4fe",
   "metadata": {
    "scrolled": true
   },
   "outputs": [
    {
     "data": {
      "application/javascript": [
       "\n",
       "            setTimeout(function() {\n",
       "                var nbb_cell_id = 14;\n",
       "                var nbb_unformatted_code = \"scenario = \\\"ssp245\\\"\\n\\nscenario_emissions = pymagicc.io.MAGICCData(\\n    os.path.join(\\n        openscm_runner.adapters.MAGICC7._run_dir(),\\n        \\\"rcmip\\\",\\n        f\\\"{scenario.upper()}_EMMS.SCEN7\\\",\\n    )\\n)\\nscenario_emissions[\\\"variable\\\"] = scenario_emissions[\\\"variable\\\"].apply(\\n    lambda x: x.replace(\\\"NMVOC\\\", \\\"VOC\\\")\\n)\\nscenario_emissions[\\\"unit\\\"] = scenario_emissions[\\\"unit\\\"].apply(\\n    lambda x: x.replace(\\\"NMVOC\\\", \\\"VOC\\\")\\n)\";\n",
       "                var nbb_formatted_code = \"scenario = \\\"ssp245\\\"\\n\\nscenario_emissions = pymagicc.io.MAGICCData(\\n    os.path.join(\\n        openscm_runner.adapters.MAGICC7._run_dir(),\\n        \\\"rcmip\\\",\\n        f\\\"{scenario.upper()}_EMMS.SCEN7\\\",\\n    )\\n)\\nscenario_emissions[\\\"variable\\\"] = scenario_emissions[\\\"variable\\\"].apply(\\n    lambda x: x.replace(\\\"NMVOC\\\", \\\"VOC\\\")\\n)\\nscenario_emissions[\\\"unit\\\"] = scenario_emissions[\\\"unit\\\"].apply(\\n    lambda x: x.replace(\\\"NMVOC\\\", \\\"VOC\\\")\\n)\";\n",
       "                var nbb_cells = Jupyter.notebook.get_cells();\n",
       "                for (var i = 0; i < nbb_cells.length; ++i) {\n",
       "                    if (nbb_cells[i].input_prompt_number == nbb_cell_id) {\n",
       "                        if (nbb_cells[i].get_text() == nbb_unformatted_code) {\n",
       "                             nbb_cells[i].set_text(nbb_formatted_code);\n",
       "                        }\n",
       "                        break;\n",
       "                    }\n",
       "                }\n",
       "            }, 500);\n",
       "            "
      ],
      "text/plain": [
       "<IPython.core.display.Javascript object>"
      ]
     },
     "metadata": {},
     "output_type": "display_data"
    }
   ],
   "source": [
    "scenario = \"ssp245\"\n",
    "\n",
    "scenario_emissions = pymagicc.io.MAGICCData(\n",
    "    os.path.join(\n",
    "        openscm_runner.adapters.MAGICC7._run_dir(),\n",
    "        \"rcmip\",\n",
    "        f\"{scenario.upper()}_EMMS.SCEN7\",\n",
    "    )\n",
    ")\n",
    "scenario_emissions[\"variable\"] = scenario_emissions[\"variable\"].apply(\n",
    "    lambda x: x.replace(\"NMVOC\", \"VOC\")\n",
    ")\n",
    "scenario_emissions[\"unit\"] = scenario_emissions[\"unit\"].apply(\n",
    "    lambda x: x.replace(\"NMVOC\", \"VOC\")\n",
    ")"
   ]
  },
  {
   "cell_type": "code",
   "execution_count": 15,
   "id": "c2b36f72",
   "metadata": {},
   "outputs": [
    {
     "data": {
      "application/vnd.jupyter.widget-view+json": {
       "model_id": "55dc745775d944ce868cb6ac0c5aff25",
       "version_major": 2,
       "version_minor": 0
      },
      "text/plain": [
       "Climate models:   0%|          | 0.00/1.00 [00:00<?, ?it/s]"
      ]
     },
     "metadata": {},
     "output_type": "display_data"
    },
    {
     "name": "stderr",
     "output_type": "stream",
     "text": [
      "Historical data has not been checked\n"
     ]
    },
    {
     "data": {
      "application/vnd.jupyter.widget-view+json": {
       "model_id": "7e792ff19d7845fd88e40f182301cf7b",
       "version_major": 2,
       "version_minor": 0
      },
      "text/plain": [
       "Writing SCEN7 files:   0%|          | 0.00/1.00 [00:00<?, ?it/s]"
      ]
     },
     "metadata": {},
     "output_type": "display_data"
    },
    {
     "data": {
      "application/vnd.jupyter.widget-view+json": {
       "model_id": "908af0dc3df341b5ae7759331a36cc2f",
       "version_major": 2,
       "version_minor": 0
      },
      "text/plain": [
       "Front serial:   0%|          | 0.00/1.00 [00:00<?, ?it/s]"
      ]
     },
     "metadata": {},
     "output_type": "display_data"
    },
    {
     "data": {
      "application/vnd.jupyter.widget-view+json": {
       "model_id": "8bd9c82831f94d5f9d1463dfac64488d",
       "version_major": 2,
       "version_minor": 0
      },
      "text/plain": [
       "Front parallel: 0.00it [00:00, ?it/s]"
      ]
     },
     "metadata": {},
     "output_type": "display_data"
    },
    {
     "data": {
      "application/vnd.jupyter.widget-view+json": {
       "model_id": "226d85d87b5d408f9c46624f10514bbf",
       "version_major": 2,
       "version_minor": 0
      },
      "text/plain": [
       "Parallel runs: 0.00it [00:00, ?it/s]"
      ]
     },
     "metadata": {},
     "output_type": "display_data"
    },
    {
     "data": {
      "application/javascript": [
       "\n",
       "            setTimeout(function() {\n",
       "                var nbb_cell_id = 15;\n",
       "                var nbb_unformatted_code = \"## concat all configs together\\nfirst_run_config = {\\n    **first_run_config,\\n    **overrides,\\n    \\\"RUNNAME\\\": scenario,\\n}\\nrun_config = [first_run_config]\\nout_config = {\\\"MAGICC7\\\": (\\\"RUNNAME\\\",)}\\n\\nres_raw_first_run = openscm_runner.run(  # writes SCEN7-file to /run-directory\\n    {\\\"MAGICC7\\\": run_config},\\n    scenario_emissions,\\n    output_variables=openscm_runner_output_names,\\n    out_config=out_config,\\n)\\nres_raw_first_run[\\\"iteration\\\"] = 0\";\n",
       "                var nbb_formatted_code = \"## concat all configs together\\nfirst_run_config = {\\n    **first_run_config,\\n    **overrides,\\n    \\\"RUNNAME\\\": scenario,\\n}\\nrun_config = [first_run_config]\\nout_config = {\\\"MAGICC7\\\": (\\\"RUNNAME\\\",)}\\n\\nres_raw_first_run = openscm_runner.run(  # writes SCEN7-file to /run-directory\\n    {\\\"MAGICC7\\\": run_config},\\n    scenario_emissions,\\n    output_variables=openscm_runner_output_names,\\n    out_config=out_config,\\n)\\nres_raw_first_run[\\\"iteration\\\"] = 0\";\n",
       "                var nbb_cells = Jupyter.notebook.get_cells();\n",
       "                for (var i = 0; i < nbb_cells.length; ++i) {\n",
       "                    if (nbb_cells[i].input_prompt_number == nbb_cell_id) {\n",
       "                        if (nbb_cells[i].get_text() == nbb_unformatted_code) {\n",
       "                             nbb_cells[i].set_text(nbb_formatted_code);\n",
       "                        }\n",
       "                        break;\n",
       "                    }\n",
       "                }\n",
       "            }, 500);\n",
       "            "
      ],
      "text/plain": [
       "<IPython.core.display.Javascript object>"
      ]
     },
     "metadata": {},
     "output_type": "display_data"
    }
   ],
   "source": [
    "## concat all configs together\n",
    "first_run_config = {\n",
    "    **first_run_config,\n",
    "    **overrides,\n",
    "    \"RUNNAME\": scenario,\n",
    "}\n",
    "run_config = [first_run_config]\n",
    "out_config = {\"MAGICC7\": (\"RUNNAME\",)}\n",
    "\n",
    "res_raw_first_run = openscm_runner.run(  # writes SCEN7-file to /run-directory\n",
    "    {\"MAGICC7\": run_config},\n",
    "    scenario_emissions,\n",
    "    output_variables=openscm_runner_output_names,\n",
    "    out_config=out_config,\n",
    ")\n",
    "res_raw_first_run[\"iteration\"] = 0"
   ]
  },
  {
   "cell_type": "code",
   "execution_count": 16,
   "id": "d7bc8ea9",
   "metadata": {},
   "outputs": [
    {
     "data": {
      "text/html": [
       "<div>\n",
       "<style scoped>\n",
       "    .dataframe tbody tr th:only-of-type {\n",
       "        vertical-align: middle;\n",
       "    }\n",
       "\n",
       "    .dataframe tbody tr th {\n",
       "        vertical-align: top;\n",
       "    }\n",
       "\n",
       "    .dataframe thead th {\n",
       "        text-align: right;\n",
       "    }\n",
       "</style>\n",
       "<table border=\"1\" class=\"dataframe\">\n",
       "  <thead>\n",
       "    <tr style=\"text-align: right;\">\n",
       "      <th></th>\n",
       "      <th></th>\n",
       "      <th></th>\n",
       "      <th></th>\n",
       "      <th></th>\n",
       "      <th></th>\n",
       "      <th></th>\n",
       "      <th></th>\n",
       "      <th>time</th>\n",
       "      <th>1750</th>\n",
       "      <th>1751</th>\n",
       "      <th>1752</th>\n",
       "      <th>1753</th>\n",
       "      <th>1754</th>\n",
       "      <th>1755</th>\n",
       "      <th>1756</th>\n",
       "      <th>1757</th>\n",
       "      <th>1758</th>\n",
       "      <th>1759</th>\n",
       "      <th>...</th>\n",
       "      <th>2491</th>\n",
       "      <th>2492</th>\n",
       "      <th>2493</th>\n",
       "      <th>2494</th>\n",
       "      <th>2495</th>\n",
       "      <th>2496</th>\n",
       "      <th>2497</th>\n",
       "      <th>2498</th>\n",
       "      <th>2499</th>\n",
       "      <th>2500</th>\n",
       "    </tr>\n",
       "    <tr>\n",
       "      <th>RUNNAME</th>\n",
       "      <th>climate_model</th>\n",
       "      <th>iteration</th>\n",
       "      <th>model</th>\n",
       "      <th>region</th>\n",
       "      <th>run_id</th>\n",
       "      <th>scenario</th>\n",
       "      <th>unit</th>\n",
       "      <th>variable</th>\n",
       "      <th></th>\n",
       "      <th></th>\n",
       "      <th></th>\n",
       "      <th></th>\n",
       "      <th></th>\n",
       "      <th></th>\n",
       "      <th></th>\n",
       "      <th></th>\n",
       "      <th></th>\n",
       "      <th></th>\n",
       "      <th></th>\n",
       "      <th></th>\n",
       "      <th></th>\n",
       "      <th></th>\n",
       "      <th></th>\n",
       "      <th></th>\n",
       "      <th></th>\n",
       "      <th></th>\n",
       "      <th></th>\n",
       "      <th></th>\n",
       "      <th></th>\n",
       "    </tr>\n",
       "  </thead>\n",
       "  <tbody>\n",
       "    <tr>\n",
       "      <th rowspan=\"2\" valign=\"top\">ssp245</th>\n",
       "      <th rowspan=\"2\" valign=\"top\">MAGICCv7.5.3</th>\n",
       "      <th rowspan=\"2\" valign=\"top\">0</th>\n",
       "      <th rowspan=\"2\" valign=\"top\">unspecified</th>\n",
       "      <th rowspan=\"2\" valign=\"top\">World</th>\n",
       "      <th rowspan=\"2\" valign=\"top\">0</th>\n",
       "      <th rowspan=\"2\" valign=\"top\">unspecified</th>\n",
       "      <th>K</th>\n",
       "      <th>Surface Air Temperature Change</th>\n",
       "      <td>0.0</td>\n",
       "      <td>0.021043</td>\n",
       "      <td>0.030870</td>\n",
       "      <td>0.036407</td>\n",
       "      <td>0.038264</td>\n",
       "      <td>0.039579</td>\n",
       "      <td>0.035514</td>\n",
       "      <td>0.021288</td>\n",
       "      <td>0.024249</td>\n",
       "      <td>0.032423</td>\n",
       "      <td>...</td>\n",
       "      <td>3.462824</td>\n",
       "      <td>3.462455</td>\n",
       "      <td>3.462084</td>\n",
       "      <td>3.461713</td>\n",
       "      <td>3.461341</td>\n",
       "      <td>3.460968</td>\n",
       "      <td>3.460594</td>\n",
       "      <td>3.460219</td>\n",
       "      <td>3.459844</td>\n",
       "      <td>3.459468</td>\n",
       "    </tr>\n",
       "    <tr>\n",
       "      <th>W/m^2</th>\n",
       "      <th>Effective Radiative Forcing</th>\n",
       "      <td>0.0</td>\n",
       "      <td>0.100231</td>\n",
       "      <td>0.108626</td>\n",
       "      <td>0.105016</td>\n",
       "      <td>0.089092</td>\n",
       "      <td>0.034038</td>\n",
       "      <td>0.013630</td>\n",
       "      <td>0.057298</td>\n",
       "      <td>0.086908</td>\n",
       "      <td>0.100721</td>\n",
       "      <td>...</td>\n",
       "      <td>4.075748</td>\n",
       "      <td>4.074326</td>\n",
       "      <td>4.072908</td>\n",
       "      <td>4.071492</td>\n",
       "      <td>4.070079</td>\n",
       "      <td>4.068669</td>\n",
       "      <td>4.067262</td>\n",
       "      <td>4.065858</td>\n",
       "      <td>4.064457</td>\n",
       "      <td>4.063058</td>\n",
       "    </tr>\n",
       "  </tbody>\n",
       "</table>\n",
       "<p>2 rows × 751 columns</p>\n",
       "</div>"
      ],
      "text/plain": [
       "time                                                                                                        1750  \\\n",
       "RUNNAME climate_model iteration model       region run_id scenario    unit  variable                               \n",
       "ssp245  MAGICCv7.5.3  0         unspecified World  0      unspecified K     Surface Air Temperature Change   0.0   \n",
       "                                                                      W/m^2 Effective Radiative Forcing      0.0   \n",
       "\n",
       "time                                                                                                            1751  \\\n",
       "RUNNAME climate_model iteration model       region run_id scenario    unit  variable                                   \n",
       "ssp245  MAGICCv7.5.3  0         unspecified World  0      unspecified K     Surface Air Temperature Change  0.021043   \n",
       "                                                                      W/m^2 Effective Radiative Forcing     0.100231   \n",
       "\n",
       "time                                                                                                            1752  \\\n",
       "RUNNAME climate_model iteration model       region run_id scenario    unit  variable                                   \n",
       "ssp245  MAGICCv7.5.3  0         unspecified World  0      unspecified K     Surface Air Temperature Change  0.030870   \n",
       "                                                                      W/m^2 Effective Radiative Forcing     0.108626   \n",
       "\n",
       "time                                                                                                            1753  \\\n",
       "RUNNAME climate_model iteration model       region run_id scenario    unit  variable                                   \n",
       "ssp245  MAGICCv7.5.3  0         unspecified World  0      unspecified K     Surface Air Temperature Change  0.036407   \n",
       "                                                                      W/m^2 Effective Radiative Forcing     0.105016   \n",
       "\n",
       "time                                                                                                            1754  \\\n",
       "RUNNAME climate_model iteration model       region run_id scenario    unit  variable                                   \n",
       "ssp245  MAGICCv7.5.3  0         unspecified World  0      unspecified K     Surface Air Temperature Change  0.038264   \n",
       "                                                                      W/m^2 Effective Radiative Forcing     0.089092   \n",
       "\n",
       "time                                                                                                            1755  \\\n",
       "RUNNAME climate_model iteration model       region run_id scenario    unit  variable                                   \n",
       "ssp245  MAGICCv7.5.3  0         unspecified World  0      unspecified K     Surface Air Temperature Change  0.039579   \n",
       "                                                                      W/m^2 Effective Radiative Forcing     0.034038   \n",
       "\n",
       "time                                                                                                            1756  \\\n",
       "RUNNAME climate_model iteration model       region run_id scenario    unit  variable                                   \n",
       "ssp245  MAGICCv7.5.3  0         unspecified World  0      unspecified K     Surface Air Temperature Change  0.035514   \n",
       "                                                                      W/m^2 Effective Radiative Forcing     0.013630   \n",
       "\n",
       "time                                                                                                            1757  \\\n",
       "RUNNAME climate_model iteration model       region run_id scenario    unit  variable                                   \n",
       "ssp245  MAGICCv7.5.3  0         unspecified World  0      unspecified K     Surface Air Temperature Change  0.021288   \n",
       "                                                                      W/m^2 Effective Radiative Forcing     0.057298   \n",
       "\n",
       "time                                                                                                            1758  \\\n",
       "RUNNAME climate_model iteration model       region run_id scenario    unit  variable                                   \n",
       "ssp245  MAGICCv7.5.3  0         unspecified World  0      unspecified K     Surface Air Temperature Change  0.024249   \n",
       "                                                                      W/m^2 Effective Radiative Forcing     0.086908   \n",
       "\n",
       "time                                                                                                            1759  \\\n",
       "RUNNAME climate_model iteration model       region run_id scenario    unit  variable                                   \n",
       "ssp245  MAGICCv7.5.3  0         unspecified World  0      unspecified K     Surface Air Temperature Change  0.032423   \n",
       "                                                                      W/m^2 Effective Radiative Forcing     0.100721   \n",
       "\n",
       "time                                                                                                        ...  \\\n",
       "RUNNAME climate_model iteration model       region run_id scenario    unit  variable                        ...   \n",
       "ssp245  MAGICCv7.5.3  0         unspecified World  0      unspecified K     Surface Air Temperature Change  ...   \n",
       "                                                                      W/m^2 Effective Radiative Forcing     ...   \n",
       "\n",
       "time                                                                                                            2491  \\\n",
       "RUNNAME climate_model iteration model       region run_id scenario    unit  variable                                   \n",
       "ssp245  MAGICCv7.5.3  0         unspecified World  0      unspecified K     Surface Air Temperature Change  3.462824   \n",
       "                                                                      W/m^2 Effective Radiative Forcing     4.075748   \n",
       "\n",
       "time                                                                                                            2492  \\\n",
       "RUNNAME climate_model iteration model       region run_id scenario    unit  variable                                   \n",
       "ssp245  MAGICCv7.5.3  0         unspecified World  0      unspecified K     Surface Air Temperature Change  3.462455   \n",
       "                                                                      W/m^2 Effective Radiative Forcing     4.074326   \n",
       "\n",
       "time                                                                                                            2493  \\\n",
       "RUNNAME climate_model iteration model       region run_id scenario    unit  variable                                   \n",
       "ssp245  MAGICCv7.5.3  0         unspecified World  0      unspecified K     Surface Air Temperature Change  3.462084   \n",
       "                                                                      W/m^2 Effective Radiative Forcing     4.072908   \n",
       "\n",
       "time                                                                                                            2494  \\\n",
       "RUNNAME climate_model iteration model       region run_id scenario    unit  variable                                   \n",
       "ssp245  MAGICCv7.5.3  0         unspecified World  0      unspecified K     Surface Air Temperature Change  3.461713   \n",
       "                                                                      W/m^2 Effective Radiative Forcing     4.071492   \n",
       "\n",
       "time                                                                                                            2495  \\\n",
       "RUNNAME climate_model iteration model       region run_id scenario    unit  variable                                   \n",
       "ssp245  MAGICCv7.5.3  0         unspecified World  0      unspecified K     Surface Air Temperature Change  3.461341   \n",
       "                                                                      W/m^2 Effective Radiative Forcing     4.070079   \n",
       "\n",
       "time                                                                                                            2496  \\\n",
       "RUNNAME climate_model iteration model       region run_id scenario    unit  variable                                   \n",
       "ssp245  MAGICCv7.5.3  0         unspecified World  0      unspecified K     Surface Air Temperature Change  3.460968   \n",
       "                                                                      W/m^2 Effective Radiative Forcing     4.068669   \n",
       "\n",
       "time                                                                                                            2497  \\\n",
       "RUNNAME climate_model iteration model       region run_id scenario    unit  variable                                   \n",
       "ssp245  MAGICCv7.5.3  0         unspecified World  0      unspecified K     Surface Air Temperature Change  3.460594   \n",
       "                                                                      W/m^2 Effective Radiative Forcing     4.067262   \n",
       "\n",
       "time                                                                                                            2498  \\\n",
       "RUNNAME climate_model iteration model       region run_id scenario    unit  variable                                   \n",
       "ssp245  MAGICCv7.5.3  0         unspecified World  0      unspecified K     Surface Air Temperature Change  3.460219   \n",
       "                                                                      W/m^2 Effective Radiative Forcing     4.065858   \n",
       "\n",
       "time                                                                                                            2499  \\\n",
       "RUNNAME climate_model iteration model       region run_id scenario    unit  variable                                   \n",
       "ssp245  MAGICCv7.5.3  0         unspecified World  0      unspecified K     Surface Air Temperature Change  3.459844   \n",
       "                                                                      W/m^2 Effective Radiative Forcing     4.064457   \n",
       "\n",
       "time                                                                                                            2500  \n",
       "RUNNAME climate_model iteration model       region run_id scenario    unit  variable                                  \n",
       "ssp245  MAGICCv7.5.3  0         unspecified World  0      unspecified K     Surface Air Temperature Change  3.459468  \n",
       "                                                                      W/m^2 Effective Radiative Forcing     4.063058  \n",
       "\n",
       "[2 rows x 751 columns]"
      ]
     },
     "execution_count": 16,
     "metadata": {},
     "output_type": "execute_result"
    },
    {
     "data": {
      "application/javascript": [
       "\n",
       "            setTimeout(function() {\n",
       "                var nbb_cell_id = 16;\n",
       "                var nbb_unformatted_code = \"res_raw_first_run.filter(region=\\\"World\\\").timeseries(time_axis=\\\"year\\\")\";\n",
       "                var nbb_formatted_code = \"res_raw_first_run.filter(region=\\\"World\\\").timeseries(time_axis=\\\"year\\\")\";\n",
       "                var nbb_cells = Jupyter.notebook.get_cells();\n",
       "                for (var i = 0; i < nbb_cells.length; ++i) {\n",
       "                    if (nbb_cells[i].input_prompt_number == nbb_cell_id) {\n",
       "                        if (nbb_cells[i].get_text() == nbb_unformatted_code) {\n",
       "                             nbb_cells[i].set_text(nbb_formatted_code);\n",
       "                        }\n",
       "                        break;\n",
       "                    }\n",
       "                }\n",
       "            }, 500);\n",
       "            "
      ],
      "text/plain": [
       "<IPython.core.display.Javascript object>"
      ]
     },
     "metadata": {},
     "output_type": "display_data"
    }
   ],
   "source": [
    "res_raw_first_run.filter(region=\"World\").timeseries(time_axis=\"year\")"
   ]
  },
  {
   "cell_type": "code",
   "execution_count": 17,
   "id": "68908d91",
   "metadata": {},
   "outputs": [
    {
     "data": {
      "application/javascript": [
       "\n",
       "            setTimeout(function() {\n",
       "                var nbb_cell_id = 17;\n",
       "                var nbb_unformatted_code = \"def plot_res(\\n    srun,  # T and RF output\\n    axes_vars,  # subplots\\n    palette=None,\\n    background_lines=\\\"tab:grey\\\",\\n    target_temperature=None,\\n    target_colour=\\\"tab:green\\\",\\n):\\n    if palette is None:\\n        palette = {\\n            \\\"Surface Air Temperature Change\\\": \\\"tab:red\\\",\\n            \\\"Effective Radiative Forcing\\\": \\\"tab:blue\\\",\\n        }\\n\\n    time_axis = srun.timeseries(\\n        time_axis=\\\"year\\\"\\n    ).columns.tolist()  # simple list with years 1700, 1701...2500\\n    max_iteration = max(srun.get_unique_meta(\\\"iteration\\\"))\\n\\n    for ax, vfilter in axes_vars:\\n        ax.clear()\\n        vdf = srun.filter(\\n            variable=vfilter\\n        )  # filter for the single variables (T and RF)\\n        for vvdf in vdf.groupby(\\\"variable\\\"):\\n            variable = vvdf.get_unique_meta(\\\"variable\\\", True)\\n            for subset, colour, zorder, linewidth in [\\n                (\\n                    vvdf.filter(\\n                        iteration=max_iteration\\n                    ),  #### =subset - WHAT DOES THIS FILTER?\\n                    palette[variable],  ### colour\\n                    4,\\n                    3,\\n                ),\\n                (\\n                    vvdf.filter(\\n                        iteration=max_iteration, keep=False, log_if_empty=False\\n                    ),\\n                    background_lines,\\n                    2,\\n                    1,\\n                ),\\n            ]:\\n                if subset.empty:  ## checks if subset is empty? But subset is not empty\\n                    # subset can be empty if we are plotting the first run and there are\\n                    # no 'background' lines to plot\\n                    print(\\n                        f\\\"subset for variable {variable} to be plotted with colour {colour} is empty\\\"\\n                    )\\n                    continue\\n\\n                ax.plot(\\n                    time_axis,  # simple list with years 1700, 1701...2500\\n                    subset.values.T.squeeze(),  # only get the data values\\n                    color=colour,\\n                    zorder=zorder,\\n                    linewidth=linewidth,\\n                    alpha=0.7,\\n                )\\n\\n        if target_temperature is not None:\\n            ttfilt = target_temperature.filter(variable=vfilter, log_if_empty=False)\\n            if not ttfilt.empty:\\n                ax.plot(\\n                    time_axis,\\n                    ttfilt.values.squeeze(),\\n                    color=target_colour,\\n                )\\n\\n    return [a for a in axes_vars]\";\n",
       "                var nbb_formatted_code = \"def plot_res(\\n    srun,  # T and RF output\\n    axes_vars,  # subplots\\n    palette=None,\\n    background_lines=\\\"tab:grey\\\",\\n    target_temperature=None,\\n    target_colour=\\\"tab:green\\\",\\n):\\n    if palette is None:\\n        palette = {\\n            \\\"Surface Air Temperature Change\\\": \\\"tab:red\\\",\\n            \\\"Effective Radiative Forcing\\\": \\\"tab:blue\\\",\\n        }\\n\\n    time_axis = srun.timeseries(\\n        time_axis=\\\"year\\\"\\n    ).columns.tolist()  # simple list with years 1700, 1701...2500\\n    max_iteration = max(srun.get_unique_meta(\\\"iteration\\\"))\\n\\n    for ax, vfilter in axes_vars:\\n        ax.clear()\\n        vdf = srun.filter(\\n            variable=vfilter\\n        )  # filter for the single variables (T and RF)\\n        for vvdf in vdf.groupby(\\\"variable\\\"):\\n            variable = vvdf.get_unique_meta(\\\"variable\\\", True)\\n            for subset, colour, zorder, linewidth in [\\n                (\\n                    vvdf.filter(\\n                        iteration=max_iteration\\n                    ),  #### =subset - WHAT DOES THIS FILTER?\\n                    palette[variable],  ### colour\\n                    4,\\n                    3,\\n                ),\\n                (\\n                    vvdf.filter(\\n                        iteration=max_iteration, keep=False, log_if_empty=False\\n                    ),\\n                    background_lines,\\n                    2,\\n                    1,\\n                ),\\n            ]:\\n                if subset.empty:  ## checks if subset is empty? But subset is not empty\\n                    # subset can be empty if we are plotting the first run and there are\\n                    # no 'background' lines to plot\\n                    print(\\n                        f\\\"subset for variable {variable} to be plotted with colour {colour} is empty\\\"\\n                    )\\n                    continue\\n\\n                ax.plot(\\n                    time_axis,  # simple list with years 1700, 1701...2500\\n                    subset.values.T.squeeze(),  # only get the data values\\n                    color=colour,\\n                    zorder=zorder,\\n                    linewidth=linewidth,\\n                    alpha=0.7,\\n                )\\n\\n        if target_temperature is not None:\\n            ttfilt = target_temperature.filter(variable=vfilter, log_if_empty=False)\\n            if not ttfilt.empty:\\n                ax.plot(\\n                    time_axis,\\n                    ttfilt.values.squeeze(),\\n                    color=target_colour,\\n                )\\n\\n    return [a for a in axes_vars]\";\n",
       "                var nbb_cells = Jupyter.notebook.get_cells();\n",
       "                for (var i = 0; i < nbb_cells.length; ++i) {\n",
       "                    if (nbb_cells[i].input_prompt_number == nbb_cell_id) {\n",
       "                        if (nbb_cells[i].get_text() == nbb_unformatted_code) {\n",
       "                             nbb_cells[i].set_text(nbb_formatted_code);\n",
       "                        }\n",
       "                        break;\n",
       "                    }\n",
       "                }\n",
       "            }, 500);\n",
       "            "
      ],
      "text/plain": [
       "<IPython.core.display.Javascript object>"
      ]
     },
     "metadata": {},
     "output_type": "display_data"
    }
   ],
   "source": [
    "def plot_res(\n",
    "    srun,  # T and RF output\n",
    "    axes_vars,  # subplots\n",
    "    palette=None,\n",
    "    background_lines=\"tab:grey\",\n",
    "    target_temperature=None,\n",
    "    target_colour=\"tab:green\",\n",
    "):\n",
    "    if palette is None:\n",
    "        palette = {\n",
    "            \"Surface Air Temperature Change\": \"tab:red\",\n",
    "            \"Effective Radiative Forcing\": \"tab:blue\",\n",
    "        }\n",
    "\n",
    "    time_axis = srun.timeseries(\n",
    "        time_axis=\"year\"\n",
    "    ).columns.tolist()  # simple list with years 1700, 1701...2500\n",
    "    max_iteration = max(srun.get_unique_meta(\"iteration\"))\n",
    "\n",
    "    for ax, vfilter in axes_vars:\n",
    "        ax.clear()\n",
    "        vdf = srun.filter(\n",
    "            variable=vfilter\n",
    "        )  # filter for the single variables (T and RF)\n",
    "        for vvdf in vdf.groupby(\"variable\"):\n",
    "            variable = vvdf.get_unique_meta(\"variable\", True)\n",
    "            for subset, colour, zorder, linewidth in [\n",
    "                (\n",
    "                    vvdf.filter(\n",
    "                        iteration=max_iteration\n",
    "                    ),  #### =subset - WHAT DOES THIS FILTER?\n",
    "                    palette[variable],  ### colour\n",
    "                    4,\n",
    "                    3,\n",
    "                ),\n",
    "                (\n",
    "                    vvdf.filter(\n",
    "                        iteration=max_iteration, keep=False, log_if_empty=False\n",
    "                    ),\n",
    "                    background_lines,\n",
    "                    2,\n",
    "                    1,\n",
    "                ),\n",
    "            ]:\n",
    "                if subset.empty:  ## checks if subset is empty? But subset is not empty\n",
    "                    # subset can be empty if we are plotting the first run and there are\n",
    "                    # no 'background' lines to plot\n",
    "                    print(\n",
    "                        f\"subset for variable {variable} to be plotted with colour {colour} is empty\"\n",
    "                    )\n",
    "                    continue\n",
    "\n",
    "                ax.plot(\n",
    "                    time_axis,  # simple list with years 1700, 1701...2500\n",
    "                    subset.values.T.squeeze(),  # only get the data values\n",
    "                    color=colour,\n",
    "                    zorder=zorder,\n",
    "                    linewidth=linewidth,\n",
    "                    alpha=0.7,\n",
    "                )\n",
    "\n",
    "        if target_temperature is not None:\n",
    "            ttfilt = target_temperature.filter(variable=vfilter, log_if_empty=False)\n",
    "            if not ttfilt.empty:\n",
    "                ax.plot(\n",
    "                    time_axis,\n",
    "                    ttfilt.values.squeeze(),\n",
    "                    color=target_colour,\n",
    "                )\n",
    "\n",
    "    return [a for a in axes_vars]"
   ]
  },
  {
   "cell_type": "code",
   "execution_count": 18,
   "id": "52201be9",
   "metadata": {},
   "outputs": [
    {
     "name": "stdout",
     "output_type": "stream",
     "text": [
      "subset for variable Effective Radiative Forcing to be plotted with colour tab:grey is empty\n",
      "subset for variable Surface Air Temperature Change to be plotted with colour tab:grey is empty\n"
     ]
    },
    {
     "data": {
      "text/plain": [
       "[(<AxesSubplot: >, ['*Forcing*']), (<AxesSubplot: >, ['*Temperature*'])]"
      ]
     },
     "execution_count": 18,
     "metadata": {},
     "output_type": "execute_result"
    },
    {
     "data": {
      "image/png": "[encoded data removed]",
      "text/plain": [
       "<Figure size 640x480 with 2 Axes>"
      ]
     },
     "metadata": {},
     "output_type": "display_data"
    },
    {
     "data": {
      "application/javascript": [
       "\n",
       "            setTimeout(function() {\n",
       "                var nbb_cell_id = 18;\n",
       "                var nbb_unformatted_code = \"# papermill_description=scenarioprint\\n\\nfig, axes = plt.subplots(nrows=2, sharex=True)\\n\\nsrun = res_raw_first_run.filter(region=\\\"World\\\")\\n\\n\\naxes_vars = (\\n    (axes[0], [\\\"*Forcing*\\\"]),\\n    (axes[1], [\\\"*Temperature*\\\"]),\\n)\\n\\nplot_res(srun, axes_vars)\";\n",
       "                var nbb_formatted_code = \"# papermill_description=scenarioprint\\n\\nfig, axes = plt.subplots(nrows=2, sharex=True)\\n\\nsrun = res_raw_first_run.filter(region=\\\"World\\\")\\n\\n\\naxes_vars = (\\n    (axes[0], [\\\"*Forcing*\\\"]),\\n    (axes[1], [\\\"*Temperature*\\\"]),\\n)\\n\\nplot_res(srun, axes_vars)\";\n",
       "                var nbb_cells = Jupyter.notebook.get_cells();\n",
       "                for (var i = 0; i < nbb_cells.length; ++i) {\n",
       "                    if (nbb_cells[i].input_prompt_number == nbb_cell_id) {\n",
       "                        if (nbb_cells[i].get_text() == nbb_unformatted_code) {\n",
       "                             nbb_cells[i].set_text(nbb_formatted_code);\n",
       "                        }\n",
       "                        break;\n",
       "                    }\n",
       "                }\n",
       "            }, 500);\n",
       "            "
      ],
      "text/plain": [
       "<IPython.core.display.Javascript object>"
      ]
     },
     "metadata": {},
     "output_type": "display_data"
    }
   ],
   "source": [
    "# papermill_description=scenarioprint\n",
    "\n",
    "fig, axes = plt.subplots(nrows=2, sharex=True)\n",
    "\n",
    "srun = res_raw_first_run.filter(region=\"World\")\n",
    "\n",
    "\n",
    "axes_vars = (\n",
    "    (axes[0], [\"*Forcing*\"]),\n",
    "    (axes[1], [\"*Temperature*\"]),\n",
    ")\n",
    "\n",
    "plot_res(srun, axes_vars)"
   ]
  },
  {
   "cell_type": "code",
   "execution_count": 19,
   "id": "d537319c",
   "metadata": {},
   "outputs": [
    {
     "data": {
      "text/html": [
       "<div>\n",
       "<style scoped>\n",
       "    .dataframe tbody tr th:only-of-type {\n",
       "        vertical-align: middle;\n",
       "    }\n",
       "\n",
       "    .dataframe tbody tr th {\n",
       "        vertical-align: top;\n",
       "    }\n",
       "\n",
       "    .dataframe thead th {\n",
       "        text-align: right;\n",
       "    }\n",
       "</style>\n",
       "<table border=\"1\" class=\"dataframe\">\n",
       "  <thead>\n",
       "    <tr style=\"text-align: right;\">\n",
       "      <th></th>\n",
       "      <th></th>\n",
       "      <th></th>\n",
       "      <th></th>\n",
       "      <th></th>\n",
       "      <th></th>\n",
       "      <th></th>\n",
       "      <th></th>\n",
       "      <th>time</th>\n",
       "      <th>1750-01-01 00:00:00</th>\n",
       "      <th>1751-01-01 00:00:00</th>\n",
       "      <th>1752-01-01 00:00:00</th>\n",
       "      <th>1753-01-01 00:00:00</th>\n",
       "      <th>1754-01-01 00:00:00</th>\n",
       "      <th>1755-01-01 00:00:00</th>\n",
       "      <th>1756-01-01 00:00:00</th>\n",
       "      <th>1757-01-01 00:00:00</th>\n",
       "      <th>1758-01-01 00:00:00</th>\n",
       "      <th>1759-01-01 00:00:00</th>\n",
       "      <th>...</th>\n",
       "      <th>2491-01-01 00:00:00</th>\n",
       "      <th>2492-01-01 00:00:00</th>\n",
       "      <th>2493-01-01 00:00:00</th>\n",
       "      <th>2494-01-01 00:00:00</th>\n",
       "      <th>2495-01-01 00:00:00</th>\n",
       "      <th>2496-01-01 00:00:00</th>\n",
       "      <th>2497-01-01 00:00:00</th>\n",
       "      <th>2498-01-01 00:00:00</th>\n",
       "      <th>2499-01-01 00:00:00</th>\n",
       "      <th>2500-01-01 00:00:00</th>\n",
       "    </tr>\n",
       "    <tr>\n",
       "      <th>RUNNAME</th>\n",
       "      <th>climate_model</th>\n",
       "      <th>iteration</th>\n",
       "      <th>model</th>\n",
       "      <th>region</th>\n",
       "      <th>run_id</th>\n",
       "      <th>scenario</th>\n",
       "      <th>unit</th>\n",
       "      <th>variable</th>\n",
       "      <th></th>\n",
       "      <th></th>\n",
       "      <th></th>\n",
       "      <th></th>\n",
       "      <th></th>\n",
       "      <th></th>\n",
       "      <th></th>\n",
       "      <th></th>\n",
       "      <th></th>\n",
       "      <th></th>\n",
       "      <th></th>\n",
       "      <th></th>\n",
       "      <th></th>\n",
       "      <th></th>\n",
       "      <th></th>\n",
       "      <th></th>\n",
       "      <th></th>\n",
       "      <th></th>\n",
       "      <th></th>\n",
       "      <th></th>\n",
       "      <th></th>\n",
       "    </tr>\n",
       "  </thead>\n",
       "  <tbody>\n",
       "    <tr>\n",
       "      <th rowspan=\"2\" valign=\"top\">ssp245</th>\n",
       "      <th rowspan=\"2\" valign=\"top\">MAGICCv7.5.3</th>\n",
       "      <th rowspan=\"2\" valign=\"top\">0</th>\n",
       "      <th rowspan=\"2\" valign=\"top\">unspecified</th>\n",
       "      <th rowspan=\"2\" valign=\"top\">World</th>\n",
       "      <th rowspan=\"2\" valign=\"top\">0</th>\n",
       "      <th rowspan=\"2\" valign=\"top\">unspecified</th>\n",
       "      <th>K</th>\n",
       "      <th>Surface Air Temperature Change</th>\n",
       "      <td>0.0</td>\n",
       "      <td>0.021043</td>\n",
       "      <td>0.030870</td>\n",
       "      <td>0.036407</td>\n",
       "      <td>0.038264</td>\n",
       "      <td>0.039579</td>\n",
       "      <td>0.035514</td>\n",
       "      <td>0.021288</td>\n",
       "      <td>0.024249</td>\n",
       "      <td>0.032423</td>\n",
       "      <td>...</td>\n",
       "      <td>3.462824</td>\n",
       "      <td>3.462455</td>\n",
       "      <td>3.462084</td>\n",
       "      <td>3.461713</td>\n",
       "      <td>3.461341</td>\n",
       "      <td>3.460968</td>\n",
       "      <td>3.460594</td>\n",
       "      <td>3.460219</td>\n",
       "      <td>3.459844</td>\n",
       "      <td>3.459468</td>\n",
       "    </tr>\n",
       "    <tr>\n",
       "      <th>W/m^2</th>\n",
       "      <th>Effective Radiative Forcing</th>\n",
       "      <td>0.0</td>\n",
       "      <td>0.100231</td>\n",
       "      <td>0.108626</td>\n",
       "      <td>0.105016</td>\n",
       "      <td>0.089092</td>\n",
       "      <td>0.034038</td>\n",
       "      <td>0.013630</td>\n",
       "      <td>0.057298</td>\n",
       "      <td>0.086908</td>\n",
       "      <td>0.100721</td>\n",
       "      <td>...</td>\n",
       "      <td>4.075748</td>\n",
       "      <td>4.074326</td>\n",
       "      <td>4.072908</td>\n",
       "      <td>4.071492</td>\n",
       "      <td>4.070079</td>\n",
       "      <td>4.068669</td>\n",
       "      <td>4.067262</td>\n",
       "      <td>4.065858</td>\n",
       "      <td>4.064457</td>\n",
       "      <td>4.063058</td>\n",
       "    </tr>\n",
       "  </tbody>\n",
       "</table>\n",
       "<p>2 rows × 751 columns</p>\n",
       "</div>"
      ],
      "text/plain": [
       "time                                                                                                        1750-01-01 00:00:00  \\\n",
       "RUNNAME climate_model iteration model       region run_id scenario    unit  variable                                              \n",
       "ssp245  MAGICCv7.5.3  0         unspecified World  0      unspecified K     Surface Air Temperature Change                  0.0   \n",
       "                                                                      W/m^2 Effective Radiative Forcing                     0.0   \n",
       "\n",
       "time                                                                                                        1751-01-01 00:00:00  \\\n",
       "RUNNAME climate_model iteration model       region run_id scenario    unit  variable                                              \n",
       "ssp245  MAGICCv7.5.3  0         unspecified World  0      unspecified K     Surface Air Temperature Change             0.021043   \n",
       "                                                                      W/m^2 Effective Radiative Forcing                0.100231   \n",
       "\n",
       "time                                                                                                        1752-01-01 00:00:00  \\\n",
       "RUNNAME climate_model iteration model       region run_id scenario    unit  variable                                              \n",
       "ssp245  MAGICCv7.5.3  0         unspecified World  0      unspecified K     Surface Air Temperature Change             0.030870   \n",
       "                                                                      W/m^2 Effective Radiative Forcing                0.108626   \n",
       "\n",
       "time                                                                                                        1753-01-01 00:00:00  \\\n",
       "RUNNAME climate_model iteration model       region run_id scenario    unit  variable                                              \n",
       "ssp245  MAGICCv7.5.3  0         unspecified World  0      unspecified K     Surface Air Temperature Change             0.036407   \n",
       "                                                                      W/m^2 Effective Radiative Forcing                0.105016   \n",
       "\n",
       "time                                                                                                        1754-01-01 00:00:00  \\\n",
       "RUNNAME climate_model iteration model       region run_id scenario    unit  variable                                              \n",
       "ssp245  MAGICCv7.5.3  0         unspecified World  0      unspecified K     Surface Air Temperature Change             0.038264   \n",
       "                                                                      W/m^2 Effective Radiative Forcing                0.089092   \n",
       "\n",
       "time                                                                                                        1755-01-01 00:00:00  \\\n",
       "RUNNAME climate_model iteration model       region run_id scenario    unit  variable                                              \n",
       "ssp245  MAGICCv7.5.3  0         unspecified World  0      unspecified K     Surface Air Temperature Change             0.039579   \n",
       "                                                                      W/m^2 Effective Radiative Forcing                0.034038   \n",
       "\n",
       "time                                                                                                        1756-01-01 00:00:00  \\\n",
       "RUNNAME climate_model iteration model       region run_id scenario    unit  variable                                              \n",
       "ssp245  MAGICCv7.5.3  0         unspecified World  0      unspecified K     Surface Air Temperature Change             0.035514   \n",
       "                                                                      W/m^2 Effective Radiative Forcing                0.013630   \n",
       "\n",
       "time                                                                                                        1757-01-01 00:00:00  \\\n",
       "RUNNAME climate_model iteration model       region run_id scenario    unit  variable                                              \n",
       "ssp245  MAGICCv7.5.3  0         unspecified World  0      unspecified K     Surface Air Temperature Change             0.021288   \n",
       "                                                                      W/m^2 Effective Radiative Forcing                0.057298   \n",
       "\n",
       "time                                                                                                        1758-01-01 00:00:00  \\\n",
       "RUNNAME climate_model iteration model       region run_id scenario    unit  variable                                              \n",
       "ssp245  MAGICCv7.5.3  0         unspecified World  0      unspecified K     Surface Air Temperature Change             0.024249   \n",
       "                                                                      W/m^2 Effective Radiative Forcing                0.086908   \n",
       "\n",
       "time                                                                                                        1759-01-01 00:00:00  \\\n",
       "RUNNAME climate_model iteration model       region run_id scenario    unit  variable                                              \n",
       "ssp245  MAGICCv7.5.3  0         unspecified World  0      unspecified K     Surface Air Temperature Change             0.032423   \n",
       "                                                                      W/m^2 Effective Radiative Forcing                0.100721   \n",
       "\n",
       "time                                                                                                        ...  \\\n",
       "RUNNAME climate_model iteration model       region run_id scenario    unit  variable                        ...   \n",
       "ssp245  MAGICCv7.5.3  0         unspecified World  0      unspecified K     Surface Air Temperature Change  ...   \n",
       "                                                                      W/m^2 Effective Radiative Forcing     ...   \n",
       "\n",
       "time                                                                                                        2491-01-01 00:00:00  \\\n",
       "RUNNAME climate_model iteration model       region run_id scenario    unit  variable                                              \n",
       "ssp245  MAGICCv7.5.3  0         unspecified World  0      unspecified K     Surface Air Temperature Change             3.462824   \n",
       "                                                                      W/m^2 Effective Radiative Forcing                4.075748   \n",
       "\n",
       "time                                                                                                        2492-01-01 00:00:00  \\\n",
       "RUNNAME climate_model iteration model       region run_id scenario    unit  variable                                              \n",
       "ssp245  MAGICCv7.5.3  0         unspecified World  0      unspecified K     Surface Air Temperature Change             3.462455   \n",
       "                                                                      W/m^2 Effective Radiative Forcing                4.074326   \n",
       "\n",
       "time                                                                                                        2493-01-01 00:00:00  \\\n",
       "RUNNAME climate_model iteration model       region run_id scenario    unit  variable                                              \n",
       "ssp245  MAGICCv7.5.3  0         unspecified World  0      unspecified K     Surface Air Temperature Change             3.462084   \n",
       "                                                                      W/m^2 Effective Radiative Forcing                4.072908   \n",
       "\n",
       "time                                                                                                        2494-01-01 00:00:00  \\\n",
       "RUNNAME climate_model iteration model       region run_id scenario    unit  variable                                              \n",
       "ssp245  MAGICCv7.5.3  0         unspecified World  0      unspecified K     Surface Air Temperature Change             3.461713   \n",
       "                                                                      W/m^2 Effective Radiative Forcing                4.071492   \n",
       "\n",
       "time                                                                                                        2495-01-01 00:00:00  \\\n",
       "RUNNAME climate_model iteration model       region run_id scenario    unit  variable                                              \n",
       "ssp245  MAGICCv7.5.3  0         unspecified World  0      unspecified K     Surface Air Temperature Change             3.461341   \n",
       "                                                                      W/m^2 Effective Radiative Forcing                4.070079   \n",
       "\n",
       "time                                                                                                        2496-01-01 00:00:00  \\\n",
       "RUNNAME climate_model iteration model       region run_id scenario    unit  variable                                              \n",
       "ssp245  MAGICCv7.5.3  0         unspecified World  0      unspecified K     Surface Air Temperature Change             3.460968   \n",
       "                                                                      W/m^2 Effective Radiative Forcing                4.068669   \n",
       "\n",
       "time                                                                                                        2497-01-01 00:00:00  \\\n",
       "RUNNAME climate_model iteration model       region run_id scenario    unit  variable                                              \n",
       "ssp245  MAGICCv7.5.3  0         unspecified World  0      unspecified K     Surface Air Temperature Change             3.460594   \n",
       "                                                                      W/m^2 Effective Radiative Forcing                4.067262   \n",
       "\n",
       "time                                                                                                        2498-01-01 00:00:00  \\\n",
       "RUNNAME climate_model iteration model       region run_id scenario    unit  variable                                              \n",
       "ssp245  MAGICCv7.5.3  0         unspecified World  0      unspecified K     Surface Air Temperature Change             3.460219   \n",
       "                                                                      W/m^2 Effective Radiative Forcing                4.065858   \n",
       "\n",
       "time                                                                                                        2499-01-01 00:00:00  \\\n",
       "RUNNAME climate_model iteration model       region run_id scenario    unit  variable                                              \n",
       "ssp245  MAGICCv7.5.3  0         unspecified World  0      unspecified K     Surface Air Temperature Change             3.459844   \n",
       "                                                                      W/m^2 Effective Radiative Forcing                4.064457   \n",
       "\n",
       "time                                                                                                        2500-01-01 00:00:00  \n",
       "RUNNAME climate_model iteration model       region run_id scenario    unit  variable                                             \n",
       "ssp245  MAGICCv7.5.3  0         unspecified World  0      unspecified K     Surface Air Temperature Change             3.459468  \n",
       "                                                                      W/m^2 Effective Radiative Forcing                4.063058  \n",
       "\n",
       "[2 rows x 751 columns]"
      ]
     },
     "execution_count": 19,
     "metadata": {},
     "output_type": "execute_result"
    },
    {
     "data": {
      "application/javascript": [
       "\n",
       "            setTimeout(function() {\n",
       "                var nbb_cell_id = 19;\n",
       "                var nbb_unformatted_code = \"srun.timeseries()\";\n",
       "                var nbb_formatted_code = \"srun.timeseries()\";\n",
       "                var nbb_cells = Jupyter.notebook.get_cells();\n",
       "                for (var i = 0; i < nbb_cells.length; ++i) {\n",
       "                    if (nbb_cells[i].input_prompt_number == nbb_cell_id) {\n",
       "                        if (nbb_cells[i].get_text() == nbb_unformatted_code) {\n",
       "                             nbb_cells[i].set_text(nbb_formatted_code);\n",
       "                        }\n",
       "                        break;\n",
       "                    }\n",
       "                }\n",
       "            }, 500);\n",
       "            "
      ],
      "text/plain": [
       "<IPython.core.display.Javascript object>"
      ]
     },
     "metadata": {},
     "output_type": "display_data"
    }
   ],
   "source": [
    "srun.timeseries()"
   ]
  },
  {
   "cell_type": "markdown",
   "id": "508882ff",
   "metadata": {},
   "source": [
    "## Derive goal-temperature trajectory\n",
    "\n",
    "We want to make a smooth temperature trajectory towards 1.5C."
   ]
  },
  {
   "cell_type": "code",
   "execution_count": 20,
   "id": "bd3aa046",
   "metadata": {},
   "outputs": [
    {
     "data": {
      "application/javascript": [
       "\n",
       "            setTimeout(function() {\n",
       "                var nbb_cell_id = 20;\n",
       "                var nbb_unformatted_code = \"# First year in which we can change the ERF\\nSTART_SRM_YEAR = 2030  # 2020\\n\\n# Max temperature we want to target\\nTARGET_MAX_TEMP = 1.5\\n# TARGET_MAX_TEMP = 2.0\";\n",
       "                var nbb_formatted_code = \"# First year in which we can change the ERF\\nSTART_SRM_YEAR = 2030  # 2020\\n\\n# Max temperature we want to target\\nTARGET_MAX_TEMP = 1.5\\n# TARGET_MAX_TEMP = 2.0\";\n",
       "                var nbb_cells = Jupyter.notebook.get_cells();\n",
       "                for (var i = 0; i < nbb_cells.length; ++i) {\n",
       "                    if (nbb_cells[i].input_prompt_number == nbb_cell_id) {\n",
       "                        if (nbb_cells[i].get_text() == nbb_unformatted_code) {\n",
       "                             nbb_cells[i].set_text(nbb_formatted_code);\n",
       "                        }\n",
       "                        break;\n",
       "                    }\n",
       "                }\n",
       "            }, 500);\n",
       "            "
      ],
      "text/plain": [
       "<IPython.core.display.Javascript object>"
      ]
     },
     "metadata": {},
     "output_type": "display_data"
    }
   ],
   "source": [
    "# First year in which we can change the ERF\n",
    "START_SRM_YEAR = 2030  # 2020\n",
    "\n",
    "# Max temperature we want to target\n",
    "TARGET_MAX_TEMP = 1.5\n",
    "# TARGET_MAX_TEMP = 2.0"
   ]
  },
  {
   "cell_type": "code",
   "execution_count": 21,
   "id": "04a038e8",
   "metadata": {},
   "outputs": [
    {
     "data": {
      "application/javascript": [
       "\n",
       "            setTimeout(function() {\n",
       "                var nbb_cell_id = 21;\n",
       "                var nbb_unformatted_code = \"def get_quadratic_fit(\\n    year_zero,  # year_zero = 2020\\n    year_zero_warming,  # T in 2020\\n    year_zero_gradient,  # 10 year gradient\\n    zero_gradient_temp,  # first segment max\\n):\\n    c = year_zero_warming  # T in 2020\\n    b = year_zero_gradient  # 10 year gradient\\n    a = -(b**2) / (4 * (zero_gradient_temp - c))  # vertex of quadratic function\\n    #  first_segment_end_year = -b / (2 * a) + year_zero\\n    first_segment_end_year = year_zero - b / (2 * a)\\n    print(first_segment_end_year)\\n\\n    quadratic = Polynomial([c, b, a])\\n\\n    return quadratic, np.ceil(\\n        first_segment_end_year\\n    )  # np.ceil returns the ceiling of the input, element wise (Betrag; immer hochgerundet)\\n    # np.ceil gives quadratic end year\\n\\n\\ndef get_sigmoid(\\n    sigmoid_size,  # size of the overshoot\\n    sigmoid_ndrop_years,  # x-offset (width of sigmoid function)\\n    zero_year,  # second segment start year\\n    zero_year_warming,  # second segment start year warming\\n):\\n    # vary sigmid width depending on size of overshoot\\n    #  sigmoid_ndrop_years = sigmoid_ndrop_years + (sigmoid_size * sigmoid_ndrop_years * 2)\\n    #   sigmoid_ndrop_years_ = sigmoid_ndrop_years + (sigmoid_size * 10)\\n\\n    def sigmoid(inp):\\n        sigmoid_slope = 0.8\\n        # sigmoid_slope = 1 - sigmoid_size\\n\\n        return zero_year_warming - sigmoid_size / (\\n            1 + np.exp(-(inp - zero_year - sigmoid_ndrop_years / 2)) ** sigmoid_slope\\n        )\\n\\n    return sigmoid, second_segment_start_year + sigmoid_ndrop_years\";\n",
       "                var nbb_formatted_code = \"def get_quadratic_fit(\\n    year_zero,  # year_zero = 2020\\n    year_zero_warming,  # T in 2020\\n    year_zero_gradient,  # 10 year gradient\\n    zero_gradient_temp,  # first segment max\\n):\\n    c = year_zero_warming  # T in 2020\\n    b = year_zero_gradient  # 10 year gradient\\n    a = -(b**2) / (4 * (zero_gradient_temp - c))  # vertex of quadratic function\\n    #  first_segment_end_year = -b / (2 * a) + year_zero\\n    first_segment_end_year = year_zero - b / (2 * a)\\n    print(first_segment_end_year)\\n\\n    quadratic = Polynomial([c, b, a])\\n\\n    return quadratic, np.ceil(\\n        first_segment_end_year\\n    )  # np.ceil returns the ceiling of the input, element wise (Betrag; immer hochgerundet)\\n    # np.ceil gives quadratic end year\\n\\n\\ndef get_sigmoid(\\n    sigmoid_size,  # size of the overshoot\\n    sigmoid_ndrop_years,  # x-offset (width of sigmoid function)\\n    zero_year,  # second segment start year\\n    zero_year_warming,  # second segment start year warming\\n):\\n    # vary sigmid width depending on size of overshoot\\n    #  sigmoid_ndrop_years = sigmoid_ndrop_years + (sigmoid_size * sigmoid_ndrop_years * 2)\\n    #   sigmoid_ndrop_years_ = sigmoid_ndrop_years + (sigmoid_size * 10)\\n\\n    def sigmoid(inp):\\n        sigmoid_slope = 0.8\\n        # sigmoid_slope = 1 - sigmoid_size\\n\\n        return zero_year_warming - sigmoid_size / (\\n            1 + np.exp(-(inp - zero_year - sigmoid_ndrop_years / 2)) ** sigmoid_slope\\n        )\\n\\n    return sigmoid, second_segment_start_year + sigmoid_ndrop_years\";\n",
       "                var nbb_cells = Jupyter.notebook.get_cells();\n",
       "                for (var i = 0; i < nbb_cells.length; ++i) {\n",
       "                    if (nbb_cells[i].input_prompt_number == nbb_cell_id) {\n",
       "                        if (nbb_cells[i].get_text() == nbb_unformatted_code) {\n",
       "                             nbb_cells[i].set_text(nbb_formatted_code);\n",
       "                        }\n",
       "                        break;\n",
       "                    }\n",
       "                }\n",
       "            }, 500);\n",
       "            "
      ],
      "text/plain": [
       "<IPython.core.display.Javascript object>"
      ]
     },
     "metadata": {},
     "output_type": "display_data"
    }
   ],
   "source": [
    "def get_quadratic_fit(\n",
    "    year_zero,  # year_zero = 2020\n",
    "    year_zero_warming,  # T in 2020\n",
    "    year_zero_gradient,  # 10 year gradient\n",
    "    zero_gradient_temp,  # first segment max\n",
    "):\n",
    "    c = year_zero_warming  # T in 2020\n",
    "    b = year_zero_gradient  # 10 year gradient\n",
    "    a = -(b**2) / (4 * (zero_gradient_temp - c))  # vertex of quadratic function\n",
    "    #  first_segment_end_year = -b / (2 * a) + year_zero\n",
    "    first_segment_end_year = year_zero - b / (2 * a)\n",
    "    print(first_segment_end_year)\n",
    "\n",
    "    quadratic = Polynomial([c, b, a])\n",
    "\n",
    "    return quadratic, np.ceil(\n",
    "        first_segment_end_year\n",
    "    )  # np.ceil returns the ceiling of the input, element wise (Betrag; immer hochgerundet)\n",
    "    # np.ceil gives quadratic end year\n",
    "\n",
    "\n",
    "def get_sigmoid(\n",
    "    sigmoid_size,  # size of the overshoot\n",
    "    sigmoid_ndrop_years,  # x-offset (width of sigmoid function)\n",
    "    zero_year,  # second segment start year\n",
    "    zero_year_warming,  # second segment start year warming\n",
    "):\n",
    "    # vary sigmid width depending on size of overshoot\n",
    "    #  sigmoid_ndrop_years = sigmoid_ndrop_years + (sigmoid_size * sigmoid_ndrop_years * 2)\n",
    "    #   sigmoid_ndrop_years_ = sigmoid_ndrop_years + (sigmoid_size * 10)\n",
    "\n",
    "    def sigmoid(inp):\n",
    "        sigmoid_slope = 0.8\n",
    "        # sigmoid_slope = 1 - sigmoid_size\n",
    "\n",
    "        return zero_year_warming - sigmoid_size / (\n",
    "            1 + np.exp(-(inp - zero_year - sigmoid_ndrop_years / 2)) ** sigmoid_slope\n",
    "        )\n",
    "\n",
    "    return sigmoid, second_segment_start_year + sigmoid_ndrop_years"
   ]
  },
  {
   "cell_type": "code",
   "execution_count": 22,
   "id": "c0788982",
   "metadata": {},
   "outputs": [
    {
     "name": "stdout",
     "output_type": "stream",
     "text": [
      "1.7847098644332315\n",
      "overshoot\n",
      "2040.0\n"
     ]
    },
    {
     "data": {
      "application/javascript": [
       "\n",
       "            setTimeout(function() {\n",
       "                var nbb_cell_id = 22;\n",
       "                var nbb_unformatted_code = \"gsat = res_raw_first_run.filter(region=\\\"World\\\", variable=\\\"*Temp*\\\")\\ntarget = gsat.timeseries(time_axis=\\\"year\\\").copy()\\nyears = target.columns.values.squeeze()  # list of years\\n\\nsrm_year_warming = gsat.filter(\\n    year=START_SRM_YEAR\\n).values.squeeze()  # T in the year of SRM start (2020)\\nrecent_warming_gradient = (  # warming gradient of \\\"original\\\" pathway in the first 10 years after SRM start (2020 - 2030)\\n    gsat.filter(year=range(START_SRM_YEAR, START_SRM_YEAR + 10))\\n    .linear_regression_gradient(\\\"K / yr\\\")[\\\"gradient\\\"]\\n    .values.squeeze()\\n)\\nfive_years_more_warming = (\\n    recent_warming_gradient * 5\\n)  # warming after 5 years of following this gradient\\nfive_years_more_warming_total = (\\n    srm_year_warming + five_years_more_warming\\n)  # total warming 5 years after SRM start with gradient\\n\\n\\n### 2 categories of pathways\\n# 1. Impossible to avoid overshoot, smooth out ---> sigmoidal function\\nif five_years_more_warming_total > TARGET_MAX_TEMP:\\n    first_segment_max = five_years_more_warming_total\\n    second_segment_min = TARGET_MAX_TEMP\\n    print(first_segment_max)\\n    # should be between 1.5 and the temperature in SRM_START_YEAR+5\\n    print('overshoot')\\n# 2. smooth approach to 1.5 ---> quadratic function\\nelse:\\n    first_segment_max = TARGET_MAX_TEMP\\n    second_segment_min = None\\n    print('smooth approach to target')\\n    # should be anywhere below 1.5\\n\\n### First segment after 2020\\nquadratic, first_segment_end_year = get_quadratic_fit(\\n    START_SRM_YEAR, srm_year_warming, recent_warming_gradient, first_segment_max\\n)\\n# first segment end year = peak of the quadratic function\\nfirst_segment_years = np.arange(\\n    START_SRM_YEAR, (first_segment_end_year)\\n)  # list years from start to end\\n# replace the years of the first segment with the target temperatures during first segment\\ntarget[first_segment_years] = quadratic(first_segment_years - START_SRM_YEAR)\";\n",
       "                var nbb_formatted_code = \"gsat = res_raw_first_run.filter(region=\\\"World\\\", variable=\\\"*Temp*\\\")\\ntarget = gsat.timeseries(time_axis=\\\"year\\\").copy()\\nyears = target.columns.values.squeeze()  # list of years\\n\\nsrm_year_warming = gsat.filter(\\n    year=START_SRM_YEAR\\n).values.squeeze()  # T in the year of SRM start (2020)\\nrecent_warming_gradient = (  # warming gradient of \\\"original\\\" pathway in the first 10 years after SRM start (2020 - 2030)\\n    gsat.filter(year=range(START_SRM_YEAR, START_SRM_YEAR + 10))\\n    .linear_regression_gradient(\\\"K / yr\\\")[\\\"gradient\\\"]\\n    .values.squeeze()\\n)\\nfive_years_more_warming = (\\n    recent_warming_gradient * 5\\n)  # warming after 5 years of following this gradient\\nfive_years_more_warming_total = (\\n    srm_year_warming + five_years_more_warming\\n)  # total warming 5 years after SRM start with gradient\\n\\n\\n### 2 categories of pathways\\n# 1. Impossible to avoid overshoot, smooth out ---> sigmoidal function\\nif five_years_more_warming_total > TARGET_MAX_TEMP:\\n    first_segment_max = five_years_more_warming_total\\n    second_segment_min = TARGET_MAX_TEMP\\n    print(first_segment_max)\\n    # should be between 1.5 and the temperature in SRM_START_YEAR+5\\n    print(\\\"overshoot\\\")\\n# 2. smooth approach to 1.5 ---> quadratic function\\nelse:\\n    first_segment_max = TARGET_MAX_TEMP\\n    second_segment_min = None\\n    print(\\\"smooth approach to target\\\")\\n    # should be anywhere below 1.5\\n\\n### First segment after 2020\\nquadratic, first_segment_end_year = get_quadratic_fit(\\n    START_SRM_YEAR, srm_year_warming, recent_warming_gradient, first_segment_max\\n)\\n# first segment end year = peak of the quadratic function\\nfirst_segment_years = np.arange(\\n    START_SRM_YEAR, (first_segment_end_year)\\n)  # list years from start to end\\n# replace the years of the first segment with the target temperatures during first segment\\ntarget[first_segment_years] = quadratic(first_segment_years - START_SRM_YEAR)\";\n",
       "                var nbb_cells = Jupyter.notebook.get_cells();\n",
       "                for (var i = 0; i < nbb_cells.length; ++i) {\n",
       "                    if (nbb_cells[i].input_prompt_number == nbb_cell_id) {\n",
       "                        if (nbb_cells[i].get_text() == nbb_unformatted_code) {\n",
       "                             nbb_cells[i].set_text(nbb_formatted_code);\n",
       "                        }\n",
       "                        break;\n",
       "                    }\n",
       "                }\n",
       "            }, 500);\n",
       "            "
      ],
      "text/plain": [
       "<IPython.core.display.Javascript object>"
      ]
     },
     "metadata": {},
     "output_type": "display_data"
    }
   ],
   "source": [
    "gsat = res_raw_first_run.filter(region=\"World\", variable=\"*Temp*\")\n",
    "target = gsat.timeseries(time_axis=\"year\").copy()\n",
    "years = target.columns.values.squeeze()  # list of years\n",
    "\n",
    "srm_year_warming = gsat.filter(\n",
    "    year=START_SRM_YEAR\n",
    ").values.squeeze()  # T in the year of SRM start (2020)\n",
    "recent_warming_gradient = (  # warming gradient of \"original\" pathway in the first 10 years after SRM start (2020 - 2030)\n",
    "    gsat.filter(year=range(START_SRM_YEAR, START_SRM_YEAR + 10))\n",
    "    .linear_regression_gradient(\"K / yr\")[\"gradient\"]\n",
    "    .values.squeeze()\n",
    ")\n",
    "five_years_more_warming = (\n",
    "    recent_warming_gradient * 5\n",
    ")  # warming after 5 years of following this gradient\n",
    "five_years_more_warming_total = (\n",
    "    srm_year_warming + five_years_more_warming\n",
    ")  # total warming 5 years after SRM start with gradient\n",
    "\n",
    "\n",
    "### 2 categories of pathways\n",
    "# 1. Impossible to avoid overshoot, smooth out ---> sigmoidal function\n",
    "if five_years_more_warming_total > TARGET_MAX_TEMP:\n",
    "    first_segment_max = five_years_more_warming_total\n",
    "    second_segment_min = TARGET_MAX_TEMP\n",
    "    print(first_segment_max)\n",
    "    # should be between 1.5 and the temperature in SRM_START_YEAR+5\n",
    "    print('overshoot')\n",
    "# 2. smooth approach to 1.5 ---> quadratic function\n",
    "else:\n",
    "    first_segment_max = TARGET_MAX_TEMP\n",
    "    second_segment_min = None\n",
    "    print('smooth approach to target')\n",
    "    # should be anywhere below 1.5\n",
    "\n",
    "### First segment after 2020\n",
    "quadratic, first_segment_end_year = get_quadratic_fit(\n",
    "    START_SRM_YEAR, srm_year_warming, recent_warming_gradient, first_segment_max\n",
    ")\n",
    "# first segment end year = peak of the quadratic function\n",
    "first_segment_years = np.arange(\n",
    "    START_SRM_YEAR, (first_segment_end_year)\n",
    ")  # list years from start to end\n",
    "# replace the years of the first segment with the target temperatures during first segment\n",
    "target[first_segment_years] = quadratic(first_segment_years - START_SRM_YEAR)\n"
   ]
  },
  {
   "cell_type": "code",
   "execution_count": 23,
   "id": "e5e2cd7e",
   "metadata": {},
   "outputs": [
    {
     "data": {
      "text/plain": [
       "Text(0.5, 1.0, 'first segment modified')"
      ]
     },
     "execution_count": 23,
     "metadata": {},
     "output_type": "execute_result"
    },
    {
     "data": {
      "image/png": "[encoded data removed]",
      "text/plain": [
       "<Figure size 640x480 with 1 Axes>"
      ]
     },
     "metadata": {},
     "output_type": "display_data"
    },
    {
     "data": {
      "application/javascript": [
       "\n",
       "            setTimeout(function() {\n",
       "                var nbb_cell_id = 23;\n",
       "                var nbb_unformatted_code = \"target_run = scmdata.ScmRun(target)\\nplt.plot(\\n    target_run.filter(year=range(2000, 2051))\\n    .timeseries(time_axis=\\\"year\\\")\\n    .columns.tolist(),  # simple list with years 1700, 1701...2500\\n    target_run.filter(\\n        year=range(2000, 2051)\\n    ).values.T.squeeze(),  # only get the data values\\n)\\nplt.title(\\\"first segment modified\\\")\";\n",
       "                var nbb_formatted_code = \"target_run = scmdata.ScmRun(target)\\nplt.plot(\\n    target_run.filter(year=range(2000, 2051))\\n    .timeseries(time_axis=\\\"year\\\")\\n    .columns.tolist(),  # simple list with years 1700, 1701...2500\\n    target_run.filter(\\n        year=range(2000, 2051)\\n    ).values.T.squeeze(),  # only get the data values\\n)\\nplt.title(\\\"first segment modified\\\")\";\n",
       "                var nbb_cells = Jupyter.notebook.get_cells();\n",
       "                for (var i = 0; i < nbb_cells.length; ++i) {\n",
       "                    if (nbb_cells[i].input_prompt_number == nbb_cell_id) {\n",
       "                        if (nbb_cells[i].get_text() == nbb_unformatted_code) {\n",
       "                             nbb_cells[i].set_text(nbb_formatted_code);\n",
       "                        }\n",
       "                        break;\n",
       "                    }\n",
       "                }\n",
       "            }, 500);\n",
       "            "
      ],
      "text/plain": [
       "<IPython.core.display.Javascript object>"
      ]
     },
     "metadata": {},
     "output_type": "display_data"
    }
   ],
   "source": [
    "target_run = scmdata.ScmRun(target)\n",
    "plt.plot(\n",
    "    target_run.filter(year=range(2000, 2051))\n",
    "    .timeseries(time_axis=\"year\")\n",
    "    .columns.tolist(),  # simple list with years 1700, 1701...2500\n",
    "    target_run.filter(\n",
    "        year=range(2000, 2051)\n",
    "    ).values.T.squeeze(),  # only get the data values\n",
    ")\n",
    "plt.title(\"first segment modified\")"
   ]
  },
  {
   "cell_type": "code",
   "execution_count": 24,
   "id": "92a984b0",
   "metadata": {},
   "outputs": [
    {
     "name": "stdout",
     "output_type": "stream",
     "text": [
      "sigmoidal func\n"
     ]
    },
    {
     "data": {
      "application/javascript": [
       "\n",
       "            setTimeout(function() {\n",
       "                var nbb_cell_id = 24;\n",
       "                var nbb_unformatted_code = \"### Second segment after 2020\\nif second_segment_min is None:\\n    print(\\\"smooth approach to target - no sigmoidal func\\\")\\n    target.loc[\\n        :, int(first_segment_years[-1]) + 1 :\\n    ] = first_segment_max  # set all years after to 1.5\\n\\nelse:\\n    print(\\\"sigmoidal func\\\")\\n    second_segment_start_year = first_segment_years[-1] + 1  # first year of segment 2\\n    second_segment_start_year_warming = target[\\n        first_segment_years[-1]\\n    ].values.squeeze()  # first T value of segment 2\\n\\n    sigmoid, second_segment_end_year = get_sigmoid(\\n        sigmoid_size=first_segment_max - second_segment_min,\\n        sigmoid_ndrop_years=10,\\n        zero_year=second_segment_start_year,\\n        zero_year_warming=second_segment_start_year_warming,\\n    )\\n\\n    second_segment_years = np.arange(second_segment_start_year, second_segment_end_year)\\n\\n    target[second_segment_years] = sigmoid(second_segment_years)\\n    target.loc[:, int(second_segment_years[-1]) + 1 :] = second_segment_min\\n\\n\\ntarget = scmdata.ScmRun(target)\";\n",
       "                var nbb_formatted_code = \"### Second segment after 2020\\nif second_segment_min is None:\\n    print(\\\"smooth approach to target - no sigmoidal func\\\")\\n    target.loc[\\n        :, int(first_segment_years[-1]) + 1 :\\n    ] = first_segment_max  # set all years after to 1.5\\n\\nelse:\\n    print(\\\"sigmoidal func\\\")\\n    second_segment_start_year = first_segment_years[-1] + 1  # first year of segment 2\\n    second_segment_start_year_warming = target[\\n        first_segment_years[-1]\\n    ].values.squeeze()  # first T value of segment 2\\n\\n    sigmoid, second_segment_end_year = get_sigmoid(\\n        sigmoid_size=first_segment_max - second_segment_min,\\n        sigmoid_ndrop_years=10,\\n        zero_year=second_segment_start_year,\\n        zero_year_warming=second_segment_start_year_warming,\\n    )\\n\\n    second_segment_years = np.arange(second_segment_start_year, second_segment_end_year)\\n\\n    target[second_segment_years] = sigmoid(second_segment_years)\\n    target.loc[:, int(second_segment_years[-1]) + 1 :] = second_segment_min\\n\\n\\ntarget = scmdata.ScmRun(target)\";\n",
       "                var nbb_cells = Jupyter.notebook.get_cells();\n",
       "                for (var i = 0; i < nbb_cells.length; ++i) {\n",
       "                    if (nbb_cells[i].input_prompt_number == nbb_cell_id) {\n",
       "                        if (nbb_cells[i].get_text() == nbb_unformatted_code) {\n",
       "                             nbb_cells[i].set_text(nbb_formatted_code);\n",
       "                        }\n",
       "                        break;\n",
       "                    }\n",
       "                }\n",
       "            }, 500);\n",
       "            "
      ],
      "text/plain": [
       "<IPython.core.display.Javascript object>"
      ]
     },
     "metadata": {},
     "output_type": "display_data"
    }
   ],
   "source": [
    "### Second segment after 2020\n",
    "if second_segment_min is None:\n",
    "    print(\"smooth approach to target - no sigmoidal func\")\n",
    "    target.loc[\n",
    "        :, int(first_segment_years[-1]) + 1 :\n",
    "    ] = first_segment_max  # set all years after to 1.5\n",
    "\n",
    "else:\n",
    "    print(\"sigmoidal func\")\n",
    "    second_segment_start_year = first_segment_years[-1] + 1  # first year of segment 2\n",
    "    second_segment_start_year_warming = target[\n",
    "        first_segment_years[-1]\n",
    "    ].values.squeeze()  # first T value of segment 2\n",
    "\n",
    "    sigmoid, second_segment_end_year = get_sigmoid(\n",
    "        sigmoid_size=first_segment_max - second_segment_min,\n",
    "        sigmoid_ndrop_years=10,\n",
    "        zero_year=second_segment_start_year,\n",
    "        zero_year_warming=second_segment_start_year_warming,\n",
    "    )\n",
    "\n",
    "    second_segment_years = np.arange(second_segment_start_year, second_segment_end_year)\n",
    "\n",
    "    target[second_segment_years] = sigmoid(second_segment_years)\n",
    "    target.loc[:, int(second_segment_years[-1]) + 1 :] = second_segment_min\n",
    "\n",
    "\n",
    "target = scmdata.ScmRun(target)"
   ]
  },
  {
   "cell_type": "code",
   "execution_count": 25,
   "id": "c771e501",
   "metadata": {},
   "outputs": [
    {
     "name": "stdout",
     "output_type": "stream",
     "text": [
      "subset for variable Effective Radiative Forcing to be plotted with colour tab:grey is empty\n",
      "subset for variable Surface Air Temperature Change to be plotted with colour tab:grey is empty\n"
     ]
    },
    {
     "data": {
      "text/plain": [
       "[(<AxesSubplot: >, ['*Forcing*']), (<AxesSubplot: >, ['*Temperature*'])]"
      ]
     },
     "execution_count": 25,
     "metadata": {},
     "output_type": "execute_result"
    },
    {
     "data": {
      "image/png": "[encoded data removed]",
      "text/plain": [
       "<Figure size 640x480 with 2 Axes>"
      ]
     },
     "metadata": {},
     "output_type": "display_data"
    },
    {
     "data": {
      "application/javascript": [
       "\n",
       "            setTimeout(function() {\n",
       "                var nbb_cell_id = 25;\n",
       "                var nbb_unformatted_code = \"# papermill_description=scenario_build\\n\\nfig, axes = plt.subplots(nrows=2, sharex=True)\\n\\nsrun = res_raw_first_run.filter(region=\\\"World\\\")\\n\\n\\naxes_vars = (\\n    (axes[0], [\\\"*Forcing*\\\"]),\\n    (axes[1], [\\\"*Temperature*\\\"]),\\n)\\n\\nplot_res(\\n    srun.filter(year=range(2000, 2070)),\\n    axes_vars,\\n    target_temperature=target.filter(year=range(2000, 2070)),  # green\\n)\";\n",
       "                var nbb_formatted_code = \"# papermill_description=scenario_build\\n\\nfig, axes = plt.subplots(nrows=2, sharex=True)\\n\\nsrun = res_raw_first_run.filter(region=\\\"World\\\")\\n\\n\\naxes_vars = (\\n    (axes[0], [\\\"*Forcing*\\\"]),\\n    (axes[1], [\\\"*Temperature*\\\"]),\\n)\\n\\nplot_res(\\n    srun.filter(year=range(2000, 2070)),\\n    axes_vars,\\n    target_temperature=target.filter(year=range(2000, 2070)),  # green\\n)\";\n",
       "                var nbb_cells = Jupyter.notebook.get_cells();\n",
       "                for (var i = 0; i < nbb_cells.length; ++i) {\n",
       "                    if (nbb_cells[i].input_prompt_number == nbb_cell_id) {\n",
       "                        if (nbb_cells[i].get_text() == nbb_unformatted_code) {\n",
       "                             nbb_cells[i].set_text(nbb_formatted_code);\n",
       "                        }\n",
       "                        break;\n",
       "                    }\n",
       "                }\n",
       "            }, 500);\n",
       "            "
      ],
      "text/plain": [
       "<IPython.core.display.Javascript object>"
      ]
     },
     "metadata": {},
     "output_type": "display_data"
    }
   ],
   "source": [
    "# papermill_description=scenario_build\n",
    "\n",
    "fig, axes = plt.subplots(nrows=2, sharex=True)\n",
    "\n",
    "srun = res_raw_first_run.filter(region=\"World\")\n",
    "\n",
    "\n",
    "axes_vars = (\n",
    "    (axes[0], [\"*Forcing*\"]),\n",
    "    (axes[1], [\"*Temperature*\"]),\n",
    ")\n",
    "\n",
    "plot_res(\n",
    "    srun.filter(year=range(2000, 2070)),\n",
    "    axes_vars,\n",
    "    target_temperature=target.filter(year=range(2000, 2070)),  # green\n",
    ")"
   ]
  },
  {
   "cell_type": "markdown",
   "id": "bd1458ed",
   "metadata": {},
   "source": [
    "## Iterate to find new forcing"
   ]
  },
  {
   "cell_type": "code",
   "execution_count": 26,
   "id": "eba055a1",
   "metadata": {},
   "outputs": [
    {
     "data": {
      "application/javascript": [
       "\n",
       "            setTimeout(function() {\n",
       "                var nbb_cell_id = 26;\n",
       "                var nbb_unformatted_code = \"def get_new_srm(\\n    current_srm, res_gsat, target, forcing_temp_scaling=2, forcing_lag_years=3\\n):\\n    current_srm_ts = current_srm.timeseries(time_axis=\\\"year\\\")\\n    years = current_srm_ts.columns.values.squeeze()\\n    # get temperature difference of iteration before\\n    temp_difference = res_gsat.subtract(\\n        target, op_cols={\\\"scenario\\\": \\\"res - target\\\", \\\"iteration\\\": -1}\\n    ).values.squeeze()\\n    # the smaller the temperature difference the smaller the adjustment in that iteration\\n    forcing_adjustments = -temp_difference / forcing_temp_scaling\\n    # force the adjustments to zero if the temperature difference is below a certain threshold removes the oscillations\\n    close_years = np.abs(temp_difference) < 0.02\\n    if close_years.all():\\n        return \\\"converged\\\"\\n\\n    forcing_adjustments[np.where(close_years)] = 0\\n    ## adjusts to change forcing `forcing_lag_years` years before the actual temperature difference\\n    forcing_adjustments = np.concatenate(\\n        [forcing_adjustments[forcing_lag_years:], np.zeros(forcing_lag_years)]\\n    )\\n    # set all forcing changes before START_SRM_YEAR to 0\\n    forcing_adjustments[: START_SRM_YEAR - common_cfgs[\\\"startyear\\\"]] = 0\\n\\n    new_forcing = current_srm_ts + forcing_adjustments\\n\\n    return new_forcing\";\n",
       "                var nbb_formatted_code = \"def get_new_srm(\\n    current_srm, res_gsat, target, forcing_temp_scaling=2, forcing_lag_years=3\\n):\\n    current_srm_ts = current_srm.timeseries(time_axis=\\\"year\\\")\\n    years = current_srm_ts.columns.values.squeeze()\\n    # get temperature difference of iteration before\\n    temp_difference = res_gsat.subtract(\\n        target, op_cols={\\\"scenario\\\": \\\"res - target\\\", \\\"iteration\\\": -1}\\n    ).values.squeeze()\\n    # the smaller the temperature difference the smaller the adjustment in that iteration\\n    forcing_adjustments = -temp_difference / forcing_temp_scaling\\n    # force the adjustments to zero if the temperature difference is below a certain threshold removes the oscillations\\n    close_years = np.abs(temp_difference) < 0.02\\n    if close_years.all():\\n        return \\\"converged\\\"\\n\\n    forcing_adjustments[np.where(close_years)] = 0\\n    ## adjusts to change forcing `forcing_lag_years` years before the actual temperature difference\\n    forcing_adjustments = np.concatenate(\\n        [forcing_adjustments[forcing_lag_years:], np.zeros(forcing_lag_years)]\\n    )\\n    # set all forcing changes before START_SRM_YEAR to 0\\n    forcing_adjustments[: START_SRM_YEAR - common_cfgs[\\\"startyear\\\"]] = 0\\n\\n    new_forcing = current_srm_ts + forcing_adjustments\\n\\n    return new_forcing\";\n",
       "                var nbb_cells = Jupyter.notebook.get_cells();\n",
       "                for (var i = 0; i < nbb_cells.length; ++i) {\n",
       "                    if (nbb_cells[i].input_prompt_number == nbb_cell_id) {\n",
       "                        if (nbb_cells[i].get_text() == nbb_unformatted_code) {\n",
       "                             nbb_cells[i].set_text(nbb_formatted_code);\n",
       "                        }\n",
       "                        break;\n",
       "                    }\n",
       "                }\n",
       "            }, 500);\n",
       "            "
      ],
      "text/plain": [
       "<IPython.core.display.Javascript object>"
      ]
     },
     "metadata": {},
     "output_type": "display_data"
    }
   ],
   "source": [
    "def get_new_srm(\n",
    "    current_srm, res_gsat, target, forcing_temp_scaling=2, forcing_lag_years=3\n",
    "):\n",
    "    current_srm_ts = current_srm.timeseries(time_axis=\"year\")\n",
    "    years = current_srm_ts.columns.values.squeeze()\n",
    "    # get temperature difference of iteration before\n",
    "    temp_difference = res_gsat.subtract(\n",
    "        target, op_cols={\"scenario\": \"res - target\", \"iteration\": -1}\n",
    "    ).values.squeeze()\n",
    "    # the smaller the temperature difference the smaller the adjustment in that iteration\n",
    "    forcing_adjustments = -temp_difference / forcing_temp_scaling\n",
    "    # force the adjustments to zero if the temperature difference is below a certain threshold removes the oscillations\n",
    "    close_years = np.abs(temp_difference) < 0.02\n",
    "    if close_years.all():\n",
    "        return \"converged\"\n",
    "\n",
    "    forcing_adjustments[np.where(close_years)] = 0\n",
    "    ## adjusts to change forcing `forcing_lag_years` years before the actual temperature difference\n",
    "    forcing_adjustments = np.concatenate(\n",
    "        [forcing_adjustments[forcing_lag_years:], np.zeros(forcing_lag_years)]\n",
    "    )\n",
    "    # set all forcing changes before START_SRM_YEAR to 0\n",
    "    forcing_adjustments[: START_SRM_YEAR - common_cfgs[\"startyear\"]] = 0\n",
    "\n",
    "    new_forcing = current_srm_ts + forcing_adjustments\n",
    "\n",
    "    return new_forcing"
   ]
  },
  {
   "cell_type": "code",
   "execution_count": 27,
   "id": "0bb8e769",
   "metadata": {},
   "outputs": [
    {
     "data": {
      "application/javascript": [
       "\n",
       "            setTimeout(function() {\n",
       "                var nbb_cell_id = 27;\n",
       "                var nbb_unformatted_code = \"def write_qextra_file(forcing, out_file):\\n    ## overwrite the last 5 years to remove the oscillations\\n    for y in list(range(2496, 2500 + 1)):\\n        forcing[y] = forcing[2495]\\n\\n    forcing = pymagicc.io.MAGICCData(forcing)\\n    forcing[\\\"todo\\\"] = \\\"SET\\\"\\n    forcing.metadata[\\\"header\\\"] = \\\"Prescribed forcing file\\\"\\n    forcing[\\\"ensemble_member\\\"] = ENSEMBLE_MEMBER\\n\\n    forcing.write(out_file, magicc_version=7)\";\n",
       "                var nbb_formatted_code = \"def write_qextra_file(forcing, out_file):\\n    ## overwrite the last 5 years to remove the oscillations\\n    for y in list(range(2496, 2500 + 1)):\\n        forcing[y] = forcing[2495]\\n\\n    forcing = pymagicc.io.MAGICCData(forcing)\\n    forcing[\\\"todo\\\"] = \\\"SET\\\"\\n    forcing.metadata[\\\"header\\\"] = \\\"Prescribed forcing file\\\"\\n    forcing[\\\"ensemble_member\\\"] = ENSEMBLE_MEMBER\\n\\n    forcing.write(out_file, magicc_version=7)\";\n",
       "                var nbb_cells = Jupyter.notebook.get_cells();\n",
       "                for (var i = 0; i < nbb_cells.length; ++i) {\n",
       "                    if (nbb_cells[i].input_prompt_number == nbb_cell_id) {\n",
       "                        if (nbb_cells[i].get_text() == nbb_unformatted_code) {\n",
       "                             nbb_cells[i].set_text(nbb_formatted_code);\n",
       "                        }\n",
       "                        break;\n",
       "                    }\n",
       "                }\n",
       "            }, 500);\n",
       "            "
      ],
      "text/plain": [
       "<IPython.core.display.Javascript object>"
      ]
     },
     "metadata": {},
     "output_type": "display_data"
    }
   ],
   "source": [
    "def write_qextra_file(forcing, out_file):\n",
    "    ## overwrite the last 5 years to remove the oscillations\n",
    "    for y in list(range(2496, 2500 + 1)):\n",
    "        forcing[y] = forcing[2495]\n",
    "\n",
    "    forcing = pymagicc.io.MAGICCData(forcing)\n",
    "    forcing[\"todo\"] = \"SET\"\n",
    "    forcing.metadata[\"header\"] = \"Prescribed forcing file\"\n",
    "    forcing[\"ensemble_member\"] = ENSEMBLE_MEMBER\n",
    "\n",
    "    forcing.write(out_file, magicc_version=7)"
   ]
  },
  {
   "cell_type": "code",
   "execution_count": 28,
   "id": "2b349868",
   "metadata": {},
   "outputs": [
    {
     "data": {
      "application/javascript": [
       "\n",
       "            setTimeout(function() {\n",
       "                var nbb_cell_id = 28;\n",
       "                var nbb_unformatted_code = \"# res_raw = output of original scenario\\nres = res_raw_first_run.copy()\";\n",
       "                var nbb_formatted_code = \"# res_raw = output of original scenario\\nres = res_raw_first_run.copy()\";\n",
       "                var nbb_cells = Jupyter.notebook.get_cells();\n",
       "                for (var i = 0; i < nbb_cells.length; ++i) {\n",
       "                    if (nbb_cells[i].input_prompt_number == nbb_cell_id) {\n",
       "                        if (nbb_cells[i].get_text() == nbb_unformatted_code) {\n",
       "                             nbb_cells[i].set_text(nbb_formatted_code);\n",
       "                        }\n",
       "                        break;\n",
       "                    }\n",
       "                }\n",
       "            }, 500);\n",
       "            "
      ],
      "text/plain": [
       "<IPython.core.display.Javascript object>"
      ]
     },
     "metadata": {},
     "output_type": "display_data"
    }
   ],
   "source": [
    "# res_raw = output of original scenario\n",
    "res = res_raw_first_run.copy()"
   ]
  },
  {
   "cell_type": "code",
   "execution_count": 29,
   "id": "8ce9c28e",
   "metadata": {
    "scrolled": false
   },
   "outputs": [
    {
     "data": {
      "image/png": "[encoded data removed]",
      "text/plain": [
       "<Figure size 1200x500 with 2 Axes>"
      ]
     },
     "metadata": {},
     "output_type": "display_data"
    },
    {
     "name": "stdout",
     "output_type": "stream",
     "text": [
      "Iteration: 0\n"
     ]
    },
    {
     "data": {
      "application/vnd.jupyter.widget-view+json": {
       "model_id": "b30efa6acb464b55b9f3808b4bb052aa",
       "version_major": 2,
       "version_minor": 0
      },
      "text/plain": [
       "Climate models:   0%|          | 0.00/1.00 [00:00<?, ?it/s]"
      ]
     },
     "metadata": {},
     "output_type": "display_data"
    },
    {
     "name": "stderr",
     "output_type": "stream",
     "text": [
      "Historical data has not been checked\n"
     ]
    },
    {
     "data": {
      "application/vnd.jupyter.widget-view+json": {
       "model_id": "c38a46db98ca412aa8b41b293e140e66",
       "version_major": 2,
       "version_minor": 0
      },
      "text/plain": [
       "Writing SCEN7 files:   0%|          | 0.00/1.00 [00:00<?, ?it/s]"
      ]
     },
     "metadata": {},
     "output_type": "display_data"
    },
    {
     "data": {
      "application/vnd.jupyter.widget-view+json": {
       "model_id": "3631f54990144ab1ad5258144d20dd7b",
       "version_major": 2,
       "version_minor": 0
      },
      "text/plain": [
       "Front serial:   0%|          | 0.00/1.00 [00:00<?, ?it/s]"
      ]
     },
     "metadata": {},
     "output_type": "display_data"
    },
    {
     "data": {
      "application/vnd.jupyter.widget-view+json": {
       "model_id": "efee7c621e564379b203a9b8e307140f",
       "version_major": 2,
       "version_minor": 0
      },
      "text/plain": [
       "Front parallel: 0.00it [00:00, ?it/s]"
      ]
     },
     "metadata": {},
     "output_type": "display_data"
    },
    {
     "data": {
      "application/vnd.jupyter.widget-view+json": {
       "model_id": "a5e16be3c22141408cb92f425fb08490",
       "version_major": 2,
       "version_minor": 0
      },
      "text/plain": [
       "Parallel runs: 0.00it [00:00, ?it/s]"
      ]
     },
     "metadata": {},
     "output_type": "display_data"
    },
    {
     "data": {
      "image/png": "[encoded data removed]",
      "text/plain": [
       "<Figure size 1200x500 with 2 Axes>"
      ]
     },
     "metadata": {},
     "output_type": "display_data"
    },
    {
     "data": {
      "application/javascript": [
       "\n",
       "            setTimeout(function() {\n",
       "                var nbb_cell_id = 29;\n",
       "                var nbb_unformatted_code = \"# papermill_description=iteration\\n\\nN_STEPS = 1\\n\\nfig, axes = plt.subplots(figsize=(12, 5), nrows=2, sharex=True)\\nholder = display(fig, display_id=True)\\n\\naxes_vars = (\\n    (axes[0], [\\\"*Forcing*\\\"]),\\n    (axes[1], [\\\"*Temperature*\\\"]),\\n)\\n\\npyears = range(1750, 2500 + 1)\\n\\ncurrent_srm = scmdata.ScmRun(\\n    res_raw_first_run.filter(variable=\\\"*Forcing*\\\", region=\\\"World\\\").timeseries() * 0\\n)\\ncurrent_srm[\\\"variable\\\"] = \\\"Radiative Forcing|Extra\\\"\\n\\nall_srms = current_srm.copy()\\n\\n\\nextra_rf_file = os.path.join(\\n    os.path.dirname(os.environ[\\\"MAGICC_EXECUTABLE_7\\\"]),\\n    \\\"..\\\",\\n    \\\"run\\\",\\n    \\\"15_SRM-ERF_trajectories\\\",\\n    str(ENSEMBLE_MEMBER) + \\\"_\\\" + str(START_SRM_YEAR) + \\\"_EXTRA_RF.IN\\\",\\n)\\n\\nfor i in range(N_STEPS):\\n    print(f\\\"Iteration: {i}\\\")\\n    last_iteration = max(\\n        res.get_unique_meta(\\\"iteration\\\")\\n    )  # always get last iteration to continue building on\\n\\n    # get new forcing\\n    current_srm = get_new_srm(\\n        all_srms.filter(iteration=last_iteration),\\n        res.filter(variable=\\\"*Temp*\\\", region=\\\"World\\\", iteration=last_iteration),\\n        target,\\n        forcing_temp_scaling=2,\\n        forcing_lag_years=1,\\n    )\\n    if isinstance(current_srm, str) and current_srm == \\\"converged\\\":\\n        print(\\\"Converged, exiting now\\\")\\n        break\\n\\n    write_qextra_file(current_srm, extra_rf_file)\\n\\n    run_cfg = [\\n        {\\n            **first_run_config,\\n            \\\"RUNNAME\\\": scenario,\\n            **overrides,\\n            \\\"RF_EXTRA_READ\\\".lower(): 1,\\n            \\\"FILE_EXTRA_RF\\\": extra_rf_file,\\n        }\\n    ]\\n    out_config = {\\\"MAGICC7\\\": (\\\"RUNNAME\\\",)}\\n\\n    res_raw = openscm_runner.run(\\n        {\\\"MAGICC7\\\": run_cfg},\\n        # emissions ignored because of config but have to put\\n        # something in for OpenSCM-Runner\\n        scenario_emissions,\\n        output_variables=openscm_runner_output_names,\\n        out_config=out_config,\\n    )\\n    res_raw[\\\"iteration\\\"] = last_iteration + 1\\n    current_srm[\\\"iteration\\\"] = last_iteration + 1\\n\\n    # append each iteration to res\\n    res = scmdata.run_append([res, res_raw])\\n    all_srms = scmdata.run_append([all_srms, scmdata.ScmRun(current_srm)])\\n\\n    plot_res(\\n        res.filter(region=\\\"World\\\").filter(year=pyears),\\n        axes_vars,\\n        target_temperature=target.filter(year=pyears),\\n    )\\n\\n    holder.update(fig)\\n\\n# save_path = Path(plots_folder / f\\\"{str(ENSEMBLE_MEMBER)}_{str(START_SRM_YEAR)}.png\\\")\\n# plt.savefig(save_path)\";\n",
       "                var nbb_formatted_code = \"# papermill_description=iteration\\n\\nN_STEPS = 1\\n\\nfig, axes = plt.subplots(figsize=(12, 5), nrows=2, sharex=True)\\nholder = display(fig, display_id=True)\\n\\naxes_vars = (\\n    (axes[0], [\\\"*Forcing*\\\"]),\\n    (axes[1], [\\\"*Temperature*\\\"]),\\n)\\n\\npyears = range(1750, 2500 + 1)\\n\\ncurrent_srm = scmdata.ScmRun(\\n    res_raw_first_run.filter(variable=\\\"*Forcing*\\\", region=\\\"World\\\").timeseries() * 0\\n)\\ncurrent_srm[\\\"variable\\\"] = \\\"Radiative Forcing|Extra\\\"\\n\\nall_srms = current_srm.copy()\\n\\n\\nextra_rf_file = os.path.join(\\n    os.path.dirname(os.environ[\\\"MAGICC_EXECUTABLE_7\\\"]),\\n    \\\"..\\\",\\n    \\\"run\\\",\\n    \\\"15_SRM-ERF_trajectories\\\",\\n    str(ENSEMBLE_MEMBER) + \\\"_\\\" + str(START_SRM_YEAR) + \\\"_EXTRA_RF.IN\\\",\\n)\\n\\nfor i in range(N_STEPS):\\n    print(f\\\"Iteration: {i}\\\")\\n    last_iteration = max(\\n        res.get_unique_meta(\\\"iteration\\\")\\n    )  # always get last iteration to continue building on\\n\\n    # get new forcing\\n    current_srm = get_new_srm(\\n        all_srms.filter(iteration=last_iteration),\\n        res.filter(variable=\\\"*Temp*\\\", region=\\\"World\\\", iteration=last_iteration),\\n        target,\\n        forcing_temp_scaling=2,\\n        forcing_lag_years=1,\\n    )\\n    if isinstance(current_srm, str) and current_srm == \\\"converged\\\":\\n        print(\\\"Converged, exiting now\\\")\\n        break\\n\\n    write_qextra_file(current_srm, extra_rf_file)\\n\\n    run_cfg = [\\n        {\\n            **first_run_config,\\n            \\\"RUNNAME\\\": scenario,\\n            **overrides,\\n            \\\"RF_EXTRA_READ\\\".lower(): 1,\\n            \\\"FILE_EXTRA_RF\\\": extra_rf_file,\\n        }\\n    ]\\n    out_config = {\\\"MAGICC7\\\": (\\\"RUNNAME\\\",)}\\n\\n    res_raw = openscm_runner.run(\\n        {\\\"MAGICC7\\\": run_cfg},\\n        # emissions ignored because of config but have to put\\n        # something in for OpenSCM-Runner\\n        scenario_emissions,\\n        output_variables=openscm_runner_output_names,\\n        out_config=out_config,\\n    )\\n    res_raw[\\\"iteration\\\"] = last_iteration + 1\\n    current_srm[\\\"iteration\\\"] = last_iteration + 1\\n\\n    # append each iteration to res\\n    res = scmdata.run_append([res, res_raw])\\n    all_srms = scmdata.run_append([all_srms, scmdata.ScmRun(current_srm)])\\n\\n    plot_res(\\n        res.filter(region=\\\"World\\\").filter(year=pyears),\\n        axes_vars,\\n        target_temperature=target.filter(year=pyears),\\n    )\\n\\n    holder.update(fig)\\n\\n# save_path = Path(plots_folder / f\\\"{str(ENSEMBLE_MEMBER)}_{str(START_SRM_YEAR)}.png\\\")\\n# plt.savefig(save_path)\";\n",
       "                var nbb_cells = Jupyter.notebook.get_cells();\n",
       "                for (var i = 0; i < nbb_cells.length; ++i) {\n",
       "                    if (nbb_cells[i].input_prompt_number == nbb_cell_id) {\n",
       "                        if (nbb_cells[i].get_text() == nbb_unformatted_code) {\n",
       "                             nbb_cells[i].set_text(nbb_formatted_code);\n",
       "                        }\n",
       "                        break;\n",
       "                    }\n",
       "                }\n",
       "            }, 500);\n",
       "            "
      ],
      "text/plain": [
       "<IPython.core.display.Javascript object>"
      ]
     },
     "metadata": {},
     "output_type": "display_data"
    }
   ],
   "source": [
    "# papermill_description=iteration\n",
    "\n",
    "N_STEPS = 15\n",
    "\n",
    "fig, axes = plt.subplots(figsize=(12, 5), nrows=2, sharex=True)\n",
    "holder = display(fig, display_id=True)\n",
    "\n",
    "axes_vars = (\n",
    "    (axes[0], [\"*Forcing*\"]),\n",
    "    (axes[1], [\"*Temperature*\"]),\n",
    ")\n",
    "\n",
    "pyears = range(1750, 2500 + 1)\n",
    "\n",
    "current_srm = scmdata.ScmRun(\n",
    "    res_raw_first_run.filter(variable=\"*Forcing*\", region=\"World\").timeseries() * 0\n",
    ")\n",
    "current_srm[\"variable\"] = \"Radiative Forcing|Extra\"\n",
    "\n",
    "all_srms = current_srm.copy()\n",
    "\n",
    "\n",
    "extra_rf_file = os.path.join(\n",
    "    os.path.dirname(os.environ[\"MAGICC_EXECUTABLE_7\"]),\n",
    "    \"..\",\n",
    "    \"run\",\n",
    "    \"15_SRM-ERF_trajectories\",\n",
    "    str(ENSEMBLE_MEMBER) + \"_\" + str(START_SRM_YEAR) + \"_EXTRA_RF.IN\",\n",
    ")\n",
    "\n",
    "for i in range(N_STEPS):\n",
    "    print(f\"Iteration: {i}\")\n",
    "    last_iteration = max(\n",
    "        res.get_unique_meta(\"iteration\")\n",
    "    )  # always get last iteration to continue building on\n",
    "\n",
    "    # get new forcing\n",
    "    current_srm = get_new_srm(\n",
    "        all_srms.filter(iteration=last_iteration),\n",
    "        res.filter(variable=\"*Temp*\", region=\"World\", iteration=last_iteration),\n",
    "        target,\n",
    "        forcing_temp_scaling=2,\n",
    "        forcing_lag_years=1,\n",
    "    )\n",
    "    if isinstance(current_srm, str) and current_srm == \"converged\":\n",
    "        print(\"Converged, exiting now\")\n",
    "        break\n",
    "\n",
    "    write_qextra_file(current_srm, extra_rf_file)\n",
    "\n",
    "    run_cfg = [\n",
    "        {\n",
    "            **first_run_config,\n",
    "            \"RUNNAME\": scenario,\n",
    "            **overrides,\n",
    "            \"RF_EXTRA_READ\".lower(): 1,\n",
    "            \"FILE_EXTRA_RF\": extra_rf_file,\n",
    "        }\n",
    "    ]\n",
    "    out_config = {\"MAGICC7\": (\"RUNNAME\",)}\n",
    "\n",
    "    res_raw = openscm_runner.run(\n",
    "        {\"MAGICC7\": run_cfg},\n",
    "        # emissions ignored because of config but have to put\n",
    "        # something in for OpenSCM-Runner\n",
    "        scenario_emissions,\n",
    "        output_variables=openscm_runner_output_names,\n",
    "        out_config=out_config,\n",
    "    )\n",
    "    res_raw[\"iteration\"] = last_iteration + 1\n",
    "    current_srm[\"iteration\"] = last_iteration + 1\n",
    "\n",
    "    # append each iteration to res\n",
    "    res = scmdata.run_append([res, res_raw])\n",
    "    all_srms = scmdata.run_append([all_srms, scmdata.ScmRun(current_srm)])\n",
    "\n",
    "    plot_res(\n",
    "        res.filter(region=\"World\").filter(year=pyears),\n",
    "        axes_vars,\n",
    "        target_temperature=target.filter(year=pyears),\n",
    "    )\n",
    "\n",
    "    holder.update(fig)\n",
    "\n",
    "# save_path = Path(plots_folder / f\"{str(ENSEMBLE_MEMBER)}_{str(START_SRM_YEAR)}.png\")\n",
    "# plt.savefig(save_path)"
   ]
  },
  {
   "cell_type": "code",
   "execution_count": 30,
   "id": "9c690490",
   "metadata": {},
   "outputs": [
    {
     "name": "stderr",
     "output_type": "stream",
     "text": [
      "Filtered ScmRun is empty!\n",
      "Stack (most recent call last):\n",
      "  File \"/data/ubuntu-znicholls/miniconda3/envs/baur-et-al-srm-commitment/lib/python3.9/runpy.py\", line 197, in _run_module_as_main\n",
      "    return _run_code(code, main_globals, None,\n",
      "  File \"/data/ubuntu-znicholls/miniconda3/envs/baur-et-al-srm-commitment/lib/python3.9/runpy.py\", line 87, in _run_code\n",
      "    exec(code, run_globals)\n",
      "  File \"/data/ubuntu-znicholls/miniconda3/envs/baur-et-al-srm-commitment/lib/python3.9/site-packages/ipykernel_launcher.py\", line 17, in <module>\n",
      "    app.launch_new_instance()\n",
      "  File \"/data/ubuntu-znicholls/miniconda3/envs/baur-et-al-srm-commitment/lib/python3.9/site-packages/traitlets/config/application.py\", line 992, in launch_instance\n",
      "    app.start()\n",
      "  File \"/data/ubuntu-znicholls/miniconda3/envs/baur-et-al-srm-commitment/lib/python3.9/site-packages/ipykernel/kernelapp.py\", line 711, in start\n",
      "    self.io_loop.start()\n",
      "  File \"/data/ubuntu-znicholls/miniconda3/envs/baur-et-al-srm-commitment/lib/python3.9/site-packages/tornado/platform/asyncio.py\", line 215, in start\n",
      "    self.asyncio_loop.run_forever()\n",
      "  File \"/data/ubuntu-znicholls/miniconda3/envs/baur-et-al-srm-commitment/lib/python3.9/asyncio/base_events.py\", line 601, in run_forever\n",
      "    self._run_once()\n",
      "  File \"/data/ubuntu-znicholls/miniconda3/envs/baur-et-al-srm-commitment/lib/python3.9/asyncio/base_events.py\", line 1905, in _run_once\n",
      "    handle._run()\n",
      "  File \"/data/ubuntu-znicholls/miniconda3/envs/baur-et-al-srm-commitment/lib/python3.9/asyncio/events.py\", line 80, in _run\n",
      "    self._context.run(self._callback, *self._args)\n",
      "  File \"/data/ubuntu-znicholls/miniconda3/envs/baur-et-al-srm-commitment/lib/python3.9/site-packages/ipykernel/kernelbase.py\", line 510, in dispatch_queue\n",
      "    await self.process_one()\n",
      "  File \"/data/ubuntu-znicholls/miniconda3/envs/baur-et-al-srm-commitment/lib/python3.9/site-packages/ipykernel/kernelbase.py\", line 499, in process_one\n",
      "    await dispatch(*args)\n",
      "  File \"/data/ubuntu-znicholls/miniconda3/envs/baur-et-al-srm-commitment/lib/python3.9/site-packages/ipykernel/kernelbase.py\", line 406, in dispatch_shell\n",
      "    await result\n",
      "  File \"/data/ubuntu-znicholls/miniconda3/envs/baur-et-al-srm-commitment/lib/python3.9/site-packages/ipykernel/kernelbase.py\", line 729, in execute_request\n",
      "    reply_content = await reply_content\n",
      "  File \"/data/ubuntu-znicholls/miniconda3/envs/baur-et-al-srm-commitment/lib/python3.9/site-packages/ipykernel/ipkernel.py\", line 411, in do_execute\n",
      "    res = shell.run_cell(\n",
      "  File \"/data/ubuntu-znicholls/miniconda3/envs/baur-et-al-srm-commitment/lib/python3.9/site-packages/ipykernel/zmqshell.py\", line 531, in run_cell\n",
      "    return super().run_cell(*args, **kwargs)\n",
      "  File \"/data/ubuntu-znicholls/miniconda3/envs/baur-et-al-srm-commitment/lib/python3.9/site-packages/IPython/core/interactiveshell.py\", line 2940, in run_cell\n",
      "    result = self._run_cell(\n",
      "  File \"/data/ubuntu-znicholls/miniconda3/envs/baur-et-al-srm-commitment/lib/python3.9/site-packages/IPython/core/interactiveshell.py\", line 2995, in _run_cell\n",
      "    return runner(coro)\n",
      "  File \"/data/ubuntu-znicholls/miniconda3/envs/baur-et-al-srm-commitment/lib/python3.9/site-packages/IPython/core/async_helpers.py\", line 129, in _pseudo_sync_runner\n",
      "    coro.send(None)\n",
      "  File \"/data/ubuntu-znicholls/miniconda3/envs/baur-et-al-srm-commitment/lib/python3.9/site-packages/IPython/core/interactiveshell.py\", line 3194, in run_cell_async\n",
      "    has_raised = await self.run_ast_nodes(code_ast.body, cell_name,\n",
      "  File \"/data/ubuntu-znicholls/miniconda3/envs/baur-et-al-srm-commitment/lib/python3.9/site-packages/IPython/core/interactiveshell.py\", line 3373, in run_ast_nodes\n",
      "    if await self.run_code(code, result, async_=asy):\n",
      "  File \"/data/ubuntu-znicholls/miniconda3/envs/baur-et-al-srm-commitment/lib/python3.9/site-packages/IPython/core/interactiveshell.py\", line 3433, in run_code\n",
      "    exec(code_obj, self.user_global_ns, self.user_ns)\n",
      "  File \"/tmp/ipykernel_52371/520632681.py\", line 1, in <module>\n",
      "    res.filter(iteration=15, region=\"World\").tail()\n",
      "  File \"/data/ubuntu-znicholls/miniconda3/envs/baur-et-al-srm-commitment/lib/python3.9/site-packages/scmdata/run.py\", line 1124, in filter\n",
      "    _logger.warning(\"Filtered ScmRun is empty!\", stack_info=True)\n"
     ]
    },
    {
     "data": {
      "text/html": [
       "<div>\n",
       "<style scoped>\n",
       "    .dataframe tbody tr th:only-of-type {\n",
       "        vertical-align: middle;\n",
       "    }\n",
       "\n",
       "    .dataframe tbody tr th {\n",
       "        vertical-align: top;\n",
       "    }\n",
       "\n",
       "    .dataframe thead th {\n",
       "        text-align: right;\n",
       "    }\n",
       "</style>\n",
       "<table border=\"1\" class=\"dataframe\">\n",
       "  <thead>\n",
       "    <tr style=\"text-align: right;\">\n",
       "      <th></th>\n",
       "      <th></th>\n",
       "      <th></th>\n",
       "      <th></th>\n",
       "      <th></th>\n",
       "      <th></th>\n",
       "      <th></th>\n",
       "      <th></th>\n",
       "      <th>time</th>\n",
       "      <th>1750-01-01 00:00:00</th>\n",
       "      <th>1751-01-01 00:00:00</th>\n",
       "      <th>1752-01-01 00:00:00</th>\n",
       "      <th>1753-01-01 00:00:00</th>\n",
       "      <th>1754-01-01 00:00:00</th>\n",
       "      <th>1755-01-01 00:00:00</th>\n",
       "      <th>1756-01-01 00:00:00</th>\n",
       "      <th>1757-01-01 00:00:00</th>\n",
       "      <th>1758-01-01 00:00:00</th>\n",
       "      <th>1759-01-01 00:00:00</th>\n",
       "      <th>...</th>\n",
       "      <th>2491-01-01 00:00:00</th>\n",
       "      <th>2492-01-01 00:00:00</th>\n",
       "      <th>2493-01-01 00:00:00</th>\n",
       "      <th>2494-01-01 00:00:00</th>\n",
       "      <th>2495-01-01 00:00:00</th>\n",
       "      <th>2496-01-01 00:00:00</th>\n",
       "      <th>2497-01-01 00:00:00</th>\n",
       "      <th>2498-01-01 00:00:00</th>\n",
       "      <th>2499-01-01 00:00:00</th>\n",
       "      <th>2500-01-01 00:00:00</th>\n",
       "    </tr>\n",
       "    <tr>\n",
       "      <th>RUNNAME</th>\n",
       "      <th>climate_model</th>\n",
       "      <th>iteration</th>\n",
       "      <th>model</th>\n",
       "      <th>region</th>\n",
       "      <th>run_id</th>\n",
       "      <th>scenario</th>\n",
       "      <th>unit</th>\n",
       "      <th>variable</th>\n",
       "      <th></th>\n",
       "      <th></th>\n",
       "      <th></th>\n",
       "      <th></th>\n",
       "      <th></th>\n",
       "      <th></th>\n",
       "      <th></th>\n",
       "      <th></th>\n",
       "      <th></th>\n",
       "      <th></th>\n",
       "      <th></th>\n",
       "      <th></th>\n",
       "      <th></th>\n",
       "      <th></th>\n",
       "      <th></th>\n",
       "      <th></th>\n",
       "      <th></th>\n",
       "      <th></th>\n",
       "      <th></th>\n",
       "      <th></th>\n",
       "      <th></th>\n",
       "    </tr>\n",
       "  </thead>\n",
       "  <tbody>\n",
       "  </tbody>\n",
       "</table>\n",
       "<p>0 rows × 751 columns</p>\n",
       "</div>"
      ],
      "text/plain": [
       "Empty DataFrame\n",
       "Columns: [1750-01-01 00:00:00, 1751-01-01 00:00:00, 1752-01-01 00:00:00, 1753-01-01 00:00:00, 1754-01-01 00:00:00, 1755-01-01 00:00:00, 1756-01-01 00:00:00, 1757-01-01 00:00:00, 1758-01-01 00:00:00, 1759-01-01 00:00:00, 1760-01-01 00:00:00, 1761-01-01 00:00:00, 1762-01-01 00:00:00, 1763-01-01 00:00:00, 1764-01-01 00:00:00, 1765-01-01 00:00:00, 1766-01-01 00:00:00, 1767-01-01 00:00:00, 1768-01-01 00:00:00, 1769-01-01 00:00:00, 1770-01-01 00:00:00, 1771-01-01 00:00:00, 1772-01-01 00:00:00, 1773-01-01 00:00:00, 1774-01-01 00:00:00, 1775-01-01 00:00:00, 1776-01-01 00:00:00, 1777-01-01 00:00:00, 1778-01-01 00:00:00, 1779-01-01 00:00:00, 1780-01-01 00:00:00, 1781-01-01 00:00:00, 1782-01-01 00:00:00, 1783-01-01 00:00:00, 1784-01-01 00:00:00, 1785-01-01 00:00:00, 1786-01-01 00:00:00, 1787-01-01 00:00:00, 1788-01-01 00:00:00, 1789-01-01 00:00:00, 1790-01-01 00:00:00, 1791-01-01 00:00:00, 1792-01-01 00:00:00, 1793-01-01 00:00:00, 1794-01-01 00:00:00, 1795-01-01 00:00:00, 1796-01-01 00:00:00, 1797-01-01 00:00:00, 1798-01-01 00:00:00, 1799-01-01 00:00:00, 1800-01-01 00:00:00, 1801-01-01 00:00:00, 1802-01-01 00:00:00, 1803-01-01 00:00:00, 1804-01-01 00:00:00, 1805-01-01 00:00:00, 1806-01-01 00:00:00, 1807-01-01 00:00:00, 1808-01-01 00:00:00, 1809-01-01 00:00:00, 1810-01-01 00:00:00, 1811-01-01 00:00:00, 1812-01-01 00:00:00, 1813-01-01 00:00:00, 1814-01-01 00:00:00, 1815-01-01 00:00:00, 1816-01-01 00:00:00, 1817-01-01 00:00:00, 1818-01-01 00:00:00, 1819-01-01 00:00:00, 1820-01-01 00:00:00, 1821-01-01 00:00:00, 1822-01-01 00:00:00, 1823-01-01 00:00:00, 1824-01-01 00:00:00, 1825-01-01 00:00:00, 1826-01-01 00:00:00, 1827-01-01 00:00:00, 1828-01-01 00:00:00, 1829-01-01 00:00:00, 1830-01-01 00:00:00, 1831-01-01 00:00:00, 1832-01-01 00:00:00, 1833-01-01 00:00:00, 1834-01-01 00:00:00, 1835-01-01 00:00:00, 1836-01-01 00:00:00, 1837-01-01 00:00:00, 1838-01-01 00:00:00, 1839-01-01 00:00:00, 1840-01-01 00:00:00, 1841-01-01 00:00:00, 1842-01-01 00:00:00, 1843-01-01 00:00:00, 1844-01-01 00:00:00, 1845-01-01 00:00:00, 1846-01-01 00:00:00, 1847-01-01 00:00:00, 1848-01-01 00:00:00, 1849-01-01 00:00:00, ...]\n",
       "Index: []\n",
       "\n",
       "[0 rows x 751 columns]"
      ]
     },
     "execution_count": 30,
     "metadata": {},
     "output_type": "execute_result"
    },
    {
     "data": {
      "application/javascript": [
       "\n",
       "            setTimeout(function() {\n",
       "                var nbb_cell_id = 30;\n",
       "                var nbb_unformatted_code = \"res.filter(iteration=15, region=\\\"World\\\").tail()\";\n",
       "                var nbb_formatted_code = \"res.filter(iteration=15, region=\\\"World\\\").tail()\";\n",
       "                var nbb_cells = Jupyter.notebook.get_cells();\n",
       "                for (var i = 0; i < nbb_cells.length; ++i) {\n",
       "                    if (nbb_cells[i].input_prompt_number == nbb_cell_id) {\n",
       "                        if (nbb_cells[i].get_text() == nbb_unformatted_code) {\n",
       "                             nbb_cells[i].set_text(nbb_formatted_code);\n",
       "                        }\n",
       "                        break;\n",
       "                    }\n",
       "                }\n",
       "            }, 500);\n",
       "            "
      ],
      "text/plain": [
       "<IPython.core.display.Javascript object>"
      ]
     },
     "metadata": {},
     "output_type": "display_data"
    }
   ],
   "source": [
    "res.filter(iteration=15, region=\"World\").tail()"
   ]
  },
  {
   "cell_type": "code",
   "execution_count": 33,
   "id": "eff728c8",
   "metadata": {},
   "outputs": [
    {
     "data": {
      "application/javascript": [
       "\n",
       "            setTimeout(function() {\n",
       "                var nbb_cell_id = 33;\n",
       "                var nbb_unformatted_code = \"# save final ERF output of 1.5-trajectory\\nlast_iteration = max(res.get_unique_meta(\\\"iteration\\\"))\\n\\n\\ndef save_csv_output(var, var_abbr, var_long):\\n    global_last_iteration = res.filter(\\n        iteration=last_iteration, region=\\\"World\\\", variable=var\\n    )\\n    global_last_iteration[\\\"ensemble_member\\\"] = ENSEMBLE_MEMBER\\n\\n    global_last_iteration.to_csv(\\n        os.path.join(\\n            utils.DATA_DIR,\\n            f\\\"15_{var_abbr}_trajectories\\\",\\n            f\\\"{str(ENSEMBLE_MEMBER)}_{str(START_SRM_YEAR)}_{var_long}.csv\\\",\\n        )\\n    )\\n\\n\\nsave_csv_output(\\\"Effective Radiative Forcing\\\", \\\"ERF\\\", \\\"EXTRA_RF\\\")\\nsave_csv_output(\\\"Surface Air Temperature Change\\\", \\\"T\\\", \\\"SURFACE_TEMP\\\")\";\n",
       "                var nbb_formatted_code = \"# save final ERF output of 1.5-trajectory\\nlast_iteration = max(res.get_unique_meta(\\\"iteration\\\"))\\n\\n\\ndef save_csv_output(var, var_abbr, var_long):\\n    global_last_iteration = res.filter(\\n        iteration=last_iteration, region=\\\"World\\\", variable=var\\n    )\\n    global_last_iteration[\\\"ensemble_member\\\"] = ENSEMBLE_MEMBER\\n\\n    global_last_iteration.to_csv(\\n        os.path.join(\\n            utils.DATA_DIR,\\n            f\\\"15_{var_abbr}_trajectories\\\",\\n            f\\\"{str(ENSEMBLE_MEMBER)}_{str(START_SRM_YEAR)}_{var_long}.csv\\\",\\n        )\\n    )\\n\\n\\nsave_csv_output(\\\"Effective Radiative Forcing\\\", \\\"ERF\\\", \\\"EXTRA_RF\\\")\\nsave_csv_output(\\\"Surface Air Temperature Change\\\", \\\"T\\\", \\\"SURFACE_TEMP\\\")\";\n",
       "                var nbb_cells = Jupyter.notebook.get_cells();\n",
       "                for (var i = 0; i < nbb_cells.length; ++i) {\n",
       "                    if (nbb_cells[i].input_prompt_number == nbb_cell_id) {\n",
       "                        if (nbb_cells[i].get_text() == nbb_unformatted_code) {\n",
       "                             nbb_cells[i].set_text(nbb_formatted_code);\n",
       "                        }\n",
       "                        break;\n",
       "                    }\n",
       "                }\n",
       "            }, 500);\n",
       "            "
      ],
      "text/plain": [
       "<IPython.core.display.Javascript object>"
      ]
     },
     "metadata": {},
     "output_type": "display_data"
    }
   ],
   "source": [
    "# save final ERF output of 1.5-trajectory\n",
    "last_iteration = max(res.get_unique_meta(\"iteration\"))\n",
    "\n",
    "\n",
    "def save_csv_output(var, var_abbr, var_long):\n",
    "    global_last_iteration = res.filter(\n",
    "        iteration=last_iteration, region=\"World\", variable=var\n",
    "    )\n",
    "    global_last_iteration[\"ensemble_member\"] = ENSEMBLE_MEMBER\n",
    "\n",
    "    global_last_iteration.to_csv(\n",
    "        os.path.join(\n",
    "            utils.DATA_DIR,\n",
    "            f\"15_{var_abbr}_trajectories\",\n",
    "            f\"{str(ENSEMBLE_MEMBER)}_{str(START_SRM_YEAR)}_{var_long}.csv\",\n",
    "        )\n",
    "    )\n",
    "\n",
    "\n",
    "save_csv_output(\"Effective Radiative Forcing\", \"ERF\", \"EXTRA_RF\")\n",
    "save_csv_output(\"Surface Air Temperature Change\", \"T\", \"SURFACE_TEMP\")"
   ]
  },
  {
   "cell_type": "code",
   "execution_count": null,
   "id": "686adf43",
   "metadata": {
    "scrolled": true
   },
   "outputs": [],
   "source": [
    "# all_srms.lineplot(hue=\"iteration\")"
   ]
  },
  {
   "cell_type": "code",
   "execution_count": null,
   "id": "9ea614bb",
   "metadata": {},
   "outputs": [],
   "source": [
    "# fig, axes = plt.subplots(nrows=2, sharex=True)\n",
    "\n",
    "# axes_vars = (\n",
    "#    (axes[0], [\"*Forcing*\"]),\n",
    "#    (axes[1], [\"*Temperature*\"]),\n",
    "# )\n",
    "\n",
    "# pyears = range(2020, 2500 + 1)\n",
    "# plot_res(\n",
    "#    res.filter(region=\"World\").filter(year=pyears),\n",
    "#    axes_vars,\n",
    "#    target_temperature=target.filter(year=pyears),\n",
    "# )"
   ]
  }
 ],
 "metadata": {
  "celltoolbar": "Tags",
  "kernelspec": {
   "display_name": "Python 3 (ipykernel)",
   "language": "python",
   "name": "python3"
  },
  "language_info": {
   "codemirror_mode": {
    "name": "ipython",
    "version": 3
   },
   "file_extension": ".py",
   "mimetype": "text/x-python",
   "name": "python",
   "nbconvert_exporter": "python",
   "pygments_lexer": "ipython3",
   "version": "3.9.15"
  }
 },
 "nbformat": 4,
 "nbformat_minor": 5
}
